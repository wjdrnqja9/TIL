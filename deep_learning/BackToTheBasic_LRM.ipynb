{
  "cells": [
    {
      "cell_type": "markdown",
      "metadata": {
        "id": "view-in-github",
        "colab_type": "text"
      },
      "source": [
        "<a href=\"https://colab.research.google.com/github/wjdrnqja9/TIL/blob/main/deep_learning/BackToTheBasic_LRM.ipynb\" target=\"_parent\"><img src=\"https://colab.research.google.com/assets/colab-badge.svg\" alt=\"Open In Colab\"/></a>"
      ]
    },
    {
      "cell_type": "markdown",
      "id": "4c4212ca",
      "metadata": {
        "id": "4c4212ca"
      },
      "source": [
        "!pip3 install pandas<br>\n",
        "!pip3 install numpy<br>\n",
        "!pip3 install matplotlib<br>\n",
        "!pip3 install statsmodels<br>"
      ]
    },
    {
      "cell_type": "code",
      "execution_count": 1,
      "id": "50689322",
      "metadata": {
        "colab": {
          "base_uri": "https://localhost:8080/"
        },
        "id": "50689322",
        "outputId": "3ae31efb-c7e9-4bb1-84ef-2ad093ca1d6d"
      },
      "outputs": [
        {
          "output_type": "stream",
          "name": "stderr",
          "text": [
            "/usr/local/lib/python3.7/dist-packages/statsmodels/tools/_testing.py:19: FutureWarning: pandas.util.testing is deprecated. Use the functions in the public API at pandas.testing instead.\n",
            "  import pandas.util.testing as tm\n"
          ]
        }
      ],
      "source": [
        "import pandas as pd\n",
        "import numpy as np\n",
        "import matplotlib.pyplot as plt\n",
        "import statsmodels.api as sm"
      ]
    },
    {
      "cell_type": "markdown",
      "id": "18bfaf1e",
      "metadata": {
        "id": "18bfaf1e"
      },
      "source": [
        "연속형 임의의 데이터 생성"
      ]
    },
    {
      "cell_type": "code",
      "execution_count": 4,
      "id": "a03a4707",
      "metadata": {
        "id": "a03a4707"
      },
      "outputs": [],
      "source": [
        "np.random.seed(0) # 다른 사람과도 매 번 같은 랜덤값\n",
        "\n",
        "Temperature = np.random.normal(30,3,100)\n",
        "IceAmericano = Temperature + np.random.normal(100,8,100)\n",
        "InteriorPrice = np.random.normal(25,2,100)"
      ]
    },
    {
      "cell_type": "markdown",
      "id": "42ce7863",
      "metadata": {
        "id": "42ce7863"
      },
      "source": [
        "데이터 프레임 형태로 3개 데이터 합치기<br>"
      ]
    },
    {
      "cell_type": "code",
      "execution_count": 5,
      "id": "54813e64",
      "metadata": {
        "id": "54813e64"
      },
      "outputs": [],
      "source": [
        "Data = pd.DataFrame({\n",
        "    'Temp':Temperature,\n",
        "    'Sales':IceAmericano,\n",
        "    'InteriorPrice':InteriorPrice\n",
        "})"
      ]
    },
    {
      "cell_type": "code",
      "source": [
        "Data.head()"
      ],
      "metadata": {
        "colab": {
          "base_uri": "https://localhost:8080/",
          "height": 206
        },
        "id": "458wKUX188fw",
        "outputId": "48938705-5eba-49fa-bcfe-864d9150fd0e"
      },
      "id": "458wKUX188fw",
      "execution_count": 6,
      "outputs": [
        {
          "output_type": "execute_result",
          "data": {
            "text/plain": [
              "        Temp       Sales  InteriorPrice\n",
              "0  35.292157  150.357363      24.261636\n",
              "1  31.200472  120.418399      24.521242\n",
              "2  32.936214  122.772334      27.199319\n",
              "3  36.722680  144.477853      26.310527\n",
              "4  35.602674  126.217687      26.280263"
            ],
            "text/html": [
              "\n",
              "  <div id=\"df-8dbf3f3d-0e3b-41de-beee-b849c5779e5e\">\n",
              "    <div class=\"colab-df-container\">\n",
              "      <div>\n",
              "<style scoped>\n",
              "    .dataframe tbody tr th:only-of-type {\n",
              "        vertical-align: middle;\n",
              "    }\n",
              "\n",
              "    .dataframe tbody tr th {\n",
              "        vertical-align: top;\n",
              "    }\n",
              "\n",
              "    .dataframe thead th {\n",
              "        text-align: right;\n",
              "    }\n",
              "</style>\n",
              "<table border=\"1\" class=\"dataframe\">\n",
              "  <thead>\n",
              "    <tr style=\"text-align: right;\">\n",
              "      <th></th>\n",
              "      <th>Temp</th>\n",
              "      <th>Sales</th>\n",
              "      <th>InteriorPrice</th>\n",
              "    </tr>\n",
              "  </thead>\n",
              "  <tbody>\n",
              "    <tr>\n",
              "      <th>0</th>\n",
              "      <td>35.292157</td>\n",
              "      <td>150.357363</td>\n",
              "      <td>24.261636</td>\n",
              "    </tr>\n",
              "    <tr>\n",
              "      <th>1</th>\n",
              "      <td>31.200472</td>\n",
              "      <td>120.418399</td>\n",
              "      <td>24.521242</td>\n",
              "    </tr>\n",
              "    <tr>\n",
              "      <th>2</th>\n",
              "      <td>32.936214</td>\n",
              "      <td>122.772334</td>\n",
              "      <td>27.199319</td>\n",
              "    </tr>\n",
              "    <tr>\n",
              "      <th>3</th>\n",
              "      <td>36.722680</td>\n",
              "      <td>144.477853</td>\n",
              "      <td>26.310527</td>\n",
              "    </tr>\n",
              "    <tr>\n",
              "      <th>4</th>\n",
              "      <td>35.602674</td>\n",
              "      <td>126.217687</td>\n",
              "      <td>26.280263</td>\n",
              "    </tr>\n",
              "  </tbody>\n",
              "</table>\n",
              "</div>\n",
              "      <button class=\"colab-df-convert\" onclick=\"convertToInteractive('df-8dbf3f3d-0e3b-41de-beee-b849c5779e5e')\"\n",
              "              title=\"Convert this dataframe to an interactive table.\"\n",
              "              style=\"display:none;\">\n",
              "        \n",
              "  <svg xmlns=\"http://www.w3.org/2000/svg\" height=\"24px\"viewBox=\"0 0 24 24\"\n",
              "       width=\"24px\">\n",
              "    <path d=\"M0 0h24v24H0V0z\" fill=\"none\"/>\n",
              "    <path d=\"M18.56 5.44l.94 2.06.94-2.06 2.06-.94-2.06-.94-.94-2.06-.94 2.06-2.06.94zm-11 1L8.5 8.5l.94-2.06 2.06-.94-2.06-.94L8.5 2.5l-.94 2.06-2.06.94zm10 10l.94 2.06.94-2.06 2.06-.94-2.06-.94-.94-2.06-.94 2.06-2.06.94z\"/><path d=\"M17.41 7.96l-1.37-1.37c-.4-.4-.92-.59-1.43-.59-.52 0-1.04.2-1.43.59L10.3 9.45l-7.72 7.72c-.78.78-.78 2.05 0 2.83L4 21.41c.39.39.9.59 1.41.59.51 0 1.02-.2 1.41-.59l7.78-7.78 2.81-2.81c.8-.78.8-2.07 0-2.86zM5.41 20L4 18.59l7.72-7.72 1.47 1.35L5.41 20z\"/>\n",
              "  </svg>\n",
              "      </button>\n",
              "      \n",
              "  <style>\n",
              "    .colab-df-container {\n",
              "      display:flex;\n",
              "      flex-wrap:wrap;\n",
              "      gap: 12px;\n",
              "    }\n",
              "\n",
              "    .colab-df-convert {\n",
              "      background-color: #E8F0FE;\n",
              "      border: none;\n",
              "      border-radius: 50%;\n",
              "      cursor: pointer;\n",
              "      display: none;\n",
              "      fill: #1967D2;\n",
              "      height: 32px;\n",
              "      padding: 0 0 0 0;\n",
              "      width: 32px;\n",
              "    }\n",
              "\n",
              "    .colab-df-convert:hover {\n",
              "      background-color: #E2EBFA;\n",
              "      box-shadow: 0px 1px 2px rgba(60, 64, 67, 0.3), 0px 1px 3px 1px rgba(60, 64, 67, 0.15);\n",
              "      fill: #174EA6;\n",
              "    }\n",
              "\n",
              "    [theme=dark] .colab-df-convert {\n",
              "      background-color: #3B4455;\n",
              "      fill: #D2E3FC;\n",
              "    }\n",
              "\n",
              "    [theme=dark] .colab-df-convert:hover {\n",
              "      background-color: #434B5C;\n",
              "      box-shadow: 0px 1px 3px 1px rgba(0, 0, 0, 0.15);\n",
              "      filter: drop-shadow(0px 1px 2px rgba(0, 0, 0, 0.3));\n",
              "      fill: #FFFFFF;\n",
              "    }\n",
              "  </style>\n",
              "\n",
              "      <script>\n",
              "        const buttonEl =\n",
              "          document.querySelector('#df-8dbf3f3d-0e3b-41de-beee-b849c5779e5e button.colab-df-convert');\n",
              "        buttonEl.style.display =\n",
              "          google.colab.kernel.accessAllowed ? 'block' : 'none';\n",
              "\n",
              "        async function convertToInteractive(key) {\n",
              "          const element = document.querySelector('#df-8dbf3f3d-0e3b-41de-beee-b849c5779e5e');\n",
              "          const dataTable =\n",
              "            await google.colab.kernel.invokeFunction('convertToInteractive',\n",
              "                                                     [key], {});\n",
              "          if (!dataTable) return;\n",
              "\n",
              "          const docLinkHtml = 'Like what you see? Visit the ' +\n",
              "            '<a target=\"_blank\" href=https://colab.research.google.com/notebooks/data_table.ipynb>data table notebook</a>'\n",
              "            + ' to learn more about interactive tables.';\n",
              "          element.innerHTML = '';\n",
              "          dataTable['output_type'] = 'display_data';\n",
              "          await google.colab.output.renderOutput(dataTable, element);\n",
              "          const docLink = document.createElement('div');\n",
              "          docLink.innerHTML = docLinkHtml;\n",
              "          element.appendChild(docLink);\n",
              "        }\n",
              "      </script>\n",
              "    </div>\n",
              "  </div>\n",
              "  "
            ]
          },
          "metadata": {},
          "execution_count": 6
        }
      ]
    },
    {
      "cell_type": "markdown",
      "id": "772528b5",
      "metadata": {
        "id": "772528b5"
      },
      "source": [
        "Scatter plot으로 데이터 시각화 해보기"
      ]
    },
    {
      "cell_type": "code",
      "execution_count": 7,
      "id": "4f21489d",
      "metadata": {
        "colab": {
          "base_uri": "https://localhost:8080/",
          "height": 265
        },
        "id": "4f21489d",
        "outputId": "3a3bcedb-9c55-49e0-d535-2f1fc405266c"
      },
      "outputs": [
        {
          "output_type": "display_data",
          "data": {
            "text/plain": [
              "<Figure size 432x288 with 1 Axes>"
            ],
            "image/png": "[encoded data removed]"
          },
          "metadata": {
            "needs_background": "light"
          }
        }
      ],
      "source": [
        "plt.plot(Data['Temp'], Data['Sales'], 'o')\n",
        "plt.plot(Data['Temp'], Data['InteriorPrice'], 'o')\n",
        "plt.show()"
      ]
    },
    {
      "cell_type": "markdown",
      "id": "be6423cc",
      "metadata": {
        "id": "be6423cc"
      },
      "source": [
        "# 통계 기반 선형모델 학습 시작"
      ]
    },
    {
      "cell_type": "markdown",
      "id": "dd0b6ed5",
      "metadata": {
        "id": "dd0b6ed5"
      },
      "source": [
        "선형 regression을 위해, y절편에 해당하는 constant (상수) 추가"
      ]
    },
    {
      "cell_type": "code",
      "execution_count": 8,
      "id": "0b113512",
      "metadata": {
        "colab": {
          "base_uri": "https://localhost:8080/"
        },
        "id": "0b113512",
        "outputId": "4465e88b-c393-47ac-8907-908751040120"
      },
      "outputs": [
        {
          "output_type": "stream",
          "name": "stdout",
          "text": [
            "   const       Temp  InteriorPrice\n",
            "0    1.0  35.292157      24.261636\n",
            "1    1.0  31.200472      24.521242\n",
            "2    1.0  32.936214      27.199319\n",
            "3    1.0  36.722680      26.310527\n",
            "4    1.0  35.602674      26.280263\n"
          ]
        },
        {
          "output_type": "stream",
          "name": "stderr",
          "text": [
            "/usr/local/lib/python3.7/dist-packages/statsmodels/tsa/tsatools.py:117: FutureWarning: In a future version of pandas all arguments of concat except for the argument 'objs' will be keyword-only\n",
            "  x = pd.concat(x[::order], 1)\n"
          ]
        }
      ],
      "source": [
        "import statsmodels.api as sm\n",
        "\n",
        "InputFeature = Data[ ['Temp', 'InteriorPrice'] ]\n",
        "InputFeature = sm.add_constant(InputFeature)\n",
        "\n",
        "print(InputFeature.head())"
      ]
    },
    {
      "cell_type": "markdown",
      "id": "6ef8a5b0",
      "metadata": {
        "id": "6ef8a5b0"
      },
      "source": [
        "Linear regression 모델 학습"
      ]
    },
    {
      "cell_type": "code",
      "execution_count": 10,
      "id": "8c3c625d",
      "metadata": {
        "colab": {
          "base_uri": "https://localhost:8080/"
        },
        "id": "8c3c625d",
        "outputId": "cd2eeebc-aeef-42d3-fd2a-1691c85b2e04"
      },
      "outputs": [
        {
          "output_type": "stream",
          "name": "stdout",
          "text": [
            "const            86.554744\n",
            "Temp              1.295901\n",
            "InteriorPrice     0.207835\n",
            "dtype: float64\n"
          ]
        }
      ],
      "source": [
        "model = sm.OLS(\n",
        "    Data['Sales'],\n",
        "    InputFeature\n",
        ")\n",
        "\n",
        "model = model.fit() # QR decomposition 한 번에 최적의 기울기 구함\n",
        "print(model.params)"
      ]
    },
    {
      "cell_type": "markdown",
      "id": "487a747d",
      "metadata": {
        "id": "487a747d"
      },
      "source": [
        "# 모델 해석"
      ]
    },
    {
      "cell_type": "code",
      "execution_count": 11,
      "id": "fc10b4b2",
      "metadata": {
        "colab": {
          "base_uri": "https://localhost:8080/"
        },
        "id": "fc10b4b2",
        "outputId": "23941494-802d-4860-db25-fba8f5e2eb55"
      },
      "outputs": [
        {
          "output_type": "stream",
          "name": "stdout",
          "text": [
            "                            OLS Regression Results                            \n",
            "==============================================================================\n",
            "Dep. Variable:                  Sales   R-squared:                       0.189\n",
            "Model:                            OLS   Adj. R-squared:                  0.172\n",
            "Method:                 Least Squares   F-statistic:                     11.31\n",
            "Date:                Tue, 05 Jul 2022   Prob (F-statistic):           3.84e-05\n",
            "Time:                        06:11:07   Log-Likelihood:                -352.50\n",
            "No. Observations:                 100   AIC:                             711.0\n",
            "Df Residuals:                      97   BIC:                             718.8\n",
            "Df Model:                           2                                         \n",
            "Covariance Type:            nonrobust                                         \n",
            "=================================================================================\n",
            "                    coef    std err          t      P>|t|      [0.025      0.975]\n",
            "---------------------------------------------------------------------------------\n",
            "const            86.5547     13.269      6.523      0.000      60.220     112.890\n",
            "Temp              1.2959      0.277      4.683      0.000       0.747       1.845\n",
            "InteriorPrice     0.2078      0.439      0.473      0.637      -0.664       1.080\n",
            "==============================================================================\n",
            "Omnibus:                        4.072   Durbin-Watson:                   1.983\n",
            "Prob(Omnibus):                  0.131   Jarque-Bera (JB):                2.674\n",
            "Skew:                           0.216   Prob(JB):                        0.263\n",
            "Kurtosis:                       2.325   Cond. No.                         624.\n",
            "==============================================================================\n",
            "\n",
            "Warnings:\n",
            "[1] Standard Errors assume that the covariance matrix of the errors is correctly specified.\n"
          ]
        }
      ],
      "source": [
        "print( model.summary() )"
      ]
    },
    {
      "cell_type": "code",
      "execution_count": 12,
      "id": "40e551b0",
      "metadata": {
        "colab": {
          "base_uri": "https://localhost:8080/",
          "height": 265
        },
        "id": "40e551b0",
        "outputId": "f1d434ef-ad83-43d8-d5ef-ddef505684e0"
      },
      "outputs": [
        {
          "output_type": "display_data",
          "data": {
            "text/plain": [
              "<Figure size 432x288 with 1 Axes>"
            ],
            "image/png": "[encoded data removed]"
          },
          "metadata": {
            "needs_background": "light"
          }
        }
      ],
      "source": [
        "plt.plot(Data['Temp'], Data['Sales'], 'o')\n",
        "plt.plot(Data['InteriorPrice'], Data['Sales'], 'o')\n",
        "plt.plot(Data['Temp'], model.predict(InputFeature))\n",
        "plt.show()"
      ]
    }
  ],
  "metadata": {
    "kernelspec": {
      "display_name": "Python 3 (ipykernel)",
      "language": "python",
      "name": "python3"
    },
    "language_info": {
      "codemirror_mode": {
        "name": "ipython",
        "version": 3
      },
      "file_extension": ".py",
      "mimetype": "text/x-python",
      "name": "python",
      "nbconvert_exporter": "python",
      "pygments_lexer": "ipython3",
      "version": "3.10.2"
    },
    "colab": {
      "name": "BackToTheBasic_LRM.ipynb",
      "provenance": [],
      "include_colab_link": true
    }
  },
  "nbformat": 4,
  "nbformat_minor": 5
}