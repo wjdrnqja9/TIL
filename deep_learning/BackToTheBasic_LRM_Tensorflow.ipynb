{
  "cells": [
    {
      "cell_type": "markdown",
      "metadata": {
        "id": "view-in-github",
        "colab_type": "text"
      },
      "source": [
        "<a href=\"https://colab.research.google.com/github/wjdrnqja9/TIL/blob/main/deep_learning/BackToTheBasic_LRM_Tensorflow.ipynb\" target=\"_parent\"><img src=\"https://colab.research.google.com/assets/colab-badge.svg\" alt=\"Open In Colab\"/></a>"
      ]
    },
    {
      "cell_type": "markdown",
      "id": "9e5c4c65",
      "metadata": {
        "id": "9e5c4c65"
      },
      "source": [
        "!pip3 install pandas<br>\n",
        "!pip3 install numpy<br>\n",
        "!pip3 install matplotlib<br>\n",
        "!pip3 install statsmodels<br>"
      ]
    },
    {
      "cell_type": "code",
      "execution_count": 1,
      "id": "ac596566",
      "metadata": {
        "colab": {
          "base_uri": "https://localhost:8080/"
        },
        "id": "ac596566",
        "outputId": "bbb8c179-0fd2-4cb2-efef-da318b0abc1d"
      },
      "outputs": [
        {
          "output_type": "stream",
          "name": "stderr",
          "text": [
            "/usr/local/lib/python3.7/dist-packages/statsmodels/tools/_testing.py:19: FutureWarning: pandas.util.testing is deprecated. Use the functions in the public API at pandas.testing instead.\n",
            "  import pandas.util.testing as tm\n"
          ]
        }
      ],
      "source": [
        "import tensorflow as tf\n",
        "import pandas as pd\n",
        "import numpy as np\n",
        "import matplotlib.pyplot as plt\n",
        "import statsmodels.api as sm\n",
        "\n",
        "from tensorflow.keras.models import Sequential, load_model\n",
        "from tensorflow.keras.layers import Dense\n",
        "from tensorflow.keras.optimizers import SGD, Adam"
      ]
    },
    {
      "cell_type": "markdown",
      "id": "b3a9b526",
      "metadata": {
        "id": "b3a9b526"
      },
      "source": [
        "연속형 임의의 데이터 생성"
      ]
    },
    {
      "cell_type": "code",
      "execution_count": 2,
      "id": "2f066d8a",
      "metadata": {
        "id": "2f066d8a"
      },
      "outputs": [],
      "source": [
        "np.random.seed(0)\n",
        "\n",
        "Temperature = np.random.normal(30,3,100)\n",
        "IceAmericano = Temperature + np.random.normal(100,8,100)"
      ]
    },
    {
      "cell_type": "markdown",
      "id": "569500e2",
      "metadata": {
        "id": "569500e2"
      },
      "source": [
        "데이터 프레임 형태로 2개 데이터 합치기<br>"
      ]
    },
    {
      "cell_type": "code",
      "execution_count": 3,
      "id": "db19541d",
      "metadata": {
        "id": "db19541d"
      },
      "outputs": [],
      "source": [
        "Data = pd.DataFrame({\n",
        "    'Temp':Temperature,\n",
        "    'Sales':IceAmericano\n",
        "})"
      ]
    },
    {
      "cell_type": "code",
      "execution_count": 4,
      "id": "bab9c9f7",
      "metadata": {
        "colab": {
          "base_uri": "https://localhost:8080/",
          "height": 265
        },
        "id": "bab9c9f7",
        "outputId": "192e7361-ed32-480f-ec2f-6a0d685aaf00"
      },
      "outputs": [
        {
          "output_type": "display_data",
          "data": {
            "text/plain": [
              "<Figure size 432x288 with 1 Axes>"
            ],
            "image/png": "[encoded data removed]"
          },
          "metadata": {
            "needs_background": "light"
          }
        }
      ],
      "source": [
        "plt.plot(Data['Temp'], Data['Sales'], 'o')\n",
        "plt.show()"
      ]
    },
    {
      "cell_type": "markdown",
      "id": "d3aa1d78",
      "metadata": {
        "id": "d3aa1d78"
      },
      "source": [
        "선형회귀 모델, 딥러닝 framework (keras)로 만들기"
      ]
    },
    {
      "cell_type": "code",
      "execution_count": 5,
      "id": "f2722f6c",
      "metadata": {
        "id": "f2722f6c"
      },
      "outputs": [],
      "source": [
        "model = Sequential()\n",
        "model.add(Dense(1, activation='linear', input_shape=(1,)))\n",
        "\n",
        "model.compile(loss='mse',optimizer=Adam(learning_rate=0.5))"
      ]
    },
    {
      "cell_type": "code",
      "execution_count": 6,
      "id": "18dae18d",
      "metadata": {
        "colab": {
          "base_uri": "https://localhost:8080/"
        },
        "id": "18dae18d",
        "outputId": "346d4b3e-91b1-4e59-fed5-4ef916c24b6c"
      },
      "outputs": [
        {
          "output_type": "stream",
          "name": "stdout",
          "text": [
            "Epoch 1/50\n",
            "4/4 [==============================] - 1s 4ms/step - loss: 19553.9492\n",
            "Epoch 2/50\n",
            "4/4 [==============================] - 0s 3ms/step - loss: 6286.8418\n",
            "Epoch 3/50\n",
            "4/4 [==============================] - 0s 5ms/step - loss: 780.4825\n",
            "Epoch 4/50\n",
            "4/4 [==============================] - 0s 3ms/step - loss: 550.6920\n",
            "Epoch 5/50\n",
            "4/4 [==============================] - 0s 6ms/step - loss: 1679.2900\n",
            "Epoch 6/50\n",
            "4/4 [==============================] - 0s 3ms/step - loss: 1690.5923\n",
            "Epoch 7/50\n",
            "4/4 [==============================] - 0s 3ms/step - loss: 844.9114\n",
            "Epoch 8/50\n",
            "4/4 [==============================] - 0s 3ms/step - loss: 234.5764\n",
            "Epoch 9/50\n",
            "4/4 [==============================] - 0s 4ms/step - loss: 187.4678\n",
            "Epoch 10/50\n",
            "4/4 [==============================] - 0s 4ms/step - loss: 360.4357\n",
            "Epoch 11/50\n",
            "4/4 [==============================] - 0s 4ms/step - loss: 359.5342\n",
            "Epoch 12/50\n",
            "4/4 [==============================] - 0s 3ms/step - loss: 216.9329\n",
            "Epoch 13/50\n",
            "4/4 [==============================] - 0s 5ms/step - loss: 144.9056\n",
            "Epoch 14/50\n",
            "4/4 [==============================] - 0s 3ms/step - loss: 157.5689\n",
            "Epoch 15/50\n",
            "4/4 [==============================] - 0s 3ms/step - loss: 170.6662\n",
            "Epoch 16/50\n",
            "4/4 [==============================] - 0s 3ms/step - loss: 164.3375\n",
            "Epoch 17/50\n",
            "4/4 [==============================] - 0s 3ms/step - loss: 150.2281\n",
            "Epoch 18/50\n",
            "4/4 [==============================] - 0s 3ms/step - loss: 141.9815\n",
            "Epoch 19/50\n",
            "4/4 [==============================] - 0s 3ms/step - loss: 142.6841\n",
            "Epoch 20/50\n",
            "4/4 [==============================] - 0s 3ms/step - loss: 142.9559\n",
            "Epoch 21/50\n",
            "4/4 [==============================] - 0s 4ms/step - loss: 142.7417\n",
            "Epoch 22/50\n",
            "4/4 [==============================] - 0s 3ms/step - loss: 142.5765\n",
            "Epoch 23/50\n",
            "4/4 [==============================] - 0s 3ms/step - loss: 142.5900\n",
            "Epoch 24/50\n",
            "4/4 [==============================] - 0s 4ms/step - loss: 141.1879\n",
            "Epoch 25/50\n",
            "4/4 [==============================] - 0s 3ms/step - loss: 140.9876\n",
            "Epoch 26/50\n",
            "4/4 [==============================] - 0s 4ms/step - loss: 140.7366\n",
            "Epoch 27/50\n",
            "4/4 [==============================] - 0s 3ms/step - loss: 140.5812\n",
            "Epoch 28/50\n",
            "4/4 [==============================] - 0s 3ms/step - loss: 140.8523\n",
            "Epoch 29/50\n",
            "4/4 [==============================] - 0s 3ms/step - loss: 141.3770\n",
            "Epoch 30/50\n",
            "4/4 [==============================] - 0s 3ms/step - loss: 143.3847\n",
            "Epoch 31/50\n",
            "4/4 [==============================] - 0s 3ms/step - loss: 141.6104\n",
            "Epoch 32/50\n",
            "4/4 [==============================] - 0s 4ms/step - loss: 139.8766\n",
            "Epoch 33/50\n",
            "4/4 [==============================] - 0s 3ms/step - loss: 140.9675\n",
            "Epoch 34/50\n",
            "4/4 [==============================] - 0s 3ms/step - loss: 142.4193\n",
            "Epoch 35/50\n",
            "4/4 [==============================] - 0s 4ms/step - loss: 142.3640\n",
            "Epoch 36/50\n",
            "4/4 [==============================] - 0s 4ms/step - loss: 140.0208\n",
            "Epoch 37/50\n",
            "4/4 [==============================] - 0s 3ms/step - loss: 139.8286\n",
            "Epoch 38/50\n",
            "4/4 [==============================] - 0s 3ms/step - loss: 142.5139\n",
            "Epoch 39/50\n",
            "4/4 [==============================] - 0s 3ms/step - loss: 141.7695\n",
            "Epoch 40/50\n",
            "4/4 [==============================] - 0s 4ms/step - loss: 140.5948\n",
            "Epoch 41/50\n",
            "4/4 [==============================] - 0s 5ms/step - loss: 138.2713\n",
            "Epoch 42/50\n",
            "4/4 [==============================] - 0s 4ms/step - loss: 141.1533\n",
            "Epoch 43/50\n",
            "4/4 [==============================] - 0s 5ms/step - loss: 146.7994\n",
            "Epoch 44/50\n",
            "4/4 [==============================] - 0s 4ms/step - loss: 143.9470\n",
            "Epoch 45/50\n",
            "4/4 [==============================] - 0s 3ms/step - loss: 141.8619\n",
            "Epoch 46/50\n",
            "4/4 [==============================] - 0s 4ms/step - loss: 140.9529\n",
            "Epoch 47/50\n",
            "4/4 [==============================] - 0s 3ms/step - loss: 137.4206\n",
            "Epoch 48/50\n",
            "4/4 [==============================] - 0s 3ms/step - loss: 143.9004\n",
            "Epoch 49/50\n",
            "4/4 [==============================] - 0s 4ms/step - loss: 140.5351\n",
            "Epoch 50/50\n",
            "4/4 [==============================] - 0s 4ms/step - loss: 144.6734\n"
          ]
        },
        {
          "output_type": "execute_result",
          "data": {
            "text/plain": [
              "<keras.callbacks.History at 0x7f685f5edc90>"
            ]
          },
          "metadata": {},
          "execution_count": 6
        }
      ],
      "source": [
        "model.fit(x=Data[['Temp']], y=Data[['Sales']], epochs=50, shuffle=True)"
      ]
    },
    {
      "cell_type": "code",
      "execution_count": 7,
      "id": "94372311",
      "metadata": {
        "colab": {
          "base_uri": "https://localhost:8080/"
        },
        "id": "94372311",
        "outputId": "b5597f38-14a8-4431-9186-99b5b9211b33"
      },
      "outputs": [
        {
          "output_type": "execute_result",
          "data": {
            "text/plain": [
              "array([[154.83037 ],\n",
              "       [137.73067 ],\n",
              "       [144.98457 ],\n",
              "       [160.80873 ],\n",
              "       [156.12807 ],\n",
              "       [120.461205],\n",
              "       [144.62538 ],\n",
              "       [130.8161  ],\n",
              "       [131.41965 ],\n",
              "       [137.86157 ],\n",
              "       [134.51967 ],\n",
              "       [150.94655 ],\n",
              "       [142.25517 ],\n",
              "       [134.23923 ],\n",
              "       [138.27863 ],\n",
              "       [136.89714 ],\n",
              "       [151.44562 ],\n",
              "       [130.14157 ],\n",
              "       [136.6388  ],\n",
              "       [122.00559 ],\n",
              "       [100.70586 ],\n",
              "       [140.90842 ],\n",
              "       [143.55151 ],\n",
              "       [123.408905],\n",
              "       [161.17058 ],\n",
              "       [114.47976 ],\n",
              "       [133.28743 ],\n",
              "       [130.36694 ],\n",
              "       [151.93082 ],\n",
              "       [151.13568 ],\n",
              "       [134.65637 ],\n",
              "       [137.45491 ],\n",
              "       [121.583206],\n",
              "       [107.879684],\n",
              "       [128.35182 ],\n",
              "       [134.67395 ],\n",
              "       [148.1384  ],\n",
              "       [147.78847 ],\n",
              "       [127.857666],\n",
              "       [128.92365 ],\n",
              "       [119.567604],\n",
              "       [114.91039 ],\n",
              "       [111.32153 ],\n",
              "       [157.1714  ],\n",
              "       [126.32401 ],\n",
              "       [127.22142 ],\n",
              "       [117.00693 ],\n",
              "       [142.46144 ],\n",
              "       [112.47964 ],\n",
              "       [130.04651 ],\n",
              "       [121.48691 ],\n",
              "       [137.56448 ],\n",
              "       [126.30956 ],\n",
              "       [117.91167 ],\n",
              "       [132.3604  ],\n",
              "       [138.08391 ],\n",
              "       [133.5477  ],\n",
              "       [136.50595 ],\n",
              "       [124.76099 ],\n",
              "       [128.1659  ],\n",
              "       [124.28282 ],\n",
              "       [128.20587 ],\n",
              "       [122.51898 ],\n",
              "       [111.070625],\n",
              "       [134.9382  ],\n",
              "       [127.676445],\n",
              "       [112.275276],\n",
              "       [138.51582 ],\n",
              "       [121.33856 ],\n",
              "       [133.36499 ],\n",
              "       [141.85464 ],\n",
              "       [134.33084 ],\n",
              "       [146.99886 ],\n",
              "       [117.23222 ],\n",
              "       [137.75806 ],\n",
              "       [124.12799 ],\n",
              "       [121.7962  ],\n",
              "       [125.45646 ],\n",
              "       [128.80768 ],\n",
              "       [133.41791 ],\n",
              "       [118.10578 ],\n",
              "       [144.00777 ],\n",
              "       [138.55194 ],\n",
              "       [113.453224],\n",
              "       [151.37256 ],\n",
              "       [156.48328 ],\n",
              "       [147.49257 ],\n",
              "       [130.45795 ],\n",
              "       [119.289276],\n",
              "       [145.93384 ],\n",
              "       [127.658936],\n",
              "       [148.04002 ],\n",
              "       [135.32495 ],\n",
              "       [144.95825 ],\n",
              "       [137.18164 ],\n",
              "       [141.57233 ],\n",
              "       [132.84537 ],\n",
              "       [155.10393 ],\n",
              "       [134.30487 ],\n",
              "       [137.75365 ]], dtype=float32)"
            ]
          },
          "metadata": {},
          "execution_count": 7
        }
      ],
      "source": [
        "model.predict(Data[['Temp']])"
      ]
    },
    {
      "cell_type": "code",
      "execution_count": 8,
      "id": "dda2d344",
      "metadata": {
        "colab": {
          "base_uri": "https://localhost:8080/",
          "height": 265
        },
        "id": "dda2d344",
        "outputId": "588aaf0a-ca88-4f2c-8880-fd9556ba55ed"
      },
      "outputs": [
        {
          "output_type": "display_data",
          "data": {
            "text/plain": [
              "<Figure size 432x288 with 1 Axes>"
            ],
            "image/png": "[encoded data removed]"
          },
          "metadata": {
            "needs_background": "light"
          }
        }
      ],
      "source": [
        "plt.plot(Data['Temp'], Data['Sales'], 'o')\n",
        "plt.plot(Data['Temp'], model.predict(Data[['Temp']]))\n",
        "plt.show()"
      ]
    },
    {
      "cell_type": "code",
      "execution_count": 9,
      "id": "5ea2926b",
      "metadata": {
        "colab": {
          "base_uri": "https://localhost:8080/"
        },
        "id": "5ea2926b",
        "outputId": "55df9dc1-ed5b-40c1-9999-82d6f8219e5f"
      },
      "outputs": [
        {
          "output_type": "stream",
          "name": "stdout",
          "text": [
            "[array([[4.179136]], dtype=float32), array([7.3396606], dtype=float32)]\n"
          ]
        }
      ],
      "source": [
        "ModelWeights = model.get_weights()\n",
        "print(ModelWeights)"
      ]
    },
    {
      "cell_type": "code",
      "execution_count": 10,
      "id": "436aee00",
      "metadata": {
        "colab": {
          "base_uri": "https://localhost:8080/",
          "height": 206
        },
        "id": "436aee00",
        "outputId": "ee9c13eb-659f-49e3-95fe-e9338d293697"
      },
      "outputs": [
        {
          "output_type": "execute_result",
          "data": {
            "text/plain": [
              "        Temp       Sales\n",
              "0  35.292157  150.357363\n",
              "1  31.200472  120.418399\n",
              "2  32.936214  122.772334\n",
              "3  36.722680  144.477853\n",
              "4  35.602674  126.217687"
            ],
            "text/html": [
              "\n",
              "  <div id=\"df-c31163e3-7799-42fb-a249-1be7833d48ed\">\n",
              "    <div class=\"colab-df-container\">\n",
              "      <div>\n",
              "<style scoped>\n",
              "    .dataframe tbody tr th:only-of-type {\n",
              "        vertical-align: middle;\n",
              "    }\n",
              "\n",
              "    .dataframe tbody tr th {\n",
              "        vertical-align: top;\n",
              "    }\n",
              "\n",
              "    .dataframe thead th {\n",
              "        text-align: right;\n",
              "    }\n",
              "</style>\n",
              "<table border=\"1\" class=\"dataframe\">\n",
              "  <thead>\n",
              "    <tr style=\"text-align: right;\">\n",
              "      <th></th>\n",
              "      <th>Temp</th>\n",
              "      <th>Sales</th>\n",
              "    </tr>\n",
              "  </thead>\n",
              "  <tbody>\n",
              "    <tr>\n",
              "      <th>0</th>\n",
              "      <td>35.292157</td>\n",
              "      <td>150.357363</td>\n",
              "    </tr>\n",
              "    <tr>\n",
              "      <th>1</th>\n",
              "      <td>31.200472</td>\n",
              "      <td>120.418399</td>\n",
              "    </tr>\n",
              "    <tr>\n",
              "      <th>2</th>\n",
              "      <td>32.936214</td>\n",
              "      <td>122.772334</td>\n",
              "    </tr>\n",
              "    <tr>\n",
              "      <th>3</th>\n",
              "      <td>36.722680</td>\n",
              "      <td>144.477853</td>\n",
              "    </tr>\n",
              "    <tr>\n",
              "      <th>4</th>\n",
              "      <td>35.602674</td>\n",
              "      <td>126.217687</td>\n",
              "    </tr>\n",
              "  </tbody>\n",
              "</table>\n",
              "</div>\n",
              "      <button class=\"colab-df-convert\" onclick=\"convertToInteractive('df-c31163e3-7799-42fb-a249-1be7833d48ed')\"\n",
              "              title=\"Convert this dataframe to an interactive table.\"\n",
              "              style=\"display:none;\">\n",
              "        \n",
              "  <svg xmlns=\"http://www.w3.org/2000/svg\" height=\"24px\"viewBox=\"0 0 24 24\"\n",
              "       width=\"24px\">\n",
              "    <path d=\"M0 0h24v24H0V0z\" fill=\"none\"/>\n",
              "    <path d=\"M18.56 5.44l.94 2.06.94-2.06 2.06-.94-2.06-.94-.94-2.06-.94 2.06-2.06.94zm-11 1L8.5 8.5l.94-2.06 2.06-.94-2.06-.94L8.5 2.5l-.94 2.06-2.06.94zm10 10l.94 2.06.94-2.06 2.06-.94-2.06-.94-.94-2.06-.94 2.06-2.06.94z\"/><path d=\"M17.41 7.96l-1.37-1.37c-.4-.4-.92-.59-1.43-.59-.52 0-1.04.2-1.43.59L10.3 9.45l-7.72 7.72c-.78.78-.78 2.05 0 2.83L4 21.41c.39.39.9.59 1.41.59.51 0 1.02-.2 1.41-.59l7.78-7.78 2.81-2.81c.8-.78.8-2.07 0-2.86zM5.41 20L4 18.59l7.72-7.72 1.47 1.35L5.41 20z\"/>\n",
              "  </svg>\n",
              "      </button>\n",
              "      \n",
              "  <style>\n",
              "    .colab-df-container {\n",
              "      display:flex;\n",
              "      flex-wrap:wrap;\n",
              "      gap: 12px;\n",
              "    }\n",
              "\n",
              "    .colab-df-convert {\n",
              "      background-color: #E8F0FE;\n",
              "      border: none;\n",
              "      border-radius: 50%;\n",
              "      cursor: pointer;\n",
              "      display: none;\n",
              "      fill: #1967D2;\n",
              "      height: 32px;\n",
              "      padding: 0 0 0 0;\n",
              "      width: 32px;\n",
              "    }\n",
              "\n",
              "    .colab-df-convert:hover {\n",
              "      background-color: #E2EBFA;\n",
              "      box-shadow: 0px 1px 2px rgba(60, 64, 67, 0.3), 0px 1px 3px 1px rgba(60, 64, 67, 0.15);\n",
              "      fill: #174EA6;\n",
              "    }\n",
              "\n",
              "    [theme=dark] .colab-df-convert {\n",
              "      background-color: #3B4455;\n",
              "      fill: #D2E3FC;\n",
              "    }\n",
              "\n",
              "    [theme=dark] .colab-df-convert:hover {\n",
              "      background-color: #434B5C;\n",
              "      box-shadow: 0px 1px 3px 1px rgba(0, 0, 0, 0.15);\n",
              "      filter: drop-shadow(0px 1px 2px rgba(0, 0, 0, 0.3));\n",
              "      fill: #FFFFFF;\n",
              "    }\n",
              "  </style>\n",
              "\n",
              "      <script>\n",
              "        const buttonEl =\n",
              "          document.querySelector('#df-c31163e3-7799-42fb-a249-1be7833d48ed button.colab-df-convert');\n",
              "        buttonEl.style.display =\n",
              "          google.colab.kernel.accessAllowed ? 'block' : 'none';\n",
              "\n",
              "        async function convertToInteractive(key) {\n",
              "          const element = document.querySelector('#df-c31163e3-7799-42fb-a249-1be7833d48ed');\n",
              "          const dataTable =\n",
              "            await google.colab.kernel.invokeFunction('convertToInteractive',\n",
              "                                                     [key], {});\n",
              "          if (!dataTable) return;\n",
              "\n",
              "          const docLinkHtml = 'Like what you see? Visit the ' +\n",
              "            '<a target=\"_blank\" href=https://colab.research.google.com/notebooks/data_table.ipynb>data table notebook</a>'\n",
              "            + ' to learn more about interactive tables.';\n",
              "          element.innerHTML = '';\n",
              "          dataTable['output_type'] = 'display_data';\n",
              "          await google.colab.output.renderOutput(dataTable, element);\n",
              "          const docLink = document.createElement('div');\n",
              "          docLink.innerHTML = docLinkHtml;\n",
              "          element.appendChild(docLink);\n",
              "        }\n",
              "      </script>\n",
              "    </div>\n",
              "  </div>\n",
              "  "
            ]
          },
          "metadata": {},
          "execution_count": 10
        }
      ],
      "source": [
        "Data.head()"
      ]
    },
    {
      "cell_type": "code",
      "execution_count": 11,
      "id": "c9877fba",
      "metadata": {
        "colab": {
          "base_uri": "https://localhost:8080/"
        },
        "id": "c9877fba",
        "outputId": "7d1d1802-9c57-46a8-fbfc-5c6cf0f13675"
      },
      "outputs": [
        {
          "output_type": "execute_result",
          "data": {
            "text/plain": [
              "array([154.83037], dtype=float32)"
            ]
          },
          "metadata": {},
          "execution_count": 11
        }
      ],
      "source": [
        "Data['Temp'][0] * ModelWeights[0][0] + ModelWeights[1][0]"
      ]
    },
    {
      "cell_type": "code",
      "execution_count": 12,
      "id": "2cb9475d",
      "metadata": {
        "colab": {
          "base_uri": "https://localhost:8080/"
        },
        "id": "2cb9475d",
        "outputId": "368d93f8-ceea-4dcc-b1be-51b90aec4ff4"
      },
      "outputs": [
        {
          "output_type": "execute_result",
          "data": {
            "text/plain": [
              "array([154.83037], dtype=float32)"
            ]
          },
          "metadata": {},
          "execution_count": 12
        }
      ],
      "source": [
        "model.predict(Data[['Temp']])[0]"
      ]
    }
  ],
  "metadata": {
    "kernelspec": {
      "display_name": "Python 3 (ipykernel)",
      "language": "python",
      "name": "python3"
    },
    "language_info": {
      "codemirror_mode": {
        "name": "ipython",
        "version": 3
      },
      "file_extension": ".py",
      "mimetype": "text/x-python",
      "name": "python",
      "nbconvert_exporter": "python",
      "pygments_lexer": "ipython3",
      "version": "3.10.2"
    },
    "colab": {
      "name": "BackToTheBasic_LRM_Tensorflow.ipynb",
      "provenance": [],
      "include_colab_link": true
    }
  },
  "nbformat": 4,
  "nbformat_minor": 5
}