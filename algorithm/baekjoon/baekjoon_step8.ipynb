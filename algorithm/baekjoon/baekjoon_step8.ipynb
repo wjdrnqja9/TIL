{
  "nbformat": 4,
  "nbformat_minor": 0,
  "metadata": {
    "colab": {
      "name": "baekjoon_step8.ipynb",
      "provenance": [],
      "collapsed_sections": [],
      "authorship_tag": "ABX9TyP6dldterTJkFESxsY0E03d",
      "include_colab_link": true
    },
    "kernelspec": {
      "name": "python3",
      "display_name": "Python 3"
    },
    "language_info": {
      "name": "python"
    }
  },
  "cells": [
    {
      "cell_type": "markdown",
      "metadata": {
        "id": "view-in-github",
        "colab_type": "text"
      },
      "source": [
        "<a href=\"https://colab.research.google.com/github/wjdrnqja9/TIL/blob/main/algorithm/baekjoon/baekjoon_step8.ipynb\" target=\"_parent\"><img src=\"https://colab.research.google.com/assets/colab-badge.svg\" alt=\"Open In Colab\"/></a>"
      ]
    },
    {
      "cell_type": "markdown",
      "source": [
        "#####1978. 주어진 수 N개 중에서 소수가 몇 개인지 찾아서 출력하는 프로그램을 작성하시오."
      ],
      "metadata": {
        "id": "lil37dpWUui8"
      }
    },
    {
      "cell_type": "code",
      "source": [
        "n = int(input())\n",
        "\n",
        "a = list(map(int,(input().split())))\n",
        "b = []\n",
        "\n",
        "prime=[2, 3, 5, 7, 11, 13, 17, 19, 23, 29, 31, 37, 41, 43, 47, 53, 59, 61, 67, 71, 73, 79, 83, 89, 97, 101, 103, 107, 109, 113, 127, 131, 137, 139, 149, 151, 157, 163, 167, 173, 179, 181, 191, 193, 197, 199,211, 223, 227, 229, 233, 239, 241, 251, 257, 263, 269, 271, 277, 281, 283, 293,307, 311, 313, 317, 331, 337, 347, 349, 353, 359, 367, 373, 379, 383, 389, 397,401, 409, 419, 421, 431, 433, 439, 443, 449, 457, 461, 463, 467, 479, 487, 491, 499,503, 509, 521, 523, 541, 547, 557, 563, 569, 571, 577, 587, 593, 599,601, 607, 613, 617, 619, 631, 641, 643, 647, 653, 659, 661, 673, 677, 683, 691,701, 709, 719, 727, 733, 739, 743, 751, 757, 761, 769, 773, 787, 797,809, 811, 821, 823, 827, 829, 839, 853, 857, 859, 863, 877, 881, 883, 887,907, 911, 919, 929, 937, 941, 947, 953, 967, 971, 977, 983, 991, 997]\n",
        "\n",
        "for i in range(n):\n",
        "    if a[i] in prime:        \n",
        "        b.append(a[i])\n",
        "        \n",
        "print(len(b))"
      ],
      "metadata": {
        "colab": {
          "base_uri": "https://localhost:8080/"
        },
        "id": "BmP3PfIlXVN7",
        "outputId": "950d5c01-e17a-4cb8-d055-96a74912fbc2"
      },
      "execution_count": null,
      "outputs": [
        {
          "output_type": "stream",
          "name": "stdout",
          "text": [
            "4\n",
            "1 3 5 7\n",
            "3\n"
          ]
        }
      ]
    },
    {
      "cell_type": "code",
      "source": [
        "n = int(input())\n",
        "numbers = map(int, input().split())\n",
        "prime = 0\n",
        "for num in numbers:\n",
        "    error = 0\n",
        "    if num > 1 :\n",
        "        for i in range(2, num//2+1):\n",
        "            if num % i == 0:\n",
        "                error += 1\n",
        "        if error == 0:\n",
        "            prime += 1\n",
        "print(prime)"
      ],
      "metadata": {
        "colab": {
          "base_uri": "https://localhost:8080/"
        },
        "id": "-Yj5CX9_dSxd",
        "outputId": "0a29c95d-caa9-47ab-9aa8-a85d5e3e1421"
      },
      "execution_count": null,
      "outputs": [
        {
          "output_type": "stream",
          "name": "stdout",
          "text": [
            "4\n",
            "1 3 5 7\n",
            "3\n"
          ]
        }
      ]
    },
    {
      "cell_type": "markdown",
      "source": [
        "2581. 자연수 M과 N이 주어질 때 M이상 N이하의 자연수 중 소수인 것을 모두 골라 이들 소수의 합과 최솟값을 찾는 프로그램을 작성하시오.\n",
        "\n",
        "예를 들어 M=60, N=100인 경우 60이상 100이하의 자연수 중 소수는 61, 67, 71, 73, 79, 83, 89, 97 총 8개가 있으므로, 이들 소수의 합은 620이고, 최솟값은 61이 된다."
      ],
      "metadata": {
        "id": "iEcU6DnJAyHH"
      }
    },
    {
      "cell_type": "code",
      "source": [
        "M = int(input())\n",
        "N = int(input())\n",
        "prime=[]\n",
        "for i in range(M,N+1):\n",
        "    prime.append(i)\n",
        "if 1 in prime:\n",
        "    prime.remove(1)\n",
        "\n",
        "for i in range(M,N+1):\n",
        "    for j in range(2, i//2+1):\n",
        "        if i%j == 0:\n",
        "            prime.remove(i)\n",
        "            break\n",
        "            \n",
        "if len(prime) != 0:\n",
        "    print(sum(prime))\n",
        "    print(min(prime))\n",
        "\n",
        "else:\n",
        "        print(-1)"
      ],
      "metadata": {
        "id": "eqyrCIuTc_2p",
        "colab": {
          "base_uri": "https://localhost:8080/"
        },
        "outputId": "12ff7697-c91a-4bee-dd72-bc9ce785a79a"
      },
      "execution_count": null,
      "outputs": [
        {
          "output_type": "stream",
          "name": "stdout",
          "text": [
            "60\n",
            "100\n",
            "620\n",
            "61\n"
          ]
        }
      ]
    },
    {
      "cell_type": "markdown",
      "source": [
        "11653. 정수 N이 주어졌을 때, 소인수분해하는 프로그램을 작성하시오."
      ],
      "metadata": {
        "id": "1-p6l1V1MXf2"
      }
    },
    {
      "cell_type": "code",
      "source": [
        "N = int(input()) # 시간 초과\n",
        "prime=[]\n",
        "\n",
        "for i in range(2,N+1):\n",
        "    prime.append(i)\n",
        "\n",
        "for i in range(2,N+1):\n",
        "    for j in range(2, i//2+1):\n",
        "        if i%j == 0:\n",
        "            prime.remove(i)\n",
        "            break\n",
        "\n",
        "i=0\n",
        "\n",
        "while N != 1:\n",
        "\n",
        "    if N % prime[i] == 0:\n",
        "\n",
        "        print(prime[i])\n",
        "        N = N//prime[i]\n",
        "\n",
        "    else:\n",
        "        i+=1"
      ],
      "metadata": {
        "colab": {
          "base_uri": "https://localhost:8080/"
        },
        "id": "F2Br1sABkjTo",
        "outputId": "e6888c07-bc7c-4219-e7de-103c7bd151ff"
      },
      "execution_count": 24,
      "outputs": [
        {
          "output_type": "stream",
          "name": "stdout",
          "text": [
            "9991\n",
            "97\n",
            "103\n"
          ]
        }
      ]
    },
    {
      "cell_type": "code",
      "source": [
        "N = int(input())\n",
        "while N != 1:\n",
        "    for i in range(2, N+1):\n",
        "        if N % i == 0:\n",
        "            print(i)\n",
        "            N = N // i\n",
        "            break"
      ],
      "metadata": {
        "colab": {
          "base_uri": "https://localhost:8080/"
        },
        "id": "dSpPXQVRFfxs",
        "outputId": "b2242829-2b4b-42de-ecc2-c53e71de1233"
      },
      "execution_count": 25,
      "outputs": [
        {
          "output_type": "stream",
          "name": "stdout",
          "text": [
            "72\n",
            "2\n",
            "2\n",
            "2\n",
            "3\n",
            "3\n"
          ]
        }
      ]
    },
    {
      "cell_type": "code",
      "source": [
        ""
      ],
      "metadata": {
        "id": "UHZirihznGNZ"
      },
      "execution_count": null,
      "outputs": []
    }
  ]
}