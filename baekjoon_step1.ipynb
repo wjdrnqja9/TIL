{
  "nbformat": 4,
  "nbformat_minor": 0,
  "metadata": {
    "colab": {
      "name": "baekjoon_step1.ipynb",
      "provenance": [],
      "collapsed_sections": [],
      "authorship_tag": "ABX9TyP85OMlBWxVF5WT3M2JFTJp",
      "include_colab_link": true
    },
    "kernelspec": {
      "name": "python3",
      "display_name": "Python 3"
    },
    "language_info": {
      "name": "python"
    }
  },
  "cells": [
    {
      "cell_type": "markdown",
      "metadata": {
        "id": "view-in-github",
        "colab_type": "text"
      },
      "source": [
        "<a href=\"https://colab.research.google.com/github/wjdrnqja9/TIL/blob/main/baekjoon_step1.ipynb\" target=\"_parent\"><img src=\"https://colab.research.google.com/assets/colab-badge.svg\" alt=\"Open In Colab\"/></a>"
      ]
    },
    {
      "cell_type": "markdown",
      "source": [
        "#####2557. Hello World!를 출력하시오."
      ],
      "metadata": {
        "id": "huZkfvW2xlcI"
      }
    },
    {
      "cell_type": "code",
      "execution_count": null,
      "metadata": {
        "colab": {
          "base_uri": "https://localhost:8080/"
        },
        "id": "uG7NqQkvCWzl",
        "outputId": "4e12c5c9-f7cf-4b25-81c8-07eee790ec5d"
      },
      "outputs": [
        {
          "output_type": "stream",
          "name": "stdout",
          "text": [
            "Hello World!\n"
          ]
        }
      ],
      "source": [
        "print(\"Hello World!\")"
      ]
    },
    {
      "cell_type": "markdown",
      "source": [
        "#####10718. 대회를 뜰 줄 모르는 지박령 kriii를 위해서 격려의 문구를 출력해주자."
      ],
      "metadata": {
        "id": "F56qmsEKxsh9"
      }
    },
    {
      "cell_type": "code",
      "source": [
        "print(\"강한친구 대한육군\\n강한친구 대한육군\")"
      ],
      "metadata": {
        "colab": {
          "base_uri": "https://localhost:8080/"
        },
        "id": "-FUCAvDt6oLo",
        "outputId": "9e324c7b-e9d5-4dd7-ab51-7eb9325e4a2e"
      },
      "execution_count": null,
      "outputs": [
        {
          "output_type": "stream",
          "name": "stdout",
          "text": [
            "강한친구 대한육군\n",
            "강한친구 대한육군\n"
          ]
        }
      ]
    },
    {
      "cell_type": "markdown",
      "source": [
        "#####10171. 아래 예제와 같이 고양이를 출력하시오."
      ],
      "metadata": {
        "id": "gg8lF7Fvxx6f"
      }
    },
    {
      "cell_type": "code",
      "source": [
        "print(\"\\\\    /\\\\\\n\"\n",
        "\" )  ( ')\\n\"\n",
        "\"(  /  )\\n\"\n",
        "\" \\\\(__)|\")"
      ],
      "metadata": {
        "colab": {
          "base_uri": "https://localhost:8080/"
        },
        "id": "HLGtwbPC7Ga9",
        "outputId": "4cce919a-a754-4fe5-e7a6-8326ca43d04f"
      },
      "execution_count": null,
      "outputs": [
        {
          "output_type": "stream",
          "name": "stdout",
          "text": [
            "\\    /\\\n",
            " )  ( ')\n",
            "(  /  )\n",
            " \\(__)|\n"
          ]
        }
      ]
    },
    {
      "cell_type": "markdown",
      "source": [
        "#####25083. 아래 예제와 같이 새싹을 출력하시오."
      ],
      "metadata": {
        "id": "A98QP68-x3Sx"
      }
    },
    {
      "cell_type": "code",
      "source": [
        "print(\"         ,r'\\\"7\\n\"\n",
        "\"r`-_   ,'  ,/\\n\"\n",
        "\" \\. \\\". L_r'\\n\"\n",
        "\"   `~\\/\\n\"\n",
        "\"      |\\n\"\n",
        "\"      |\")"
      ],
      "metadata": {
        "colab": {
          "base_uri": "https://localhost:8080/"
        },
        "id": "BGCvgJS40yFg",
        "outputId": "90a4d109-5f29-4974-a889-1527a9c01354"
      },
      "execution_count": null,
      "outputs": [
        {
          "output_type": "stream",
          "name": "stdout",
          "text": [
            "         ,r'\"7\n",
            "r`-_   ,'  ,/\n",
            " \\. \". L_r'\n",
            "   `~\\/\n",
            "      |\n",
            "      |\n"
          ]
        }
      ]
    },
    {
      "cell_type": "markdown",
      "source": [
        "#####1000. 두 정수 A와 B를 입력받은 다음, A+B를 출력하는 프로그램을 작성하시오."
      ],
      "metadata": {
        "id": "2QLqUx1ix4yI"
      }
    },
    {
      "cell_type": "code",
      "source": [
        "A , B = input().split()\n",
        "print(int(A)+int(B))"
      ],
      "metadata": {
        "colab": {
          "base_uri": "https://localhost:8080/"
        },
        "id": "3baczPIZ8DrV",
        "outputId": "fb91181f-fb5d-4f89-9e82-5a828c0e16bf"
      },
      "execution_count": null,
      "outputs": [
        {
          "output_type": "stream",
          "name": "stdout",
          "text": [
            "1 2\n",
            "3\n"
          ]
        }
      ]
    },
    {
      "cell_type": "markdown",
      "source": [
        "#####1001. 두 정수 A와 B를 입력받은 다음, A-B를 출력하는 프로그램을 작성하시오."
      ],
      "metadata": {
        "id": "C-VbO_45D5Xc"
      }
    },
    {
      "cell_type": "code",
      "source": [
        "A , B = input().split()\n",
        "print(int(A)-int(B))"
      ],
      "metadata": {
        "colab": {
          "base_uri": "https://localhost:8080/"
        },
        "id": "MAHLcUAeAavz",
        "outputId": "55f86b93-1f5a-4a76-b834-f915582f9a64"
      },
      "execution_count": null,
      "outputs": [
        {
          "output_type": "stream",
          "name": "stdout",
          "text": [
            "3 2\n",
            "1\n"
          ]
        }
      ]
    },
    {
      "cell_type": "markdown",
      "source": [
        "#####10998. 두 정수 A와 B를 입력받은 다음, A×B를 출력하는 프로그램을 작성하시오."
      ],
      "metadata": {
        "id": "8nzi5w1iyBTW"
      }
    },
    {
      "cell_type": "code",
      "source": [
        "A , B = input().split()\n",
        "print(int(A)*int(B))"
      ],
      "metadata": {
        "colab": {
          "base_uri": "https://localhost:8080/"
        },
        "id": "4KNXmsyg9xML",
        "outputId": "c271f7d0-fb2a-4f6a-fcbf-3fcd02630799"
      },
      "execution_count": null,
      "outputs": [
        {
          "output_type": "stream",
          "name": "stdout",
          "text": [
            "3 4\n",
            "12\n"
          ]
        }
      ]
    },
    {
      "cell_type": "markdown",
      "source": [
        "#####1008. 두 정수 A와 B를 입력받은 다음, A/B를 출력하는 프로그램을 작성하시오."
      ],
      "metadata": {
        "id": "idMcqQ9PyLE3"
      }
    },
    {
      "cell_type": "code",
      "source": [
        "A , B = input().split()\n",
        "print(int(A)/int(B))"
      ],
      "metadata": {
        "colab": {
          "base_uri": "https://localhost:8080/"
        },
        "id": "8devv695-iOS",
        "outputId": "9932ea94-b014-417b-9737-3e80315f1453"
      },
      "execution_count": null,
      "outputs": [
        {
          "output_type": "stream",
          "name": "stdout",
          "text": [
            "1 3\n",
            "0.3333333333333333\n"
          ]
        }
      ]
    },
    {
      "cell_type": "markdown",
      "source": [
        "#####10859. 두 자연수 A와 B가 주어진다. 이때, A+B, A-B, A*B, A/B(몫), A%B(나머지)를 출력하는 프로그램을 작성하시오. "
      ],
      "metadata": {
        "id": "kT_HejSDyPY_"
      }
    },
    {
      "cell_type": "code",
      "source": [
        "A, B = input().split()\n",
        "print(int(A)+int(B))\n",
        "print(int(A)-int(B))\n",
        "print(int(A)*int(B))\n",
        "print(int(A)//int(B))\n",
        "print(int(A)%int(B))"
      ],
      "metadata": {
        "colab": {
          "base_uri": "https://localhost:8080/"
        },
        "id": "HZeZ4iatE0CL",
        "outputId": "3bb38dc3-0384-45b4-8ce5-aef93f632865"
      },
      "execution_count": null,
      "outputs": [
        {
          "output_type": "stream",
          "name": "stdout",
          "text": [
            "7 3\n",
            "10\n",
            "4\n",
            "21\n",
            "2\n",
            "1\n"
          ]
        }
      ]
    },
    {
      "cell_type": "markdown",
      "source": [
        "#####10926. 준하는 사이트에 회원가입을 하다가 joonas라는 아이디가 이미 존재하는 것을 보고 놀랐다. 준하는 놀람을 ??!로 표현한다. \n",
        "#####준하가 가입하려고 하는 사이트에 이미 존재하는 아이디가 주어졌을 때, 놀람을 표현하는 프로그램을 작성하시오."
      ],
      "metadata": {
        "id": "UuaB5KnkyqjK"
      }
    },
    {
      "cell_type": "code",
      "source": [
        "a=input()\n",
        "print(a+'??!')"
      ],
      "metadata": {
        "colab": {
          "base_uri": "https://localhost:8080/"
        },
        "id": "XpFXiQW7FLvd",
        "outputId": "deb4b1aa-f45a-49c9-bf3e-cfd66f135521"
      },
      "execution_count": null,
      "outputs": [
        {
          "output_type": "stream",
          "name": "stdout",
          "text": [
            "baekjoon\n",
            "baekjoon??!\n"
          ]
        }
      ]
    },
    {
      "cell_type": "markdown",
      "source": [
        "#####18108. 불기 연도가 주어질 때 이를 서기 연도로 바꿔 주는 프로그램을 작성하시오."
      ],
      "metadata": {
        "id": "WZiYQk8Qywuu"
      }
    },
    {
      "cell_type": "code",
      "source": [
        "a=int(input())\n",
        "print(a-543)"
      ],
      "metadata": {
        "colab": {
          "base_uri": "https://localhost:8080/"
        },
        "id": "slau6yyLOti0",
        "outputId": "7063e717-6266-4180-c0f5-2563713d386a"
      },
      "execution_count": null,
      "outputs": [
        {
          "output_type": "stream",
          "name": "stdout",
          "text": [
            "2541\n",
            "1998\n"
          ]
        }
      ]
    },
    {
      "cell_type": "markdown",
      "source": [
        "#####10430. (A+B)%C는 ((A%C) + (B%C))%C 와 같을까?\n",
        "\n",
        "#####(A×B)%C는 ((A%C) × (B%C))%C 와 같을까?\n",
        "\n",
        "#####세 수 A, B, C가 주어졌을 때, 위의 네 가지 값을 구하는 프로그램을 작성하시오."
      ],
      "metadata": {
        "id": "H-UFQFivy_R9"
      }
    },
    {
      "cell_type": "code",
      "source": [
        "A, B, C = input().split()\n",
        "print((int(A)+int(B))%int(C))\n",
        "print(((int(A)%int(C))+(int(B)%int(C)))%int(C))\n",
        "print((int(A)*int(B))%int(C))\n",
        "print(((int(A)%int(C))*(int(B)%int(C)))%int(C))"
      ],
      "metadata": {
        "colab": {
          "base_uri": "https://localhost:8080/"
        },
        "id": "uf8OfNyVPkHp",
        "outputId": "424fc896-febc-4c9f-af09-16756a1a4a9f"
      },
      "execution_count": null,
      "outputs": [
        {
          "output_type": "stream",
          "name": "stdout",
          "text": [
            "5 8 4\n",
            "1\n",
            "1\n",
            "0\n",
            "0\n"
          ]
        }
      ]
    },
    {
      "cell_type": "markdown",
      "source": [
        "2588. 세자리 수 X 세자리 수 "
      ],
      "metadata": {
        "id": "T2fW7YgpzGlP"
      }
    },
    {
      "cell_type": "code",
      "source": [
        "a=input()\n",
        "b=input()\n",
        "c=print(int(a)*int(b[2]))\n",
        "\n",
        "d=print(int(a)*int(b[1]))\n",
        "\n",
        "e=print(int(a)*int(b[0]))\n",
        "\n",
        "print(int(a)*int(b))"
      ],
      "metadata": {
        "colab": {
          "base_uri": "https://localhost:8080/"
        },
        "id": "3PKegdAz_fdF",
        "outputId": "3beb3b20-a7c3-4d1d-ce72-612824d78b81"
      },
      "execution_count": null,
      "outputs": [
        {
          "output_type": "stream",
          "name": "stdout",
          "text": [
            "472\n",
            "385\n",
            "2360\n",
            "3776\n",
            "1416\n",
            "181720\n"
          ]
        }
      ]
    }
  ]
}