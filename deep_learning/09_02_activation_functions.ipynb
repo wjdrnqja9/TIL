{
  "cells": [
    {
      "cell_type": "markdown",
      "metadata": {
        "id": "view-in-github",
        "colab_type": "text"
      },
      "source": [
        "<a href=\"https://colab.research.google.com/github/wjdrnqja9/TIL/blob/main/deep_learning/09_02_activation_functions.ipynb\" target=\"_parent\"><img src=\"https://colab.research.google.com/assets/colab-badge.svg\" alt=\"Open In Colab\"/></a>"
      ]
    },
    {
      "cell_type": "markdown",
      "metadata": {
        "id": "mKqeJZ_x_bRI"
      },
      "source": [
        "# Activation Functions"
      ]
    },
    {
      "cell_type": "code",
      "execution_count": 1,
      "metadata": {
        "id": "zkMSQau9_bRL"
      },
      "outputs": [],
      "source": [
        "import torch\n",
        "import torch.nn as nn\n",
        "\n",
        "from matplotlib import pyplot as plt"
      ]
    },
    {
      "cell_type": "code",
      "execution_count": 2,
      "metadata": {
        "colab": {
          "base_uri": "https://localhost:8080/"
        },
        "id": "ys0H-naU_bRN",
        "outputId": "bdaaee17-5dc6-4f56-98fe-74e7dbf52f5f"
      },
      "outputs": [
        {
          "output_type": "execute_result",
          "data": {
            "text/plain": [
              "tensor([-21.6589, -20.2177, -18.2565, -16.5930, -15.2952, -14.9124, -14.1756,\n",
              "        -13.2425, -12.5199, -11.8637, -11.4930, -10.4627, -10.0992, -10.0381,\n",
              "         -9.9872,  -9.8877,  -9.6342,  -8.8545,  -8.7590,  -8.7482,  -8.5870,\n",
              "         -8.0244,  -7.5730,  -7.1999,  -6.2008,  -6.1035,  -5.5269,  -5.3178,\n",
              "         -5.2623,  -4.9049,  -4.4596,  -3.7768,  -3.4693,  -3.3048,  -3.1381,\n",
              "         -2.7358,  -2.4113,  -2.2140,  -2.1358,  -1.8983,  -1.8268,  -1.7169,\n",
              "         -0.9102,  -0.5038,  -0.0761,   0.1337,   1.2416,   1.3681,   1.5529,\n",
              "          1.8017,   1.8506,   2.5324,   2.6175,   2.7644,   2.7689,   2.9000,\n",
              "          2.9187,   3.2054,   3.7641,   4.4164,   4.6820,   5.0254,   5.0993,\n",
              "          5.1006,   5.6441,   6.1954,   6.3371,   6.7713,   7.0538,   7.0819,\n",
              "          7.4626,   7.7540,   8.1629,   8.8350,   9.6822,  10.0945,  10.2418,\n",
              "         10.3990,  10.9392,  11.0471,  11.1654,  11.3517,  11.3601,  11.8727,\n",
              "         11.9727,  12.7049,  12.9058,  13.0282,  13.1770,  13.2142,  13.2531,\n",
              "         13.7738,  13.8502,  16.0310,  16.0946,  17.3794,  17.6760,  18.5342,\n",
              "         20.5886,  22.3915])"
            ]
          },
          "metadata": {},
          "execution_count": 2
        }
      ],
      "source": [
        "x = torch.sort(torch.randn(100) * 10)[0]\n",
        "\n",
        "x"
      ]
    },
    {
      "cell_type": "markdown",
      "metadata": {
        "id": "xTl6eYLd_bRO"
      },
      "source": [
        "## Sigmoid\n",
        "\n",
        "$$\n",
        "\\sigma(x)=\\frac{1}{1+e^{-x}}\n",
        "$$"
      ]
    },
    {
      "cell_type": "code",
      "execution_count": 3,
      "metadata": {
        "colab": {
          "base_uri": "https://localhost:8080/"
        },
        "id": "Xau68Cn__bRO",
        "outputId": "be8d5693-6761-4c41-ffa4-4d59d15260d8"
      },
      "outputs": [
        {
          "output_type": "stream",
          "name": "stdout",
          "text": [
            "tensor([3.9235e-10, 1.6579e-09, 1.1785e-08, 6.2197e-08, 2.2770e-07, 3.3392e-07,\n",
            "        6.9761e-07, 1.7735e-06, 3.6532e-06, 7.0415e-06, 1.0201e-05, 2.8582e-05,\n",
            "        4.1110e-05, 4.3700e-05, 4.5981e-05, 5.0791e-05, 6.5444e-05, 1.4272e-04,\n",
            "        1.5701e-04, 1.5872e-04, 1.8649e-04, 3.2728e-04, 5.1386e-04, 7.4614e-04,\n",
            "        2.0236e-03, 2.2300e-03, 3.9625e-03, 4.8797e-03, 5.1565e-03, 7.3555e-03,\n",
            "        1.1434e-02, 2.2383e-02, 3.0199e-02, 3.5406e-02, 4.1561e-02, 6.0892e-02,\n",
            "        8.2312e-02, 9.8504e-02, 1.0566e-01, 1.3030e-01, 1.3862e-01, 1.5227e-01,\n",
            "        2.8697e-01, 3.7665e-01, 4.8098e-01, 5.3337e-01, 7.7585e-01, 7.9707e-01,\n",
            "        8.2533e-01, 8.5835e-01, 8.6419e-01, 9.2638e-01, 9.3198e-01, 9.4072e-01,\n",
            "        9.4097e-01, 9.4784e-01, 9.4876e-01, 9.6104e-01, 9.7734e-01, 9.8807e-01,\n",
            "        9.9082e-01, 9.9347e-01, 9.9394e-01, 9.9394e-01, 9.9647e-01, 9.9797e-01,\n",
            "        9.9823e-01, 9.9886e-01, 9.9914e-01, 9.9916e-01, 9.9943e-01, 9.9957e-01,\n",
            "        9.9972e-01, 9.9985e-01, 9.9994e-01, 9.9996e-01, 9.9996e-01, 9.9997e-01,\n",
            "        9.9998e-01, 9.9998e-01, 9.9999e-01, 9.9999e-01, 9.9999e-01, 9.9999e-01,\n",
            "        9.9999e-01, 1.0000e+00, 1.0000e+00, 1.0000e+00, 1.0000e+00, 1.0000e+00,\n",
            "        1.0000e+00, 1.0000e+00, 1.0000e+00, 1.0000e+00, 1.0000e+00, 1.0000e+00,\n",
            "        1.0000e+00, 1.0000e+00, 1.0000e+00, 1.0000e+00])\n"
          ]
        }
      ],
      "source": [
        "act = nn.Sigmoid()\n",
        "print(act(x))"
      ]
    },
    {
      "cell_type": "code",
      "execution_count": 4,
      "metadata": {
        "scrolled": true,
        "colab": {
          "base_uri": "https://localhost:8080/"
        },
        "id": "OnjpVbX9_bRP",
        "outputId": "92f95569-46fc-4ecd-9fe9-423412e1edbe"
      },
      "outputs": [
        {
          "output_type": "stream",
          "name": "stdout",
          "text": [
            "tensor([3.9235e-10, 1.6579e-09, 1.1785e-08, 6.2197e-08, 2.2770e-07, 3.3392e-07,\n",
            "        6.9761e-07, 1.7735e-06, 3.6532e-06, 7.0415e-06, 1.0201e-05, 2.8582e-05,\n",
            "        4.1110e-05, 4.3700e-05, 4.5981e-05, 5.0791e-05, 6.5444e-05, 1.4272e-04,\n",
            "        1.5701e-04, 1.5872e-04, 1.8649e-04, 3.2728e-04, 5.1386e-04, 7.4614e-04,\n",
            "        2.0236e-03, 2.2300e-03, 3.9625e-03, 4.8797e-03, 5.1565e-03, 7.3555e-03,\n",
            "        1.1434e-02, 2.2383e-02, 3.0199e-02, 3.5406e-02, 4.1561e-02, 6.0892e-02,\n",
            "        8.2312e-02, 9.8504e-02, 1.0566e-01, 1.3030e-01, 1.3862e-01, 1.5227e-01,\n",
            "        2.8697e-01, 3.7665e-01, 4.8098e-01, 5.3337e-01, 7.7585e-01, 7.9707e-01,\n",
            "        8.2533e-01, 8.5835e-01, 8.6419e-01, 9.2638e-01, 9.3198e-01, 9.4072e-01,\n",
            "        9.4097e-01, 9.4784e-01, 9.4876e-01, 9.6104e-01, 9.7734e-01, 9.8807e-01,\n",
            "        9.9082e-01, 9.9347e-01, 9.9394e-01, 9.9394e-01, 9.9647e-01, 9.9797e-01,\n",
            "        9.9823e-01, 9.9886e-01, 9.9914e-01, 9.9916e-01, 9.9943e-01, 9.9957e-01,\n",
            "        9.9972e-01, 9.9985e-01, 9.9994e-01, 9.9996e-01, 9.9996e-01, 9.9997e-01,\n",
            "        9.9998e-01, 9.9998e-01, 9.9999e-01, 9.9999e-01, 9.9999e-01, 9.9999e-01,\n",
            "        9.9999e-01, 1.0000e+00, 1.0000e+00, 1.0000e+00, 1.0000e+00, 1.0000e+00,\n",
            "        1.0000e+00, 1.0000e+00, 1.0000e+00, 1.0000e+00, 1.0000e+00, 1.0000e+00,\n",
            "        1.0000e+00, 1.0000e+00, 1.0000e+00, 1.0000e+00])\n"
          ]
        }
      ],
      "source": [
        "print(torch.sigmoid(x))"
      ]
    },
    {
      "cell_type": "code",
      "execution_count": 5,
      "metadata": {
        "colab": {
          "base_uri": "https://localhost:8080/",
          "height": 265
        },
        "id": "YWr9Bn-x_bRP",
        "outputId": "f486c91b-df07-43d7-d12f-1e71378ff119"
      },
      "outputs": [
        {
          "output_type": "display_data",
          "data": {
            "text/plain": [
              "<Figure size 432x288 with 1 Axes>"
            ],
            "image/png": "[encoded data removed]"
          },
          "metadata": {
            "needs_background": "light"
          }
        }
      ],
      "source": [
        "plt.plot(x.numpy(), torch.sigmoid(x).numpy())\n",
        "plt.show()"
      ]
    },
    {
      "cell_type": "markdown",
      "metadata": {
        "id": "Zc1tmXWC_bRQ"
      },
      "source": [
        "## Hypoerbolic Tangent (TanH)\n",
        "\n",
        "$$\n",
        "\\text{tanh}(x)=\\frac{e^x-e^{-x}}{e^x+e^{-x}}\n",
        "$$"
      ]
    },
    {
      "cell_type": "code",
      "execution_count": 6,
      "metadata": {
        "colab": {
          "base_uri": "https://localhost:8080/"
        },
        "id": "BK0s0YBP_bRQ",
        "outputId": "b64b2ecd-0106-4851-d311-7a0f83f7193c"
      },
      "outputs": [
        {
          "output_type": "stream",
          "name": "stdout",
          "text": [
            "tensor([-1.0000, -1.0000, -1.0000, -1.0000, -1.0000, -1.0000, -1.0000, -1.0000,\n",
            "        -1.0000, -1.0000, -1.0000, -1.0000, -1.0000, -1.0000, -1.0000, -1.0000,\n",
            "        -1.0000, -1.0000, -1.0000, -1.0000, -1.0000, -1.0000, -1.0000, -1.0000,\n",
            "        -1.0000, -1.0000, -1.0000, -1.0000, -0.9999, -0.9999, -0.9997, -0.9990,\n",
            "        -0.9981, -0.9973, -0.9962, -0.9916, -0.9840, -0.9764, -0.9725, -0.9561,\n",
            "        -0.9495, -0.9375, -0.7212, -0.4651, -0.0760,  0.1329,  0.8459,  0.8783,\n",
            "         0.9143,  0.9470,  0.9518,  0.9874,  0.9894,  0.9921,  0.9922,  0.9940,\n",
            "         0.9942,  0.9967,  0.9989,  0.9997,  0.9998,  0.9999,  0.9999,  0.9999,\n",
            "         1.0000,  1.0000,  1.0000,  1.0000,  1.0000,  1.0000,  1.0000,  1.0000,\n",
            "         1.0000,  1.0000,  1.0000,  1.0000,  1.0000,  1.0000,  1.0000,  1.0000,\n",
            "         1.0000,  1.0000,  1.0000,  1.0000,  1.0000,  1.0000,  1.0000,  1.0000,\n",
            "         1.0000,  1.0000,  1.0000,  1.0000,  1.0000,  1.0000,  1.0000,  1.0000,\n",
            "         1.0000,  1.0000,  1.0000,  1.0000])\n"
          ]
        }
      ],
      "source": [
        "act = nn.Tanh()\n",
        "print(act(x))"
      ]
    },
    {
      "cell_type": "code",
      "execution_count": 7,
      "metadata": {
        "colab": {
          "base_uri": "https://localhost:8080/"
        },
        "id": "_-ZtPcfu_bRR",
        "outputId": "47f2b5f9-7575-43e8-afcf-9ad01a689953"
      },
      "outputs": [
        {
          "output_type": "stream",
          "name": "stdout",
          "text": [
            "tensor([-1.0000, -1.0000, -1.0000, -1.0000, -1.0000, -1.0000, -1.0000, -1.0000,\n",
            "        -1.0000, -1.0000, -1.0000, -1.0000, -1.0000, -1.0000, -1.0000, -1.0000,\n",
            "        -1.0000, -1.0000, -1.0000, -1.0000, -1.0000, -1.0000, -1.0000, -1.0000,\n",
            "        -1.0000, -1.0000, -1.0000, -1.0000, -0.9999, -0.9999, -0.9997, -0.9990,\n",
            "        -0.9981, -0.9973, -0.9962, -0.9916, -0.9840, -0.9764, -0.9725, -0.9561,\n",
            "        -0.9495, -0.9375, -0.7212, -0.4651, -0.0760,  0.1329,  0.8459,  0.8783,\n",
            "         0.9143,  0.9470,  0.9518,  0.9874,  0.9894,  0.9921,  0.9922,  0.9940,\n",
            "         0.9942,  0.9967,  0.9989,  0.9997,  0.9998,  0.9999,  0.9999,  0.9999,\n",
            "         1.0000,  1.0000,  1.0000,  1.0000,  1.0000,  1.0000,  1.0000,  1.0000,\n",
            "         1.0000,  1.0000,  1.0000,  1.0000,  1.0000,  1.0000,  1.0000,  1.0000,\n",
            "         1.0000,  1.0000,  1.0000,  1.0000,  1.0000,  1.0000,  1.0000,  1.0000,\n",
            "         1.0000,  1.0000,  1.0000,  1.0000,  1.0000,  1.0000,  1.0000,  1.0000,\n",
            "         1.0000,  1.0000,  1.0000,  1.0000])\n"
          ]
        }
      ],
      "source": [
        "print(torch.tanh(x))"
      ]
    },
    {
      "cell_type": "code",
      "execution_count": 8,
      "metadata": {
        "colab": {
          "base_uri": "https://localhost:8080/",
          "height": 265
        },
        "id": "2Bh8tgTq_bRR",
        "outputId": "6b0e5782-bd57-4dba-8151-d7797526bc45"
      },
      "outputs": [
        {
          "output_type": "display_data",
          "data": {
            "text/plain": [
              "<Figure size 432x288 with 1 Axes>"
            ],
            "image/png": "[encoded data removed]"
          },
          "metadata": {
            "needs_background": "light"
          }
        }
      ],
      "source": [
        "plt.plot(x.numpy(), torch.tanh(x).numpy())\n",
        "plt.show()"
      ]
    }
  ],
  "metadata": {
    "kernelspec": {
      "display_name": "Python 3",
      "language": "python",
      "name": "python3"
    },
    "language_info": {
      "codemirror_mode": {
        "name": "ipython",
        "version": 3
      },
      "file_extension": ".py",
      "mimetype": "text/x-python",
      "name": "python",
      "nbconvert_exporter": "python",
      "pygments_lexer": "ipython3",
      "version": "3.7.6"
    },
    "colab": {
      "name": "09-02-activation_functions.ipynb",
      "provenance": [],
      "include_colab_link": true
    }
  },
  "nbformat": 4,
  "nbformat_minor": 0
}