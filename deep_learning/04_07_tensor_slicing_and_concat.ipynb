{
  "cells": [
    {
      "cell_type": "markdown",
      "metadata": {
        "id": "view-in-github",
        "colab_type": "text"
      },
      "source": [
        "<a href=\"https://colab.research.google.com/github/wjdrnqja9/TIL/blob/main/deep_learning/04_07_tensor_slicing_and_concat.ipynb\" target=\"_parent\"><img src=\"https://colab.research.google.com/assets/colab-badge.svg\" alt=\"Open In Colab\"/></a>"
      ]
    },
    {
      "cell_type": "markdown",
      "metadata": {
        "id": "1GJ9H7Z5jB4Y"
      },
      "source": [
        "## PyTorch Tensor Slicing and Concatenation"
      ]
    },
    {
      "cell_type": "code",
      "execution_count": 1,
      "metadata": {
        "id": "xlE5l6GljB4f"
      },
      "outputs": [],
      "source": [
        "import torch"
      ]
    },
    {
      "cell_type": "markdown",
      "metadata": {
        "id": "dvsuBv62jB4h"
      },
      "source": [
        "## Slicing and Concatenation"
      ]
    },
    {
      "cell_type": "markdown",
      "metadata": {
        "id": "6fOX8IW5jB4i"
      },
      "source": [
        "### Indexing and Slicing\n",
        "\n",
        "Prepare target tensor."
      ]
    },
    {
      "cell_type": "code",
      "execution_count": 2,
      "metadata": {
        "colab": {
          "base_uri": "https://localhost:8080/"
        },
        "id": "Dpo_KSAsjB4j",
        "outputId": "1fe896f6-1ada-42ad-85f6-17dd671288da"
      },
      "outputs": [
        {
          "output_type": "stream",
          "name": "stdout",
          "text": [
            "torch.Size([3, 2, 2])\n"
          ]
        }
      ],
      "source": [
        "x = torch.FloatTensor([[[1, 2],\n",
        "                        [3, 4]],\n",
        "                       [[5, 6],\n",
        "                        [7, 8]],\n",
        "                       [[9, 10],\n",
        "                        [11, 12]]])\n",
        "print(x.size())"
      ]
    },
    {
      "cell_type": "markdown",
      "metadata": {
        "id": "2AtoNsimjB4k"
      },
      "source": [
        "Access to certain dimension."
      ]
    },
    {
      "cell_type": "code",
      "execution_count": 3,
      "metadata": {
        "colab": {
          "base_uri": "https://localhost:8080/"
        },
        "id": "2bvcbu_OjB4l",
        "outputId": "770f4c23-551a-4128-a291-78751dc779cb"
      },
      "outputs": [
        {
          "output_type": "stream",
          "name": "stdout",
          "text": [
            "tensor([[1., 2.],\n",
            "        [3., 4.]])\n",
            "tensor([[1., 2.],\n",
            "        [3., 4.]])\n",
            "tensor([[1., 2.],\n",
            "        [3., 4.]])\n"
          ]
        }
      ],
      "source": [
        "print(x[0])\n",
        "print(x[0, :])\n",
        "print(x[0, :, :])"
      ]
    },
    {
      "cell_type": "code",
      "execution_count": 4,
      "metadata": {
        "colab": {
          "base_uri": "https://localhost:8080/"
        },
        "id": "M9mfG4UAjB4m",
        "outputId": "96c1d4a4-1aae-4a45-b2d8-a0fa973e5e9e"
      },
      "outputs": [
        {
          "output_type": "stream",
          "name": "stdout",
          "text": [
            "tensor([[ 9., 10.],\n",
            "        [11., 12.]])\n",
            "tensor([[ 9., 10.],\n",
            "        [11., 12.]])\n",
            "tensor([[ 9., 10.],\n",
            "        [11., 12.]])\n"
          ]
        }
      ],
      "source": [
        "print(x[-1])\n",
        "print(x[-1, :])\n",
        "print(x[-1, :, :])"
      ]
    },
    {
      "cell_type": "code",
      "execution_count": 5,
      "metadata": {
        "colab": {
          "base_uri": "https://localhost:8080/"
        },
        "id": "uOGaFNugjB4m",
        "outputId": "82eef718-2357-4019-e42f-79d0cf1e8f06"
      },
      "outputs": [
        {
          "output_type": "stream",
          "name": "stdout",
          "text": [
            "tensor([[ 1.,  2.],\n",
            "        [ 5.,  6.],\n",
            "        [ 9., 10.]])\n"
          ]
        }
      ],
      "source": [
        "print(x[:, 0, :])"
      ]
    },
    {
      "cell_type": "markdown",
      "metadata": {
        "id": "HdtfhtwdjB4n"
      },
      "source": [
        "Access by range. Note that the number of dimensions would not be changed."
      ]
    },
    {
      "cell_type": "code",
      "execution_count": 6,
      "metadata": {
        "scrolled": true,
        "colab": {
          "base_uri": "https://localhost:8080/"
        },
        "id": "oJOyryrgjB4o",
        "outputId": "77db83b7-1efe-4324-8da6-67e620351263"
      },
      "outputs": [
        {
          "output_type": "stream",
          "name": "stdout",
          "text": [
            "torch.Size([2, 2, 2])\n",
            "torch.Size([3, 1, 2])\n",
            "torch.Size([3, 1, 2])\n"
          ]
        }
      ],
      "source": [
        "print(x[1:3, :, :].size())\n",
        "print(x[:, :1, :].size())\n",
        "print(x[:, :-1, :].size())"
      ]
    },
    {
      "cell_type": "markdown",
      "metadata": {
        "id": "vnZcQtlejB4p"
      },
      "source": [
        "### split: Split tensor to desirable shapes."
      ]
    },
    {
      "cell_type": "code",
      "execution_count": 7,
      "metadata": {
        "id": "IVAH-ajDjB4p"
      },
      "outputs": [],
      "source": [
        "x = torch.FloatTensor(10, 4)"
      ]
    },
    {
      "cell_type": "code",
      "execution_count": 8,
      "metadata": {
        "colab": {
          "base_uri": "https://localhost:8080/"
        },
        "id": "S_B208HvjB4q",
        "outputId": "5da07594-f475-46f0-afac-4ffb13dd2f03"
      },
      "outputs": [
        {
          "output_type": "stream",
          "name": "stdout",
          "text": [
            "torch.Size([4, 4])\n",
            "torch.Size([4, 4])\n",
            "torch.Size([2, 4])\n"
          ]
        }
      ],
      "source": [
        "splits = x.split(4, dim=0)\n",
        "\n",
        "for s in splits:\n",
        "    print(s.size())"
      ]
    },
    {
      "cell_type": "markdown",
      "metadata": {
        "id": "AK6LDIBLjB4r"
      },
      "source": [
        "### chunk: Split tensor to number of chunks."
      ]
    },
    {
      "cell_type": "code",
      "execution_count": 9,
      "metadata": {
        "id": "nmUw2PiWjB4r"
      },
      "outputs": [],
      "source": [
        "x = torch.FloatTensor(8, 4)"
      ]
    },
    {
      "cell_type": "code",
      "execution_count": 10,
      "metadata": {
        "colab": {
          "base_uri": "https://localhost:8080/"
        },
        "id": "tBqFjzBGjB4s",
        "outputId": "2bcd80ea-8c89-4df3-ad25-fe9378534361"
      },
      "outputs": [
        {
          "output_type": "stream",
          "name": "stdout",
          "text": [
            "torch.Size([3, 4])\n",
            "torch.Size([3, 4])\n",
            "torch.Size([2, 4])\n"
          ]
        }
      ],
      "source": [
        "chunks = x.chunk(3, dim=0)\n",
        "\n",
        "for c in chunks:\n",
        "    print(c.size())"
      ]
    },
    {
      "cell_type": "markdown",
      "metadata": {
        "id": "1a9GeSl3jB4s"
      },
      "source": [
        "### index_select: Select elements by using dimension index."
      ]
    },
    {
      "cell_type": "code",
      "execution_count": 11,
      "metadata": {
        "colab": {
          "base_uri": "https://localhost:8080/"
        },
        "id": "PH3RZMorjB4t",
        "outputId": "81ac2456-f2d3-4c5f-df72-e34147503781"
      },
      "outputs": [
        {
          "output_type": "stream",
          "name": "stdout",
          "text": [
            "torch.Size([3, 2, 2])\n"
          ]
        }
      ],
      "source": [
        "x = torch.FloatTensor([[[1, 1],\n",
        "                        [2, 2]],\n",
        "                       [[3, 3],\n",
        "                        [4, 4]],\n",
        "                       [[5, 5],\n",
        "                        [6, 6]]])\n",
        "indice = torch.LongTensor([2, 1])\n",
        "\n",
        "print(x.size())"
      ]
    },
    {
      "cell_type": "code",
      "execution_count": 12,
      "metadata": {
        "colab": {
          "base_uri": "https://localhost:8080/"
        },
        "id": "JiVVAVVVjB4t",
        "outputId": "1805435a-3243-4537-bfc7-5aa6a34baf8c"
      },
      "outputs": [
        {
          "output_type": "stream",
          "name": "stdout",
          "text": [
            "tensor([[[5., 5.],\n",
            "         [6., 6.]],\n",
            "\n",
            "        [[3., 3.],\n",
            "         [4., 4.]]])\n",
            "torch.Size([2, 2, 2])\n"
          ]
        }
      ],
      "source": [
        "y = x.index_select(dim=0, index=indice)\n",
        "\n",
        "print(y)\n",
        "print(y.size())"
      ]
    },
    {
      "cell_type": "markdown",
      "metadata": {
        "id": "BY0PnLN-jB4u"
      },
      "source": [
        "### cat: Concatenation of multiple tensors in the list."
      ]
    },
    {
      "cell_type": "code",
      "execution_count": 13,
      "metadata": {
        "colab": {
          "base_uri": "https://localhost:8080/"
        },
        "id": "4ApfhdINjB4u",
        "outputId": "75f4f302-dfc8-4168-8653-1fd6e2537baa"
      },
      "outputs": [
        {
          "output_type": "stream",
          "name": "stdout",
          "text": [
            "torch.Size([3, 3]) torch.Size([3, 3])\n"
          ]
        }
      ],
      "source": [
        "x = torch.FloatTensor([[1, 2, 3],\n",
        "                       [4, 5, 6],\n",
        "                       [7, 8, 9]])\n",
        "y = torch.FloatTensor([[10, 11, 12],\n",
        "                       [13, 14, 15],\n",
        "                       [16, 17, 18]])\n",
        "\n",
        "print(x.size(), y.size())"
      ]
    },
    {
      "cell_type": "code",
      "execution_count": 14,
      "metadata": {
        "colab": {
          "base_uri": "https://localhost:8080/"
        },
        "id": "K--SOHIejB4v",
        "outputId": "fa25238b-99fc-4bf5-fc1f-74cf60c3791e"
      },
      "outputs": [
        {
          "output_type": "stream",
          "name": "stdout",
          "text": [
            "tensor([[ 1.,  2.,  3.],\n",
            "        [ 4.,  5.,  6.],\n",
            "        [ 7.,  8.,  9.],\n",
            "        [10., 11., 12.],\n",
            "        [13., 14., 15.],\n",
            "        [16., 17., 18.]])\n",
            "torch.Size([6, 3])\n"
          ]
        }
      ],
      "source": [
        "z = torch.cat([x, y], dim=0)\n",
        "print(z)\n",
        "print(z.size())"
      ]
    },
    {
      "cell_type": "code",
      "execution_count": 15,
      "metadata": {
        "colab": {
          "base_uri": "https://localhost:8080/"
        },
        "id": "47CTNdQ1jB4w",
        "outputId": "73e4138c-3a72-48fd-cf62-c76ccca05586"
      },
      "outputs": [
        {
          "output_type": "stream",
          "name": "stdout",
          "text": [
            "tensor([[ 1.,  2.,  3., 10., 11., 12.],\n",
            "        [ 4.,  5.,  6., 13., 14., 15.],\n",
            "        [ 7.,  8.,  9., 16., 17., 18.]])\n",
            "torch.Size([3, 6])\n"
          ]
        }
      ],
      "source": [
        "z = torch.cat([x, y], dim=-1)\n",
        "print(z)\n",
        "print(z.size())"
      ]
    },
    {
      "cell_type": "markdown",
      "metadata": {
        "id": "_f2lrSsgjB4w"
      },
      "source": [
        "### stack: Stacking of multiple tensors in the list."
      ]
    },
    {
      "cell_type": "code",
      "execution_count": 16,
      "metadata": {
        "colab": {
          "base_uri": "https://localhost:8080/"
        },
        "id": "BxWCbhPajB4w",
        "outputId": "b264b670-35ec-4845-95de-7c9ddc209ebb"
      },
      "outputs": [
        {
          "output_type": "stream",
          "name": "stdout",
          "text": [
            "tensor([[[ 1.,  2.,  3.],\n",
            "         [ 4.,  5.,  6.],\n",
            "         [ 7.,  8.,  9.]],\n",
            "\n",
            "        [[10., 11., 12.],\n",
            "         [13., 14., 15.],\n",
            "         [16., 17., 18.]]])\n",
            "torch.Size([2, 3, 3])\n"
          ]
        }
      ],
      "source": [
        "z = torch.stack([x, y])\n",
        "print(z)\n",
        "print(z.size())"
      ]
    },
    {
      "cell_type": "markdown",
      "metadata": {
        "id": "B54w7BISjB4w"
      },
      "source": [
        "Or you can specify the dimension. Default is 0."
      ]
    },
    {
      "cell_type": "code",
      "execution_count": 17,
      "metadata": {
        "colab": {
          "base_uri": "https://localhost:8080/"
        },
        "id": "4WulRmAijB4x",
        "outputId": "162f1867-77c3-4dee-fd61-357ac2398b03"
      },
      "outputs": [
        {
          "output_type": "stream",
          "name": "stdout",
          "text": [
            "tensor([[[ 1., 10.],\n",
            "         [ 2., 11.],\n",
            "         [ 3., 12.]],\n",
            "\n",
            "        [[ 4., 13.],\n",
            "         [ 5., 14.],\n",
            "         [ 6., 15.]],\n",
            "\n",
            "        [[ 7., 16.],\n",
            "         [ 8., 17.],\n",
            "         [ 9., 18.]]])\n",
            "torch.Size([3, 3, 2])\n"
          ]
        }
      ],
      "source": [
        "z = torch.stack([x, y], dim=-1)\n",
        "print(z)\n",
        "print(z.size())"
      ]
    },
    {
      "cell_type": "markdown",
      "metadata": {
        "id": "MuAwfUFUjB4x"
      },
      "source": [
        "### Implement 'stack' function by using 'cat'."
      ]
    },
    {
      "cell_type": "code",
      "execution_count": 18,
      "metadata": {
        "colab": {
          "base_uri": "https://localhost:8080/"
        },
        "id": "Jy4zr_xEjB4x",
        "outputId": "8e91c71c-af2c-44b8-98fa-3643f70b5ac2"
      },
      "outputs": [
        {
          "output_type": "stream",
          "name": "stdout",
          "text": [
            "tensor([[[ 1.,  2.,  3.],\n",
            "         [ 4.,  5.,  6.],\n",
            "         [ 7.,  8.,  9.]],\n",
            "\n",
            "        [[10., 11., 12.],\n",
            "         [13., 14., 15.],\n",
            "         [16., 17., 18.]]])\n",
            "torch.Size([2, 3, 3])\n"
          ]
        }
      ],
      "source": [
        "# z = torch.stack([x, y])\n",
        "z = torch.cat([x.unsqueeze(0), y.unsqueeze(0)], dim=0)\n",
        "print(z)\n",
        "print(z.size())"
      ]
    },
    {
      "cell_type": "markdown",
      "metadata": {
        "id": "9e7eW50BjB4x"
      },
      "source": [
        "### Useful Trick: Merge results from iterations"
      ]
    },
    {
      "cell_type": "code",
      "execution_count": 19,
      "metadata": {
        "colab": {
          "base_uri": "https://localhost:8080/"
        },
        "id": "-sYDbi6bjB4y",
        "outputId": "573b8fad-fff5-42d7-e0d3-d61e4409186a"
      },
      "outputs": [
        {
          "output_type": "execute_result",
          "data": {
            "text/plain": [
              "torch.Size([5, 2, 2])"
            ]
          },
          "metadata": {},
          "execution_count": 19
        }
      ],
      "source": [
        "result = []\n",
        "for i in range(5):\n",
        "    x = torch.FloatTensor(2, 2)\n",
        "    result += [x]\n",
        "\n",
        "result = torch.stack(result)\n",
        "result.size()"
      ]
    },
    {
      "cell_type": "code",
      "execution_count": null,
      "metadata": {
        "id": "YQVMLr9rjB4y"
      },
      "outputs": [],
      "source": [
        ""
      ]
    }
  ],
  "metadata": {
    "kernelspec": {
      "display_name": "Python 3",
      "language": "python",
      "name": "python3"
    },
    "language_info": {
      "codemirror_mode": {
        "name": "ipython",
        "version": 3
      },
      "file_extension": ".py",
      "mimetype": "text/x-python",
      "name": "python",
      "nbconvert_exporter": "python",
      "pygments_lexer": "ipython3",
      "version": "3.7.6"
    },
    "colab": {
      "name": "04-07-tensor_slicing_and_concat.ipynb",
      "provenance": [],
      "include_colab_link": true
    }
  },
  "nbformat": 4,
  "nbformat_minor": 0
}