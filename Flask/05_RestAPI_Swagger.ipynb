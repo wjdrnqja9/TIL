{
  "cells": [
    {
      "cell_type": "markdown",
      "metadata": {
        "id": "view-in-github",
        "colab_type": "text"
      },
      "source": [
        "<a href=\"https://colab.research.google.com/github/wjdrnqja9/TIL/blob/main/Flask/05_RestAPI_Swagger.ipynb\" target=\"_parent\"><img src=\"https://colab.research.google.com/assets/colab-badge.svg\" alt=\"Open In Colab\"/></a>"
      ]
    },
    {
      "cell_type": "code",
      "execution_count": null,
      "id": "8579bb86",
      "metadata": {
        "id": "8579bb86"
      },
      "outputs": [],
      "source": [
        "from flask import Flask\n",
        "from flask import render_template\n",
        "from flask_restx import Api, Resource, reqparse"
      ]
    },
    {
      "cell_type": "code",
      "execution_count": null,
      "id": "18fa17a1",
      "metadata": {
        "id": "18fa17a1"
      },
      "outputs": [],
      "source": [
        "app = Flask(__name__)\n",
        "api = Api(app, version='1.0', title='API 문서', description='Swagger 문서', doc=\"/api-docs\")\n",
        "FlaskAPI = api.namespace('test', description='조회 API')"
      ]
    },
    {
      "cell_type": "code",
      "execution_count": null,
      "id": "8ffbab0d",
      "metadata": {
        "id": "8ffbab0d"
      },
      "outputs": [],
      "source": [
        "@FlaskAPI.route('/hello')\n",
        "class hello_world(Resource):\n",
        "    def get(self):\n",
        "        return \"hello world\""
      ]
    },
    {
      "cell_type": "code",
      "execution_count": null,
      "id": "4946c3b5",
      "metadata": {
        "id": "4946c3b5"
      },
      "outputs": [],
      "source": [
        "@FlaskAPI.route('/product/<name>')\n",
        "class get_product(Resource):\n",
        "    def get(self):\n",
        "        return \"The product is \" + str(name)"
      ]
    },
    {
      "cell_type": "code",
      "execution_count": null,
      "id": "40716105",
      "metadata": {
        "id": "40716105"
      },
      "outputs": [],
      "source": [
        "@FlaskAPI.route('/sale/<transaction_id>')\n",
        "class get_sale(Resource):\n",
        "    def get(self, transaction_id=0):\n",
        "        return \"The transaction is \"+str(transaction_id)"
      ]
    },
    {
      "cell_type": "code",
      "execution_count": null,
      "id": "85729a5f",
      "metadata": {
        "id": "85729a5f"
      },
      "outputs": [],
      "source": [
        "@FlaskAPI.route('/create/<first_name>/<last_name>')\n",
        "class create(Resource):\n",
        "    def get(self, first_name=None, last_name=None):\n",
        "        return 'Hello ' + first_name + ',' + last_name"
      ]
    },
    {
      "cell_type": "code",
      "execution_count": null,
      "id": "1fc097aa",
      "metadata": {
        "id": "1fc097aa",
        "outputId": "3eb4b3c0-5fbc-4100-a18c-8eaa03669d0e"
      },
      "outputs": [
        {
          "name": "stdout",
          "output_type": "stream",
          "text": [
            " * Serving Flask app '__main__' (lazy loading)\n",
            " * Environment: production\n",
            "\u001b[31m   WARNING: This is a development server. Do not use it in a production deployment.\u001b[0m\n",
            "\u001b[2m   Use a production WSGI server instead.\u001b[0m\n",
            " * Debug mode: off\n"
          ]
        },
        {
          "name": "stderr",
          "output_type": "stream",
          "text": [
            " * Running on all addresses (0.0.0.0)\n",
            "   WARNING: This is a development server. Do not use it in a production deployment.\n",
            " * Running on http://127.0.0.1:5000\n",
            " * Running on http://192.168.2.16:5000 (Press CTRL+C to quit)\n",
            "127.0.0.1 - - [06/Jul/2022 11:11:58] \"GET /hello_world HTTP/1.1\" 404 -\n",
            "127.0.0.1 - - [06/Jul/2022 11:11:59] \"GET /favicon.ico HTTP/1.1\" 404 -\n",
            "127.0.0.1 - - [06/Jul/2022 11:12:00] \"GET /hello_world HTTP/1.1\" 404 -\n",
            "127.0.0.1 - - [06/Jul/2022 11:12:00] \"GET /favicon.ico HTTP/1.1\" 404 -\n",
            "127.0.0.1 - - [06/Jul/2022 11:12:00] \"GET /hello_world HTTP/1.1\" 404 -\n",
            "127.0.0.1 - - [06/Jul/2022 11:12:02] \"GET /hello HTTP/1.1\" 404 -\n",
            "127.0.0.1 - - [06/Jul/2022 11:12:46] \"GET / HTTP/1.1\" 404 -\n",
            "127.0.0.1 - - [06/Jul/2022 11:12:49] \"GET /api-docs HTTP/1.1\" 200 -\n",
            "127.0.0.1 - - [06/Jul/2022 11:12:50] \"GET /swaggerui/droid-sans.css HTTP/1.1\" 304 -\n",
            "127.0.0.1 - - [06/Jul/2022 11:12:50] \"GET /swaggerui/swagger-ui-bundle.js HTTP/1.1\" 304 -\n",
            "127.0.0.1 - - [06/Jul/2022 11:12:50] \"GET /swaggerui/swagger-ui-standalone-preset.js HTTP/1.1\" 304 -\n",
            "127.0.0.1 - - [06/Jul/2022 11:12:50] \"GET /swaggerui/swagger-ui.css HTTP/1.1\" 304 -\n",
            "127.0.0.1 - - [06/Jul/2022 11:12:50] \"GET /swagger.json HTTP/1.1\" 200 -\n",
            "127.0.0.1 - - [06/Jul/2022 11:13:07] \"GET /test/helo HTTP/1.1\" 404 -\n",
            "127.0.0.1 - - [06/Jul/2022 11:13:09] \"GET /test/hello HTTP/1.1\" 200 -\n",
            "127.0.0.1 - - [06/Jul/2022 11:13:24] \"GET /sale/300 HTTP/1.1\" 404 -\n",
            "127.0.0.1 - - [06/Jul/2022 11:13:37] \"GET /test/sale/300 HTTP/1.1\" 200 -\n"
          ]
        }
      ],
      "source": [
        "app.run(host='0.0.0.0', port=5000)"
      ]
    },
    {
      "cell_type": "code",
      "execution_count": null,
      "id": "13870a9c",
      "metadata": {
        "id": "13870a9c"
      },
      "outputs": [],
      "source": [
        "# http://127.0.0.1:5000/test/hello\n",
        "# http://127.0.0.1:5000/test/sale/300"
      ]
    }
  ],
  "metadata": {
    "kernelspec": {
      "display_name": "Python 3 (ipykernel)",
      "language": "python",
      "name": "python3"
    },
    "language_info": {
      "codemirror_mode": {
        "name": "ipython",
        "version": 3
      },
      "file_extension": ".py",
      "mimetype": "text/x-python",
      "name": "python",
      "nbconvert_exporter": "python",
      "pygments_lexer": "ipython3",
      "version": "3.10.2"
    },
    "colab": {
      "name": "05.RestAPI_Swagger.ipynb",
      "provenance": [],
      "include_colab_link": true
    }
  },
  "nbformat": 4,
  "nbformat_minor": 5
}