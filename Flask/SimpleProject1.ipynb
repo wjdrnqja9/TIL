{
  "cells": [
    {
      "cell_type": "markdown",
      "metadata": {
        "id": "view-in-github",
        "colab_type": "text"
      },
      "source": [
        "<a href=\"https://colab.research.google.com/github/wjdrnqja9/TIL/blob/main/Flask/SimpleProject1.ipynb\" target=\"_parent\"><img src=\"https://colab.research.google.com/assets/colab-badge.svg\" alt=\"Open In Colab\"/></a>"
      ]
    },
    {
      "cell_type": "markdown",
      "id": "e1f2ffe0",
      "metadata": {
        "id": "e1f2ffe0"
      },
      "source": [
        "## 참고: https://hleecaster.com/ml-linear-regression-example/"
      ]
    },
    {
      "cell_type": "markdown",
      "id": "68454dc7",
      "metadata": {
        "id": "68454dc7"
      },
      "source": [
        "## 라이브러리 설치, 호출"
      ]
    },
    {
      "cell_type": "markdown",
      "id": "e93443a5",
      "metadata": {
        "id": "e93443a5"
      },
      "source": [
        "!pip3 install -U scikit-learn<br>\n",
        "!pip3 install pandas<br>\n",
        "!pip3 install numpy<br>\n",
        "!pip3 install matplotlib<br>\n",
        "!pip3 install statsmodels<br>"
      ]
    },
    {
      "cell_type": "code",
      "execution_count": null,
      "id": "bb5f7f0f",
      "metadata": {
        "id": "bb5f7f0f",
        "outputId": "fd46a7cf-60c6-45e3-9797-99d0f9849537"
      },
      "outputs": [
        {
          "name": "stdout",
          "output_type": "stream",
          "text": [
            "Requirement already satisfied: scikit-learn in c:\\users\\youo2\\anaconda3\\lib\\site-packages (0.24.1)\n",
            "Collecting scikit-learn\n",
            "  Downloading scikit_learn-1.1.1-cp38-cp38-win_amd64.whl (7.3 MB)\n",
            "Requirement already satisfied: scipy>=1.3.2 in c:\\users\\youo2\\anaconda3\\lib\\site-packages (from scikit-learn) (1.6.2)\n",
            "Requirement already satisfied: numpy>=1.17.3 in c:\\users\\youo2\\anaconda3\\lib\\site-packages (from scikit-learn) (1.19.5)\n",
            "Requirement already satisfied: threadpoolctl>=2.0.0 in c:\\users\\youo2\\anaconda3\\lib\\site-packages (from scikit-learn) (2.1.0)\n",
            "Requirement already satisfied: joblib>=1.0.0 in c:\\users\\youo2\\anaconda3\\lib\\site-packages (from scikit-learn) (1.0.1)\n",
            "Installing collected packages: scikit-learn\n",
            "  Attempting uninstall: scikit-learn\n",
            "    Found existing installation: scikit-learn 0.24.1\n",
            "    Uninstalling scikit-learn-0.24.1:\n",
            "      Successfully uninstalled scikit-learn-0.24.1\n",
            "Successfully installed scikit-learn-1.1.1\n",
            "Requirement already satisfied: pandas in c:\\users\\youo2\\anaconda3\\lib\\site-packages (1.2.4)\n",
            "Requirement already satisfied: numpy>=1.16.5 in c:\\users\\youo2\\anaconda3\\lib\\site-packages (from pandas) (1.19.5)\n",
            "Requirement already satisfied: pytz>=2017.3 in c:\\users\\youo2\\anaconda3\\lib\\site-packages (from pandas) (2021.1)\n",
            "Requirement already satisfied: python-dateutil>=2.7.3 in c:\\users\\youo2\\anaconda3\\lib\\site-packages (from pandas) (2.8.1)\n",
            "Requirement already satisfied: six>=1.5 in c:\\users\\youo2\\anaconda3\\lib\\site-packages (from python-dateutil>=2.7.3->pandas) (1.15.0)\n",
            "Requirement already satisfied: numpy in c:\\users\\youo2\\anaconda3\\lib\\site-packages (1.19.5)\n",
            "Requirement already satisfied: matplotlib in c:\\users\\youo2\\anaconda3\\lib\\site-packages (3.3.4)\n",
            "Requirement already satisfied: numpy>=1.15 in c:\\users\\youo2\\anaconda3\\lib\\site-packages (from matplotlib) (1.19.5)\n",
            "Requirement already satisfied: pillow>=6.2.0 in c:\\users\\youo2\\anaconda3\\lib\\site-packages (from matplotlib) (8.2.0)\n",
            "Requirement already satisfied: cycler>=0.10 in c:\\users\\youo2\\anaconda3\\lib\\site-packages (from matplotlib) (0.10.0)\n",
            "Requirement already satisfied: python-dateutil>=2.1 in c:\\users\\youo2\\anaconda3\\lib\\site-packages (from matplotlib) (2.8.1)\n",
            "Requirement already satisfied: pyparsing!=2.0.4,!=2.1.2,!=2.1.6,>=2.0.3 in c:\\users\\youo2\\anaconda3\\lib\\site-packages (from matplotlib) (2.4.7)\n",
            "Requirement already satisfied: kiwisolver>=1.0.1 in c:\\users\\youo2\\anaconda3\\lib\\site-packages (from matplotlib) (1.3.1)\n",
            "Requirement already satisfied: six in c:\\users\\youo2\\anaconda3\\lib\\site-packages (from cycler>=0.10->matplotlib) (1.15.0)\n",
            "Requirement already satisfied: statsmodels in c:\\users\\youo2\\anaconda3\\lib\\site-packages (0.12.2)\n",
            "Requirement already satisfied: numpy>=1.15 in c:\\users\\youo2\\anaconda3\\lib\\site-packages (from statsmodels) (1.19.5)\n",
            "Requirement already satisfied: scipy>=1.1 in c:\\users\\youo2\\anaconda3\\lib\\site-packages (from statsmodels) (1.6.2)\n",
            "Requirement already satisfied: pandas>=0.21 in c:\\users\\youo2\\anaconda3\\lib\\site-packages (from statsmodels) (1.2.4)\n",
            "Requirement already satisfied: patsy>=0.5 in c:\\users\\youo2\\anaconda3\\lib\\site-packages (from statsmodels) (0.5.1)\n",
            "Requirement already satisfied: python-dateutil>=2.7.3 in c:\\users\\youo2\\anaconda3\\lib\\site-packages (from pandas>=0.21->statsmodels) (2.8.1)\n",
            "Requirement already satisfied: pytz>=2017.3 in c:\\users\\youo2\\anaconda3\\lib\\site-packages (from pandas>=0.21->statsmodels) (2021.1)\n",
            "Requirement already satisfied: six in c:\\users\\youo2\\anaconda3\\lib\\site-packages (from patsy>=0.5->statsmodels) (1.15.0)\n"
          ]
        }
      ],
      "source": [
        "!pip3 install -U scikit-learn\n",
        "!pip3 install pandas\n",
        "!pip3 install numpy\n",
        "!pip3 install matplotlib\n",
        "!pip3 install statsmodels"
      ]
    },
    {
      "cell_type": "code",
      "execution_count": null,
      "id": "5d627762",
      "metadata": {
        "id": "5d627762"
      },
      "outputs": [],
      "source": [
        "import tensorflow as tf\n",
        "import pandas as pd\n",
        "import numpy as np\n",
        "import matplotlib.pyplot as plt\n",
        "import statsmodels.api as sm\n",
        "\n",
        "from tensorflow.keras.models import Sequential, load_model\n",
        "from tensorflow.keras.layers import Dense\n",
        "from tensorflow.keras.optimizers import SGD, Adam\n",
        "from tensorflow.keras.callbacks import ModelCheckpoint, TensorBoard, ReduceLROnPlateau"
      ]
    },
    {
      "cell_type": "markdown",
      "id": "f4b7823f",
      "metadata": {
        "id": "f4b7823f"
      },
      "source": [
        "## 데이터 다운로드 (특별할인 판매)"
      ]
    },
    {
      "cell_type": "code",
      "execution_count": null,
      "id": "7a59f102",
      "metadata": {
        "id": "7a59f102",
        "outputId": "3d63b0e6-2fc2-43de-b94c-7f6a0b86c37f"
      },
      "outputs": [
        {
          "name": "stdout",
          "output_type": "stream",
          "text": [
            "   Pregnancies  Glucose  BloodPressure  SkinThickness  Insulin   BMI  \\\n",
            "0            6      148             72             35        0  33.6   \n",
            "1            1       85             66             29        0  26.6   \n",
            "2            8      183             64              0        0  23.3   \n",
            "3            1       89             66             23       94  28.1   \n",
            "4            0      137             40             35      168  43.1   \n",
            "\n",
            "   DiabetesPedigreeFunction  Age  Outcome  \n",
            "0                     0.627   50        1  \n",
            "1                     0.351   31        0  \n",
            "2                     0.672   32        1  \n",
            "3                     0.167   21        0  \n",
            "4                     2.288   33        1  \n",
            "(768, 9)\n"
          ]
        }
      ],
      "source": [
        "import pandas as pd\n",
        "df = pd.read_csv('diabetes.csv')\n",
        "print(df.head())\n",
        "print(df.shape)"
      ]
    },
    {
      "cell_type": "markdown",
      "id": "40f0380b",
      "metadata": {
        "id": "40f0380b"
      },
      "source": [
        "## Input, Feature 설정"
      ]
    },
    {
      "cell_type": "code",
      "execution_count": null,
      "id": "71d020c0",
      "metadata": {
        "id": "71d020c0"
      },
      "outputs": [],
      "source": [
        "Label = df['Outcome']\n",
        "InputFeature = df[[\"Pregnancies\", \"Glucose\", \"BloodPressure\", \"SkinThickness\", \n",
        "                   \"Insulin\", \"BMI\", \"DiabetesPedigreeFunction\", \"Age\"]]"
      ]
    },
    {
      "cell_type": "code",
      "execution_count": null,
      "id": "73a38234",
      "metadata": {
        "id": "73a38234",
        "outputId": "a3b6140e-8d28-4521-be40-28876e8b07d1"
      },
      "outputs": [
        {
          "data": {
            "text/html": [
              "<div>\n",
              "<style scoped>\n",
              "    .dataframe tbody tr th:only-of-type {\n",
              "        vertical-align: middle;\n",
              "    }\n",
              "\n",
              "    .dataframe tbody tr th {\n",
              "        vertical-align: top;\n",
              "    }\n",
              "\n",
              "    .dataframe thead th {\n",
              "        text-align: right;\n",
              "    }\n",
              "</style>\n",
              "<table border=\"1\" class=\"dataframe\">\n",
              "  <thead>\n",
              "    <tr style=\"text-align: right;\">\n",
              "      <th></th>\n",
              "      <th>Pregnancies</th>\n",
              "      <th>Glucose</th>\n",
              "      <th>BloodPressure</th>\n",
              "      <th>SkinThickness</th>\n",
              "      <th>Insulin</th>\n",
              "      <th>BMI</th>\n",
              "      <th>DiabetesPedigreeFunction</th>\n",
              "      <th>Age</th>\n",
              "    </tr>\n",
              "  </thead>\n",
              "  <tbody>\n",
              "    <tr>\n",
              "      <th>0</th>\n",
              "      <td>6</td>\n",
              "      <td>148</td>\n",
              "      <td>72</td>\n",
              "      <td>35</td>\n",
              "      <td>0</td>\n",
              "      <td>33.6</td>\n",
              "      <td>0.627</td>\n",
              "      <td>50</td>\n",
              "    </tr>\n",
              "    <tr>\n",
              "      <th>1</th>\n",
              "      <td>1</td>\n",
              "      <td>85</td>\n",
              "      <td>66</td>\n",
              "      <td>29</td>\n",
              "      <td>0</td>\n",
              "      <td>26.6</td>\n",
              "      <td>0.351</td>\n",
              "      <td>31</td>\n",
              "    </tr>\n",
              "    <tr>\n",
              "      <th>2</th>\n",
              "      <td>8</td>\n",
              "      <td>183</td>\n",
              "      <td>64</td>\n",
              "      <td>0</td>\n",
              "      <td>0</td>\n",
              "      <td>23.3</td>\n",
              "      <td>0.672</td>\n",
              "      <td>32</td>\n",
              "    </tr>\n",
              "    <tr>\n",
              "      <th>3</th>\n",
              "      <td>1</td>\n",
              "      <td>89</td>\n",
              "      <td>66</td>\n",
              "      <td>23</td>\n",
              "      <td>94</td>\n",
              "      <td>28.1</td>\n",
              "      <td>0.167</td>\n",
              "      <td>21</td>\n",
              "    </tr>\n",
              "    <tr>\n",
              "      <th>4</th>\n",
              "      <td>0</td>\n",
              "      <td>137</td>\n",
              "      <td>40</td>\n",
              "      <td>35</td>\n",
              "      <td>168</td>\n",
              "      <td>43.1</td>\n",
              "      <td>2.288</td>\n",
              "      <td>33</td>\n",
              "    </tr>\n",
              "  </tbody>\n",
              "</table>\n",
              "</div>"
            ],
            "text/plain": [
              "   Pregnancies  Glucose  BloodPressure  SkinThickness  Insulin   BMI  \\\n",
              "0            6      148             72             35        0  33.6   \n",
              "1            1       85             66             29        0  26.6   \n",
              "2            8      183             64              0        0  23.3   \n",
              "3            1       89             66             23       94  28.1   \n",
              "4            0      137             40             35      168  43.1   \n",
              "\n",
              "   DiabetesPedigreeFunction  Age  \n",
              "0                     0.627   50  \n",
              "1                     0.351   31  \n",
              "2                     0.672   32  \n",
              "3                     0.167   21  \n",
              "4                     2.288   33  "
            ]
          },
          "execution_count": 4,
          "metadata": {},
          "output_type": "execute_result"
        }
      ],
      "source": [
        "InputFeature.head()"
      ]
    },
    {
      "cell_type": "markdown",
      "id": "d32c6cf8",
      "metadata": {
        "id": "d32c6cf8"
      },
      "source": [
        "## Keras Logit 모델 fitting"
      ]
    },
    {
      "cell_type": "code",
      "execution_count": null,
      "id": "d7d4e469",
      "metadata": {
        "id": "d7d4e469"
      },
      "outputs": [],
      "source": [
        "model = Sequential()\n",
        "model.add(Dense(5, activation='linear', input_shape=(8,) ))\n",
        "model.add(Dense(10, activation='linear'))\n",
        "model.add(Dense(1, activation='sigmoid'))\n",
        "\n",
        "model.compile(loss='binary_crossentropy',\n",
        "              optimizer=Adam(learning_rate=0.01), metrics=['accuracy'])"
      ]
    },
    {
      "cell_type": "markdown",
      "id": "9094ae0d",
      "metadata": {
        "id": "9094ae0d"
      },
      "source": [
        "## Keras 모델 살펴보기"
      ]
    },
    {
      "cell_type": "code",
      "execution_count": null,
      "id": "6e0721af",
      "metadata": {
        "id": "6e0721af",
        "outputId": "6bd47a72-062e-4120-ecc3-2b5ed5bd2ffd"
      },
      "outputs": [
        {
          "name": "stdout",
          "output_type": "stream",
          "text": [
            "Model: \"sequential\"\n",
            "_________________________________________________________________\n",
            " Layer (type)                Output Shape              Param #   \n",
            "=================================================================\n",
            " dense (Dense)               (None, 5)                 45        \n",
            "                                                                 \n",
            " dense_1 (Dense)             (None, 10)                60        \n",
            "                                                                 \n",
            " dense_2 (Dense)             (None, 1)                 11        \n",
            "                                                                 \n",
            "=================================================================\n",
            "Total params: 116\n",
            "Trainable params: 116\n",
            "Non-trainable params: 0\n",
            "_________________________________________________________________\n"
          ]
        }
      ],
      "source": [
        "model.summary()"
      ]
    },
    {
      "cell_type": "markdown",
      "id": "a3275484",
      "metadata": {
        "id": "a3275484"
      },
      "source": [
        "## Call-back 함수\n",
        "## 모델 학습"
      ]
    },
    {
      "cell_type": "code",
      "execution_count": null,
      "id": "0265eb03",
      "metadata": {
        "id": "0265eb03"
      },
      "outputs": [],
      "source": [
        "# Call-back 함수\n",
        "# CheckPoint: Epoch 마다 validation 성능을 검증하여, best performance 일 경우 저장\n",
        "CP = ModelCheckpoint(filepath='Models/{epoch:03d}-{loss:.4f}-{accuracy:.4f}.hdf5',\n",
        "            monitor='loss', verbose=1, save_best_only=True, mode='min')\n",
        "\n",
        "# Learning Rate 줄여나가기\n",
        "LR = ReduceLROnPlateau(monitor='loss',factor=0.8,patience=3, verbose=1, min_lr=1e-8)\n",
        "\n",
        "CALLBACK = [CP, LR]"
      ]
    },
    {
      "cell_type": "code",
      "execution_count": null,
      "id": "19ebe13f",
      "metadata": {
        "id": "19ebe13f"
      },
      "outputs": [],
      "source": [
        "# model.fit(x=InputFeature, y=Label, epochs=100, shuffle=True, batch_size=3, callbacks=CALLBACK)"
      ]
    },
    {
      "cell_type": "markdown",
      "id": "8cc549da",
      "metadata": {
        "id": "8cc549da"
      },
      "source": [
        "# Model Load 하기 전, hdf5 파일 이름 꼭 확인하기"
      ]
    },
    {
      "cell_type": "code",
      "execution_count": null,
      "id": "82688a7e",
      "metadata": {
        "id": "82688a7e"
      },
      "outputs": [],
      "source": [
        "model.load_weights(\"Models/100-0.4767-0.7773.hdf5\")"
      ]
    },
    {
      "cell_type": "markdown",
      "id": "e1d15266",
      "metadata": {
        "id": "e1d15266"
      },
      "source": [
        "## FLASK 셋팅하기"
      ]
    },
    {
      "cell_type": "code",
      "execution_count": null,
      "id": "70d0c1e1",
      "metadata": {
        "id": "70d0c1e1"
      },
      "outputs": [],
      "source": [
        "from flask import Flask\n",
        "from flask import render_template\n",
        "from flask import request"
      ]
    },
    {
      "cell_type": "code",
      "execution_count": null,
      "id": "56773ef9",
      "metadata": {
        "id": "56773ef9"
      },
      "outputs": [],
      "source": [
        "app = Flask(__name__)"
      ]
    },
    {
      "cell_type": "markdown",
      "id": "222a9e28",
      "metadata": {
        "id": "222a9e28"
      },
      "source": [
        "# FLASK API 구현부분"
      ]
    },
    {
      "cell_type": "code",
      "execution_count": null,
      "id": "bc0c3b82",
      "metadata": {
        "scrolled": true,
        "id": "bc0c3b82"
      },
      "outputs": [],
      "source": [
        "@app.route('/')\n",
        "@app.route('/Diabetes')\n",
        "def DiabetesPrediction():\n",
        "    Pregnancies = request.args.get(\"Pregnancies\")\n",
        "    Glucose = request.args.get(\"Glucose\")\n",
        "    BloodPressure = request.args.get(\"BloodPressure\")\n",
        "    SkinThickness = request.args.get(\"SkinThickness\")\n",
        "    Insulin = request.args.get(\"Insulin\")\n",
        "    BMI = request.args.get(\"BMI\")\n",
        "    DiabetesPedigreeFunction = request.args.get(\"DiabetesPedigreeFunction\")\n",
        "    Age = request.args.get(\"Age\")\n",
        "       \n",
        "    if Pregnancies == None or Glucose == None:\n",
        "        return render_template('Diabetes.html', Output = '')\n",
        "    \n",
        "    Input = pd.DataFrame({\n",
        "        'Pregnancies': [ float(Pregnancies) ],\n",
        "        'Glucose': [ float(Glucose) ],\n",
        "        'BloodPressure': [ float(BloodPressure) ],\n",
        "        'SkinThickness': [ float(SkinThickness) ],\n",
        "        'Insulin': [ float(Insulin) ],\n",
        "        'BMI': [ float(BMI) ],\n",
        "        'DiabetesPedigreeFunction': [ float(DiabetesPedigreeFunction) ],\n",
        "        'Age': [float(Age)]\n",
        "    })\n",
        "    ModelOutput = model.predict(Input)[0][0]\n",
        "\n",
        "    return render_template('Diabetes.html', Output = ModelOutput)"
      ]
    },
    {
      "cell_type": "markdown",
      "id": "eddf9d92",
      "metadata": {
        "id": "eddf9d92"
      },
      "source": [
        "# Flask, port 5000으로 실행"
      ]
    },
    {
      "cell_type": "code",
      "execution_count": null,
      "id": "9e8821ba",
      "metadata": {
        "scrolled": true,
        "id": "9e8821ba",
        "outputId": "c1e4c875-89bb-41c7-88ce-6380b3e6e62a"
      },
      "outputs": [
        {
          "name": "stdout",
          "output_type": "stream",
          "text": [
            " * Serving Flask app '__main__' (lazy loading)\n",
            " * Environment: production\n",
            "\u001b[31m   WARNING: This is a development server. Do not use it in a production deployment.\u001b[0m\n",
            "\u001b[2m   Use a production WSGI server instead.\u001b[0m\n",
            " * Debug mode: off\n"
          ]
        },
        {
          "name": "stderr",
          "output_type": "stream",
          "text": [
            " * Running on all addresses (0.0.0.0)\n",
            "   WARNING: This is a development server. Do not use it in a production deployment.\n",
            " * Running on http://127.0.0.1:5000\n",
            " * Running on http://192.168.2.16:5000 (Press CTRL+C to quit)\n",
            "127.0.0.1 - - [08/Jul/2022 09:36:17] \"GET /SpecialSale?Pregnancies=1&Glucose=75&BloodPressure=100&SkinThickness=75&Insulin=30&BMI=30&DiabetesPedigreeFunction=10&Age=33 HTTP/1.1\" 404 -\n",
            "127.0.0.1 - - [08/Jul/2022 09:36:21] \"GET / HTTP/1.1\" 200 -\n",
            "127.0.0.1 - - [08/Jul/2022 09:36:22] \"GET /static/image.png HTTP/1.1\" 304 -\n"
          ]
        },
        {
          "name": "stdout",
          "output_type": "stream",
          "text": [
            "1/1 [==============================] - 0s 207ms/step\n"
          ]
        },
        {
          "name": "stderr",
          "output_type": "stream",
          "text": [
            "127.0.0.1 - - [08/Jul/2022 09:36:30] \"GET /Diabetes?Pregnancies=1&Glucose=50&BloodPressure=30&SkinThickness=30&Insulin=30&BMI=30&DiabetesPedigreeFunction=25&Age=33 HTTP/1.1\" 200 -\n",
            "127.0.0.1 - - [08/Jul/2022 09:36:31] \"GET /static/image.png HTTP/1.1\" 304 -\n"
          ]
        },
        {
          "name": "stdout",
          "output_type": "stream",
          "text": [
            "1/1 [==============================] - 0s 25ms/step\n"
          ]
        },
        {
          "name": "stderr",
          "output_type": "stream",
          "text": [
            "127.0.0.1 - - [08/Jul/2022 09:39:34] \"GET /Diabetes?Pregnancies=1&Glucose=50&BloodPressure=30&SkinThickness=30&Insulin=30&BMI=30&DiabetesPedigreeFunction=25&Age=33 HTTP/1.1\" 200 -\n",
            "127.0.0.1 - - [08/Jul/2022 09:39:35] \"GET /static/image.png HTTP/1.1\" 304 -\n"
          ]
        }
      ],
      "source": [
        "app.run(host='0.0.0.0', port=5000)"
      ]
    },
    {
      "cell_type": "code",
      "execution_count": null,
      "id": "f0e87d37",
      "metadata": {
        "id": "f0e87d37"
      },
      "outputs": [],
      "source": [
        "# http://127.0.0.1:5000/SpecialSale/1/38"
      ]
    }
  ],
  "metadata": {
    "kernelspec": {
      "display_name": "Python 3",
      "language": "python",
      "name": "python3"
    },
    "language_info": {
      "codemirror_mode": {
        "name": "ipython",
        "version": 3
      },
      "file_extension": ".py",
      "mimetype": "text/x-python",
      "name": "python",
      "nbconvert_exporter": "python",
      "pygments_lexer": "ipython3",
      "version": "3.8.8"
    },
    "colab": {
      "name": "SimpleProject1.ipynb",
      "provenance": [],
      "include_colab_link": true
    }
  },
  "nbformat": 4,
  "nbformat_minor": 5
}