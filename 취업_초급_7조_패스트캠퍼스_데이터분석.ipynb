{
  "cells": [
    {
      "cell_type": "markdown",
      "metadata": {
        "id": "view-in-github",
        "colab_type": "text"
      },
      "source": [
        "<a href=\"https://colab.research.google.com/github/wjdrnqja9/TIL/blob/main/%EC%B7%A8%EC%97%85_%EC%B4%88%EA%B8%89_7%EC%A1%B0_%ED%8C%A8%EC%8A%A4%ED%8A%B8%EC%BA%A0%ED%8D%BC%EC%8A%A4_%EB%8D%B0%EC%9D%B4%ED%84%B0%EB%B6%84%EC%84%9D.ipynb\" target=\"_parent\"><img src=\"https://colab.research.google.com/assets/colab-badge.svg\" alt=\"Open In Colab\"/></a>"
      ]
    },
    {
      "cell_type": "markdown",
      "source": [
        "#패스트캠퍼스 데이터 분석"
      ],
      "metadata": {
        "id": "3n4c72_Xyqzm"
      },
      "id": "3n4c72_Xyqzm"
    },
    {
      "cell_type": "markdown",
      "source": [
        "##패스트 캠퍼스 데이터 준비"
      ],
      "metadata": {
        "id": "uywYDzrcywpH"
      },
      "id": "uywYDzrcywpH"
    },
    {
      "cell_type": "markdown",
      "source": [
        "###미니프로젝트 주제"
      ],
      "metadata": {
        "id": "ynE0rNf_9eNu"
      },
      "id": "ynE0rNf_9eNu"
    },
    {
      "cell_type": "markdown",
      "source": [
        "패스트캠퍼스 효과적인 마케팅 대안과 매출증가를 위한 방안 도출"
      ],
      "metadata": {
        "id": "qF6J4aNyACR1"
      },
      "id": "qF6J4aNyACR1"
    },
    {
      "cell_type": "markdown",
      "source": [
        "###패스트 캠퍼스 데이터 불러오기"
      ],
      "metadata": {
        "id": "H4XuB5kS6D6G"
      },
      "id": "H4XuB5kS6D6G"
    },
    {
      "cell_type": "code",
      "source": [
        "# 드라이브 마운트\n",
        "from google.colab import drive\n",
        "drive.mount('/content/drive')"
      ],
      "metadata": {
        "colab": {
          "base_uri": "https://localhost:8080/"
        },
        "id": "WjzebyzrjXmU",
        "outputId": "b68d3553-2f0e-4ae2-e0b6-93e7b2410c4d"
      },
      "id": "WjzebyzrjXmU",
      "execution_count": 68,
      "outputs": [
        {
          "output_type": "stream",
          "name": "stdout",
          "text": [
            "Drive already mounted at /content/drive; to attempt to forcibly remount, call drive.mount(\"/content/drive\", force_remount=True).\n"
          ]
        }
      ]
    },
    {
      "cell_type": "code",
      "execution_count": 69,
      "id": "591915dd",
      "metadata": {
        "id": "591915dd"
      },
      "outputs": [],
      "source": [
        "# 모듈 설치\n",
        "import pandas as pd\n",
        "import numpy as np\n",
        "import matplotlib.pyplot as plt\n",
        "import seaborn as sns\n",
        "import datetime"
      ]
    },
    {
      "cell_type": "code",
      "source": [
        "# 한글 글꼴 설치 \n",
        "!sudo apt-get install -y fonts-nanum\n",
        "!sudo fc-cache -fv\n",
        "!rm ~/.cache/matplotlib -rf\n",
        "plt.rc('font', family='NanumBarunGothic')"
      ],
      "metadata": {
        "colab": {
          "base_uri": "https://localhost:8080/"
        },
        "id": "i8I4_S3Re_Ya",
        "outputId": "43a21966-2daf-45e4-ed36-5cfb9162a117"
      },
      "id": "i8I4_S3Re_Ya",
      "execution_count": 70,
      "outputs": [
        {
          "output_type": "stream",
          "name": "stdout",
          "text": [
            "Reading package lists... Done\n",
            "Building dependency tree       \n",
            "Reading state information... Done\n",
            "fonts-nanum is already the newest version (20170925-1).\n",
            "The following package was automatically installed and is no longer required:\n",
            "  libnvidia-common-460\n",
            "Use 'sudo apt autoremove' to remove it.\n",
            "0 upgraded, 0 newly installed, 0 to remove and 42 not upgraded.\n",
            "/usr/share/fonts: caching, new cache contents: 0 fonts, 1 dirs\n",
            "/usr/share/fonts/truetype: caching, new cache contents: 0 fonts, 3 dirs\n",
            "/usr/share/fonts/truetype/humor-sans: caching, new cache contents: 1 fonts, 0 dirs\n",
            "/usr/share/fonts/truetype/liberation: caching, new cache contents: 16 fonts, 0 dirs\n",
            "/usr/share/fonts/truetype/nanum: caching, new cache contents: 10 fonts, 0 dirs\n",
            "/usr/local/share/fonts: caching, new cache contents: 0 fonts, 0 dirs\n",
            "/root/.local/share/fonts: skipping, no such directory\n",
            "/root/.fonts: skipping, no such directory\n",
            "/var/cache/fontconfig: cleaning cache directory\n",
            "/root/.cache/fontconfig: not cleaning non-existent cache directory\n",
            "/root/.fontconfig: not cleaning non-existent cache directory\n",
            "fc-cache: succeeded\n"
          ]
        }
      ]
    },
    {
      "cell_type": "code",
      "execution_count": 71,
      "id": "f51d6094",
      "metadata": {
        "colab": {
          "base_uri": "https://localhost:8080/",
          "height": 496
        },
        "id": "f51d6094",
        "outputId": "be5be0a0-3ce4-4169-94ab-a93724c64703"
      },
      "outputs": [
        {
          "output_type": "execute_result",
          "data": {
            "text/plain": [
              "       id  customer_id  course_id     type      state  \\\n",
              "0  970634     504760.0   201435.0    ORDER  CANCELLED   \n",
              "1  970650     432862.0   203178.0    ORDER  CANCELLED   \n",
              "2  970657      72297.0   204246.0  PAYMENT  COMPLETED   \n",
              "3  970656      72297.0   204246.0    ORDER  CANCELLED   \n",
              "4  970658     478028.0   201797.0  PAYMENT  COMPLETED   \n",
              "\n",
              "                    course_title category_title  format        completed_at  \\\n",
              "0      올인원 패키지 : 알고리즘 기술면접 완전 정복          프로그래밍     올인원 2021-03-28 15:00:11   \n",
              "1    초격차 패키지 : 한번에 끝내는 영상 촬영과 편집          영상/3D     올인원 2021-03-28 15:16:53   \n",
              "2           시크릿코드 : 프론트엔드 실무 완성편          프로그래밍  스쿨 온라인 2021-03-28 15:21:43   \n",
              "3           시크릿코드 : 프론트엔드 실무 완성편          프로그래밍  스쿨 온라인 2021-03-28 15:21:43   \n",
              "4  올인원 패키지 : 직장인 필수 스킬 3종 세트 MAX         업무 생산성     올인원 2021-03-28 15:21:54   \n",
              "\n",
              "   transaction_amount              coupon_title  coupon_discount_amount  \\\n",
              "0               90500                       NaN                     NaN   \n",
              "1               96000                       NaN                     NaN   \n",
              "2              171810     [10% 할인] 시크릿코드 실무 완성편                 19090.0   \n",
              "3              171810                       NaN                     NaN   \n",
              "4               97500  [웰컴쿠폰] 올인원 패키지 2만원 할인 쿠폰                 20000.0   \n",
              "\n",
              "   sale_price  tax_free_amount   pg method subcategory_title  \\\n",
              "0    110500.0         110500.0  NaN  VBANK           개발자 커리어   \n",
              "1    116000.0         116000.0  NaN   CARD             영상 편집   \n",
              "2    190900.0         190900.0  NaN   CARD               NaN   \n",
              "3    190900.0         190900.0  NaN   CARD               NaN   \n",
              "4    117500.0         117500.0  NaN   CARD           PPT/보고서   \n",
              "\n",
              "  marketing_start_at  \n",
              "0                NaT  \n",
              "1         2020-12-02  \n",
              "2         2021-03-04  \n",
              "3         2021-03-04  \n",
              "4         2019-11-14  "
            ],
            "text/html": [
              "\n",
              "  <div id=\"df-e873e1b6-0dff-48dd-9c74-8ed90c6420b9\">\n",
              "    <div class=\"colab-df-container\">\n",
              "      <div>\n",
              "<style scoped>\n",
              "    .dataframe tbody tr th:only-of-type {\n",
              "        vertical-align: middle;\n",
              "    }\n",
              "\n",
              "    .dataframe tbody tr th {\n",
              "        vertical-align: top;\n",
              "    }\n",
              "\n",
              "    .dataframe thead th {\n",
              "        text-align: right;\n",
              "    }\n",
              "</style>\n",
              "<table border=\"1\" class=\"dataframe\">\n",
              "  <thead>\n",
              "    <tr style=\"text-align: right;\">\n",
              "      <th></th>\n",
              "      <th>id</th>\n",
              "      <th>customer_id</th>\n",
              "      <th>course_id</th>\n",
              "      <th>type</th>\n",
              "      <th>state</th>\n",
              "      <th>course_title</th>\n",
              "      <th>category_title</th>\n",
              "      <th>format</th>\n",
              "      <th>completed_at</th>\n",
              "      <th>transaction_amount</th>\n",
              "      <th>coupon_title</th>\n",
              "      <th>coupon_discount_amount</th>\n",
              "      <th>sale_price</th>\n",
              "      <th>tax_free_amount</th>\n",
              "      <th>pg</th>\n",
              "      <th>method</th>\n",
              "      <th>subcategory_title</th>\n",
              "      <th>marketing_start_at</th>\n",
              "    </tr>\n",
              "  </thead>\n",
              "  <tbody>\n",
              "    <tr>\n",
              "      <th>0</th>\n",
              "      <td>970634</td>\n",
              "      <td>504760.0</td>\n",
              "      <td>201435.0</td>\n",
              "      <td>ORDER</td>\n",
              "      <td>CANCELLED</td>\n",
              "      <td>올인원 패키지 : 알고리즘 기술면접 완전 정복</td>\n",
              "      <td>프로그래밍</td>\n",
              "      <td>올인원</td>\n",
              "      <td>2021-03-28 15:00:11</td>\n",
              "      <td>90500</td>\n",
              "      <td>NaN</td>\n",
              "      <td>NaN</td>\n",
              "      <td>110500.0</td>\n",
              "      <td>110500.0</td>\n",
              "      <td>NaN</td>\n",
              "      <td>VBANK</td>\n",
              "      <td>개발자 커리어</td>\n",
              "      <td>NaT</td>\n",
              "    </tr>\n",
              "    <tr>\n",
              "      <th>1</th>\n",
              "      <td>970650</td>\n",
              "      <td>432862.0</td>\n",
              "      <td>203178.0</td>\n",
              "      <td>ORDER</td>\n",
              "      <td>CANCELLED</td>\n",
              "      <td>초격차 패키지 : 한번에 끝내는 영상 촬영과 편집</td>\n",
              "      <td>영상/3D</td>\n",
              "      <td>올인원</td>\n",
              "      <td>2021-03-28 15:16:53</td>\n",
              "      <td>96000</td>\n",
              "      <td>NaN</td>\n",
              "      <td>NaN</td>\n",
              "      <td>116000.0</td>\n",
              "      <td>116000.0</td>\n",
              "      <td>NaN</td>\n",
              "      <td>CARD</td>\n",
              "      <td>영상 편집</td>\n",
              "      <td>2020-12-02</td>\n",
              "    </tr>\n",
              "    <tr>\n",
              "      <th>2</th>\n",
              "      <td>970657</td>\n",
              "      <td>72297.0</td>\n",
              "      <td>204246.0</td>\n",
              "      <td>PAYMENT</td>\n",
              "      <td>COMPLETED</td>\n",
              "      <td>시크릿코드 : 프론트엔드 실무 완성편</td>\n",
              "      <td>프로그래밍</td>\n",
              "      <td>스쿨 온라인</td>\n",
              "      <td>2021-03-28 15:21:43</td>\n",
              "      <td>171810</td>\n",
              "      <td>[10% 할인] 시크릿코드 실무 완성편</td>\n",
              "      <td>19090.0</td>\n",
              "      <td>190900.0</td>\n",
              "      <td>190900.0</td>\n",
              "      <td>NaN</td>\n",
              "      <td>CARD</td>\n",
              "      <td>NaN</td>\n",
              "      <td>2021-03-04</td>\n",
              "    </tr>\n",
              "    <tr>\n",
              "      <th>3</th>\n",
              "      <td>970656</td>\n",
              "      <td>72297.0</td>\n",
              "      <td>204246.0</td>\n",
              "      <td>ORDER</td>\n",
              "      <td>CANCELLED</td>\n",
              "      <td>시크릿코드 : 프론트엔드 실무 완성편</td>\n",
              "      <td>프로그래밍</td>\n",
              "      <td>스쿨 온라인</td>\n",
              "      <td>2021-03-28 15:21:43</td>\n",
              "      <td>171810</td>\n",
              "      <td>NaN</td>\n",
              "      <td>NaN</td>\n",
              "      <td>190900.0</td>\n",
              "      <td>190900.0</td>\n",
              "      <td>NaN</td>\n",
              "      <td>CARD</td>\n",
              "      <td>NaN</td>\n",
              "      <td>2021-03-04</td>\n",
              "    </tr>\n",
              "    <tr>\n",
              "      <th>4</th>\n",
              "      <td>970658</td>\n",
              "      <td>478028.0</td>\n",
              "      <td>201797.0</td>\n",
              "      <td>PAYMENT</td>\n",
              "      <td>COMPLETED</td>\n",
              "      <td>올인원 패키지 : 직장인 필수 스킬 3종 세트 MAX</td>\n",
              "      <td>업무 생산성</td>\n",
              "      <td>올인원</td>\n",
              "      <td>2021-03-28 15:21:54</td>\n",
              "      <td>97500</td>\n",
              "      <td>[웰컴쿠폰] 올인원 패키지 2만원 할인 쿠폰</td>\n",
              "      <td>20000.0</td>\n",
              "      <td>117500.0</td>\n",
              "      <td>117500.0</td>\n",
              "      <td>NaN</td>\n",
              "      <td>CARD</td>\n",
              "      <td>PPT/보고서</td>\n",
              "      <td>2019-11-14</td>\n",
              "    </tr>\n",
              "  </tbody>\n",
              "</table>\n",
              "</div>\n",
              "      <button class=\"colab-df-convert\" onclick=\"convertToInteractive('df-e873e1b6-0dff-48dd-9c74-8ed90c6420b9')\"\n",
              "              title=\"Convert this dataframe to an interactive table.\"\n",
              "              style=\"display:none;\">\n",
              "        \n",
              "  <svg xmlns=\"http://www.w3.org/2000/svg\" height=\"24px\"viewBox=\"0 0 24 24\"\n",
              "       width=\"24px\">\n",
              "    <path d=\"M0 0h24v24H0V0z\" fill=\"none\"/>\n",
              "    <path d=\"M18.56 5.44l.94 2.06.94-2.06 2.06-.94-2.06-.94-.94-2.06-.94 2.06-2.06.94zm-11 1L8.5 8.5l.94-2.06 2.06-.94-2.06-.94L8.5 2.5l-.94 2.06-2.06.94zm10 10l.94 2.06.94-2.06 2.06-.94-2.06-.94-.94-2.06-.94 2.06-2.06.94z\"/><path d=\"M17.41 7.96l-1.37-1.37c-.4-.4-.92-.59-1.43-.59-.52 0-1.04.2-1.43.59L10.3 9.45l-7.72 7.72c-.78.78-.78 2.05 0 2.83L4 21.41c.39.39.9.59 1.41.59.51 0 1.02-.2 1.41-.59l7.78-7.78 2.81-2.81c.8-.78.8-2.07 0-2.86zM5.41 20L4 18.59l7.72-7.72 1.47 1.35L5.41 20z\"/>\n",
              "  </svg>\n",
              "      </button>\n",
              "      \n",
              "  <style>\n",
              "    .colab-df-container {\n",
              "      display:flex;\n",
              "      flex-wrap:wrap;\n",
              "      gap: 12px;\n",
              "    }\n",
              "\n",
              "    .colab-df-convert {\n",
              "      background-color: #E8F0FE;\n",
              "      border: none;\n",
              "      border-radius: 50%;\n",
              "      cursor: pointer;\n",
              "      display: none;\n",
              "      fill: #1967D2;\n",
              "      height: 32px;\n",
              "      padding: 0 0 0 0;\n",
              "      width: 32px;\n",
              "    }\n",
              "\n",
              "    .colab-df-convert:hover {\n",
              "      background-color: #E2EBFA;\n",
              "      box-shadow: 0px 1px 2px rgba(60, 64, 67, 0.3), 0px 1px 3px 1px rgba(60, 64, 67, 0.15);\n",
              "      fill: #174EA6;\n",
              "    }\n",
              "\n",
              "    [theme=dark] .colab-df-convert {\n",
              "      background-color: #3B4455;\n",
              "      fill: #D2E3FC;\n",
              "    }\n",
              "\n",
              "    [theme=dark] .colab-df-convert:hover {\n",
              "      background-color: #434B5C;\n",
              "      box-shadow: 0px 1px 3px 1px rgba(0, 0, 0, 0.15);\n",
              "      filter: drop-shadow(0px 1px 2px rgba(0, 0, 0, 0.3));\n",
              "      fill: #FFFFFF;\n",
              "    }\n",
              "  </style>\n",
              "\n",
              "      <script>\n",
              "        const buttonEl =\n",
              "          document.querySelector('#df-e873e1b6-0dff-48dd-9c74-8ed90c6420b9 button.colab-df-convert');\n",
              "        buttonEl.style.display =\n",
              "          google.colab.kernel.accessAllowed ? 'block' : 'none';\n",
              "\n",
              "        async function convertToInteractive(key) {\n",
              "          const element = document.querySelector('#df-e873e1b6-0dff-48dd-9c74-8ed90c6420b9');\n",
              "          const dataTable =\n",
              "            await google.colab.kernel.invokeFunction('convertToInteractive',\n",
              "                                                     [key], {});\n",
              "          if (!dataTable) return;\n",
              "\n",
              "          const docLinkHtml = 'Like what you see? Visit the ' +\n",
              "            '<a target=\"_blank\" href=https://colab.research.google.com/notebooks/data_table.ipynb>data table notebook</a>'\n",
              "            + ' to learn more about interactive tables.';\n",
              "          element.innerHTML = '';\n",
              "          dataTable['output_type'] = 'display_data';\n",
              "          await google.colab.output.renderOutput(dataTable, element);\n",
              "          const docLink = document.createElement('div');\n",
              "          docLink.innerHTML = docLinkHtml;\n",
              "          element.appendChild(docLink);\n",
              "        }\n",
              "      </script>\n",
              "    </div>\n",
              "  </div>\n",
              "  "
            ]
          },
          "metadata": {},
          "execution_count": 71
        }
      ],
      "source": [
        "df = pd.read_excel('/content/drive/MyDrive/Colab Notebooks/패스트캠퍼스 데이터분석/파이널프로젝트_RAW_210329_210926.xlsx')\n",
        "df.head()"
      ]
    },
    {
      "cell_type": "markdown",
      "id": "f3a595ee",
      "metadata": {
        "id": "f3a595ee"
      },
      "source": [
        "## 데이터 결측치 및 타입 확인"
      ]
    },
    {
      "cell_type": "code",
      "execution_count": 72,
      "id": "9fef4f2e",
      "metadata": {
        "colab": {
          "base_uri": "https://localhost:8080/"
        },
        "id": "9fef4f2e",
        "outputId": "06604940-a6c4-4675-c2ea-802d184f91d5"
      },
      "outputs": [
        {
          "output_type": "stream",
          "name": "stdout",
          "text": [
            "<class 'pandas.core.frame.DataFrame'>\n",
            "RangeIndex: 105419 entries, 0 to 105418\n",
            "Data columns (total 18 columns):\n",
            " #   Column                  Non-Null Count   Dtype         \n",
            "---  ------                  --------------   -----         \n",
            " 0   id                      105419 non-null  int64         \n",
            " 1   customer_id             105416 non-null  float64       \n",
            " 2   course_id               100212 non-null  float64       \n",
            " 3   type                    105419 non-null  object        \n",
            " 4   state                   105419 non-null  object        \n",
            " 5   course_title            105403 non-null  object        \n",
            " 6   category_title          105395 non-null  object        \n",
            " 7   format                  105403 non-null  object        \n",
            " 8   completed_at            105419 non-null  datetime64[ns]\n",
            " 9   transaction_amount      105419 non-null  int64         \n",
            " 10  coupon_title            31817 non-null   object        \n",
            " 11  coupon_discount_amount  31817 non-null   float64       \n",
            " 12  sale_price              104291 non-null  float64       \n",
            " 13  tax_free_amount         104291 non-null  float64       \n",
            " 14  pg                      90344 non-null   object        \n",
            " 15  method                  92323 non-null   object        \n",
            " 16  subcategory_title       85590 non-null   object        \n",
            " 17  marketing_start_at      87440 non-null   datetime64[ns]\n",
            "dtypes: datetime64[ns](2), float64(5), int64(2), object(9)\n",
            "memory usage: 14.5+ MB\n"
          ]
        }
      ],
      "source": [
        "df.info()"
      ]
    },
    {
      "cell_type": "code",
      "source": [
        "df.isna().sum()"
      ],
      "metadata": {
        "colab": {
          "base_uri": "https://localhost:8080/"
        },
        "id": "J0BJmsfRgUa1",
        "outputId": "ae31deda-bcca-4f6a-99ab-74340e50a421"
      },
      "id": "J0BJmsfRgUa1",
      "execution_count": 73,
      "outputs": [
        {
          "output_type": "execute_result",
          "data": {
            "text/plain": [
              "id                            0\n",
              "customer_id                   3\n",
              "course_id                  5207\n",
              "type                          0\n",
              "state                         0\n",
              "course_title                 16\n",
              "category_title               24\n",
              "format                       16\n",
              "completed_at                  0\n",
              "transaction_amount            0\n",
              "coupon_title              73602\n",
              "coupon_discount_amount    73602\n",
              "sale_price                 1128\n",
              "tax_free_amount            1128\n",
              "pg                        15075\n",
              "method                    13096\n",
              "subcategory_title         19829\n",
              "marketing_start_at        17979\n",
              "dtype: int64"
            ]
          },
          "metadata": {},
          "execution_count": 73
        }
      ]
    },
    {
      "cell_type": "markdown",
      "source": [
        "###데이터 전처리"
      ],
      "metadata": {
        "id": "UbXsZ-fS5x_h"
      },
      "id": "UbXsZ-fS5x_h"
    },
    {
      "cell_type": "code",
      "source": [
        "# Completed_at 타입 datetime 으로 바꾸기\n",
        "df['completed_at'] = pd.to_datetime(df['completed_at'])\n",
        "df.dtypes"
      ],
      "metadata": {
        "colab": {
          "base_uri": "https://localhost:8080/"
        },
        "id": "P3645QYA5pvw",
        "outputId": "ddec8f29-51d4-4bb4-b3f1-290625fbde6b"
      },
      "id": "P3645QYA5pvw",
      "execution_count": 74,
      "outputs": [
        {
          "output_type": "execute_result",
          "data": {
            "text/plain": [
              "id                                 int64\n",
              "customer_id                      float64\n",
              "course_id                        float64\n",
              "type                              object\n",
              "state                             object\n",
              "course_title                      object\n",
              "category_title                    object\n",
              "format                            object\n",
              "completed_at              datetime64[ns]\n",
              "transaction_amount                 int64\n",
              "coupon_title                      object\n",
              "coupon_discount_amount           float64\n",
              "sale_price                       float64\n",
              "tax_free_amount                  float64\n",
              "pg                                object\n",
              "method                            object\n",
              "subcategory_title                 object\n",
              "marketing_start_at        datetime64[ns]\n",
              "dtype: object"
            ]
          },
          "metadata": {},
          "execution_count": 74
        }
      ]
    },
    {
      "cell_type": "code",
      "source": [
        "# 날짜 월,일,요일,시간 세분화\n",
        "num_to_day = {\n",
        "    0 : '월요일',\n",
        "    1 : '화요일',\n",
        "    2 : '수요일',\n",
        "    3 : '목요일',\n",
        "    4 : '금요일',\n",
        "    5 : '토요일',\n",
        "    6 : '일요일',\n",
        "}\n",
        "\n",
        "df['pay_ym']=df['completed_at'].dt.strftime(\"%Y-%m\")   ## 년월 컬럼\n",
        "df['Day'] = [num_to_day[i] for i in df['completed_at'].dt.dayofweek] ## 요일컬럼\n",
        "df['Time']=  df['completed_at'].dt.hour  ##시간컬럼\n",
        "df['Date']=  df['completed_at'].dt.day   ##일자컬럼"
      ],
      "metadata": {
        "id": "cm5DHyF-43sO"
      },
      "execution_count": 75,
      "outputs": [],
      "id": "cm5DHyF-43sO"
    },
    {
      "cell_type": "code",
      "source": [
        "# 개인 사용자들의 데이터를 확인하기 위해 format에서 기업교육 계약, 정부 사업인 B2B, B2G 제거 후 시작\n",
        "df = df[df.format.isin(['B2B', 'B2B 온라인', 'B2G'])==False] \n",
        "\n",
        "df2=df[(df['type']=='PAYMENT') & (df['state']=='COMPLETED')]  # 결제 완료 데이터 (3, 9월 제거)\n",
        "idx = df2[df2['pay_ym'] == \"2021-03\"].index\n",
        "df2 =df2.drop(idx)\n",
        "idx = df2[df2['pay_ym'] == \"2021-09\"].index\n",
        "df2 =df2.drop(idx)                                           \n",
        "\n",
        "df3=df[(df['type']=='PAYMENT') | (df['type']=='REFUND')]      # 결제 완료 및 환불 데이터\n",
        "df3 = df3[(df['state']=='COMPLETED')]\n",
        "\n",
        "Refdf=df[(df['type']=='REFUND') & (df['state']=='COMPLETED')] # 환불만 있는 데이터"
      ],
      "metadata": {
        "colab": {
          "base_uri": "https://localhost:8080/"
        },
        "id": "6wrRTti09Qxq",
        "outputId": "69729699-1f6b-4a75-867f-eac03b48de76"
      },
      "id": "6wrRTti09Qxq",
      "execution_count": 76,
      "outputs": [
        {
          "output_type": "stream",
          "name": "stderr",
          "text": [
            "/usr/local/lib/python3.7/dist-packages/ipykernel_launcher.py:11: UserWarning:\n",
            "\n",
            "Boolean Series key will be reindexed to match DataFrame index.\n",
            "\n"
          ]
        }
      ]
    },
    {
      "cell_type": "markdown",
      "source": [
        "##데이터 분포 확인 및 분석"
      ],
      "metadata": {
        "id": "-BJcvCFeyJ1S"
      },
      "id": "-BJcvCFeyJ1S"
    },
    {
      "cell_type": "markdown",
      "source": [
        "###카테고리 데이터 분석"
      ],
      "metadata": {
        "id": "iDEZyFFlivwT"
      },
      "id": "iDEZyFFlivwT"
    },
    {
      "cell_type": "code",
      "source": [
        "# 카테고리  별 강의 구매 횟수 확인\n",
        "df[\"category_title\"].value_counts()"
      ],
      "metadata": {
        "colab": {
          "base_uri": "https://localhost:8080/"
        },
        "id": "w3mzaKAvti5F",
        "outputId": "87d90cf6-ce18-4985-c51b-c1686204ca7a"
      },
      "id": "w3mzaKAvti5F",
      "execution_count": 77,
      "outputs": [
        {
          "output_type": "execute_result",
          "data": {
            "text/plain": [
              "프로그래밍       33067\n",
              "데이터사이언스     14029\n",
              "업무 생산성      13317\n",
              "디자인         12009\n",
              "영상/3D       10260\n",
              "마케팅          9845\n",
              "부동산/금융       5518\n",
              "투자/재테크       2501\n",
              "크리에이티브       2231\n",
              "지식콘텐츠          56\n",
              "비즈니스           40\n",
              "파이낸스           24\n",
              "데이터 사이언스        9\n",
              "관리              2\n",
              "일러스트            1\n",
              "Name: category_title, dtype: int64"
            ]
          },
          "metadata": {},
          "execution_count": 77
        }
      ]
    },
    {
      "cell_type": "code",
      "source": [
        "# 카테고리 별 구매량 분포 파이 그래프로 시각화\n",
        "plt.figure(figsize=(10,10))\n",
        "temp_series = df2['category_title'].value_counts().head(10)     # 구매량 top 10\n",
        "labels = np.array(temp_series.index)\n",
        "sizes = np.array((temp_series / temp_series.sum())* 100)\n",
        "plt.pie(sizes, labels=labels, autopct='%1.1f%%' , startangle= 200)\n",
        "plt.title('카테고리별 구매량 분포', fontsize= 15)\n",
        "plt.show()"
      ],
      "metadata": {
        "colab": {
          "base_uri": "https://localhost:8080/",
          "height": 592
        },
        "id": "s_R4WzBj1DAE",
        "outputId": "cec9467f-b93e-4804-b785-cd097b939426"
      },
      "id": "s_R4WzBj1DAE",
      "execution_count": 78,
      "outputs": [
        {
          "output_type": "display_data",
          "data": {
            "text/plain": [
              "<Figure size 720x720 with 1 Axes>"
            ],
            "image/png": "[encoded data removed]"
          },
          "metadata": {}
        }
      ]
    },
    {
      "cell_type": "markdown",
      "source": [
        "프로그래밍 관련 강의가 가장 많이 팔렸다."
      ],
      "metadata": {
        "id": "qgbuCckXEGYq"
      },
      "id": "qgbuCckXEGYq"
    },
    {
      "cell_type": "code",
      "source": [
        "# 서브카테고리 별 강의 구매 횟수 시각화\n",
        "fig = plt.figure(figsize=(40,8))\n",
        "sns.countplot(data = df, x = \"subcategory_title\", \n",
        "              order = df['subcategory_title'].value_counts().index)"
      ],
      "metadata": {
        "colab": {
          "base_uri": "https://localhost:8080/",
          "height": 349
        },
        "id": "yp9S9fy19Cth",
        "outputId": "ab1c3fde-d30c-40e4-8fba-43c5b3f4ef00"
      },
      "execution_count": 79,
      "outputs": [
        {
          "output_type": "execute_result",
          "data": {
            "text/plain": [
              "<matplotlib.axes._subplots.AxesSubplot at 0x7fdb01b6d050>"
            ]
          },
          "metadata": {},
          "execution_count": 79
        },
        {
          "output_type": "display_data",
          "data": {
            "text/plain": [
              "<Figure size 2880x576 with 1 Axes>"
            ],
            "image/png": "[encoded data removed]"
          },
          "metadata": {
            "needs_background": "light"
          }
        }
      ],
      "id": "yp9S9fy19Cth"
    },
    {
      "cell_type": "markdown",
      "source": [
        "서브카테고리로 분류시 영상/3D카테고리에 속해있는 영상 편집 강의가 가장 많았다."
      ],
      "metadata": {
        "id": "USr84PAVEM8f"
      },
      "id": "USr84PAVEM8f"
    },
    {
      "cell_type": "code",
      "source": [
        "#서브 카테고리 트리맵을 위한 분류\n",
        "sub = df.groupby(['category_title', 'subcategory_title'])[['id']].count()\n",
        "sub"
      ],
      "metadata": {
        "colab": {
          "base_uri": "https://localhost:8080/",
          "height": 1000
        },
        "id": "iMH0f6fjc3WU",
        "outputId": "5f591b78-e854-4552-c9d9-efda9c9bc518"
      },
      "execution_count": 80,
      "outputs": [
        {
          "output_type": "execute_result",
          "data": {
            "text/plain": [
              "                                    id\n",
              "category_title subcategory_title      \n",
              "데이터사이언스        데이터분석              4302\n",
              "               데이터엔지니어링            275\n",
              "               딥러닝/인공지능           4590\n",
              "               머신러닝               1958\n",
              "디자인            UX/UI              2775\n",
              "               디자인툴               4053\n",
              "               시각디자인              1927\n",
              "               일러스트               3238\n",
              "마케팅            SNS마케팅             1190\n",
              "               글쓰기/카피라이팅          3524\n",
              "               데이터마케팅             2306\n",
              "               디지털마케팅             1754\n",
              "부동산/금융         금융/투자 실무           2075\n",
              "               부동산 개발             1179\n",
              "               회계/재무/세무           1948\n",
              "업무 생산성         PPT/보고서            4150\n",
              "               리더십                 511\n",
              "               업무자동화               996\n",
              "               엑셀/VBA             3591\n",
              "               커뮤니케이션              204\n",
              "영상/3D          VFX                 523\n",
              "               게임 그래픽              385\n",
              "               모션그래픽              2033\n",
              "               영상 편집              7312\n",
              "투자/재테크         부동산 투자              714\n",
              "               주식 투자              1787\n",
              "프로그래밍          DevOps             2136\n",
              "               개발자 커리어            5918\n",
              "               게임                 1707\n",
              "               모바일앱               3724\n",
              "               백엔드 개발             6144\n",
              "               코딩 입문               782\n",
              "               프론트엔드 개발           5878"
            ],
            "text/html": [
              "\n",
              "  <div id=\"df-bb71b2d1-d3d4-4dd2-aa4a-567cba5c4a73\">\n",
              "    <div class=\"colab-df-container\">\n",
              "      <div>\n",
              "<style scoped>\n",
              "    .dataframe tbody tr th:only-of-type {\n",
              "        vertical-align: middle;\n",
              "    }\n",
              "\n",
              "    .dataframe tbody tr th {\n",
              "        vertical-align: top;\n",
              "    }\n",
              "\n",
              "    .dataframe thead th {\n",
              "        text-align: right;\n",
              "    }\n",
              "</style>\n",
              "<table border=\"1\" class=\"dataframe\">\n",
              "  <thead>\n",
              "    <tr style=\"text-align: right;\">\n",
              "      <th></th>\n",
              "      <th></th>\n",
              "      <th>id</th>\n",
              "    </tr>\n",
              "    <tr>\n",
              "      <th>category_title</th>\n",
              "      <th>subcategory_title</th>\n",
              "      <th></th>\n",
              "    </tr>\n",
              "  </thead>\n",
              "  <tbody>\n",
              "    <tr>\n",
              "      <th rowspan=\"4\" valign=\"top\">데이터사이언스</th>\n",
              "      <th>데이터분석</th>\n",
              "      <td>4302</td>\n",
              "    </tr>\n",
              "    <tr>\n",
              "      <th>데이터엔지니어링</th>\n",
              "      <td>275</td>\n",
              "    </tr>\n",
              "    <tr>\n",
              "      <th>딥러닝/인공지능</th>\n",
              "      <td>4590</td>\n",
              "    </tr>\n",
              "    <tr>\n",
              "      <th>머신러닝</th>\n",
              "      <td>1958</td>\n",
              "    </tr>\n",
              "    <tr>\n",
              "      <th rowspan=\"4\" valign=\"top\">디자인</th>\n",
              "      <th>UX/UI</th>\n",
              "      <td>2775</td>\n",
              "    </tr>\n",
              "    <tr>\n",
              "      <th>디자인툴</th>\n",
              "      <td>4053</td>\n",
              "    </tr>\n",
              "    <tr>\n",
              "      <th>시각디자인</th>\n",
              "      <td>1927</td>\n",
              "    </tr>\n",
              "    <tr>\n",
              "      <th>일러스트</th>\n",
              "      <td>3238</td>\n",
              "    </tr>\n",
              "    <tr>\n",
              "      <th rowspan=\"4\" valign=\"top\">마케팅</th>\n",
              "      <th>SNS마케팅</th>\n",
              "      <td>1190</td>\n",
              "    </tr>\n",
              "    <tr>\n",
              "      <th>글쓰기/카피라이팅</th>\n",
              "      <td>3524</td>\n",
              "    </tr>\n",
              "    <tr>\n",
              "      <th>데이터마케팅</th>\n",
              "      <td>2306</td>\n",
              "    </tr>\n",
              "    <tr>\n",
              "      <th>디지털마케팅</th>\n",
              "      <td>1754</td>\n",
              "    </tr>\n",
              "    <tr>\n",
              "      <th rowspan=\"3\" valign=\"top\">부동산/금융</th>\n",
              "      <th>금융/투자 실무</th>\n",
              "      <td>2075</td>\n",
              "    </tr>\n",
              "    <tr>\n",
              "      <th>부동산 개발</th>\n",
              "      <td>1179</td>\n",
              "    </tr>\n",
              "    <tr>\n",
              "      <th>회계/재무/세무</th>\n",
              "      <td>1948</td>\n",
              "    </tr>\n",
              "    <tr>\n",
              "      <th rowspan=\"5\" valign=\"top\">업무 생산성</th>\n",
              "      <th>PPT/보고서</th>\n",
              "      <td>4150</td>\n",
              "    </tr>\n",
              "    <tr>\n",
              "      <th>리더십</th>\n",
              "      <td>511</td>\n",
              "    </tr>\n",
              "    <tr>\n",
              "      <th>업무자동화</th>\n",
              "      <td>996</td>\n",
              "    </tr>\n",
              "    <tr>\n",
              "      <th>엑셀/VBA</th>\n",
              "      <td>3591</td>\n",
              "    </tr>\n",
              "    <tr>\n",
              "      <th>커뮤니케이션</th>\n",
              "      <td>204</td>\n",
              "    </tr>\n",
              "    <tr>\n",
              "      <th rowspan=\"4\" valign=\"top\">영상/3D</th>\n",
              "      <th>VFX</th>\n",
              "      <td>523</td>\n",
              "    </tr>\n",
              "    <tr>\n",
              "      <th>게임 그래픽</th>\n",
              "      <td>385</td>\n",
              "    </tr>\n",
              "    <tr>\n",
              "      <th>모션그래픽</th>\n",
              "      <td>2033</td>\n",
              "    </tr>\n",
              "    <tr>\n",
              "      <th>영상 편집</th>\n",
              "      <td>7312</td>\n",
              "    </tr>\n",
              "    <tr>\n",
              "      <th rowspan=\"2\" valign=\"top\">투자/재테크</th>\n",
              "      <th>부동산 투자</th>\n",
              "      <td>714</td>\n",
              "    </tr>\n",
              "    <tr>\n",
              "      <th>주식 투자</th>\n",
              "      <td>1787</td>\n",
              "    </tr>\n",
              "    <tr>\n",
              "      <th rowspan=\"7\" valign=\"top\">프로그래밍</th>\n",
              "      <th>DevOps</th>\n",
              "      <td>2136</td>\n",
              "    </tr>\n",
              "    <tr>\n",
              "      <th>개발자 커리어</th>\n",
              "      <td>5918</td>\n",
              "    </tr>\n",
              "    <tr>\n",
              "      <th>게임</th>\n",
              "      <td>1707</td>\n",
              "    </tr>\n",
              "    <tr>\n",
              "      <th>모바일앱</th>\n",
              "      <td>3724</td>\n",
              "    </tr>\n",
              "    <tr>\n",
              "      <th>백엔드 개발</th>\n",
              "      <td>6144</td>\n",
              "    </tr>\n",
              "    <tr>\n",
              "      <th>코딩 입문</th>\n",
              "      <td>782</td>\n",
              "    </tr>\n",
              "    <tr>\n",
              "      <th>프론트엔드 개발</th>\n",
              "      <td>5878</td>\n",
              "    </tr>\n",
              "  </tbody>\n",
              "</table>\n",
              "</div>\n",
              "      <button class=\"colab-df-convert\" onclick=\"convertToInteractive('df-bb71b2d1-d3d4-4dd2-aa4a-567cba5c4a73')\"\n",
              "              title=\"Convert this dataframe to an interactive table.\"\n",
              "              style=\"display:none;\">\n",
              "        \n",
              "  <svg xmlns=\"http://www.w3.org/2000/svg\" height=\"24px\"viewBox=\"0 0 24 24\"\n",
              "       width=\"24px\">\n",
              "    <path d=\"M0 0h24v24H0V0z\" fill=\"none\"/>\n",
              "    <path d=\"M18.56 5.44l.94 2.06.94-2.06 2.06-.94-2.06-.94-.94-2.06-.94 2.06-2.06.94zm-11 1L8.5 8.5l.94-2.06 2.06-.94-2.06-.94L8.5 2.5l-.94 2.06-2.06.94zm10 10l.94 2.06.94-2.06 2.06-.94-2.06-.94-.94-2.06-.94 2.06-2.06.94z\"/><path d=\"M17.41 7.96l-1.37-1.37c-.4-.4-.92-.59-1.43-.59-.52 0-1.04.2-1.43.59L10.3 9.45l-7.72 7.72c-.78.78-.78 2.05 0 2.83L4 21.41c.39.39.9.59 1.41.59.51 0 1.02-.2 1.41-.59l7.78-7.78 2.81-2.81c.8-.78.8-2.07 0-2.86zM5.41 20L4 18.59l7.72-7.72 1.47 1.35L5.41 20z\"/>\n",
              "  </svg>\n",
              "      </button>\n",
              "      \n",
              "  <style>\n",
              "    .colab-df-container {\n",
              "      display:flex;\n",
              "      flex-wrap:wrap;\n",
              "      gap: 12px;\n",
              "    }\n",
              "\n",
              "    .colab-df-convert {\n",
              "      background-color: #E8F0FE;\n",
              "      border: none;\n",
              "      border-radius: 50%;\n",
              "      cursor: pointer;\n",
              "      display: none;\n",
              "      fill: #1967D2;\n",
              "      height: 32px;\n",
              "      padding: 0 0 0 0;\n",
              "      width: 32px;\n",
              "    }\n",
              "\n",
              "    .colab-df-convert:hover {\n",
              "      background-color: #E2EBFA;\n",
              "      box-shadow: 0px 1px 2px rgba(60, 64, 67, 0.3), 0px 1px 3px 1px rgba(60, 64, 67, 0.15);\n",
              "      fill: #174EA6;\n",
              "    }\n",
              "\n",
              "    [theme=dark] .colab-df-convert {\n",
              "      background-color: #3B4455;\n",
              "      fill: #D2E3FC;\n",
              "    }\n",
              "\n",
              "    [theme=dark] .colab-df-convert:hover {\n",
              "      background-color: #434B5C;\n",
              "      box-shadow: 0px 1px 3px 1px rgba(0, 0, 0, 0.15);\n",
              "      filter: drop-shadow(0px 1px 2px rgba(0, 0, 0, 0.3));\n",
              "      fill: #FFFFFF;\n",
              "    }\n",
              "  </style>\n",
              "\n",
              "      <script>\n",
              "        const buttonEl =\n",
              "          document.querySelector('#df-bb71b2d1-d3d4-4dd2-aa4a-567cba5c4a73 button.colab-df-convert');\n",
              "        buttonEl.style.display =\n",
              "          google.colab.kernel.accessAllowed ? 'block' : 'none';\n",
              "\n",
              "        async function convertToInteractive(key) {\n",
              "          const element = document.querySelector('#df-bb71b2d1-d3d4-4dd2-aa4a-567cba5c4a73');\n",
              "          const dataTable =\n",
              "            await google.colab.kernel.invokeFunction('convertToInteractive',\n",
              "                                                     [key], {});\n",
              "          if (!dataTable) return;\n",
              "\n",
              "          const docLinkHtml = 'Like what you see? Visit the ' +\n",
              "            '<a target=\"_blank\" href=https://colab.research.google.com/notebooks/data_table.ipynb>data table notebook</a>'\n",
              "            + ' to learn more about interactive tables.';\n",
              "          element.innerHTML = '';\n",
              "          dataTable['output_type'] = 'display_data';\n",
              "          await google.colab.output.renderOutput(dataTable, element);\n",
              "          const docLink = document.createElement('div');\n",
              "          docLink.innerHTML = docLinkHtml;\n",
              "          element.appendChild(docLink);\n",
              "        }\n",
              "      </script>\n",
              "    </div>\n",
              "  </div>\n",
              "  "
            ]
          },
          "metadata": {},
          "execution_count": 80
        }
      ],
      "id": "iMH0f6fjc3WU"
    },
    {
      "cell_type": "code",
      "source": [
        "# 강의 카테고리 서브 카테고리 별 분류 트리맵\n",
        "from plotly import express as px\n",
        "import seaborn as sns\n",
        "\n",
        "tip_summ = sub.groupby(['category_title','subcategory_title'])['id'].max().reset_index()\n",
        "\n",
        "fig = px.treemap(tip_summ,\n",
        "                 path=['category_title','subcategory_title'],\n",
        "                 values='id',\n",
        "                 color='id',\n",
        "                 color_continuous_scale='viridis')\n",
        "\n",
        "fig.show()"
      ],
      "metadata": {
        "colab": {
          "base_uri": "https://localhost:8080/",
          "height": 542
        },
        "id": "b8vh1S6TgQlO",
        "outputId": "04d3752d-99f6-425d-85ed-bab901a88b05"
      },
      "id": "b8vh1S6TgQlO",
      "execution_count": 81,
      "outputs": [
        {
          "output_type": "display_data",
          "data": {
            "text/html": [
              "<html>\n",
              "<head><meta charset=\"utf-8\" /></head>\n",
              "<body>\n",
              "    <div>            <script src=\"https://cdnjs.cloudflare.com/ajax/libs/mathjax/2.7.5/MathJax.js?config=TeX-AMS-MML_SVG\"></script><script type=\"text/javascript\">if (window.MathJax) {MathJax.Hub.Config({SVG: {font: \"STIX-Web\"}});}</script>                <script type=\"text/javascript\">window.PlotlyConfig = {MathJaxConfig: 'local'};</script>\n",
              "        <script src=\"https://cdn.plot.ly/plotly-2.8.3.min.js\"></script>                <div id=\"09759536-93a2-410b-afb4-9dd918a410c4\" class=\"plotly-graph-div\" style=\"height:525px; width:100%;\"></div>            <script type=\"text/javascript\">                                    window.PLOTLYENV=window.PLOTLYENV || {};                                    if (document.getElementById(\"09759536-93a2-410b-afb4-9dd918a410c4\")) {                    Plotly.newPlot(                        \"09759536-93a2-410b-afb4-9dd918a410c4\",                        [{\"branchvalues\":\"total\",\"customdata\":[[\"\\ud504\\ub85c\\uadf8\\ub798\\ubc0d/DevOps\"],[\"\\uc5c5\\ubb34 \\uc0dd\\uc0b0\\uc131/PPT/\\ubcf4\\uace0\\uc11c\"],[\"\\ub9c8\\ucf00\\ud305/SNS\\ub9c8\\ucf00\\ud305\"],[\"\\ub514\\uc790\\uc778/UX/UI\"],[\"\\uc601\\uc0c1/3D/VFX\"],[\"\\ud504\\ub85c\\uadf8\\ub798\\ubc0d/\\uac1c\\ubc1c\\uc790 \\ucee4\\ub9ac\\uc5b4\"],[\"\\ud504\\ub85c\\uadf8\\ub798\\ubc0d/\\uac8c\\uc784\"],[\"\\uc601\\uc0c1/3D/\\uac8c\\uc784 \\uadf8\\ub798\\ud53d\"],[\"\\ub9c8\\ucf00\\ud305/\\uae00\\uc4f0\\uae30/\\uce74\\ud53c\\ub77c\\uc774\\ud305\"],[\"\\ubd80\\ub3d9\\uc0b0/\\uae08\\uc735/\\uae08\\uc735/\\ud22c\\uc790 \\uc2e4\\ubb34\"],[\"\\ub9c8\\ucf00\\ud305/\\ub370\\uc774\\ud130\\ub9c8\\ucf00\\ud305\"],[\"\\ub370\\uc774\\ud130\\uc0ac\\uc774\\uc5b8\\uc2a4/\\ub370\\uc774\\ud130\\ubd84\\uc11d\"],[\"\\ub370\\uc774\\ud130\\uc0ac\\uc774\\uc5b8\\uc2a4/\\ub370\\uc774\\ud130\\uc5d4\\uc9c0\\ub2c8\\uc5b4\\ub9c1\"],[\"\\ub514\\uc790\\uc778/\\ub514\\uc790\\uc778\\ud234\"],[\"\\ub9c8\\ucf00\\ud305/\\ub514\\uc9c0\\ud138\\ub9c8\\ucf00\\ud305\"],[\"\\ub370\\uc774\\ud130\\uc0ac\\uc774\\uc5b8\\uc2a4/\\ub525\\ub7ec\\ub2dd/\\uc778\\uacf5\\uc9c0\\ub2a5\"],[\"\\uc5c5\\ubb34 \\uc0dd\\uc0b0\\uc131/\\ub9ac\\ub354\\uc2ed\"],[\"\\ub370\\uc774\\ud130\\uc0ac\\uc774\\uc5b8\\uc2a4/\\uba38\\uc2e0\\ub7ec\\ub2dd\"],[\"\\ud504\\ub85c\\uadf8\\ub798\\ubc0d/\\ubaa8\\ubc14\\uc77c\\uc571\"],[\"\\uc601\\uc0c1/3D/\\ubaa8\\uc158\\uadf8\\ub798\\ud53d\"],[\"\\ud504\\ub85c\\uadf8\\ub798\\ubc0d/\\ubc31\\uc5d4\\ub4dc \\uac1c\\ubc1c\"],[\"\\ubd80\\ub3d9\\uc0b0/\\uae08\\uc735/\\ubd80\\ub3d9\\uc0b0 \\uac1c\\ubc1c\"],[\"\\ud22c\\uc790/\\uc7ac\\ud14c\\ud06c/\\ubd80\\ub3d9\\uc0b0 \\ud22c\\uc790\"],[\"\\ub514\\uc790\\uc778/\\uc2dc\\uac01\\ub514\\uc790\\uc778\"],[\"\\uc5c5\\ubb34 \\uc0dd\\uc0b0\\uc131/\\uc5c5\\ubb34\\uc790\\ub3d9\\ud654\"],[\"\\uc5c5\\ubb34 \\uc0dd\\uc0b0\\uc131/\\uc5d1\\uc140/VBA\"],[\"\\uc601\\uc0c1/3D/\\uc601\\uc0c1 \\ud3b8\\uc9d1\"],[\"\\ub514\\uc790\\uc778/\\uc77c\\ub7ec\\uc2a4\\ud2b8\"],[\"\\ud22c\\uc790/\\uc7ac\\ud14c\\ud06c/\\uc8fc\\uc2dd \\ud22c\\uc790\"],[\"\\uc5c5\\ubb34 \\uc0dd\\uc0b0\\uc131/\\ucee4\\ubba4\\ub2c8\\ucf00\\uc774\\uc158\"],[\"\\ud504\\ub85c\\uadf8\\ub798\\ubc0d/\\ucf54\\ub529 \\uc785\\ubb38\"],[\"\\ud504\\ub85c\\uadf8\\ub798\\ubc0d/\\ud504\\ub860\\ud2b8\\uc5d4\\ub4dc \\uac1c\\ubc1c\"],[\"\\ubd80\\ub3d9\\uc0b0/\\uae08\\uc735/\\ud68c\\uacc4/\\uc7ac\\ubb34/\\uc138\\ubb34\"],[\"\\ub370\\uc774\\ud130\\uc0ac\\uc774\\uc5b8\\uc2a4\"],[\"\\ub514\\uc790\\uc778\"],[\"\\ub9c8\\ucf00\\ud305\"],[\"\\ubd80\\ub3d9\\uc0b0/\\uae08\\uc735\"],[\"\\uc5c5\\ubb34 \\uc0dd\\uc0b0\\uc131\"],[\"\\uc601\\uc0c1/3D\"],[\"\\ud22c\\uc790/\\uc7ac\\ud14c\\ud06c\"],[\"\\ud504\\ub85c\\uadf8\\ub798\\ubc0d\"]],\"domain\":{\"x\":[0.0,1.0],\"y\":[0.0,1.0]},\"hovertemplate\":\"labels=%{label}<br>id_sum=%{value}<br>parent=%{parent}<br>id=%{customdata[0]}<extra></extra>\",\"ids\":[\"\\ud504\\ub85c\\uadf8\\ub798\\ubc0d/DevOps\",\"\\uc5c5\\ubb34 \\uc0dd\\uc0b0\\uc131/PPT/\\ubcf4\\uace0\\uc11c\",\"\\ub9c8\\ucf00\\ud305/SNS\\ub9c8\\ucf00\\ud305\",\"\\ub514\\uc790\\uc778/UX/UI\",\"\\uc601\\uc0c1/3D/VFX\",\"\\ud504\\ub85c\\uadf8\\ub798\\ubc0d/\\uac1c\\ubc1c\\uc790 \\ucee4\\ub9ac\\uc5b4\",\"\\ud504\\ub85c\\uadf8\\ub798\\ubc0d/\\uac8c\\uc784\",\"\\uc601\\uc0c1/3D/\\uac8c\\uc784 \\uadf8\\ub798\\ud53d\",\"\\ub9c8\\ucf00\\ud305/\\uae00\\uc4f0\\uae30/\\uce74\\ud53c\\ub77c\\uc774\\ud305\",\"\\ubd80\\ub3d9\\uc0b0/\\uae08\\uc735/\\uae08\\uc735/\\ud22c\\uc790 \\uc2e4\\ubb34\",\"\\ub9c8\\ucf00\\ud305/\\ub370\\uc774\\ud130\\ub9c8\\ucf00\\ud305\",\"\\ub370\\uc774\\ud130\\uc0ac\\uc774\\uc5b8\\uc2a4/\\ub370\\uc774\\ud130\\ubd84\\uc11d\",\"\\ub370\\uc774\\ud130\\uc0ac\\uc774\\uc5b8\\uc2a4/\\ub370\\uc774\\ud130\\uc5d4\\uc9c0\\ub2c8\\uc5b4\\ub9c1\",\"\\ub514\\uc790\\uc778/\\ub514\\uc790\\uc778\\ud234\",\"\\ub9c8\\ucf00\\ud305/\\ub514\\uc9c0\\ud138\\ub9c8\\ucf00\\ud305\",\"\\ub370\\uc774\\ud130\\uc0ac\\uc774\\uc5b8\\uc2a4/\\ub525\\ub7ec\\ub2dd/\\uc778\\uacf5\\uc9c0\\ub2a5\",\"\\uc5c5\\ubb34 \\uc0dd\\uc0b0\\uc131/\\ub9ac\\ub354\\uc2ed\",\"\\ub370\\uc774\\ud130\\uc0ac\\uc774\\uc5b8\\uc2a4/\\uba38\\uc2e0\\ub7ec\\ub2dd\",\"\\ud504\\ub85c\\uadf8\\ub798\\ubc0d/\\ubaa8\\ubc14\\uc77c\\uc571\",\"\\uc601\\uc0c1/3D/\\ubaa8\\uc158\\uadf8\\ub798\\ud53d\",\"\\ud504\\ub85c\\uadf8\\ub798\\ubc0d/\\ubc31\\uc5d4\\ub4dc \\uac1c\\ubc1c\",\"\\ubd80\\ub3d9\\uc0b0/\\uae08\\uc735/\\ubd80\\ub3d9\\uc0b0 \\uac1c\\ubc1c\",\"\\ud22c\\uc790/\\uc7ac\\ud14c\\ud06c/\\ubd80\\ub3d9\\uc0b0 \\ud22c\\uc790\",\"\\ub514\\uc790\\uc778/\\uc2dc\\uac01\\ub514\\uc790\\uc778\",\"\\uc5c5\\ubb34 \\uc0dd\\uc0b0\\uc131/\\uc5c5\\ubb34\\uc790\\ub3d9\\ud654\",\"\\uc5c5\\ubb34 \\uc0dd\\uc0b0\\uc131/\\uc5d1\\uc140/VBA\",\"\\uc601\\uc0c1/3D/\\uc601\\uc0c1 \\ud3b8\\uc9d1\",\"\\ub514\\uc790\\uc778/\\uc77c\\ub7ec\\uc2a4\\ud2b8\",\"\\ud22c\\uc790/\\uc7ac\\ud14c\\ud06c/\\uc8fc\\uc2dd \\ud22c\\uc790\",\"\\uc5c5\\ubb34 \\uc0dd\\uc0b0\\uc131/\\ucee4\\ubba4\\ub2c8\\ucf00\\uc774\\uc158\",\"\\ud504\\ub85c\\uadf8\\ub798\\ubc0d/\\ucf54\\ub529 \\uc785\\ubb38\",\"\\ud504\\ub85c\\uadf8\\ub798\\ubc0d/\\ud504\\ub860\\ud2b8\\uc5d4\\ub4dc \\uac1c\\ubc1c\",\"\\ubd80\\ub3d9\\uc0b0/\\uae08\\uc735/\\ud68c\\uacc4/\\uc7ac\\ubb34/\\uc138\\ubb34\",\"\\ub370\\uc774\\ud130\\uc0ac\\uc774\\uc5b8\\uc2a4\",\"\\ub514\\uc790\\uc778\",\"\\ub9c8\\ucf00\\ud305\",\"\\ubd80\\ub3d9\\uc0b0/\\uae08\\uc735\",\"\\uc5c5\\ubb34 \\uc0dd\\uc0b0\\uc131\",\"\\uc601\\uc0c1/3D\",\"\\ud22c\\uc790/\\uc7ac\\ud14c\\ud06c\",\"\\ud504\\ub85c\\uadf8\\ub798\\ubc0d\"],\"labels\":[\"DevOps\",\"PPT/\\ubcf4\\uace0\\uc11c\",\"SNS\\ub9c8\\ucf00\\ud305\",\"UX/UI\",\"VFX\",\"\\uac1c\\ubc1c\\uc790 \\ucee4\\ub9ac\\uc5b4\",\"\\uac8c\\uc784\",\"\\uac8c\\uc784 \\uadf8\\ub798\\ud53d\",\"\\uae00\\uc4f0\\uae30/\\uce74\\ud53c\\ub77c\\uc774\\ud305\",\"\\uae08\\uc735/\\ud22c\\uc790 \\uc2e4\\ubb34\",\"\\ub370\\uc774\\ud130\\ub9c8\\ucf00\\ud305\",\"\\ub370\\uc774\\ud130\\ubd84\\uc11d\",\"\\ub370\\uc774\\ud130\\uc5d4\\uc9c0\\ub2c8\\uc5b4\\ub9c1\",\"\\ub514\\uc790\\uc778\\ud234\",\"\\ub514\\uc9c0\\ud138\\ub9c8\\ucf00\\ud305\",\"\\ub525\\ub7ec\\ub2dd/\\uc778\\uacf5\\uc9c0\\ub2a5\",\"\\ub9ac\\ub354\\uc2ed\",\"\\uba38\\uc2e0\\ub7ec\\ub2dd\",\"\\ubaa8\\ubc14\\uc77c\\uc571\",\"\\ubaa8\\uc158\\uadf8\\ub798\\ud53d\",\"\\ubc31\\uc5d4\\ub4dc \\uac1c\\ubc1c\",\"\\ubd80\\ub3d9\\uc0b0 \\uac1c\\ubc1c\",\"\\ubd80\\ub3d9\\uc0b0 \\ud22c\\uc790\",\"\\uc2dc\\uac01\\ub514\\uc790\\uc778\",\"\\uc5c5\\ubb34\\uc790\\ub3d9\\ud654\",\"\\uc5d1\\uc140/VBA\",\"\\uc601\\uc0c1 \\ud3b8\\uc9d1\",\"\\uc77c\\ub7ec\\uc2a4\\ud2b8\",\"\\uc8fc\\uc2dd \\ud22c\\uc790\",\"\\ucee4\\ubba4\\ub2c8\\ucf00\\uc774\\uc158\",\"\\ucf54\\ub529 \\uc785\\ubb38\",\"\\ud504\\ub860\\ud2b8\\uc5d4\\ub4dc \\uac1c\\ubc1c\",\"\\ud68c\\uacc4/\\uc7ac\\ubb34/\\uc138\\ubb34\",\"\\ub370\\uc774\\ud130\\uc0ac\\uc774\\uc5b8\\uc2a4\",\"\\ub514\\uc790\\uc778\",\"\\ub9c8\\ucf00\\ud305\",\"\\ubd80\\ub3d9\\uc0b0/\\uae08\\uc735\",\"\\uc5c5\\ubb34 \\uc0dd\\uc0b0\\uc131\",\"\\uc601\\uc0c1/3D\",\"\\ud22c\\uc790/\\uc7ac\\ud14c\\ud06c\",\"\\ud504\\ub85c\\uadf8\\ub798\\ubc0d\"],\"marker\":{\"colors\":[\"#636efa\",\"#EF553B\",\"#00cc96\",\"#ab63fa\",\"#FFA15A\",\"#19d3f3\",\"#FF6692\",\"#B6E880\",\"#FF97FF\",\"#FECB52\",\"#636efa\",\"#EF553B\",\"#00cc96\",\"#ab63fa\",\"#FFA15A\",\"#19d3f3\",\"#FF6692\",\"#B6E880\",\"#FF97FF\",\"#FECB52\",\"#636efa\",\"#EF553B\",\"#00cc96\",\"#ab63fa\",\"#FFA15A\",\"#19d3f3\",\"#FF6692\",\"#B6E880\",\"#FF97FF\",\"#FECB52\",\"#636efa\",\"#EF553B\",\"#00cc96\",\"#ab63fa\",\"#FFA15A\",\"#19d3f3\",\"#FF6692\",\"#B6E880\",\"#FF97FF\",\"#FECB52\",\"#636efa\"]},\"name\":\"\",\"parents\":[\"\\ud504\\ub85c\\uadf8\\ub798\\ubc0d\",\"\\uc5c5\\ubb34 \\uc0dd\\uc0b0\\uc131\",\"\\ub9c8\\ucf00\\ud305\",\"\\ub514\\uc790\\uc778\",\"\\uc601\\uc0c1/3D\",\"\\ud504\\ub85c\\uadf8\\ub798\\ubc0d\",\"\\ud504\\ub85c\\uadf8\\ub798\\ubc0d\",\"\\uc601\\uc0c1/3D\",\"\\ub9c8\\ucf00\\ud305\",\"\\ubd80\\ub3d9\\uc0b0/\\uae08\\uc735\",\"\\ub9c8\\ucf00\\ud305\",\"\\ub370\\uc774\\ud130\\uc0ac\\uc774\\uc5b8\\uc2a4\",\"\\ub370\\uc774\\ud130\\uc0ac\\uc774\\uc5b8\\uc2a4\",\"\\ub514\\uc790\\uc778\",\"\\ub9c8\\ucf00\\ud305\",\"\\ub370\\uc774\\ud130\\uc0ac\\uc774\\uc5b8\\uc2a4\",\"\\uc5c5\\ubb34 \\uc0dd\\uc0b0\\uc131\",\"\\ub370\\uc774\\ud130\\uc0ac\\uc774\\uc5b8\\uc2a4\",\"\\ud504\\ub85c\\uadf8\\ub798\\ubc0d\",\"\\uc601\\uc0c1/3D\",\"\\ud504\\ub85c\\uadf8\\ub798\\ubc0d\",\"\\ubd80\\ub3d9\\uc0b0/\\uae08\\uc735\",\"\\ud22c\\uc790/\\uc7ac\\ud14c\\ud06c\",\"\\ub514\\uc790\\uc778\",\"\\uc5c5\\ubb34 \\uc0dd\\uc0b0\\uc131\",\"\\uc5c5\\ubb34 \\uc0dd\\uc0b0\\uc131\",\"\\uc601\\uc0c1/3D\",\"\\ub514\\uc790\\uc778\",\"\\ud22c\\uc790/\\uc7ac\\ud14c\\ud06c\",\"\\uc5c5\\ubb34 \\uc0dd\\uc0b0\\uc131\",\"\\ud504\\ub85c\\uadf8\\ub798\\ubc0d\",\"\\ud504\\ub85c\\uadf8\\ub798\\ubc0d\",\"\\ubd80\\ub3d9\\uc0b0/\\uae08\\uc735\",\"\",\"\",\"\",\"\",\"\",\"\",\"\",\"\"],\"values\":[2136,4150,1190,2775,523,5918,1707,385,3524,2075,2306,4302,275,4053,1754,4590,511,1958,3724,2033,6144,1179,714,1927,996,3591,7312,3238,1787,204,782,5878,1948,11125,11993,8774,5202,9452,10253,2501,26289],\"type\":\"treemap\"}],                        {\"template\":{\"data\":{\"bar\":[{\"error_x\":{\"color\":\"#2a3f5f\"},\"error_y\":{\"color\":\"#2a3f5f\"},\"marker\":{\"line\":{\"color\":\"#E5ECF6\",\"width\":0.5},\"pattern\":{\"fillmode\":\"overlay\",\"size\":10,\"solidity\":0.2}},\"type\":\"bar\"}],\"barpolar\":[{\"marker\":{\"line\":{\"color\":\"#E5ECF6\",\"width\":0.5},\"pattern\":{\"fillmode\":\"overlay\",\"size\":10,\"solidity\":0.2}},\"type\":\"barpolar\"}],\"carpet\":[{\"aaxis\":{\"endlinecolor\":\"#2a3f5f\",\"gridcolor\":\"white\",\"linecolor\":\"white\",\"minorgridcolor\":\"white\",\"startlinecolor\":\"#2a3f5f\"},\"baxis\":{\"endlinecolor\":\"#2a3f5f\",\"gridcolor\":\"white\",\"linecolor\":\"white\",\"minorgridcolor\":\"white\",\"startlinecolor\":\"#2a3f5f\"},\"type\":\"carpet\"}],\"choropleth\":[{\"colorbar\":{\"outlinewidth\":0,\"ticks\":\"\"},\"type\":\"choropleth\"}],\"contour\":[{\"colorbar\":{\"outlinewidth\":0,\"ticks\":\"\"},\"colorscale\":[[0.0,\"#0d0887\"],[0.1111111111111111,\"#46039f\"],[0.2222222222222222,\"#7201a8\"],[0.3333333333333333,\"#9c179e\"],[0.4444444444444444,\"#bd3786\"],[0.5555555555555556,\"#d8576b\"],[0.6666666666666666,\"#ed7953\"],[0.7777777777777778,\"#fb9f3a\"],[0.8888888888888888,\"#fdca26\"],[1.0,\"#f0f921\"]],\"type\":\"contour\"}],\"contourcarpet\":[{\"colorbar\":{\"outlinewidth\":0,\"ticks\":\"\"},\"type\":\"contourcarpet\"}],\"heatmap\":[{\"colorbar\":{\"outlinewidth\":0,\"ticks\":\"\"},\"colorscale\":[[0.0,\"#0d0887\"],[0.1111111111111111,\"#46039f\"],[0.2222222222222222,\"#7201a8\"],[0.3333333333333333,\"#9c179e\"],[0.4444444444444444,\"#bd3786\"],[0.5555555555555556,\"#d8576b\"],[0.6666666666666666,\"#ed7953\"],[0.7777777777777778,\"#fb9f3a\"],[0.8888888888888888,\"#fdca26\"],[1.0,\"#f0f921\"]],\"type\":\"heatmap\"}],\"heatmapgl\":[{\"colorbar\":{\"outlinewidth\":0,\"ticks\":\"\"},\"colorscale\":[[0.0,\"#0d0887\"],[0.1111111111111111,\"#46039f\"],[0.2222222222222222,\"#7201a8\"],[0.3333333333333333,\"#9c179e\"],[0.4444444444444444,\"#bd3786\"],[0.5555555555555556,\"#d8576b\"],[0.6666666666666666,\"#ed7953\"],[0.7777777777777778,\"#fb9f3a\"],[0.8888888888888888,\"#fdca26\"],[1.0,\"#f0f921\"]],\"type\":\"heatmapgl\"}],\"histogram\":[{\"marker\":{\"pattern\":{\"fillmode\":\"overlay\",\"size\":10,\"solidity\":0.2}},\"type\":\"histogram\"}],\"histogram2d\":[{\"colorbar\":{\"outlinewidth\":0,\"ticks\":\"\"},\"colorscale\":[[0.0,\"#0d0887\"],[0.1111111111111111,\"#46039f\"],[0.2222222222222222,\"#7201a8\"],[0.3333333333333333,\"#9c179e\"],[0.4444444444444444,\"#bd3786\"],[0.5555555555555556,\"#d8576b\"],[0.6666666666666666,\"#ed7953\"],[0.7777777777777778,\"#fb9f3a\"],[0.8888888888888888,\"#fdca26\"],[1.0,\"#f0f921\"]],\"type\":\"histogram2d\"}],\"histogram2dcontour\":[{\"colorbar\":{\"outlinewidth\":0,\"ticks\":\"\"},\"colorscale\":[[0.0,\"#0d0887\"],[0.1111111111111111,\"#46039f\"],[0.2222222222222222,\"#7201a8\"],[0.3333333333333333,\"#9c179e\"],[0.4444444444444444,\"#bd3786\"],[0.5555555555555556,\"#d8576b\"],[0.6666666666666666,\"#ed7953\"],[0.7777777777777778,\"#fb9f3a\"],[0.8888888888888888,\"#fdca26\"],[1.0,\"#f0f921\"]],\"type\":\"histogram2dcontour\"}],\"mesh3d\":[{\"colorbar\":{\"outlinewidth\":0,\"ticks\":\"\"},\"type\":\"mesh3d\"}],\"parcoords\":[{\"line\":{\"colorbar\":{\"outlinewidth\":0,\"ticks\":\"\"}},\"type\":\"parcoords\"}],\"pie\":[{\"automargin\":true,\"type\":\"pie\"}],\"scatter\":[{\"marker\":{\"colorbar\":{\"outlinewidth\":0,\"ticks\":\"\"}},\"type\":\"scatter\"}],\"scatter3d\":[{\"line\":{\"colorbar\":{\"outlinewidth\":0,\"ticks\":\"\"}},\"marker\":{\"colorbar\":{\"outlinewidth\":0,\"ticks\":\"\"}},\"type\":\"scatter3d\"}],\"scattercarpet\":[{\"marker\":{\"colorbar\":{\"outlinewidth\":0,\"ticks\":\"\"}},\"type\":\"scattercarpet\"}],\"scattergeo\":[{\"marker\":{\"colorbar\":{\"outlinewidth\":0,\"ticks\":\"\"}},\"type\":\"scattergeo\"}],\"scattergl\":[{\"marker\":{\"colorbar\":{\"outlinewidth\":0,\"ticks\":\"\"}},\"type\":\"scattergl\"}],\"scattermapbox\":[{\"marker\":{\"colorbar\":{\"outlinewidth\":0,\"ticks\":\"\"}},\"type\":\"scattermapbox\"}],\"scatterpolar\":[{\"marker\":{\"colorbar\":{\"outlinewidth\":0,\"ticks\":\"\"}},\"type\":\"scatterpolar\"}],\"scatterpolargl\":[{\"marker\":{\"colorbar\":{\"outlinewidth\":0,\"ticks\":\"\"}},\"type\":\"scatterpolargl\"}],\"scatterternary\":[{\"marker\":{\"colorbar\":{\"outlinewidth\":0,\"ticks\":\"\"}},\"type\":\"scatterternary\"}],\"surface\":[{\"colorbar\":{\"outlinewidth\":0,\"ticks\":\"\"},\"colorscale\":[[0.0,\"#0d0887\"],[0.1111111111111111,\"#46039f\"],[0.2222222222222222,\"#7201a8\"],[0.3333333333333333,\"#9c179e\"],[0.4444444444444444,\"#bd3786\"],[0.5555555555555556,\"#d8576b\"],[0.6666666666666666,\"#ed7953\"],[0.7777777777777778,\"#fb9f3a\"],[0.8888888888888888,\"#fdca26\"],[1.0,\"#f0f921\"]],\"type\":\"surface\"}],\"table\":[{\"cells\":{\"fill\":{\"color\":\"#EBF0F8\"},\"line\":{\"color\":\"white\"}},\"header\":{\"fill\":{\"color\":\"#C8D4E3\"},\"line\":{\"color\":\"white\"}},\"type\":\"table\"}]},\"layout\":{\"annotationdefaults\":{\"arrowcolor\":\"#2a3f5f\",\"arrowhead\":0,\"arrowwidth\":1},\"autotypenumbers\":\"strict\",\"coloraxis\":{\"colorbar\":{\"outlinewidth\":0,\"ticks\":\"\"}},\"colorscale\":{\"diverging\":[[0,\"#8e0152\"],[0.1,\"#c51b7d\"],[0.2,\"#de77ae\"],[0.3,\"#f1b6da\"],[0.4,\"#fde0ef\"],[0.5,\"#f7f7f7\"],[0.6,\"#e6f5d0\"],[0.7,\"#b8e186\"],[0.8,\"#7fbc41\"],[0.9,\"#4d9221\"],[1,\"#276419\"]],\"sequential\":[[0.0,\"#0d0887\"],[0.1111111111111111,\"#46039f\"],[0.2222222222222222,\"#7201a8\"],[0.3333333333333333,\"#9c179e\"],[0.4444444444444444,\"#bd3786\"],[0.5555555555555556,\"#d8576b\"],[0.6666666666666666,\"#ed7953\"],[0.7777777777777778,\"#fb9f3a\"],[0.8888888888888888,\"#fdca26\"],[1.0,\"#f0f921\"]],\"sequentialminus\":[[0.0,\"#0d0887\"],[0.1111111111111111,\"#46039f\"],[0.2222222222222222,\"#7201a8\"],[0.3333333333333333,\"#9c179e\"],[0.4444444444444444,\"#bd3786\"],[0.5555555555555556,\"#d8576b\"],[0.6666666666666666,\"#ed7953\"],[0.7777777777777778,\"#fb9f3a\"],[0.8888888888888888,\"#fdca26\"],[1.0,\"#f0f921\"]]},\"colorway\":[\"#636efa\",\"#EF553B\",\"#00cc96\",\"#ab63fa\",\"#FFA15A\",\"#19d3f3\",\"#FF6692\",\"#B6E880\",\"#FF97FF\",\"#FECB52\"],\"font\":{\"color\":\"#2a3f5f\"},\"geo\":{\"bgcolor\":\"white\",\"lakecolor\":\"white\",\"landcolor\":\"#E5ECF6\",\"showlakes\":true,\"showland\":true,\"subunitcolor\":\"white\"},\"hoverlabel\":{\"align\":\"left\"},\"hovermode\":\"closest\",\"mapbox\":{\"style\":\"light\"},\"paper_bgcolor\":\"white\",\"plot_bgcolor\":\"#E5ECF6\",\"polar\":{\"angularaxis\":{\"gridcolor\":\"white\",\"linecolor\":\"white\",\"ticks\":\"\"},\"bgcolor\":\"#E5ECF6\",\"radialaxis\":{\"gridcolor\":\"white\",\"linecolor\":\"white\",\"ticks\":\"\"}},\"scene\":{\"xaxis\":{\"backgroundcolor\":\"#E5ECF6\",\"gridcolor\":\"white\",\"gridwidth\":2,\"linecolor\":\"white\",\"showbackground\":true,\"ticks\":\"\",\"zerolinecolor\":\"white\"},\"yaxis\":{\"backgroundcolor\":\"#E5ECF6\",\"gridcolor\":\"white\",\"gridwidth\":2,\"linecolor\":\"white\",\"showbackground\":true,\"ticks\":\"\",\"zerolinecolor\":\"white\"},\"zaxis\":{\"backgroundcolor\":\"#E5ECF6\",\"gridcolor\":\"white\",\"gridwidth\":2,\"linecolor\":\"white\",\"showbackground\":true,\"ticks\":\"\",\"zerolinecolor\":\"white\"}},\"shapedefaults\":{\"line\":{\"color\":\"#2a3f5f\"}},\"ternary\":{\"aaxis\":{\"gridcolor\":\"white\",\"linecolor\":\"white\",\"ticks\":\"\"},\"baxis\":{\"gridcolor\":\"white\",\"linecolor\":\"white\",\"ticks\":\"\"},\"bgcolor\":\"#E5ECF6\",\"caxis\":{\"gridcolor\":\"white\",\"linecolor\":\"white\",\"ticks\":\"\"}},\"title\":{\"x\":0.05},\"xaxis\":{\"automargin\":true,\"gridcolor\":\"white\",\"linecolor\":\"white\",\"ticks\":\"\",\"title\":{\"standoff\":15},\"zerolinecolor\":\"white\",\"zerolinewidth\":2},\"yaxis\":{\"automargin\":true,\"gridcolor\":\"white\",\"linecolor\":\"white\",\"ticks\":\"\",\"title\":{\"standoff\":15},\"zerolinecolor\":\"white\",\"zerolinewidth\":2}}},\"legend\":{\"tracegroupgap\":0},\"margin\":{\"t\":60}},                        {\"responsive\": true}                    ).then(function(){\n",
              "                            \n",
              "var gd = document.getElementById('09759536-93a2-410b-afb4-9dd918a410c4');\n",
              "var x = new MutationObserver(function (mutations, observer) {{\n",
              "        var display = window.getComputedStyle(gd).display;\n",
              "        if (!display || display === 'none') {{\n",
              "            console.log([gd, 'removed!']);\n",
              "            Plotly.purge(gd);\n",
              "            observer.disconnect();\n",
              "        }}\n",
              "}});\n",
              "\n",
              "// Listen for the removal of the full notebook cells\n",
              "var notebookContainer = gd.closest('#notebook-container');\n",
              "if (notebookContainer) {{\n",
              "    x.observe(notebookContainer, {childList: true});\n",
              "}}\n",
              "\n",
              "// Listen for the clearing of the current output cell\n",
              "var outputEl = gd.closest('.output');\n",
              "if (outputEl) {{\n",
              "    x.observe(outputEl, {childList: true});\n",
              "}}\n",
              "\n",
              "                        })                };                            </script>        </div>\n",
              "</body>\n",
              "</html>"
            ]
          },
          "metadata": {}
        }
      ]
    },
    {
      "cell_type": "code",
      "source": [
        "# 카테고리 별 총 매출\n",
        "how = {\n",
        "    'transaction_amount' : np.sum\n",
        "}\n",
        "catr = df.groupby('category_title').agg(how)\n",
        "catr = catr.sort_values('transaction_amount', ascending=False)"
      ],
      "metadata": {
        "id": "awv4SkGnYsL4"
      },
      "execution_count": 82,
      "outputs": [],
      "id": "awv4SkGnYsL4"
    },
    {
      "cell_type": "code",
      "source": [
        "# 카테고리 별 총 매출 시각화\n",
        "catr.plot.bar(figsize = (15,6))"
      ],
      "metadata": {
        "colab": {
          "base_uri": "https://localhost:8080/",
          "height": 470
        },
        "id": "T6b3S5Vbh6xq",
        "outputId": "49985955-e6b1-40d1-c27d-1448dfb5e296"
      },
      "execution_count": 83,
      "outputs": [
        {
          "output_type": "execute_result",
          "data": {
            "text/plain": [
              "<matplotlib.axes._subplots.AxesSubplot at 0x7fdaf82f7490>"
            ]
          },
          "metadata": {},
          "execution_count": 83
        },
        {
          "output_type": "display_data",
          "data": {
            "text/plain": [
              "<Figure size 1080x432 with 1 Axes>"
            ],
            "image/png": "[encoded data removed]"
          },
          "metadata": {
            "needs_background": "light"
          }
        }
      ],
      "id": "T6b3S5Vbh6xq"
    },
    {
      "cell_type": "markdown",
      "source": [
        "매출이 높은 카테고리의 강의에 광고를 집중하면 매출 상승 효과를 기대할 수 있을 것이다."
      ],
      "metadata": {
        "id": "IMpksmDhgIDn"
      },
      "id": "IMpksmDhgIDn"
    },
    {
      "cell_type": "markdown",
      "source": [
        "###결제 시기 데이터 분석"
      ],
      "metadata": {
        "id": "5OFRN-FVnHh9"
      },
      "id": "5OFRN-FVnHh9"
    },
    {
      "cell_type": "code",
      "source": [
        "# 특정 월, 일, 요일, 시간에 따른 판매량 그래프\n",
        "from matplotlib.axis import Axis\n",
        "how= {\n",
        "    'transaction_amount':np.sum\n",
        "}\n",
        "stat1=df2.groupby('pay_ym').agg(how)\n",
        "stat2=df2.groupby('Date').agg(how)\n",
        "stat3=df2.groupby('Day').agg(how)\n",
        "stat4=df2.groupby('Time').agg(how)\n",
        "\n",
        "stat1.plot.bar(subplots=True, figsize = (8,4))\n",
        "stat2.plot.bar(subplots=True, figsize = (8,4))\n",
        "stat3.plot.bar(subplots=True, figsize = (8,4))\n",
        "stat4.plot.bar(subplots=True, figsize = (8.15,4))"
      ],
      "metadata": {
        "colab": {
          "base_uri": "https://localhost:8080/",
          "height": 1000
        },
        "id": "TyvX3vfr6fP3",
        "outputId": "e67245e8-914b-4e66-c6f7-85a3c9740804"
      },
      "id": "TyvX3vfr6fP3",
      "execution_count": 84,
      "outputs": [
        {
          "output_type": "execute_result",
          "data": {
            "text/plain": [
              "array([<matplotlib.axes._subplots.AxesSubplot object at 0x7fdaf6df4c10>],\n",
              "      dtype=object)"
            ]
          },
          "metadata": {},
          "execution_count": 84
        },
        {
          "output_type": "display_data",
          "data": {
            "text/plain": [
              "<Figure size 576x288 with 1 Axes>"
            ],
            "image/png": "[encoded data removed]"
          },
          "metadata": {
            "needs_background": "light"
          }
        },
        {
          "output_type": "display_data",
          "data": {
            "text/plain": [
              "<Figure size 576x288 with 1 Axes>"
            ],
            "image/png": "[encoded data removed]"
          },
          "metadata": {
            "needs_background": "light"
          }
        },
        {
          "output_type": "display_data",
          "data": {
            "text/plain": [
              "<Figure size 576x288 with 1 Axes>"
            ],
            "image/png": "[encoded data removed]"
          },
          "metadata": {
            "needs_background": "light"
          }
        },
        {
          "output_type": "display_data",
          "data": {
            "text/plain": [
              "<Figure size 586.8x288 with 1 Axes>"
            ],
            "image/png": "[encoded data removed]"
          },
          "metadata": {
            "needs_background": "light"
          }
        }
      ]
    },
    {
      "cell_type": "code",
      "source": [
        "# 요일/시간 별 매출량 그래프\n",
        "grouped_df = df2.groupby(['Day','Time'])['transaction_amount'].aggregate('sum').reset_index()\n",
        "grouped_df = grouped_df.pivot('Day','Time','transaction_amount')\n",
        "\n",
        "plt.figure(figsize = (18,9))\n",
        "sns.heatmap(grouped_df)\n",
        "plt.title('요일/시간별 매출량')\n",
        "plt.show()"
      ],
      "metadata": {
        "colab": {
          "base_uri": "https://localhost:8080/",
          "height": 566
        },
        "id": "dFFuvRF4IjiR",
        "outputId": "d34ff494-2918-43b6-81bf-657df92cc8a3"
      },
      "id": "dFFuvRF4IjiR",
      "execution_count": 85,
      "outputs": [
        {
          "output_type": "display_data",
          "data": {
            "text/plain": [
              "<Figure size 1296x648 with 2 Axes>"
            ],
            "image/png": "[encoded data removed]"
          },
          "metadata": {
            "needs_background": "light"
          }
        }
      ]
    },
    {
      "cell_type": "markdown",
      "source": [
        "방학시즌인 7, 8월, 주말인 일요일, 월말인 30,31일, 그리고 밤 시간인 21~23시에 수입이 높게 나타난다.\n",
        "\n",
        "그리고 요일/시간 별 매출량 그래프에서 일요일 20~23시에 매출량이 가장 높게 나타났다."
      ],
      "metadata": {
        "id": "F4Bmr3x8_V4u"
      },
      "id": "F4Bmr3x8_V4u"
    },
    {
      "cell_type": "markdown",
      "source": [
        "###재구매 데이터 분석"
      ],
      "metadata": {
        "id": "LhHvf5jGiNkQ"
      },
      "id": "LhHvf5jGiNkQ"
    },
    {
      "cell_type": "code",
      "source": [
        "# 한 사람이 강의를 몇 회 구매했는지 확인\n",
        "df3[\"customer_id\"].value_counts() "
      ],
      "metadata": {
        "colab": {
          "base_uri": "https://localhost:8080/"
        },
        "id": "Ktat19PxqkM8",
        "outputId": "75e89d09-baf3-4a46-85f8-bc508fa157a6"
      },
      "id": "Ktat19PxqkM8",
      "execution_count": 86,
      "outputs": [
        {
          "output_type": "execute_result",
          "data": {
            "text/plain": [
              "98685.0     53\n",
              "427973.0    47\n",
              "158374.0    42\n",
              "50769.0     41\n",
              "3189.0      40\n",
              "            ..\n",
              "544537.0     1\n",
              "544348.0     1\n",
              "537063.0     1\n",
              "102796.0     1\n",
              "610626.0     1\n",
              "Name: customer_id, Length: 39092, dtype: int64"
            ]
          },
          "metadata": {},
          "execution_count": 86
        }
      ]
    },
    {
      "cell_type": "code",
      "source": [
        "# 재구매 시 True, 1회 구매시 False 인 column 생성\n",
        "\n",
        "repeat = df3.customer_id.value_counts().loc[df3.customer_id.value_counts() >= 2]\n",
        "repeat_index=repeat.index\n",
        "repeat_index\n",
        "\n",
        "def repeat_order_func(x) :\n",
        "\n",
        "    if repeat_index.isin([x]).any()==True:\n",
        "        return '재구매자'\n",
        "    else:\n",
        "        return '1회 구매자'\n",
        "\n",
        "df3['repeat_order'] = df3['customer_id'].map(repeat_order_func)\n",
        "df3 = df3.drop_duplicates(['customer_id'])"
      ],
      "metadata": {
        "id": "bDvSSFivPfvS"
      },
      "id": "bDvSSFivPfvS",
      "execution_count": 87,
      "outputs": []
    },
    {
      "cell_type": "code",
      "source": [
        "# 1회 구매자 및 2회 이상 구매자 수 확인\n",
        "df3['repeat_order'].value_counts()"
      ],
      "metadata": {
        "colab": {
          "base_uri": "https://localhost:8080/"
        },
        "id": "E5Qz7GmQfYM3",
        "outputId": "e23267d9-de49-460d-b3c6-db28d657fbe5"
      },
      "id": "E5Qz7GmQfYM3",
      "execution_count": 88,
      "outputs": [
        {
          "output_type": "execute_result",
          "data": {
            "text/plain": [
              "1회 구매자    30103\n",
              "재구매자       8989\n",
              "Name: repeat_order, dtype: int64"
            ]
          },
          "metadata": {},
          "execution_count": 88
        }
      ]
    },
    {
      "cell_type": "code",
      "source": [
        "# 강의를 재구매한 사람 비율\n",
        "print(f'{\"%.2f\"% (8989/(30103+8989)*100)}%')"
      ],
      "metadata": {
        "colab": {
          "base_uri": "https://localhost:8080/"
        },
        "id": "B54eX3ZdgB_n",
        "outputId": "83282c99-544f-48ce-cbcb-20092b97a816"
      },
      "id": "B54eX3ZdgB_n",
      "execution_count": 89,
      "outputs": [
        {
          "output_type": "stream",
          "name": "stdout",
          "text": [
            "22.99%\n"
          ]
        }
      ]
    },
    {
      "cell_type": "markdown",
      "source": [
        "강의를 2회 이상 구매한 사람이 전체의 약 23%"
      ],
      "metadata": {
        "id": "sIQcvT0-gWLS"
      },
      "id": "sIQcvT0-gWLS"
    },
    {
      "cell_type": "code",
      "source": [
        "# 재구매자만 있는 데이터프레임\n",
        "df_repeat_order = df3[df3.repeat_order.isin(['재구매자'])]"
      ],
      "metadata": {
        "id": "0K2FLb-YsKHY"
      },
      "id": "0K2FLb-YsKHY",
      "execution_count": 90,
      "outputs": []
    },
    {
      "cell_type": "code",
      "source": [
        "# 1회 구매자만 있는 데이터프레임\n",
        "df_one_order = df3[df3.repeat_order.isin(['1회 구매자'])]"
      ],
      "metadata": {
        "id": "o120X4mxKb-u"
      },
      "id": "o120X4mxKb-u",
      "execution_count": 91,
      "outputs": []
    },
    {
      "cell_type": "code",
      "source": [
        "# 카테고리 별 1회 구매자와 재구매자의 구매 횟수 비교\n",
        "plt.figure(figsize=(12,8))\n",
        "sns.countplot('category_title',hue='repeat_order',data=df3)\n",
        "plt.show()"
      ],
      "metadata": {
        "colab": {
          "base_uri": "https://localhost:8080/",
          "height": 590
        },
        "id": "eMIrNAsfRH8j",
        "outputId": "c4c8081f-6dfa-4262-e13a-5a2ed46da9bc"
      },
      "id": "eMIrNAsfRH8j",
      "execution_count": 92,
      "outputs": [
        {
          "output_type": "stream",
          "name": "stderr",
          "text": [
            "/usr/local/lib/python3.7/dist-packages/seaborn/_decorators.py:43: FutureWarning:\n",
            "\n",
            "Pass the following variable as a keyword arg: x. From version 0.12, the only valid positional argument will be `data`, and passing other arguments without an explicit keyword will result in an error or misinterpretation.\n",
            "\n"
          ]
        },
        {
          "output_type": "display_data",
          "data": {
            "text/plain": [
              "<Figure size 864x576 with 1 Axes>"
            ],
            "image/png": "[encoded data removed]"
          },
          "metadata": {
            "needs_background": "light"
          }
        }
      ]
    },
    {
      "cell_type": "code",
      "source": [
        "# 카테고리 별 총 구매자 중 재구매자의 비율\n",
        "df_repeat_one_rate = df_repeat_order['category_title'].value_counts().head(9) / (df_one_order['category_title'].value_counts().head(9) + df_repeat_order['category_title'].value_counts().head(9))\n",
        "df_repeat_one_rate = df_repeat_one_rate.sort_values(ascending=False)\n",
        "df_repeat_one_rate"
      ],
      "metadata": {
        "colab": {
          "base_uri": "https://localhost:8080/"
        },
        "id": "YZUDb03GTs6c",
        "outputId": "8e68e729-b378-4f0b-f922-736434382437"
      },
      "id": "YZUDb03GTs6c",
      "execution_count": 93,
      "outputs": [
        {
          "output_type": "execute_result",
          "data": {
            "text/plain": [
              "데이터사이언스    0.274143\n",
              "프로그래밍      0.269667\n",
              "부동산/금융     0.242283\n",
              "투자/재테크     0.204082\n",
              "디자인        0.202755\n",
              "업무 생산성     0.195164\n",
              "영상/3D      0.192521\n",
              "크리에이티브     0.191011\n",
              "마케팅        0.176076\n",
              "Name: category_title, dtype: float64"
            ]
          },
          "metadata": {},
          "execution_count": 93
        }
      ]
    },
    {
      "cell_type": "code",
      "source": [
        "# 카테고리 별 총 구매자 중 재구매자의 비율\n",
        "df_repeat_one_rate.plot.bar(figsize = (12,6))"
      ],
      "metadata": {
        "colab": {
          "base_uri": "https://localhost:8080/",
          "height": 444
        },
        "id": "V4UlPs6WWgZG",
        "outputId": "8e64b516-217c-40c1-9590-aa41e9a8a4f8"
      },
      "id": "V4UlPs6WWgZG",
      "execution_count": 94,
      "outputs": [
        {
          "output_type": "execute_result",
          "data": {
            "text/plain": [
              "<matplotlib.axes._subplots.AxesSubplot at 0x7fdaf893aa50>"
            ]
          },
          "metadata": {},
          "execution_count": 94
        },
        {
          "output_type": "display_data",
          "data": {
            "text/plain": [
              "<Figure size 864x432 with 1 Axes>"
            ],
            "image/png": "[encoded data removed]"
          },
          "metadata": {
            "needs_background": "light"
          }
        }
      ]
    },
    {
      "cell_type": "markdown",
      "source": [
        "1, 2위는 최근에 유망하다고 판단되는 카테고리, \n",
        "\n",
        "3, 4위는 재테크 관련 카테고리로 나타났다."
      ],
      "metadata": {
        "id": "-V0wfLS2YSny"
      },
      "id": "-V0wfLS2YSny"
    },
    {
      "cell_type": "markdown",
      "source": [
        "\n",
        "재구매자 비율이 높은 이유 (데이터사이언스, 프로그래밍, 부동산/금융, 투자재테크)\n",
        "\n",
        "    1. 첫번째 들은 강의가 적성에 맞지 않아서 다른 강의를 선택 (-> 유망한 직종인 데이터 사이언스, 프로그래밍 관련 강의가 높음)\n",
        "\n",
        "    2. 강의 한 번으로 충분하지 않아서 같은 카테고리에서 재구매 하게 됨 (데이터 사이언스, 프로그래밍)\n",
        "\n",
        "    3. 패스트 캠퍼스를 이용했던 수강생들이 취업에 성공한 후 재테크 관련 강의를 재구매 \n",
        "\n",
        "\n",
        "재구매자 비율이 낮은 이유 (업무 생산성, 영상/3D, 크리에이티브, 마케팅)\n",
        "\n",
        "    1. 강의 한 번의 으로 충분하다고 판단함. (한 번에 끝내는~ 패키지가 많음) \n",
        "\n"
      ],
      "metadata": {
        "id": "6Lk6-nuz22tv"
      },
      "id": "6Lk6-nuz22tv"
    },
    {
      "cell_type": "markdown",
      "source": [
        "###환불 데이터 분석"
      ],
      "metadata": {
        "id": "o3rmxSlOjKKV"
      },
      "id": "o3rmxSlOjKKV"
    },
    {
      "cell_type": "code",
      "source": [
        "# 결제 완료 value_counts\n",
        "df2 = df2.drop_duplicates(['customer_id'])\n",
        "df2['type'].value_counts()"
      ],
      "metadata": {
        "colab": {
          "base_uri": "https://localhost:8080/"
        },
        "id": "KvMHNqmdy1zG",
        "outputId": "b5743b9c-aaa4-4e8e-e30c-4cad41ae343b"
      },
      "id": "KvMHNqmdy1zG",
      "execution_count": 95,
      "outputs": [
        {
          "output_type": "execute_result",
          "data": {
            "text/plain": [
              "PAYMENT    33109\n",
              "Name: type, dtype: int64"
            ]
          },
          "metadata": {},
          "execution_count": 95
        }
      ]
    },
    {
      "cell_type": "code",
      "source": [
        "# 환불한 사람 value_counts\n",
        "Refdf = Refdf.drop_duplicates(['customer_id'])\n",
        "Refdf['type'].value_counts()"
      ],
      "metadata": {
        "colab": {
          "base_uri": "https://localhost:8080/"
        },
        "id": "2WSplARgKGsh",
        "outputId": "c05425e2-754e-4530-e2cf-1b1af8f32d13"
      },
      "id": "2WSplARgKGsh",
      "execution_count": 96,
      "outputs": [
        {
          "output_type": "execute_result",
          "data": {
            "text/plain": [
              "REFUND    3247\n",
              "Name: type, dtype: int64"
            ]
          },
          "metadata": {},
          "execution_count": 96
        }
      ]
    },
    {
      "cell_type": "code",
      "source": [
        "# 전체 환불율\n",
        "print(f'{\"%0.2f\"%(3247/(3247+33109)*100)}%')"
      ],
      "metadata": {
        "colab": {
          "base_uri": "https://localhost:8080/"
        },
        "id": "0HpfHK8B27xi",
        "outputId": "6dc33d2f-8aa0-4042-cc41-2e5a05d2347d"
      },
      "id": "0HpfHK8B27xi",
      "execution_count": 97,
      "outputs": [
        {
          "output_type": "stream",
          "name": "stdout",
          "text": [
            "8.93%\n"
          ]
        }
      ]
    },
    {
      "cell_type": "markdown",
      "source": [
        "환불한 사람이 전체의 약 9%"
      ],
      "metadata": {
        "id": "Rguz7rc03iKw"
      },
      "id": "Rguz7rc03iKw"
    },
    {
      "cell_type": "markdown",
      "source": [
        "####쿠폰 할인율 관련 "
      ],
      "metadata": {
        "id": "WoZ5Ac_pL-ZV"
      },
      "id": "WoZ5Ac_pL-ZV"
    },
    {
      "cell_type": "code",
      "source": [
        "# 쿠폰 할인율 컬럼 추가\n",
        "df2 = df2.fillna(0)\n",
        "Refdf2 = Refdf.fillna(0)\n",
        "\n",
        "df2['coupon_discount_rate'] = df2['coupon_discount_amount']/(df2['transaction_amount']+df2['coupon_discount_amount'])*100 \n",
        "Refdf2['coupon_discount_rate'] = Refdf2['coupon_discount_amount']/(Refdf2['transaction_amount']+Refdf2['coupon_discount_amount'])*100"
      ],
      "metadata": {
        "id": "urz4Tbp0Nb7N"
      },
      "execution_count": 98,
      "outputs": [],
      "id": "urz4Tbp0Nb7N"
    },
    {
      "cell_type": "code",
      "source": [
        "# 중복 제거\n",
        "df2 = df2.drop_duplicates(['customer_id'])\n",
        "df2['type'].value_counts()"
      ],
      "metadata": {
        "colab": {
          "base_uri": "https://localhost:8080/"
        },
        "id": "H2un6yk9MpJZ",
        "outputId": "48476516-a054-45dd-bfca-a1c847fdc61e"
      },
      "id": "H2un6yk9MpJZ",
      "execution_count": 99,
      "outputs": [
        {
          "output_type": "execute_result",
          "data": {
            "text/plain": [
              "PAYMENT    33109\n",
              "Name: type, dtype: int64"
            ]
          },
          "metadata": {},
          "execution_count": 99
        }
      ]
    },
    {
      "cell_type": "code",
      "source": [
        "# 중복 제거\n",
        "Refdf2 = Refdf2.drop_duplicates(['customer_id'])\n",
        "Refdf2['type'].value_counts()"
      ],
      "metadata": {
        "colab": {
          "base_uri": "https://localhost:8080/"
        },
        "id": "_Ez6C1svMr00",
        "outputId": "9da94524-35a9-4089-ae51-8368049f675d"
      },
      "id": "_Ez6C1svMr00",
      "execution_count": 100,
      "outputs": [
        {
          "output_type": "execute_result",
          "data": {
            "text/plain": [
              "REFUND    3247\n",
              "Name: type, dtype: int64"
            ]
          },
          "metadata": {},
          "execution_count": 100
        }
      ]
    },
    {
      "cell_type": "code",
      "source": [
        "# 쿠폰 할인율 별 구분\n",
        "def discount_rate(x) :   \n",
        "    if x == 0:\n",
        "        return \"미사용\"\n",
        "    elif x < 10: \n",
        "        return \"~10%\"\n",
        "    elif x < 20: \n",
        "        return \"~20%\"\n",
        "    elif x < 30: \n",
        "        return \"~30%\"\n",
        "    elif x < 40: \n",
        "        return \"~40%\"\n",
        "    elif x < 50:\n",
        "        return \"~50%\"\n",
        "    elif x < 60: \n",
        "        return \"~60%\"\n",
        "    elif x < 70: \n",
        "        return \"~70%\"       \n",
        "\n",
        "df2['coupon_discount_rate2'] = df2['coupon_discount_rate'].map(discount_rate)\n",
        "Refdf2['coupon_discount_rate2'] = Refdf2['coupon_discount_rate'].map(discount_rate)"
      ],
      "metadata": {
        "id": "9qbVzir0QoLc"
      },
      "execution_count": 101,
      "outputs": [],
      "id": "9qbVzir0QoLc"
    },
    {
      "cell_type": "code",
      "source": [
        "# 할인율 별 쿠폰 사용 횟수\n",
        "fig = plt.figure(figsize=(8,4))                    \n",
        "sns.countplot( data = df2, x = 'coupon_discount_rate2', order = df2['coupon_discount_rate2'].value_counts().index)"
      ],
      "metadata": {
        "colab": {
          "base_uri": "https://localhost:8080/",
          "height": 297
        },
        "id": "6xv5qMS5QqHP",
        "outputId": "900baa61-9915-4c50-ad7e-d89c41aa2783"
      },
      "execution_count": 102,
      "outputs": [
        {
          "output_type": "execute_result",
          "data": {
            "text/plain": [
              "<matplotlib.axes._subplots.AxesSubplot at 0x7fdaf3c4b850>"
            ]
          },
          "metadata": {},
          "execution_count": 102
        },
        {
          "output_type": "display_data",
          "data": {
            "text/plain": [
              "<Figure size 576x288 with 1 Axes>"
            ],
            "image/png": "[encoded data removed]"
          },
          "metadata": {
            "needs_background": "light"
          }
        }
      ],
      "id": "6xv5qMS5QqHP"
    },
    {
      "cell_type": "markdown",
      "source": [
        "~20% 할인율이 가장 많이 적용된다."
      ],
      "metadata": {
        "id": "P2M8PFIP33oj"
      },
      "id": "P2M8PFIP33oj"
    },
    {
      "cell_type": "code",
      "source": [
        "# 쿠폰을 미사용한 사람의 데이터\n",
        "df2n = df2[df2.coupon_discount_rate2.isin(['미사용'])]"
      ],
      "metadata": {
        "id": "aRjFHX7Zh0ek"
      },
      "id": "aRjFHX7Zh0ek",
      "execution_count": 103,
      "outputs": []
    },
    {
      "cell_type": "code",
      "source": [
        "Refdfn = Refdf2[Refdf2.coupon_discount_rate2.isin(['미사용'])]\n",
        "Refdfn['coupon_discount_rate2'].value_counts()"
      ],
      "metadata": {
        "colab": {
          "base_uri": "https://localhost:8080/"
        },
        "id": "3ggP_7b6Q-qf",
        "outputId": "90252888-73df-47f6-9f90-bd6560f7c3f5"
      },
      "id": "3ggP_7b6Q-qf",
      "execution_count": 104,
      "outputs": [
        {
          "output_type": "execute_result",
          "data": {
            "text/plain": [
              "미사용    3239\n",
              "Name: coupon_discount_rate2, dtype: int64"
            ]
          },
          "metadata": {},
          "execution_count": 104
        }
      ]
    },
    {
      "cell_type": "code",
      "source": [
        "# 전체 총 매출액\n",
        "type_amount_total = df2.groupby('type').agg(how)\n",
        "type_amount_total"
      ],
      "metadata": {
        "colab": {
          "base_uri": "https://localhost:8080/",
          "height": 112
        },
        "id": "-i0k9Q_4pmdB",
        "outputId": "c1216457-aead-4ce8-bb75-1f45f3eea0d2"
      },
      "id": "-i0k9Q_4pmdB",
      "execution_count": 105,
      "outputs": [
        {
          "output_type": "execute_result",
          "data": {
            "text/plain": [
              "         transaction_amount\n",
              "type                       \n",
              "PAYMENT          4391197800"
            ],
            "text/html": [
              "\n",
              "  <div id=\"df-3a08f8bc-b8e3-4ee0-a9c4-be41203d6dcc\">\n",
              "    <div class=\"colab-df-container\">\n",
              "      <div>\n",
              "<style scoped>\n",
              "    .dataframe tbody tr th:only-of-type {\n",
              "        vertical-align: middle;\n",
              "    }\n",
              "\n",
              "    .dataframe tbody tr th {\n",
              "        vertical-align: top;\n",
              "    }\n",
              "\n",
              "    .dataframe thead th {\n",
              "        text-align: right;\n",
              "    }\n",
              "</style>\n",
              "<table border=\"1\" class=\"dataframe\">\n",
              "  <thead>\n",
              "    <tr style=\"text-align: right;\">\n",
              "      <th></th>\n",
              "      <th>transaction_amount</th>\n",
              "    </tr>\n",
              "    <tr>\n",
              "      <th>type</th>\n",
              "      <th></th>\n",
              "    </tr>\n",
              "  </thead>\n",
              "  <tbody>\n",
              "    <tr>\n",
              "      <th>PAYMENT</th>\n",
              "      <td>4391197800</td>\n",
              "    </tr>\n",
              "  </tbody>\n",
              "</table>\n",
              "</div>\n",
              "      <button class=\"colab-df-convert\" onclick=\"convertToInteractive('df-3a08f8bc-b8e3-4ee0-a9c4-be41203d6dcc')\"\n",
              "              title=\"Convert this dataframe to an interactive table.\"\n",
              "              style=\"display:none;\">\n",
              "        \n",
              "  <svg xmlns=\"http://www.w3.org/2000/svg\" height=\"24px\"viewBox=\"0 0 24 24\"\n",
              "       width=\"24px\">\n",
              "    <path d=\"M0 0h24v24H0V0z\" fill=\"none\"/>\n",
              "    <path d=\"M18.56 5.44l.94 2.06.94-2.06 2.06-.94-2.06-.94-.94-2.06-.94 2.06-2.06.94zm-11 1L8.5 8.5l.94-2.06 2.06-.94-2.06-.94L8.5 2.5l-.94 2.06-2.06.94zm10 10l.94 2.06.94-2.06 2.06-.94-2.06-.94-.94-2.06-.94 2.06-2.06.94z\"/><path d=\"M17.41 7.96l-1.37-1.37c-.4-.4-.92-.59-1.43-.59-.52 0-1.04.2-1.43.59L10.3 9.45l-7.72 7.72c-.78.78-.78 2.05 0 2.83L4 21.41c.39.39.9.59 1.41.59.51 0 1.02-.2 1.41-.59l7.78-7.78 2.81-2.81c.8-.78.8-2.07 0-2.86zM5.41 20L4 18.59l7.72-7.72 1.47 1.35L5.41 20z\"/>\n",
              "  </svg>\n",
              "      </button>\n",
              "      \n",
              "  <style>\n",
              "    .colab-df-container {\n",
              "      display:flex;\n",
              "      flex-wrap:wrap;\n",
              "      gap: 12px;\n",
              "    }\n",
              "\n",
              "    .colab-df-convert {\n",
              "      background-color: #E8F0FE;\n",
              "      border: none;\n",
              "      border-radius: 50%;\n",
              "      cursor: pointer;\n",
              "      display: none;\n",
              "      fill: #1967D2;\n",
              "      height: 32px;\n",
              "      padding: 0 0 0 0;\n",
              "      width: 32px;\n",
              "    }\n",
              "\n",
              "    .colab-df-convert:hover {\n",
              "      background-color: #E2EBFA;\n",
              "      box-shadow: 0px 1px 2px rgba(60, 64, 67, 0.3), 0px 1px 3px 1px rgba(60, 64, 67, 0.15);\n",
              "      fill: #174EA6;\n",
              "    }\n",
              "\n",
              "    [theme=dark] .colab-df-convert {\n",
              "      background-color: #3B4455;\n",
              "      fill: #D2E3FC;\n",
              "    }\n",
              "\n",
              "    [theme=dark] .colab-df-convert:hover {\n",
              "      background-color: #434B5C;\n",
              "      box-shadow: 0px 1px 3px 1px rgba(0, 0, 0, 0.15);\n",
              "      filter: drop-shadow(0px 1px 2px rgba(0, 0, 0, 0.3));\n",
              "      fill: #FFFFFF;\n",
              "    }\n",
              "  </style>\n",
              "\n",
              "      <script>\n",
              "        const buttonEl =\n",
              "          document.querySelector('#df-3a08f8bc-b8e3-4ee0-a9c4-be41203d6dcc button.colab-df-convert');\n",
              "        buttonEl.style.display =\n",
              "          google.colab.kernel.accessAllowed ? 'block' : 'none';\n",
              "\n",
              "        async function convertToInteractive(key) {\n",
              "          const element = document.querySelector('#df-3a08f8bc-b8e3-4ee0-a9c4-be41203d6dcc');\n",
              "          const dataTable =\n",
              "            await google.colab.kernel.invokeFunction('convertToInteractive',\n",
              "                                                     [key], {});\n",
              "          if (!dataTable) return;\n",
              "\n",
              "          const docLinkHtml = 'Like what you see? Visit the ' +\n",
              "            '<a target=\"_blank\" href=https://colab.research.google.com/notebooks/data_table.ipynb>data table notebook</a>'\n",
              "            + ' to learn more about interactive tables.';\n",
              "          element.innerHTML = '';\n",
              "          dataTable['output_type'] = 'display_data';\n",
              "          await google.colab.output.renderOutput(dataTable, element);\n",
              "          const docLink = document.createElement('div');\n",
              "          docLink.innerHTML = docLinkHtml;\n",
              "          element.appendChild(docLink);\n",
              "        }\n",
              "      </script>\n",
              "    </div>\n",
              "  </div>\n",
              "  "
            ]
          },
          "metadata": {},
          "execution_count": 105
        }
      ]
    },
    {
      "cell_type": "code",
      "source": [
        "# 쿠폰 미사용자 총 매출액\n",
        "type_amount_n = df2n.groupby('type').agg(how)\n",
        "type_amount_n"
      ],
      "metadata": {
        "colab": {
          "base_uri": "https://localhost:8080/",
          "height": 112
        },
        "id": "5d0h4o8fSNiU",
        "outputId": "60b145d6-d993-4871-8f9b-8360a6e7976c"
      },
      "id": "5d0h4o8fSNiU",
      "execution_count": 106,
      "outputs": [
        {
          "output_type": "execute_result",
          "data": {
            "text/plain": [
              "         transaction_amount\n",
              "type                       \n",
              "PAYMENT          2777744605"
            ],
            "text/html": [
              "\n",
              "  <div id=\"df-0b766be6-3a0c-4925-93ed-b3725cadb044\">\n",
              "    <div class=\"colab-df-container\">\n",
              "      <div>\n",
              "<style scoped>\n",
              "    .dataframe tbody tr th:only-of-type {\n",
              "        vertical-align: middle;\n",
              "    }\n",
              "\n",
              "    .dataframe tbody tr th {\n",
              "        vertical-align: top;\n",
              "    }\n",
              "\n",
              "    .dataframe thead th {\n",
              "        text-align: right;\n",
              "    }\n",
              "</style>\n",
              "<table border=\"1\" class=\"dataframe\">\n",
              "  <thead>\n",
              "    <tr style=\"text-align: right;\">\n",
              "      <th></th>\n",
              "      <th>transaction_amount</th>\n",
              "    </tr>\n",
              "    <tr>\n",
              "      <th>type</th>\n",
              "      <th></th>\n",
              "    </tr>\n",
              "  </thead>\n",
              "  <tbody>\n",
              "    <tr>\n",
              "      <th>PAYMENT</th>\n",
              "      <td>2777744605</td>\n",
              "    </tr>\n",
              "  </tbody>\n",
              "</table>\n",
              "</div>\n",
              "      <button class=\"colab-df-convert\" onclick=\"convertToInteractive('df-0b766be6-3a0c-4925-93ed-b3725cadb044')\"\n",
              "              title=\"Convert this dataframe to an interactive table.\"\n",
              "              style=\"display:none;\">\n",
              "        \n",
              "  <svg xmlns=\"http://www.w3.org/2000/svg\" height=\"24px\"viewBox=\"0 0 24 24\"\n",
              "       width=\"24px\">\n",
              "    <path d=\"M0 0h24v24H0V0z\" fill=\"none\"/>\n",
              "    <path d=\"M18.56 5.44l.94 2.06.94-2.06 2.06-.94-2.06-.94-.94-2.06-.94 2.06-2.06.94zm-11 1L8.5 8.5l.94-2.06 2.06-.94-2.06-.94L8.5 2.5l-.94 2.06-2.06.94zm10 10l.94 2.06.94-2.06 2.06-.94-2.06-.94-.94-2.06-.94 2.06-2.06.94z\"/><path d=\"M17.41 7.96l-1.37-1.37c-.4-.4-.92-.59-1.43-.59-.52 0-1.04.2-1.43.59L10.3 9.45l-7.72 7.72c-.78.78-.78 2.05 0 2.83L4 21.41c.39.39.9.59 1.41.59.51 0 1.02-.2 1.41-.59l7.78-7.78 2.81-2.81c.8-.78.8-2.07 0-2.86zM5.41 20L4 18.59l7.72-7.72 1.47 1.35L5.41 20z\"/>\n",
              "  </svg>\n",
              "      </button>\n",
              "      \n",
              "  <style>\n",
              "    .colab-df-container {\n",
              "      display:flex;\n",
              "      flex-wrap:wrap;\n",
              "      gap: 12px;\n",
              "    }\n",
              "\n",
              "    .colab-df-convert {\n",
              "      background-color: #E8F0FE;\n",
              "      border: none;\n",
              "      border-radius: 50%;\n",
              "      cursor: pointer;\n",
              "      display: none;\n",
              "      fill: #1967D2;\n",
              "      height: 32px;\n",
              "      padding: 0 0 0 0;\n",
              "      width: 32px;\n",
              "    }\n",
              "\n",
              "    .colab-df-convert:hover {\n",
              "      background-color: #E2EBFA;\n",
              "      box-shadow: 0px 1px 2px rgba(60, 64, 67, 0.3), 0px 1px 3px 1px rgba(60, 64, 67, 0.15);\n",
              "      fill: #174EA6;\n",
              "    }\n",
              "\n",
              "    [theme=dark] .colab-df-convert {\n",
              "      background-color: #3B4455;\n",
              "      fill: #D2E3FC;\n",
              "    }\n",
              "\n",
              "    [theme=dark] .colab-df-convert:hover {\n",
              "      background-color: #434B5C;\n",
              "      box-shadow: 0px 1px 3px 1px rgba(0, 0, 0, 0.15);\n",
              "      filter: drop-shadow(0px 1px 2px rgba(0, 0, 0, 0.3));\n",
              "      fill: #FFFFFF;\n",
              "    }\n",
              "  </style>\n",
              "\n",
              "      <script>\n",
              "        const buttonEl =\n",
              "          document.querySelector('#df-0b766be6-3a0c-4925-93ed-b3725cadb044 button.colab-df-convert');\n",
              "        buttonEl.style.display =\n",
              "          google.colab.kernel.accessAllowed ? 'block' : 'none';\n",
              "\n",
              "        async function convertToInteractive(key) {\n",
              "          const element = document.querySelector('#df-0b766be6-3a0c-4925-93ed-b3725cadb044');\n",
              "          const dataTable =\n",
              "            await google.colab.kernel.invokeFunction('convertToInteractive',\n",
              "                                                     [key], {});\n",
              "          if (!dataTable) return;\n",
              "\n",
              "          const docLinkHtml = 'Like what you see? Visit the ' +\n",
              "            '<a target=\"_blank\" href=https://colab.research.google.com/notebooks/data_table.ipynb>data table notebook</a>'\n",
              "            + ' to learn more about interactive tables.';\n",
              "          element.innerHTML = '';\n",
              "          dataTable['output_type'] = 'display_data';\n",
              "          await google.colab.output.renderOutput(dataTable, element);\n",
              "          const docLink = document.createElement('div');\n",
              "          docLink.innerHTML = docLinkHtml;\n",
              "          element.appendChild(docLink);\n",
              "        }\n",
              "      </script>\n",
              "    </div>\n",
              "  </div>\n",
              "  "
            ]
          },
          "metadata": {},
          "execution_count": 106
        }
      ]
    },
    {
      "cell_type": "code",
      "source": [
        "# 전체 환불액\n",
        "type_amount_total_Ref = Refdf2.groupby('type').agg(how)\n",
        "type_amount_total_Ref"
      ],
      "metadata": {
        "colab": {
          "base_uri": "https://localhost:8080/",
          "height": 112
        },
        "id": "NFdwudGPzH7o",
        "outputId": "2338c4bf-c320-4ce3-8310-5a5e99b61ce5"
      },
      "id": "NFdwudGPzH7o",
      "execution_count": 107,
      "outputs": [
        {
          "output_type": "execute_result",
          "data": {
            "text/plain": [
              "        transaction_amount\n",
              "type                      \n",
              "REFUND          -559991312"
            ],
            "text/html": [
              "\n",
              "  <div id=\"df-b2097519-8bce-4d74-baf7-344d7acf11cb\">\n",
              "    <div class=\"colab-df-container\">\n",
              "      <div>\n",
              "<style scoped>\n",
              "    .dataframe tbody tr th:only-of-type {\n",
              "        vertical-align: middle;\n",
              "    }\n",
              "\n",
              "    .dataframe tbody tr th {\n",
              "        vertical-align: top;\n",
              "    }\n",
              "\n",
              "    .dataframe thead th {\n",
              "        text-align: right;\n",
              "    }\n",
              "</style>\n",
              "<table border=\"1\" class=\"dataframe\">\n",
              "  <thead>\n",
              "    <tr style=\"text-align: right;\">\n",
              "      <th></th>\n",
              "      <th>transaction_amount</th>\n",
              "    </tr>\n",
              "    <tr>\n",
              "      <th>type</th>\n",
              "      <th></th>\n",
              "    </tr>\n",
              "  </thead>\n",
              "  <tbody>\n",
              "    <tr>\n",
              "      <th>REFUND</th>\n",
              "      <td>-559991312</td>\n",
              "    </tr>\n",
              "  </tbody>\n",
              "</table>\n",
              "</div>\n",
              "      <button class=\"colab-df-convert\" onclick=\"convertToInteractive('df-b2097519-8bce-4d74-baf7-344d7acf11cb')\"\n",
              "              title=\"Convert this dataframe to an interactive table.\"\n",
              "              style=\"display:none;\">\n",
              "        \n",
              "  <svg xmlns=\"http://www.w3.org/2000/svg\" height=\"24px\"viewBox=\"0 0 24 24\"\n",
              "       width=\"24px\">\n",
              "    <path d=\"M0 0h24v24H0V0z\" fill=\"none\"/>\n",
              "    <path d=\"M18.56 5.44l.94 2.06.94-2.06 2.06-.94-2.06-.94-.94-2.06-.94 2.06-2.06.94zm-11 1L8.5 8.5l.94-2.06 2.06-.94-2.06-.94L8.5 2.5l-.94 2.06-2.06.94zm10 10l.94 2.06.94-2.06 2.06-.94-2.06-.94-.94-2.06-.94 2.06-2.06.94z\"/><path d=\"M17.41 7.96l-1.37-1.37c-.4-.4-.92-.59-1.43-.59-.52 0-1.04.2-1.43.59L10.3 9.45l-7.72 7.72c-.78.78-.78 2.05 0 2.83L4 21.41c.39.39.9.59 1.41.59.51 0 1.02-.2 1.41-.59l7.78-7.78 2.81-2.81c.8-.78.8-2.07 0-2.86zM5.41 20L4 18.59l7.72-7.72 1.47 1.35L5.41 20z\"/>\n",
              "  </svg>\n",
              "      </button>\n",
              "      \n",
              "  <style>\n",
              "    .colab-df-container {\n",
              "      display:flex;\n",
              "      flex-wrap:wrap;\n",
              "      gap: 12px;\n",
              "    }\n",
              "\n",
              "    .colab-df-convert {\n",
              "      background-color: #E8F0FE;\n",
              "      border: none;\n",
              "      border-radius: 50%;\n",
              "      cursor: pointer;\n",
              "      display: none;\n",
              "      fill: #1967D2;\n",
              "      height: 32px;\n",
              "      padding: 0 0 0 0;\n",
              "      width: 32px;\n",
              "    }\n",
              "\n",
              "    .colab-df-convert:hover {\n",
              "      background-color: #E2EBFA;\n",
              "      box-shadow: 0px 1px 2px rgba(60, 64, 67, 0.3), 0px 1px 3px 1px rgba(60, 64, 67, 0.15);\n",
              "      fill: #174EA6;\n",
              "    }\n",
              "\n",
              "    [theme=dark] .colab-df-convert {\n",
              "      background-color: #3B4455;\n",
              "      fill: #D2E3FC;\n",
              "    }\n",
              "\n",
              "    [theme=dark] .colab-df-convert:hover {\n",
              "      background-color: #434B5C;\n",
              "      box-shadow: 0px 1px 3px 1px rgba(0, 0, 0, 0.15);\n",
              "      filter: drop-shadow(0px 1px 2px rgba(0, 0, 0, 0.3));\n",
              "      fill: #FFFFFF;\n",
              "    }\n",
              "  </style>\n",
              "\n",
              "      <script>\n",
              "        const buttonEl =\n",
              "          document.querySelector('#df-b2097519-8bce-4d74-baf7-344d7acf11cb button.colab-df-convert');\n",
              "        buttonEl.style.display =\n",
              "          google.colab.kernel.accessAllowed ? 'block' : 'none';\n",
              "\n",
              "        async function convertToInteractive(key) {\n",
              "          const element = document.querySelector('#df-b2097519-8bce-4d74-baf7-344d7acf11cb');\n",
              "          const dataTable =\n",
              "            await google.colab.kernel.invokeFunction('convertToInteractive',\n",
              "                                                     [key], {});\n",
              "          if (!dataTable) return;\n",
              "\n",
              "          const docLinkHtml = 'Like what you see? Visit the ' +\n",
              "            '<a target=\"_blank\" href=https://colab.research.google.com/notebooks/data_table.ipynb>data table notebook</a>'\n",
              "            + ' to learn more about interactive tables.';\n",
              "          element.innerHTML = '';\n",
              "          dataTable['output_type'] = 'display_data';\n",
              "          await google.colab.output.renderOutput(dataTable, element);\n",
              "          const docLink = document.createElement('div');\n",
              "          docLink.innerHTML = docLinkHtml;\n",
              "          element.appendChild(docLink);\n",
              "        }\n",
              "      </script>\n",
              "    </div>\n",
              "  </div>\n",
              "  "
            ]
          },
          "metadata": {},
          "execution_count": 107
        }
      ]
    },
    {
      "cell_type": "code",
      "source": [
        "tp = type_amount_total.loc['PAYMENT','transaction_amount'] # 현재 전체 매출\n",
        "np = type_amount_n.loc['PAYMENT','transaction_amount'] # 쿠폰 미사용자 전체 매출\n",
        "r = -type_amount_total_Ref.loc['REFUND','transaction_amount'] # 총 환불액\n",
        "print(f'환불 0%일 때 매출 : {tp + r}')\n",
        "print(f'현재 전체 매출 : {tp}\\n')\n",
        "print(f'모든 쿠폰 미사용자가 5% 쿠폰 사용 시 매출 : {\"%.2f\"%((tp-np)+(np + r)*0.95)}')\n",
        "print(f'모든 쿠폰 미사용자가 5% 쿠폰 사용 시 매출 상승률 : {\"%.2f\"%(((tp-np)+(np + r)*0.95)/tp*100-100)}%\\n')\n",
        "print(f'모든 쿠폰 미사용자가 10% 쿠폰 사용 시 매출 : {(tp-np)+(np + r)*0.9}')\n",
        "print(f'모든 쿠폰 미사용자가 10% 쿠폰 사용 시 매출 상승률 : {\"%.2f\"%(((tp-np)+(np + r)*0.9)/tp*100-100)}%')"
      ],
      "metadata": {
        "colab": {
          "base_uri": "https://localhost:8080/"
        },
        "id": "sSDsPjhmwMJJ",
        "outputId": "31665f05-4b68-4475-9f4d-72c3b4f80344"
      },
      "id": "sSDsPjhmwMJJ",
      "execution_count": 108,
      "outputs": [
        {
          "output_type": "stream",
          "name": "stdout",
          "text": [
            "환불 0%일 때 매출 : 4951189112\n",
            "현재 전체 매출 : 4391197800\n",
            "\n",
            "모든 쿠폰 미사용자가 5% 쿠폰 사용 시 매출 : 4784302316.15\n",
            "모든 쿠폰 미사용자가 5% 쿠폰 사용 시 매출 상승률 : 8.95%\n",
            "\n",
            "모든 쿠폰 미사용자가 10% 쿠폰 사용 시 매출 : 4617415520.3\n",
            "모든 쿠폰 미사용자가 10% 쿠폰 사용 시 매출 상승률 : 5.15%\n"
          ]
        }
      ]
    },
    {
      "cell_type": "markdown",
      "source": [
        "쿠폰 사용 시에는 환불에 제약이 생기는 규정을 만든다면\n",
        "\n",
        "모든 쿠폰 미사용자에게 5\\~10% 쿠폰을 사용하게 할 시 약 5 ~ 9%의 매출 상승을 기대할 수 있다.\n",
        "\n",
        "따라서 결제 중 쿠폰 미사용자에게 쿠폰을 사용하라는 메시지와 할인 금액을 띄운다면\n",
        "\n",
        "쿠폰 사용율을 늘리고 환불율을 줄여 매출 상승의 효과를 기대할 수 있을 것이다."
      ],
      "metadata": {
        "id": "qRxidLYo2zbZ"
      },
      "id": "qRxidLYo2zbZ"
    },
    {
      "cell_type": "markdown",
      "source": [
        "####카테고리 관련"
      ],
      "metadata": {
        "id": "L8RQ91nHjZBd"
      },
      "id": "L8RQ91nHjZBd"
    },
    {
      "cell_type": "code",
      "source": [
        "# 카테고리 별 환불 횟수\n",
        "Refdf['category_title'].value_counts()"
      ],
      "metadata": {
        "colab": {
          "base_uri": "https://localhost:8080/"
        },
        "id": "AwKa8sLljnms",
        "outputId": "732a58af-dc9d-4809-832f-30e6df6e7eff"
      },
      "id": "AwKa8sLljnms",
      "execution_count": 109,
      "outputs": [
        {
          "output_type": "execute_result",
          "data": {
            "text/plain": [
              "프로그래밍      1141\n",
              "디자인         422\n",
              "데이터사이언스     395\n",
              "영상/3D       335\n",
              "마케팅         317\n",
              "업무 생산성      302\n",
              "부동산/금융      130\n",
              "크리에이티브      104\n",
              "투자/재테크       96\n",
              "파이낸스          2\n",
              "비즈니스          2\n",
              "Name: category_title, dtype: int64"
            ]
          },
          "metadata": {},
          "execution_count": 109
        }
      ]
    },
    {
      "cell_type": "code",
      "source": [
        "# 카테고리 별 환불 횟수 (상대적으로 판매 횟수가 적은 강의 제거(파이낸스, 비즈니스))\n",
        "fig = plt.figure(figsize=(10,6))\n",
        "sns.countplot( data = Refdf, x = 'category_title' , \n",
        "              order = Refdf['category_title'].value_counts().head(9).index )"
      ],
      "metadata": {
        "id": "H6tkNA6LN5WQ",
        "colab": {
          "base_uri": "https://localhost:8080/",
          "height": 406
        },
        "outputId": "0dc9f052-8ebc-46b9-99ea-8619709b9bd7"
      },
      "id": "H6tkNA6LN5WQ",
      "execution_count": 110,
      "outputs": [
        {
          "output_type": "execute_result",
          "data": {
            "text/plain": [
              "<matplotlib.axes._subplots.AxesSubplot at 0x7fdafda74e10>"
            ]
          },
          "metadata": {},
          "execution_count": 110
        },
        {
          "output_type": "display_data",
          "data": {
            "text/plain": [
              "<Figure size 720x432 with 1 Axes>"
            ],
            "image/png": "[encoded data removed]"
          },
          "metadata": {
            "needs_background": "light"
          }
        }
      ]
    },
    {
      "cell_type": "code",
      "source": [
        "# 카테고리 별 환불 비율\n",
        "df_refund_rate = Refdf['category_title'].value_counts().head(9)/df3['category_title'].value_counts()*100 \n",
        "df_refund_rate = df_refund_rate.sort_values(ascending=False)\n",
        "df_refund_rate = df_refund_rate.dropna()\n",
        "df_refund_rate"
      ],
      "metadata": {
        "id": "Cd8_mebzN5TJ",
        "colab": {
          "base_uri": "https://localhost:8080/"
        },
        "outputId": "958dd1d1-a8d2-46ea-df01-1f6aa3e63dae"
      },
      "execution_count": 111,
      "outputs": [
        {
          "output_type": "execute_result",
          "data": {
            "text/plain": [
              "크리에이티브     14.606742\n",
              "프로그래밍       9.187535\n",
              "디자인         9.083082\n",
              "투자/재테크      8.905380\n",
              "데이터사이언스     8.203531\n",
              "마케팅         8.172209\n",
              "영상/3D       8.082027\n",
              "부동산/금융      6.080449\n",
              "업무 생산성      5.795433\n",
              "Name: category_title, dtype: float64"
            ]
          },
          "metadata": {},
          "execution_count": 111
        }
      ],
      "id": "Cd8_mebzN5TJ"
    },
    {
      "cell_type": "code",
      "source": [
        "# 카테고리 별 환불 비율 그래프\n",
        "df_refund_rate.plot.bar(figsize = (15,6)) "
      ],
      "metadata": {
        "id": "KYepdoBrWt4U",
        "colab": {
          "base_uri": "https://localhost:8080/",
          "height": 444
        },
        "outputId": "521917bf-91ee-4363-b831-ef57afc08b0d"
      },
      "execution_count": 112,
      "outputs": [
        {
          "output_type": "execute_result",
          "data": {
            "text/plain": [
              "<matplotlib.axes._subplots.AxesSubplot at 0x7fdb024a3f90>"
            ]
          },
          "metadata": {},
          "execution_count": 112
        },
        {
          "output_type": "display_data",
          "data": {
            "text/plain": [
              "<Figure size 1080x432 with 1 Axes>"
            ],
            "image/png": "[encoded data removed]"
          },
          "metadata": {
            "needs_background": "light"
          }
        }
      ],
      "id": "KYepdoBrWt4U"
    },
    {
      "cell_type": "code",
      "source": [
        "# 서브카테고리 별 환불 비율\n",
        "df_refund_rate_sub = Refdf['subcategory_title'].value_counts()/df3['subcategory_title'].value_counts()*100 \n",
        "df_refund_rate_sub = df_refund_rate_sub.sort_values(ascending=False)\n",
        "df_refund_rate_sub = df_refund_rate_sub.dropna()\n",
        "df_refund_rate_sub"
      ],
      "metadata": {
        "colab": {
          "base_uri": "https://localhost:8080/"
        },
        "id": "gYRixZCOnwhV",
        "outputId": "f2a26c96-2016-4dcc-c11e-23d92a631358"
      },
      "id": "gYRixZCOnwhV",
      "execution_count": 113,
      "outputs": [
        {
          "output_type": "execute_result",
          "data": {
            "text/plain": [
              "게임 그래픽       13.636364\n",
              "데이터엔지니어링     12.500000\n",
              "모바일앱         11.367127\n",
              "일러스트         10.790835\n",
              "VFX          10.756972\n",
              "주식 투자         9.890110\n",
              "UX/UI         9.868421\n",
              "프론트엔드 개발      9.820585\n",
              "코딩 입문         9.782609\n",
              "SNS마케팅        9.456265\n",
              "백엔드 개발        9.209988\n",
              "머신러닝          9.144543\n",
              "모션그래픽         8.519004\n",
              "DevOps        8.184143\n",
              "부동산 개발        8.078603\n",
              "디자인툴          7.783641\n",
              "데이터마케팅        7.570621\n",
              "게임            7.530648\n",
              "영상 편집         7.426075\n",
              "데이터분석         7.337662\n",
              "업무자동화         7.288630\n",
              "개발자 커리어       7.168299\n",
              "시각디자인         7.072136\n",
              "디지털마케팅        6.906907\n",
              "PPT/보고서       6.761108\n",
              "딥러닝/인공지능      6.688103\n",
              "글쓰기/카피라이팅     5.844573\n",
              "부동산 투자        5.791506\n",
              "엑셀/VBA        5.736715\n",
              "금융/투자 실무      5.469679\n",
              "회계/재무/세무      5.449591\n",
              "커뮤니케이션        4.838710\n",
              "리더십           4.838710\n",
              "Name: subcategory_title, dtype: float64"
            ]
          },
          "metadata": {},
          "execution_count": 113
        }
      ]
    },
    {
      "cell_type": "code",
      "source": [
        "# 서브카테고리 별 환불 비율 그래프\n",
        "df_refund_rate_sub.plot.bar(figsize = (15,6)) "
      ],
      "metadata": {
        "colab": {
          "base_uri": "https://localhost:8080/",
          "height": 458
        },
        "id": "EEzVqSGVmsxL",
        "outputId": "a931e67e-cc44-44b6-f05a-f31abd4629e4"
      },
      "id": "EEzVqSGVmsxL",
      "execution_count": 114,
      "outputs": [
        {
          "output_type": "execute_result",
          "data": {
            "text/plain": [
              "<matplotlib.axes._subplots.AxesSubplot at 0x7fdb0200ae50>"
            ]
          },
          "metadata": {},
          "execution_count": 114
        },
        {
          "output_type": "display_data",
          "data": {
            "text/plain": [
              "<Figure size 1080x432 with 1 Axes>"
            ],
            "image/png": "[encoded data removed]"
          },
          "metadata": {
            "needs_background": "light"
          }
        }
      ]
    },
    {
      "cell_type": "markdown",
      "source": [
        "환불 비율이 높은 카테고리 및 서브카테고리 강의의 질을 개선하여 해결한다.\n",
        "\n"
      ],
      "metadata": {
        "id": "BLpZlzWGgaf8"
      },
      "id": "BLpZlzWGgaf8"
    },
    {
      "cell_type": "markdown",
      "source": [
        "##결론 도출"
      ],
      "metadata": {
        "id": "5eDprOJe7z51"
      },
      "id": "5eDprOJe7z51"
    },
    {
      "cell_type": "markdown",
      "source": [
        "카테고리 별 데이터를 이용한 매출 상승 방안\n",
        "\n",
        "    - 매출이 높은 카테고리의 강의에 광고를 집중한다. \n",
        "\n",
        "    - 더 다양한 종류의 프로그래밍, 영상 편집 관련 강의를 제작한다\n",
        "\n",
        "    - 해당 카테고리의 광고를 클릭하여 들어온 소비자에게는 그 강의에서 가장 인기가 높은 강의를 추천해준다.\n",
        "\n",
        "    - 비인기 강의는 할인율이 높은 쿠폰을 따로 적용 가능하게 한다."
      ],
      "metadata": {
        "id": "mbMF7R_ercTK"
      },
      "id": "mbMF7R_ercTK"
    },
    {
      "cell_type": "markdown",
      "source": [
        "![화면 캡처 2022-05-20 145137.png](data:image/png;base64,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)"
      ],
      "metadata": {
        "id": "HCGUWOauBTAI"
      },
      "id": "HCGUWOauBTAI"
    },
    {
      "cell_type": "markdown",
      "source": [
        "결제 시기 별 데이터를 이용한 매출 상승 방안\n",
        "\n",
        "    매출액이 높게 나타난 시기\n",
        "    - 7, 8월 (방학 시즌)\n",
        "    - 일요일 (주말)\n",
        "    - 30,31일 (월말)\n",
        "    - 밤 시간인 21~23시\n",
        "\n",
        "    위 시기에 광고를 집중한다면 효과적인 매출 상승을 기대할 수 있다."
      ],
      "metadata": {
        "id": "tx1b9Q_5-iix"
      },
      "id": "tx1b9Q_5-iix"
    },
    {
      "cell_type": "markdown",
      "source": [
        "![unknown.png](data:image/png;base64,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)"
      ],
      "metadata": {
        "id": "WnBJhn7mCh3m"
      },
      "id": "WnBJhn7mCh3m"
    },
    {
      "cell_type": "markdown",
      "source": [
        "재구매를 유도하기 위한 방안\n",
        "\n",
        "    \n",
        "\n",
        "    - 강의를 1회만 수강한 사람에게 재구매자 비율이 높은 카테고리의 광고를 노출시킨다.\n",
        "\n",
        "    - 강의를 1회 이상 구매한 사용자들에게 다른 강의에 높은 할인율을 적용할 수 있는 쿠폰을 제공한다.\n"
      ],
      "metadata": {
        "id": "Kjxuy9lZ-nFA"
      },
      "id": "Kjxuy9lZ-nFA"
    },
    {
      "cell_type": "markdown",
      "source": [
        "![화면 캡처 2022-05-20 145528.png](data:image/png;base64,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)"
      ],
      "metadata": {
        "id": "pmecfW9RCe7F"
      },
      "id": "pmecfW9RCe7F"
    },
    {
      "cell_type": "markdown",
      "source": [
        "환불하는 이용자를 줄이기 위한 방안\n",
        "\n",
        "    - 환불 비율이 높은 카테고리 및 서브카테고리 강의의 질을 개선하여 해결한다.\n",
        "\n",
        "    - 쿠폰 사용 시에는 환불에 제약이 생기는 약관을 만든다\n",
        "\n",
        "    - 결제 중 쿠폰 미사용자에게 쿠폰을 사용하라는 메시지를 띄운다\n",
        "\n",
        "    - 환불 대신 다른 강의에 높은 할인율을 적용할 수 있는 쿠폰을 제공한다\n",
        "\n",
        "    쿠폰 사용율을 늘리고 환불율을 줄여 매출 상승의 효과를 기대할 수 있을 것이다."
      ],
      "metadata": {
        "id": "39Yybcx6-oo5"
      },
      "id": "39Yybcx6-oo5"
    },
    {
      "cell_type": "markdown",
      "source": [
        "![화면 캡처 2022-05-20 145559.png](data:image/png;base64,iVBORw0KGgoAAAANSUhEUgAAA2IAAAGkCAYAAABTgZYSAAAAAXNSR0IArs4c6QAAAARnQU1BAACxjwv8YQUAAAAJcEhZcwAADsMAAA7DAcdvqGQAAF0lSURBVHhe7d0HuFxVufDxzYcCVwRFzSUoaqQYkCqEKkgXLnABBSSKBEIJ1YgIEnqVC4IIiJRcLiIBSRSkSKRIC03QeGkKxAsYpIhEhFCUUJxv/it7hZ1hTnLm7LX3yST/3/Ps50yBmcwua693lXfN12jKJEmSJEm1+X/5X0mSJElSTQzEJEmSJKlmBmKSJEmSVDMDMUmSJEmqWeXJOj7ykY9kgwYNyp9JkiRJ0rzlySefzKZMmZI/m67yQGzIkCHZxIkT82eSJEmSNG9pFxM5NFGSJEmSamYgJkmSJEk16zEQmzRpUrbuuutmQ4cOzV+Z7vXXX89WWmml7Nhjj81fkSRJkiR1osdA7N57781GjhyZP3vH0UcfnW266ab5M0mSJElSp3oMxIYNG5YNHDgwfzYdwdnzzz+fbbvttvkrkiRJkqRO9XqO2LRp07LDDz88+/73v5+/0rPRo0eHzCBsrWkaJUmSJGle1+tA7JhjjskOOuigbLHFFstf6dmIESNCeka2AQMG5K9KkiRJktDrQOyhhx7KxowZE5J3HHXUUdnll1+enXvuufm7kiRJkqTe6nUgNn78+Gzs2LFh22OPPbIddtgh23ffffN3JUmSJEm9NV+jKX9ciXarSEuSJEnSvKJdTNTrHjFJkiRJUhoGYpIkSZJUMwMxSZIkSaqZgZgkSZIk1azfknUMGjU+f9R7k0/eKn8kSZIkSd3BZB2SJEmSNAcwEJMkSZKkmhmISZIkSVLNDMQkSZIkqWYGYpIkSZJUMwMxSZIkSaqZgZgkSZIk1cxATJIkSZJqZiAmSZIkSTUzEJMkSZKkmhmISZIkSVLNDMQkSZIkqWYGYpIkSZJUMwMxSZIkSaqZgZgkSZIk1cxATJIkSZJqZiAmSZIkSTUzEJMkSZKkmhmISZIkSVLNDMQkSZIkqWYGYpIkSZJUMwMxSZIkSaqZgZgkSZIk1cxATJIkSZJqZiAmSZIkSTWbr9GUP67EkCFDsokTJ+bP3jFo1Pj8Ue9NPnmr/FHvdfo9ffkOSZIkSepJu5jIHjFJkiRJqpmBmCRJkiTVzEBMkiRJkmpmICZJkiRJNTMQkyRJkqSaGYhJkiRJUs0MxCRJkiSpZj0GYpMmTcrWXXfdbOjQoeH5lClTsp133jlba621Qh78s88+O7wuSZIkSepMj4HYvffem40cOTJ/lmXPP/98dthhh4XX77jjjuzEE0/MKl4LWpIkSZLmSj0GYsOGDcsGDhyYP8uyFVZYIVtxxRXD4xdeeCFbcskls/nmmy88lyRJkiT1XsdzxF577bUQpF1wwQX5K+82evToMHyRjSGNkiRJkqR3dBSIvfLKK9kOO+yQHXPMMdmqq66av/puI0aMyCZOnBi2AQMG5K9KkiRJktDrQGzq1KnZdtttlx166KHZBhtskL8qSZIkSepUrwOx73znO9mjjz6aHXvssdmGG24YtmeeeSZ/V5IkSZLUW/M1Kk59yDwxhii2GjRqfP6o9yafvFX+qPc6/Z6+fIckSZIk9aRdTNRxsg5JkiRJUjkGYpIkSZJUMwMxSZIkSaqZgZgkSZIk1cxATJIkSZJqZiAmSZIkSTUzEJMkSZKkmhmISZIkSVLNDMQkSZIkqWbzNZryx5Vot4o0Bo0anz/qvcknb5U/6r1Ov6eO70BfvkeSJElS92kXE9kjJkmSJEk1MxCTJEmSpJoZiEmSJElSzQzEJEmSJKlmBmKSJEmSVDMDMUmSJEmqmYGYJEmSJNXMQEySJEmSamYgJkmSJEk1MxCTJEmSpJoZiEmSJElSzQzEJEmSJKlm8zWa8seVGDJkSDZx4sT82TsGjRqfP+q9ySdvlT/qvU6/p47vQKffU9f+kiRJkpRWu5jIHjHNhICvk02SJElS5wzEJEmSJKlmBmKSJEmSVDMDMUmSJEmqmYGYJEmSJNXMQEySJEmSamYgJkmSJEk1MxCTJEmSpJoZiEmSJElSzQzEJEmSJKlmBmKSJEmSVDMDMUmSJEmqmYGYJEmSJNXMQEySJEmSatZjIDZp0qRs3XXXzYYOHZq/kmVHHHFEeG2dddbJbrvttvxVSZIkSVInegzE7r333mzkyJH5syy75ZZbsvvvvz+7++67syuuuCLbZ599srfeeit/V5IkSZLUWz0GYsOGDcsGDhyYP8uym2++Odtxxx3D449+9KPZJz/5ydBrJkmSJEnqTK/niE2ZMiX7yEc+kj/LwmNekyRJkiR1pteB2MILL5xNnTo1f5aFx4sttlj+bGajR4/OhgwZEjaDNUmSJEmaWa8DsU022SS75pprwuO//e1vYVji4MGDw/NWI0aMyCZOnBi2AQMG5K9KkiRJktDrQGyrrbbKFl988ZA1ceutt87OPPPMbKGFFsrflXpv0KjxHW+SJEnS3GS+RlP+uBIMT6RnrFVfKteTT94qf9R7nX5PHd+BTr/H/TVn7i9JkiRpdtrFRAZiLeb1wML91Zm56bdIkiSpGu1iol4PTZQkSZIkpWEgJkmSJEk1MxCTJEmSpJoZiEmSJElSzQzEJEmSJKlmBmKSJEmSVDMDMUmSJEmqmYGYpID1yjrZJEmS1HcGYpIkSZJUMwMxSZIkSaqZgZgkSZIk1cxATJIkSZJqZiAmSZIkSTUzEJNUm3bZF2e3SZIkzY0MxCTNVdoFc7PbJEmS6mYgJkmSJEk1MxCTJEmSpJoZiEmSJElSzQzEJEmSJKlmBmKSJEmSVDMDMUmSJEmqmYGYJEmSJNXMQEySJEmSamYgJkmSJEk1MxCTJEmSpJoZiEmSJElSzQzEJEmSJKlmBmKSJEmSVDMDMUnqg0Gjxne0SZIkFRmISZIkSVLNDMQkSZIkqWYGYpIkSZJUMwMxSZIkSaqZgZgkSZIk1cxATJIkSZJqZiAmSZIkSTUzEJOkOVS79chmt0mSpO7QUSD2z3/+M/vqV7+afe5zn8vWWGON7Oijj87fkSRJkiT1VkeB2EUXXZQttthi2V133ZXdc8892Q033JDdd999+buSpG7TrldtdpskSSqvo0Bs4MCB2UsvvZS9/fbb2T/+8Y/srbfeCoGZJEmSJKn3OgrEvvjFL2YLLbRQttRSS2XLLLNMtuuuu2aDBg3K333H6NGjsyFDhoRtypQp+auSJEmSJHQUiJ1//vnZwgsvnD3xxBPZk08+md16663ZjTfemL/7jhEjRmQTJ04M24ABA/JXJUmSJEnoKBCbNGlS9olPfCKbf/75Q88YQxV5TZIkSZLUex0FYoccckh20003hayJa621Vvb3v/89Gz58eP6uJEmSJKk3OgrEllhiiez6668PWRPvvffebNy4cdn73//+/F1JkiRJUm90FIhJktQX7dLgz2qTJGluZyAmSZIkSTUzEJMkSZKkmhmISZIkSVLNDMQkSZIkqWYGYpKkuUK7pB+z2yRJ6i8GYpIk9VK7YG52myRJ7RiISZIkSVLNDMQkSZrDtOtZm90mSeouBmKSJEmSVDMDMUmS5kHtetVmt0mS0jEQkyRJlWkX0M1qk6R5hYGYJEmSJNXMQEySJEmSamYgJkmSulq7IY6z2ySpvxmISZIkSVLNDMQkSZJmo12v2uw2SZoVAzFJkiRJqpmBmCRJkiTVzEBMkiRJkmpmICZJkjSHaDfXbFabpO5lICZJkiRJNTMQkyRJkqSaGYhJkiTNQ9oNcZzdJik9AzFJkiRJqpmBmCRJkpJq16s2u02a1xiISZIkSVLNDMQkSZIkqWYGYpIkSZJUMwMxSZIkSaqZgZgkSZIk1cxATJIkSZJqZiAmSZIkSTUzEJMkSZKkmhmISZIkSVLNDMQkSZIkqWYGYpIkSZJUsz4FYk8++WS2ySabZOuuu2623nrrZa+//nr+jiRJkiRpdjoOxN5+++1sp512ys4+++zs7rvvziZMmJAttNBC+buSJEmSpNnpOBC77rrrssGDB2dHHHFE9rnPfS4799xz83ckSZIkSb3RcSD26KOPZo888kj24x//OLvxxhuzH/3oR9mDDz6YvytJkiRJmp2OA7H5558/22abbbJFFlkkW3jhhbNNN900e+CBB/J3pxs9enQ2ZMiQsE2ZMiV/VZIkSZKEjgMxknPcdtttYa7YW2+9ld11113ZSiutlL873YgRI7KJEyeGbcCAAfmrkiRJkiR0HIitscYa2WabbRZ6uwjKdthhh2zVVVfN35UkSZIkzU7HgRgOPfTQ7L777svuueee7MADD8xflSRJkuozaNT4jjZpTtKnQEySJEmaF7QL6Ga3Sb1hICZJkiRJNTMQkyRJkvpRu1612W3qfgZikiRJklQzAzFJkiRJqpmBmCRJkiTVzEBMkiRJkmpmICZJkiRJNTMQkyRJkuYB7bIvzm7rVLvPmN02rzIQkyRJkqSaGYhJkiRJUs0MxCRJkiSpZgZikiRJklQzAzFJkiRJqpmBmCRJkiTVzEBMkiRJkmpmICZJkiRJNTMQkyRJkqSaGYhJkiRJUs0MxCRJkiSpZgZikiRJklQzAzFJkiRJqpmBmCRJkqSuMmjU+I62vmj3ObPbOmEgJkmSJEk1MxCTJEmSpJoZiEmSJElSzQzEJEmSJKlmBmKSJEmSVDMDMUmSJEmqmYGYJEmSJNXMQEySJEmSamYgJkmSJEk1MxCTJEmSpJoZiEmSJElSzQzEJEmSJKlmBmKSJEmSVDMDMUmSJEmqmYGYJEmSJNWsT4FYo9HINttss2y33XbLX5EkSZIk9VafArFzzjknW3HFFfNnkiRJkqROdByITZ48OfvlL3+ZjRw5Mn9FkiRJktSJjgIxhiQSgJ111lnZfPPNl7/6bqNHj86GDBkStilTpuSvSpIkSZLQUSB23nnnZZtvvnm29NJL56+0N2LEiGzixIlhGzBgQP6qJEmSJAkdBWK//e1vs9tvvz0bOnRots8++2QTJkzIjj/++PxdSZIkSVJvdBSIXXjhhdm4ceOysWPHZqNGjco22GCD7Oijj87flSRJkiT1RsfJOqINN9wwu+iii/JnkiRJkqTe6nMgJkmSJEnqGwMxSZIkSaqZgZgkSZIk1cxATJIkSZJqZiAmSZIkSTUzEJMkSZKkmhmISZIkSVLNDMQkSZIkqWYGYpIkSZJUMwMxSZIkSaqZgZgkSZIk1cxATJIkSZJqZiAmSZIkSTUzEJMkSZKkmhmISZIkSVLNDMQkSZIkqWYGYpIkSZJUMwMxSZIkSaqZgZgkSZIk1cxATJIkSZJqZiAmSZIkSTUzEJMkSZKkmhmISZIkSVLNDMQkSZIkqWYGYpIkSZJUMwMxSZIkSaqZgZgkSZIk1cxATJIkSZJqZiAmSZIkSTUzEJMkSZKkmhmISZIkSVLNDMQkSZIkqWYGYpIkSZJUMwMxSZIkSaqZgZgkSZIk1cxATJIkSZJqZiAmSZIkSTXrOBB77bXXsv322y9bc801szXWWCM7/PDD83ckSZIkSb3RcSD20ksvZV/96lez3/zmN9m9996bXXHFFdlzzz2XvytJkiRJmp2OA7GPfexj2XrrrRce0zu2wAILZB/84AfDc0mSJEnS7PV5jtjbb7+dDRs2LDv11FOzhRZaKH9VkiRJkjQ7fQrE3nzzzexrX/taNnTo0GyLLbbIX33H6NGjsyFDhoRtypQp+auSJEmSJHQciL3xxhshANtmm22ynXbaKX91ZiNGjMgmTpwYtgEDBuSvSpIkSZLQcSB2wQUXZLfddlt2/vnnZxtuuGHYfve73+XvSpIkSZJmp+NAjNT1L7zwQgjG4rb66qvn70qSJEmSZqfPyTokSZIkSX1jICZJkiRJNTMQkyRJkqSaGYhJkiRJUs0MxCRJkiSpZgZikiRJklQzAzFJkiRJqpmBmCRJkiTVzEBMkiRJkmpmICZJkiRJNTMQkyRJkqSaGYhJkiRJUs0MxCRJkiSpZgZikiRJklQzAzFJkiRJqpmBmCRJkiTVzEBMkiRJkmpmICZJkiRJNTMQkyRJkqSaGYhJkiRJUs0MxCRJkiSpZgZikiRJklQzAzFJkiRJqpmBmCRJkiTVzEBMkiRJkmpmICZJkiRJNTMQkyRJkqSaGYhJkiRJUs0MxCRJkiSpZgZikiRJklQzAzFJkiRJqpmBmCRJkiTVzEBMkiRJkmpmICZJkiRJNTMQkyRJkqSaGYhJkiRJUs0MxCRJkiSpZgZikiRJklSzPgViZ599drbOOutka6+9djZu3Lj8VUmSJElSb3QciD3++OPZhRdemE2YMCH71a9+lR177LHZiy++mL8rSZIkSZqdjgOxW265Jdtmm22yBRZYIFtkkUWyz3/+89ndd9+dvytJkiRJmp35Gk3541456aSTskUXXTQ74IADwvMjjjgiW3bZZbPddtstPMfo0aPDhkmTJmWDBw8Oj3vrb3/7W/aRj3wkf1aNueU74P7qjL+lM+6vzri/OuP+6oy/pTPur864vzrj/urcvHzsn3zyyWzKlCn5sxyBWCfOOOOMxoknnpg/azT233//xlVXXZU/S2P11VfPH1VnbvkOuL8642/pjPurM+6vzri/OuNv6Yz7qzPur864vzrnsZ9Zx0MTN9lkk+yXv/xl9vbbb2f//Oc/s9tuuy1ba6218nclSZIkSbPTcSC24oorZltvvXW27rrrZhtttFF20EEHZQMHDszflSRJkiTNzvzHkvawQ+uvv3621157ZXvuuWf22c9+Nn81rdVXXz1/VJ255Tvg/uqMv6Uz7q/OuL864/7qjL+lM+6vzri/OuP+6pzH/h0dJ+uQJEmSJJXTpwWdJUmSJEl9ZyAmSZIkSTUzEFO/+ta3vpU/6l533HFH/qg+3/72t/NH3eeMM87IH2lO47GRpNn73ve+lz/qfttvv33+SP2h3+aIHXfccdl8882XP5tuhx12yK666qrsrbfeCs+PPvro8Fezdt1112X/8R//kT8rhwQsZ511Vva+970vfyXLXnnllWzkyJHZj370o/yVvvvzn/+cPwpr2GXbbrtt9otf/CI8jj7xiU/kj8r74x//mD96t09/+tP5o3LWXHPN7De/+U3+7B3st0UWWSR/Vs7dd98d/rKYOplLyVoaXzvllFOyQw89NDyek3Hsi8ecffP6669nb7zxRrbQQgtljzzySLbBBhvk/7VaXX/99eHYv/e9782+8Y1vZLvuumuy674/js1Pf/rT7Mtf/nL+TK0222yzme6Rn/rUp7IlllhixnWPG2+8MX/UXa6++upwrqXyne985131iVaHH354/kj96bzzzsu++tWvhntZN+vpvl+Vl19+Odk+22+//fJHWfb1r38922OPPWYqV6ry17/+NVt88cXzZ4r6LRC79NJL80dZ9q9//SusNE0gtummm2bHHHNMeH3nnXcOf8tYdtll31VAr7TSStlJJ50UKgEf+MAHsiuvvDL78Ic/nL/bmalTp2Zf+9rXZvqOz3/+8+GEmzRpUv5Kll1zzTX5o3TiSV2slJfFDfLUU0/NTj755Gy99dYLN3oq+fRc8TvLonLRDvuPU5G/KSsXLLHQDt9zyy235M/6Jp5bzz77bPbRj34022WXXbJ77703e+KJJ8I59tRTTyU7LqzeTqX78ccfD5+5zjrrZL/+9a/De6luCBdffHH+6B1LL7109rnPfS5UmgcMGNDj/uyN4rFnv1ER+5//+Z/s3//937N//OMfoQEm1f5qVzHbeOONQ4ajH/zgB2HJDSoDfXX77bfnj97xmc98Jnv00UdDeQbKgZQ23HDD7NZbb82OOOKI8FtoqEq1v+o4NnzGe97znvCY8p5WWPYjn893PvDAA9naa68d3i+j2NgTvf/9788+9KEPZc8991y28MILl2ogGT58+LvOre9+97sz9VJfeOGF+aO+e/LJJ/NH01E+UhHbcsstsyuuuCLbaqutsvvvvz9/t2/anceUXQ899FD+LP15jJT3LPz4xz/OH2XZ8ccf37YRl4aLstrtL1D+L7PMMtlPfvKTUuVKUdXncbx/cV4988wz2ZJLLhkeR7w3q4bMTnGP4l7F+XvBBReEffa///u/4d5WpvG16vtW1FqXjPsq7sPU+wt87g033JBddNFFoT5533335e+UM3jw4NDgfuedd4Z6Hh0jKa/HnqS+7nv6LBqsaLgaN25cttNOO+Wv9h1Z4ovHnnv9tGnTQn0sGj16dP6oc/2aNfHnP/959qUvfSmcbF/5yleysWPHZmussUb229/+Nv8v0ovfyTZq1Khw4fzf//1fOBH7gkrX008/HX4Dn0lQRwHJYtdUZigIhg4dmuQ3cUPkRrDbbruFCzOe1MVKeQoEl7S487s4ob///e+HwrIqLA7OsaBn5//9v+4eLbvaaquFY0GDAr8rVaETr4t4rDn2d911V3iPm1uK84vgpYiChx6Y3/3ud9ljjz0WzgcC8m222Sb/L8qran8VK2YEAPwW9hMVZHqU+D0U0H3tkaFgLuLzR4wYkW233XYhYOZ5mYK5HW6YN910U8aKIzSUEJixoH5VUh+bWF5RUaXSyr+d38Ex4POp6PRU0e1Ea2MPx4LfMGjQoNDIx3ddfvnl2corr5z/F52J113RkCFDwlIu//3f/x3OjYcffjh/Jw0CLipkNIrF+0CKe2U8j+kF/c///M+wr2ghZ39xnac6jwnu+Cxwr+T++G//9m8zXsODDz6YPyqnyp6KfffdN380M3qLuc+n/O6qz+Oi4rnE8Skel1Ti9U/5SCMPo58uueSSMHKE+kxf04D3x32r6Oyzzw49TCnrLn/4wx/CPqH8/fvf/x6OM5X/VOJ5SoMOwT31X74vSjVaqPhvJvjmOPCbUqFRjIY8Gq0mT548Y4QIDZU0jKe6HidMmJA/mm6xxRYL5xnf8cMf/rB8md+86PpN88c0hg0b1th9990bzYs0vNa8oYW/Vdl8883D3/XXXz/8ffXVVxvNG1B43Fdbb711+Ax+D39PPfXU8Hqz0hz+NitQ4W9Z8fPiv33ttdee6W8q9957b/iuZjDWaJ7YjWbUn7+TRjPgatx4442NZhDbaF5EjR133LFxxBFH5O+m1bw5NppB/oxtjz32aDQvnMabb76Z/xflXHrppTO266+/vtGsjDWmTZsWjnk8Xik0b5Thb/zMBRdcsPGpT32qseuuu854LyV+A58NPp9jNWnSpEYzeAmv9VWzwJqxNW+gle2vomaltXH88ceHx/FaaRbc4Xwo409/+lP42wz0Gvvvv394XGX59aUvfakxePDgxiOPPNJ48cUXG82KWv5OGlUfm/gZzQCyceSRR4ZyrBnUNE488cTwWizXUuLff9ppp4XH3GNeeumlxh133BF+Y1kvvPBC/mi6eB2mPAcWX3zxcD/hvhK/L+6nlN8Tr4u//OUv4W9V5/H48ePzR9Pxm84888z8WTkvv/xy49vf/nbjAx/4QGP77bdvNCvI4fjXqar9VuV5jC222CL85TNjuZ9avP6pUzSDo3Aev/HGG41mwBTuyymwn6q4b0Vjx45t/PGPfwyP+ewDDzywsdtuu4XnqTQDxsbBBx/caAbG4fl2220X/qYUy6pmgBfqLVz/HBfOA/6m0gyuG6+//nrjsssuC99TxT2ec4kykt9AeVK85qu4HidOnNhoBpPhcaqyuF+7Hz7+8Y9nBx10ULbPPvtkH/zgB/NX06PljagfzQrsjDloYKgM8yDKoEWE4U50G/OYHqs6VNFqRU8YwzronWTiPtE+x+f000/P/4vyGCPO0NQVVlghtCIvtdRSWbMylr+bFv/2vffee8bGcChaXg844ID8vyiHVjd+D72qzcpl/mr12G8MgSy2YqXAfuGYL7DAAlmzUAuvcY1wrnGcGA5bxhe+8IXQgsWwY3qP60Dvy+9///vwOA6NY1gMw+PKoNWNeZPNm8xMw5CrQqsorXv0TtMaznmXUp3HhvOpef8Jv6GKcoyeT1rfOY9jaybfx1B0WkmLQ0o6dc8994ReiC9+8YvZKqusUlnvCxiyxb+VoVYMSStKud+YA8z3VDmPqhk8hHKe4bXsP4ZGMbTuV7/6Vf5flENPK6NRGB5OLwnlF3NfUmNYIPf4YcOGhWHpRanP5SrP4yLmmTNMjfoYvdRV4t8PymJGJ9B79ac//Sm81ldV37ci9g8jH+iVZkTCiy++GHrBU2IoJb+Boan0HFdRPkbxs/n7y1/+MpwH/E2FXkLq3BxncOzpYY9bCtwPqdeRPIWeyeKw6tT7jtFifAdD9lPq10CMQpMbWTM6DwerKquuumoYZgO6FDnJmYBOIcpNdbnllgvv9dUnP/nJkDmPsc/cnKkgF1V5IaXGviApQByzzThbhsS8+eab4XkKDHckgGCOFjcTbgCvvvpq/m5aDBkpbnRdU/kjgEqBgpmx6HFeY8T+SrnPGJ7AsNoiKhzjx48PhUMq7BfGVSOet7HhgsClbIPJOuusE84tjkVE4fy3v/1txg00Na75v/zlL+Hxa6+9Fv4yXKVsYcqwZIbVUDErNu5UhePPUA+GJ6211lqlKy+t+uPYUL7EillKVI4OO+yw8JjjVEQSkjL3G655ykgqxsz95XlRyvKeCsy5554b7ilsDBPnGl1++eXD8KUUuCY49gRjsRJexT2LspdjTcMFZT5lF3OTUpX9fBaNiMx/YeMxSWZSI6EVwziZerD77rvnr1ajyvMYm2++eQgoqcgS9BEkM3+2DnEoH40/NJaXUfV9K2JYKPuIhvf5558/lP+pMYSPhm/+3QynZMgowzg53qlQlnDcaQypG8Fr3FLgGuA+QoMO5Vhfh7jOCkNouf9y76WRh+C+qGx52a+BGBM1aRlj/HhsUWb+Q5VoMaEHjJY/5lzQS8KY+LKIxvk9tFqfcMIJYSw/Y0YJzlLdMKdNmxYuIC7I1mAvleLnxlTWnGQps/LFGwoFPhNtCV5TJGbpRKqKBp9T/KwhQ4aE5wT6ZSZSt2IfMba6uJ8ooJkzxDlWhfi7aCz5r//6rzCPb+uttw6v9RW/gZa+OBeIHktaLplfkWqSeyuOBdcOaJBhngetWmWTz9CrRuX14IMPfldvRRW4AVDGMF+IykDq3ouqjw29eGT+ooLExvlFRbAqMcCjwgQCcn4j8wcJZPuKc4ljDwLXeG7R0848t9j7mkIsK0kuddppp2Xf/OY3Q+BEgBEbFcqiIYnrgnthbJyoIjgGx5zvIOkIjQpcg5wTKTDChh5q9gsbgUUVGdqoIBO4sNFABgJk5tm09pClUNV5jDPPPDPUf2gMpw5GkJwaZRaBUuv5SmZmGrA5TswfS6WK+1YUjwWfzb2XBCeUk6kROHI9ElxQ1rMPOUap0Aiy//77h3n5BC9VXe9RPCb8pS4ZtxQYLUBnCA2GjOgC9cqU1yPXBqPEaDSKif24/1LW08DEiKhSmgeg3zQrl/mjasbBRowdZZ4D8xCaN9AwPwTMT0o1V2jVVVdtNAvlxn333Rfmcvz1r39tTJ48ecaWQhy/y1825nAhju9PYaONNsofzfw4pWagmj96R7MwazQrmPmzdBgfXtw4Ps1gvzF8+PD8vyhn0KBBMzbGdtcl5TEvalaOGiuvvHJjwoQJM8Y/v/LKK2EO31lnnRWel8F4+rg1C8r81Wo0Kyphu+iii2aMiW9WBsIcQeYoltWsUDaaAV1jzz33nDFGvMrfRPlV9IUvfCF/lEbVx4Z9xHHgL/uM84vr8bzzzmvssMMOjeWXXz7/L8vj+ojnb5wD/PDDDzeaQUeYP8R8or465phjwvzCZqU//Lvj/MMq3HPPPfmjRpi3V5VmcBHm0TCPA8zbS23jjTcOc0SaFcxwXcZ54anuMy+88EKjGVSEuY1sI0eObDQrZ/m76XBuPfXUU40///nPM8qVn/3sZ6GcYUupyvO4FXNruA+3uz+XwTXCxlxwUHd55plnwu/g9/E6c/XLqPq+FVHet6Ie+8ADD+TP0qD+yPHAT37yk3DP+uc//xmeVyH1MY8WXXTRxrLLLttoBqyNZlBZyRwxUPemXI7zAynHqrgeH3vssUYzCG889NBDSev4/Zo1sShmUaoCQxZo2Y1du7RixNalVBhXS28evSCMVS473LETtGjQQpYCaV5pgQFzYMqmeO8tWmfYb6m1pq3lHKPXiuEeVZ1v3YwsRBE9SQyL6lZHHXVU/ijLPvaxjyVvuWSOI0OHKEsYmspwtSqRHp0eGFp3aYlrVv5CKvsoVaarujQrTJUths4QotgKy/zg4ryBFG6++ebQM0lPUmsZ060YSk3vOvNEuF9WgXsVS6RQrjDsirmuxXtON+CcZUgiVSd6c6pI7x9VfR63Qz1mr732CmVmFehBIGti7FVOoT/vW4xUKJbDZfF5Y8aMCcebETAcc3p2GV7fDCzy/6o69P4wtLcKKeuq7ZCjgeGicThvFRiNwHGgNzGVfgvEimtYxIKm+E/htRRrMvSmazJlgdAfUhYEDHVgPCxDYnbddddQIMTjkqqix2cSDHMDjv92hiaUTY9dN25W8dztSYoJqeyn4vcwh4chZMwRitdPXQFzGT2twxKluubrwtywOJ+ChA3Md6zSrCr8Zc+B/jg2BDLM3+027e5dUXwtxb5qve4jhvRR4SBZQOrlC5hvyrClqoYJx2uG4X2UX1wzzEEuO0S1rrK4Vcp1w+YkVd6POfYkWJjd8ZoTxeGINLQThBOQp95X1MHIXcAcKhKZMJ+Z+XTc92PCljJayy+WD2HtVgIYhr0ybLyqBER0WFQ1lSJi/VaGKXeTOaJHrMqel3gz42cyzpaJfMWfzHtlv5uxqMVChVZSbjgEgbRgM1eMBT9TmjhxYpiTkLogYBI4yTSQej9FjHVmfDiFSvy3V9VSwvyHtddeO7S+0gKfcq0P/v3x3KJH75xzznnXPkvRWkqPbhH7jkCZnhEm8W6xxRZJFnpk3ZrieVzE7+K9VIttVx14V10x66+KXx2qOjat5WREDzU3Z9aYYa5tWTTuzO7YlJlf124dsVaUO2XF6565SFzjVACZT82cCCqylKPME02N4ChWxAj0CPhSYC4dE+vJ9MdcCwIwenlZA4gsgGUSKrSroNLDR6ZGstChmIQmleK+Sq3q8xhU+pmvR3BMAgKCfOYjs69S3Y+rvq/0VK4UtVvguy/qqLsU68PFxpYq6snM22VEB7+L7yEZBa+lOKfbLbTdioQhZfRm3ckUdTB6XGd3jhGY91W/BWLF1j4qkQxRaJX6pKvqxkUq9iLSZTMBlooFLZec2KkrNlRcmCBMF3LKgoBJqAxJoDeMxWmryGbJcWBYIBdRsTDjOacjCVVS4fPYNwyH4fM5NmS8YnhE2WQaJH3gHOY7SPfNgt6tCM5SYFL45MmTQ0scNwJQwPCbUp3XVIiK2hU8NCz0FUF+3F98F8NuWtFokUKsmPFdJDiIiWeKylTMihW/+Pl8V1HKih9BHUN3yV7IZGECf9Iop1LHsYlZzVrRQkvjVapKLUkM4rnL7ymex/F5mQpA8abM59GDRKNIPP68V+amXERlnEQwtIwTyDAc9fzzzw/vpdhfZBtjkjuBHdMDaEAslicpA434WZT5ZK5lCCTBJSntuUeSlYzfmQq/h0XbyWyZSrHnmOPNcLE4oiaeW6l6jqs+j0HDNEOqOQdI1EVdjERGnM+p6iyt95WInpc4BJZkC33VWv9qJ1UysHZ1l9QNV9TpqDtyjMmeGB9T33v00Ufz/yoNkuUQyH7lK18Jgdgmm2ySLBCroyGBBtFZ4ftTNIgWG9+Y4tBu6ZgyjW/9Foi1W9eBNKa08Meu/pQZjziBKVzIEkQrEDeeKsWbDr0wKQMxekKohNFyFbM9pi4IHnjggVC4caNkX1HYpxwH364wI7iIlb9UlfF2GP9MUEYXOf+Grbbaqs9risUeMfR0GaWojDP8hbTStIbTC0pmMHoRUgdisTIOMosWA2J+H++VPTYMS4kt1HWJ8w/Jzka63hTrvcVWWPYL48WLcxSiVK2w/NtZqoDeIvYdlSZ6EhjWR9bGVPrj2BSlqvQXj0U8RkW8VjZQoswiiKBhItX11w7lL4F3rLByXca5iKn2V2zIi3+Ln5vyt8XP5XsIJrm/UBbTM8Yw1TFjxpSqNB1//PH5o3euvVhGVu3aa68N9YuU6jiPezqHUtcpWjH0jiygZJnuJu3qLsxJi8F4imzW3Ft60rpMThk0gBAkM8+Z8yB1IEZDddTT+ZuqoboOseEgHnfuw8x1TJL9sblz+s1GG20Uto033jh/pRGyAaV2+umnN1ZYYYXGqFGjwsZq35dcckn+bnnNIC9k6ll66aVDBh0yuDQv2PAe2RqbN57wuCwyJpKdkVXEi1J9fjvNizNkGFxqqaXyV8oja1rMbBT/7WRPqhtZby644IL8Wd+suOKKIVtis2KRNINVEfuLDJ94/PHHZ2TPivswnmspsGo8529Vx2OxxRYL+4ysc3feeWf+ajWaN7QZW9SaebCvxo4d+67t4osvbhx11FEznqey2mqrNZo3gfzZdGR75bxIqY5jc9dddzWWW265xqc//enGHXfckb86XarzmEyDzcA1/F1ppZXC39atrIEDB4Z717LLLhsypr744ov5O2lxHT7//PONp59+uvGnP/0pXPNkUyPLHPexFGIZHP+S6WyzzTZr7L///knLlvhZZC4mM+fJJ588owx7/fXXGxtssEF43Ffcf8mStswyy+SvTL//psb5U8zy9/3vfz/cm1Pje6o+j+MxISMfZSPnNH8/8IEPhNdTWWuttUJGSzIX33LLLSHzHPeyVMhgSd2LY881SebqZpCRv5tOHXWXZnDaeOONN/Jn6ZFdkrJj2223zV+Zfh6QUZhsoxybFKg7xm3w4MEzHlNXio9TYF+RGTNm5uRxFfsvHu9itvdUx75fAzGCCm4wVDSi1JULULkopv6kUssJlwqF14MPPhgejxs3rrHvvvvOKOBSBmIUYqR65kIifWaU6vNb3XrrrY299torpJX+5je/mb9a3hJLLNH4xCc+0TjssMNm7KeqKv6kln777bfzZ9NRqSWFfQo0HDzxxBMhvSyF2y9+8Yv8nXSK1wTpmDfffPPGAQccEIJjKrVUQFJZfPHFw29acMEFG9ddd13+ajqxoeX3v/99uFl+61vfavzrX/8Kr6VWdcWsNdDjPCtbmWynp+t73Tz9dyp1HBu+g9TfbFTOimJZkMKHPvShcN0MGDAgBDKpxX1Piuzvfe97oaJRxfIblIuk+P/tb3/b+PWvfx2e77777uHemeoeFs+v+Jf7JfcaUjKnPCbxswjC2WcEYvF6pBFr0003DY/7Kv77i/eS1NcIOLf4DTvvvHPY+HdX1QhX9XlcPL7Uxdi4Not1shS41m+66aawr2jw4XtSouEgLr0A7l3FBv5UPvnJT4ZAj2BizTXXDK+lrrvQAEJ5wlICd999d/5qOpxHBMME3FyHYKkHGkOoW1TRqHD00UeHv3SExIbkVOgo4HMpf9l4PGzYsPzddNod51RBa78u6Ew3H/ORGALFxD7GRDMXJjW6jhn2GBUfp8DEY4aNgblHxTHiPGZycgpkLWSRP4ZvMmwh5UrrEQlNGJPMd7HCO/OeSJXNWOVUGOtM8hLmo9E9XiUmIn/hC1/IHnvssfCcxbXXX3/9ZMsX0I3PPAvG1ZNRiaFvzONIiQV1mURLOnbmBh544IFhZX/OK1Kpxt+WAokA7rzzzrCPGBLHELiU2F8g9fsVV1wRrv2Ui4UXsXAscx2Lw5AZ2psKZRb7iyyjIBFM6rIF7CPmBxYxpCTlXErUcWwYWseQPrZ4LMjatdFGG81Y1D8FhtnedtttIfEQk9xTzhNC/LeTYvqggw4KQ7mZj8RwlZT4HuYZM3xozJgxYTgPw2GYy0NZXRYJQTgmzcpZGHoD7pfMhSKBQ7OOEF5Lgc/ne5jzRnmG9773vWExVIYoMk8wlVif4PtS49ziXOV4cwx4nnLx/qKqz+Pi8aUuxsa1mXpuOPdbhr2xQDGLLFOPSVl/od5YzLxJchsStaTGcLs99tgjZDQsDr1Lieudegpz2bkHkz+BYbdkGU2B4eeUtwxxZngw9Ram7HDMeY1pG6kw1Hjs2LEhiyFJWxhmzXz6lEjvzzlFfZKNx+y/1Ch7WyW7B4dwrJ80D1L4S6s1C0jGLTVaSug5oOuSRRDp4bnhhhvyd8ujB+yQQw5pNE/g8B20ltCqjFRDCFo1L5zQO4aUPWLNwjIstklLb53aLZSYCkMgGD7YLEBDyxlDSVNpVlTzR9PRMsrQhdRd4/S4MmSB4UlViq0+XCdg4d1TTjklPE6BHuNWzcCy0qEE/CbO6dbesbKKvbkMjaEHIVULWVGzsheGVp922mmNq666KrRi0mvB6ynVcWxobWWBUjauRdA6zr5jSyUe+2aQFxb6pWckZZl/++2354/ece211zb++Mc/5s/SYD8VperJj+htiVvszeUx38M5xpC4VBgxwDVDCzYL4FKuMFS1WfkP7zFUvAzuu2C4Of/+uKVWvN8ynIuhSkceeWT+SlpVn8dTp07NH80sdS9P6+ddeuml4d6SCucUizdT72I7/PDDK+kVaac4VK0KnGMHHXRQ4z3veU/+SjqUvc2gJX+WHveqZmAUeo65xplWExeqToX7CL2tEQtHV9EbuuSSS840CoayhbIrhX4NxHpC12xqDE2k8GejCzYlhroRFDFc7IorrshfrRaBEnN5kLrQnNtQwaMCyJjoXXbZZcZ+q0rrUMhuMn78+PB3zJgx4S+V8Cquxzqcc8454W9VFbO99947/GVYB0Nu4laF5557rvHd7343NFhQgf3LX/6Sv9Ndnn322TA/aNddd20888wz+avpnXDCCeFvbChhf6WaHzi3IxCrGkOIGJrYjVor3szX5Nx6+OGH81fS6a/z+KSTTsofpXHNNdfkj97Bb0o1pJPK/RlnnBGGVNMYTkN16gp/3RgefMwxx4SpKPymq6++On+nO3E8CMQYpkqjQirMBdxuu+1mmh+YslEvoiGXBt3WLYV+XUeM7G8M7aCrlK53ui/Jnrduwow9LHw7O2VScrdqVvTDEBLNGRgGSdc42XlWX331kK3pkEMOCSnHGXap9hie+r0EazrNi+JCn6mRlY0siQy1nRvUcY4VF9xlaFzMPqieMdwu5TDBdkhtTTbeVAuvMlS/3dCholRLCrRDFuhidsvU6j6PU9bBWpF5l60ZXOSvpNXtdTDKROos1IX5LTvuuGNYZ29uwZpxZDNlCHS3YKj2rFD2lFm2ol8DMdaOoDBmXD2pkxkrzureL7/8crKx9oxLZScVf2YssHmNx2UXqS0WWHvuuWeYW9WKgq2M+DtmJdViu3MT5lcdccQRM8a8U7gxb4y5L+eee254rQqkYya9eDeJjRZcF9tuu232i1/8YqbrBikbLYpSBy89XS+Mu2fZB+Yr3HzzzfmrfUOqYuaGUAErLhReVSWGpQvOP//8sJg7N+jddtstNGSlxppozENMrbVRjEXWW8+x1OdXT+m5uwnH+aKLLsqfpdVfC5OnPi5xnR/OJdbXY05dq88lWGR7btlfEfObmatFOca+Y1kc5uutk3BtUhBIsmA3je6s78ZyQtSVmO/IvDTmPvdVa1nbrg5Wtv7VqqoyEsybZ32vdms5VmHDwqLRqXHNrb322qGsZ9558T6ZQn9dj2A++O9+97vwu8rq10BsjTZrlDBhnEKgypsn30mlYPvtt89fKYfWuFnhRCnbGhcXReRwsfgeLSatyiyKWJd2LZf0TtFzFaVsuWRSKt8XT3MuHoJ8emNTro3WKmVlvF1QwX6kAGDCML3JJO8oO8Ga75kV/g1lg31ajuP6gEyoJTEEUgcv8XppRYWDZAHtyp5OEYBRcYkJhgiKlllmmVApnNySXCMlzmHWSaKyOXXq1PzVcnoKwtlfiy22WLhRc8Muo6fzK16fKc4v0HoZPzMuuBs/P/5Ntehulai8giQ9J5xwQni84oorhsRQvEcyDRoUyiguTN5TD2WKtRDjMYk4Dkh5TEiaxTWY4truSXF/RfRQEVzEhB0p9hfqOo+LQVdcdy11IEYCEIILfgcjU7hXkXyCspMGrW984xuhkawveqp/FfdTijpFHWUkCCT5fMrLKnqNSGQT8e8/7rjjsmOPPTZ/ZTo6SFLg8zmPCO45r7g/cpxJahevlzJa13KNj4uqqucRq/A7Utyz+jUQ66mVp6oW5YiMR2TtozWmG3FT5uZMJYyVycms0y2KK5SDC4fKLAV/bMVK0XI5K9wAGOaR4kaz3XbbhSyWKN68Ut7IikEFlQ0yNq288sqhNYibEJUOevqoSM3pitc8w59i5rfUN/6iGLiwgGiUooW5tcLHcSG4JCNYFVmbyG5HRk56Rwi+6dnj35BCDPaLtwOexx7EqlrkuZmNGjUqO+WUU5K3lnY7KkhFHA/KRrKcPfXUU9mzzz4bMjamWkg49rwxOuWkk06aqXGsKmSII+NsimNPxY5ghcow/34aSupA4xK9I5dddln+Sncp1reWWmqp7IADDggNe6my9KFYVtKLQK8+wREL1TMSivI55f4j2yjZ8xgNk0pdZST3DgIXKvgEeFzfbLEBsyyGBc8Kv4l6ZRWoe/PbyMzIwthbbbVVON/6qtjQXvyL+PiWW24Jz8sia2kUPzM2XJTW/Mf2m+bFmT+aWbNSlj+qBotvppxU/9JLL82UTSVuTBhNqVnpnrFFVaxbVBfWs4iZruqYIF7UvPnkj8op/rtZ2ydKfQ43byzhL5NQWUcIzUIg/OV8TpW5qd15zBppqdS1vyIS6QwdOnRGhtaop7KnEz19RlXJc8hgR1bZstnleoNMo+y7KNX1SaKRZgUjnM/NADkswEm2s9QmTJjwrq1ZEczf7T4kAIqJoLhueM76hZzbZcUJ5yzmHlWxEDKLnMeskhx/MnKSuCUVkgCQDIbkBkzcf+SRR/J30iLRTKuqrvk6zuPiv/1Tn/pUyM7KIuUpUX5wvvLvpywmuVm8B8dkJ2UU71dkzQMJuqpUVRlZxPnMvtpyyy3D/b4ZRM20hmwqJINiPdxYz6gD9zESaZXBv5ssmSSxYf/zvHVLhXUbqX8V129kXcwU+rUJsvn9+aN6MfGRuWipsBbK4MGDQzcyaxrwmC31uH5aj1gXqdjqQotyN6J1n+5vhiwgtmLUgaGJ06ZNy5+VU/x3V/kbYi8hw5FiS2W8fhZeeOHstddeC4/LYk2seP7GjWGcqdS1v2j1o8WVxBYMFaL3sC5V/S7WjmIoGi1wzOtIWYYVcW3SO0IPX5TqNzUrFWHNLYaksj4OLfDMiUiNtckYvk0re9zqPAdSY7/F4839hh4kEl00KxrhtTL4bNCqH9GjkBq9d8zfohWZXivOr3ZzufqKfzNzkJoBWVhDjGQQjCBIrd16d1wzVajjPC5e29yPGVnBfSY16i0cb3pEEM8x1nqj56cMhtsxNYNhonGoWBXHPqqyjCxi5AMjLMaPHx821ndlNFdZzMmjt5DeSBKn0NvH8NAq78koTgdinU/WZCuDXkLqRvz7GaZL3Y7Xilsq1O85x4pTQFKVk/0aiPU02TF1gMbOKm58fqodCIaFsbgjCwoyfp/HbKnH9xJAUqksjq1N+TvqwILH3Fj4HQwPLDNJtzeYT8f3xI2x1wwhYChUN4nXBIVAnBfETefNN98MwX+qib0sfhzP37hR8es2VCSefvrpMAeBYVzsJzCUgQnqKZIB1d2QxHBk5vAw7IqERqnG8UfclNkvzOWgMlZcCDsVKhY0UDG0g+uQxcOrqDBxjMmUSkKeuHVTlq7opz/9afgdNLTQCIfY+MbQxJTHqOrzmTLq1ltvDcPeWOA3dUMC/34CVM4nhttRv2DIW2rtKqtVZTGs+jxmHhpzn6jg8zgO56yiQs69ZMyYMTOG3DIl4fTTT8+OPPLIMEStDAJwro/i51TRSF1HGdkT5j/SyFCc49VXlB0cb34Hc/b22WefUDdKjWHHcXvkkUfCHMHUmDdLHYjGPQI7rpcqFMtHEosNHz48e/zxx/NXyunXQGznnXfOH80sdercpZdeOkwS5G/cGEueCjdJLg4mb5Itj8e0yDGBN6XiicBK6xRoVDK7Cb+B8eGsek8gEVVVCaCAoUUpbrQCxZ6FFAiEOc6cA1UGxe1ujBQ6tAaRQY/fmQKtk5y/xS1lay/HnfHhtO4RTFSFfUMljDloVFxovQQVQXoUmSBeVopsSZ0gaGGOGA0ytCamStQRkfiFXip6i2OFhjk8lDPcuFOI1wiBMufWF7/4xR7vA2VwzlI2UsmMW1VlTJXiRHcqrRE9SvReUbkhtXVZzAkj+QcVTP7SY8lrqcX9v8oqq4R5bvS+pCq3QAMFgVg8nygDqKSlxnnF/TduXB9V7C9UfR4TWNBgRW8Cj6+88srweuprhUbqIu5nBGEkNWLURdmekSLmWFG2cC9LreoykoZ85n/Hv1zjBLDso0033TQ8ToFRNNwTGWXFv59eNnrGUiMzMQEeAT7nbhXiPYXsmxMmTMiuu+66MLInNRqQQKBH0M/+o6EshX5N1jG3oEJEOtNWpGulcONET4EbMic1FdlY8FOgpW4ZrwNDqziRaeEhayKpuSl4ug2FMscgXkYEeShOgE6BijcTdvkeAllagMAwGdLx09OQQmytLKLVb//998+flcOxLooJAVLvr1b0JtFCXscE/qoSj6y33nrZHXfcERoR6FHiOcFZSpxfJDG64oorQrBMmRMD5tgjUwZDRlsn0FO5YUt5/TP0rbXxgtT4NJB1o2OOOSYMi6EllgYsEhsx7IZAtqx21zz4zpQoQ1oTS7GWIxnbuqnsb3cOMWqAERep9dd5zH2Me1sVfv/734f7fcr9RU8hZcgzzzwzU+r61OcwqiwjCYqLPXkktCCLIr+PobacCynuk633KJKoMTSR11KOgIkJTNhX9OhR1hSn7NATWxbHgkCewJ7hz/S0U7fkO7vFXB+IxRTAs5KiQGB9n2KByVh4pKpgxuwwEUP66BalIk7rCa1AtDJ2EyoUFJ4p5wnMKVJXxmnpiRgKmypb3uzQYslQnypalotS76/W64ViLj6Pj1NlU6oLwxI5D2i9pjeOijnDeqrAjZ9KQOxJTIGhMCgeF1AOMFSN11Ok455bMRSGeY+t+69bEZTTOELrfLf59re/nWSuTn9jREWV6zz1BhXnFKnM61ZFGUlDC/POaGDjeDA6jECGeZzMr+LaT1GfpDG/dVoIAQ3nw3LLLZe/Ul5rIEajC/MB4z2Yf4fmgUCsp9a+iJMhxThyJk4zXITdyQUa1xFKVcGkpaeImxeJCBgOSUsJrShV9ihUge59KmDsN/bZ3KTKFsUiUr+m6nEFQ4W4ZmhtZ9IzLUz0iDEZNmUq4HYYGpVqzH28Xrge6Umk5bIVQxn6KqYybpVywegigkYWpmSMPcMtGYZVTK6QGkM3+R7KlipRCXvssceSXiv9uchntyG4m92+SrWuY3EYD3OE6c2r6p5Fo0UVy3nEVNUMc6fxFTSExhEKYOhoCpTDxWPD8FRGknBtMqyTxtd26751gvKR+gm9OlWs84Tll18+/A6+q/h7hg4dGupeZdO+tza6FcXvrKLRrcoykiCMUVZMeWDZldQ9Yu1UMSolHtuf//znoc7KOZ3yO1qvkXaqmCeaWr8FYu1uALQw0dIUpboBtOLmT/TfU7KQviiuk1EMvlKe3HR/c/FTsJG0IZ7kXLTdGIjFLn3G3pYpiPsLNyzO4dZLiOPDuUwLVqrucW76DEFkUjIBBPMcF1hggeSFZzGA4LOvueaaEBylGAZHhaVdocmckTFjxpS+Ifekis9lbTcy1hHg0arHjYbzgMpLqgWjIz7/0EMPDcEXx51Jz6yRwz7jXEuF84hjzjw0hozccMMN2SGHHBLmW1DxSzGvkjXd6NGNKItJqHPttdfmr5RX7D2mMl7VIsVVa1fBPOyww8I6TIx+4DfQIzq7isistK7r2E7M2FoW87IZukWvJyNGUlfKiqoqS1ozFrLvaRBh/g69SjxPFeQzVw9UyBnSzZBE5qRRISeTLff81L8x9TpPvVG2rGxtpAaNegRJNFajTKNbUR1lJO65557Q8MmILs651D1i1H0ZUcF5FespqUelgLoDPW/MD6PsSn3Nx2ukiAZ+7sUxqU0Vc5CTIxDrD81K3bu2119/vdGsWITH/E3l3HPPbTRvXuHxa6+91th8880bzUAsPE+luKYQ63IsscQSjYEDBzaaAVP+ajlXXXVVY8UVVwzr7vD3oYcemvGdrPnSvIjC427AOjiswdEs4BvNCm2SNZ36A2tK8O9v3eLaFSnXFWnehMP6Ls2KeONrX/taWDPnD3/4Q/LjzlolYL2X/fbbLzxGfL0M9le7jXX4kHodlmZFNmzN4GjG42ZFMH+3PNbBu+SSS8K6fs0bc6N548/fSbNOWcSah4899lj+bDrWTmkGMPmzNOK/mXPqgQceaJx88smNww8/PJxv66+/fqMZLIX3y2h3vlax/k4UjzfHqln5CI+7xVNPPRWuc8oT/j799NONH/zgB41hw4Y1Hn744bCeYLOClv/X5TWD4sarr76aP0svHufLL7+8cf311yctu1g3bNlll52x8Ty+Fv9WqcpzuFlZDmu8NSv7jc022yycD9Qxqr5vpljnqei2225r3Hzzzfmzd6T4Hc2gJX803csvvxzW3kqtjjJy9dVXbzQDmMa4cePC8y996UuNZrDZWHTRRRsf/OAHw2tlcb7y70W8DqtYC68ZUM7Ypk6dWtl6e0W33HJL46ijjsqfdYd+C8SiF154IX80XTzRUxZsSy21VGOXXXYJiwZyQ7vsssvyd9IpFibFG0yqE4/P50YJgjAuzvid3RaILbfcco2NN964scMOO4TnHOt//etfYZFStm5BQPnZz342BMYrr7zyjOdVLFIdj3VrQJT6uO+xxx5hkdUVVlghLMAJClDOsbK22267sPD0mmuuGRYi5zFbvOEUr6EUuKFRaYkbiz5WcSOgwsz5TENSlPK39PRZfGdK8XvYR7GSwWtcm48++mjjy1/+cni/jHb7n+OU2o9rWqS4avybCfBXW2218Hz77bcP5zGoKHNNlXX//feHY8B3UH5xzHkttXh+xUCMc4EFhFk8mL9VIHBNeU/hWuDfe9JJJ830uT1do2WdfvrpjWuuuSY0WFEuE4hx3Nl3Kb6TAKIOxx13XGObbbZpbLvtto0jjzwyf3W6FL+D/UHdjnvxSiutFP5yLqcW/61VlpHgGG+xxRaNX//61/krabULxOj8uOGGG8JWlRNOOCF/VB3ux3RYdJN+S19P1yuZkhgnztCkKoemxVTJDBlgwmCqxXyLSF3K0CEmIBe7yssMGylqXugzhvSQjZG0tnFhOcanM1ypWzBZkyQdxWFVcVkBxqh3C+aBMfyB4UGM4Y7PY6KWVMe+qHnNhnHjfA8bj1MiNSuZzBiSyBo2ICkMGYnKIjUyQ/iYG0CWIx6zsWhpFRi6WVzYkXIg5TFheCDHnaEpDJEoLvSYEmVWnchqFodzMLyDfca1mSI9c7v9X0WCgLoWKa4S5TpzghiaxgT+2267LQzlZIgyGAab4vonmyH3R4Y8UqaQ1YzyuSrxHOAvQ+1TLScxbty4kKUYlJMMu+I3pTy/+DeTeZUh4s0gOHxPlZhXxxwhvq9ZOQ+vpfzOdsP6qsBwRzbK+zgMmfLkySefTLY8CnVKrhkyMvK3ynUDqyoj+f/ZSGBEfZXpOeyf+HrZz58V1tzkHn3VVVflr5TDEMTWbeONN57peRW4Pp9LsNB9nfotECMJwPXXXx/G81Pp43lRuxt2X8WCa9lllw1rDFAQXH755eG1VBj7Git7xcmBqQpNxgmTypa5IsxNYi4dqazB2kzFFd67AePci8F3yhtynajAnHjiiWHyNuP2q0ZyEwoZggC21AUzn03DCAuUxnVrKNg4t1OgYsw4dOZWsUYKWCcn5Q05IgkEWajixrxU5iilQuWI85VrLy4nwXwnAljmKKRCZZJ5CcVtnXXWCa9XgaxZMQFMXAj7hRdeCOuXlUWCAW7GcWMeVFXry6DqinKVaKxgviapyjnWpOVm8dVYUSJRE9dqWayDWFynLCaFSI1rhIplyiQ2RdQhaAQjWQb3Sq7LKjLyUgaTUpwkQJTBqPI847NphC2WXZRtk/OEYGVwXZOUqd2WUmwEoV4XHzNPiYyDNMyWxecy35xyl4RGlClVNrxUVUZyzXNusVGnIJ39Aw88EBqtCfxYgLkq3LdoWEy1IDLXHmUWf+lwiY/jVlxmICXmNlbR2VKlfkvWwQ0lViT4JzC5lgmbtC6QgZCWmlSVJjLBxRZScONhUiUTLatOm9pu7ZS+oteLRffWWmutMDG0W1GJpDJOTxK9IRQ6VfaIVolsb5y3nMNrrLFGWNCbgJ8WLYKaVIt689l8DxVXzlt6exD3ZSp8Pje1WCzwmFZ31i5jcnhZxet+yJAh4XOZ6B4/mwWXUykmbYiqSP3PwqH08nFjLlZoUyFI7QkTrlOhN5pefdZ2IzkMjVb0kLAYK5UBbtRlExy1+y30WFDmp8Q1SOMY6wjxl/OZv92UHn/VVVcN1woVf8oTEl2ceeaZIYECjRY0ltCgwRqDZdCjS+WVRgRcdtlloUGRnpiUTjnllPxRFhamZdmYlK3iJBUh+QjnKr1hVPDpJWM/pRTLYsqs+J3c40eOHJn/F+lwTfLvP/zww2dUXul5iWUodYEyWH+SDImt1UDK/ZTJ0khbzuLBfC4p2Wm8TIn7IMeb64J1sNho2KVnLKWqy0ju5fyGeA/m74orrhg+v0xCk1aMsqBcWWGFFcL3cR9OXZeIx5vfQR2PBHnF84z3qPeX1Xqe8h0cm26qU/ZbIMZNkQw9ZLUhQw8Z1Vh0tS60lqVoiVHnaBGN2fmoGNGT1K2BGMEE5y+FCoUlhXIV2Ef06FCZOfjgg0MhCnpHqurip4AmuKAApfcqxaLOBHp8FpXvs846q22w1I0IMBh6Q2Us9ZICdaFCDoI7MrES8O+yyy6hUkvDz8knn5y8UlsV7i/tVLHAa1U4hxi5wTXDNc51z7IJYBgR2TlT4dxlhAXlGD1KjLqoGkOgGaqWSrEspDeE85ZGpNQt71QwYwBEubztttsmPRZFTHWIyJrI9ZgS51bKxq9ZoaznuPCdqRHYxTUVY2ZWRhERvKZUdRlJ+UTP3tixY2c0jPA7aIRJWUeKw1xB0Mr5mzoQo77SztSpU0PPIWVNimC/XVlPhtbWDKdzsn5dR4yKOPNqaCFhmEoVYorxIn4yXb2pU4yrM7Tycmyo4Bd7LLsJNzHSzPI7uBlUcZOZlZQ9rhHXB8OhaPWjx5IWvlSLrtLTzXIF7C8CllRphftDa5rq1Iu49ydad6lkFJcTUf3iKAhajlP3GoKeQ67F1mpAfI2/KXoRKRf5rIjU+zReMLyO76FhpuyQxXZlIcEevTHMR08h7q8o7rfU+6sudQViBJSk96fBvWpVLV3QqqoykiGOBPr06sR0+HX8JhpcGRqZEqOC6F0Hw50JjuhVrLJBjHOt6jVPU5vrF3SmsC8WnBET65n3EocZSCnR0sO8pG7DfM0TTjghzLFg3Y9ULb0UMwx/asU8qzi/CrRkdYuqF3HvbyRs4Hd1G1pi25X5RSmHXWn2aIDhOomLq9NjwXOGWTLnbYsttgiNsmVRKaaBNaJHLFUjUt16WjQe7DveKzuXi8QWVPBZ74nkI1XhmNPrylBBggqCMoLxFD3sVLzjfoplcZx/HDG0swpVlJEEx+wjhr5y/vL5qQMxhgrSk8s5VmVSE+oPgwcPztZee+3QI0pjJVOFUiKhTcQ5xXy0bmsI7bdArLVlqSgWMilalpjDw2cxoZJWNzaeczJwUhiIqQxar0hmETFHjLkd3dorwkRXJgQzzKL1+iyzQj0JZeJQC4b2UDCDoZbrrbdemDuGW265JfztBsWyoxh8deOxL1ZmwEgBhtzU0bKcWp2LFHc7RobE406jZbs5h/TIpcAICK5zzqmYYZRhkLfffnvp+zCfARIc0JNATztDoF599dUwDIqeReZxVoFWf6ZVpB4G124+JdiPMYApO0eU0Q4MFyRhEtNEqsyWCep2lP8EZfTEMaeKUUss+ks26L5g9MbsMLSvrLrKyDh3GvSMsb9S11NJmsQxIJBnig4NJGypknJFBEYEYPzbWVif5EIknKMenkrrQvH0gBeHVlcVhKfUb4FY3TdLJu3Sgk0lqaiubmzNnWKlmxZdsoDG593aK9I6Z4sJz1RmGNpDpakMMllR3NBiFTO/UfATiHVjY0ix7OB4U3Hi9zH/tIqsc1WKlRmG15KdiyFEBMndXjZy7lJ56tZekTrFyh6Z56igkUwjFcpGKkTcg0n9/ZOf/CRUMlMFYq3zQZjqcOqpp4ZK7aOPPhqClyoaRygf2U8Ef6mGP84KKdpJopIq6zMjH1gWgaRSVMSrymjZE5YbICBgnnWZRrhf/epXIZNhFcN3o7rKSHqJ6RWjR4w6RKp08j1hpAojYdgoL5nrTo8lSULKYh5dzO4NevcoW6iPx4RjZcWygylGJCEhEKPHL0o93LISBGL9gcUJhw8fHjYeDxgwYMbj+F4qzQsoLPDHduGFF+avTtc8iPkjqXPNCnj4GxeLZaHH4t9us/fee4fFj8Giqyzs3KwsNZo3n/BaGXFB5/iXrVkp69prsPjvjucBuvXYg3/7XXfdFRbd5fe98cYbjWnTpoWtm9S1SPHcoBm0hL9c+2gGLY111103PE6lGXQ1mpW88JiFb7fccsvwOC4qW0UZwHFnkXXK5uL1WdY+++wTFiU++OCDG81K84yF76vAfvv617/emDRpUqMZqDRWWWWVxuOPP56/W1489mhW/vNH3WeJJZYIC0ZzPjUDl/zValRdRr7yyiuNc845p9EMWhqvvfZa/mo9+O6f/exnjV122SV/pZwpU6bkj97B57PPUollB8eDOkvKa70u/TpHjBYqhkCRDai5MytrFa8rxbjmPbEHLLbsdnuPWMxmCX4LrWTMH6DX6s477wyvl0HrJz0UXIv0UpC6vsprv0qUXcxF4LeQuCMOJYrnQDfivGUICa2kZABjjgK/j2OWaohaHThfOSZxOQH+7bSSdutxqVK7USHFZSZSKF7jZHxkmDJDuhl2Rcs4UwdYG6uM4pwq5qUw6oYeJMo0ehdSHXtSlrOwNj1J/PsZss18myo0K/1hSBzXIseDOVYpExwxIiEmhKDcj49Br2UK9FYWh/SBYX38NjIdkkK/7PCxOISPfcU+ojcnZlFMbW4pIyPmgsf18FKrYy5aLL+KPWLFhfxT9uxXpd8WdAYXIwv6ffrTnw7DIZhHUgVSfVP48/lxbCpd4gwrMAiT3kHjBAgqacAgCENMl18WjSBkS+QvNzG03qS7BWlzqchUtYh7fygei1ixiJn7ugnleh2LFM8NSKRx/PHHz9g4r1Pfi3fcccfQ6MJcKoZxf+Mb3wgV/ccffzycX2WDMJBkiIxszNUiAKsK626RTZaFbxlOx5C1qparoNwlOGLoHZVl5sClPI9jAxKVWdaP4/PjlgpzjhnKx8bcHYbecT0yP405is8++2zp+XWxzKVxj2PDXOef/exn4bXU5oYykuGBXHugwYJ5gmwsx0AmyFRI609gzDXPlAQyMxZT56cQF4ovDm2lfs+WolypQ78GYksttVTYeay9RARLCwkpQVMjixIZgdhoyZBSYUI453D8282VcNBTPHz48NDTw7pFYF0TCukUSFtLTxJ/uf7RrfuMsefFLWI5jm4TK+FPP/10dvHFF+evdi/mCFEBJFsbG495Te/GArUkfYjboEGDQlCTEtkMWQ6DREZkOSM5Q2rMDyLhQzGBBWUL5zSV/SqQCIT5WjQsse5iasVyl+CI1v1ia39ZV155ZWgQp1JOjyHJFeKWSvEzWXycnlGOFevIcp8hOC+b/THeQwiMpk2bln3rW98KATJriqUyt5SRBPTMbWNpB5K0sO+oIxPAEvDTQMpImBRYMJreTnqPabigoZds0pwLlDvMFy2LxHsEY4ysoycc1C/YyiQYq1O/Dk1sHb5F1zutJgyBii3x0pysNcsUlYBRo0Z17fA0KhO0iFGAxkCJtNIUoAwvKotKBBUXWshpdImLfKbMoqTOXXrppfmj6RhqSwWtm5N1MAy27kWK1X/OOOOMMLyOsoW1CqmIEfCNGTMmvJ8ic17drr322pBEo4ihZKyTxDCssuI6YgwNJWti1WuKPf/88+GeyTCymMiBewvHqUwwFterYrggCxRTfyRJCwk8Uplbykg6PNjv7G96jVhUnXo3ARjPn3jiidAr3vp7UyIpCAl8CPhSB7Uck25bG7hfAzFOBi7GIlovGapIy3wK7cYnt2pdmFUqq1vniFWtmJWRMeOM7deciZbGblxoPS6N0npri6/xt5sW3VXvUHmMSGndmkmx2/S0xE88r1Ocx8U5wfQYF4d3VYGGPr6Tuh8jB2h8J2CiR4ZhcX3F3LC6Fowu6sYykt4o7sPs94suuig0GDMVgSzlDFMkMGZOVx0LfZdFQ0LrNRLL+Pi36nM6hX4NxOpQrPjRXd1uaCInppRCT+eYJEllkCSEeS/M302BoZWMfqAayByn+JgKbFUjOmJijUMOOSTMrSI/AMNWabzsqyoXjJ7bxNE6NBQTbNEzxSgV5nExTYjeRXotGbZaRrFBLP5F8bWyDQnMbwWfFxeLb5UyuU1V5vpArIjEILQAMJ6U8alc/FIZDz74YJgYzGXEUBHmIcahCgyJYcFHSfWpc5FizRmKlT4qkmTiK1ZtUlT6+gNznN73vvflz6YHYmScZMhiCj0tGo12101f0VsZjw+VZe6RDEknCGBRZ67ZFPh8gjyCslQLRs9tqJPQc0gwxtxNFlgGwzrp4WO+IO8zf6+M3iTlINlVWcwzYxQdSWCY49aN5olAjDGow4YNC93gpOVF60JzUl8MGDAgzKViIjU3Lsbvx0CsXVpoSfWJadOrWKRYc6a5aVh4u7nG3bjcB9nyIu6Z9FjVgTlPKRaMnpu8+OKLIenIKqusEjonqAszcoykXKT8Z34d8ytjY1Zf8bl8Bo3VDEMl1GC+OQuf85j3GBJZFstgfOhDHwpLFrCIO5lTu808EYjFwqxYqMXxsFIZ3PSZHEyB1hqIdev6WFK3i3Nf4hwO1pFicr1l/typ2AtK1rwFF1wwPC7qxl7QdkHlkCFDsokTJ+bPpHJiIJY6YRZLiHAtstxDPIeraCQh+Qg9q/R8kh2VbJmsI9lN5qlArHgSGIgphRiIkZHr9NNPD+lgaVmCPWJS/2h37aVepFhzFhq9aA1fbLHF8le6X7sesW67rxQX2m4Ve0bKZEw0IVs5jBJItXh3EcNnWS+QBa/JyMlQR+pKcVRaKlwP1OtHjBgRhlkyPYR0+SyV0C3miUCM8eOMUaa7lb/8ZP6aOUtlFXvEWEySFLB0v8NATOofTNAuLkpLmc8Q9biIqeY+ZEpkrgiLILOu39wwDJVkGsWKK+cxCS6YB9ct4jw0/u3Mbxs7dmx4XlRmPloxIVtPTMg2MwIvzi3KSQIY6ims8xWVnR8G5gLSQ0WgTJ2InAwEzOeff37ImJwKI4+YF8hakfyuq666Kmzkg+gW80QgVkxrW0RgJpVBIEYX/IYbbhi6xhmayLocf/jDH0JrECliJdWL4SmtaDBxjtjcK45yYT7giSeeGBbeZS2kdsMUu0W7ZBoMIWNB5G7EQuEs4Dx16tSw0O8Pf/jD/B3Vackllwx5Ezi/mEdHIEZikwMPPDAETJMnT87/y74jECOrIYFexPpeBHzXXXddtsACC+SvlkNdi2yf/AYav8FaqJtvvnl43A3miUBMqsqZZ54Zsg2xPgopX1kYkSGK48aNC++zsKgkqVqt80/OPffcMKxvTL6gs/rP7rvvnj/KsgsvvDD8pfGSIWRlUYWlV4SEEEwRICDXrBXnr8eRO/H6STW3nWCOLJ+ta7tdcskl2dJLLx2+T9PN9YHY8OHDZzt+OBYMUlkm6JCk+pEFmcQDRWeccUZ2wAEHuJ5UP6PHgp6Q/fffP6QbR8rM1QQTNIBSl3v++efDELVFF100f1etitMm4uM4HzFVHaa4IHkMM3hefOz0oOnm+kCsNwk5bEFRatz8zz777PyZJEnzpqoTpsVFonHTTTeFNOysKbXIIouE1zSzWQVixfdSaF3LkaHDBMojR47MX1HafJVzIC72uLFuwqqrrjrTa2xSX7EeRxGTxGF2NkmS3ukRAfdM5u2TYTgVFoeONt1002zUqFHZN7/5zfwVtWrX/0JPIj2KBEopMV/3nnvuyXbcccewnhs9ld268HJV5vpADA888EBYe4PMOXSHE/HzmlQWk07POuuskKGNia5ktJIkSdMRGIFEHYMGDQqJIUiokkoxIQRIYc7C0W+99Vb+ioraJS0iu+GUKVNmyjZbFr1sBH0xMD7ttNNCVtN//OMf+X8hzBPJOljcjXUkPvOZz4TnLOy45557vmt9DqlTDLVgMjhpWsmeSEtf6xAMSZLmRXGuEFVN/m6xxRZhuBoZhckAyespswtPmjQpZAVkOZnvfOc72RFHHJG/o3a23Xbb7Oqrr86fpUU9iONNnYhMhgcddFBILU/q/LjMj+aRHjEqyDEIA49ff/31/JnUd9xYWET085//fFelS5UkqWqkRycpA3/vvPPO0HtFxX/xxRcPI0hSzuMiLT7rSb344ovhOSnUNWtVBWERdSTq4ARj999/fzgP5qZF11OYJwKxjTfeOFycXJRsPOY1qSxa81jH4uabb86uv/76/FVJkgRGjODvf/97WPIltQsuuCAsFPzlL385JMmiRwzzwICvORpzwjgGp556ajjuBx98cBia6HGZ2TwRiHESMFHw1ltvDetW7LTTTmGsqpQCrXxXXnllduONN+avSJIk7LDDDuHvwIEDsz//+c/hcUqsV0XKdXrEivPC6I1R/6Hna+jQoSGrJWurbrnlluH1zTbbLPzVdHP9HLHi+OSi+Bp/XctAfUWQf8ghh+TPsmyfffbJzjvvPOeISZLUFO+Hb7/9dpizz2OG899+++1J06WTup6EICQC2WSTTbwPqyvME8k6pLqxcOUPf/jD/JkkSfOmuEYVWDCYBnLW/VpggQWyN998M3vsscfCe301YcKEMPzx3HPPDRvJP7bffnsDMXWFuT4QW3755Wd0T7cuLBeRRVGSJElpkSVv9dVXD6OQXnvttaQLBmPfffcNa3d+9rOfzU4//fSQMRHFAFCaU81TPWK0xDCOmAXrmM/Tbi0FSZIkpUEjeLTggguGuWJVoF73gx/8IMzZfs973mMgpq4wTyTrYKwwaJEBEwgdNiZJklQtRiLFraogDAxz3GijjbLnnnsuPK/yu6RU5okesXaTQQnK6MqWJElSd7rsssuyD3/4w2GR4PXXXz+sTzZt2rTsox/9aHjtuOOOy/9Lac4zTwRiH/vYx7K99947fzZ9bYmLL744e/zxx/NXJEmS1G1YN+wrX/lKWEqGpYn22muvkDDr8ssvD5kayc4ozanmiUDsxz/+cf7oHe9973udIyZJktTF4vz/Sy+9NBs0aFBYUoa5YQxTNBDTnG6eStYhSZKkuUecfmIgpm40TyTrkCRJkqQ5iYGYJEmSulJPA7vInvj888/nz6Q5k4GYJEmSulLrfP/99tsv/N1tt92y4cOHh8fSnMo5YpIkSepqV199dfbxj388W2211fJXpDmfgZgkSZIk1cyhiZIkSZJUMwMxSZIkSaqZgZgkSZIk1cxATJIkSZJqlWX/H+2tLOT6ZdeGAAAAAElFTkSuQmCC)"
      ],
      "metadata": {
        "id": "QcT5dl9UCZdS"
      },
      "id": "QcT5dl9UCZdS"
    }
  ],
  "metadata": {
    "kernelspec": {
      "display_name": "Python 3",
      "language": "python",
      "name": "python3"
    },
    "language_info": {
      "codemirror_mode": {
        "name": "ipython",
        "version": 3
      },
      "file_extension": ".py",
      "mimetype": "text/x-python",
      "name": "python",
      "nbconvert_exporter": "python",
      "pygments_lexer": "ipython3",
      "version": "3.8.8"
    },
    "toc": {
      "base_numbering": 1,
      "nav_menu": {},
      "number_sections": true,
      "sideBar": true,
      "skip_h1_title": false,
      "title_cell": "Table of Contents",
      "title_sidebar": "Contents",
      "toc_cell": false,
      "toc_position": {},
      "toc_section_display": true,
      "toc_window_display": false
    },
    "colab": {
      "name": "취업_초급 7조_패스트캠퍼스_데이터분석.ipynb",
      "provenance": [],
      "collapsed_sections": [],
      "toc_visible": true,
      "include_colab_link": true
    }
  },
  "nbformat": 4,
  "nbformat_minor": 5
}