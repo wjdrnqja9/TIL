{
  "nbformat": 4,
  "nbformat_minor": 0,
  "metadata": {
    "colab": {
      "name": "baekjoon_step8.ipynb",
      "provenance": [],
      "collapsed_sections": [],
      "authorship_tag": "ABX9TyNROBtPW5f9FJvED/bvqzHA",
      "include_colab_link": true
    },
    "kernelspec": {
      "name": "python3",
      "display_name": "Python 3"
    },
    "language_info": {
      "name": "python"
    }
  },
  "cells": [
    {
      "cell_type": "markdown",
      "metadata": {
        "id": "view-in-github",
        "colab_type": "text"
      },
      "source": [
        "<a href=\"https://colab.research.google.com/github/wjdrnqja9/TIL/blob/main/algorithm/baekjoon/baekjoon_step8.ipynb\" target=\"_parent\"><img src=\"https://colab.research.google.com/assets/colab-badge.svg\" alt=\"Open In Colab\"/></a>"
      ]
    },
    {
      "cell_type": "markdown",
      "source": [
        "#####1978. 주어진 수 N개 중에서 소수가 몇 개인지 찾아서 출력하는 프로그램을 작성하시오."
      ],
      "metadata": {
        "id": "lil37dpWUui8"
      }
    },
    {
      "cell_type": "code",
      "source": [
        "n = int(input())\n",
        "\n",
        "a = list(map(int,(input().split())))\n",
        "b = []\n",
        "\n",
        "prime=[2, 3, 5, 7, 11, 13, 17, 19, 23, 29, 31, 37, 41, 43, 47, 53, 59, 61, 67, 71, 73, 79, 83, 89, 97, 101, 103, 107, 109, 113, 127, 131, 137, 139, 149, 151, 157, 163, 167, 173, 179, 181, 191, 193, 197, 199,211, 223, 227, 229, 233, 239, 241, 251, 257, 263, 269, 271, 277, 281, 283, 293,307, 311, 313, 317, 331, 337, 347, 349, 353, 359, 367, 373, 379, 383, 389, 397,401, 409, 419, 421, 431, 433, 439, 443, 449, 457, 461, 463, 467, 479, 487, 491, 499,503, 509, 521, 523, 541, 547, 557, 563, 569, 571, 577, 587, 593, 599,601, 607, 613, 617, 619, 631, 641, 643, 647, 653, 659, 661, 673, 677, 683, 691,701, 709, 719, 727, 733, 739, 743, 751, 757, 761, 769, 773, 787, 797,809, 811, 821, 823, 827, 829, 839, 853, 857, 859, 863, 877, 881, 883, 887,907, 911, 919, 929, 937, 941, 947, 953, 967, 971, 977, 983, 991, 997]\n",
        "\n",
        "for i in range(n):\n",
        "    if a[i] in prime:        \n",
        "        b.append(a[i])\n",
        "        \n",
        "print(len(b))"
      ],
      "metadata": {
        "colab": {
          "base_uri": "https://localhost:8080/"
        },
        "id": "BmP3PfIlXVN7",
        "outputId": "950d5c01-e17a-4cb8-d055-96a74912fbc2"
      },
      "execution_count": null,
      "outputs": [
        {
          "output_type": "stream",
          "name": "stdout",
          "text": [
            "4\n",
            "1 3 5 7\n",
            "3\n"
          ]
        }
      ]
    },
    {
      "cell_type": "code",
      "source": [
        "[6,7,8,9,10,11,12,13,14,15,16,17,18,19,20,21,22,23,24,25,26,27,28,29,30,31,32,33,34,35,36,37,38,39,40,41,42,43,44,45,46,47,48,49,50,51,52,53,54,55,56,57,58,59,60,61,62,63,64,65,66,67,68,69,70,71,72,73,74,75,76,77,78,79,80,81,82,83,84,85,86,87,88,89,90,91,92,93,94,95,96,97,98,99,100,101,102,103,104,105,106,107,108,109,110,111,112,114,234,235,236,237,238,239,240,241,242,243,244,245,246,247,248,249,250,251,252,253,254,255,256,257,258,259,260,261,262,263,264,265,266,267,268,269,270,271,272,273,274,275,276,277,278,279,280,281,282,283,284,285,286,287,288,289,290,291,292,293,294,295,296,297,299,303,328,329,330,331,332,333,334,335,336,337,338,339,340,341,342,343,344,345,346,347,348,349,350,351,352,353,354,355,356,357,358,359,360,361,362,363,364,365,366,367,368,369,370,371,372,373,374,375,376,377,378,379,380,381,382,383,384,385,386,387,388,389,390,391,393,397,415,416,417,418,419,420,421,422,423,424,425,426,427,428,429,430,431,432,433,434,435,436,437,438,439,440,441,442,443,444,445,446,447,448,449,450,451,452,453,454,455,456,457,458,459,460,461,462,463,464,465,466,467,468,469,470,471,472,473,474,475,476,477,478,479,480,481,482,484,488,508,557,558,559,560,561,562,563,564,565,566,567,568,569,570,571,572,573,574,575,576,578,582,602,644,645,646,647,648,649,650,651,652,653,654,655,656,657,658,659,660,661,662,663,665,669,689,738,739,740,741,742,743,744,745,746,747,748,749,750,751,752,753,754,755,756,757,759,763,783,825,826,827,828,829,830,831,832,833,834,835,836,837,838,839,840,841,842,843,844,846,850,968]"
      ],
      "metadata": {
        "id": "rw5Uv9vhLQ-3"
      },
      "execution_count": null,
      "outputs": []
    },
    {
      "cell_type": "code",
      "source": [
        "n = int(input())\n",
        "numbers = map(int, input().split())\n",
        "prime = 0\n",
        "for num in numbers:\n",
        "    error = 0\n",
        "    if num > 1 :\n",
        "        for i in range(2, num//2+1):\n",
        "            if num % i == 0:\n",
        "                error += 1\n",
        "        if error == 0:\n",
        "            prime += 1\n",
        "print(prime)"
      ],
      "metadata": {
        "colab": {
          "base_uri": "https://localhost:8080/"
        },
        "id": "-Yj5CX9_dSxd",
        "outputId": "853cba6c-924e-4c02-d869-2a65a9e2b706"
      },
      "execution_count": null,
      "outputs": [
        {
          "output_type": "stream",
          "name": "stdout",
          "text": [
            "1\n",
            "6,7,8,9,10,11,12,13,14,15,16,17,18,19,20,21,22,23,24,25,26,27,28,29,30,31,32,33,34,35,36,37,38,39,40,41,42,43,44,45,46,47,48,49,50,51,52,53,54,55,56,57,58,59,60,61,62,63,64,65,66,67,68,69,70,71,72,73,74,75,76,77,78,79,80,81,82,83,84,85,86,87,88,89,90,91,92,93,94,95,96,97,98,99,100,101,102,103,104,105,106,107,108,109,110,111,112,114,234,235,236,237,238,239,240,241,242,243,244,245,246,247,248,249,250,251,252,253,254,255,256,257,258,259,260,261,262,263,264,265,266,267,268,269,270,271,272,273,274,275,276,277,278,279,280,281,282,283,284,285,286,287,288,289,290,291,292,293,294,295,296,297,299,303,328,329,330,331,332,333,334,335,336,337,338,339,340,341,342,343,344,345,346,347,348,349,350,351,352,353,354,355,356,357,358,359,360,361,362,363,364,365,366,367,368,369,370,371,372,373,374,375,376,377,378,379,380,381,382,383,384,385,386,387,388,389,390,391,393,397,415,416,417,418,419,420,421,422,423,424,425,426,427,428,429,430,431,432,433,434,435,436,437,438,439,440,441,442,443,444,445,446,447,448,449,450,451,452,453,454,455,456,457,458,459,460,461,462,463,464,465,466,467,468,469,470,471,472,473,474,475,476,477,478,479,480,481,482,484,488,508,557,558,559,560,561,562,563,564,565,566,567,568,569,570,571,572,573,574,575,576,578,582,602,644,645,646,647,648,649,650,651,652,653,654,655,656,657,658,659,660,661,662,663,665,669,689,738,739,740,741,742,743,744,745,746,747,748,749,750,751,752,753,754,755,756,757,759,763,783,825,826,827,828,829,830,831,832,833,834,835,836,837,838,839,840,841,842,843,844,846,850,968\n",
            "76\n"
          ]
        }
      ]
    },
    {
      "cell_type": "markdown",
      "source": [
        "2581. 자연수 M과 N이 주어질 때 M이상 N이하의 자연수 중 소수인 것을 모두 골라 이들 소수의 합과 최솟값을 찾는 프로그램을 작성하시오.\n",
        "\n",
        "예를 들어 M=60, N=100인 경우 60이상 100이하의 자연수 중 소수는 61, 67, 71, 73, 79, 83, 89, 97 총 8개가 있으므로, 이들 소수의 합은 620이고, 최솟값은 61이 된다."
      ],
      "metadata": {
        "id": "iEcU6DnJAyHH"
      }
    },
    {
      "cell_type": "code",
      "source": [
        "M = int(input())\n",
        "N = int(input())\n",
        "prime=[]\n",
        "for i in range(M,N+1):\n",
        "    prime.append(i)\n",
        "if 1 in prime:\n",
        "    prime.remove(1)\n",
        "\n",
        "for i in range(M,N+1):\n",
        "    for j in range(2, i//2+1):\n",
        "        if i%j == 0:\n",
        "            prime.remove(i)\n",
        "            break\n",
        "            \n",
        "if len(prime) != 0:\n",
        "    print(sum(prime))\n",
        "    print(min(prime))\n",
        "\n",
        "else:\n",
        "        print(-1)"
      ],
      "metadata": {
        "id": "eqyrCIuTc_2p",
        "colab": {
          "base_uri": "https://localhost:8080/"
        },
        "outputId": "12ff7697-c91a-4bee-dd72-bc9ce785a79a"
      },
      "execution_count": null,
      "outputs": [
        {
          "output_type": "stream",
          "name": "stdout",
          "text": [
            "60\n",
            "100\n",
            "620\n",
            "61\n"
          ]
        }
      ]
    },
    {
      "cell_type": "markdown",
      "source": [
        "11653. 정수 N이 주어졌을 때, 소인수분해하는 프로그램을 작성하시오."
      ],
      "metadata": {
        "id": "1-p6l1V1MXf2"
      }
    },
    {
      "cell_type": "code",
      "source": [
        "N = int(input()) # 시간 초과\n",
        "prime=[]\n",
        "\n",
        "for i in range(2,N+1):\n",
        "    prime.append(i)\n",
        "\n",
        "for i in range(2,N+1):\n",
        "    for j in range(2, i//2+1):\n",
        "        if i%j == 0:\n",
        "            prime.remove(i)\n",
        "            break\n",
        "\n",
        "i=0\n",
        "\n",
        "while N != 1:\n",
        "\n",
        "    if N % prime[i] == 0:\n",
        "\n",
        "        print(prime[i])\n",
        "        N = N//prime[i]\n",
        "\n",
        "    else:\n",
        "        i+=1"
      ],
      "metadata": {
        "colab": {
          "base_uri": "https://localhost:8080/"
        },
        "id": "F2Br1sABkjTo",
        "outputId": "e6888c07-bc7c-4219-e7de-103c7bd151ff"
      },
      "execution_count": null,
      "outputs": [
        {
          "output_type": "stream",
          "name": "stdout",
          "text": [
            "9991\n",
            "97\n",
            "103\n"
          ]
        }
      ]
    },
    {
      "cell_type": "code",
      "source": [
        "N = int(input())\n",
        "while N != 1:\n",
        "    for i in range(2, N+1):\n",
        "        if N % i == 0:\n",
        "            print(i)\n",
        "            N = N // i\n",
        "            break"
      ],
      "metadata": {
        "colab": {
          "base_uri": "https://localhost:8080/"
        },
        "id": "dSpPXQVRFfxs",
        "outputId": "b2242829-2b4b-42de-ecc2-c53e71de1233"
      },
      "execution_count": null,
      "outputs": [
        {
          "output_type": "stream",
          "name": "stdout",
          "text": [
            "72\n",
            "2\n",
            "2\n",
            "2\n",
            "3\n",
            "3\n"
          ]
        }
      ]
    },
    {
      "cell_type": "code",
      "source": [
        "M, N = map(int, input().split()) # 시간  초과\n",
        "\n",
        "prime=[]\n",
        "for i in range(M,N+1):\n",
        "    prime.append(i)\n",
        "if 1 in prime:\n",
        "    prime.remove(1)\n",
        "\n",
        "for i in range(M,N+1):\n",
        "    for j in range(2, i//2+1):\n",
        "        if i%j == 0:\n",
        "            prime.remove(i)\n",
        "            break\n",
        "\n",
        "for i in prime:\n",
        "    print(i)"
      ],
      "metadata": {
        "colab": {
          "base_uri": "https://localhost:8080/"
        },
        "id": "UHZirihznGNZ",
        "outputId": "b7a6c23c-3f73-44df-d708-3ba70f0b2e76"
      },
      "execution_count": null,
      "outputs": [
        {
          "output_type": "stream",
          "name": "stdout",
          "text": [
            "3 16\n",
            "3\n",
            "5\n",
            "7\n",
            "11\n",
            "13\n"
          ]
        }
      ]
    },
    {
      "cell_type": "code",
      "source": [
        "strings = ['ab', 'ba', 'ac']\n",
        "n = 1"
      ],
      "metadata": {
        "id": "3P3neM1iR7Xk"
      },
      "execution_count": null,
      "outputs": []
    },
    {
      "cell_type": "code",
      "source": [
        "strings.sort()\n",
        "strings"
      ],
      "metadata": {
        "colab": {
          "base_uri": "https://localhost:8080/"
        },
        "id": "_6BKuTbKSb20",
        "outputId": "8c068687-241f-4d8e-b8ed-36668af8a418"
      },
      "execution_count": null,
      "outputs": [
        {
          "output_type": "execute_result",
          "data": {
            "text/plain": [
              "['ab', 'ac', 'ba']"
            ]
          },
          "metadata": {},
          "execution_count": 12
        }
      ]
    },
    {
      "cell_type": "code",
      "source": [
        "\n",
        "strings[i][n].sort()\n"
      ],
      "metadata": {
        "colab": {
          "base_uri": "https://localhost:8080/",
          "height": 35
        },
        "id": "3vvsMzstR6dV",
        "outputId": "db784ff4-e210-4b95-9af8-51a75f4ae978"
      },
      "execution_count": null,
      "outputs": [
        {
          "output_type": "execute_result",
          "data": {
            "text/plain": [
              "'a'"
            ],
            "application/vnd.google.colaboratory.intrinsic+json": {
              "type": "string"
            }
          },
          "metadata": {},
          "execution_count": 7
        }
      ]
    },
    {
      "cell_type": "code",
      "source": [
        "def solution(n):\n",
        "    answer = 0\n",
        "    a = 0\n",
        "    for i in range(2, n+1):\n",
        "        for j in range(2, i+1):\n",
        "            if i % j  == 0:\n",
        "                a+=1\n",
        "        if a == 1:\n",
        "            answer+=1\n",
        "            a = 0\n",
        "    return answer"
      ],
      "metadata": {
        "id": "CdWQRNfNSE31"
      },
      "execution_count": null,
      "outputs": []
    },
    {
      "cell_type": "code",
      "source": [
        "n = 10"
      ],
      "metadata": {
        "id": "Vt_4ry1so05u"
      },
      "execution_count": null,
      "outputs": []
    },
    {
      "cell_type": "code",
      "source": [
        "answer = 0\n",
        "a = 0\n",
        "for i in range(2, n+1):\n",
        "    for j in range(2, i+1):\n",
        "        if i % j  == 0:\n",
        "            a+=1\n",
        "    if a == 1:\n",
        "        answer+=1\n",
        "        a = 0\n",
        "answer"
      ],
      "metadata": {
        "colab": {
          "base_uri": "https://localhost:8080/"
        },
        "id": "OTuogbhborrH",
        "outputId": "c16754eb-39b6-4294-b5df-a3c11fa32a64"
      },
      "execution_count": null,
      "outputs": [
        {
          "output_type": "execute_result",
          "data": {
            "text/plain": [
              "2"
            ]
          },
          "metadata": {},
          "execution_count": 6
        }
      ]
    }
  ]
}