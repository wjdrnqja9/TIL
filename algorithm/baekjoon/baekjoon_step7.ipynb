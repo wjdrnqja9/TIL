{
  "nbformat": 4,
  "nbformat_minor": 0,
  "metadata": {
    "colab": {
      "name": "baekjoon_step7.ipynb",
      "provenance": [],
      "collapsed_sections": [],
      "authorship_tag": "ABX9TyNGyROUDFOxgn8KG4os0P3s",
      "include_colab_link": true
    },
    "kernelspec": {
      "name": "python3",
      "display_name": "Python 3"
    },
    "language_info": {
      "name": "python"
    }
  },
  "cells": [
    {
      "cell_type": "markdown",
      "metadata": {
        "id": "view-in-github",
        "colab_type": "text"
      },
      "source": [
        "<a href=\"https://colab.research.google.com/github/wjdrnqja9/TIL/blob/main/algorithm/baekjoon/baekjoon_step7.ipynb\" target=\"_parent\"><img src=\"https://colab.research.google.com/assets/colab-badge.svg\" alt=\"Open In Colab\"/></a>"
      ]
    },
    {
      "cell_type": "markdown",
      "source": [
        "#####1712. 월드전자는 노트북을 제조하고 판매하는 회사이다. 노트북 판매 대수에 상관없이 매년 임대료, 재산세, 보험료, 급여 등 A만원의 고정 비용이 들며, 한 대의 노트북을 생산하는 데에는 재료비와 인건비 등 총 B만원의 가변 비용이 든다고 한다.\n",
        "\n",
        "예를 들어 A=1,000, B=70이라고 하자. 이 경우 노트북을 한 대 생산하는 데는 총 1,070만원이 들며, 열 대 생산하는 데는 총 1,700만원이 든다.\n",
        "\n",
        "노트북 가격이 C만원으로 책정되었다고 한다. 일반적으로 생산 대수를 늘려 가다 보면 어느 순간 총 수입(판매비용)이 총 비용(=고정비용+가변비용)보다 많아지게 된다. 최초로 총 수입이 총 비용보다 많아져 이익이 발생하는 지점을 손익분기점(BREAK-EVEN POINT)이라고 한다.\n",
        "\n",
        "A, B, C가 주어졌을 때, 손익분기점을 구하는 프로그램을 작성하시오."
      ],
      "metadata": {
        "id": "2WGnvyq078Cd"
      }
    },
    {
      "cell_type": "code",
      "execution_count": null,
      "metadata": {
        "id": "yfO1uB86488r"
      },
      "outputs": [],
      "source": [
        "A, B, C = map(int, input().split())\n",
        "n = 1\n",
        "\n",
        "if B >= C:\n",
        "    print(-1)\n",
        "\n",
        "else:\n",
        "    print(int(A/(C-B) +1))"
      ]
    },
    {
      "cell_type": "markdown",
      "source": [
        "#####2292. 육각형으로 이루어진 벌집이 있다. 그림에서 보는 바와 같이 중앙의 방 1부터 시작해서 이웃하는 방에 돌아가면서 1씩 증가하는 번호를 주소로 매길 수 있다. 숫자 N이 주어졌을 때, 벌집의 중앙 1에서 N번 방까지 최소 개수의 방을 지나서 갈 때 몇 개의 방을 지나가는지(시작과 끝을 포함하여)를 계산하는 프로그램을 작성하시오. 예를 들면, 13까지는 3개, 58까지는 5개를 지난다."
      ],
      "metadata": {
        "id": "hMXNk4O-CWiz"
      }
    },
    {
      "cell_type": "code",
      "source": [
        "A = int(input())\n",
        "n = 1\n",
        "cnt = 1\n",
        "while A > n:\n",
        "    n += 6 * cnt\n",
        "    cnt += 1\n",
        "print(cnt)"
      ],
      "metadata": {
        "id": "Ut21rGltbSqi"
      },
      "execution_count": null,
      "outputs": []
    },
    {
      "cell_type": "markdown",
      "source": [
        "#####1193. 무한히 큰 배열에 다음과 같이 분수들이 적혀있다.\n",
        "\n",
        "이와 같이 나열된 분수들을 1/1 → 1/2 → 2/1 → 3/1 → 2/2 → 1/3 → 1/4 → 2/3 → 3/2 → 4/1 → 5/1 → 4/2 → 3/3 → 2/4 → 1/5 → 1/6 → … 과 같은 지그재그 순서로 차례대로 1번, 2번, 3번, 4번, 5번, … 분수라고 하자.\n",
        "\n",
        "X가 주어졌을 때, X번째 분수를 구하는 프로그램을 작성하시오."
      ],
      "metadata": {
        "id": "UMdo6u2vcf0U"
      }
    },
    {
      "cell_type": "code",
      "source": [
        "N = int(input())\n",
        "cnt = 1\n",
        "\n",
        "while True:\n",
        "    if N > cnt:\n",
        "\n",
        "        N -= cnt\n",
        "        cnt += 1\n",
        "\n",
        "    else:\n",
        "        break\n",
        "\n",
        "if cnt % 2 == 0:\n",
        "    print(f'{N}/{cnt - (N - 1)}')\n",
        "else:\n",
        "    print(f'{cnt - (N - 1)}/{N}')"
      ],
      "metadata": {
        "id": "_-0sTr4EbXYM"
      },
      "execution_count": null,
      "outputs": []
    },
    {
      "cell_type": "markdown",
      "source": [
        "#####2869. 땅 위에 달팽이가 있다. 이 달팽이는 높이가 V미터인 나무 막대를 올라갈 것이다.\n",
        "\n",
        "달팽이는 낮에 A미터 올라갈 수 있다. 하지만, 밤에 잠을 자는 동안 B미터 미끄러진다. 또, 정상에 올라간 후에는 미끄러지지 않는다.\n",
        "\n",
        "달팽이가 나무 막대를 모두 올라가려면, 며칠이 걸리는지 구하는 프로그램을 작성하시오."
      ],
      "metadata": {
        "id": "0DX1R5jxgqXG"
      }
    },
    {
      "cell_type": "code",
      "source": [
        "A, B, V = map(int, input().split())\n",
        "d = 0\n",
        "h = 0\n",
        "while V > h:\n",
        "    h += A\n",
        "    if V > h:\n",
        "        h -= B\n",
        "    d += 1\n",
        "print(d)"
      ],
      "metadata": {
        "id": "Y_jq1_2Id5V_"
      },
      "execution_count": null,
      "outputs": []
    },
    {
      "cell_type": "code",
      "source": [
        "A, B, V = map(int, input().split())\n",
        "\n",
        "n = (V-A)/(A-B) +1\n",
        "\n",
        "if (V-A)%(A-B) == 0:\n",
        "    print(int(n))\n",
        "else:\n",
        "    print(int(n)+1)"
      ],
      "metadata": {
        "id": "bABddN4BiUdB"
      },
      "execution_count": null,
      "outputs": []
    },
    {
      "cell_type": "markdown",
      "source": [
        "#####10250. ACM 호텔 매니저 지우는 손님이 도착하는 대로 빈 방을 배정하고 있다. 고객 설문조사에 따르면 손님들은 호텔 정문으로부터 걸어서 가장 짧은 거리에 있는 방을 선호한다고 한다. 여러분은 지우를 도와 줄 프로그램을 작성하고자 한다. 즉 설문조사 결과 대로 호텔 정문으로부터 걷는 거리가 가장 짧도록 방을 배정하는 프로그램을 작성하고자 한다.\n",
        "\n",
        "문제를 단순화하기 위해서 호텔은 직사각형 모양이라고 가정하자. 각 층에 W 개의 방이 있는 H 층 건물이라고 가정하자 (1 ≤ H, W ≤ 99). 그리고 엘리베이터는 가장 왼쪽에 있다고 가정하자(그림 1 참고). 이런 형태의 호텔을 H × W 형태 호텔이라고 부른다. 호텔 정문은 일층 엘리베이터 바로 앞에 있는데, 정문에서 엘리베이터까지의 거리는 무시한다. 또 모든 인접한 두 방 사이의 거리는 같은 거리(거리 1)라고 가정하고 호텔의 정면 쪽에만 방이 있다고 가정한다.\n",
        "\n"
      ],
      "metadata": {
        "id": "ssYOY6BoL2QI"
      }
    },
    {
      "cell_type": "code",
      "source": [
        "n = int(input())\n",
        "\n",
        "for i in range(n):\n",
        "    room=[]\n",
        "    H, W, N = map(int, input().split())\n",
        "\n",
        "    for i in range(W):\n",
        "        for j in range(H):\n",
        "            room.append((j+1)*100+(i+1))\n",
        "\n",
        "    print(room[N-1])"
      ],
      "metadata": {
        "colab": {
          "base_uri": "https://localhost:8080/"
        },
        "id": "GU8GBF4FMCzH",
        "outputId": "ec6e4351-98d5-4faf-be23-204c41d8108d"
      },
      "execution_count": 42,
      "outputs": [
        {
          "output_type": "stream",
          "name": "stdout",
          "text": [
            "2\n",
            "6 12 10\n",
            "402\n",
            "30 50 72\n",
            "1203\n"
          ]
        }
      ]
    },
    {
      "cell_type": "markdown",
      "source": [
        "#####2775. 평소 반상회에 참석하는 것을 좋아하는 주희는 이번 기회에 부녀회장이 되고 싶어 각 층의 사람들을 불러 모아 반상회를 주최하려고 한다.\n",
        "\n",
        "이 아파트에 거주를 하려면 조건이 있는데, “a층의 b호에 살려면 자신의 아래(a-1)층의 1호부터 b호까지 사람들의 수의 합만큼 사람들을 데려와 살아야 한다” 는 계약 조항을 꼭 지키고 들어와야 한다.\n",
        "\n",
        "아파트에 비어있는 집은 없고 모든 거주민들이 이 계약 조건을 지키고 왔다고 가정했을 때, 주어지는 양의 정수 k와 n에 대해 k층에 n호에는 몇 명이 살고 있는지 출력하라. 단, 아파트에는 0층부터 있고 각층에는 1호부터 있으며, 0층의 i호에는 i명이 산다."
      ],
      "metadata": {
        "id": "Jmf-mYHGVNvW"
      }
    },
    {
      "cell_type": "code",
      "source": [
        "T = int(input())\n",
        "sum1=0\n",
        "sum2=0\n",
        "for i in range(T):\n",
        "    k = int(input())\n",
        "    n = int(input())\n",
        "    for i in range(k):\n",
        "        \n",
        "        for i in range(n):\n",
        "            sum1+=n\n",
        "            n-=1\n",
        "    "
      ],
      "metadata": {
        "colab": {
          "base_uri": "https://localhost:8080/"
        },
        "id": "IMED7YuFWP71",
        "outputId": "55c09edd-95b5-4c49-c313-6f11b8a49245"
      },
      "execution_count": 66,
      "outputs": [
        {
          "name": "stdout",
          "output_type": "stream",
          "text": [
            "1\n",
            "2\n",
            "3\n"
          ]
        }
      ]
    },
    {
      "cell_type": "code",
      "source": [
        "for i in range(k):  \n",
        "    for j in range(n):\n",
        "        j+=1\n",
        "        sum1+=j\n",
        "        print(sum1)\n",
        "    sum2+=sum1\n",
        "    print(sum2)"
      ],
      "metadata": {
        "colab": {
          "base_uri": "https://localhost:8080/"
        },
        "id": "RRA-B4QCZKDj",
        "outputId": "676d46ec-fc63-4a16-9824-6838416081b9"
      },
      "execution_count": 89,
      "outputs": [
        {
          "output_type": "stream",
          "name": "stdout",
          "text": [
            "1\n",
            "3\n",
            "6\n",
            "6\n",
            "7\n",
            "9\n",
            "12\n",
            "18\n"
          ]
        }
      ]
    },
    {
      "cell_type": "code",
      "source": [
        "sum1=0\n",
        "sum2=0\n",
        "n=3"
      ],
      "metadata": {
        "id": "yOUMHtqiZKfO"
      },
      "execution_count": 88,
      "outputs": []
    }
  ]
}