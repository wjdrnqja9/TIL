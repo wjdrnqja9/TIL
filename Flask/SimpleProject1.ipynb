{
  "cells": [
    {
      "cell_type": "markdown",
      "metadata": {
        "id": "view-in-github",
        "colab_type": "text"
      },
      "source": [
        "<a href=\"https://colab.research.google.com/github/wjdrnqja9/TIL/blob/main/Flask/SimpleProject1.ipynb\" target=\"_parent\"><img src=\"https://colab.research.google.com/assets/colab-badge.svg\" alt=\"Open In Colab\"/></a>"
      ]
    },
    {
      "cell_type": "markdown",
      "id": "6b8d9aeb",
      "metadata": {
        "id": "6b8d9aeb"
      },
      "source": [
        "## 참고: https://hleecaster.com/ml-linear-regression-example/"
      ]
    },
    {
      "cell_type": "markdown",
      "id": "d24584ff",
      "metadata": {
        "id": "d24584ff"
      },
      "source": [
        "## 라이브러리 설치, 호출"
      ]
    },
    {
      "cell_type": "markdown",
      "id": "18631f15",
      "metadata": {
        "id": "18631f15"
      },
      "source": [
        "!pip3 install -U scikit-learn<br>\n",
        "!pip3 install pandas<br>\n",
        "!pip3 install numpy<br>\n",
        "!pip3 install matplotlib<br>\n",
        "!pip3 install statsmodels<br>"
      ]
    },
    {
      "cell_type": "code",
      "execution_count": 1,
      "id": "4a912728",
      "metadata": {
        "colab": {
          "base_uri": "https://localhost:8080/"
        },
        "id": "4a912728",
        "outputId": "b1a7e988-7db6-4d85-ddf6-c134e98cd030"
      },
      "outputs": [
        {
          "output_type": "stream",
          "name": "stderr",
          "text": [
            "/usr/local/lib/python3.7/dist-packages/statsmodels/tools/_testing.py:19: FutureWarning: pandas.util.testing is deprecated. Use the functions in the public API at pandas.testing instead.\n",
            "  import pandas.util.testing as tm\n"
          ]
        }
      ],
      "source": [
        "import tensorflow as tf\n",
        "import pandas as pd\n",
        "import numpy as np\n",
        "import matplotlib.pyplot as plt\n",
        "import statsmodels.api as sm\n",
        "\n",
        "from tensorflow.keras.models import Sequential, load_model\n",
        "from tensorflow.keras.layers import Dense\n",
        "from tensorflow.keras.optimizers import SGD, Adam\n",
        "from tensorflow.keras.callbacks import ModelCheckpoint, TensorBoard, ReduceLROnPlateau"
      ]
    },
    {
      "cell_type": "markdown",
      "id": "774d835d",
      "metadata": {
        "id": "774d835d"
      },
      "source": [
        "## 데이터 다운로드 (특별할인 판매)"
      ]
    },
    {
      "cell_type": "code",
      "execution_count": 2,
      "id": "3b6fe09e",
      "metadata": {
        "colab": {
          "base_uri": "https://localhost:8080/"
        },
        "id": "3b6fe09e",
        "outputId": "9645306e-6c82-4ac9-a648-b467149bf76d"
      },
      "outputs": [
        {
          "output_type": "stream",
          "name": "stdout",
          "text": [
            "         date weekday  busy_day  high_temperature  special_sales\n",
            "0  2002-08-05     Mon         0                28              1\n",
            "1  2002-08-06     Tue         0                24              0\n",
            "2  2002-08-07     Wed         1                26              0\n",
            "3  2002-08-08     Thu         0                24              0\n",
            "4  2002-08-09     Fri         0                23              0\n",
            "(21, 5)\n"
          ]
        }
      ],
      "source": [
        "import pandas as pd\n",
        "df = pd.read_csv('https://raw.githubusercontent.com/jmnote/zdata/master/logistic-regression/special-sales.csv')\n",
        "print(df.head())\n",
        "print(df.shape)"
      ]
    },
    {
      "cell_type": "markdown",
      "id": "fae03042",
      "metadata": {
        "id": "fae03042"
      },
      "source": [
        "## Input, Feature 설정"
      ]
    },
    {
      "cell_type": "code",
      "execution_count": 3,
      "id": "cbcf321e",
      "metadata": {
        "id": "cbcf321e"
      },
      "outputs": [],
      "source": [
        "Label = df['special_sales']\n",
        "InputFeature = df[['busy_day','high_temperature']]"
      ]
    },
    {
      "cell_type": "markdown",
      "id": "6b9edb19",
      "metadata": {
        "id": "6b9edb19"
      },
      "source": [
        "## Keras Logit 모델 fitting"
      ]
    },
    {
      "cell_type": "code",
      "execution_count": 4,
      "id": "121e6d12",
      "metadata": {
        "id": "121e6d12"
      },
      "outputs": [],
      "source": [
        "model = Sequential()\n",
        "model.add(Dense(3, activation='linear', input_shape=(2,)))\n",
        "model.add(Dense(1, activation='sigmoid'))\n",
        "\n",
        "model.compile(loss='binary_crossentropy',\n",
        "              optimizer=Adam(learning_rate=0.01), metrics=['accuracy'])"
      ]
    },
    {
      "cell_type": "markdown",
      "id": "7d2abf85",
      "metadata": {
        "id": "7d2abf85"
      },
      "source": [
        "## Keras 모델 살펴보기"
      ]
    },
    {
      "cell_type": "code",
      "execution_count": 5,
      "id": "b2b1df1f",
      "metadata": {
        "colab": {
          "base_uri": "https://localhost:8080/"
        },
        "id": "b2b1df1f",
        "outputId": "6cb2f176-994f-4ee1-e760-354500427ec0"
      },
      "outputs": [
        {
          "output_type": "stream",
          "name": "stdout",
          "text": [
            "Model: \"sequential\"\n",
            "_________________________________________________________________\n",
            " Layer (type)                Output Shape              Param #   \n",
            "=================================================================\n",
            " dense (Dense)               (None, 3)                 9         \n",
            "                                                                 \n",
            " dense_1 (Dense)             (None, 1)                 4         \n",
            "                                                                 \n",
            "=================================================================\n",
            "Total params: 13\n",
            "Trainable params: 13\n",
            "Non-trainable params: 0\n",
            "_________________________________________________________________\n"
          ]
        }
      ],
      "source": [
        "model.summary()"
      ]
    },
    {
      "cell_type": "markdown",
      "id": "fef88762",
      "metadata": {
        "id": "fef88762"
      },
      "source": [
        "## Call-back 함수\n",
        "## 모델 학습"
      ]
    },
    {
      "cell_type": "code",
      "execution_count": 6,
      "id": "e84e8e7b",
      "metadata": {
        "id": "e84e8e7b"
      },
      "outputs": [],
      "source": [
        "# Call-back 함수\n",
        "# CheckPoint: Epoch 마다 validation 성능을 검증하여, best performance 일 경우 저장\n",
        "CP = ModelCheckpoint(filepath='-{epoch:03d}-{loss:.4f}-{accuracy:.4f}.hdf5',\n",
        "            monitor='loss', verbose=1, save_best_only=True, mode='min')\n",
        "\n",
        "# Learning Rate 줄여나가기\n",
        "LR = ReduceLROnPlateau(monitor='loss',factor=0.8,patience=3, verbose=1, min_lr=1e-8)\n",
        "\n",
        "CALLBACK = [CP, LR]"
      ]
    },
    {
      "cell_type": "code",
      "execution_count": 7,
      "id": "f681b6f8",
      "metadata": {
        "colab": {
          "base_uri": "https://localhost:8080/"
        },
        "id": "f681b6f8",
        "outputId": "cf1ce2f8-2605-47e5-d2c4-c494b7e99f8c"
      },
      "outputs": [
        {
          "output_type": "stream",
          "name": "stdout",
          "text": [
            "Epoch 1/100\n",
            "1/7 [===>..........................] - ETA: 4s - loss: 23.5361 - accuracy: 0.3333\n",
            "Epoch 1: loss improved from inf to 12.01340, saving model to -001-12.0134-0.6190.hdf5\n",
            "7/7 [==============================] - 1s 6ms/step - loss: 12.0134 - accuracy: 0.6190 - lr: 0.0100\n",
            "Epoch 2/100\n",
            "1/7 [===>..........................] - ETA: 0s - loss: 28.7282 - accuracy: 0.0000e+00\n",
            "Epoch 2: loss improved from 12.01340 to 10.37555, saving model to -002-10.3756-0.6190.hdf5\n",
            "7/7 [==============================] - 0s 5ms/step - loss: 10.3756 - accuracy: 0.6190 - lr: 0.0100\n",
            "Epoch 3/100\n",
            "1/7 [===>..........................] - ETA: 0s - loss: 8.7629 - accuracy: 0.6667\n",
            "Epoch 3: loss improved from 10.37555 to 8.63791, saving model to -003-8.6379-0.6190.hdf5\n",
            "7/7 [==============================] - 0s 8ms/step - loss: 8.6379 - accuracy: 0.6190 - lr: 0.0100\n",
            "Epoch 4/100\n",
            "1/7 [===>..........................] - ETA: 0s - loss: 3.6906e-08 - accuracy: 1.0000\n",
            "Epoch 4: loss improved from 8.63791 to 7.07923, saving model to -004-7.0792-0.6190.hdf5\n",
            "7/7 [==============================] - 0s 6ms/step - loss: 7.0792 - accuracy: 0.6190 - lr: 0.0100\n",
            "Epoch 5/100\n",
            "1/7 [===>..........................] - ETA: 0s - loss: 5.8017 - accuracy: 0.6667\n",
            "Epoch 5: loss improved from 7.07923 to 5.72428, saving model to -005-5.7243-0.6190.hdf5\n",
            "7/7 [==============================] - 0s 6ms/step - loss: 5.7243 - accuracy: 0.6190 - lr: 0.0100\n",
            "Epoch 6/100\n",
            "1/7 [===>..........................] - ETA: 0s - loss: 4.8412 - accuracy: 0.6667\n",
            "Epoch 6: loss improved from 5.72428 to 4.40415, saving model to -006-4.4041-0.6190.hdf5\n",
            "7/7 [==============================] - 0s 6ms/step - loss: 4.4041 - accuracy: 0.6190 - lr: 0.0100\n",
            "Epoch 7/100\n",
            "1/7 [===>..........................] - ETA: 0s - loss: 3.5691 - accuracy: 0.6667\n",
            "Epoch 7: loss improved from 4.40415 to 3.13544, saving model to -007-3.1354-0.6190.hdf5\n",
            "7/7 [==============================] - 0s 6ms/step - loss: 3.1354 - accuracy: 0.6190 - lr: 0.0100\n",
            "Epoch 8/100\n",
            "1/7 [===>..........................] - ETA: 0s - loss: 2.0378 - accuracy: 0.6667\n",
            "Epoch 8: loss improved from 3.13544 to 1.67826, saving model to -008-1.6783-0.6190.hdf5\n",
            "7/7 [==============================] - 0s 6ms/step - loss: 1.6783 - accuracy: 0.6190 - lr: 0.0100\n",
            "Epoch 9/100\n",
            "1/7 [===>..........................] - ETA: 0s - loss: 1.6262 - accuracy: 0.3333\n",
            "Epoch 9: loss improved from 1.67826 to 0.96386, saving model to -009-0.9639-0.4286.hdf5\n",
            "7/7 [==============================] - 0s 6ms/step - loss: 0.9639 - accuracy: 0.4286 - lr: 0.0100\n",
            "Epoch 10/100\n",
            "1/7 [===>..........................] - ETA: 0s - loss: 1.0173 - accuracy: 0.3333\n",
            "Epoch 10: loss improved from 0.96386 to 0.91547, saving model to -010-0.9155-0.3810.hdf5\n",
            "7/7 [==============================] - 0s 6ms/step - loss: 0.9155 - accuracy: 0.3810 - lr: 0.0100\n",
            "Epoch 11/100\n",
            "1/7 [===>..........................] - ETA: 0s - loss: 0.8749 - accuracy: 0.3333\n",
            "Epoch 11: loss improved from 0.91547 to 0.69202, saving model to -011-0.6920-0.6190.hdf5\n",
            "7/7 [==============================] - 0s 6ms/step - loss: 0.6920 - accuracy: 0.6190 - lr: 0.0100\n",
            "Epoch 12/100\n",
            "1/7 [===>..........................] - ETA: 0s - loss: 1.0183 - accuracy: 0.3333\n",
            "Epoch 12: loss did not improve from 0.69202\n",
            "7/7 [==============================] - 0s 4ms/step - loss: 0.7132 - accuracy: 0.6190 - lr: 0.0100\n",
            "Epoch 13/100\n",
            "1/7 [===>..........................] - ETA: 0s - loss: 0.2567 - accuracy: 1.0000\n",
            "Epoch 13: loss did not improve from 0.69202\n",
            "7/7 [==============================] - 0s 4ms/step - loss: 0.7022 - accuracy: 0.6190 - lr: 0.0100\n",
            "Epoch 14/100\n",
            "1/7 [===>..........................] - ETA: 0s - loss: 0.3371 - accuracy: 1.0000\n",
            "Epoch 14: loss improved from 0.69202 to 0.65819, saving model to -014-0.6582-0.6190.hdf5\n",
            "7/7 [==============================] - 0s 7ms/step - loss: 0.6582 - accuracy: 0.6190 - lr: 0.0100\n",
            "Epoch 15/100\n",
            "1/7 [===>..........................] - ETA: 0s - loss: 0.6395 - accuracy: 0.6667\n",
            "Epoch 15: loss did not improve from 0.65819\n",
            "7/7 [==============================] - 0s 3ms/step - loss: 0.6765 - accuracy: 0.7619 - lr: 0.0100\n",
            "Epoch 16/100\n",
            "1/7 [===>..........................] - ETA: 0s - loss: 0.7269 - accuracy: 0.6667\n",
            "Epoch 16: loss did not improve from 0.65819\n",
            "7/7 [==============================] - 0s 3ms/step - loss: 0.6636 - accuracy: 0.6667 - lr: 0.0100\n",
            "Epoch 17/100\n",
            "1/7 [===>..........................] - ETA: 0s - loss: 0.7723 - accuracy: 0.6667\n",
            "Epoch 17: loss improved from 0.65819 to 0.64150, saving model to -017-0.6415-0.6190.hdf5\n",
            "7/7 [==============================] - 0s 6ms/step - loss: 0.6415 - accuracy: 0.6190 - lr: 0.0100\n",
            "Epoch 18/100\n",
            "1/7 [===>..........................] - ETA: 0s - loss: 0.5410 - accuracy: 0.6667\n",
            "Epoch 18: loss did not improve from 0.64150\n",
            "7/7 [==============================] - 0s 3ms/step - loss: 0.6497 - accuracy: 0.6190 - lr: 0.0100\n",
            "Epoch 19/100\n",
            "1/7 [===>..........................] - ETA: 0s - loss: 0.5933 - accuracy: 0.6667\n",
            "Epoch 19: loss did not improve from 0.64150\n",
            "7/7 [==============================] - 0s 4ms/step - loss: 0.6477 - accuracy: 0.6190 - lr: 0.0100\n",
            "Epoch 20/100\n",
            "1/7 [===>..........................] - ETA: 0s - loss: 0.6817 - accuracy: 0.6667\n",
            "Epoch 20: loss did not improve from 0.64150\n",
            "\n",
            "Epoch 20: ReduceLROnPlateau reducing learning rate to 0.007999999821186066.\n",
            "7/7 [==============================] - 0s 5ms/step - loss: 0.6487 - accuracy: 0.5714 - lr: 0.0100\n",
            "Epoch 21/100\n",
            "1/7 [===>..........................] - ETA: 0s - loss: 0.4668 - accuracy: 1.0000\n",
            "Epoch 21: loss did not improve from 0.64150\n",
            "7/7 [==============================] - 0s 3ms/step - loss: 0.6419 - accuracy: 0.6190 - lr: 0.0080\n",
            "Epoch 22/100\n",
            "1/7 [===>..........................] - ETA: 0s - loss: 0.9263 - accuracy: 0.0000e+00\n",
            "Epoch 22: loss did not improve from 0.64150\n",
            "7/7 [==============================] - 0s 3ms/step - loss: 0.6429 - accuracy: 0.5714 - lr: 0.0080\n",
            "Epoch 23/100\n",
            "1/7 [===>..........................] - ETA: 0s - loss: 0.7598 - accuracy: 0.3333\n",
            "Epoch 23: loss improved from 0.64150 to 0.63462, saving model to -023-0.6346-0.7143.hdf5\n",
            "7/7 [==============================] - 0s 6ms/step - loss: 0.6346 - accuracy: 0.7143 - lr: 0.0080\n",
            "Epoch 24/100\n",
            "1/7 [===>..........................] - ETA: 0s - loss: 0.5770 - accuracy: 0.6667\n",
            "Epoch 24: loss did not improve from 0.63462\n",
            "7/7 [==============================] - 0s 4ms/step - loss: 0.6846 - accuracy: 0.5714 - lr: 0.0080\n",
            "Epoch 25/100\n",
            "1/7 [===>..........................] - ETA: 0s - loss: 0.3183 - accuracy: 1.0000\n",
            "Epoch 25: loss improved from 0.63462 to 0.63042, saving model to -025-0.6304-0.5714.hdf5\n",
            "7/7 [==============================] - 0s 7ms/step - loss: 0.6304 - accuracy: 0.5714 - lr: 0.0080\n",
            "Epoch 26/100\n",
            "1/7 [===>..........................] - ETA: 0s - loss: 0.6020 - accuracy: 0.6667\n",
            "Epoch 26: loss did not improve from 0.63042\n",
            "7/7 [==============================] - 0s 3ms/step - loss: 0.6306 - accuracy: 0.6667 - lr: 0.0080\n",
            "Epoch 27/100\n",
            "1/7 [===>..........................] - ETA: 0s - loss: 0.7300 - accuracy: 0.6667\n",
            "Epoch 27: loss did not improve from 0.63042\n",
            "7/7 [==============================] - 0s 4ms/step - loss: 0.6331 - accuracy: 0.6667 - lr: 0.0080\n",
            "Epoch 28/100\n",
            "1/7 [===>..........................] - ETA: 0s - loss: 0.4034 - accuracy: 1.0000\n",
            "Epoch 28: loss improved from 0.63042 to 0.62333, saving model to -028-0.6233-0.6190.hdf5\n",
            "7/7 [==============================] - 0s 6ms/step - loss: 0.6233 - accuracy: 0.6190 - lr: 0.0080\n",
            "Epoch 29/100\n",
            "1/7 [===>..........................] - ETA: 0s - loss: 0.5201 - accuracy: 1.0000\n",
            "Epoch 29: loss did not improve from 0.62333\n",
            "7/7 [==============================] - 0s 3ms/step - loss: 0.6248 - accuracy: 0.6190 - lr: 0.0080\n",
            "Epoch 30/100\n",
            "1/7 [===>..........................] - ETA: 0s - loss: 0.4555 - accuracy: 1.0000\n",
            "Epoch 30: loss did not improve from 0.62333\n",
            "7/7 [==============================] - 0s 4ms/step - loss: 0.6236 - accuracy: 0.6190 - lr: 0.0080\n",
            "Epoch 31/100\n",
            "1/7 [===>..........................] - ETA: 0s - loss: 0.7252 - accuracy: 0.6667\n",
            "Epoch 31: loss improved from 0.62333 to 0.61533, saving model to -031-0.6153-0.6190.hdf5\n",
            "7/7 [==============================] - 0s 6ms/step - loss: 0.6153 - accuracy: 0.6190 - lr: 0.0080\n",
            "Epoch 32/100\n",
            "1/7 [===>..........................] - ETA: 0s - loss: 0.8303 - accuracy: 0.3333\n",
            "Epoch 32: loss improved from 0.61533 to 0.61509, saving model to -032-0.6151-0.7619.hdf5\n",
            "7/7 [==============================] - 0s 6ms/step - loss: 0.6151 - accuracy: 0.7619 - lr: 0.0080\n",
            "Epoch 33/100\n",
            "1/7 [===>..........................] - ETA: 0s - loss: 0.4905 - accuracy: 1.0000\n",
            "Epoch 33: loss improved from 0.61509 to 0.61083, saving model to -033-0.6108-0.7143.hdf5\n",
            "7/7 [==============================] - 0s 6ms/step - loss: 0.6108 - accuracy: 0.7143 - lr: 0.0080\n",
            "Epoch 34/100\n",
            "1/7 [===>..........................] - ETA: 0s - loss: 0.6343 - accuracy: 0.6667\n",
            "Epoch 34: loss did not improve from 0.61083\n",
            "7/7 [==============================] - 0s 3ms/step - loss: 0.6120 - accuracy: 0.6190 - lr: 0.0080\n",
            "Epoch 35/100\n",
            "1/7 [===>..........................] - ETA: 0s - loss: 0.5668 - accuracy: 0.6667\n",
            "Epoch 35: loss improved from 0.61083 to 0.60968, saving model to -035-0.6097-0.6190.hdf5\n",
            "7/7 [==============================] - 0s 6ms/step - loss: 0.6097 - accuracy: 0.6190 - lr: 0.0080\n",
            "Epoch 36/100\n",
            "1/7 [===>..........................] - ETA: 0s - loss: 0.4538 - accuracy: 1.0000\n",
            "Epoch 36: loss improved from 0.60968 to 0.60722, saving model to -036-0.6072-0.6190.hdf5\n",
            "7/7 [==============================] - 0s 6ms/step - loss: 0.6072 - accuracy: 0.6190 - lr: 0.0080\n",
            "Epoch 37/100\n",
            "1/7 [===>..........................] - ETA: 0s - loss: 0.6798 - accuracy: 0.3333\n",
            "Epoch 37: loss did not improve from 0.60722\n",
            "7/7 [==============================] - 0s 3ms/step - loss: 0.6120 - accuracy: 0.6667 - lr: 0.0080\n",
            "Epoch 38/100\n",
            "1/7 [===>..........................] - ETA: 0s - loss: 0.7253 - accuracy: 0.6667\n",
            "Epoch 38: loss did not improve from 0.60722\n",
            "7/7 [==============================] - 0s 4ms/step - loss: 0.6117 - accuracy: 0.6667 - lr: 0.0080\n",
            "Epoch 39/100\n",
            "1/7 [===>..........................] - ETA: 0s - loss: 0.4522 - accuracy: 1.0000\n",
            "Epoch 39: loss did not improve from 0.60722\n",
            "\n",
            "Epoch 39: ReduceLROnPlateau reducing learning rate to 0.006399999558925629.\n",
            "7/7 [==============================] - 0s 5ms/step - loss: 0.6135 - accuracy: 0.6667 - lr: 0.0080\n",
            "Epoch 40/100\n",
            "1/7 [===>..........................] - ETA: 0s - loss: 0.8812 - accuracy: 0.3333\n",
            "Epoch 40: loss improved from 0.60722 to 0.60127, saving model to -040-0.6013-0.6190.hdf5\n",
            "7/7 [==============================] - 0s 7ms/step - loss: 0.6013 - accuracy: 0.6190 - lr: 0.0064\n",
            "Epoch 41/100\n",
            "1/7 [===>..........................] - ETA: 0s - loss: 0.5353 - accuracy: 1.0000\n",
            "Epoch 41: loss did not improve from 0.60127\n",
            "7/7 [==============================] - 0s 3ms/step - loss: 0.6033 - accuracy: 0.7619 - lr: 0.0064\n",
            "Epoch 42/100\n",
            "1/7 [===>..........................] - ETA: 0s - loss: 0.8461 - accuracy: 0.3333\n",
            "Epoch 42: loss did not improve from 0.60127\n",
            "7/7 [==============================] - 0s 4ms/step - loss: 0.6022 - accuracy: 0.7619 - lr: 0.0064\n",
            "Epoch 43/100\n",
            "1/7 [===>..........................] - ETA: 0s - loss: 0.5411 - accuracy: 0.6667\n",
            "Epoch 43: loss did not improve from 0.60127\n",
            "\n",
            "Epoch 43: ReduceLROnPlateau reducing learning rate to 0.0051199994981288915.\n",
            "7/7 [==============================] - 0s 3ms/step - loss: 0.6078 - accuracy: 0.6667 - lr: 0.0064\n",
            "Epoch 44/100\n",
            "1/7 [===>..........................] - ETA: 0s - loss: 1.0252 - accuracy: 0.0000e+00\n",
            "Epoch 44: loss did not improve from 0.60127\n",
            "7/7 [==============================] - 0s 3ms/step - loss: 0.6358 - accuracy: 0.6667 - lr: 0.0051\n",
            "Epoch 45/100\n",
            "1/7 [===>..........................] - ETA: 0s - loss: 0.8836 - accuracy: 0.3333\n",
            "Epoch 45: loss improved from 0.60127 to 0.59912, saving model to -045-0.5991-0.7619.hdf5\n",
            "7/7 [==============================] - 0s 7ms/step - loss: 0.5991 - accuracy: 0.7619 - lr: 0.0051\n",
            "Epoch 46/100\n",
            "1/7 [===>..........................] - ETA: 0s - loss: 0.6184 - accuracy: 0.6667\n",
            "Epoch 46: loss improved from 0.59912 to 0.59802, saving model to -046-0.5980-0.7619.hdf5\n",
            "7/7 [==============================] - 0s 6ms/step - loss: 0.5980 - accuracy: 0.7619 - lr: 0.0051\n",
            "Epoch 47/100\n",
            "1/7 [===>..........................] - ETA: 0s - loss: 0.6104 - accuracy: 0.3333\n",
            "Epoch 47: loss did not improve from 0.59802\n",
            "7/7 [==============================] - 0s 3ms/step - loss: 0.6074 - accuracy: 0.6667 - lr: 0.0051\n",
            "Epoch 48/100\n",
            "1/7 [===>..........................] - ETA: 0s - loss: 0.4360 - accuracy: 1.0000\n",
            "Epoch 48: loss improved from 0.59802 to 0.59497, saving model to -048-0.5950-0.7619.hdf5\n",
            "7/7 [==============================] - 0s 6ms/step - loss: 0.5950 - accuracy: 0.7619 - lr: 0.0051\n",
            "Epoch 49/100\n",
            "1/7 [===>..........................] - ETA: 0s - loss: 0.6270 - accuracy: 0.6667\n",
            "Epoch 49: loss did not improve from 0.59497\n",
            "7/7 [==============================] - 0s 4ms/step - loss: 0.5959 - accuracy: 0.7143 - lr: 0.0051\n",
            "Epoch 50/100\n",
            "1/7 [===>..........................] - ETA: 0s - loss: 0.5093 - accuracy: 0.6667\n",
            "Epoch 50: loss did not improve from 0.59497\n",
            "7/7 [==============================] - 0s 3ms/step - loss: 0.5997 - accuracy: 0.6667 - lr: 0.0051\n",
            "Epoch 51/100\n",
            "1/7 [===>..........................] - ETA: 0s - loss: 0.5444 - accuracy: 0.6667\n",
            "Epoch 51: loss did not improve from 0.59497\n",
            "\n",
            "Epoch 51: ReduceLROnPlateau reducing learning rate to 0.004095999523997307.\n",
            "7/7 [==============================] - 0s 4ms/step - loss: 0.5955 - accuracy: 0.7619 - lr: 0.0051\n",
            "Epoch 52/100\n",
            "1/7 [===>..........................] - ETA: 0s - loss: 0.4213 - accuracy: 1.0000\n",
            "Epoch 52: loss improved from 0.59497 to 0.59329, saving model to -052-0.5933-0.7619.hdf5\n",
            "7/7 [==============================] - 0s 6ms/step - loss: 0.5933 - accuracy: 0.7619 - lr: 0.0041\n",
            "Epoch 53/100\n",
            "1/7 [===>..........................] - ETA: 0s - loss: 0.3150 - accuracy: 1.0000\n",
            "Epoch 53: loss improved from 0.59329 to 0.59088, saving model to -053-0.5909-0.7619.hdf5\n",
            "7/7 [==============================] - 0s 6ms/step - loss: 0.5909 - accuracy: 0.7619 - lr: 0.0041\n",
            "Epoch 54/100\n",
            "1/7 [===>..........................] - ETA: 0s - loss: 0.9213 - accuracy: 0.3333\n",
            "Epoch 54: loss did not improve from 0.59088\n",
            "7/7 [==============================] - 0s 3ms/step - loss: 0.5931 - accuracy: 0.7619 - lr: 0.0041\n",
            "Epoch 55/100\n",
            "1/7 [===>..........................] - ETA: 0s - loss: 0.4729 - accuracy: 1.0000\n",
            "Epoch 55: loss did not improve from 0.59088\n",
            "7/7 [==============================] - 0s 3ms/step - loss: 0.5928 - accuracy: 0.7619 - lr: 0.0041\n",
            "Epoch 56/100\n",
            "1/7 [===>..........................] - ETA: 0s - loss: 0.8804 - accuracy: 0.3333\n",
            "Epoch 56: loss did not improve from 0.59088\n",
            "\n",
            "Epoch 56: ReduceLROnPlateau reducing learning rate to 0.0032767996191978457.\n",
            "7/7 [==============================] - 0s 3ms/step - loss: 0.5918 - accuracy: 0.7619 - lr: 0.0041\n",
            "Epoch 57/100\n",
            "1/7 [===>..........................] - ETA: 0s - loss: 0.4519 - accuracy: 1.0000\n",
            "Epoch 57: loss improved from 0.59088 to 0.59043, saving model to -057-0.5904-0.7143.hdf5\n",
            "7/7 [==============================] - 0s 6ms/step - loss: 0.5904 - accuracy: 0.7143 - lr: 0.0033\n",
            "Epoch 58/100\n",
            "1/7 [===>..........................] - ETA: 0s - loss: 0.3773 - accuracy: 1.0000\n",
            "Epoch 58: loss did not improve from 0.59043\n",
            "7/7 [==============================] - 0s 3ms/step - loss: 0.5940 - accuracy: 0.6190 - lr: 0.0033\n",
            "Epoch 59/100\n",
            "1/7 [===>..........................] - ETA: 0s - loss: 0.2817 - accuracy: 1.0000\n",
            "Epoch 59: loss improved from 0.59043 to 0.58719, saving model to -059-0.5872-0.7143.hdf5\n",
            "7/7 [==============================] - 0s 5ms/step - loss: 0.5872 - accuracy: 0.7143 - lr: 0.0033\n",
            "Epoch 60/100\n",
            "1/7 [===>..........................] - ETA: 0s - loss: 0.8779 - accuracy: 0.6667\n",
            "Epoch 60: loss did not improve from 0.58719\n",
            "7/7 [==============================] - 0s 3ms/step - loss: 0.5945 - accuracy: 0.7619 - lr: 0.0033\n",
            "Epoch 61/100\n",
            "1/7 [===>..........................] - ETA: 0s - loss: 1.1034 - accuracy: 0.3333\n",
            "Epoch 61: loss did not improve from 0.58719\n",
            "7/7 [==============================] - 0s 4ms/step - loss: 0.6112 - accuracy: 0.7619 - lr: 0.0033\n",
            "Epoch 62/100\n",
            "1/7 [===>..........................] - ETA: 0s - loss: 0.6851 - accuracy: 0.6667\n",
            "Epoch 62: loss did not improve from 0.58719\n",
            "\n",
            "Epoch 62: ReduceLROnPlateau reducing learning rate to 0.0026214396581053737.\n",
            "7/7 [==============================] - 0s 4ms/step - loss: 0.5923 - accuracy: 0.7619 - lr: 0.0033\n",
            "Epoch 63/100\n",
            "1/7 [===>..........................] - ETA: 0s - loss: 0.7809 - accuracy: 0.6667\n",
            "Epoch 63: loss did not improve from 0.58719\n",
            "7/7 [==============================] - 0s 3ms/step - loss: 0.5875 - accuracy: 0.7619 - lr: 0.0026\n",
            "Epoch 64/100\n",
            "1/7 [===>..........................] - ETA: 0s - loss: 0.5026 - accuracy: 0.6667\n",
            "Epoch 64: loss did not improve from 0.58719\n",
            "7/7 [==============================] - 0s 3ms/step - loss: 0.5908 - accuracy: 0.7619 - lr: 0.0026\n",
            "Epoch 65/100\n",
            "1/7 [===>..........................] - ETA: 0s - loss: 0.8788 - accuracy: 0.6667\n",
            "Epoch 65: loss did not improve from 0.58719\n",
            "\n",
            "Epoch 65: ReduceLROnPlateau reducing learning rate to 0.0020971518009901048.\n",
            "7/7 [==============================] - 0s 3ms/step - loss: 0.5894 - accuracy: 0.7619 - lr: 0.0026\n",
            "Epoch 66/100\n",
            "1/7 [===>..........................] - ETA: 0s - loss: 0.3700 - accuracy: 1.0000\n",
            "Epoch 66: loss did not improve from 0.58719\n",
            "7/7 [==============================] - 0s 3ms/step - loss: 0.5883 - accuracy: 0.7619 - lr: 0.0021\n",
            "Epoch 67/100\n",
            "1/7 [===>..........................] - ETA: 0s - loss: 0.3407 - accuracy: 1.0000\n",
            "Epoch 67: loss did not improve from 0.58719\n",
            "7/7 [==============================] - 0s 4ms/step - loss: 0.5886 - accuracy: 0.7619 - lr: 0.0021\n",
            "Epoch 68/100\n",
            "1/7 [===>..........................] - ETA: 0s - loss: 0.4274 - accuracy: 1.0000\n",
            "Epoch 68: loss improved from 0.58719 to 0.58541, saving model to -068-0.5854-0.7619.hdf5\n",
            "7/7 [==============================] - 0s 6ms/step - loss: 0.5854 - accuracy: 0.7619 - lr: 0.0021\n",
            "Epoch 69/100\n",
            "1/7 [===>..........................] - ETA: 0s - loss: 0.6443 - accuracy: 0.6667\n",
            "Epoch 69: loss did not improve from 0.58541\n",
            "7/7 [==============================] - 0s 3ms/step - loss: 0.5864 - accuracy: 0.7619 - lr: 0.0021\n",
            "Epoch 70/100\n",
            "1/7 [===>..........................] - ETA: 0s - loss: 0.3369 - accuracy: 1.0000\n",
            "Epoch 70: loss did not improve from 0.58541\n",
            "7/7 [==============================] - 0s 3ms/step - loss: 0.5855 - accuracy: 0.7619 - lr: 0.0021\n",
            "Epoch 71/100\n",
            "1/7 [===>..........................] - ETA: 0s - loss: 0.5575 - accuracy: 1.0000\n",
            "Epoch 71: loss did not improve from 0.58541\n",
            "\n",
            "Epoch 71: ReduceLROnPlateau reducing learning rate to 0.0016777213662862779.\n",
            "7/7 [==============================] - 0s 4ms/step - loss: 0.5861 - accuracy: 0.7619 - lr: 0.0021\n",
            "Epoch 72/100\n",
            "1/7 [===>..........................] - ETA: 0s - loss: 0.8249 - accuracy: 0.3333\n",
            "Epoch 72: loss improved from 0.58541 to 0.58431, saving model to -072-0.5843-0.7619.hdf5\n",
            "7/7 [==============================] - 0s 6ms/step - loss: 0.5843 - accuracy: 0.7619 - lr: 0.0017\n",
            "Epoch 73/100\n",
            "1/7 [===>..........................] - ETA: 0s - loss: 0.7458 - accuracy: 0.6667\n",
            "Epoch 73: loss did not improve from 0.58431\n",
            "7/7 [==============================] - 0s 3ms/step - loss: 0.5863 - accuracy: 0.7619 - lr: 0.0017\n",
            "Epoch 74/100\n",
            "1/7 [===>..........................] - ETA: 0s - loss: 1.1522 - accuracy: 0.3333\n",
            "Epoch 74: loss did not improve from 0.58431\n",
            "7/7 [==============================] - 0s 4ms/step - loss: 0.5945 - accuracy: 0.7619 - lr: 0.0017\n",
            "Epoch 75/100\n",
            "1/7 [===>..........................] - ETA: 0s - loss: 0.4160 - accuracy: 1.0000\n",
            "Epoch 75: loss improved from 0.58431 to 0.58326, saving model to -075-0.5833-0.7619.hdf5\n",
            "7/7 [==============================] - 0s 7ms/step - loss: 0.5833 - accuracy: 0.7619 - lr: 0.0017\n",
            "Epoch 76/100\n",
            "1/7 [===>..........................] - ETA: 0s - loss: 0.8118 - accuracy: 0.6667\n",
            "Epoch 76: loss improved from 0.58326 to 0.58253, saving model to -076-0.5825-0.7619.hdf5\n",
            "7/7 [==============================] - 0s 6ms/step - loss: 0.5825 - accuracy: 0.7619 - lr: 0.0017\n",
            "Epoch 77/100\n",
            "1/7 [===>..........................] - ETA: 0s - loss: 0.4190 - accuracy: 1.0000\n",
            "Epoch 77: loss did not improve from 0.58253\n",
            "7/7 [==============================] - 0s 3ms/step - loss: 0.5894 - accuracy: 0.7619 - lr: 0.0017\n",
            "Epoch 78/100\n",
            "1/7 [===>..........................] - ETA: 0s - loss: 0.6619 - accuracy: 0.3333\n",
            "Epoch 78: loss did not improve from 0.58253\n",
            "7/7 [==============================] - 0s 3ms/step - loss: 0.5900 - accuracy: 0.6667 - lr: 0.0017\n",
            "Epoch 79/100\n",
            "1/7 [===>..........................] - ETA: 0s - loss: 0.4452 - accuracy: 1.0000\n",
            "Epoch 79: loss did not improve from 0.58253\n",
            "\n",
            "Epoch 79: ReduceLROnPlateau reducing learning rate to 0.0013421771116554739.\n",
            "7/7 [==============================] - 0s 5ms/step - loss: 0.5836 - accuracy: 0.7619 - lr: 0.0017\n",
            "Epoch 80/100\n",
            "1/7 [===>..........................] - ETA: 0s - loss: 0.9405 - accuracy: 0.3333\n",
            "Epoch 80: loss did not improve from 0.58253\n",
            "7/7 [==============================] - 0s 5ms/step - loss: 0.5860 - accuracy: 0.7619 - lr: 0.0013\n",
            "Epoch 81/100\n",
            "1/7 [===>..........................] - ETA: 0s - loss: 0.8809 - accuracy: 0.3333\n",
            "Epoch 81: loss did not improve from 0.58253\n",
            "7/7 [==============================] - 0s 4ms/step - loss: 0.5839 - accuracy: 0.7619 - lr: 0.0013\n",
            "Epoch 82/100\n",
            "1/7 [===>..........................] - ETA: 0s - loss: 0.3327 - accuracy: 1.0000\n",
            "Epoch 82: loss did not improve from 0.58253\n",
            "\n",
            "Epoch 82: ReduceLROnPlateau reducing learning rate to 0.001073741726577282.\n",
            "7/7 [==============================] - 0s 4ms/step - loss: 0.5840 - accuracy: 0.7619 - lr: 0.0013\n",
            "Epoch 83/100\n",
            "1/7 [===>..........................] - ETA: 0s - loss: 0.4355 - accuracy: 1.0000\n",
            "Epoch 83: loss did not improve from 0.58253\n",
            "7/7 [==============================] - 0s 3ms/step - loss: 0.5836 - accuracy: 0.7619 - lr: 0.0011\n",
            "Epoch 84/100\n",
            "1/7 [===>..........................] - ETA: 0s - loss: 0.6095 - accuracy: 0.6667\n",
            "Epoch 84: loss did not improve from 0.58253\n",
            "7/7 [==============================] - 0s 4ms/step - loss: 0.5841 - accuracy: 0.7619 - lr: 0.0011\n",
            "Epoch 85/100\n",
            "1/7 [===>..........................] - ETA: 0s - loss: 0.5021 - accuracy: 0.6667\n",
            "Epoch 85: loss improved from 0.58253 to 0.58204, saving model to -085-0.5820-0.7619.hdf5\n",
            "7/7 [==============================] - 0s 7ms/step - loss: 0.5820 - accuracy: 0.7619 - lr: 0.0011\n",
            "Epoch 86/100\n",
            "1/7 [===>..........................] - ETA: 0s - loss: 0.4961 - accuracy: 1.0000\n",
            "Epoch 86: loss did not improve from 0.58204\n",
            "7/7 [==============================] - 0s 4ms/step - loss: 0.5824 - accuracy: 0.7619 - lr: 0.0011\n",
            "Epoch 87/100\n",
            "1/7 [===>..........................] - ETA: 0s - loss: 0.4583 - accuracy: 1.0000\n",
            "Epoch 87: loss did not improve from 0.58204\n",
            "7/7 [==============================] - 0s 3ms/step - loss: 0.5868 - accuracy: 0.7619 - lr: 0.0011\n",
            "Epoch 88/100\n",
            "1/7 [===>..........................] - ETA: 0s - loss: 0.3882 - accuracy: 1.0000\n",
            "Epoch 88: loss did not improve from 0.58204\n",
            "\n",
            "Epoch 88: ReduceLROnPlateau reducing learning rate to 0.0008589933626353742.\n",
            "7/7 [==============================] - 0s 5ms/step - loss: 0.5886 - accuracy: 0.7619 - lr: 0.0011\n",
            "Epoch 89/100\n",
            "1/7 [===>..........................] - ETA: 0s - loss: 0.5690 - accuracy: 0.6667\n",
            "Epoch 89: loss did not improve from 0.58204\n",
            "7/7 [==============================] - 0s 4ms/step - loss: 0.5842 - accuracy: 0.7619 - lr: 8.5899e-04\n",
            "Epoch 90/100\n",
            "1/7 [===>..........................] - ETA: 0s - loss: 0.6196 - accuracy: 0.6667\n",
            "Epoch 90: loss improved from 0.58204 to 0.58137, saving model to -090-0.5814-0.7619.hdf5\n",
            "7/7 [==============================] - 0s 6ms/step - loss: 0.5814 - accuracy: 0.7619 - lr: 8.5899e-04\n",
            "Epoch 91/100\n",
            "1/7 [===>..........................] - ETA: 0s - loss: 0.6122 - accuracy: 0.6667\n",
            "Epoch 91: loss did not improve from 0.58137\n",
            "7/7 [==============================] - 0s 4ms/step - loss: 0.5818 - accuracy: 0.7619 - lr: 8.5899e-04\n",
            "Epoch 92/100\n",
            "1/7 [===>..........................] - ETA: 0s - loss: 0.5176 - accuracy: 1.0000\n",
            "Epoch 92: loss did not improve from 0.58137\n",
            "7/7 [==============================] - 0s 4ms/step - loss: 0.5819 - accuracy: 0.7619 - lr: 8.5899e-04\n",
            "Epoch 93/100\n",
            "1/7 [===>..........................] - ETA: 0s - loss: 0.9089 - accuracy: 0.3333\n",
            "Epoch 93: loss did not improve from 0.58137\n",
            "\n",
            "Epoch 93: ReduceLROnPlateau reducing learning rate to 0.0006871947087347508.\n",
            "7/7 [==============================] - 0s 4ms/step - loss: 0.5815 - accuracy: 0.7619 - lr: 8.5899e-04\n",
            "Epoch 94/100\n",
            "1/7 [===>..........................] - ETA: 0s - loss: 0.4313 - accuracy: 1.0000\n",
            "Epoch 94: loss did not improve from 0.58137\n",
            "7/7 [==============================] - 0s 4ms/step - loss: 0.5822 - accuracy: 0.7619 - lr: 6.8719e-04\n",
            "Epoch 95/100\n",
            "1/7 [===>..........................] - ETA: 0s - loss: 0.5604 - accuracy: 0.6667\n",
            "Epoch 95: loss improved from 0.58137 to 0.58136, saving model to -095-0.5814-0.7619.hdf5\n",
            "7/7 [==============================] - 0s 6ms/step - loss: 0.5814 - accuracy: 0.7619 - lr: 6.8719e-04\n",
            "Epoch 96/100\n",
            "1/7 [===>..........................] - ETA: 0s - loss: 0.6191 - accuracy: 0.6667\n",
            "Epoch 96: loss improved from 0.58136 to 0.58084, saving model to -096-0.5808-0.7619.hdf5\n",
            "7/7 [==============================] - 0s 6ms/step - loss: 0.5808 - accuracy: 0.7619 - lr: 6.8719e-04\n",
            "Epoch 97/100\n",
            "1/7 [===>..........................] - ETA: 0s - loss: 0.4785 - accuracy: 1.0000\n",
            "Epoch 97: loss did not improve from 0.58084\n",
            "7/7 [==============================] - 0s 4ms/step - loss: 0.5831 - accuracy: 0.7619 - lr: 6.8719e-04\n",
            "Epoch 98/100\n",
            "1/7 [===>..........................] - ETA: 0s - loss: 0.5538 - accuracy: 0.6667\n",
            "Epoch 98: loss did not improve from 0.58084\n",
            "7/7 [==============================] - 0s 4ms/step - loss: 0.5810 - accuracy: 0.7619 - lr: 6.8719e-04\n",
            "Epoch 99/100\n",
            "1/7 [===>..........................] - ETA: 0s - loss: 0.4172 - accuracy: 1.0000\n",
            "Epoch 99: loss did not improve from 0.58084\n",
            "\n",
            "Epoch 99: ReduceLROnPlateau reducing learning rate to 0.0005497557576745749.\n",
            "7/7 [==============================] - 0s 5ms/step - loss: 0.5810 - accuracy: 0.7619 - lr: 6.8719e-04\n",
            "Epoch 100/100\n",
            "1/7 [===>..........................] - ETA: 0s - loss: 0.3979 - accuracy: 1.0000\n",
            "Epoch 100: loss did not improve from 0.58084\n",
            "7/7 [==============================] - 0s 4ms/step - loss: 0.5812 - accuracy: 0.7619 - lr: 5.4976e-04\n"
          ]
        },
        {
          "output_type": "execute_result",
          "data": {
            "text/plain": [
              "<keras.callbacks.History at 0x7f5be81b6190>"
            ]
          },
          "metadata": {},
          "execution_count": 7
        }
      ],
      "source": [
        "model.fit(x=InputFeature, y=Label, epochs=100, shuffle=True, batch_size=3, callbacks=CALLBACK)"
      ]
    },
    {
      "cell_type": "markdown",
      "id": "13beca2c",
      "metadata": {
        "id": "13beca2c"
      },
      "source": [
        "# Model Load 하기 전, hdf5 파일 이름 꼭 확인하기"
      ]
    },
    {
      "cell_type": "code",
      "execution_count": 9,
      "id": "13bdffe6",
      "metadata": {
        "colab": {
          "base_uri": "https://localhost:8080/",
          "height": 455
        },
        "id": "13bdffe6",
        "outputId": "bb4427a2-d6eb-4d05-b505-980b1a815328"
      },
      "outputs": [
        {
          "output_type": "error",
          "ename": "OSError",
          "evalue": "ignored",
          "traceback": [
            "\u001b[0;31m---------------------------------------------------------------------------\u001b[0m",
            "\u001b[0;31mOSError\u001b[0m                                   Traceback (most recent call last)",
            "\u001b[0;32m<ipython-input-9-e22fb44d4af5>\u001b[0m in \u001b[0;36m<module>\u001b[0;34m()\u001b[0m\n\u001b[0;32m----> 1\u001b[0;31m \u001b[0mmodel\u001b[0m\u001b[0;34m.\u001b[0m\u001b[0mload_weights\u001b[0m\u001b[0;34m(\u001b[0m\u001b[0;34m\"-098-0.5495-0.7619.hdf5\"\u001b[0m\u001b[0;34m)\u001b[0m\u001b[0;34m\u001b[0m\u001b[0;34m\u001b[0m\u001b[0m\n\u001b[0m",
            "\u001b[0;32m/usr/local/lib/python3.7/dist-packages/keras/utils/traceback_utils.py\u001b[0m in \u001b[0;36merror_handler\u001b[0;34m(*args, **kwargs)\u001b[0m\n\u001b[1;32m     65\u001b[0m     \u001b[0;32mexcept\u001b[0m \u001b[0mException\u001b[0m \u001b[0;32mas\u001b[0m \u001b[0me\u001b[0m\u001b[0;34m:\u001b[0m  \u001b[0;31m# pylint: disable=broad-except\u001b[0m\u001b[0;34m\u001b[0m\u001b[0;34m\u001b[0m\u001b[0m\n\u001b[1;32m     66\u001b[0m       \u001b[0mfiltered_tb\u001b[0m \u001b[0;34m=\u001b[0m \u001b[0m_process_traceback_frames\u001b[0m\u001b[0;34m(\u001b[0m\u001b[0me\u001b[0m\u001b[0;34m.\u001b[0m\u001b[0m__traceback__\u001b[0m\u001b[0;34m)\u001b[0m\u001b[0;34m\u001b[0m\u001b[0;34m\u001b[0m\u001b[0m\n\u001b[0;32m---> 67\u001b[0;31m       \u001b[0;32mraise\u001b[0m \u001b[0me\u001b[0m\u001b[0;34m.\u001b[0m\u001b[0mwith_traceback\u001b[0m\u001b[0;34m(\u001b[0m\u001b[0mfiltered_tb\u001b[0m\u001b[0;34m)\u001b[0m \u001b[0;32mfrom\u001b[0m \u001b[0;32mNone\u001b[0m\u001b[0;34m\u001b[0m\u001b[0;34m\u001b[0m\u001b[0m\n\u001b[0m\u001b[1;32m     68\u001b[0m     \u001b[0;32mfinally\u001b[0m\u001b[0;34m:\u001b[0m\u001b[0;34m\u001b[0m\u001b[0;34m\u001b[0m\u001b[0m\n\u001b[1;32m     69\u001b[0m       \u001b[0;32mdel\u001b[0m \u001b[0mfiltered_tb\u001b[0m\u001b[0;34m\u001b[0m\u001b[0;34m\u001b[0m\u001b[0m\n",
            "\u001b[0;32m/usr/local/lib/python3.7/dist-packages/h5py/_hl/files.py\u001b[0m in \u001b[0;36m__init__\u001b[0;34m(self, name, mode, driver, libver, userblock_size, swmr, rdcc_nslots, rdcc_nbytes, rdcc_w0, track_order, fs_strategy, fs_persist, fs_threshold, **kwds)\u001b[0m\n\u001b[1;32m    425\u001b[0m                                fapl, fcpl=make_fcpl(track_order=track_order, fs_strategy=fs_strategy,\n\u001b[1;32m    426\u001b[0m                                fs_persist=fs_persist, fs_threshold=fs_threshold),\n\u001b[0;32m--> 427\u001b[0;31m                                swmr=swmr)\n\u001b[0m\u001b[1;32m    428\u001b[0m \u001b[0;34m\u001b[0m\u001b[0m\n\u001b[1;32m    429\u001b[0m             \u001b[0;32mif\u001b[0m \u001b[0misinstance\u001b[0m\u001b[0;34m(\u001b[0m\u001b[0mlibver\u001b[0m\u001b[0;34m,\u001b[0m \u001b[0mtuple\u001b[0m\u001b[0;34m)\u001b[0m\u001b[0;34m:\u001b[0m\u001b[0;34m\u001b[0m\u001b[0;34m\u001b[0m\u001b[0m\n",
            "\u001b[0;32m/usr/local/lib/python3.7/dist-packages/h5py/_hl/files.py\u001b[0m in \u001b[0;36mmake_fid\u001b[0;34m(name, mode, userblock_size, fapl, fcpl, swmr)\u001b[0m\n\u001b[1;32m    188\u001b[0m         \u001b[0;32mif\u001b[0m \u001b[0mswmr\u001b[0m \u001b[0;32mand\u001b[0m \u001b[0mswmr_support\u001b[0m\u001b[0;34m:\u001b[0m\u001b[0;34m\u001b[0m\u001b[0;34m\u001b[0m\u001b[0m\n\u001b[1;32m    189\u001b[0m             \u001b[0mflags\u001b[0m \u001b[0;34m|=\u001b[0m \u001b[0mh5f\u001b[0m\u001b[0;34m.\u001b[0m\u001b[0mACC_SWMR_READ\u001b[0m\u001b[0;34m\u001b[0m\u001b[0;34m\u001b[0m\u001b[0m\n\u001b[0;32m--> 190\u001b[0;31m         \u001b[0mfid\u001b[0m \u001b[0;34m=\u001b[0m \u001b[0mh5f\u001b[0m\u001b[0;34m.\u001b[0m\u001b[0mopen\u001b[0m\u001b[0;34m(\u001b[0m\u001b[0mname\u001b[0m\u001b[0;34m,\u001b[0m \u001b[0mflags\u001b[0m\u001b[0;34m,\u001b[0m \u001b[0mfapl\u001b[0m\u001b[0;34m=\u001b[0m\u001b[0mfapl\u001b[0m\u001b[0;34m)\u001b[0m\u001b[0;34m\u001b[0m\u001b[0;34m\u001b[0m\u001b[0m\n\u001b[0m\u001b[1;32m    191\u001b[0m     \u001b[0;32melif\u001b[0m \u001b[0mmode\u001b[0m \u001b[0;34m==\u001b[0m \u001b[0;34m'r+'\u001b[0m\u001b[0;34m:\u001b[0m\u001b[0;34m\u001b[0m\u001b[0;34m\u001b[0m\u001b[0m\n\u001b[1;32m    192\u001b[0m         \u001b[0mfid\u001b[0m \u001b[0;34m=\u001b[0m \u001b[0mh5f\u001b[0m\u001b[0;34m.\u001b[0m\u001b[0mopen\u001b[0m\u001b[0;34m(\u001b[0m\u001b[0mname\u001b[0m\u001b[0;34m,\u001b[0m \u001b[0mh5f\u001b[0m\u001b[0;34m.\u001b[0m\u001b[0mACC_RDWR\u001b[0m\u001b[0;34m,\u001b[0m \u001b[0mfapl\u001b[0m\u001b[0;34m=\u001b[0m\u001b[0mfapl\u001b[0m\u001b[0;34m)\u001b[0m\u001b[0;34m\u001b[0m\u001b[0;34m\u001b[0m\u001b[0m\n",
            "\u001b[0;32mh5py/_objects.pyx\u001b[0m in \u001b[0;36mh5py._objects.with_phil.wrapper\u001b[0;34m()\u001b[0m\n",
            "\u001b[0;32mh5py/_objects.pyx\u001b[0m in \u001b[0;36mh5py._objects.with_phil.wrapper\u001b[0;34m()\u001b[0m\n",
            "\u001b[0;32mh5py/h5f.pyx\u001b[0m in \u001b[0;36mh5py.h5f.open\u001b[0;34m()\u001b[0m\n",
            "\u001b[0;31mOSError\u001b[0m: Unable to open file (unable to open file: name = '-098-0.5495-0.7619.hdf5', errno = 2, error message = 'No such file or directory', flags = 0, o_flags = 0)"
          ]
        }
      ],
      "source": [
        "model.load_weights(\"-098-0.5495-0.7619.hdf5\")"
      ]
    },
    {
      "cell_type": "markdown",
      "id": "facab60a",
      "metadata": {
        "id": "facab60a"
      },
      "source": [
        "## FLASK 셋팅하기"
      ]
    },
    {
      "cell_type": "code",
      "execution_count": 10,
      "id": "9874dd6d",
      "metadata": {
        "id": "9874dd6d"
      },
      "outputs": [],
      "source": [
        "from flask import Flask\n",
        "from flask import render_template"
      ]
    },
    {
      "cell_type": "code",
      "execution_count": 11,
      "id": "d583e080",
      "metadata": {
        "id": "d583e080"
      },
      "outputs": [],
      "source": [
        "app = Flask(__name__)"
      ]
    },
    {
      "cell_type": "markdown",
      "id": "8553c0c4",
      "metadata": {
        "id": "8553c0c4"
      },
      "source": [
        "# FLASK API 구현부분"
      ]
    },
    {
      "cell_type": "code",
      "execution_count": 12,
      "id": "a2c2c5b6",
      "metadata": {
        "id": "a2c2c5b6"
      },
      "outputs": [],
      "source": [
        "@app.route('/SpecialSale/<busy_day>/<high_temperature>')\n",
        "def PredictionSpecialSale(busy_day=None, high_temperature=None):\n",
        "    Input = pd.DataFrame({\n",
        "        'busy_day':[int(busy_day)],\n",
        "        'high_temperature':[float(high_temperature)]\n",
        "    })\n",
        "    \n",
        "    return str(model.predict(Input)[0][0])"
      ]
    },
    {
      "cell_type": "markdown",
      "id": "7f1437e7",
      "metadata": {
        "id": "7f1437e7"
      },
      "source": [
        "# Flask, port 5000으로 실행"
      ]
    },
    {
      "cell_type": "code",
      "execution_count": 13,
      "id": "55b97941",
      "metadata": {
        "colab": {
          "base_uri": "https://localhost:8080/"
        },
        "id": "55b97941",
        "outputId": "83e070f3-fcb9-4ec9-f965-6649fd49af2a"
      },
      "outputs": [
        {
          "output_type": "stream",
          "name": "stdout",
          "text": [
            " * Serving Flask app \"__main__\" (lazy loading)\n",
            " * Environment: production\n",
            "\u001b[31m   WARNING: This is a development server. Do not use it in a production deployment.\u001b[0m\n",
            "\u001b[2m   Use a production WSGI server instead.\u001b[0m\n",
            " * Debug mode: off\n"
          ]
        },
        {
          "output_type": "stream",
          "name": "stderr",
          "text": [
            " * Running on http://0.0.0.0:5000/ (Press CTRL+C to quit)\n"
          ]
        }
      ],
      "source": [
        "app.run(host='0.0.0.0', port=5000)"
      ]
    },
    {
      "cell_type": "code",
      "execution_count": null,
      "id": "b50bb9ec",
      "metadata": {
        "id": "b50bb9ec"
      },
      "outputs": [],
      "source": [
        ""
      ]
    }
  ],
  "metadata": {
    "kernelspec": {
      "display_name": "Python 3 (ipykernel)",
      "language": "python",
      "name": "python3"
    },
    "language_info": {
      "codemirror_mode": {
        "name": "ipython",
        "version": 3
      },
      "file_extension": ".py",
      "mimetype": "text/x-python",
      "name": "python",
      "nbconvert_exporter": "python",
      "pygments_lexer": "ipython3",
      "version": "3.10.2"
    },
    "colab": {
      "name": "SimpleProject1.ipynb",
      "provenance": [],
      "include_colab_link": true
    }
  },
  "nbformat": 4,
  "nbformat_minor": 5
}