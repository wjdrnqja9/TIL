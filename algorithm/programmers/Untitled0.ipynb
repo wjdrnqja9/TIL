{
  "nbformat": 4,
  "nbformat_minor": 0,
  "metadata": {
    "colab": {
      "name": "Untitled0.ipynb",
      "provenance": [],
      "authorship_tag": "ABX9TyNBtq3Ih9IJCzzbRLenJJ+o",
      "include_colab_link": true
    },
    "kernelspec": {
      "name": "python3",
      "display_name": "Python 3"
    },
    "language_info": {
      "name": "python"
    }
  },
  "cells": [
    {
      "cell_type": "markdown",
      "metadata": {
        "id": "view-in-github",
        "colab_type": "text"
      },
      "source": [
        "<a href=\"https://colab.research.google.com/github/wjdrnqja9/TIL/blob/main/algorithm/programmers/Untitled0.ipynb\" target=\"_parent\"><img src=\"https://colab.research.google.com/assets/colab-badge.svg\" alt=\"Open In Colab\"/></a>"
      ]
    },
    {
      "cell_type": "markdown",
      "source": [
        "정수 n을 입력받아 n의 약수를 모두 더한 값을 리턴하는 함수, solution을 완성해주세요."
      ],
      "metadata": {
        "id": "oRvr1_OrsTtb"
      }
    },
    {
      "cell_type": "code",
      "execution_count": null,
      "metadata": {
        "id": "kcDAIPLNry1T"
      },
      "outputs": [],
      "source": [
        "def solution(n):\n",
        "    answer = 0\n",
        "    for i in range(1, n+1):\n",
        "        if n % i == 0:\n",
        "            answer+=i\n",
        "    return answer"
      ]
    },
    {
      "cell_type": "markdown",
      "source": [
        "1부터 입력받은 숫자 n 사이에 있는 소수의 개수를 반환하는 함수, solution을 만들어 보세요.\n",
        "\n",
        "소수는 1과 자기 자신으로만 나누어지는 수를 의미합니다.\n",
        "(1은 소수가 아닙니다.)"
      ],
      "metadata": {
        "id": "Ic9rQn2osWC1"
      }
    },
    {
      "cell_type": "code",
      "source": [
        "def solution(n):\n",
        "    num = set(range(2,n+1))\n",
        "    \n",
        "    for i in range(2, n+1):\n",
        "        if i in num:\n",
        "            num -= set(range(2*i, n+1, i))\n",
        "        \n",
        "    return len(num)"
      ],
      "metadata": {
        "id": "jUL5WOegsZFK"
      },
      "execution_count": null,
      "outputs": []
    }
  ]
}