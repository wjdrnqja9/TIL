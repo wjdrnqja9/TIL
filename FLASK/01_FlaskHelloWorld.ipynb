{
  "cells": [
    {
      "cell_type": "markdown",
      "metadata": {
        "id": "view-in-github",
        "colab_type": "text"
      },
      "source": [
        "<a href=\"https://colab.research.google.com/github/wjdrnqja9/TIL/blob/main/FLASK/01_FlaskHelloWorld.ipynb\" target=\"_parent\"><img src=\"https://colab.research.google.com/assets/colab-badge.svg\" alt=\"Open In Colab\"/></a>"
      ]
    },
    {
      "cell_type": "code",
      "execution_count": 1,
      "id": "c9c6c5f8",
      "metadata": {
        "id": "c9c6c5f8"
      },
      "outputs": [],
      "source": [
        "from flask import Flask"
      ]
    },
    {
      "cell_type": "code",
      "execution_count": 2,
      "id": "5cb4ce68",
      "metadata": {
        "id": "5cb4ce68"
      },
      "outputs": [],
      "source": [
        "app = Flask(__name__)"
      ]
    },
    {
      "cell_type": "code",
      "execution_count": 3,
      "id": "dc74fc14",
      "metadata": {
        "id": "dc74fc14"
      },
      "outputs": [],
      "source": [
        "@app.route('/')\n",
        "def index():\n",
        "    return 'Web App with Python Flask!'"
      ]
    },
    {
      "cell_type": "code",
      "execution_count": null,
      "id": "c6573a34",
      "metadata": {
        "id": "c6573a34",
        "outputId": "cb26450c-46d9-4da3-c692-dc3994b9e462"
      },
      "outputs": [
        {
          "name": "stdout",
          "output_type": "stream",
          "text": [
            " * Serving Flask app '__main__' (lazy loading)\n",
            " * Environment: production\n",
            "\u001b[31m   WARNING: This is a development server. Do not use it in a production deployment.\u001b[0m\n",
            "\u001b[2m   Use a production WSGI server instead.\u001b[0m\n",
            " * Debug mode: off\n"
          ]
        },
        {
          "name": "stderr",
          "output_type": "stream",
          "text": [
            " * Running on all addresses (0.0.0.0)\n",
            "   WARNING: This is a development server. Do not use it in a production deployment.\n",
            " * Running on http://127.0.0.1:81\n",
            " * Running on http://172.30.65.187:81 (Press CTRL+C to quit)\n"
          ]
        }
      ],
      "source": [
        "app.run(host='0.0.0.0', port=5000)"
      ]
    }
  ],
  "metadata": {
    "kernelspec": {
      "display_name": "Python 3 (ipykernel)",
      "language": "python",
      "name": "python3"
    },
    "language_info": {
      "codemirror_mode": {
        "name": "ipython",
        "version": 3
      },
      "file_extension": ".py",
      "mimetype": "text/x-python",
      "name": "python",
      "nbconvert_exporter": "python",
      "pygments_lexer": "ipython3",
      "version": "3.10.2"
    },
    "colab": {
      "name": "01.FlaskHelloWorld.ipynb",
      "provenance": [],
      "include_colab_link": true
    }
  },
  "nbformat": 4,
  "nbformat_minor": 5
}