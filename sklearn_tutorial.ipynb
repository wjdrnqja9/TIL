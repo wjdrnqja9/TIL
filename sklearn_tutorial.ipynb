{
  "cells": [
    {
      "cell_type": "markdown",
      "metadata": {
        "id": "view-in-github",
        "colab_type": "text"
      },
      "source": [
        "<a href=\"https://colab.research.google.com/github/wjdrnqja9/TIL/blob/main/sklearn_tutorial.ipynb\" target=\"_parent\"><img src=\"https://colab.research.google.com/assets/colab-badge.svg\" alt=\"Open In Colab\"/></a>"
      ]
    },
    {
      "cell_type": "markdown",
      "id": "d90ca7ff",
      "metadata": {
        "id": "d90ca7ff"
      },
      "source": [
        "### Scikit-learn을 이용한 머신러닝 학습 가이드!\n",
        "\n",
        "- scikit-learn(sklearn)을 완전히 사용해서 end-to-end로 학습시키는 코드를 완성해봅니다!\n",
        "\n",
        "- 너무나 유명한 california house pricing 데이터를 이용하여 회귀분석 예제 코드를 만들어봅시다.\n",
        "\n",
        "\n",
        "> Data Load - Data Preprocessing - Fit - Evalution - Predict"
      ]
    },
    {
      "cell_type": "code",
      "execution_count": 1,
      "id": "e5e1add9",
      "metadata": {
        "colab": {
          "base_uri": "https://localhost:8080/"
        },
        "id": "e5e1add9",
        "outputId": "0df3b63f-a2df-42bb-a1d3-fe38aaea6e9f"
      },
      "outputs": [
        {
          "output_type": "stream",
          "name": "stdout",
          "text": [
            "Requirement already satisfied: sklearn in /usr/local/lib/python3.7/dist-packages (0.0)\n",
            "Requirement already satisfied: scikit-learn in /usr/local/lib/python3.7/dist-packages (from sklearn) (1.0.2)\n",
            "Requirement already satisfied: joblib>=0.11 in /usr/local/lib/python3.7/dist-packages (from scikit-learn->sklearn) (1.1.0)\n",
            "Requirement already satisfied: threadpoolctl>=2.0.0 in /usr/local/lib/python3.7/dist-packages (from scikit-learn->sklearn) (3.1.0)\n",
            "Requirement already satisfied: numpy>=1.14.6 in /usr/local/lib/python3.7/dist-packages (from scikit-learn->sklearn) (1.21.6)\n",
            "Requirement already satisfied: scipy>=1.1.0 in /usr/local/lib/python3.7/dist-packages (from scikit-learn->sklearn) (1.4.1)\n"
          ]
        }
      ],
      "source": [
        "!pip install sklearn"
      ]
    },
    {
      "cell_type": "markdown",
      "source": [
        "##Data Load"
      ],
      "metadata": {
        "id": "419I7mPyhFyO"
      },
      "id": "419I7mPyhFyO"
    },
    {
      "cell_type": "code",
      "execution_count": 18,
      "id": "ae90ce8c",
      "metadata": {
        "colab": {
          "base_uri": "https://localhost:8080/"
        },
        "id": "ae90ce8c",
        "outputId": "4e4f0d1d-b151-49a6-e583-0c2a3b6e7a4a"
      },
      "outputs": [
        {
          "output_type": "stream",
          "name": "stdout",
          "text": [
            "(20640, 8) (20640,)\n"
          ]
        }
      ],
      "source": [
        "# Hands-on!!\n",
        "from sklearn.datasets import fetch_california_housing\n",
        "\n",
        "X = fetch_california_housing(as_frame=True).data # X\n",
        "y = fetch_california_housing(as_frame=True).target # y\n",
        "\n",
        "print(X.shape, y.shape)"
      ]
    },
    {
      "cell_type": "markdown",
      "source": [
        "##Data Preprocessing + EDA"
      ],
      "metadata": {
        "id": "iCLi0gXZhHzM"
      },
      "id": "iCLi0gXZhHzM"
    },
    {
      "cell_type": "code",
      "source": [
        "import numpy as np\n",
        "import pandas as pd\n",
        "import matplotlib.pyplot as plt\n",
        "import seaborn as sns\n",
        "# 1. 결측치 확인\n",
        "# X.info()\n",
        "X[X.isnull().any(axis=1)]\n",
        "# 2. dtype이 object인 column이 있는지 확인 --> categorical feature를 확인하기 위해!\n",
        "\n",
        "# 3 target distribution\n",
        "plt.figure(figsize=(12,8))\n",
        "sns.histplot(y, bins = 50)\n",
        "plt.show() # 5 이상은 모두 5로 통일 -> 클랩핑"
      ],
      "metadata": {
        "colab": {
          "base_uri": "https://localhost:8080/",
          "height": 497
        },
        "id": "hAV6kSWEfwJC",
        "outputId": "b458edcb-d8c4-421b-a739-ae6632ccd1cc"
      },
      "id": "hAV6kSWEfwJC",
      "execution_count": 14,
      "outputs": [
        {
          "output_type": "display_data",
          "data": {
            "text/plain": [
              "<Figure size 864x576 with 1 Axes>"
            ],
            "image/png": "[encoded data removed]"
          },
          "metadata": {
            "needs_background": "light"
          }
        }
      ]
    },
    {
      "cell_type": "code",
      "source": [
        "## Train-test Split\n",
        "from sklearn.model_selection import train_test_split\n",
        "\n",
        "# 트테트테 (한 줄 무조건 외우기)\n",
        "X_train, X_test, y_train, y_test = train_test_split(X, y, test_size=0.2, random_state=0xC0FFEE)\n",
        "print(X_train.shape, X_test.shape, y_train.shape, y_test.shape)\n"
      ],
      "metadata": {
        "colab": {
          "base_uri": "https://localhost:8080/"
        },
        "id": "7Lpi-Zi9hPsR",
        "outputId": "cabd3c90-ea70-4df9-bcda-d2e80d844ae0"
      },
      "id": "7Lpi-Zi9hPsR",
      "execution_count": 31,
      "outputs": [
        {
          "output_type": "stream",
          "name": "stdout",
          "text": [
            "(16512, 8) (4128, 8) (16512,) (4128,)\n"
          ]
        }
      ]
    },
    {
      "cell_type": "markdown",
      "source": [
        "##Training(Fit)"
      ],
      "metadata": {
        "id": "GiKV4N07kPvt"
      },
      "id": "GiKV4N07kPvt"
    },
    {
      "cell_type": "code",
      "source": [
        "# 1. 사용할 함수를 불러옵니다.\n",
        "from sklearn.linear_model import LinearRegression\n",
        "from lightgbm.sklearn import LGBMRegressor\n",
        "\n",
        "# 2. 사용할 함수의 객체를 생성합니다.\n",
        "reg = LinearRegression()\n",
        "reg2 = LGBMRegressor()\n",
        "\n",
        "# 3. 학습\n",
        "reg.fit(X_train, y_train)\n",
        "reg2.fit(X_train, y_train)"
      ],
      "metadata": {
        "colab": {
          "base_uri": "https://localhost:8080/"
        },
        "id": "0Z_UiwHmkPFa",
        "outputId": "0b9b3870-8d76-4428-c382-567b14f1691a"
      },
      "id": "0Z_UiwHmkPFa",
      "execution_count": 34,
      "outputs": [
        {
          "output_type": "execute_result",
          "data": {
            "text/plain": [
              "LGBMRegressor()"
            ]
          },
          "metadata": {},
          "execution_count": 34
        }
      ]
    },
    {
      "cell_type": "markdown",
      "source": [
        "###Evaluation"
      ],
      "metadata": {
        "id": "h8aXgkQFlzSD"
      },
      "id": "h8aXgkQFlzSD"
    },
    {
      "cell_type": "code",
      "source": [
        "# 학습 결과를 확인 (평가 지표.)\n",
        "from sklearn.metrics import mean_squared_error, r2_score\n",
        "\n",
        "pred = reg.predict(X_train) #y_hat\n",
        "pred2 = reg2.predict(X_train)\n",
        "\n",
        "print(\"--- Linear Regression ---\")\n",
        "print(\"MSE : %.4f\" % mean_squared_error(y_train, pred))\n",
        "print(\"R2 : %.4f\" % r2_score(y_train, pred))\n",
        "print(\"\\n\\n--- LightGBM ---\")\n",
        "print(\"MSE : %.4f\" % mean_squared_error(y_train, pred))\n",
        "print(\"R2 : %.4f\" % r2_score(y_train, pred))"
      ],
      "metadata": {
        "colab": {
          "base_uri": "https://localhost:8080/"
        },
        "id": "XR80tJHzlqik",
        "outputId": "32e753f8-b063-42a2-a22a-53e26cc21d48"
      },
      "id": "XR80tJHzlqik",
      "execution_count": 35,
      "outputs": [
        {
          "output_type": "stream",
          "name": "stdout",
          "text": [
            "--- Linear Regression ---\n",
            "MSE : 0.5309\n",
            "R2 : 0.6018\n",
            "\n",
            "\n",
            "--- LightGBM ---\n",
            "MSE : 0.5309\n",
            "R2 : 0.6018\n"
          ]
        }
      ]
    },
    {
      "cell_type": "markdown",
      "source": [
        "###Prediction"
      ],
      "metadata": {
        "id": "KpjXdXqPnIcJ"
      },
      "id": "KpjXdXqPnIcJ"
    },
    {
      "cell_type": "code",
      "source": [
        "result = reg.predict(X_test)\n",
        "result2 = reg2.predict(X_test)\n",
        "print(\"--- Linear Regression ---\")\n",
        "print(\"MSE : %.4f\" % mean_squared_error(y_test, result))\n",
        "print(\"R2 : %.4f\" % r2_score(y_test, result))\n",
        "print(\"\\n\\n--- Light GBM ---\")\n",
        "print(\"MSE : %.4f\" % mean_squared_error(y_test, result2))\n",
        "print(\"R2 : %.4f\" % r2_score(y_test, result2))"
      ],
      "metadata": {
        "colab": {
          "base_uri": "https://localhost:8080/"
        },
        "id": "UCx3L5gFmWyf",
        "outputId": "26655a68-5439-49b8-c4f7-d530dad8b7bc"
      },
      "id": "UCx3L5gFmWyf",
      "execution_count": 38,
      "outputs": [
        {
          "output_type": "stream",
          "name": "stdout",
          "text": [
            "--- Linear Regression ---\n",
            "MSE : 0.5005\n",
            "R2 : 0.6224\n",
            "\n",
            "\n",
            "--- Light GBM ---\n",
            "MSE : 0.2106\n",
            "R2 : 0.8411\n"
          ]
        }
      ]
    }
  ],
  "metadata": {
    "kernelspec": {
      "display_name": "Python 3 (ipykernel)",
      "language": "python",
      "name": "python3"
    },
    "language_info": {
      "codemirror_mode": {
        "name": "ipython",
        "version": 3
      },
      "file_extension": ".py",
      "mimetype": "text/x-python",
      "name": "python",
      "nbconvert_exporter": "python",
      "pygments_lexer": "ipython3",
      "version": "3.10.2"
    },
    "colab": {
      "name": "sklearn-tutorial.ipynb",
      "provenance": [],
      "include_colab_link": true
    }
  },
  "nbformat": 4,
  "nbformat_minor": 5
}