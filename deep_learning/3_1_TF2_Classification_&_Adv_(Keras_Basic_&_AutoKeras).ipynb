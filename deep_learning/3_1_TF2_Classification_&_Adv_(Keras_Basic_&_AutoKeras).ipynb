{
  "cells": [
    {
      "cell_type": "markdown",
      "metadata": {
        "id": "view-in-github",
        "colab_type": "text"
      },
      "source": [
        "<a href=\"https://colab.research.google.com/github/wjdrnqja9/TIL/blob/main/deep_learning/3_1_TF2_Classification_%26_Adv_(Keras_Basic_%26_AutoKeras).ipynb\" target=\"_parent\"><img src=\"https://colab.research.google.com/assets/colab-badge.svg\" alt=\"Open In Colab\"/></a>"
      ]
    },
    {
      "cell_type": "code",
      "execution_count": 1,
      "metadata": {
        "id": "FKkWX6bjU7Y0"
      },
      "outputs": [],
      "source": [
        "import tensorflow as tf\n",
        "from tensorflow.keras import datasets, models, layers, utils, losses"
      ]
    },
    {
      "cell_type": "code",
      "execution_count": 2,
      "metadata": {
        "id": "INnx0X4tU7Y2"
      },
      "outputs": [],
      "source": [
        "import os\n",
        "os.environ['TF_CPP_MIN_LOG_LEVEL'] = '2' # https://stackoverflow.com/questions/35911252/disable-tensorflow-debugging-information"
      ]
    },
    {
      "cell_type": "markdown",
      "metadata": {
        "id": "IejtJS_ZU7Y3"
      },
      "source": [
        "<br> \n",
        "\n",
        "#### 1. Prepare train & test data (MNIST)"
      ]
    },
    {
      "cell_type": "markdown",
      "metadata": {
        "id": "TE_rKGSBU7Y4"
      },
      "source": [
        "#### Train & Test split"
      ]
    },
    {
      "cell_type": "code",
      "execution_count": 3,
      "metadata": {
        "colab": {
          "base_uri": "https://localhost:8080/"
        },
        "id": "AJk8nEkUU7Y4",
        "outputId": "64994ba5-a1da-4e06-b1c7-ab5e52444446"
      },
      "outputs": [
        {
          "output_type": "stream",
          "name": "stdout",
          "text": [
            "Downloading data from https://storage.googleapis.com/tensorflow/tf-keras-datasets/mnist.npz\n",
            "11493376/11490434 [==============================] - 0s 0us/step\n",
            "11501568/11490434 [==============================] - 0s 0us/step\n"
          ]
        }
      ],
      "source": [
        "(train_data, train_label), (test_data, test_label) = datasets.mnist.load_data()"
      ]
    },
    {
      "cell_type": "code",
      "execution_count": 4,
      "metadata": {
        "colab": {
          "base_uri": "https://localhost:8080/"
        },
        "id": "8XuggMMnU7Y5",
        "outputId": "9dbc7dd1-ffa9-4b14-d9e4-717d9fbb7ab7"
      },
      "outputs": [
        {
          "output_type": "stream",
          "name": "stdout",
          "text": [
            "(60000, 28, 28)\n",
            "(10000, 28, 28)\n"
          ]
        }
      ],
      "source": [
        "print(train_data.shape) # # of training data == 60000, each data = 28px * 28px\n",
        "print(test_data.shape) # # of test data == 10000"
      ]
    },
    {
      "cell_type": "code",
      "execution_count": 5,
      "metadata": {
        "colab": {
          "base_uri": "https://localhost:8080/",
          "height": 283
        },
        "id": "u3vbqW35U7Y5",
        "outputId": "137eea75-890e-439b-b38b-732b8bf6140c"
      },
      "outputs": [
        {
          "output_type": "execute_result",
          "data": {
            "text/plain": [
              "<matplotlib.image.AxesImage at 0x7f46a6085dd0>"
            ]
          },
          "metadata": {},
          "execution_count": 5
        },
        {
          "output_type": "display_data",
          "data": {
            "text/plain": [
              "<Figure size 432x288 with 1 Axes>"
            ],
            "image/png": "[encoded data removed]"
          },
          "metadata": {
            "needs_background": "light"
          }
        }
      ],
      "source": [
        "import matplotlib.pyplot as plt\n",
        "\n",
        "plt.imshow(train_data[0], cmap='gray') # 60000장의 train data 중 첫번째 data"
      ]
    },
    {
      "cell_type": "markdown",
      "metadata": {
        "id": "v-i5KgHaU7Y6"
      },
      "source": [
        "#### Normalization"
      ]
    },
    {
      "cell_type": "code",
      "execution_count": 6,
      "metadata": {
        "colab": {
          "base_uri": "https://localhost:8080/"
        },
        "id": "py6Y-wjDU7Y6",
        "outputId": "2c8acdc4-e424-41be-acdf-bc6c7edfae39"
      },
      "outputs": [
        {
          "output_type": "stream",
          "name": "stdout",
          "text": [
            "0\n",
            "255\n"
          ]
        }
      ],
      "source": [
        "# 각 이미지(28px * 28px)는 0~255 사이의 숫자로 이루어져 있습니다.\n",
        "\n",
        "print(train_data.min())\n",
        "print(train_data.max()) "
      ]
    },
    {
      "cell_type": "code",
      "execution_count": 7,
      "metadata": {
        "id": "OJ33i2YEU7Y7"
      },
      "outputs": [],
      "source": [
        "# 각 이미지를 [28행 x 28열]에서 [1행 x 784열]로 펼쳐줍니다. \n",
        "# 각 이미지 내의 pixel 값을 [0~255]에서 [0~1]로 바꿔줍니다.\n",
        "\n",
        "train_data = train_data.reshape(60000, 784) / 255.0\n",
        "test_data = test_data.reshape(10000, 784) / 255.0"
      ]
    },
    {
      "cell_type": "code",
      "execution_count": 8,
      "metadata": {
        "colab": {
          "base_uri": "https://localhost:8080/"
        },
        "id": "3NDjUYrtU7Y8",
        "outputId": "45b633d2-ce38-46a4-d015-7e6ceecbbe3f"
      },
      "outputs": [
        {
          "output_type": "execute_result",
          "data": {
            "text/plain": [
              "(60000, 784)"
            ]
          },
          "metadata": {},
          "execution_count": 8
        }
      ],
      "source": [
        "train_data.shape"
      ]
    },
    {
      "cell_type": "markdown",
      "metadata": {
        "id": "0hM71QW_U7Y8"
      },
      "source": [
        "#### One-hot encoding"
      ]
    },
    {
      "cell_type": "code",
      "execution_count": 9,
      "metadata": {
        "colab": {
          "base_uri": "https://localhost:8080/"
        },
        "id": "HiA1q8j4U7Y8",
        "outputId": "2a31bbee-d410-415b-a20a-662f45fc9ee0"
      },
      "outputs": [
        {
          "output_type": "execute_result",
          "data": {
            "text/plain": [
              "array([5, 0, 4, ..., 5, 6, 8], dtype=uint8)"
            ]
          },
          "metadata": {},
          "execution_count": 9
        }
      ],
      "source": [
        "# 각 이미지에 대한 label은 integer value로 이루어져 있습니다.\n",
        "\n",
        "train_label"
      ]
    },
    {
      "cell_type": "code",
      "execution_count": 10,
      "metadata": {
        "id": "0z0v7uLIU7Y9"
      },
      "outputs": [],
      "source": [
        "# 각 label을 integer value에서 one-hot vector로 변경해줍니다. (Tensorflow 2.x 활용)\n",
        "\n",
        "train_label = utils.to_categorical(train_label) # 0~9 -> one-hot vector\n",
        "test_label = utils.to_categorical(test_label) # 0~9 -> one-hot vector"
      ]
    },
    {
      "cell_type": "code",
      "execution_count": 11,
      "metadata": {
        "colab": {
          "base_uri": "https://localhost:8080/",
          "height": 143
        },
        "id": "1kahk9vjU7Y9",
        "outputId": "285f56fc-11cb-4efd-d381-a2fc7e4a32da"
      },
      "outputs": [
        {
          "output_type": "execute_result",
          "data": {
            "text/plain": [
              "     0    1    2    3    4    5    6    7    8    9\n",
              "0  0.0  0.0  0.0  0.0  0.0  1.0  0.0  0.0  0.0  0.0\n",
              "1  1.0  0.0  0.0  0.0  0.0  0.0  0.0  0.0  0.0  0.0\n",
              "2  0.0  0.0  0.0  0.0  1.0  0.0  0.0  0.0  0.0  0.0"
            ],
            "text/html": [
              "\n",
              "  <div id=\"df-72d9255c-7f15-4953-8682-68a964cd537d\">\n",
              "    <div class=\"colab-df-container\">\n",
              "      <div>\n",
              "<style scoped>\n",
              "    .dataframe tbody tr th:only-of-type {\n",
              "        vertical-align: middle;\n",
              "    }\n",
              "\n",
              "    .dataframe tbody tr th {\n",
              "        vertical-align: top;\n",
              "    }\n",
              "\n",
              "    .dataframe thead th {\n",
              "        text-align: right;\n",
              "    }\n",
              "</style>\n",
              "<table border=\"1\" class=\"dataframe\">\n",
              "  <thead>\n",
              "    <tr style=\"text-align: right;\">\n",
              "      <th></th>\n",
              "      <th>0</th>\n",
              "      <th>1</th>\n",
              "      <th>2</th>\n",
              "      <th>3</th>\n",
              "      <th>4</th>\n",
              "      <th>5</th>\n",
              "      <th>6</th>\n",
              "      <th>7</th>\n",
              "      <th>8</th>\n",
              "      <th>9</th>\n",
              "    </tr>\n",
              "  </thead>\n",
              "  <tbody>\n",
              "    <tr>\n",
              "      <th>0</th>\n",
              "      <td>0.0</td>\n",
              "      <td>0.0</td>\n",
              "      <td>0.0</td>\n",
              "      <td>0.0</td>\n",
              "      <td>0.0</td>\n",
              "      <td>1.0</td>\n",
              "      <td>0.0</td>\n",
              "      <td>0.0</td>\n",
              "      <td>0.0</td>\n",
              "      <td>0.0</td>\n",
              "    </tr>\n",
              "    <tr>\n",
              "      <th>1</th>\n",
              "      <td>1.0</td>\n",
              "      <td>0.0</td>\n",
              "      <td>0.0</td>\n",
              "      <td>0.0</td>\n",
              "      <td>0.0</td>\n",
              "      <td>0.0</td>\n",
              "      <td>0.0</td>\n",
              "      <td>0.0</td>\n",
              "      <td>0.0</td>\n",
              "      <td>0.0</td>\n",
              "    </tr>\n",
              "    <tr>\n",
              "      <th>2</th>\n",
              "      <td>0.0</td>\n",
              "      <td>0.0</td>\n",
              "      <td>0.0</td>\n",
              "      <td>0.0</td>\n",
              "      <td>1.0</td>\n",
              "      <td>0.0</td>\n",
              "      <td>0.0</td>\n",
              "      <td>0.0</td>\n",
              "      <td>0.0</td>\n",
              "      <td>0.0</td>\n",
              "    </tr>\n",
              "  </tbody>\n",
              "</table>\n",
              "</div>\n",
              "      <button class=\"colab-df-convert\" onclick=\"convertToInteractive('df-72d9255c-7f15-4953-8682-68a964cd537d')\"\n",
              "              title=\"Convert this dataframe to an interactive table.\"\n",
              "              style=\"display:none;\">\n",
              "        \n",
              "  <svg xmlns=\"http://www.w3.org/2000/svg\" height=\"24px\"viewBox=\"0 0 24 24\"\n",
              "       width=\"24px\">\n",
              "    <path d=\"M0 0h24v24H0V0z\" fill=\"none\"/>\n",
              "    <path d=\"M18.56 5.44l.94 2.06.94-2.06 2.06-.94-2.06-.94-.94-2.06-.94 2.06-2.06.94zm-11 1L8.5 8.5l.94-2.06 2.06-.94-2.06-.94L8.5 2.5l-.94 2.06-2.06.94zm10 10l.94 2.06.94-2.06 2.06-.94-2.06-.94-.94-2.06-.94 2.06-2.06.94z\"/><path d=\"M17.41 7.96l-1.37-1.37c-.4-.4-.92-.59-1.43-.59-.52 0-1.04.2-1.43.59L10.3 9.45l-7.72 7.72c-.78.78-.78 2.05 0 2.83L4 21.41c.39.39.9.59 1.41.59.51 0 1.02-.2 1.41-.59l7.78-7.78 2.81-2.81c.8-.78.8-2.07 0-2.86zM5.41 20L4 18.59l7.72-7.72 1.47 1.35L5.41 20z\"/>\n",
              "  </svg>\n",
              "      </button>\n",
              "      \n",
              "  <style>\n",
              "    .colab-df-container {\n",
              "      display:flex;\n",
              "      flex-wrap:wrap;\n",
              "      gap: 12px;\n",
              "    }\n",
              "\n",
              "    .colab-df-convert {\n",
              "      background-color: #E8F0FE;\n",
              "      border: none;\n",
              "      border-radius: 50%;\n",
              "      cursor: pointer;\n",
              "      display: none;\n",
              "      fill: #1967D2;\n",
              "      height: 32px;\n",
              "      padding: 0 0 0 0;\n",
              "      width: 32px;\n",
              "    }\n",
              "\n",
              "    .colab-df-convert:hover {\n",
              "      background-color: #E2EBFA;\n",
              "      box-shadow: 0px 1px 2px rgba(60, 64, 67, 0.3), 0px 1px 3px 1px rgba(60, 64, 67, 0.15);\n",
              "      fill: #174EA6;\n",
              "    }\n",
              "\n",
              "    [theme=dark] .colab-df-convert {\n",
              "      background-color: #3B4455;\n",
              "      fill: #D2E3FC;\n",
              "    }\n",
              "\n",
              "    [theme=dark] .colab-df-convert:hover {\n",
              "      background-color: #434B5C;\n",
              "      box-shadow: 0px 1px 3px 1px rgba(0, 0, 0, 0.15);\n",
              "      filter: drop-shadow(0px 1px 2px rgba(0, 0, 0, 0.3));\n",
              "      fill: #FFFFFF;\n",
              "    }\n",
              "  </style>\n",
              "\n",
              "      <script>\n",
              "        const buttonEl =\n",
              "          document.querySelector('#df-72d9255c-7f15-4953-8682-68a964cd537d button.colab-df-convert');\n",
              "        buttonEl.style.display =\n",
              "          google.colab.kernel.accessAllowed ? 'block' : 'none';\n",
              "\n",
              "        async function convertToInteractive(key) {\n",
              "          const element = document.querySelector('#df-72d9255c-7f15-4953-8682-68a964cd537d');\n",
              "          const dataTable =\n",
              "            await google.colab.kernel.invokeFunction('convertToInteractive',\n",
              "                                                     [key], {});\n",
              "          if (!dataTable) return;\n",
              "\n",
              "          const docLinkHtml = 'Like what you see? Visit the ' +\n",
              "            '<a target=\"_blank\" href=https://colab.research.google.com/notebooks/data_table.ipynb>data table notebook</a>'\n",
              "            + ' to learn more about interactive tables.';\n",
              "          element.innerHTML = '';\n",
              "          dataTable['output_type'] = 'display_data';\n",
              "          await google.colab.output.renderOutput(dataTable, element);\n",
              "          const docLink = document.createElement('div');\n",
              "          docLink.innerHTML = docLinkHtml;\n",
              "          element.appendChild(docLink);\n",
              "        }\n",
              "      </script>\n",
              "    </div>\n",
              "  </div>\n",
              "  "
            ]
          },
          "metadata": {},
          "execution_count": 11
        }
      ],
      "source": [
        "# 기존의 integer label들이 아래와 같은 one-hot vector들로 변경된 것을 확인할 수 있습니다.\n",
        "\n",
        "import pandas as pd\n",
        "\n",
        "pd.DataFrame(train_label).head(3)"
      ]
    },
    {
      "cell_type": "markdown",
      "metadata": {
        "id": "Hg3ggOqvU7Y9"
      },
      "source": [
        "<br> \n",
        "\n",
        "#### 2. Build the model & Set the criterion"
      ]
    },
    {
      "cell_type": "code",
      "execution_count": 12,
      "metadata": {
        "id": "co5zG_FWU7Y-"
      },
      "outputs": [],
      "source": [
        "model = models.Sequential() # Build up the \"Sequence\" of layers (Linear stack of layers)"
      ]
    },
    {
      "cell_type": "code",
      "execution_count": 13,
      "metadata": {
        "id": "MebP2Gl-U7Y-"
      },
      "outputs": [],
      "source": [
        "model.add(layers.Dense(input_dim=28*28, units=512, activation='relu', kernel_initializer='he_uniform')) # Dense-layer (relu & he)\n",
        "model.add(layers.Dropout(0.2)) # Dropout-layer\n",
        "model.add(layers.Dense(units=10, activation='softmax')) # (Output) Dense-layer with softmax function, 0~9 -> 10"
      ]
    },
    {
      "cell_type": "code",
      "execution_count": 14,
      "metadata": {
        "id": "IEcgnHnQU7Y-"
      },
      "outputs": [],
      "source": [
        "# \"Compile\" the model description (Configures the model for training)\n",
        "model.compile(optimizer='adam', \n",
        "              loss=losses.categorical_crossentropy, # See other available losses @ https://keras.io/losses/\n",
        "              metrics=['accuracy']) # TF 2.X 에서 Precision / Recall / F1-Score 적용하기 @ https://j.mp/3cf3lbi"
      ]
    },
    {
      "cell_type": "markdown",
      "metadata": {
        "id": "ebgomeNpU7Y-"
      },
      "source": [
        "<br> \n",
        "\n",
        "#### 3. Train the model"
      ]
    },
    {
      "cell_type": "code",
      "execution_count": 15,
      "metadata": {
        "colab": {
          "base_uri": "https://localhost:8080/"
        },
        "id": "UJtTzQDMU7Y-",
        "outputId": "aca22154-bf66-4eaf-8b2f-f2806bf7d4e5"
      },
      "outputs": [
        {
          "output_type": "stream",
          "name": "stdout",
          "text": [
            "Epoch 1/10\n",
            "600/600 [==============================] - 10s 15ms/step - loss: 0.2697 - accuracy: 0.9217\n",
            "Epoch 2/10\n",
            "600/600 [==============================] - 5s 8ms/step - loss: 0.1132 - accuracy: 0.9670\n",
            "Epoch 3/10\n",
            "600/600 [==============================] - 5s 9ms/step - loss: 0.0803 - accuracy: 0.9758\n",
            "Epoch 4/10\n",
            "600/600 [==============================] - 6s 9ms/step - loss: 0.0593 - accuracy: 0.9819\n",
            "Epoch 5/10\n",
            "600/600 [==============================] - 5s 9ms/step - loss: 0.0462 - accuracy: 0.9857\n",
            "Epoch 6/10\n",
            "600/600 [==============================] - 6s 9ms/step - loss: 0.0374 - accuracy: 0.9886\n",
            "Epoch 7/10\n",
            "600/600 [==============================] - 5s 9ms/step - loss: 0.0315 - accuracy: 0.9901\n",
            "Epoch 8/10\n",
            "600/600 [==============================] - 5s 9ms/step - loss: 0.0270 - accuracy: 0.9913\n",
            "Epoch 9/10\n",
            "600/600 [==============================] - 5s 9ms/step - loss: 0.0220 - accuracy: 0.9933\n",
            "Epoch 10/10\n",
            "600/600 [==============================] - 5s 8ms/step - loss: 0.0197 - accuracy: 0.9936\n"
          ]
        },
        {
          "output_type": "execute_result",
          "data": {
            "text/plain": [
              "<keras.callbacks.History at 0x7f46a1d4efd0>"
            ]
          },
          "metadata": {},
          "execution_count": 15
        }
      ],
      "source": [
        "# Fit the model on training data\n",
        "\n",
        "model.fit(train_data, train_label, batch_size=100, epochs=10) # default batch_size = 32"
      ]
    },
    {
      "cell_type": "markdown",
      "metadata": {
        "id": "v6xQ69XyU7Y_"
      },
      "source": [
        "<br> \n",
        "\n",
        "#### 4. Test the model"
      ]
    },
    {
      "cell_type": "code",
      "execution_count": 16,
      "metadata": {
        "colab": {
          "base_uri": "https://localhost:8080/"
        },
        "id": "eRC4wAB1U7Y_",
        "outputId": "05f28aad-9582-4edc-c4d4-80f69ceb6842"
      },
      "outputs": [
        {
          "output_type": "stream",
          "name": "stdout",
          "text": [
            "100/100 [==============================] - 1s 4ms/step - loss: 0.0603 - accuracy: 0.9826\n"
          ]
        }
      ],
      "source": [
        "# Evaluate the model on test data\n",
        "\n",
        "result = model.evaluate(test_data, test_label, batch_size=100)"
      ]
    },
    {
      "cell_type": "code",
      "execution_count": 17,
      "metadata": {
        "colab": {
          "base_uri": "https://localhost:8080/"
        },
        "id": "zv9XnPliU7Y_",
        "outputId": "ee3b6c68-bbb5-4cc7-9d2d-0a5ec1f60ae3"
      },
      "outputs": [
        {
          "output_type": "stream",
          "name": "stdout",
          "text": [
            "loss (cross-entropy) : 0.06030347943305969\n",
            "test accuracy : 0.9825999736785889\n"
          ]
        }
      ],
      "source": [
        "print('loss (cross-entropy) :', result[0])\n",
        "print('test accuracy :', result[1])"
      ]
    },
    {
      "cell_type": "markdown",
      "metadata": {
        "id": "K-ZFiFOsU7Y_"
      },
      "source": [
        "<br>\n",
        "\n",
        "### (Appendix 1) tf.keras.layers.Flatten() 활용법"
      ]
    },
    {
      "cell_type": "code",
      "execution_count": 18,
      "metadata": {
        "colab": {
          "base_uri": "https://localhost:8080/"
        },
        "id": "7g7f09qfU7Y_",
        "outputId": "4644d700-34a7-4d27-ab7f-efcfcde668e0"
      },
      "outputs": [
        {
          "output_type": "stream",
          "name": "stdout",
          "text": [
            "Epoch 1/10\n",
            "600/600 [==============================] - 6s 9ms/step - loss: 0.2679 - accuracy: 0.9231\n",
            "Epoch 2/10\n",
            "600/600 [==============================] - 6s 11ms/step - loss: 0.1147 - accuracy: 0.9665\n",
            "Epoch 3/10\n",
            "600/600 [==============================] - 6s 9ms/step - loss: 0.0793 - accuracy: 0.9758\n",
            "Epoch 4/10\n",
            "600/600 [==============================] - 5s 8ms/step - loss: 0.0598 - accuracy: 0.9817\n",
            "Epoch 5/10\n",
            "600/600 [==============================] - 5s 9ms/step - loss: 0.0492 - accuracy: 0.9846\n",
            "Epoch 6/10\n",
            "600/600 [==============================] - 5s 8ms/step - loss: 0.0387 - accuracy: 0.9884\n",
            "Epoch 7/10\n",
            "600/600 [==============================] - 6s 9ms/step - loss: 0.0320 - accuracy: 0.9898\n",
            "Epoch 8/10\n",
            "600/600 [==============================] - 6s 9ms/step - loss: 0.0256 - accuracy: 0.9920\n",
            "Epoch 9/10\n",
            "600/600 [==============================] - 5s 9ms/step - loss: 0.0227 - accuracy: 0.9928\n",
            "Epoch 10/10\n",
            "600/600 [==============================] - 5s 9ms/step - loss: 0.0198 - accuracy: 0.9938\n",
            "100/100 [==============================] - 1s 5ms/step - loss: 0.0645 - accuracy: 0.9818\n",
            "loss (cross-entropy) : 0.06454791873693466\n",
            "test accuracy : 0.9818000197410583\n"
          ]
        }
      ],
      "source": [
        "(train_data, train_label), (test_data, test_label) = datasets.mnist.load_data()\n",
        "\n",
        "# 아래 코드에서 reshape 적용을 생략하고, 대신 Flatten 레이어를 활용해 펼쳐낼 수 있습니다.\n",
        "# train_data = train_data.reshape(60000, 784) / 255.0\n",
        "# test_data = test_data.reshape(10000, 784) / 255.0\n",
        "\n",
        "train_data = train_data / 255.0\n",
        "test_data = test_data / 255.0\n",
        "\n",
        "train_label = utils.to_categorical(train_label)\n",
        "test_label = utils.to_categorical(test_label)\n",
        "\n",
        "\n",
        "model = models.Sequential() \n",
        "\n",
        "model.add(layers.Flatten()) # takes our 28x28 and makes it 1x784\n",
        "\n",
        "# model.add(layers.Dense(input_dim=28*28, units=512, activation='relu', kernel_initializer='he_uniform')) \n",
        "model.add(layers.Dense(units=512, activation=tf.nn.relu, kernel_initializer='he_uniform')) # tf.nn 활용이 가능합니다.\n",
        "model.add(layers.Dropout(0.2))\n",
        "model.add(layers.Dense(units=10, activation=tf.nn.softmax)) # tf.nn 활용이 가능합니다.\n",
        "\n",
        "model.compile(optimizer='adam', \n",
        "              loss=losses.categorical_crossentropy, \n",
        "              metrics=['accuracy'])\n",
        "\n",
        "model.fit(train_data, train_label, batch_size=100, epochs=10) \n",
        "\n",
        "result = model.evaluate(test_data, test_label, batch_size=100)\n",
        "print('loss (cross-entropy) :', result[0])\n",
        "print('test accuracy :', result[1])"
      ]
    },
    {
      "cell_type": "markdown",
      "metadata": {
        "id": "cMpQi7YlU7ZA"
      },
      "source": [
        "<br>\n",
        "\n",
        "### (Appendix 2) AutoKeras 활용법 (https://autokeras.com/)"
      ]
    },
    {
      "cell_type": "markdown",
      "metadata": {
        "id": "Stkz5tBBU7ZA"
      },
      "source": [
        "**\\* <span style=\"color:blue;\">AutoKeras보다 더 유용한 도구인 Keras-Tuner를 곧 학습할 예정입니다.</span>**\n",
        "\n",
        "\\* PyTorch 및 AutoKeras 설치 & AutoKeras fitting 과정에 시간이 무척 많이 소요됩니다.\n",
        "<br>\\* 개발환경이 영향을 받을 수 있으니 아래 코드는 **<span style=\"color:red;\">Google Colab 에서 실행</span>**하시는 것을 적극 권장합니다. (혹은 Conda 가상환경 활용)\n",
        "<br>\\* 금일 실습을 마치고 추후 복습하실 때 살펴보세요.\n",
        "<br><br>\n",
        "\n",
        "1) 먼저 OS에 맞는 pytorch를 설치해주어야 합니다. (available pip whl files @ https://goo.gl/uYVaPa)\n",
        "\n",
        ">conda install pytorch torchvision torchaudio cpuonly -c pytorch\n",
        "\n",
        "2) 그 다음 아래 명령어로 AutoKeras를 설치해줍니다.\n",
        "\n",
        "> pip install autokeras"
      ]
    },
    {
      "cell_type": "code",
      "execution_count": 19,
      "metadata": {
        "id": "qOawFDV8U7ZA"
      },
      "outputs": [],
      "source": [
        "from keras import datasets, models, layers, utils\n",
        "(train_data, train_label), (test_data, test_label) = datasets.mnist.load_data()"
      ]
    },
    {
      "cell_type": "code",
      "execution_count": null,
      "metadata": {
        "id": "3n2VxX-tU7ZA"
      },
      "outputs": [],
      "source": [
        "import autokeras as ak\n",
        "\n",
        "model = ak.ImageClassifier() # It searches CNN architectures for the best configuration for the image dataset.\n",
        "model.fit(train_data, train_label, time_limit=3600) # time_limit: The time limit for the search in seconds.\n",
        "\n",
        "accuracy = model.evaluate(test_data, test_label)\n",
        "result = model.predict(test_data)\n",
        "\n",
        "print(accuracy)\n",
        "print(result)"
      ]
    },
    {
      "cell_type": "markdown",
      "metadata": {
        "id": "0HpM8XteU7ZB"
      },
      "source": [
        "<br>\n",
        "\n",
        "#### Appendix \n",
        "- Automated Machine Learning with Auto-Keras @ http://j.mp/2xeG2c2\n",
        "- Keras vs PyTorch @ https://goo.gl/ar5VPB"
      ]
    }
  ],
  "metadata": {
    "kernel_info": {
      "name": "python3"
    },
    "kernelspec": {
      "display_name": "Python 3",
      "language": "python",
      "name": "python3"
    },
    "language_info": {
      "codemirror_mode": {
        "name": "ipython",
        "version": 3
      },
      "file_extension": ".py",
      "mimetype": "text/x-python",
      "name": "python",
      "nbconvert_exporter": "python",
      "pygments_lexer": "ipython3",
      "version": "3.8.8"
    },
    "nteract": {
      "version": "0.14.3"
    },
    "colab": {
      "name": "3-1. TF2 Classification & Adv (Keras Basic & AutoKeras).ipynb",
      "provenance": [],
      "include_colab_link": true
    }
  },
  "nbformat": 4,
  "nbformat_minor": 0
}