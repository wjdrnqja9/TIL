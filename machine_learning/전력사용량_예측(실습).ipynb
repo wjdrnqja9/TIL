{
  "cells": [
    {
      "cell_type": "markdown",
      "metadata": {
        "id": "view-in-github",
        "colab_type": "text"
      },
      "source": [
        "<a href=\"https://colab.research.google.com/github/wjdrnqja9/TIL/blob/main/machine_learning/%EC%A0%84%EB%A0%A5%EC%82%AC%EC%9A%A9%EB%9F%89_%EC%98%88%EC%B8%A1(%EC%8B%A4%EC%8A%B5).ipynb\" target=\"_parent\"><img src=\"https://colab.research.google.com/assets/colab-badge.svg\" alt=\"Open In Colab\"/></a>"
      ]
    },
    {
      "cell_type": "markdown",
      "metadata": {
        "id": "c1EzQ90x6eUa"
      },
      "source": [
        "## 1. 라이브러리 및 데이터 불러오기"
      ]
    },
    {
      "cell_type": "code",
      "source": [
        "from google.colab import drive\n",
        "drive.mount('/content/drive')"
      ],
      "metadata": {
        "colab": {
          "base_uri": "https://localhost:8080/"
        },
        "id": "oDQkxJx_6gYN",
        "outputId": "b8c56df2-cb4f-4edc-aa9b-bebebb76eb6b"
      },
      "execution_count": 1,
      "outputs": [
        {
          "output_type": "stream",
          "name": "stdout",
          "text": [
            "Mounted at /content/drive\n"
          ]
        }
      ]
    },
    {
      "cell_type": "code",
      "execution_count": 44,
      "metadata": {
        "id": "RRbrF72f6eUd"
      },
      "outputs": [],
      "source": [
        "# 분석에 필요한 라이브러리를 불러옵니다.\n",
        "import pandas as pd\n",
        "import numpy as np\n",
        "from sklearn.metrics import mean_squared_error\n",
        "from sklearn.metrics import mean_absolute_error\n",
        "base_path = \"/content/drive/MyDrive/Colab Notebooks/머신러닝/Extra Mini Projects/energy/\"\n"
      ]
    },
    {
      "cell_type": "code",
      "execution_count": 5,
      "metadata": {
        "id": "EinS-x6K6eUe"
      },
      "outputs": [],
      "source": [
        "train = pd.read_csv(base_path + \"train.csv\", encoding = \"cp949\")\n",
        "test = pd.read_csv(base_path + \"test.csv\", encoding = \"cp949\")\n",
        "submission = pd.read_csv(base_path + \"sample_submission.csv\")"
      ]
    },
    {
      "cell_type": "markdown",
      "source": [
        "### column 별 설명\n",
        "\n",
        "- num : 건물 번호 (1 ~ 60)\n",
        "\n",
        "- date_time : 시간 단위\n",
        "\n",
        "- 전력사용량(kWh) : 시간당 전력사용량 (target) -> Regression!\n",
        "\n",
        "- 기온, 풍속, 습도, 강수량, 일조 : 기상 정보 (시간 당)\n",
        "\n",
        "- 비전기냉방설비운영, 태양광보유 : categorical feature (0/1) (건물 정보)"
      ],
      "metadata": {
        "id": "xFz-fEFP7wX9"
      }
    },
    {
      "cell_type": "markdown",
      "source": [
        "### column 별 설명(test data)\n",
        "\n",
        "- 기온, 풍속, 습도, 일조(hr, 3시간) : 3시간 당 측정한 값.\n",
        "- 강수량(mm, 6시간) : 6시간 당 측정한 값\n",
        "- 비전기냉방설비운영, 태양광보유 : 건물 정보"
      ],
      "metadata": {
        "id": "api4zdhe-XRz"
      }
    },
    {
      "cell_type": "code",
      "source": [
        "#Q. 122400의 의미는? 85 x 60 x 24 = 122400. || 2020-06-01 ~ \n",
        "train"
      ],
      "metadata": {
        "colab": {
          "base_uri": "https://localhost:8080/",
          "height": 468
        },
        "id": "6rLl6Ldb9sRF",
        "outputId": "b3a53cb3-873a-46c3-aab6-143762f1b34e"
      },
      "execution_count": 6,
      "outputs": [
        {
          "output_type": "execute_result",
          "data": {
            "text/plain": [
              "        num      date_time  전력사용량(kWh)  기온(°C)  풍속(m/s)  습도(%)  강수량(mm)  \\\n",
              "0         1  2020-06-01 00    8179.056    17.6      2.5   92.0      0.8   \n",
              "1         1  2020-06-01 01    8135.640    17.7      2.9   91.0      0.3   \n",
              "2         1  2020-06-01 02    8107.128    17.5      3.2   91.0      0.0   \n",
              "3         1  2020-06-01 03    8048.808    17.1      3.2   91.0      0.0   \n",
              "4         1  2020-06-01 04    8043.624    17.0      3.3   92.0      0.0   \n",
              "...     ...            ...         ...     ...      ...    ...      ...   \n",
              "122395   60  2020-08-24 19    4114.368    27.8      2.3   68.0      0.0   \n",
              "122396   60  2020-08-24 20    3975.696    27.3      1.2   71.0      0.0   \n",
              "122397   60  2020-08-24 21    3572.208    27.3      1.8   71.0      0.0   \n",
              "122398   60  2020-08-24 22    3299.184    27.1      1.8   74.0      0.0   \n",
              "122399   60  2020-08-24 23    3204.576    27.1      2.6   75.0      0.0   \n",
              "\n",
              "        일조(hr)  비전기냉방설비운영  태양광보유  \n",
              "0          0.0        0.0    0.0  \n",
              "1          0.0        0.0    0.0  \n",
              "2          0.0        0.0    0.0  \n",
              "3          0.0        0.0    0.0  \n",
              "4          0.0        0.0    0.0  \n",
              "...        ...        ...    ...  \n",
              "122395     0.7        1.0    1.0  \n",
              "122396     0.0        1.0    1.0  \n",
              "122397     0.0        1.0    1.0  \n",
              "122398     0.0        1.0    1.0  \n",
              "122399     0.0        1.0    1.0  \n",
              "\n",
              "[122400 rows x 10 columns]"
            ],
            "text/html": [
              "\n",
              "  <div id=\"df-2e96533a-bafe-4c70-b274-c4f1d56f1903\">\n",
              "    <div class=\"colab-df-container\">\n",
              "      <div>\n",
              "<style scoped>\n",
              "    .dataframe tbody tr th:only-of-type {\n",
              "        vertical-align: middle;\n",
              "    }\n",
              "\n",
              "    .dataframe tbody tr th {\n",
              "        vertical-align: top;\n",
              "    }\n",
              "\n",
              "    .dataframe thead th {\n",
              "        text-align: right;\n",
              "    }\n",
              "</style>\n",
              "<table border=\"1\" class=\"dataframe\">\n",
              "  <thead>\n",
              "    <tr style=\"text-align: right;\">\n",
              "      <th></th>\n",
              "      <th>num</th>\n",
              "      <th>date_time</th>\n",
              "      <th>전력사용량(kWh)</th>\n",
              "      <th>기온(°C)</th>\n",
              "      <th>풍속(m/s)</th>\n",
              "      <th>습도(%)</th>\n",
              "      <th>강수량(mm)</th>\n",
              "      <th>일조(hr)</th>\n",
              "      <th>비전기냉방설비운영</th>\n",
              "      <th>태양광보유</th>\n",
              "    </tr>\n",
              "  </thead>\n",
              "  <tbody>\n",
              "    <tr>\n",
              "      <th>0</th>\n",
              "      <td>1</td>\n",
              "      <td>2020-06-01 00</td>\n",
              "      <td>8179.056</td>\n",
              "      <td>17.6</td>\n",
              "      <td>2.5</td>\n",
              "      <td>92.0</td>\n",
              "      <td>0.8</td>\n",
              "      <td>0.0</td>\n",
              "      <td>0.0</td>\n",
              "      <td>0.0</td>\n",
              "    </tr>\n",
              "    <tr>\n",
              "      <th>1</th>\n",
              "      <td>1</td>\n",
              "      <td>2020-06-01 01</td>\n",
              "      <td>8135.640</td>\n",
              "      <td>17.7</td>\n",
              "      <td>2.9</td>\n",
              "      <td>91.0</td>\n",
              "      <td>0.3</td>\n",
              "      <td>0.0</td>\n",
              "      <td>0.0</td>\n",
              "      <td>0.0</td>\n",
              "    </tr>\n",
              "    <tr>\n",
              "      <th>2</th>\n",
              "      <td>1</td>\n",
              "      <td>2020-06-01 02</td>\n",
              "      <td>8107.128</td>\n",
              "      <td>17.5</td>\n",
              "      <td>3.2</td>\n",
              "      <td>91.0</td>\n",
              "      <td>0.0</td>\n",
              "      <td>0.0</td>\n",
              "      <td>0.0</td>\n",
              "      <td>0.0</td>\n",
              "    </tr>\n",
              "    <tr>\n",
              "      <th>3</th>\n",
              "      <td>1</td>\n",
              "      <td>2020-06-01 03</td>\n",
              "      <td>8048.808</td>\n",
              "      <td>17.1</td>\n",
              "      <td>3.2</td>\n",
              "      <td>91.0</td>\n",
              "      <td>0.0</td>\n",
              "      <td>0.0</td>\n",
              "      <td>0.0</td>\n",
              "      <td>0.0</td>\n",
              "    </tr>\n",
              "    <tr>\n",
              "      <th>4</th>\n",
              "      <td>1</td>\n",
              "      <td>2020-06-01 04</td>\n",
              "      <td>8043.624</td>\n",
              "      <td>17.0</td>\n",
              "      <td>3.3</td>\n",
              "      <td>92.0</td>\n",
              "      <td>0.0</td>\n",
              "      <td>0.0</td>\n",
              "      <td>0.0</td>\n",
              "      <td>0.0</td>\n",
              "    </tr>\n",
              "    <tr>\n",
              "      <th>...</th>\n",
              "      <td>...</td>\n",
              "      <td>...</td>\n",
              "      <td>...</td>\n",
              "      <td>...</td>\n",
              "      <td>...</td>\n",
              "      <td>...</td>\n",
              "      <td>...</td>\n",
              "      <td>...</td>\n",
              "      <td>...</td>\n",
              "      <td>...</td>\n",
              "    </tr>\n",
              "    <tr>\n",
              "      <th>122395</th>\n",
              "      <td>60</td>\n",
              "      <td>2020-08-24 19</td>\n",
              "      <td>4114.368</td>\n",
              "      <td>27.8</td>\n",
              "      <td>2.3</td>\n",
              "      <td>68.0</td>\n",
              "      <td>0.0</td>\n",
              "      <td>0.7</td>\n",
              "      <td>1.0</td>\n",
              "      <td>1.0</td>\n",
              "    </tr>\n",
              "    <tr>\n",
              "      <th>122396</th>\n",
              "      <td>60</td>\n",
              "      <td>2020-08-24 20</td>\n",
              "      <td>3975.696</td>\n",
              "      <td>27.3</td>\n",
              "      <td>1.2</td>\n",
              "      <td>71.0</td>\n",
              "      <td>0.0</td>\n",
              "      <td>0.0</td>\n",
              "      <td>1.0</td>\n",
              "      <td>1.0</td>\n",
              "    </tr>\n",
              "    <tr>\n",
              "      <th>122397</th>\n",
              "      <td>60</td>\n",
              "      <td>2020-08-24 21</td>\n",
              "      <td>3572.208</td>\n",
              "      <td>27.3</td>\n",
              "      <td>1.8</td>\n",
              "      <td>71.0</td>\n",
              "      <td>0.0</td>\n",
              "      <td>0.0</td>\n",
              "      <td>1.0</td>\n",
              "      <td>1.0</td>\n",
              "    </tr>\n",
              "    <tr>\n",
              "      <th>122398</th>\n",
              "      <td>60</td>\n",
              "      <td>2020-08-24 22</td>\n",
              "      <td>3299.184</td>\n",
              "      <td>27.1</td>\n",
              "      <td>1.8</td>\n",
              "      <td>74.0</td>\n",
              "      <td>0.0</td>\n",
              "      <td>0.0</td>\n",
              "      <td>1.0</td>\n",
              "      <td>1.0</td>\n",
              "    </tr>\n",
              "    <tr>\n",
              "      <th>122399</th>\n",
              "      <td>60</td>\n",
              "      <td>2020-08-24 23</td>\n",
              "      <td>3204.576</td>\n",
              "      <td>27.1</td>\n",
              "      <td>2.6</td>\n",
              "      <td>75.0</td>\n",
              "      <td>0.0</td>\n",
              "      <td>0.0</td>\n",
              "      <td>1.0</td>\n",
              "      <td>1.0</td>\n",
              "    </tr>\n",
              "  </tbody>\n",
              "</table>\n",
              "<p>122400 rows × 10 columns</p>\n",
              "</div>\n",
              "      <button class=\"colab-df-convert\" onclick=\"convertToInteractive('df-2e96533a-bafe-4c70-b274-c4f1d56f1903')\"\n",
              "              title=\"Convert this dataframe to an interactive table.\"\n",
              "              style=\"display:none;\">\n",
              "        \n",
              "  <svg xmlns=\"http://www.w3.org/2000/svg\" height=\"24px\"viewBox=\"0 0 24 24\"\n",
              "       width=\"24px\">\n",
              "    <path d=\"M0 0h24v24H0V0z\" fill=\"none\"/>\n",
              "    <path d=\"M18.56 5.44l.94 2.06.94-2.06 2.06-.94-2.06-.94-.94-2.06-.94 2.06-2.06.94zm-11 1L8.5 8.5l.94-2.06 2.06-.94-2.06-.94L8.5 2.5l-.94 2.06-2.06.94zm10 10l.94 2.06.94-2.06 2.06-.94-2.06-.94-.94-2.06-.94 2.06-2.06.94z\"/><path d=\"M17.41 7.96l-1.37-1.37c-.4-.4-.92-.59-1.43-.59-.52 0-1.04.2-1.43.59L10.3 9.45l-7.72 7.72c-.78.78-.78 2.05 0 2.83L4 21.41c.39.39.9.59 1.41.59.51 0 1.02-.2 1.41-.59l7.78-7.78 2.81-2.81c.8-.78.8-2.07 0-2.86zM5.41 20L4 18.59l7.72-7.72 1.47 1.35L5.41 20z\"/>\n",
              "  </svg>\n",
              "      </button>\n",
              "      \n",
              "  <style>\n",
              "    .colab-df-container {\n",
              "      display:flex;\n",
              "      flex-wrap:wrap;\n",
              "      gap: 12px;\n",
              "    }\n",
              "\n",
              "    .colab-df-convert {\n",
              "      background-color: #E8F0FE;\n",
              "      border: none;\n",
              "      border-radius: 50%;\n",
              "      cursor: pointer;\n",
              "      display: none;\n",
              "      fill: #1967D2;\n",
              "      height: 32px;\n",
              "      padding: 0 0 0 0;\n",
              "      width: 32px;\n",
              "    }\n",
              "\n",
              "    .colab-df-convert:hover {\n",
              "      background-color: #E2EBFA;\n",
              "      box-shadow: 0px 1px 2px rgba(60, 64, 67, 0.3), 0px 1px 3px 1px rgba(60, 64, 67, 0.15);\n",
              "      fill: #174EA6;\n",
              "    }\n",
              "\n",
              "    [theme=dark] .colab-df-convert {\n",
              "      background-color: #3B4455;\n",
              "      fill: #D2E3FC;\n",
              "    }\n",
              "\n",
              "    [theme=dark] .colab-df-convert:hover {\n",
              "      background-color: #434B5C;\n",
              "      box-shadow: 0px 1px 3px 1px rgba(0, 0, 0, 0.15);\n",
              "      filter: drop-shadow(0px 1px 2px rgba(0, 0, 0, 0.3));\n",
              "      fill: #FFFFFF;\n",
              "    }\n",
              "  </style>\n",
              "\n",
              "      <script>\n",
              "        const buttonEl =\n",
              "          document.querySelector('#df-2e96533a-bafe-4c70-b274-c4f1d56f1903 button.colab-df-convert');\n",
              "        buttonEl.style.display =\n",
              "          google.colab.kernel.accessAllowed ? 'block' : 'none';\n",
              "\n",
              "        async function convertToInteractive(key) {\n",
              "          const element = document.querySelector('#df-2e96533a-bafe-4c70-b274-c4f1d56f1903');\n",
              "          const dataTable =\n",
              "            await google.colab.kernel.invokeFunction('convertToInteractive',\n",
              "                                                     [key], {});\n",
              "          if (!dataTable) return;\n",
              "\n",
              "          const docLinkHtml = 'Like what you see? Visit the ' +\n",
              "            '<a target=\"_blank\" href=https://colab.research.google.com/notebooks/data_table.ipynb>data table notebook</a>'\n",
              "            + ' to learn more about interactive tables.';\n",
              "          element.innerHTML = '';\n",
              "          dataTable['output_type'] = 'display_data';\n",
              "          await google.colab.output.renderOutput(dataTable, element);\n",
              "          const docLink = document.createElement('div');\n",
              "          docLink.innerHTML = docLinkHtml;\n",
              "          element.appendChild(docLink);\n",
              "        }\n",
              "      </script>\n",
              "    </div>\n",
              "  </div>\n",
              "  "
            ]
          },
          "metadata": {},
          "execution_count": 6
        }
      ]
    },
    {
      "cell_type": "code",
      "execution_count": 8,
      "metadata": {
        "colab": {
          "base_uri": "https://localhost:8080/"
        },
        "id": "WOPlhV_26eUg",
        "outputId": "cb8f53cb-ab95-4273-ab1f-f8d340770b44"
      },
      "outputs": [
        {
          "output_type": "stream",
          "name": "stdout",
          "text": [
            "<class 'pandas.core.frame.DataFrame'>\n",
            "RangeIndex: 10080 entries, 0 to 10079\n",
            "Data columns (total 9 columns):\n",
            " #   Column        Non-Null Count  Dtype  \n",
            "---  ------        --------------  -----  \n",
            " 0   num           10080 non-null  int64  \n",
            " 1   date_time     10080 non-null  object \n",
            " 2   기온(°C)        3360 non-null   float64\n",
            " 3   풍속(m/s)       3360 non-null   float64\n",
            " 4   습도(%)         3360 non-null   float64\n",
            " 5   강수량(mm, 6시간)  1680 non-null   float64\n",
            " 6   일조(hr, 3시간)   3360 non-null   float64\n",
            " 7   비전기냉방설비운영     2296 non-null   float64\n",
            " 8   태양광보유         1624 non-null   float64\n",
            "dtypes: float64(7), int64(1), object(1)\n",
            "memory usage: 708.9+ KB\n"
          ]
        }
      ],
      "source": [
        "# Q. 10080은?  10080 = 7 x 24 x 60\n",
        "test.info()"
      ]
    },
    {
      "cell_type": "code",
      "execution_count": 9,
      "metadata": {
        "id": "ea5G2JFi6eUf"
      },
      "outputs": [],
      "source": [
        "# column 이름 변경\n",
        "train.columns = [\"num\", \"date_time\", \"target\", \"temperature\",\n",
        "                \"windspeed\", \"humidity\", \"precipitation\",\n",
        "                \"insolation\", \"nelec_cool_flag\", \"solar_flag\"]\n",
        "test.columns = [\"num\", \"date_time\", \"temperature\",\n",
        "                \"windspeed\", \"humidity\", \"precipitation\",\n",
        "                \"insolation\", \"nelec_cool_flag\", \"solar_flag\"]"
      ]
    },
    {
      "cell_type": "markdown",
      "metadata": {
        "id": "qzFBbgDo6eUg"
      },
      "source": [
        "## 2. 데이터 전처리\n",
        "\n",
        "데이터 전처리할 때,  무조건 해야하는 것.\n",
        "\n",
        "\n",
        "- 결측치 처리 : 결측치를 채우거나, 지우거나 해서 없애야 함.\n",
        "\n",
        "\n",
        "- Catgorical feature 처리 : object형 column은 무조건 숫자로 변환."
      ]
    },
    {
      "cell_type": "markdown",
      "metadata": {
        "id": "Km4sU2j66eUg"
      },
      "source": [
        "### 2-1. 결측치 처리"
      ]
    },
    {
      "cell_type": "markdown",
      "metadata": {
        "id": "Q3kAFhtF6eUh"
      },
      "source": [
        "#### 건물 정보"
      ]
    },
    {
      "cell_type": "code",
      "execution_count": null,
      "metadata": {
        "id": "VZC-C59n6eUh"
      },
      "outputs": [],
      "source": [
        "#건물별로 '비전기냉방설비운영'과 '태양광보유'를 판단해 test set의 결측치를 보간해줍니다\n",
        "train[[\"num\", \"nelec_cool_flag\", \"solar_flag\"]].drop_duplicates() # --> 건물별로 정보가 똑같다."
      ]
    },
    {
      "cell_type": "markdown",
      "metadata": {
        "id": "vuxb2HlK6eUi"
      },
      "source": [
        "### 좀 더 스마트한 방법으로 채워보기! "
      ]
    },
    {
      "cell_type": "code",
      "execution_count": 12,
      "metadata": {
        "colab": {
          "base_uri": "https://localhost:8080/",
          "height": 1000
        },
        "id": "BBje6ze16eUi",
        "outputId": "579114c8-ce59-475e-85e9-c0758452d6b2"
      },
      "outputs": [
        {
          "output_type": "execute_result",
          "data": {
            "text/plain": [
              "        num  nelec_cool_flag  solar_flag\n",
              "0         1              0.0         0.0\n",
              "2040      2              1.0         0.0\n",
              "4080      3              1.0         1.0\n",
              "6120      4              1.0         1.0\n",
              "8160      5              1.0         0.0\n",
              "10200     6              0.0         0.0\n",
              "12240     7              1.0         0.0\n",
              "14280     8              1.0         1.0\n",
              "16320     9              0.0         1.0\n",
              "18360    10              1.0         0.0\n",
              "20400    11              0.0         0.0\n",
              "22440    12              1.0         1.0\n",
              "24480    13              1.0         0.0\n",
              "26520    14              1.0         1.0\n",
              "28560    15              1.0         0.0\n",
              "30600    16              1.0         1.0\n",
              "32640    17              1.0         0.0\n",
              "34680    18              0.0         0.0\n",
              "36720    19              0.0         0.0\n",
              "38760    20              0.0         0.0\n",
              "40800    21              0.0         1.0\n",
              "42840    22              1.0         0.0\n",
              "44880    23              0.0         1.0\n",
              "46920    24              1.0         1.0\n",
              "48960    25              1.0         0.0\n",
              "51000    26              0.0         1.0\n",
              "53040    27              1.0         1.0\n",
              "55080    28              1.0         0.0\n",
              "57120    29              0.0         0.0\n",
              "59160    30              1.0         1.0\n",
              "61200    31              1.0         0.0\n",
              "63240    32              0.0         0.0\n",
              "65280    33              1.0         0.0\n",
              "67320    34              1.0         1.0\n",
              "69360    35              1.0         0.0\n",
              "71400    36              0.0         1.0\n",
              "73440    37              1.0         1.0\n",
              "75480    38              1.0         1.0\n",
              "77520    39              1.0         1.0\n",
              "79560    40              1.0         1.0\n",
              "81600    41              1.0         0.0\n",
              "83640    42              1.0         1.0\n",
              "85680    43              1.0         1.0\n",
              "87720    44              1.0         1.0\n",
              "89760    45              0.0         1.0\n",
              "91800    46              1.0         0.0\n",
              "93840    47              1.0         1.0\n",
              "95880    48              0.0         0.0\n",
              "97920    49              0.0         0.0\n",
              "99960    50              0.0         0.0\n",
              "102000   51              0.0         1.0\n",
              "104040   52              1.0         1.0\n",
              "106080   53              1.0         0.0\n",
              "108120   54              1.0         0.0\n",
              "110160   55              1.0         1.0\n",
              "112200   56              0.0         1.0\n",
              "114240   57              1.0         0.0\n",
              "116280   58              1.0         0.0\n",
              "118320   59              1.0         0.0\n",
              "120360   60              1.0         1.0"
            ],
            "text/html": [
              "\n",
              "  <div id=\"df-2a242e75-9b38-4435-ba92-dd1f01eeb98f\">\n",
              "    <div class=\"colab-df-container\">\n",
              "      <div>\n",
              "<style scoped>\n",
              "    .dataframe tbody tr th:only-of-type {\n",
              "        vertical-align: middle;\n",
              "    }\n",
              "\n",
              "    .dataframe tbody tr th {\n",
              "        vertical-align: top;\n",
              "    }\n",
              "\n",
              "    .dataframe thead th {\n",
              "        text-align: right;\n",
              "    }\n",
              "</style>\n",
              "<table border=\"1\" class=\"dataframe\">\n",
              "  <thead>\n",
              "    <tr style=\"text-align: right;\">\n",
              "      <th></th>\n",
              "      <th>num</th>\n",
              "      <th>nelec_cool_flag</th>\n",
              "      <th>solar_flag</th>\n",
              "    </tr>\n",
              "  </thead>\n",
              "  <tbody>\n",
              "    <tr>\n",
              "      <th>0</th>\n",
              "      <td>1</td>\n",
              "      <td>0.0</td>\n",
              "      <td>0.0</td>\n",
              "    </tr>\n",
              "    <tr>\n",
              "      <th>2040</th>\n",
              "      <td>2</td>\n",
              "      <td>1.0</td>\n",
              "      <td>0.0</td>\n",
              "    </tr>\n",
              "    <tr>\n",
              "      <th>4080</th>\n",
              "      <td>3</td>\n",
              "      <td>1.0</td>\n",
              "      <td>1.0</td>\n",
              "    </tr>\n",
              "    <tr>\n",
              "      <th>6120</th>\n",
              "      <td>4</td>\n",
              "      <td>1.0</td>\n",
              "      <td>1.0</td>\n",
              "    </tr>\n",
              "    <tr>\n",
              "      <th>8160</th>\n",
              "      <td>5</td>\n",
              "      <td>1.0</td>\n",
              "      <td>0.0</td>\n",
              "    </tr>\n",
              "    <tr>\n",
              "      <th>10200</th>\n",
              "      <td>6</td>\n",
              "      <td>0.0</td>\n",
              "      <td>0.0</td>\n",
              "    </tr>\n",
              "    <tr>\n",
              "      <th>12240</th>\n",
              "      <td>7</td>\n",
              "      <td>1.0</td>\n",
              "      <td>0.0</td>\n",
              "    </tr>\n",
              "    <tr>\n",
              "      <th>14280</th>\n",
              "      <td>8</td>\n",
              "      <td>1.0</td>\n",
              "      <td>1.0</td>\n",
              "    </tr>\n",
              "    <tr>\n",
              "      <th>16320</th>\n",
              "      <td>9</td>\n",
              "      <td>0.0</td>\n",
              "      <td>1.0</td>\n",
              "    </tr>\n",
              "    <tr>\n",
              "      <th>18360</th>\n",
              "      <td>10</td>\n",
              "      <td>1.0</td>\n",
              "      <td>0.0</td>\n",
              "    </tr>\n",
              "    <tr>\n",
              "      <th>20400</th>\n",
              "      <td>11</td>\n",
              "      <td>0.0</td>\n",
              "      <td>0.0</td>\n",
              "    </tr>\n",
              "    <tr>\n",
              "      <th>22440</th>\n",
              "      <td>12</td>\n",
              "      <td>1.0</td>\n",
              "      <td>1.0</td>\n",
              "    </tr>\n",
              "    <tr>\n",
              "      <th>24480</th>\n",
              "      <td>13</td>\n",
              "      <td>1.0</td>\n",
              "      <td>0.0</td>\n",
              "    </tr>\n",
              "    <tr>\n",
              "      <th>26520</th>\n",
              "      <td>14</td>\n",
              "      <td>1.0</td>\n",
              "      <td>1.0</td>\n",
              "    </tr>\n",
              "    <tr>\n",
              "      <th>28560</th>\n",
              "      <td>15</td>\n",
              "      <td>1.0</td>\n",
              "      <td>0.0</td>\n",
              "    </tr>\n",
              "    <tr>\n",
              "      <th>30600</th>\n",
              "      <td>16</td>\n",
              "      <td>1.0</td>\n",
              "      <td>1.0</td>\n",
              "    </tr>\n",
              "    <tr>\n",
              "      <th>32640</th>\n",
              "      <td>17</td>\n",
              "      <td>1.0</td>\n",
              "      <td>0.0</td>\n",
              "    </tr>\n",
              "    <tr>\n",
              "      <th>34680</th>\n",
              "      <td>18</td>\n",
              "      <td>0.0</td>\n",
              "      <td>0.0</td>\n",
              "    </tr>\n",
              "    <tr>\n",
              "      <th>36720</th>\n",
              "      <td>19</td>\n",
              "      <td>0.0</td>\n",
              "      <td>0.0</td>\n",
              "    </tr>\n",
              "    <tr>\n",
              "      <th>38760</th>\n",
              "      <td>20</td>\n",
              "      <td>0.0</td>\n",
              "      <td>0.0</td>\n",
              "    </tr>\n",
              "    <tr>\n",
              "      <th>40800</th>\n",
              "      <td>21</td>\n",
              "      <td>0.0</td>\n",
              "      <td>1.0</td>\n",
              "    </tr>\n",
              "    <tr>\n",
              "      <th>42840</th>\n",
              "      <td>22</td>\n",
              "      <td>1.0</td>\n",
              "      <td>0.0</td>\n",
              "    </tr>\n",
              "    <tr>\n",
              "      <th>44880</th>\n",
              "      <td>23</td>\n",
              "      <td>0.0</td>\n",
              "      <td>1.0</td>\n",
              "    </tr>\n",
              "    <tr>\n",
              "      <th>46920</th>\n",
              "      <td>24</td>\n",
              "      <td>1.0</td>\n",
              "      <td>1.0</td>\n",
              "    </tr>\n",
              "    <tr>\n",
              "      <th>48960</th>\n",
              "      <td>25</td>\n",
              "      <td>1.0</td>\n",
              "      <td>0.0</td>\n",
              "    </tr>\n",
              "    <tr>\n",
              "      <th>51000</th>\n",
              "      <td>26</td>\n",
              "      <td>0.0</td>\n",
              "      <td>1.0</td>\n",
              "    </tr>\n",
              "    <tr>\n",
              "      <th>53040</th>\n",
              "      <td>27</td>\n",
              "      <td>1.0</td>\n",
              "      <td>1.0</td>\n",
              "    </tr>\n",
              "    <tr>\n",
              "      <th>55080</th>\n",
              "      <td>28</td>\n",
              "      <td>1.0</td>\n",
              "      <td>0.0</td>\n",
              "    </tr>\n",
              "    <tr>\n",
              "      <th>57120</th>\n",
              "      <td>29</td>\n",
              "      <td>0.0</td>\n",
              "      <td>0.0</td>\n",
              "    </tr>\n",
              "    <tr>\n",
              "      <th>59160</th>\n",
              "      <td>30</td>\n",
              "      <td>1.0</td>\n",
              "      <td>1.0</td>\n",
              "    </tr>\n",
              "    <tr>\n",
              "      <th>61200</th>\n",
              "      <td>31</td>\n",
              "      <td>1.0</td>\n",
              "      <td>0.0</td>\n",
              "    </tr>\n",
              "    <tr>\n",
              "      <th>63240</th>\n",
              "      <td>32</td>\n",
              "      <td>0.0</td>\n",
              "      <td>0.0</td>\n",
              "    </tr>\n",
              "    <tr>\n",
              "      <th>65280</th>\n",
              "      <td>33</td>\n",
              "      <td>1.0</td>\n",
              "      <td>0.0</td>\n",
              "    </tr>\n",
              "    <tr>\n",
              "      <th>67320</th>\n",
              "      <td>34</td>\n",
              "      <td>1.0</td>\n",
              "      <td>1.0</td>\n",
              "    </tr>\n",
              "    <tr>\n",
              "      <th>69360</th>\n",
              "      <td>35</td>\n",
              "      <td>1.0</td>\n",
              "      <td>0.0</td>\n",
              "    </tr>\n",
              "    <tr>\n",
              "      <th>71400</th>\n",
              "      <td>36</td>\n",
              "      <td>0.0</td>\n",
              "      <td>1.0</td>\n",
              "    </tr>\n",
              "    <tr>\n",
              "      <th>73440</th>\n",
              "      <td>37</td>\n",
              "      <td>1.0</td>\n",
              "      <td>1.0</td>\n",
              "    </tr>\n",
              "    <tr>\n",
              "      <th>75480</th>\n",
              "      <td>38</td>\n",
              "      <td>1.0</td>\n",
              "      <td>1.0</td>\n",
              "    </tr>\n",
              "    <tr>\n",
              "      <th>77520</th>\n",
              "      <td>39</td>\n",
              "      <td>1.0</td>\n",
              "      <td>1.0</td>\n",
              "    </tr>\n",
              "    <tr>\n",
              "      <th>79560</th>\n",
              "      <td>40</td>\n",
              "      <td>1.0</td>\n",
              "      <td>1.0</td>\n",
              "    </tr>\n",
              "    <tr>\n",
              "      <th>81600</th>\n",
              "      <td>41</td>\n",
              "      <td>1.0</td>\n",
              "      <td>0.0</td>\n",
              "    </tr>\n",
              "    <tr>\n",
              "      <th>83640</th>\n",
              "      <td>42</td>\n",
              "      <td>1.0</td>\n",
              "      <td>1.0</td>\n",
              "    </tr>\n",
              "    <tr>\n",
              "      <th>85680</th>\n",
              "      <td>43</td>\n",
              "      <td>1.0</td>\n",
              "      <td>1.0</td>\n",
              "    </tr>\n",
              "    <tr>\n",
              "      <th>87720</th>\n",
              "      <td>44</td>\n",
              "      <td>1.0</td>\n",
              "      <td>1.0</td>\n",
              "    </tr>\n",
              "    <tr>\n",
              "      <th>89760</th>\n",
              "      <td>45</td>\n",
              "      <td>0.0</td>\n",
              "      <td>1.0</td>\n",
              "    </tr>\n",
              "    <tr>\n",
              "      <th>91800</th>\n",
              "      <td>46</td>\n",
              "      <td>1.0</td>\n",
              "      <td>0.0</td>\n",
              "    </tr>\n",
              "    <tr>\n",
              "      <th>93840</th>\n",
              "      <td>47</td>\n",
              "      <td>1.0</td>\n",
              "      <td>1.0</td>\n",
              "    </tr>\n",
              "    <tr>\n",
              "      <th>95880</th>\n",
              "      <td>48</td>\n",
              "      <td>0.0</td>\n",
              "      <td>0.0</td>\n",
              "    </tr>\n",
              "    <tr>\n",
              "      <th>97920</th>\n",
              "      <td>49</td>\n",
              "      <td>0.0</td>\n",
              "      <td>0.0</td>\n",
              "    </tr>\n",
              "    <tr>\n",
              "      <th>99960</th>\n",
              "      <td>50</td>\n",
              "      <td>0.0</td>\n",
              "      <td>0.0</td>\n",
              "    </tr>\n",
              "    <tr>\n",
              "      <th>102000</th>\n",
              "      <td>51</td>\n",
              "      <td>0.0</td>\n",
              "      <td>1.0</td>\n",
              "    </tr>\n",
              "    <tr>\n",
              "      <th>104040</th>\n",
              "      <td>52</td>\n",
              "      <td>1.0</td>\n",
              "      <td>1.0</td>\n",
              "    </tr>\n",
              "    <tr>\n",
              "      <th>106080</th>\n",
              "      <td>53</td>\n",
              "      <td>1.0</td>\n",
              "      <td>0.0</td>\n",
              "    </tr>\n",
              "    <tr>\n",
              "      <th>108120</th>\n",
              "      <td>54</td>\n",
              "      <td>1.0</td>\n",
              "      <td>0.0</td>\n",
              "    </tr>\n",
              "    <tr>\n",
              "      <th>110160</th>\n",
              "      <td>55</td>\n",
              "      <td>1.0</td>\n",
              "      <td>1.0</td>\n",
              "    </tr>\n",
              "    <tr>\n",
              "      <th>112200</th>\n",
              "      <td>56</td>\n",
              "      <td>0.0</td>\n",
              "      <td>1.0</td>\n",
              "    </tr>\n",
              "    <tr>\n",
              "      <th>114240</th>\n",
              "      <td>57</td>\n",
              "      <td>1.0</td>\n",
              "      <td>0.0</td>\n",
              "    </tr>\n",
              "    <tr>\n",
              "      <th>116280</th>\n",
              "      <td>58</td>\n",
              "      <td>1.0</td>\n",
              "      <td>0.0</td>\n",
              "    </tr>\n",
              "    <tr>\n",
              "      <th>118320</th>\n",
              "      <td>59</td>\n",
              "      <td>1.0</td>\n",
              "      <td>0.0</td>\n",
              "    </tr>\n",
              "    <tr>\n",
              "      <th>120360</th>\n",
              "      <td>60</td>\n",
              "      <td>1.0</td>\n",
              "      <td>1.0</td>\n",
              "    </tr>\n",
              "  </tbody>\n",
              "</table>\n",
              "</div>\n",
              "      <button class=\"colab-df-convert\" onclick=\"convertToInteractive('df-2a242e75-9b38-4435-ba92-dd1f01eeb98f')\"\n",
              "              title=\"Convert this dataframe to an interactive table.\"\n",
              "              style=\"display:none;\">\n",
              "        \n",
              "  <svg xmlns=\"http://www.w3.org/2000/svg\" height=\"24px\"viewBox=\"0 0 24 24\"\n",
              "       width=\"24px\">\n",
              "    <path d=\"M0 0h24v24H0V0z\" fill=\"none\"/>\n",
              "    <path d=\"M18.56 5.44l.94 2.06.94-2.06 2.06-.94-2.06-.94-.94-2.06-.94 2.06-2.06.94zm-11 1L8.5 8.5l.94-2.06 2.06-.94-2.06-.94L8.5 2.5l-.94 2.06-2.06.94zm10 10l.94 2.06.94-2.06 2.06-.94-2.06-.94-.94-2.06-.94 2.06-2.06.94z\"/><path d=\"M17.41 7.96l-1.37-1.37c-.4-.4-.92-.59-1.43-.59-.52 0-1.04.2-1.43.59L10.3 9.45l-7.72 7.72c-.78.78-.78 2.05 0 2.83L4 21.41c.39.39.9.59 1.41.59.51 0 1.02-.2 1.41-.59l7.78-7.78 2.81-2.81c.8-.78.8-2.07 0-2.86zM5.41 20L4 18.59l7.72-7.72 1.47 1.35L5.41 20z\"/>\n",
              "  </svg>\n",
              "      </button>\n",
              "      \n",
              "  <style>\n",
              "    .colab-df-container {\n",
              "      display:flex;\n",
              "      flex-wrap:wrap;\n",
              "      gap: 12px;\n",
              "    }\n",
              "\n",
              "    .colab-df-convert {\n",
              "      background-color: #E8F0FE;\n",
              "      border: none;\n",
              "      border-radius: 50%;\n",
              "      cursor: pointer;\n",
              "      display: none;\n",
              "      fill: #1967D2;\n",
              "      height: 32px;\n",
              "      padding: 0 0 0 0;\n",
              "      width: 32px;\n",
              "    }\n",
              "\n",
              "    .colab-df-convert:hover {\n",
              "      background-color: #E2EBFA;\n",
              "      box-shadow: 0px 1px 2px rgba(60, 64, 67, 0.3), 0px 1px 3px 1px rgba(60, 64, 67, 0.15);\n",
              "      fill: #174EA6;\n",
              "    }\n",
              "\n",
              "    [theme=dark] .colab-df-convert {\n",
              "      background-color: #3B4455;\n",
              "      fill: #D2E3FC;\n",
              "    }\n",
              "\n",
              "    [theme=dark] .colab-df-convert:hover {\n",
              "      background-color: #434B5C;\n",
              "      box-shadow: 0px 1px 3px 1px rgba(0, 0, 0, 0.15);\n",
              "      filter: drop-shadow(0px 1px 2px rgba(0, 0, 0, 0.3));\n",
              "      fill: #FFFFFF;\n",
              "    }\n",
              "  </style>\n",
              "\n",
              "      <script>\n",
              "        const buttonEl =\n",
              "          document.querySelector('#df-2a242e75-9b38-4435-ba92-dd1f01eeb98f button.colab-df-convert');\n",
              "        buttonEl.style.display =\n",
              "          google.colab.kernel.accessAllowed ? 'block' : 'none';\n",
              "\n",
              "        async function convertToInteractive(key) {\n",
              "          const element = document.querySelector('#df-2a242e75-9b38-4435-ba92-dd1f01eeb98f');\n",
              "          const dataTable =\n",
              "            await google.colab.kernel.invokeFunction('convertToInteractive',\n",
              "                                                     [key], {});\n",
              "          if (!dataTable) return;\n",
              "\n",
              "          const docLinkHtml = 'Like what you see? Visit the ' +\n",
              "            '<a target=\"_blank\" href=https://colab.research.google.com/notebooks/data_table.ipynb>data table notebook</a>'\n",
              "            + ' to learn more about interactive tables.';\n",
              "          element.innerHTML = '';\n",
              "          dataTable['output_type'] = 'display_data';\n",
              "          await google.colab.output.renderOutput(dataTable, element);\n",
              "          const docLink = document.createElement('div');\n",
              "          docLink.innerHTML = docLinkHtml;\n",
              "          element.appendChild(docLink);\n",
              "        }\n",
              "      </script>\n",
              "    </div>\n",
              "  </div>\n",
              "  "
            ]
          },
          "metadata": {},
          "execution_count": 12
        }
      ],
      "source": [
        "building_info = train[[\"num\", \"nelec_cool_flag\", \"solar_flag\"]].drop_duplicates()\n",
        "building_info"
      ]
    },
    {
      "cell_type": "code",
      "source": [
        "# JOIN?\n",
        "test = test.drop(columns = [\"nelec_cool_flag\", \"solar_flag\"])"
      ],
      "metadata": {
        "id": "UHpQH58lCU_E"
      },
      "execution_count": 13,
      "outputs": []
    },
    {
      "cell_type": "code",
      "execution_count": 14,
      "metadata": {
        "colab": {
          "base_uri": "https://localhost:8080/"
        },
        "id": "fBb-Erd26eUi",
        "outputId": "aa9b086f-62c7-4e31-c424-c2ea6cf04fb3"
      },
      "outputs": [
        {
          "output_type": "stream",
          "name": "stdout",
          "text": [
            "<class 'pandas.core.frame.DataFrame'>\n",
            "Int64Index: 10080 entries, 0 to 10079\n",
            "Data columns (total 9 columns):\n",
            " #   Column           Non-Null Count  Dtype  \n",
            "---  ------           --------------  -----  \n",
            " 0   num              10080 non-null  int64  \n",
            " 1   date_time        10080 non-null  object \n",
            " 2   temperature      3360 non-null   float64\n",
            " 3   windspeed        3360 non-null   float64\n",
            " 4   humidity         3360 non-null   float64\n",
            " 5   precipitation    1680 non-null   float64\n",
            " 6   insolation       3360 non-null   float64\n",
            " 7   nelec_cool_flag  10080 non-null  float64\n",
            " 8   solar_flag       10080 non-null  float64\n",
            "dtypes: float64(7), int64(1), object(1)\n",
            "memory usage: 787.5+ KB\n"
          ]
        }
      ],
      "source": [
        "test = pd.merge(test, building_info, on=[\"num\"])\n",
        "test.info()"
      ]
    },
    {
      "cell_type": "markdown",
      "metadata": {
        "id": "lZ-VqKdt6eUj"
      },
      "source": [
        "#### 기상 정보(강수량, 일조량, 풍속, 기온, 습도)"
      ]
    },
    {
      "cell_type": "code",
      "execution_count": 16,
      "metadata": {
        "colab": {
          "base_uri": "https://localhost:8080/"
        },
        "id": "iZbFpI0b6eUj",
        "outputId": "7d3226c3-12cc-4759-8f2d-47b8beab77ee"
      },
      "outputs": [
        {
          "output_type": "execute_result",
          "data": {
            "text/plain": [
              "0        27.8\n",
              "1        27.8\n",
              "2        27.8\n",
              "3        27.3\n",
              "4        27.3\n",
              "         ... \n",
              "10075    29.0\n",
              "10076    29.0\n",
              "10077    27.9\n",
              "10078    27.9\n",
              "10079    27.9\n",
              "Name: temperature, Length: 10080, dtype: float64"
            ]
          },
          "metadata": {},
          "execution_count": 16
        }
      ],
      "source": [
        "# 가장 최근에 기록된 정보로 채워줍니다.\n",
        "test.temperature.interpolate(method='pad') # 가장 가까운 값\n",
        "test.temperature.interpolate(method='linear') # linear interpolation (선형 보간법)\n",
        "test.temperature.interpolate(method='quadratic') #                    마지막 값 NaN"
      ]
    },
    {
      "cell_type": "code",
      "execution_count": null,
      "metadata": {
        "id": "13xWYZgA6eUj"
      },
      "outputs": [],
      "source": [
        "test.insolation.value_counts()"
      ]
    },
    {
      "cell_type": "code",
      "execution_count": 18,
      "metadata": {
        "colab": {
          "base_uri": "https://localhost:8080/"
        },
        "id": "jQQ0_dtp6eUj",
        "outputId": "e85fe3db-e578-4682-92c0-c4235f938c45"
      },
      "outputs": [
        {
          "output_type": "stream",
          "name": "stdout",
          "text": [
            "<class 'pandas.core.frame.DataFrame'>\n",
            "RangeIndex: 122400 entries, 0 to 122399\n",
            "Data columns (total 10 columns):\n",
            " #   Column           Non-Null Count   Dtype  \n",
            "---  ------           --------------   -----  \n",
            " 0   num              122400 non-null  int64  \n",
            " 1   date_time        122400 non-null  object \n",
            " 2   target           122400 non-null  float64\n",
            " 3   temperature      40800 non-null   float64\n",
            " 4   windspeed        40800 non-null   float64\n",
            " 5   humidity         40800 non-null   float64\n",
            " 6   precipitation    20400 non-null   float64\n",
            " 7   insolation       40800 non-null   float64\n",
            " 8   nelec_cool_flag  122400 non-null  float64\n",
            " 9   solar_flag       122400 non-null  float64\n",
            "dtypes: float64(8), int64(1), object(1)\n",
            "memory usage: 9.3+ MB\n"
          ]
        }
      ],
      "source": [
        "dummy = train.copy() # 실험용 train data를 하나 복사합니다.\n",
        "# Q. dummy를 test data처럼 빈 칸을 뚫습니다.\n",
        "## (풍속, 기온, 일조량, 습도는 3칸마다 데이터가 있고, 강수량은 6칸마다 데이터가 있습니다.)\n",
        "### make_train_nan 함수를 이용해서 dummy dataframe을 스펀지로 만들어주세요!\n",
        "# HINT : np.nan 사용하기\n",
        "\n",
        "\n",
        "# 스펀지 만들기\n",
        "def make_train_nan(data, columns, n):\n",
        "    # data : 스펀지를 만들 원본 dataframe\n",
        "    # columns : 스펀지를 만들 대상 columns\n",
        "    # n : 몇 번째마다 값을 둘 것인가 (3 or 6)\n",
        "    #mask = [i % n != 0 for i in range(len(data))]    \n",
        "    data.loc[data.index % n != 0, columns] = np.nan\n",
        "\n",
        "\n",
        "make_train_nan(dummy, [\"humidity\", \"temperature\", \"insolation\", \"windspeed\"], 3)\n",
        "make_train_nan(dummy, [\"precipitation\"], 6)\n",
        "dummy.info()"
      ]
    },
    {
      "cell_type": "code",
      "execution_count": 30,
      "metadata": {
        "id": "Erhrj5oN6eUk"
      },
      "outputs": [],
      "source": [
        "from sklearn.metrics import mean_squared_error\n",
        "def compare_interpolation_methods(train, data, column, methods, metric):\n",
        "    # train, dummy : 비교 대상\n",
        "    # column : 비교 대상에 해당하는 column\n",
        "    # methods : interpolation methods (‘pad’, ‘linear’, ‘quadratic’)\n",
        "    # metric : 비교를 하는 기준 (MAE, MSE)\n",
        "    error_dict = {}\n",
        "\n",
        "    for method in methods:\n",
        "        if method == \"quadratic\":\n",
        "            temp = dummy[column].interpolate(method=method).interpolate(\"linear\") # 마지막에 비어있는 NaN 채우기\n",
        "            error_dict[method] = metric(train[column], temp) # error를 계산\n",
        "        else:\n",
        "            temp = dummy[column].interpolate(method=method) # 특정 column을 주어진 방식으로 interpolate\n",
        "            error_dict[method] = metric(train[column], temp) # error를 계산\n",
        "\n",
        "    return error_dict"
      ]
    },
    {
      "cell_type": "code",
      "execution_count": 32,
      "metadata": {
        "colab": {
          "base_uri": "https://localhost:8080/",
          "height": 143
        },
        "id": "14mzjYdY6eUk",
        "outputId": "f39c6b35-1566-45fb-b3c5-eaad3d851266"
      },
      "outputs": [
        {
          "output_type": "execute_result",
          "data": {
            "text/plain": [
              "           humidity  windspeed  temperature  insolation  precipitation\n",
              "pad        2.544775   0.443193     0.552264    0.073680       0.537618\n",
              "linear     1.297897   0.346830     0.219766    0.048181       0.451359\n",
              "quadratic  1.291286   0.367535     0.209853    0.056955       0.503410"
            ],
            "text/html": [
              "\n",
              "  <div id=\"df-73e862ac-6335-4ca7-b6cb-3b7a75338787\">\n",
              "    <div class=\"colab-df-container\">\n",
              "      <div>\n",
              "<style scoped>\n",
              "    .dataframe tbody tr th:only-of-type {\n",
              "        vertical-align: middle;\n",
              "    }\n",
              "\n",
              "    .dataframe tbody tr th {\n",
              "        vertical-align: top;\n",
              "    }\n",
              "\n",
              "    .dataframe thead th {\n",
              "        text-align: right;\n",
              "    }\n",
              "</style>\n",
              "<table border=\"1\" class=\"dataframe\">\n",
              "  <thead>\n",
              "    <tr style=\"text-align: right;\">\n",
              "      <th></th>\n",
              "      <th>humidity</th>\n",
              "      <th>windspeed</th>\n",
              "      <th>temperature</th>\n",
              "      <th>insolation</th>\n",
              "      <th>precipitation</th>\n",
              "    </tr>\n",
              "  </thead>\n",
              "  <tbody>\n",
              "    <tr>\n",
              "      <th>pad</th>\n",
              "      <td>2.544775</td>\n",
              "      <td>0.443193</td>\n",
              "      <td>0.552264</td>\n",
              "      <td>0.073680</td>\n",
              "      <td>0.537618</td>\n",
              "    </tr>\n",
              "    <tr>\n",
              "      <th>linear</th>\n",
              "      <td>1.297897</td>\n",
              "      <td>0.346830</td>\n",
              "      <td>0.219766</td>\n",
              "      <td>0.048181</td>\n",
              "      <td>0.451359</td>\n",
              "    </tr>\n",
              "    <tr>\n",
              "      <th>quadratic</th>\n",
              "      <td>1.291286</td>\n",
              "      <td>0.367535</td>\n",
              "      <td>0.209853</td>\n",
              "      <td>0.056955</td>\n",
              "      <td>0.503410</td>\n",
              "    </tr>\n",
              "  </tbody>\n",
              "</table>\n",
              "</div>\n",
              "      <button class=\"colab-df-convert\" onclick=\"convertToInteractive('df-73e862ac-6335-4ca7-b6cb-3b7a75338787')\"\n",
              "              title=\"Convert this dataframe to an interactive table.\"\n",
              "              style=\"display:none;\">\n",
              "        \n",
              "  <svg xmlns=\"http://www.w3.org/2000/svg\" height=\"24px\"viewBox=\"0 0 24 24\"\n",
              "       width=\"24px\">\n",
              "    <path d=\"M0 0h24v24H0V0z\" fill=\"none\"/>\n",
              "    <path d=\"M18.56 5.44l.94 2.06.94-2.06 2.06-.94-2.06-.94-.94-2.06-.94 2.06-2.06.94zm-11 1L8.5 8.5l.94-2.06 2.06-.94-2.06-.94L8.5 2.5l-.94 2.06-2.06.94zm10 10l.94 2.06.94-2.06 2.06-.94-2.06-.94-.94-2.06-.94 2.06-2.06.94z\"/><path d=\"M17.41 7.96l-1.37-1.37c-.4-.4-.92-.59-1.43-.59-.52 0-1.04.2-1.43.59L10.3 9.45l-7.72 7.72c-.78.78-.78 2.05 0 2.83L4 21.41c.39.39.9.59 1.41.59.51 0 1.02-.2 1.41-.59l7.78-7.78 2.81-2.81c.8-.78.8-2.07 0-2.86zM5.41 20L4 18.59l7.72-7.72 1.47 1.35L5.41 20z\"/>\n",
              "  </svg>\n",
              "      </button>\n",
              "      \n",
              "  <style>\n",
              "    .colab-df-container {\n",
              "      display:flex;\n",
              "      flex-wrap:wrap;\n",
              "      gap: 12px;\n",
              "    }\n",
              "\n",
              "    .colab-df-convert {\n",
              "      background-color: #E8F0FE;\n",
              "      border: none;\n",
              "      border-radius: 50%;\n",
              "      cursor: pointer;\n",
              "      display: none;\n",
              "      fill: #1967D2;\n",
              "      height: 32px;\n",
              "      padding: 0 0 0 0;\n",
              "      width: 32px;\n",
              "    }\n",
              "\n",
              "    .colab-df-convert:hover {\n",
              "      background-color: #E2EBFA;\n",
              "      box-shadow: 0px 1px 2px rgba(60, 64, 67, 0.3), 0px 1px 3px 1px rgba(60, 64, 67, 0.15);\n",
              "      fill: #174EA6;\n",
              "    }\n",
              "\n",
              "    [theme=dark] .colab-df-convert {\n",
              "      background-color: #3B4455;\n",
              "      fill: #D2E3FC;\n",
              "    }\n",
              "\n",
              "    [theme=dark] .colab-df-convert:hover {\n",
              "      background-color: #434B5C;\n",
              "      box-shadow: 0px 1px 3px 1px rgba(0, 0, 0, 0.15);\n",
              "      filter: drop-shadow(0px 1px 2px rgba(0, 0, 0, 0.3));\n",
              "      fill: #FFFFFF;\n",
              "    }\n",
              "  </style>\n",
              "\n",
              "      <script>\n",
              "        const buttonEl =\n",
              "          document.querySelector('#df-73e862ac-6335-4ca7-b6cb-3b7a75338787 button.colab-df-convert');\n",
              "        buttonEl.style.display =\n",
              "          google.colab.kernel.accessAllowed ? 'block' : 'none';\n",
              "\n",
              "        async function convertToInteractive(key) {\n",
              "          const element = document.querySelector('#df-73e862ac-6335-4ca7-b6cb-3b7a75338787');\n",
              "          const dataTable =\n",
              "            await google.colab.kernel.invokeFunction('convertToInteractive',\n",
              "                                                     [key], {});\n",
              "          if (!dataTable) return;\n",
              "\n",
              "          const docLinkHtml = 'Like what you see? Visit the ' +\n",
              "            '<a target=\"_blank\" href=https://colab.research.google.com/notebooks/data_table.ipynb>data table notebook</a>'\n",
              "            + ' to learn more about interactive tables.';\n",
              "          element.innerHTML = '';\n",
              "          dataTable['output_type'] = 'display_data';\n",
              "          await google.colab.output.renderOutput(dataTable, element);\n",
              "          const docLink = document.createElement('div');\n",
              "          docLink.innerHTML = docLinkHtml;\n",
              "          element.appendChild(docLink);\n",
              "        }\n",
              "      </script>\n",
              "    </div>\n",
              "  </div>\n",
              "  "
            ]
          },
          "metadata": {},
          "execution_count": 32
        }
      ],
      "source": [
        "from sklearn.metrics import mean_squared_error\n",
        "from sklearn.metrics import mean_absolute_error\n",
        "# 1. interpolation 기법별로 에러(틀린 정도)를 계산합니다.\n",
        "\n",
        "all_error_dict = {}\n",
        "\n",
        "metric = mean_absolute_error\n",
        "\n",
        "for column in [\"humidity\", \"windspeed\", \"temperature\", \"insolation\", \"precipitation\"]:\n",
        "    methods = [\"pad\", \"linear\", \"quadratic\"]\n",
        "    error_dict = compare_interpolation_methods(train, dummy, column, methods, metric)\n",
        "    all_error_dict[column] = error_dict\n",
        "    \n",
        "# 2. 계산 결과를 그래프로 그립니다.\n",
        "all_error_df = pd.DataFrame(all_error_dict)\n",
        "all_error_df"
      ]
    },
    {
      "cell_type": "code",
      "execution_count": 33,
      "metadata": {
        "colab": {
          "base_uri": "https://localhost:8080/",
          "height": 342
        },
        "id": "dFyvSI6E6eUk",
        "outputId": "d168b040-f2f3-4607-9062-dd2892d7ab2f"
      },
      "outputs": [
        {
          "output_type": "display_data",
          "data": {
            "text/plain": [
              "<Figure size 1440x360 with 5 Axes>"
            ],
            "image/png": "[encoded data removed]"
          },
          "metadata": {
            "needs_background": "light"
          }
        }
      ],
      "source": [
        "import matplotlib.pyplot as plt\n",
        "import seaborn as sns\n",
        "\n",
        "fig, axes = plt.subplots(1, 5, figsize = (20, 5))\n",
        "for i in range(len(all_error_df.columns)):\n",
        "    sns.lineplot(ax=axes[i], data=all_error_df.iloc[:, i].transpose(), sort=False)"
      ]
    },
    {
      "cell_type": "code",
      "execution_count": 34,
      "metadata": {
        "id": "GhbsleGK6eUk"
      },
      "outputs": [],
      "source": [
        "# 테스트 데이터에 결측치를 채워봅니다!\n",
        "test.temperature = test.temperature.interpolate(method = 'quadratic')\n",
        "# 마지막 NaN을 채우기 위해서 linear interpolation을 적용해줍니다.\n",
        "test.temperature = test.temperature.interpolate(method = 'linear')\n",
        "\n",
        "test.windspeed = test.windspeed.interpolate(method = 'linear')\n",
        "\n",
        "test.humidity = test.humidity.interpolate(method = 'quadratic')\n",
        "# 마지막 NaN을 채우기 위해서 linear interpolation을 적용해줍니다.\n",
        "test.humidity = test.humidity.interpolate(method = 'linear')\n",
        "\n",
        "test.precipitation = test.precipitation.interpolate(method = 'linear')\n",
        "\n",
        "test.insolation = test.insolation.interpolate(method = 'linear')"
      ]
    },
    {
      "cell_type": "code",
      "execution_count": null,
      "metadata": {
        "id": "Ns_-boGz6eUl"
      },
      "outputs": [],
      "source": [
        "#요일 변수를 추가해봅니다.\n",
        "def weekday(x):\n"
      ]
    },
    {
      "cell_type": "markdown",
      "metadata": {
        "id": "8hwBmZVV6eUl"
      },
      "source": [
        "+ test 결측치를 채워봅니다.\n",
        "+ test 데이터의 변수는 예보 데이터이며, 예보 데이터는 train 데이터의 기간에 생성된 것이기에 활용 가능합니다.\n",
        "\n",
        "1) 평균으로 채우기\n",
        "\n",
        "\n",
        "2) 최빈값으로 채우기\n",
        "\n",
        "\n",
        "3) 근처(앞, 뒤)에 있는 값으로 채우기\n",
        "\n",
        "\n",
        "4) interpolation"
      ]
    },
    {
      "cell_type": "markdown",
      "metadata": {
        "id": "rUYxSJ7t6eUl"
      },
      "source": [
        "### 2-2. 상관관계 분석"
      ]
    },
    {
      "cell_type": "code",
      "execution_count": null,
      "metadata": {
        "id": "UsEp3-IC6eUl"
      },
      "outputs": [],
      "source": [
        "# 피처간 비슷한 변수들이 있는지 확인하기 위해 상관관계 분석을 수행합니다.\n"
      ]
    },
    {
      "cell_type": "code",
      "execution_count": null,
      "metadata": {
        "id": "zxzhtgs96eUm"
      },
      "outputs": [],
      "source": [
        "# heatmap\n"
      ]
    },
    {
      "cell_type": "code",
      "execution_count": null,
      "metadata": {
        "id": "EqNJwOgI6eUm"
      },
      "outputs": [],
      "source": [
        "# 피처간 비슷한 변수들이 있는지 확인하기 위해 상관관계 분석을 수행합니다.\n",
        "corr = []\n",
        "for num in range(1,61):\n",
        "    df = train[train.num==num]\n",
        "    num_corr = df.corr()['target']\n",
        "    num_corr = num_corr.drop(['num','nelec_cool_flag','solar_flag','target'])\n",
        "    corr.append(num_corr)\n",
        "corr_df = pd.concat(corr, axis=1).T\n",
        "corr_df.index = list(range(1,61))\n",
        "\n",
        "# 시각화\n",
        "f, ax = plt.subplots(figsize=(20,8))\n",
        "plt.title(\"Correlation between features and target\", fontsize=15)\n",
        "sns.heatmap(corr_df.T, cmap=sns.diverging_palette(240,10,as_cmap=True), ax=ax)\n",
        "plt.xlabel('Building(num)')\n",
        "plt.show()"
      ]
    },
    {
      "cell_type": "markdown",
      "metadata": {
        "id": "Di4d4WJ26eUm"
      },
      "source": [
        "### 2-3. 이상치 검출\n",
        "\n",
        "1) IQR(Inter-Quantile Range)\n",
        "\n",
        "\n",
        "2) Outlier Detection method (e.g. Isolation Forest)"
      ]
    },
    {
      "cell_type": "markdown",
      "metadata": {
        "id": "Wx-Z9tK76eUm"
      },
      "source": [
        "### IQR "
      ]
    },
    {
      "cell_type": "code",
      "execution_count": null,
      "metadata": {
        "id": "aHYvmHY26eUm"
      },
      "outputs": [],
      "source": [
        "# 데이터 중에 전체 데이터의 패턴을 벗어나는 데이터가 있는지 확인합니다.\n",
        "def get_outlier(data, column, weight=1.5):\n",
        "    \n",
        "\n",
        "    \n",
        "    \n",
        "    print(\"IQR은 %.2f이다.\" % IQR)\n",
        "    print(f\"lower_bound는 {lower_bound:.2f}이다.\") # f-string\n",
        "    print(\"upper_bound는 {:.2f}이다.\".format(upper_bound))\n",
        "    \n",
        "\n",
        "    return outlier_idx"
      ]
    },
    {
      "cell_type": "code",
      "execution_count": null,
      "metadata": {
        "id": "Lmvm5dJQ6eUn"
      },
      "outputs": [],
      "source": [
        "selected_col = input(\"Which column ? \")\n",
        "outlier_idx = get_outlier(train, selected_col)\n",
        "train.loc[outlier_idx, :]"
      ]
    },
    {
      "cell_type": "code",
      "execution_count": null,
      "metadata": {
        "id": "8JkvEc-n6eUn"
      },
      "outputs": [],
      "source": [
        "# outlier detection\n",
        "# anomaly detection\n",
        "\n",
        "train.drop(outlier_idx)"
      ]
    },
    {
      "cell_type": "markdown",
      "metadata": {
        "id": "O0s_McBG6eUn"
      },
      "source": [
        "### Isolation Forest (ML Model)"
      ]
    },
    {
      "cell_type": "code",
      "execution_count": null,
      "metadata": {
        "id": "Da9mDmKU6eUn"
      },
      "outputs": [],
      "source": [
        "from sklearn.ensemble import IsolationForest\n",
        "\n",
        "X = train.drop(columns=[\"num\", \"date_time\", \"target\"])\n",
        "\n",
        "model = "
      ]
    },
    {
      "cell_type": "code",
      "execution_count": null,
      "metadata": {
        "id": "6i7QiQHo6eUn"
      },
      "outputs": [],
      "source": [
        "# IsolationForest로 판단한 outlier들을 제거합니다\n"
      ]
    },
    {
      "cell_type": "markdown",
      "metadata": {
        "id": "jlveCp3M6eUn"
      },
      "source": [
        "## 3. 예측 모델 구현"
      ]
    },
    {
      "cell_type": "code",
      "execution_count": 35,
      "metadata": {
        "id": "DsArMN2b6eUo"
      },
      "outputs": [],
      "source": [
        "# 전력사용량 예측을 위해 회귀 모델을 불러옵니다\n",
        "from lightgbm.sklearn import LGBMRegressor"
      ]
    },
    {
      "cell_type": "code",
      "execution_count": 38,
      "metadata": {
        "id": "heVW9WOG6eUo"
      },
      "outputs": [],
      "source": [
        "# 학습에 필요한 데이터셋을 만듭니다\n",
        "X = train.drop(columns=[\"num\", \"date_time\", \"target\"])\n",
        "Y = train.target"
      ]
    },
    {
      "cell_type": "code",
      "execution_count": null,
      "metadata": {
        "id": "KbpnUte46eUo"
      },
      "outputs": [],
      "source": [
        "# 학습 및 모델 검증을 위해 KFold Cross Validation 기법을 사용합니다.\n"
      ]
    },
    {
      "cell_type": "code",
      "execution_count": 46,
      "metadata": {
        "colab": {
          "base_uri": "https://localhost:8080/"
        },
        "id": "KU7Wkmwb6eUo",
        "outputId": "135e2151-4251-439d-e5cf-23666be2c53a"
      },
      "outputs": [
        {
          "output_type": "execute_result",
          "data": {
            "text/plain": [
              "1220.6470444592926"
            ]
          },
          "metadata": {},
          "execution_count": 46
        }
      ],
      "source": [
        "# training\n",
        "reg = LGBMRegressor()\n",
        "reg.fit(X,Y)\n",
        "pred = reg.predict(X)\n",
        "mean_absolute_error(Y, pred)  # 성능 측정 "
      ]
    },
    {
      "cell_type": "code",
      "execution_count": 41,
      "metadata": {
        "id": "ZZ5E3qMs6eUo"
      },
      "outputs": [],
      "source": [
        "# submission 파일 생성\n",
        "X_test = test.drop(columns=[\"num\", \"date_time\"])\n",
        "output = reg.predict(X_test)"
      ]
    },
    {
      "cell_type": "code",
      "source": [
        "submission[\"answer\"] = output\n",
        "submission.to_csv(\"submission.csv\", index=False)"
      ],
      "metadata": {
        "id": "bwhlxRxNczTh"
      },
      "execution_count": 43,
      "outputs": []
    }
  ],
  "metadata": {
    "kernelspec": {
      "display_name": "Python 3",
      "language": "python",
      "name": "python3"
    },
    "language_info": {
      "codemirror_mode": {
        "name": "ipython",
        "version": 3
      },
      "file_extension": ".py",
      "mimetype": "text/x-python",
      "name": "python",
      "nbconvert_exporter": "python",
      "pygments_lexer": "ipython3",
      "version": "3.8.2"
    },
    "colab": {
      "name": "전력사용량 예측(실습).ipynb",
      "provenance": [],
      "include_colab_link": true
    }
  },
  "nbformat": 4,
  "nbformat_minor": 0
}