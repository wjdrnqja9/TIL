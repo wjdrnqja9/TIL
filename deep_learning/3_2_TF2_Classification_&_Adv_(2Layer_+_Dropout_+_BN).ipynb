{
  "cells": [
    {
      "cell_type": "markdown",
      "metadata": {
        "id": "view-in-github",
        "colab_type": "text"
      },
      "source": [
        "<a href=\"https://colab.research.google.com/github/wjdrnqja9/TIL/blob/main/deep_learning/3_2_TF2_Classification_%26_Adv_(2Layer_%2B_Dropout_%2B_BN).ipynb\" target=\"_parent\"><img src=\"https://colab.research.google.com/assets/colab-badge.svg\" alt=\"Open In Colab\"/></a>"
      ]
    },
    {
      "cell_type": "markdown",
      "metadata": {
        "id": "xgLisGLsXgOX"
      },
      "source": [
        "#### 참고 : tensorflow.keras 공식 문서 (Official API Docs) @ https://www.tensorflow.org/api_docs/python/tf/keras"
      ]
    },
    {
      "cell_type": "code",
      "execution_count": 1,
      "metadata": {
        "id": "AxKSgF6TXgOZ"
      },
      "outputs": [],
      "source": [
        "import tensorflow as tf\n",
        "from tensorflow.keras import datasets, utils\n",
        "from tensorflow.keras import models, layers, activations, initializers, losses, optimizers, metrics\n",
        "\n",
        "import os\n",
        "os.environ['TF_CPP_MIN_LOG_LEVEL'] = '2' # https://stackoverflow.com/questions/35911252/disable-tensorflow-debugging-information"
      ]
    },
    {
      "cell_type": "markdown",
      "metadata": {
        "id": "uuDgAJSbXgOb"
      },
      "source": [
        "<br> \n",
        "\n",
        "#### 1. Prepare train & test data (MNIST)"
      ]
    },
    {
      "cell_type": "markdown",
      "metadata": {
        "id": "kEybvTyCXgOb"
      },
      "source": [
        "#### Train & Test split"
      ]
    },
    {
      "cell_type": "code",
      "execution_count": 2,
      "metadata": {
        "colab": {
          "base_uri": "https://localhost:8080/"
        },
        "id": "woJfb9izXgOc",
        "outputId": "e7522fe7-d9b6-457b-94f9-094fde2b7592"
      },
      "outputs": [
        {
          "output_type": "stream",
          "name": "stdout",
          "text": [
            "Downloading data from https://storage.googleapis.com/tensorflow/tf-keras-datasets/mnist.npz\n",
            "11493376/11490434 [==============================] - 0s 0us/step\n",
            "11501568/11490434 [==============================] - 0s 0us/step\n"
          ]
        }
      ],
      "source": [
        "(train_data, train_label), (test_data, test_label) = datasets.mnist.load_data()"
      ]
    },
    {
      "cell_type": "markdown",
      "metadata": {
        "id": "GA-fOfQbXgOc"
      },
      "source": [
        "#### Normalization"
      ]
    },
    {
      "cell_type": "code",
      "execution_count": 3,
      "metadata": {
        "id": "o1wAkfOFXgOd"
      },
      "outputs": [],
      "source": [
        "train_data = train_data.reshape(60000, 784) / 255.0\n",
        "test_data = test_data.reshape(10000, 784) / 255.0"
      ]
    },
    {
      "cell_type": "markdown",
      "metadata": {
        "id": "UOxhBgdsXgOd"
      },
      "source": [
        "#### One-hot encoding"
      ]
    },
    {
      "cell_type": "code",
      "execution_count": 4,
      "metadata": {
        "id": "erKm9cgwXgOe"
      },
      "outputs": [],
      "source": [
        "train_label = utils.to_categorical(train_label) # 0~9 -> one-hot vector\n",
        "test_label = utils.to_categorical(test_label) # 0~9 -> one-hot vector"
      ]
    },
    {
      "cell_type": "markdown",
      "metadata": {
        "id": "eIoQOaEvXgOe"
      },
      "source": [
        "<br> \n",
        "\n",
        "#### 2. Build the model & Set the criterion"
      ]
    },
    {
      "cell_type": "code",
      "execution_count": 5,
      "metadata": {
        "id": "UwU7-whvXgOf"
      },
      "outputs": [],
      "source": [
        "model = models.Sequential() \n",
        "\n",
        "model.add(layers.Dense(input_dim=28*28, units=256, activation=None, kernel_initializer=initializers.he_uniform())) \n",
        "model.add(layers.BatchNormalization())\n",
        "model.add(layers.Activation('relu')) # layers.ELU or layers.LeakyReLU\n",
        "model.add(layers.Dropout(rate=0.2))\n",
        "\n",
        "model.add(layers.Dense(units=256, activation=None, kernel_initializer=initializers.he_uniform())) \n",
        "model.add(layers.BatchNormalization())\n",
        "model.add(layers.Activation('relu')) # layers.ELU or layers.LeakyReLU\n",
        "model.add(layers.Dropout(rate=0.2))\n",
        "\n",
        "model.add(layers.Dense(units=10, activation='softmax')) # 0~9 "
      ]
    },
    {
      "cell_type": "code",
      "execution_count": 6,
      "metadata": {
        "id": "p6D12VYKXgOf"
      },
      "outputs": [],
      "source": [
        "model.compile(optimizer=optimizers.Adam(), \n",
        "              loss=losses.categorical_crossentropy, \n",
        "              metrics=[metrics.categorical_accuracy]) # Precision / Recall / F1-Score 적용하기 @ https://j.mp/3cf3lbi\n",
        "\n",
        "# model.compile(optimizer='adam', \n",
        "#               loss=losses.categorical_crossentropy, \n",
        "#               metrics=['accuracy'])"
      ]
    },
    {
      "cell_type": "markdown",
      "metadata": {
        "id": "N_NIGKEFXgOf"
      },
      "source": [
        "<br> \n",
        "\n",
        "#### 3. Train the model"
      ]
    },
    {
      "cell_type": "code",
      "execution_count": 7,
      "metadata": {
        "colab": {
          "base_uri": "https://localhost:8080/"
        },
        "id": "KIBpCWWoXgOg",
        "outputId": "37d28c39-39b0-40b5-9afc-da629dba2cd1"
      },
      "outputs": [
        {
          "output_type": "stream",
          "name": "stdout",
          "text": [
            "Epoch 1/15\n",
            "480/480 [==============================] - 6s 10ms/step - loss: 0.3104 - categorical_accuracy: 0.9053 - val_loss: 0.1258 - val_categorical_accuracy: 0.9618\n",
            "Epoch 2/15\n",
            "480/480 [==============================] - 4s 9ms/step - loss: 0.1403 - categorical_accuracy: 0.9566 - val_loss: 0.1001 - val_categorical_accuracy: 0.9693\n",
            "Epoch 3/15\n",
            "480/480 [==============================] - 5s 10ms/step - loss: 0.1042 - categorical_accuracy: 0.9680 - val_loss: 0.0868 - val_categorical_accuracy: 0.9718\n",
            "Epoch 4/15\n",
            "480/480 [==============================] - 4s 9ms/step - loss: 0.0827 - categorical_accuracy: 0.9739 - val_loss: 0.0823 - val_categorical_accuracy: 0.9746\n",
            "Epoch 5/15\n",
            "480/480 [==============================] - 4s 9ms/step - loss: 0.0695 - categorical_accuracy: 0.9777 - val_loss: 0.0735 - val_categorical_accuracy: 0.9785\n",
            "Epoch 6/15\n",
            "480/480 [==============================] - 4s 9ms/step - loss: 0.0599 - categorical_accuracy: 0.9810 - val_loss: 0.0767 - val_categorical_accuracy: 0.9775\n",
            "Epoch 7/15\n",
            "480/480 [==============================] - 4s 9ms/step - loss: 0.0542 - categorical_accuracy: 0.9824 - val_loss: 0.0845 - val_categorical_accuracy: 0.9758\n",
            "Epoch 8/15\n",
            "480/480 [==============================] - 4s 9ms/step - loss: 0.0476 - categorical_accuracy: 0.9845 - val_loss: 0.0733 - val_categorical_accuracy: 0.9794\n",
            "Epoch 9/15\n",
            "480/480 [==============================] - 4s 9ms/step - loss: 0.0422 - categorical_accuracy: 0.9862 - val_loss: 0.0738 - val_categorical_accuracy: 0.9794\n",
            "Epoch 10/15\n",
            "480/480 [==============================] - 4s 9ms/step - loss: 0.0386 - categorical_accuracy: 0.9868 - val_loss: 0.0763 - val_categorical_accuracy: 0.9798\n",
            "Epoch 11/15\n",
            "480/480 [==============================] - 4s 9ms/step - loss: 0.0367 - categorical_accuracy: 0.9877 - val_loss: 0.0697 - val_categorical_accuracy: 0.9810\n",
            "Epoch 12/15\n",
            "480/480 [==============================] - 5s 10ms/step - loss: 0.0330 - categorical_accuracy: 0.9891 - val_loss: 0.0756 - val_categorical_accuracy: 0.9797\n",
            "Epoch 13/15\n",
            "480/480 [==============================] - 4s 9ms/step - loss: 0.0310 - categorical_accuracy: 0.9897 - val_loss: 0.0754 - val_categorical_accuracy: 0.9807\n",
            "Epoch 14/15\n",
            "480/480 [==============================] - 4s 9ms/step - loss: 0.0303 - categorical_accuracy: 0.9894 - val_loss: 0.0744 - val_categorical_accuracy: 0.9798\n",
            "Epoch 15/15\n",
            "480/480 [==============================] - 4s 9ms/step - loss: 0.0263 - categorical_accuracy: 0.9914 - val_loss: 0.0696 - val_categorical_accuracy: 0.9830\n"
          ]
        }
      ],
      "source": [
        "# Training 과정에서 epoch마다 활용할 validation set을 나눠줄 수 있습니다.\n",
        "\n",
        "history = model.fit(train_data, train_label, batch_size=100, epochs=15, validation_split=0.2) "
      ]
    },
    {
      "cell_type": "markdown",
      "metadata": {
        "id": "AmnVFM1XXgOg"
      },
      "source": [
        "<br> \n",
        "\n",
        "#### 4. Test the model"
      ]
    },
    {
      "cell_type": "code",
      "execution_count": 8,
      "metadata": {
        "scrolled": true,
        "colab": {
          "base_uri": "https://localhost:8080/"
        },
        "id": "0gLEKQyIXgOh",
        "outputId": "e2b0ed07-d840-4698-b60f-08e891c27bdb"
      },
      "outputs": [
        {
          "output_type": "stream",
          "name": "stdout",
          "text": [
            "100/100 [==============================] - 0s 3ms/step - loss: 0.0630 - categorical_accuracy: 0.9839\n",
            "loss (cross-entropy) : 0.06299951672554016\n",
            "test accuracy : 0.9839000105857849\n"
          ]
        }
      ],
      "source": [
        "result = model.evaluate(test_data, test_label, batch_size=100)\n",
        "\n",
        "print('loss (cross-entropy) :', result[0])\n",
        "print('test accuracy :', result[1])"
      ]
    },
    {
      "cell_type": "markdown",
      "metadata": {
        "id": "T4xZBoaBXgOh"
      },
      "source": [
        "<br> \n",
        "\n",
        "#### 5. Visualize the result"
      ]
    },
    {
      "cell_type": "code",
      "execution_count": 9,
      "metadata": {
        "colab": {
          "base_uri": "https://localhost:8080/"
        },
        "id": "FEo27aWiXgOh",
        "outputId": "6968ef39-cf41-4235-b822-44bcc771edbe"
      },
      "outputs": [
        {
          "output_type": "execute_result",
          "data": {
            "text/plain": [
              "dict_keys(['loss', 'categorical_accuracy', 'val_loss', 'val_categorical_accuracy'])"
            ]
          },
          "metadata": {},
          "execution_count": 9
        }
      ],
      "source": [
        "history.history.keys()"
      ]
    },
    {
      "cell_type": "code",
      "source": [
        "len(history.history['loss'])"
      ],
      "metadata": {
        "colab": {
          "base_uri": "https://localhost:8080/"
        },
        "id": "LQ2wSdVaZvRm",
        "outputId": "045df481-e789-42d1-bf39-6975f87a9fc0"
      },
      "execution_count": 11,
      "outputs": [
        {
          "output_type": "execute_result",
          "data": {
            "text/plain": [
              "15"
            ]
          },
          "metadata": {},
          "execution_count": 11
        }
      ]
    },
    {
      "cell_type": "code",
      "execution_count": 12,
      "metadata": {
        "colab": {
          "base_uri": "https://localhost:8080/",
          "height": 279
        },
        "id": "yVN_jGbjXgOh",
        "outputId": "a7c6807f-c5dd-42a6-a761-389698c166b6"
      },
      "outputs": [
        {
          "output_type": "display_data",
          "data": {
            "text/plain": [
              "<Figure size 432x288 with 1 Axes>"
            ],
            "image/png": "[encoded data removed]"
          },
          "metadata": {
            "needs_background": "light"
          }
        }
      ],
      "source": [
        "val_acc = history.history['val_categorical_accuracy']\n",
        "acc = history.history['categorical_accuracy']\n",
        "\n",
        "import numpy as np\n",
        "import matplotlib.pyplot as plt\n",
        "\n",
        "x_len = np.arange(len(acc))\n",
        "plt.plot(x_len, acc, marker='.', c='blue', label=\"Train-set Acc.\")\n",
        "plt.plot(x_len, val_acc, marker='.', c='red', label=\"Validation-set Acc.\")\n",
        "\n",
        "plt.legend(loc='upper right')\n",
        "plt.grid()\n",
        "plt.xlabel('epoch')\n",
        "plt.ylabel('Accuracy')\n",
        "plt.show()"
      ]
    }
  ],
  "metadata": {
    "kernel_info": {
      "name": "python3"
    },
    "kernelspec": {
      "display_name": "Python 3",
      "language": "python",
      "name": "python3"
    },
    "language_info": {
      "codemirror_mode": {
        "name": "ipython",
        "version": 3
      },
      "file_extension": ".py",
      "mimetype": "text/x-python",
      "name": "python",
      "nbconvert_exporter": "python",
      "pygments_lexer": "ipython3",
      "version": "3.8.8"
    },
    "nteract": {
      "version": "0.15.0"
    },
    "colab": {
      "name": "3-2. TF2 Classification & Adv (2Layer + Dropout + BN).ipynb",
      "provenance": [],
      "include_colab_link": true
    }
  },
  "nbformat": 4,
  "nbformat_minor": 0
}