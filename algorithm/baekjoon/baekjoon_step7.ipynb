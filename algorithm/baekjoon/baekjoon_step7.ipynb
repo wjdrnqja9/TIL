{
  "nbformat": 4,
  "nbformat_minor": 0,
  "metadata": {
    "colab": {
      "name": "baekjoon_step7.ipynb",
      "provenance": [],
      "collapsed_sections": [],
      "authorship_tag": "ABX9TyMdBsvSpXS98Fpec1doP53u",
      "include_colab_link": true
    },
    "kernelspec": {
      "name": "python3",
      "display_name": "Python 3"
    },
    "language_info": {
      "name": "python"
    }
  },
  "cells": [
    {
      "cell_type": "markdown",
      "metadata": {
        "id": "view-in-github",
        "colab_type": "text"
      },
      "source": [
        "<a href=\"https://colab.research.google.com/github/wjdrnqja9/TIL/blob/main/algorithm/baekjoon/baekjoon_step7.ipynb\" target=\"_parent\"><img src=\"https://colab.research.google.com/assets/colab-badge.svg\" alt=\"Open In Colab\"/></a>"
      ]
    },
    {
      "cell_type": "markdown",
      "source": [
        "#####1712. 월드전자는 노트북을 제조하고 판매하는 회사이다. 노트북 판매 대수에 상관없이 매년 임대료, 재산세, 보험료, 급여 등 A만원의 고정 비용이 들며, 한 대의 노트북을 생산하는 데에는 재료비와 인건비 등 총 B만원의 가변 비용이 든다고 한다.\n",
        "\n",
        "예를 들어 A=1,000, B=70이라고 하자. 이 경우 노트북을 한 대 생산하는 데는 총 1,070만원이 들며, 열 대 생산하는 데는 총 1,700만원이 든다.\n",
        "\n",
        "노트북 가격이 C만원으로 책정되었다고 한다. 일반적으로 생산 대수를 늘려 가다 보면 어느 순간 총 수입(판매비용)이 총 비용(=고정비용+가변비용)보다 많아지게 된다. 최초로 총 수입이 총 비용보다 많아져 이익이 발생하는 지점을 손익분기점(BREAK-EVEN POINT)이라고 한다.\n",
        "\n",
        "A, B, C가 주어졌을 때, 손익분기점을 구하는 프로그램을 작성하시오."
      ],
      "metadata": {
        "id": "2WGnvyq078Cd"
      }
    },
    {
      "cell_type": "code",
      "execution_count": null,
      "metadata": {
        "id": "yfO1uB86488r"
      },
      "outputs": [],
      "source": [
        "A, B, C = map(int, input().split())\n",
        "n = 1\n",
        "\n",
        "if B >= C:\n",
        "    print(-1)\n",
        "\n",
        "else:\n",
        "    print(int(A/(C-B) +1))"
      ]
    },
    {
      "cell_type": "markdown",
      "source": [
        "#####2292. 육각형으로 이루어진 벌집이 있다. 그림에서 보는 바와 같이 중앙의 방 1부터 시작해서 이웃하는 방에 돌아가면서 1씩 증가하는 번호를 주소로 매길 수 있다. 숫자 N이 주어졌을 때, 벌집의 중앙 1에서 N번 방까지 최소 개수의 방을 지나서 갈 때 몇 개의 방을 지나가는지(시작과 끝을 포함하여)를 계산하는 프로그램을 작성하시오. 예를 들면, 13까지는 3개, 58까지는 5개를 지난다."
      ],
      "metadata": {
        "id": "hMXNk4O-CWiz"
      }
    },
    {
      "cell_type": "code",
      "source": [
        "A = int(input())\n",
        "n = 1\n",
        "cnt = 1\n",
        "while A > n:\n",
        "    n += 6 * cnt\n",
        "    cnt += 1\n",
        "print(cnt)"
      ],
      "metadata": {
        "id": "Ut21rGltbSqi"
      },
      "execution_count": null,
      "outputs": []
    },
    {
      "cell_type": "markdown",
      "source": [
        "#####1193. 무한히 큰 배열에 다음과 같이 분수들이 적혀있다.\n",
        "\n",
        "이와 같이 나열된 분수들을 1/1 → 1/2 → 2/1 → 3/1 → 2/2 → 1/3 → 1/4 → 2/3 → 3/2 → 4/1 → 5/1 → 4/2 → 3/3 → 2/4 → 1/5 → 1/6 → … 과 같은 지그재그 순서로 차례대로 1번, 2번, 3번, 4번, 5번, … 분수라고 하자.\n",
        "\n",
        "X가 주어졌을 때, X번째 분수를 구하는 프로그램을 작성하시오."
      ],
      "metadata": {
        "id": "UMdo6u2vcf0U"
      }
    },
    {
      "cell_type": "code",
      "source": [
        "N = int(input())\n",
        "cnt = 1\n",
        "\n",
        "while True:\n",
        "    if N > cnt:\n",
        "\n",
        "        N -= cnt\n",
        "        cnt += 1\n",
        "\n",
        "    else:\n",
        "        break\n",
        "\n",
        "if cnt % 2 == 0:\n",
        "    print(f'{N}/{cnt - (N - 1)}')\n",
        "else:\n",
        "    print(f'{cnt - (N - 1)}/{N}')"
      ],
      "metadata": {
        "id": "_-0sTr4EbXYM"
      },
      "execution_count": null,
      "outputs": []
    },
    {
      "cell_type": "markdown",
      "source": [
        "#####2869. 땅 위에 달팽이가 있다. 이 달팽이는 높이가 V미터인 나무 막대를 올라갈 것이다.\n",
        "\n",
        "달팽이는 낮에 A미터 올라갈 수 있다. 하지만, 밤에 잠을 자는 동안 B미터 미끄러진다. 또, 정상에 올라간 후에는 미끄러지지 않는다.\n",
        "\n",
        "달팽이가 나무 막대를 모두 올라가려면, 며칠이 걸리는지 구하는 프로그램을 작성하시오."
      ],
      "metadata": {
        "id": "0DX1R5jxgqXG"
      }
    },
    {
      "cell_type": "code",
      "source": [
        "A, B, V = map(int, input().split())\n",
        "d = 0\n",
        "h = 0\n",
        "while V > h:\n",
        "    h += A\n",
        "    if V > h:\n",
        "        h -= B\n",
        "    d += 1\n",
        "print(d)"
      ],
      "metadata": {
        "id": "Y_jq1_2Id5V_"
      },
      "execution_count": null,
      "outputs": []
    },
    {
      "cell_type": "code",
      "source": [
        "A, B, V = map(int, input().split())\n",
        "\n",
        "n = (V-A)/(A-B) +1\n",
        "\n",
        "if (V-A)%(A-B) == 0:\n",
        "    print(int(n))\n",
        "else:\n",
        "    print(int(n)+1)"
      ],
      "metadata": {
        "id": "bABddN4BiUdB"
      },
      "execution_count": null,
      "outputs": []
    }
  ]
}