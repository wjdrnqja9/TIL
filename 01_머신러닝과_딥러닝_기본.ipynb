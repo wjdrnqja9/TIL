{
  "cells": [
    {
      "cell_type": "markdown",
      "metadata": {
        "id": "view-in-github",
        "colab_type": "text"
      },
      "source": [
        "<a href=\"https://colab.research.google.com/github/wjdrnqja9/TIL/blob/main/01_%EB%A8%B8%EC%8B%A0%EB%9F%AC%EB%8B%9D%EA%B3%BC_%EB%94%A5%EB%9F%AC%EB%8B%9D_%EA%B8%B0%EB%B3%B8.ipynb\" target=\"_parent\"><img src=\"https://colab.research.google.com/assets/colab-badge.svg\" alt=\"Open In Colab\"/></a>"
      ]
    },
    {
      "cell_type": "markdown",
      "metadata": {
        "id": "BemENsmHtWVp"
      },
      "source": [
        "# 머신러닝 오리엔테이션"
      ]
    },
    {
      "cell_type": "markdown",
      "metadata": {
        "id": "NGHyzL73tWVs"
      },
      "source": [
        "## 머신러닝이란?\n",
        "> 기계가 사람처럼 학습을 할 수 있도록 하는 연구분야  \n",
        "\"환경과의 상호작용을 통해서 축적되는 경험적인 데이터를 바탕으로 모델을 자동으로 구축하고 스스로 성능을 향상시키는 시스템\" (Mitchell, 1977)"
      ]
    },
    {
      "cell_type": "markdown",
      "metadata": {
        "id": "fGgIsmpEtWVt"
      },
      "source": [
        "### 머신러닝 이전의 데이터 분석 혹은 모델링과의 차이\n",
        "> 기존 모델링  \n",
        ">> **사람이 알고리즘 설계 및 코딩**  \n",
        "**전문가 혹은 도메인 지식을 바탕**으로 한 조건에 따른 작업 지시 혹은 결과 도출(모델링)  \n",
        "**사람의 주관**이 많이 개입 된 모델링, 경험적 모델링  \n",
        "\n",
        "> 머신러닝 모델링  \n",
        ">> 사람이 코딩을 하는 것은 같음  \n",
        "**머신러닝 알고리즘에 따라 데이터를 학습하고 그에 따라 컴퓨터가 모델링**  \n",
        "**데이터 기반의 모델학습**에 따른 모델링, 데이터 모델링\n",
        "\n",
        "즉 기존 방법은 경험적으로 학습한 전문가에 의한 모델링이 이루어졌다면 머신러닝 모델링은 데이터를 학습한 알고리즘으로서 모델링을 함."
      ]
    },
    {
      "cell_type": "markdown",
      "metadata": {
        "id": "F4rATcLatWVu"
      },
      "source": [
        "### 머신러닝의 정의 및 범위\n",
        "![Venn diagram](./image/machine_venndiagram.png)\n",
        "출처 : https://www.deeplearningbook.org/contents/intro.html"
      ]
    },
    {
      "cell_type": "markdown",
      "metadata": {
        "id": "wYvms6FutWVu"
      },
      "source": [
        "### 머신러닝의 역사\n",
        "![historyofai](./image/historyofai.png)\n",
        "출처 : http://hochul.net/blog/data_analysis_machine_learning_basic_1s/  \n",
        "\n",
        "실제로는 7~80년 가까이 수행된 연구분야이지만 최근 10~5년 사이에 인기를 크게 끈 분야"
      ]
    },
    {
      "cell_type": "markdown",
      "metadata": {
        "id": "ojrBrdWItWVu"
      },
      "source": [
        "### 머신러닝 발전배경\n",
        "\n",
        "#### 데이터의 폭발적인 생산\n",
        "> 지수적으로 늘어나는 데이터의 생산량  \n",
        "온라인 기반 활동이 늘어나며 데이터의 생산 및 누적이 쉬워짐  \n",
        "전세계 데이터의 90%가 과거 2년 동안 수집 된 데이터  \n",
        "그렇다면 데이터를 기반으로 한 생산활동은? (SSG.com 일일데이터 4GB)  \n",
        "\n",
        "#### 컴퓨팅 환경의 발전\n",
        "> CPU 및 GPU 기반 연산속도 증가  \n",
        "기존 컴퓨팅 환경으로 오랜 기간이 걸리던 작업들이 가능해짐  \n",
        "데이터 처리 기술의 발전 (병렬 처리 연산, 클라우드 컴퓨팅등)  \n",
        "python 등 오픈소스 기반의 프로그래밍 언어의 대중화  \n",
        "\n",
        "#### 알고리즘의 발전\n",
        "> 기존 통계베이스의 알고리즘 뿐 아니라 데이터 기반 알고리즘의 발전  \n",
        "연산량 감소를 위한 데이터 분석 및 자료구조 알고리즘의 발전  \n",
        "비정형데이터를 다루기 위한 딥러닝 알고리즘"
      ]
    },
    {
      "cell_type": "markdown",
      "metadata": {
        "id": "0gOh1lmptWVv"
      },
      "source": [
        "### 용어정리\n",
        "머신러닝은 태생적으로 여러 분야가 결합된 분야이기 때문에 실무자들은 종종 동일한 의미에 대해 다양한 용어들을 사용합니다. 혼용하는 용어를 정리해보겠습니다.\n",
        "> **알고리즘(algorithm)** : 모델, 혹은 머신러닝 기법을 실행하기 위한 특정 절차  \n",
        "**특징(feature)** : 입력값으로 사용되는 변수들 속성, 입력변수, 독립변수, X라고도 부름  \n",
        "**샘플(sample)** : 데이터의 기본 단위. 하나의 사건 혹은 시점. 레코드, 인스턴스로 부름  \n",
        "**레이블(label)** : 한 샘플에 대한 정답 값. 클래스, 정답, 종속변수, y라고 부름"
      ]
    },
    {
      "cell_type": "markdown",
      "metadata": {
        "id": "pOcWyEMetWVv"
      },
      "source": [
        "### 머신러닝의 기본컨셉\n",
        "\n",
        "# $$y = f(x)$$\n",
        "\n",
        "* $y$ = 해결해야 하는 문제 (종속변수, target data)\n",
        "* $f()$ = 머신러닝 알고리즘 (모델)\n",
        "* $x$ = 훈련데이터 (설명변수, train data)\n",
        "\n",
        "###### 머신러닝 프로젝트의 기획은 결국 $y$를 어떻게 풀어낼 것인가에 대한 기획"
      ]
    },
    {
      "cell_type": "markdown",
      "metadata": {
        "id": "my0DkZ5AtWVw"
      },
      "source": [
        "### 머신러닝 데이터 플로우 프로세스\n",
        "#### 데이터셋 제작 및 확보\n",
        "<img src=\"./image/process1.png\" height=\"150px\" width=\"400px\">"
      ]
    },
    {
      "cell_type": "code",
      "execution_count": null,
      "metadata": {
        "ExecuteTime": {
          "end_time": "2021-07-10T00:36:48.636641Z",
          "start_time": "2021-07-10T00:36:48.390683Z"
        },
        "id": "-4X_BktrtWVw"
      },
      "outputs": [],
      "source": [
        "import pandas as pd\n",
        "df = pd.read_csv('./data/boston_house.csv') # python package: scikit-learn \n",
        "# df.pop('Unnamed: 0')\n",
        "df.head()"
      ]
    },
    {
      "cell_type": "markdown",
      "metadata": {
        "id": "z6_MHYcVtWVx"
      },
      "source": [
        "#### 타겟데이터(y) 분리\n",
        "<img src=\"./image/process2.png\" height=\"150px\" width=\"400px\">"
      ]
    },
    {
      "cell_type": "code",
      "execution_count": null,
      "metadata": {
        "ExecuteTime": {
          "end_time": "2021-07-10T00:36:51.009323Z",
          "start_time": "2021-07-10T00:36:51.005183Z"
        },
        "id": "uE1wvgcTtWVy"
      },
      "outputs": [],
      "source": [
        "y = df['Target']\n",
        "X = df.drop('Target', axis=1)"
      ]
    },
    {
      "cell_type": "markdown",
      "metadata": {
        "id": "yIVn934utWVy"
      },
      "source": [
        "#### train test split\n",
        "<img src=\"./image/process3.png\" height=\"150px\" width=\"400px\">"
      ]
    },
    {
      "cell_type": "code",
      "execution_count": null,
      "metadata": {
        "ExecuteTime": {
          "end_time": "2021-07-10T00:36:53.442797Z",
          "start_time": "2021-07-10T00:36:53.045169Z"
        },
        "id": "VU4pjyLjtWVy"
      },
      "outputs": [],
      "source": [
        "from sklearn.model_selection import train_test_split\n",
        "train_x, test_x, train_y, test_y = train_test_split(X, y)"
      ]
    },
    {
      "cell_type": "code",
      "execution_count": null,
      "metadata": {
        "ExecuteTime": {
          "end_time": "2021-07-10T00:36:53.812927Z",
          "start_time": "2021-07-10T00:36:53.808180Z"
        },
        "id": "i8utFRVotWVz"
      },
      "outputs": [],
      "source": [
        "train_x.shape, test_x.shape, train_y.shape, test_y.shape"
      ]
    },
    {
      "cell_type": "markdown",
      "metadata": {
        "id": "dfi6SZYrtWVz"
      },
      "source": [
        "#### 모델생성\n",
        "<img src=\"./image/process4.png\" height=\"500px\" width=\"800px\">"
      ]
    },
    {
      "cell_type": "code",
      "execution_count": null,
      "metadata": {
        "ExecuteTime": {
          "end_time": "2021-07-10T00:36:55.914257Z",
          "start_time": "2021-07-10T00:36:55.877083Z"
        },
        "id": "obGUkFuwtWVz"
      },
      "outputs": [],
      "source": [
        "from sklearn.linear_model import LinearRegression\n",
        "model = LinearRegression()"
      ]
    },
    {
      "cell_type": "markdown",
      "metadata": {
        "id": "EOQp1a4jtWVz"
      },
      "source": [
        "#### 모델학습"
      ]
    },
    {
      "cell_type": "code",
      "execution_count": null,
      "metadata": {
        "ExecuteTime": {
          "end_time": "2021-07-10T00:36:58.118133Z",
          "start_time": "2021-07-10T00:36:58.108781Z"
        },
        "id": "DWdu5yEItWV0"
      },
      "outputs": [],
      "source": [
        "model.fit(train_x, train_y)"
      ]
    },
    {
      "cell_type": "markdown",
      "metadata": {
        "id": "Fxn-wcvrtWV0"
      },
      "source": [
        "#### 모델 평가\n",
        "<img src=\"./image/process6.png\" height=\"500px\" width=\"800px\">"
      ]
    },
    {
      "cell_type": "code",
      "execution_count": null,
      "metadata": {
        "ExecuteTime": {
          "end_time": "2021-07-10T00:37:38.074639Z",
          "start_time": "2021-07-10T00:37:38.067886Z"
        },
        "id": "y8uhFyxmtWV0"
      },
      "outputs": [],
      "source": [
        "from sklearn.metrics import mean_squared_error\n",
        "import numpy as np\n",
        "\n",
        "predicted = model.predict(test_x)\n",
        "RMSE = np.sqrt(mean_squared_error(test_y, predicted))\n",
        "print(f'RMSE : {RMSE}')\n",
        "\n",
        "\n",
        "# Root Mean Square Error : RMSE\n",
        "# regression 회귀모델 평가할때 가장 많이 사용되는 평가지표 - rmse 낮을수록 좋은것\n",
        "# classification 분류모델 평가할때 가장 많이 사용되는 평가지표 - accuracy, precision, recall, f1-score 높을수록 좋은 것"
      ]
    },
    {
      "cell_type": "markdown",
      "metadata": {
        "id": "ypfLIANZtWV0"
      },
      "source": [
        "## 머신러닝의 구분\n",
        "$y$ 데이터의 존재 유무에 따라 지도학습과 비지도 학습으로 구분\n",
        "### supervised learning 지도학습($y$값이 존재)\n",
        "\n",
        "#### 해결 가능한 $y$ 값의 데이터에 따른 분류\n",
        "\n",
        "##### **예측(prediction, regression)** : 종속변수가 **연속형** 데이터  \n",
        "> * 연속형 데이터 - 매출데이터, 온도, 시간등  \n",
        "> * 자연수 0과 1사이에는 무수히 많은 실수가 존재하고 그 무한한 값의 범위를 갖는 데이터를 연속형 데이터라 한다.  \n",
        ">   \n",
        "<img src=\"./image/regression.png\" height=\"150px\" width=\"300px\">\n",
        "\n",
        "##### **분류(classification)** : 종속변수가 **범주형** 데이터\n",
        "> * 범주형 데이터 - 성별, 신용등급, 브랜드, 기차역등  \n",
        "> * 남성 혹은 여성 구분처럼 이진형 구분(0 혹은 1), 데이터가 특정 범위내에 모두 속한 데이터의 경우 범주형 데이터 혹은 카테고리 데이터라고 한다.\n",
        ">  \n",
        "<img src=\"./image/classification1.png\" height=\"150px\" width=\"300px\">\n",
        "\n",
        "###### 정답을 주고 컴퓨터가 이 정답을 맞출 수 있도록 학습, 객관적 평가 가능\n",
        "###### 예측은 무조건 과거 데이터가 있어야 합니다."
      ]
    },
    {
      "cell_type": "markdown",
      "metadata": {
        "id": "OsmrPhdxtWV1"
      },
      "source": [
        "### unsupervised learning 비지도학습($y$값이 존재하지 않음)\n",
        "\n",
        "#### 해결 가능한 $y$ 값의 데이터에 따른 분류\n",
        "\n",
        "##### **군집화(clustering)** : 종속변수가 **범주형** 데이터\n",
        "> * 정답이 없는 데이터를 모델에 따라 비슷한 샘플끼리 묶어주는 머신러닝 알고리즘\n",
        "> * 데이터에 숨겨진 특징이나 구조를 발견하여 같은 특징에 따라 구분\n",
        ">  \n",
        "<img src=\"./image/clustering.png\" height=\"150px\" width=\"300px\">\n",
        "\n",
        "##### **연관규칙분석(association rule analysis)** : 종속변수가 스코어 혹은 샘플\n",
        "> * 보통 추천시스템이라 부르며 매출 및 유저의 구매기록에 기반한 규칙을 찾는 알고리즘\n",
        "> * 아이템 혹은 유저를 기준으로 비슷한 아이템 및 유저를 찾아 비슷한 데이터를 찾음.\n",
        ">  \n",
        "<img src=\"./image/association_rule.png\" height=\"150px\" width=\"300px\">\n",
        "\n",
        "##### **준지도학습(semi-supervised learning)** : 비지도학습 + 지도학습\n",
        "> * 지도학습을 사용하려면 레이블이 있어야 하지만 이를 비지도 학습으로 해결\n",
        "> * 종속변수에 레이블이 있는 데이터와 없는 데이터를 같이 사용\n",
        "> * 군집화와 지도학습을 순차적으로 적용하는 방법\n",
        "\n",
        "###### 객관적 평가 불가능"
      ]
    },
    {
      "cell_type": "markdown",
      "metadata": {
        "id": "yWNcHesStWV1"
      },
      "source": [
        "<small>이미지출처 : https://snowdeer.github.io/machine-learning/2016/09/03/machine-learning-algorithms/</small>\n",
        "<small>https://www.kdnuggets.com/2016/04/association-rules-apriori-algorithm-tutorial.html</small>"
      ]
    },
    {
      "cell_type": "markdown",
      "metadata": {
        "id": "zFLK2KZVtWV1"
      },
      "source": [
        "## 프로세스\n",
        "> 1. 문제정의\n",
        "2. 데이터수집\n",
        "3. 데이터탐색\n",
        "4. 데이터전처리\n",
        "5. 모델링\n",
        "6. 모델평가\n",
        "7. 결과보고서 작성"
      ]
    },
    {
      "cell_type": "markdown",
      "metadata": {
        "id": "eC2waCGitWV1"
      },
      "source": [
        "### 문제정의\n",
        "통계적 배경지식이 중요(업무 base)\n",
        "\n",
        "1개의 데이터셋에서 1개의 문제를 해결하는 것을 기본으로 함\n",
        "\n",
        "문제정의 예시\n",
        "> 기존고객 개인정보를 바탕으로 한 신규고객 고객군 분류  \n",
        "- 종속변수 : 신규고객 고객군 분류\n",
        "- 설명변수 : 기존고객 개인정보(성별, 나이, 지역, 소득, 신용정보, 가입정도등등)\n",
        "- 모델 : 분류문제를 해결하기 위한 classification\n",
        "\n",
        "복잡한 문제를 해결해야 할 경우 위의 1개 문제 = 1개 데이터셋의 원칙을 지키면 혼동이 덜 함    "
      ]
    },
    {
      "cell_type": "markdown",
      "metadata": {
        "id": "6Rme30qTtWV1"
      },
      "source": [
        "### 데이터수집\n",
        "분석에 필요한 설명변수, 종속변수에 따라 데이터 수집\n",
        "\n",
        "> 사내데이터 활용  \n",
        "데이터셋 활용  \n",
        "크롤링  \n",
        "API  \n",
        "    \n",
        "실제 수집이 불가능한 데이터가 있을 수 있음"
      ]
    },
    {
      "cell_type": "markdown",
      "metadata": {
        "id": "gi_C0xTQtWV2"
      },
      "source": [
        "### 데이터탐색\n",
        "\n",
        "pandas, 시각화등 다양한 EDA 방법을 사용하여 수집데이터를 흝어보는 과정\n",
        "\n",
        "수집된 데이터가 문제에 적합하지 않거나 사용이 불가능한 경우가 있을 수 있음\n",
        "\n",
        "> 기술통계  \n",
        "결측치, 이상치 탐색  \n",
        "공분산 탐색  "
      ]
    },
    {
      "cell_type": "markdown",
      "metadata": {
        "id": "TjtGN2-utWV2"
      },
      "source": [
        "### 데이터전처리\n",
        "수집된 데이터를 모델링이 가능한 형태로 가공\n",
        "\n",
        "추후 데이터전처리 특강에서 다룰예정\n",
        "\n",
        "> 데이터 병합  \n",
        "데이터 형변환  \n",
        "더미화  \n",
        "클래스불균형 해결  \n",
        "차원축소  \n",
        "재샘플링"
      ]
    },
    {
      "cell_type": "markdown",
      "metadata": {
        "id": "PWVfTU8ltWV2"
      },
      "source": [
        "### 모델링\n",
        "실제로 가장 손쉬운 과정\n",
        "\n",
        "문제해결에 알맞는 모델 탐색 및 최적모델 탐색\n",
        "\n",
        "사람의 공수가 아닌 하드웨어 스펙에 따라 작업시간 단축\n",
        "\n",
        "> 모델선택  \n",
        "모수추정  \n",
        "모델학습  \n",
        "파라메터 서칭  "
      ]
    },
    {
      "cell_type": "markdown",
      "metadata": {
        "id": "HLxm92tItWV2"
      },
      "source": [
        "### 모델평가\n",
        "고객군 분류가 되어있지 않은 신규고객데이터를 모델에 적용하여\n",
        "\n",
        "기존분류 고객과 차이를 여러가지 방법으로 산출하여 평가\n",
        "\n",
        "> 예측, 분류/오분류 평가  \n",
        "설명력 평가  "
      ]
    },
    {
      "cell_type": "markdown",
      "metadata": {
        "id": "51ACUaeKtWV2"
      },
      "source": [
        "### 결과보고서 작성\n",
        "문제정의부터 모델평가까지 데이터분석 프로젝트 전 과정에 대한 진행경과, 결과, 문제점, 해결방법을 기술\n",
        "\n",
        "> 시각화  \n",
        "활용방안  \n",
        "운영방안"
      ]
    },
    {
      "cell_type": "code",
      "execution_count": null,
      "metadata": {
        "id": "GyVTEJvUtWV2"
      },
      "outputs": [],
      "source": [
        ""
      ]
    }
  ],
  "metadata": {
    "kernelspec": {
      "display_name": "Python 3 (ipykernel)",
      "language": "python",
      "name": "python3"
    },
    "language_info": {
      "codemirror_mode": {
        "name": "ipython",
        "version": 3
      },
      "file_extension": ".py",
      "mimetype": "text/x-python",
      "name": "python",
      "nbconvert_exporter": "python",
      "pygments_lexer": "ipython3",
      "version": "3.7.12"
    },
    "toc": {
      "base_numbering": 1,
      "nav_menu": {},
      "number_sections": true,
      "sideBar": true,
      "skip_h1_title": true,
      "title_cell": "Table of Contents",
      "title_sidebar": "Contents",
      "toc_cell": false,
      "toc_position": {},
      "toc_section_display": true,
      "toc_window_display": true
    },
    "varInspector": {
      "cols": {
        "lenName": 16,
        "lenType": 16,
        "lenVar": 40
      },
      "kernels_config": {
        "python": {
          "delete_cmd_postfix": "",
          "delete_cmd_prefix": "del ",
          "library": "var_list.py",
          "varRefreshCmd": "print(var_dic_list())"
        },
        "r": {
          "delete_cmd_postfix": ") ",
          "delete_cmd_prefix": "rm(",
          "library": "var_list.r",
          "varRefreshCmd": "cat(var_dic_list()) "
        }
      },
      "types_to_exclude": [
        "module",
        "function",
        "builtin_function_or_method",
        "instance",
        "_Feature"
      ],
      "window_display": false
    },
    "colab": {
      "name": "01-머신러닝과 딥러닝 기본.ipynb",
      "provenance": [],
      "include_colab_link": true
    }
  },
  "nbformat": 4,
  "nbformat_minor": 0
}