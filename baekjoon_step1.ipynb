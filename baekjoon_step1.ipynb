{
  "nbformat": 4,
  "nbformat_minor": 0,
  "metadata": {
    "colab": {
      "name": "baekjoon_step1.ipynb",
      "provenance": [],
      "authorship_tag": "ABX9TyOwT/X0xtWcWFr8Zq/IpadO",
      "include_colab_link": true
    },
    "kernelspec": {
      "name": "python3",
      "display_name": "Python 3"
    },
    "language_info": {
      "name": "python"
    }
  },
  "cells": [
    {
      "cell_type": "markdown",
      "metadata": {
        "id": "view-in-github",
        "colab_type": "text"
      },
      "source": [
        "<a href=\"https://colab.research.google.com/github/wjdrnqja9/TIL/blob/main/baekjoon_step1.ipynb\" target=\"_parent\"><img src=\"https://colab.research.google.com/assets/colab-badge.svg\" alt=\"Open In Colab\"/></a>"
      ]
    },
    {
      "cell_type": "markdown",
      "source": [
        "#####2557. Hello World!를 출력하시오."
      ],
      "metadata": {
        "id": "huZkfvW2xlcI"
      }
    },
    {
      "cell_type": "code",
      "execution_count": null,
      "metadata": {
        "colab": {
          "base_uri": "https://localhost:8080/"
        },
        "id": "uG7NqQkvCWzl",
        "outputId": "4e12c5c9-f7cf-4b25-81c8-07eee790ec5d"
      },
      "outputs": [
        {
          "output_type": "stream",
          "name": "stdout",
          "text": [
            "Hello World!\n"
          ]
        }
      ],
      "source": [
        "print(\"Hello World!\")"
      ]
    },
    {
      "cell_type": "markdown",
      "source": [
        "#####10718. 대회를 뜰 줄 모르는 지박령 kriii를 위해서 격려의 문구를 출력해주자."
      ],
      "metadata": {
        "id": "F56qmsEKxsh9"
      }
    },
    {
      "cell_type": "code",
      "source": [
        "print(\"강한친구 대한육군\\n강한친구 대한육군\")"
      ],
      "metadata": {
        "colab": {
          "base_uri": "https://localhost:8080/"
        },
        "id": "-FUCAvDt6oLo",
        "outputId": "9e324c7b-e9d5-4dd7-ab51-7eb9325e4a2e"
      },
      "execution_count": null,
      "outputs": [
        {
          "output_type": "stream",
          "name": "stdout",
          "text": [
            "강한친구 대한육군\n",
            "강한친구 대한육군\n"
          ]
        }
      ]
    },
    {
      "cell_type": "markdown",
      "source": [
        "#####10171. 아래 예제와 같이 고양이를 출력하시오."
      ],
      "metadata": {
        "id": "gg8lF7Fvxx6f"
      }
    },
    {
      "cell_type": "code",
      "source": [
        "print(\"\\\\    /\\\\\\n\"\n",
        "\" )  ( ')\\n\"\n",
        "\"(  /  )\\n\"\n",
        "\" \\\\(__)|\")"
      ],
      "metadata": {
        "colab": {
          "base_uri": "https://localhost:8080/"
        },
        "id": "HLGtwbPC7Ga9",
        "outputId": "4cce919a-a754-4fe5-e7a6-8326ca43d04f"
      },
      "execution_count": null,
      "outputs": [
        {
          "output_type": "stream",
          "name": "stdout",
          "text": [
            "\\    /\\\n",
            " )  ( ')\n",
            "(  /  )\n",
            " \\(__)|\n"
          ]
        }
      ]
    },
    {
      "cell_type": "markdown",
      "source": [
        "#####25083. 아래 예제와 같이 새싹을 출력하시오."
      ],
      "metadata": {
        "id": "A98QP68-x3Sx"
      }
    },
    {
      "cell_type": "code",
      "source": [
        "print(\"         ,r'\\\"7\\n\"\n",
        "\"r`-_   ,'  ,/\\n\"\n",
        "\" \\. \\\". L_r'\\n\"\n",
        "\"   `~\\/\\n\"\n",
        "\"      |\\n\"\n",
        "\"      |\")"
      ],
      "metadata": {
        "colab": {
          "base_uri": "https://localhost:8080/"
        },
        "id": "BGCvgJS40yFg",
        "outputId": "90a4d109-5f29-4974-a889-1527a9c01354"
      },
      "execution_count": null,
      "outputs": [
        {
          "output_type": "stream",
          "name": "stdout",
          "text": [
            "         ,r'\"7\n",
            "r`-_   ,'  ,/\n",
            " \\. \". L_r'\n",
            "   `~\\/\n",
            "      |\n",
            "      |\n"
          ]
        }
      ]
    },
    {
      "cell_type": "markdown",
      "source": [
        "#####1000. 두 정수 A와 B를 입력받은 다음, A+B를 출력하는 프로그램을 작성하시오."
      ],
      "metadata": {
        "id": "2QLqUx1ix4yI"
      }
    },
    {
      "cell_type": "code",
      "source": [
        "A , B = input().split()\n",
        "print(int(A)+int(B))"
      ],
      "metadata": {
        "colab": {
          "base_uri": "https://localhost:8080/"
        },
        "id": "3baczPIZ8DrV",
        "outputId": "fb91181f-fb5d-4f89-9e82-5a828c0e16bf"
      },
      "execution_count": null,
      "outputs": [
        {
          "output_type": "stream",
          "name": "stdout",
          "text": [
            "1 2\n",
            "3\n"
          ]
        }
      ]
    },
    {
      "cell_type": "markdown",
      "source": [
        "#####1001. 두 정수 A와 B를 입력받은 다음, A-B를 출력하는 프로그램을 작성하시오."
      ],
      "metadata": {
        "id": "C-VbO_45D5Xc"
      }
    },
    {
      "cell_type": "code",
      "source": [
        "A , B = input().split()\n",
        "print(int(A)-int(B))"
      ],
      "metadata": {
        "colab": {
          "base_uri": "https://localhost:8080/"
        },
        "id": "MAHLcUAeAavz",
        "outputId": "55f86b93-1f5a-4a76-b834-f915582f9a64"
      },
      "execution_count": null,
      "outputs": [
        {
          "output_type": "stream",
          "name": "stdout",
          "text": [
            "3 2\n",
            "1\n"
          ]
        }
      ]
    },
    {
      "cell_type": "markdown",
      "source": [
        "#####10998. 두 정수 A와 B를 입력받은 다음, A×B를 출력하는 프로그램을 작성하시오."
      ],
      "metadata": {
        "id": "8nzi5w1iyBTW"
      }
    },
    {
      "cell_type": "code",
      "source": [
        "A , B = input().split()\n",
        "print(int(A)*int(B))"
      ],
      "metadata": {
        "colab": {
          "base_uri": "https://localhost:8080/"
        },
        "id": "4KNXmsyg9xML",
        "outputId": "c271f7d0-fb2a-4f6a-fcbf-3fcd02630799"
      },
      "execution_count": null,
      "outputs": [
        {
          "output_type": "stream",
          "name": "stdout",
          "text": [
            "3 4\n",
            "12\n"
          ]
        }
      ]
    },
    {
      "cell_type": "markdown",
      "source": [
        "#####1008. 두 정수 A와 B를 입력받은 다음, A/B를 출력하는 프로그램을 작성하시오."
      ],
      "metadata": {
        "id": "idMcqQ9PyLE3"
      }
    },
    {
      "cell_type": "code",
      "source": [
        "A , B = input().split()\n",
        "print(int(A)/int(B))"
      ],
      "metadata": {
        "colab": {
          "base_uri": "https://localhost:8080/"
        },
        "id": "8devv695-iOS",
        "outputId": "9932ea94-b014-417b-9737-3e80315f1453"
      },
      "execution_count": null,
      "outputs": [
        {
          "output_type": "stream",
          "name": "stdout",
          "text": [
            "1 3\n",
            "0.3333333333333333\n"
          ]
        }
      ]
    },
    {
      "cell_type": "markdown",
      "source": [
        "#####10859. 두 자연수 A와 B가 주어진다. 이때, A+B, A-B, A*B, A/B(몫), A%B(나머지)를 출력하는 프로그램을 작성하시오. "
      ],
      "metadata": {
        "id": "kT_HejSDyPY_"
      }
    },
    {
      "cell_type": "code",
      "source": [
        "A, B = input().split()\n",
        "print(int(A)+int(B))\n",
        "print(int(A)-int(B))\n",
        "print(int(A)*int(B))\n",
        "print(int(A)//int(B))\n",
        "print(int(A)%int(B))"
      ],
      "metadata": {
        "colab": {
          "base_uri": "https://localhost:8080/"
        },
        "id": "HZeZ4iatE0CL",
        "outputId": "3bb38dc3-0384-45b4-8ce5-aef93f632865"
      },
      "execution_count": null,
      "outputs": [
        {
          "output_type": "stream",
          "name": "stdout",
          "text": [
            "7 3\n",
            "10\n",
            "4\n",
            "21\n",
            "2\n",
            "1\n"
          ]
        }
      ]
    },
    {
      "cell_type": "markdown",
      "source": [
        "#####10926. 준하는 사이트에 회원가입을 하다가 joonas라는 아이디가 이미 존재하는 것을 보고 놀랐다. 준하는 놀람을 ??!로 표현한다. \n",
        "#####준하가 가입하려고 하는 사이트에 이미 존재하는 아이디가 주어졌을 때, 놀람을 표현하는 프로그램을 작성하시오."
      ],
      "metadata": {
        "id": "UuaB5KnkyqjK"
      }
    },
    {
      "cell_type": "code",
      "source": [
        "a=input()\n",
        "print(a+'??!')"
      ],
      "metadata": {
        "colab": {
          "base_uri": "https://localhost:8080/"
        },
        "id": "XpFXiQW7FLvd",
        "outputId": "deb4b1aa-f45a-49c9-bf3e-cfd66f135521"
      },
      "execution_count": null,
      "outputs": [
        {
          "output_type": "stream",
          "name": "stdout",
          "text": [
            "baekjoon\n",
            "baekjoon??!\n"
          ]
        }
      ]
    },
    {
      "cell_type": "markdown",
      "source": [
        "#####18108. 불기 연도가 주어질 때 이를 서기 연도로 바꿔 주는 프로그램을 작성하시오."
      ],
      "metadata": {
        "id": "WZiYQk8Qywuu"
      }
    },
    {
      "cell_type": "code",
      "source": [
        "a=int(input())\n",
        "print(a-543)"
      ],
      "metadata": {
        "colab": {
          "base_uri": "https://localhost:8080/"
        },
        "id": "slau6yyLOti0",
        "outputId": "7063e717-6266-4180-c0f5-2563713d386a"
      },
      "execution_count": null,
      "outputs": [
        {
          "output_type": "stream",
          "name": "stdout",
          "text": [
            "2541\n",
            "1998\n"
          ]
        }
      ]
    },
    {
      "cell_type": "markdown",
      "source": [
        "#####10430. (A+B)%C는 ((A%C) + (B%C))%C 와 같을까?\n",
        "\n",
        "#####(A×B)%C는 ((A%C) × (B%C))%C 와 같을까?\n",
        "\n",
        "#####세 수 A, B, C가 주어졌을 때, 위의 네 가지 값을 구하는 프로그램을 작성하시오."
      ],
      "metadata": {
        "id": "H-UFQFivy_R9"
      }
    },
    {
      "cell_type": "code",
      "source": [
        "A, B, C = input().split()\n",
        "print((int(A)+int(B))%int(C))\n",
        "print(((int(A)%int(C))+(int(B)%int(C)))%int(C))\n",
        "print((int(A)*int(B))%int(C))\n",
        "print(((int(A)%int(C))*(int(B)%int(C)))%int(C))"
      ],
      "metadata": {
        "colab": {
          "base_uri": "https://localhost:8080/"
        },
        "id": "uf8OfNyVPkHp",
        "outputId": "424fc896-febc-4c9f-af09-16756a1a4a9f"
      },
      "execution_count": null,
      "outputs": [
        {
          "output_type": "stream",
          "name": "stdout",
          "text": [
            "5 8 4\n",
            "1\n",
            "1\n",
            "0\n",
            "0\n"
          ]
        }
      ]
    },
    {
      "cell_type": "markdown",
      "source": [
        "2588. 세자리 수 X 세자리 수 "
      ],
      "metadata": {
        "id": "T2fW7YgpzGlP"
      }
    },
    {
      "cell_type": "code",
      "source": [
        "a=input()\n",
        "b=input()\n",
        "c=print(int(a)*int(b[2]))\n",
        "\n",
        "d=print(int(a)*int(b[1]))\n",
        "\n",
        "e=print(int(a)*int(b[0]))\n",
        "\n",
        "print(int(a)*int(b))"
      ],
      "metadata": {
        "colab": {
          "base_uri": "https://localhost:8080/"
        },
        "id": "3PKegdAz_fdF",
        "outputId": "3beb3b20-a7c3-4d1d-ce72-612824d78b81"
      },
      "execution_count": null,
      "outputs": [
        {
          "output_type": "stream",
          "name": "stdout",
          "text": [
            "472\n",
            "385\n",
            "2360\n",
            "3776\n",
            "1416\n",
            "181720\n"
          ]
        }
      ]
    },
    {
      "cell_type": "code",
      "source": [
        "A = int(input())\n",
        "\n",
        "for i in range(1,10):\n",
        "    print(f'{A} * {i} = {A*i}')"
      ],
      "metadata": {
        "colab": {
          "base_uri": "https://localhost:8080/"
        },
        "id": "0DAnygyUyq6o",
        "outputId": "74a50bbf-32d1-4ce0-d92c-b67c0ff4f610"
      },
      "execution_count": null,
      "outputs": [
        {
          "output_type": "stream",
          "name": "stdout",
          "text": [
            "2\n",
            "2 * 1 = 2\n",
            "2 * 2 = 4\n",
            "2 * 3 = 6\n",
            "2 * 4 = 8\n",
            "2 * 5 = 10\n",
            "2 * 6 = 12\n",
            "2 * 7 = 14\n",
            "2 * 8 = 16\n",
            "2 * 9 = 18\n"
          ]
        }
      ]
    },
    {
      "cell_type": "code",
      "source": [
        "x = int(input())\n",
        "pl = []\n",
        "\n",
        "for i in range(x):\n",
        "    A, B=input().split()\n",
        "    pl.append(int(A)+int(B))\n",
        "\n",
        "for i in pl:\n",
        "    print(i)"
      ],
      "metadata": {
        "colab": {
          "base_uri": "https://localhost:8080/"
        },
        "id": "29Z7qXxq2dxp",
        "outputId": "11edecac-f8e4-4c1b-ea2d-0afa72adf540"
      },
      "execution_count": null,
      "outputs": [
        {
          "output_type": "stream",
          "name": "stdout",
          "text": [
            "5\n",
            "1 1\n",
            "2 3\n",
            "3 4\n",
            "9 8\n",
            "5 2\n",
            "2\n",
            "5\n",
            "7\n",
            "17\n",
            "7\n"
          ]
        }
      ]
    },
    {
      "cell_type": "code",
      "source": [
        "n = int(input())\n",
        "sum=0\n",
        "\n",
        "while n>0:\n",
        "    sum=sum+n\n",
        "    n=n-1\n",
        "\n",
        "print(sum)"
      ],
      "metadata": {
        "colab": {
          "base_uri": "https://localhost:8080/"
        },
        "id": "E6_k6E2H7OsN",
        "outputId": "2612c9d5-2052-48c5-caf4-c85e65cfd250"
      },
      "execution_count": null,
      "outputs": [
        {
          "output_type": "stream",
          "name": "stdout",
          "text": [
            "3\n",
            "6\n"
          ]
        }
      ]
    },
    {
      "cell_type": "code",
      "source": [
        "x = int(input())\n",
        "pl = []\n",
        "\n",
        "for i in range(x):\n",
        "    A, B=input().split()\n",
        "    print(int(A)+int(B))\n"
      ],
      "metadata": {
        "colab": {
          "base_uri": "https://localhost:8080/"
        },
        "id": "0iuPS6YS-ArS",
        "outputId": "3a5c1955-7045-4c63-8eb5-1990d9b8b48b"
      },
      "execution_count": null,
      "outputs": [
        {
          "output_type": "stream",
          "name": "stdout",
          "text": [
            "5\n",
            "1 1\n",
            "2\n",
            "12 34\n",
            "46\n",
            "5 500\n",
            "505\n",
            "40 60\n",
            "100\n",
            "1000 1000\n",
            "2000\n"
          ]
        }
      ]
    },
    {
      "cell_type": "code",
      "source": [
        "import sys\n",
        "\n",
        "T = int(sys.stdin.readline())\n",
        "\n",
        "AandB = []\n",
        "for i in range(T):\n",
        "    AandB = sys.stdin.readline().split()\n",
        "    for i in range(2):\n",
        "        AandB[i] = int(AandB[i])\n",
        "    print(sum(AandB))\n"
      ],
      "metadata": {
        "id": "UV6J7d6HALce"
      },
      "execution_count": null,
      "outputs": []
    },
    {
      "cell_type": "code",
      "source": [
        "n = int(input())\n",
        "\n",
        "for i in range(n):\n",
        "    print(i+1)"
      ],
      "metadata": {
        "colab": {
          "base_uri": "https://localhost:8080/"
        },
        "id": "b7DMr3OqBice",
        "outputId": "c8f0b1a0-4708-475e-f5ee-0c5d92003760"
      },
      "execution_count": null,
      "outputs": [
        {
          "output_type": "stream",
          "name": "stdout",
          "text": [
            "1\n",
            "1\n"
          ]
        }
      ]
    },
    {
      "cell_type": "code",
      "source": [
        "n = int(input())\n",
        "\n",
        "for i in range(n):\n",
        "    print(n)\n",
        "    n=n-1"
      ],
      "metadata": {
        "colab": {
          "base_uri": "https://localhost:8080/"
        },
        "id": "Y3nX3lkKDDqi",
        "outputId": "dbfb9101-73bf-4664-d331-9615483b15e8"
      },
      "execution_count": null,
      "outputs": [
        {
          "output_type": "stream",
          "name": "stdout",
          "text": [
            "5\n",
            "5\n",
            "4\n",
            "3\n",
            "2\n",
            "1\n"
          ]
        }
      ]
    },
    {
      "cell_type": "code",
      "source": [
        "t = int(input())\n",
        "\n",
        "for i in range(t):\n",
        "    A, B = input().split()\n",
        "    print(f'Case #{i+1}: {int(A)+int(B)}')\n"
      ],
      "metadata": {
        "colab": {
          "base_uri": "https://localhost:8080/"
        },
        "id": "ptnu4dm8PZa8",
        "outputId": "2dca0d69-ffa5-48ef-a5eb-166e000861df"
      },
      "execution_count": null,
      "outputs": [
        {
          "output_type": "stream",
          "name": "stdout",
          "text": [
            "5\n",
            "1 1\n",
            "Case #1: 2\n",
            "2 3\n",
            "Case #2: 5\n",
            "3 4\n",
            "Case #3: 7\n",
            "9 8\n",
            "Case #4: 17\n",
            "5 2\n",
            "Case #5: 7\n"
          ]
        }
      ]
    },
    {
      "cell_type": "code",
      "source": [
        "t = int(input())\n",
        "\n",
        "for i in range(t):\n",
        "    A, B = input().split()\n",
        "    print(f'Case #{i+1}: {A} + {B} = {int(A)+int(B)}')\n"
      ],
      "metadata": {
        "colab": {
          "base_uri": "https://localhost:8080/"
        },
        "id": "ZmP4oTpzTZUd",
        "outputId": "e49330ab-ef17-4bfc-df45-7b618bb525f3"
      },
      "execution_count": null,
      "outputs": [
        {
          "output_type": "stream",
          "name": "stdout",
          "text": [
            "5\n",
            "1 1\n",
            "Case #1: 1 + 1 = 2\n",
            "2 3\n",
            "Case #2: 2 + 3 = 5\n",
            "3 4\n",
            "Case #3: 3 + 4 = 7\n",
            "9 8\n",
            "Case #4: 9 + 8 = 17\n",
            "5 2\n",
            "Case #5: 5 + 2 = 7\n"
          ]
        }
      ]
    },
    {
      "cell_type": "code",
      "source": [
        "n = int(input())\n",
        "\n",
        "for i in range(n):\n",
        "    print('*'*(i+1))"
      ],
      "metadata": {
        "colab": {
          "base_uri": "https://localhost:8080/"
        },
        "id": "YakfcAgDVSEJ",
        "outputId": "abbfb5ff-1121-4b52-9bd0-ba7a7486eeef"
      },
      "execution_count": null,
      "outputs": [
        {
          "output_type": "stream",
          "name": "stdout",
          "text": [
            "5\n",
            "*\n",
            "**\n",
            "***\n",
            "****\n",
            "*****\n"
          ]
        }
      ]
    },
    {
      "cell_type": "code",
      "source": [
        "n = int(input())\n",
        "\n",
        "for i in range(n):\n",
        "    print(' '*(n-1-i)+'*'*(i+1))"
      ],
      "metadata": {
        "colab": {
          "base_uri": "https://localhost:8080/"
        },
        "id": "yE4O-62EVoaM",
        "outputId": "7ada1a1e-6cb4-4627-b189-59fc77fa7e62"
      },
      "execution_count": null,
      "outputs": [
        {
          "output_type": "stream",
          "name": "stdout",
          "text": [
            "5\n",
            "    *\n",
            "   **\n",
            "  ***\n",
            " ****\n",
            "*****\n"
          ]
        }
      ]
    },
    {
      "cell_type": "code",
      "source": [
        "n, x = map(int, input().split())\n",
        "a = list(map(int, input().split()))\n",
        "for i in range(n):\n",
        "    if a[i] < x :\n",
        "        print(a[i], end=\" \")"
      ],
      "metadata": {
        "id": "weRFrf-zV5Gl",
        "colab": {
          "base_uri": "https://localhost:8080/"
        },
        "outputId": "47d7fd76-670e-4e24-831b-066127c1218b"
      },
      "execution_count": null,
      "outputs": [
        {
          "output_type": "stream",
          "name": "stdout",
          "text": [
            "10 5\n",
            "1 10 4 9 2 3 8 5 7 6\n",
            "1 4 2 3 "
          ]
        }
      ]
    },
    {
      "cell_type": "code",
      "source": [
        "while True:\n",
        "    A, B = map(int, input().split())\n",
        "    if A == 0 and B == 0:\n",
        "        break\n",
        "    else:\n",
        "        print(A + B)"
      ],
      "metadata": {
        "colab": {
          "base_uri": "https://localhost:8080/"
        },
        "id": "DrbAg2ngrTkZ",
        "outputId": "b801c84b-f7ab-49e8-eeb5-c90d6fb17534"
      },
      "execution_count": null,
      "outputs": [
        {
          "name": "stdout",
          "output_type": "stream",
          "text": [
            "1 1\n",
            "2\n",
            "2 3\n",
            "5\n",
            "3 4\n",
            "7\n",
            "9 8\n",
            "17\n",
            "5 2\n",
            "7\n",
            "0 0\n"
          ]
        }
      ]
    },
    {
      "cell_type": "code",
      "source": [
        "while True:\n",
        "    try:\n",
        "        A, B = map(int, input().split())\n",
        "        print( A + B )\n",
        "    except:\n",
        "        break"
      ],
      "metadata": {
        "colab": {
          "base_uri": "https://localhost:8080/"
        },
        "id": "bcOjTqczrpau",
        "outputId": "1d7d2bb7-0725-43ef-afbd-83b529b1a9b2"
      },
      "execution_count": null,
      "outputs": [
        {
          "name": "stdout",
          "output_type": "stream",
          "text": [
            "1 1\n",
            "2\n",
            "2 3\n",
            "5\n",
            "3 4\n",
            "7\n",
            "9 8\n",
            "17\n",
            "5 2\n",
            "7\n",
            "0\n"
          ]
        }
      ]
    },
    {
      "cell_type": "code",
      "source": [
        "n = int(input())\n",
        "c = 0\n",
        "x = 0\n",
        "l=[n]\n",
        "\n",
        "if n < 10:\n",
        "    n=n*10\n",
        "\n",
        "a = n // 10\n",
        "b = n % 10\n",
        "\n",
        "while(True):\n",
        "\n",
        "    c = a + b\n",
        "\n",
        "    x = (b * 10) + (c % 10)\n",
        "\n",
        "    if x == n:\n",
        "        break\n",
        "    else:\n",
        "        a =  x // 10 \n",
        "        b = x % 10\n",
        "        l.append(x)\n",
        "\n",
        "print(len(l))"
      ],
      "metadata": {
        "colab": {
          "base_uri": "https://localhost:8080/"
        },
        "id": "66FMiklgbTQ5",
        "outputId": "170eb7b2-bc9a-4eba-a7f4-45236b4329b9"
      },
      "execution_count": null,
      "outputs": [
        {
          "output_type": "stream",
          "name": "stdout",
          "text": [
            "1\n",
            "60\n"
          ]
        }
      ]
    },
    {
      "cell_type": "code",
      "source": [
        "n = int(input())\n",
        "a = n // 10\n",
        "b = n % 10\n",
        "\n",
        "print(a,b)"
      ],
      "metadata": {
        "colab": {
          "base_uri": "https://localhost:8080/"
        },
        "id": "MGIPsgc6bTPE",
        "outputId": "9f0cb43f-e714-4c09-ec0c-a818928c94e1"
      },
      "execution_count": null,
      "outputs": [
        {
          "output_type": "stream",
          "name": "stdout",
          "text": [
            "26\n",
            "2 6\n"
          ]
        }
      ]
    },
    {
      "cell_type": "code",
      "source": [
        "n = int(input())\n",
        "a = list(map(int, input().split()))\n",
        "a.sort()\n",
        "print(a[0], a[n-1])"
      ],
      "metadata": {
        "colab": {
          "base_uri": "https://localhost:8080/"
        },
        "id": "ujF4bkhTbTND",
        "outputId": "888ed7eb-fc78-4daf-ce38-a10a521ee1c9"
      },
      "execution_count": null,
      "outputs": [
        {
          "output_type": "stream",
          "name": "stdout",
          "text": [
            "5\n",
            "3 5 7 35 10\n",
            "3 35\n"
          ]
        }
      ]
    },
    {
      "cell_type": "code",
      "source": [
        "a=[]\n",
        "for i in range(9):\n",
        "    a.append(int(input()))\n",
        "print(max(a))\n",
        "print(a.index(max(a))+1 )"
      ],
      "metadata": {
        "colab": {
          "base_uri": "https://localhost:8080/"
        },
        "id": "__BhbWA8bTLM",
        "outputId": "d9a704b2-1ac5-4bbc-e726-0c0f96c11b0e"
      },
      "execution_count": null,
      "outputs": [
        {
          "output_type": "stream",
          "name": "stdout",
          "text": [
            "3\n",
            "29\n",
            "38\n",
            "12\n",
            "57\n",
            "74\n",
            "40\n",
            "85\n",
            "61\n",
            "85\n",
            "8\n"
          ]
        }
      ]
    },
    {
      "cell_type": "code",
      "source": [
        "A = int(input())\n",
        "B = int(input())\n",
        "C = int(input())\n",
        "\n",
        "n = list(str(A*B*C))\n",
        "\n",
        "for i in range(10):\n",
        "    print(n.count(str(i)))"
      ],
      "metadata": {
        "colab": {
          "base_uri": "https://localhost:8080/"
        },
        "id": "a6AoKf0abTI6",
        "outputId": "b9cdd5a9-2c2e-4734-d72e-ee3615f4787b"
      },
      "execution_count": null,
      "outputs": [
        {
          "output_type": "stream",
          "name": "stdout",
          "text": [
            "150\n",
            "266\n",
            "427\n",
            "3\n",
            "1\n",
            "0\n",
            "2\n",
            "0\n",
            "0\n",
            "0\n",
            "2\n",
            "0\n",
            "0\n"
          ]
        }
      ]
    },
    {
      "cell_type": "code",
      "source": [
        "a=[]\n",
        "n=[]\n",
        "for i in range(10):\n",
        "    a.append(int(input()))\n",
        "\n",
        "for i in range(10):\n",
        "    if a[i] % 42 in n:\n",
        "        pass\n",
        "    else:\n",
        "        n.append(a[i] % 42)  \n",
        "print(len(n))\n"
      ],
      "metadata": {
        "colab": {
          "base_uri": "https://localhost:8080/"
        },
        "id": "1pPeQ4dDGO_8",
        "outputId": "4f589604-c5ce-4161-a10a-6cdc14f04b32"
      },
      "execution_count": null,
      "outputs": [
        {
          "output_type": "stream",
          "name": "stdout",
          "text": [
            "39\n",
            "40\n",
            "41\n",
            "42\n",
            "43\n",
            "44\n",
            "82\n",
            "83\n",
            "84\n",
            "85\n",
            "6\n"
          ]
        }
      ]
    },
    {
      "cell_type": "code",
      "source": [
        "n = int(input())\n",
        "a = list(map(int, input().split()))\n",
        "\n",
        "print(sum(a)/max(a)/n*100)\n",
        "    \n"
      ],
      "metadata": {
        "colab": {
          "base_uri": "https://localhost:8080/"
        },
        "id": "fCodip9aGO9_",
        "outputId": "503a00d3-8f62-4aa6-c2d0-21f2704728db"
      },
      "execution_count": null,
      "outputs": [
        {
          "output_type": "stream",
          "name": "stdout",
          "text": [
            "9\n",
            "10 20 30 40 50 60 70 80 90\n",
            "55.55555555555556\n"
          ]
        }
      ]
    },
    {
      "cell_type": "code",
      "source": [
        "n = int(input())\n",
        "\n",
        "for i in range(n):\n",
        "    sc = 0\n",
        "    sumsc = 0\n",
        "    a = list(str(input()))\n",
        "\n",
        "    for j in a:\n",
        "        if j == 'O':\n",
        "            sc = sc + 1            \n",
        "        else:\n",
        "            sc = 0\n",
        "\n",
        "        sumsc = sumsc + sc\n",
        "    print(sumsc)"
      ],
      "metadata": {
        "colab": {
          "base_uri": "https://localhost:8080/"
        },
        "id": "44owJAvxGO8A",
        "outputId": "394a872c-2138-4552-be83-ce271fdc0559"
      },
      "execution_count": null,
      "outputs": [
        {
          "output_type": "stream",
          "name": "stdout",
          "text": [
            "5\n",
            "OOXXOXXOOO\n",
            "10\n",
            "OOXXOOXXOO\n",
            "9\n",
            "OXOXOXOXOXOXOX\n",
            "7\n",
            "OOOOOOOOOO\n",
            "55\n",
            "OOOOXOOOOXOOOOX\n",
            "30\n"
          ]
        }
      ]
    },
    {
      "cell_type": "code",
      "source": [
        "c = int(input())\n",
        "\n",
        "for i in range(c):\n",
        "    s = 0\n",
        "    a = list(map(int, input().split()))\n",
        "    avg = sum(a[1:]) / a[0]\n",
        "\n",
        "    for i in range(a[0]):\n",
        "\n",
        "\n",
        "        if a[i+1] > avg:\n",
        "            s += 1\n",
        "\n",
        "        else:\n",
        "            pass\n",
        "\n",
        "    print(f'{\"%0.3f\" % (s / a[0] * 100)}%')\n",
        "\n"
      ],
      "metadata": {
        "colab": {
          "base_uri": "https://localhost:8080/"
        },
        "id": "sICFmgkAGO53",
        "outputId": "d7589381-7c03-4874-cb2b-bbfd526838c7"
      },
      "execution_count": null,
      "outputs": [
        {
          "output_type": "stream",
          "name": "stdout",
          "text": [
            "5\n",
            "5 50 50 70 80 100\n",
            "40.000%\n",
            "7 100 95 90 80 70 60 50\n",
            "57.143%\n",
            "3 70 90 80\n",
            "33.333%\n",
            "3 70 90 81\n",
            "66.667%\n",
            "9 100 99 98 97 96 95 94 93 91\n",
            "55.556%\n"
          ]
        }
      ]
    },
    {
      "cell_type": "code",
      "source": [
        "c"
      ],
      "metadata": {
        "colab": {
          "base_uri": "https://localhost:8080/"
        },
        "id": "1-YJUAR8GO32",
        "outputId": "9910ee2c-09eb-4376-a9c0-ae8289dd6589"
      },
      "execution_count": null,
      "outputs": [
        {
          "output_type": "execute_result",
          "data": {
            "text/plain": [
              "5"
            ]
          },
          "metadata": {},
          "execution_count": 44
        }
      ]
    },
    {
      "cell_type": "code",
      "source": [
        "sum(a[1:]) / a[0]"
      ],
      "metadata": {
        "colab": {
          "base_uri": "https://localhost:8080/"
        },
        "id": "qECWnzyBGO1g",
        "outputId": "f7fac655-30dc-4dcd-a3c4-e6f99e902830"
      },
      "execution_count": null,
      "outputs": [
        {
          "output_type": "execute_result",
          "data": {
            "text/plain": [
              "70.0"
            ]
          },
          "metadata": {},
          "execution_count": 39
        }
      ]
    },
    {
      "cell_type": "code",
      "source": [
        "data = [1,3,5,7,9]\n",
        "\n",
        "r=0\n",
        "for i in data:\n",
        "    print(i)\n",
        "    if i % 2 == 1 :\n",
        "        r +=i\n",
        "print(r)"
      ],
      "metadata": {
        "colab": {
          "base_uri": "https://localhost:8080/"
        },
        "id": "RZYQcgm5DPnW",
        "outputId": "2f28de96-038a-44e1-f7c3-ee4c42cf6f40"
      },
      "execution_count": null,
      "outputs": [
        {
          "output_type": "stream",
          "name": "stdout",
          "text": [
            "1\n",
            "3\n",
            "5\n",
            "7\n",
            "9\n",
            "25\n"
          ]
        }
      ]
    },
    {
      "cell_type": "code",
      "source": [
        "def nsum(a):\n",
        "\n",
        "    return sum(a)\n",
        "\n",
        "a = [1, 2, 3, 4, 5, 6, 7, 8, 9, 10]\n",
        "\n",
        "nsum(a)\n"
      ],
      "metadata": {
        "colab": {
          "base_uri": "https://localhost:8080/"
        },
        "id": "CLxWqnUQD3ME",
        "outputId": "a5314185-f8e1-4e38-924f-ab672c64e142"
      },
      "execution_count": null,
      "outputs": [
        {
          "output_type": "execute_result",
          "data": {
            "text/plain": [
              "55"
            ]
          },
          "metadata": {},
          "execution_count": 2
        }
      ]
    },
    {
      "cell_type": "code",
      "source": [
        "def d():\n",
        "    a = []\n",
        "    n = 0\n",
        "\n",
        "    for i in range(10000):\n",
        "        i+=1\n",
        "        a.append(i)\n",
        "\n",
        "    for i in range(10000):\n",
        "        i+=1\n",
        "        if i < 100:\n",
        "            n = i + int(i / 10) + i % 10\n",
        "            if n in a:\n",
        "                a.remove(n) \n",
        "        elif i < 1000:\n",
        "            n = i + int(i / 100) + i % 10 + (int(int(i/10)%10))\n",
        "            if n in a:\n",
        "                a.remove(n)\n",
        "        elif i < 10000:\n",
        "            n = i + int(i / 1000) + i % 10 + (int(int(i/10)%10)) +  int(int((i/10))/10)%10\n",
        "            if n in a:\n",
        "                a.remove(n)\n",
        "        elif i == 10000:\n",
        "            n = i + i/10000\n",
        "            if n in a:\n",
        "                a.remove(n)\n",
        "    for i in a:\n",
        "        print(i)\n",
        "d()"
      ],
      "metadata": {
        "id": "SkUGBjkkIC-Q"
      },
      "execution_count": null,
      "outputs": []
    },
    {
      "cell_type": "code",
      "source": [
        "def "
      ],
      "metadata": {
        "id": "L19jy4ePf9pV",
        "colab": {
          "base_uri": "https://localhost:8080/"
        },
        "outputId": "faf551b4-74fd-4a41-a80f-4e081c6fdd1d"
      },
      "execution_count": null,
      "outputs": [
        {
          "output_type": "execute_result",
          "data": {
            "text/plain": [
              "[1, 2, 3]"
            ]
          },
          "metadata": {},
          "execution_count": 4
        }
      ]
    }
  ]
}