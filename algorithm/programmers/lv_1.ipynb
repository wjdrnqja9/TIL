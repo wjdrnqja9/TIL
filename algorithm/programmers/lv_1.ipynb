{
  "nbformat": 4,
  "nbformat_minor": 0,
  "metadata": {
    "colab": {
      "name": "lv_1.ipynb",
      "provenance": [],
      "authorship_tag": "ABX9TyMtlBdNB1azb3StyUIbp0Lj",
      "include_colab_link": true
    },
    "kernelspec": {
      "name": "python3",
      "display_name": "Python 3"
    },
    "language_info": {
      "name": "python"
    }
  },
  "cells": [
    {
      "cell_type": "markdown",
      "metadata": {
        "id": "view-in-github",
        "colab_type": "text"
      },
      "source": [
        "<a href=\"https://colab.research.google.com/github/wjdrnqja9/TIL/blob/main/algorithm/programmers/lv_1.ipynb\" target=\"_parent\"><img src=\"https://colab.research.google.com/assets/colab-badge.svg\" alt=\"Open In Colab\"/></a>"
      ]
    },
    {
      "cell_type": "markdown",
      "source": [
        "정수 n을 입력받아 n의 약수를 모두 더한 값을 리턴하는 함수, solution을 완성해주세요."
      ],
      "metadata": {
        "id": "oRvr1_OrsTtb"
      }
    },
    {
      "cell_type": "code",
      "execution_count": null,
      "metadata": {
        "id": "kcDAIPLNry1T"
      },
      "outputs": [],
      "source": [
        "def solution(n):\n",
        "    answer = 0\n",
        "    for i in range(1, n+1):\n",
        "        if n % i == 0:\n",
        "            answer+=i\n",
        "    return answer"
      ]
    },
    {
      "cell_type": "markdown",
      "source": [
        "1부터 입력받은 숫자 n 사이에 있는 소수의 개수를 반환하는 함수, solution을 만들어 보세요.\n",
        "\n",
        "소수는 1과 자기 자신으로만 나누어지는 수를 의미합니다.\n",
        "(1은 소수가 아닙니다.)"
      ],
      "metadata": {
        "id": "Ic9rQn2osWC1"
      }
    },
    {
      "cell_type": "code",
      "source": [
        "def solution(n):\n",
        "    num = set(range(2,n+1))\n",
        "    \n",
        "    for i in range(2, n+1):\n",
        "        if i in num:\n",
        "            num -= set(range(2*i, n+1, i))\n",
        "        \n",
        "    return len(num)"
      ],
      "metadata": {
        "id": "jUL5WOegsZFK"
      },
      "execution_count": null,
      "outputs": []
    },
    {
      "cell_type": "code",
      "source": [
        "num = set(range(2,11))\n",
        "num"
      ],
      "metadata": {
        "colab": {
          "base_uri": "https://localhost:8080/"
        },
        "id": "2cCLd6Wp5y4N",
        "outputId": "bcf51a34-7d99-47e6-8e52-3cc79696e661"
      },
      "execution_count": 2,
      "outputs": [
        {
          "output_type": "execute_result",
          "data": {
            "text/plain": [
              "{2, 3, 4, 5, 6, 7, 8, 9, 10}"
            ]
          },
          "metadata": {},
          "execution_count": 2
        }
      ]
    },
    {
      "cell_type": "code",
      "source": [
        "set(range(10, 100, 5))"
      ],
      "metadata": {
        "colab": {
          "base_uri": "https://localhost:8080/"
        },
        "id": "4U56O_My51hP",
        "outputId": "045f3022-1a14-4a03-ea22-05653f3cbd8f"
      },
      "execution_count": 4,
      "outputs": [
        {
          "output_type": "execute_result",
          "data": {
            "text/plain": [
              "{10, 15, 20, 25, 30, 35, 40, 45, 50, 55, 60, 65, 70, 75, 80, 85, 90, 95}"
            ]
          },
          "metadata": {},
          "execution_count": 4
        }
      ]
    },
    {
      "cell_type": "code",
      "source": [
        "board = [[0,0,0,0,0],[0,0,1,0,3],[0,2,5,0,1],[4,2,4,4,2],[3,5,1,3,1]]\n",
        "board"
      ],
      "metadata": {
        "colab": {
          "base_uri": "https://localhost:8080/"
        },
        "id": "GboUI87M6B6s",
        "outputId": "c6fa780d-5aa2-4a48-c79a-6e39474f25f6"
      },
      "execution_count": 38,
      "outputs": [
        {
          "output_type": "execute_result",
          "data": {
            "text/plain": [
              "[[0, 0, 0, 0, 0],\n",
              " [0, 0, 1, 0, 3],\n",
              " [0, 2, 5, 0, 1],\n",
              " [4, 2, 4, 4, 2],\n",
              " [3, 5, 1, 3, 1]]"
            ]
          },
          "metadata": {},
          "execution_count": 38
        }
      ]
    },
    {
      "cell_type": "code",
      "source": [
        "move = [1,5,3,5,1,2,1,4]"
      ],
      "metadata": {
        "id": "ODYbaYSG6c9V"
      },
      "execution_count": 39,
      "outputs": []
    },
    {
      "cell_type": "code",
      "source": [
        "board = [[0,0,0,0,0],[0,0,1,0,3],[0,2,5,0,1],[4,2,4,4,2],[3,5,1,3,1]]\n",
        "move = [1,5,3,5,1,2,1,4]\n",
        "bucket = []\n",
        "answer = 0\n",
        "for i in move:\n",
        "    for j in range(len(board)):\n",
        "        if board[j][i-1] != 0:\n",
        "            bucket.append(board[j][i-1])\n",
        "            board[j][i-1] = 0\n",
        "            break\n",
        "\n",
        "while 1:\n",
        "    a = 0\n",
        "    for i in range(len(bucket)-1):\n",
        "        if bucket[i] == bucket[i+1]:\n",
        "            bucket[i] = 0\n",
        "            bucket[i+1] = 0\n",
        "\n",
        "    if 0 in bucket:\n",
        "        bucket.remove(0)\n",
        "        bucket.remove(0)\n",
        "        answer+=2\n",
        "\n",
        "    for i in range(len(bucket)-1):\n",
        "        if bucket[i] == bucket[i+1]:\n",
        "            a+=1\n",
        "    if a == 0:\n",
        "      break\n",
        "answer"
      ],
      "metadata": {
        "colab": {
          "base_uri": "https://localhost:8080/"
        },
        "id": "bqc7wmZQyzXQ",
        "outputId": "1d2376ef-8dec-453a-8dd9-a85f208c06b0"
      },
      "execution_count": 57,
      "outputs": [
        {
          "output_type": "execute_result",
          "data": {
            "text/plain": [
              "4"
            ]
          },
          "metadata": {},
          "execution_count": 57
        }
      ]
    },
    {
      "cell_type": "code",
      "source": [
        "def solution(board, moves):\n",
        "    bucket = []\n",
        "    answer = 0\n",
        "    for i in moves:\n",
        "        for j in range(len(board)):\n",
        "            if board[j][i-1] != 0:\n",
        "                bucket.append(board[j][i-1])\n",
        "                board[j][i-1] = 0\n",
        "                break\n",
        "\n",
        "    while 1:\n",
        "        a = 0\n",
        "        for i in range(len(bucket)-1):\n",
        "            if bucket[i] == bucket[i+1]:\n",
        "                bucket[i] = 0\n",
        "                bucket[i+1] = 0\n",
        "\n",
        "        if 0 in bucket:\n",
        "            bucket.remove(0)\n",
        "            bucket.remove(0)\n",
        "            answer+=2\n",
        "\n",
        "        for i in range(len(bucket)-1):\n",
        "            if bucket[i] == bucket[i+1]:\n",
        "                a+=1\n",
        "        if a == 0:\n",
        "            break\n",
        "\n",
        "        return answer\n",
        "solution([[0,0,0,0,0],[0,0,1,0,3],[0,2,5,0,1],[4,2,4,4,2],[3,5,1,3,1]], [1,5,3,5,1,2,1,4])"
      ],
      "metadata": {
        "id": "cihnBjZUy460"
      },
      "execution_count": 58,
      "outputs": []
    }
  ]
}