{
  "cells": [
    {
      "cell_type": "markdown",
      "metadata": {
        "id": "view-in-github",
        "colab_type": "text"
      },
      "source": [
        "<a href=\"https://colab.research.google.com/github/wjdrnqja9/TIL/blob/main/deep_learning/04_08_tensor_useful_methods.ipynb\" target=\"_parent\"><img src=\"https://colab.research.google.com/assets/colab-badge.svg\" alt=\"Open In Colab\"/></a>"
      ]
    },
    {
      "cell_type": "markdown",
      "metadata": {
        "id": "N2w0KiUNsCMX"
      },
      "source": [
        "# PyTorch Useful Methods"
      ]
    },
    {
      "cell_type": "code",
      "execution_count": 1,
      "metadata": {
        "id": "OgNiIzrSsCMd"
      },
      "outputs": [],
      "source": [
        "import torch"
      ]
    },
    {
      "cell_type": "markdown",
      "metadata": {
        "id": "BG1h3gG6sCMg"
      },
      "source": [
        "### expand: copy the given tensor and concat those at desired dimension."
      ]
    },
    {
      "cell_type": "code",
      "execution_count": 2,
      "metadata": {
        "colab": {
          "base_uri": "https://localhost:8080/"
        },
        "id": "4ESMayURsCMg",
        "outputId": "a180a1c5-9df3-4ed3-f3aa-f0ad0ee84af3"
      },
      "outputs": [
        {
          "output_type": "stream",
          "name": "stdout",
          "text": [
            "torch.Size([2, 1, 2])\n"
          ]
        }
      ],
      "source": [
        "x = torch.FloatTensor([[[1, 2]],\n",
        "                       [[3, 4]]])\n",
        "print(x.size())"
      ]
    },
    {
      "cell_type": "code",
      "execution_count": 3,
      "metadata": {
        "colab": {
          "base_uri": "https://localhost:8080/"
        },
        "id": "PwA_Qp9bsCMi",
        "outputId": "4dcc0532-f1be-428a-98a8-9faa89392041"
      },
      "outputs": [
        {
          "output_type": "stream",
          "name": "stdout",
          "text": [
            "tensor([[[1., 2.],\n",
            "         [1., 2.],\n",
            "         [1., 2.]],\n",
            "\n",
            "        [[3., 4.],\n",
            "         [3., 4.],\n",
            "         [3., 4.]]])\n",
            "torch.Size([2, 3, 2])\n"
          ]
        }
      ],
      "source": [
        "y = x.expand(*[2, 3, 2])\n",
        "\n",
        "print(y)\n",
        "print(y.size())"
      ]
    },
    {
      "cell_type": "markdown",
      "metadata": {
        "id": "phwo298tsCMj"
      },
      "source": [
        "#### Implement expand with cat."
      ]
    },
    {
      "cell_type": "code",
      "execution_count": 4,
      "metadata": {
        "colab": {
          "base_uri": "https://localhost:8080/"
        },
        "id": "D67u5iL9sCMk",
        "outputId": "0ff3053a-e90b-4c49-c33b-2b5d0f2ef9eb"
      },
      "outputs": [
        {
          "output_type": "stream",
          "name": "stdout",
          "text": [
            "tensor([[[1., 2.],\n",
            "         [1., 2.],\n",
            "         [1., 2.]],\n",
            "\n",
            "        [[3., 4.],\n",
            "         [3., 4.],\n",
            "         [3., 4.]]])\n",
            "torch.Size([2, 3, 2])\n"
          ]
        }
      ],
      "source": [
        "y = torch.cat([x, x, x], dim=1)\n",
        "\n",
        "print(y)\n",
        "print(y.size())"
      ]
    },
    {
      "cell_type": "markdown",
      "metadata": {
        "id": "ukk6i7lksCMl"
      },
      "source": [
        "### randperm: Random Permutation"
      ]
    },
    {
      "cell_type": "code",
      "execution_count": 5,
      "metadata": {
        "colab": {
          "base_uri": "https://localhost:8080/"
        },
        "id": "rkOMp2NGsCMm",
        "outputId": "4fe501b8-3ef2-401c-b0d5-648fb19f75bf"
      },
      "outputs": [
        {
          "output_type": "stream",
          "name": "stdout",
          "text": [
            "tensor([8, 2, 7, 1, 0, 4, 3, 5, 6, 9])\n",
            "torch.Size([10])\n"
          ]
        }
      ],
      "source": [
        "x = torch.randperm(10)\n",
        "\n",
        "print(x)\n",
        "print(x.size())"
      ]
    },
    {
      "cell_type": "markdown",
      "metadata": {
        "id": "6_oxIHRZsCMn"
      },
      "source": [
        "### argmax: Return index of maximum values"
      ]
    },
    {
      "cell_type": "code",
      "execution_count": 6,
      "metadata": {
        "scrolled": true,
        "colab": {
          "base_uri": "https://localhost:8080/"
        },
        "id": "U0l_WDousCMn",
        "outputId": "f38c2b4d-e9d7-4d7e-fa17-f247b6011ec8"
      },
      "outputs": [
        {
          "output_type": "stream",
          "name": "stdout",
          "text": [
            "tensor([[[ 7, 20,  4],\n",
            "         [ 8, 23, 18],\n",
            "         [17, 19, 21]],\n",
            "\n",
            "        [[13,  0,  2],\n",
            "         [ 1,  9, 26],\n",
            "         [16, 14, 25]],\n",
            "\n",
            "        [[11, 10, 15],\n",
            "         [ 3,  5, 12],\n",
            "         [22,  6, 24]]])\n",
            "torch.Size([3, 3, 3])\n"
          ]
        }
      ],
      "source": [
        "x = torch.randperm(3**3).reshape(3, 3, -1)\n",
        "\n",
        "print(x)\n",
        "print(x.size())"
      ]
    },
    {
      "cell_type": "code",
      "execution_count": 7,
      "metadata": {
        "colab": {
          "base_uri": "https://localhost:8080/"
        },
        "id": "2UEcdlf2sCMo",
        "outputId": "d961eb06-b245-4e00-9a12-e01683eb98d1"
      },
      "outputs": [
        {
          "output_type": "stream",
          "name": "stdout",
          "text": [
            "tensor([[1, 1, 2],\n",
            "        [0, 2, 2],\n",
            "        [2, 2, 2]])\n",
            "torch.Size([3, 3])\n"
          ]
        }
      ],
      "source": [
        "y = x.argmax(dim=-1)\n",
        "\n",
        "print(y)\n",
        "print(y.size())"
      ]
    },
    {
      "cell_type": "markdown",
      "metadata": {
        "id": "ooODPCvxsCMp"
      },
      "source": [
        "### topk: Return tuple of top-k values and indices."
      ]
    },
    {
      "cell_type": "code",
      "execution_count": 8,
      "metadata": {
        "scrolled": false,
        "colab": {
          "base_uri": "https://localhost:8080/"
        },
        "id": "SxRGsY5XsCMp",
        "outputId": "2f5dda7e-39fe-40c9-b5e6-af85f9f80e2d"
      },
      "outputs": [
        {
          "output_type": "stream",
          "name": "stdout",
          "text": [
            "torch.Size([3, 3, 1])\n",
            "torch.Size([3, 3, 1])\n"
          ]
        }
      ],
      "source": [
        "values, indices = torch.topk(x, k=1, dim=-1)\n",
        "\n",
        "print(values.size())\n",
        "print(indices.size())"
      ]
    },
    {
      "cell_type": "markdown",
      "metadata": {
        "id": "x-YYMd39sCMq"
      },
      "source": [
        "Note that topk didn't reduce the dimension, even in $k=1$ case."
      ]
    },
    {
      "cell_type": "code",
      "execution_count": 9,
      "metadata": {
        "colab": {
          "base_uri": "https://localhost:8080/"
        },
        "id": "MMFOiDEEsCMr",
        "outputId": "01ad4b22-b389-42af-bb60-f9002920bae9"
      },
      "outputs": [
        {
          "output_type": "stream",
          "name": "stdout",
          "text": [
            "tensor([[20, 23, 21],\n",
            "        [13, 26, 25],\n",
            "        [15, 12, 24]])\n",
            "tensor([[1, 1, 2],\n",
            "        [0, 2, 2],\n",
            "        [2, 2, 2]])\n"
          ]
        }
      ],
      "source": [
        "print(values.squeeze(-1))\n",
        "print(indices.squeeze(-1))"
      ]
    },
    {
      "cell_type": "code",
      "execution_count": 10,
      "metadata": {
        "colab": {
          "base_uri": "https://localhost:8080/"
        },
        "id": "94lfzakRsCMr",
        "outputId": "6cced66c-fb38-40d3-ba8e-5d5045337af5"
      },
      "outputs": [
        {
          "output_type": "stream",
          "name": "stdout",
          "text": [
            "tensor([[True, True, True],\n",
            "        [True, True, True],\n",
            "        [True, True, True]])\n"
          ]
        }
      ],
      "source": [
        "print(x.argmax(dim=-1) == indices.squeeze(-1))"
      ]
    },
    {
      "cell_type": "code",
      "execution_count": 11,
      "metadata": {
        "colab": {
          "base_uri": "https://localhost:8080/"
        },
        "id": "svJWAvPssCMs",
        "outputId": "e700384d-9caa-4f51-ddcf-7fb9d0cbc902"
      },
      "outputs": [
        {
          "output_type": "stream",
          "name": "stdout",
          "text": [
            "torch.Size([3, 3, 2])\n",
            "tensor([[True, True, True],\n",
            "        [True, True, True],\n",
            "        [True, True, True]])\n"
          ]
        }
      ],
      "source": [
        "_, indices = torch.topk(x, k=2, dim=-1)\n",
        "print(indices.size())\n",
        "\n",
        "print(x.argmax(dim=-1) == indices[:, :, 0])"
      ]
    },
    {
      "cell_type": "markdown",
      "metadata": {
        "id": "QI_AAfVlsCMt"
      },
      "source": [
        "### Sort by using topk"
      ]
    },
    {
      "cell_type": "code",
      "execution_count": 12,
      "metadata": {
        "colab": {
          "base_uri": "https://localhost:8080/"
        },
        "id": "a1r0CQ8usCMt",
        "outputId": "4afdcf5d-e9c7-4cbd-cae6-cfca6fb61779"
      },
      "outputs": [
        {
          "output_type": "stream",
          "name": "stdout",
          "text": [
            "tensor([[[20,  7,  4],\n",
            "         [23, 18,  8],\n",
            "         [21, 19, 17]],\n",
            "\n",
            "        [[13,  2,  0],\n",
            "         [26,  9,  1],\n",
            "         [25, 16, 14]],\n",
            "\n",
            "        [[15, 11, 10],\n",
            "         [12,  5,  3],\n",
            "         [24, 22,  6]]])\n"
          ]
        }
      ],
      "source": [
        "target_dim = -1\n",
        "values, indices = torch.topk(x,\n",
        "                             k=x.size(target_dim),\n",
        "                             largest=True)\n",
        "\n",
        "print(values)"
      ]
    },
    {
      "cell_type": "markdown",
      "metadata": {
        "id": "RwnotDavsCMu"
      },
      "source": [
        "### Topk by using sort"
      ]
    },
    {
      "cell_type": "code",
      "execution_count": 13,
      "metadata": {
        "colab": {
          "base_uri": "https://localhost:8080/"
        },
        "id": "hMeoq0AnsCMu",
        "outputId": "50f31ff6-dcba-4fac-bf2f-8db71caad296"
      },
      "outputs": [
        {
          "output_type": "stream",
          "name": "stdout",
          "text": [
            "tensor([[20, 23, 21],\n",
            "        [13, 26, 25],\n",
            "        [15, 12, 24]])\n",
            "tensor([[1, 1, 2],\n",
            "        [0, 2, 2],\n",
            "        [2, 2, 2]])\n"
          ]
        }
      ],
      "source": [
        "k=1\n",
        "values, indices = torch.sort(x, dim=-1, descending=True)\n",
        "values, indices = values[:, :, :k], indices[:, :, :k]\n",
        "\n",
        "print(values.squeeze(-1))\n",
        "print(indices.squeeze(-1))"
      ]
    },
    {
      "cell_type": "markdown",
      "metadata": {
        "id": "vRhHTEUcsCMv"
      },
      "source": [
        "### masked_fill: fill the value if element of mask is True."
      ]
    },
    {
      "cell_type": "code",
      "execution_count": 14,
      "metadata": {
        "colab": {
          "base_uri": "https://localhost:8080/"
        },
        "id": "H_2VgiNCsCMv",
        "outputId": "47060427-4544-4d49-e6e3-055eb4dae941"
      },
      "outputs": [
        {
          "output_type": "stream",
          "name": "stdout",
          "text": [
            "tensor([[0., 1., 2.],\n",
            "        [3., 4., 5.],\n",
            "        [6., 7., 8.]])\n",
            "torch.Size([3, 3])\n"
          ]
        }
      ],
      "source": [
        "x = torch.FloatTensor([i for i in range(3**2)]).reshape(3, -1)\n",
        "\n",
        "print(x)\n",
        "print(x.size())"
      ]
    },
    {
      "cell_type": "code",
      "execution_count": 15,
      "metadata": {
        "colab": {
          "base_uri": "https://localhost:8080/"
        },
        "id": "cT6_I9tNsCMw",
        "outputId": "f220ce3b-fcb7-4eec-8031-3bbea411581e"
      },
      "outputs": [
        {
          "output_type": "stream",
          "name": "stdout",
          "text": [
            "tensor([[False, False, False],\n",
            "        [False, False,  True],\n",
            "        [ True,  True,  True]])\n"
          ]
        }
      ],
      "source": [
        "mask = x > 4\n",
        "\n",
        "print(mask)"
      ]
    },
    {
      "cell_type": "code",
      "execution_count": 16,
      "metadata": {
        "colab": {
          "base_uri": "https://localhost:8080/"
        },
        "id": "WapPLzljsCMw",
        "outputId": "252ee657-69ed-40b1-a7c5-1e437b0fff4f"
      },
      "outputs": [
        {
          "output_type": "stream",
          "name": "stdout",
          "text": [
            "tensor([[ 0.,  1.,  2.],\n",
            "        [ 3.,  4., -1.],\n",
            "        [-1., -1., -1.]])\n"
          ]
        }
      ],
      "source": [
        "y = x.masked_fill(mask, value=-1)\n",
        "\n",
        "print(y)"
      ]
    },
    {
      "cell_type": "markdown",
      "metadata": {
        "id": "ZybaF4c7sCMw"
      },
      "source": [
        "### Ones and Zeros"
      ]
    },
    {
      "cell_type": "code",
      "execution_count": 17,
      "metadata": {
        "colab": {
          "base_uri": "https://localhost:8080/"
        },
        "id": "dJ3ZEO0RsCMx",
        "outputId": "f42411bf-c46b-4687-bbee-50a95081699c"
      },
      "outputs": [
        {
          "output_type": "stream",
          "name": "stdout",
          "text": [
            "tensor([[1., 1., 1.],\n",
            "        [1., 1., 1.]])\n",
            "tensor([[0., 0., 0.],\n",
            "        [0., 0., 0.]])\n"
          ]
        }
      ],
      "source": [
        "print(torch.ones(2, 3))\n",
        "print(torch.zeros(2, 3))"
      ]
    },
    {
      "cell_type": "code",
      "execution_count": 18,
      "metadata": {
        "colab": {
          "base_uri": "https://localhost:8080/"
        },
        "id": "jiANHxsmsCMx",
        "outputId": "199da1a5-34bc-4821-ac7a-6b5623c5b295"
      },
      "outputs": [
        {
          "output_type": "stream",
          "name": "stdout",
          "text": [
            "torch.Size([2, 3])\n"
          ]
        }
      ],
      "source": [
        "x = torch.FloatTensor([[1, 2, 3],\n",
        "                       [4, 5, 6]])\n",
        "print(x.size())"
      ]
    },
    {
      "cell_type": "code",
      "execution_count": 19,
      "metadata": {
        "colab": {
          "base_uri": "https://localhost:8080/"
        },
        "id": "T_u0gx8WsCMx",
        "outputId": "c3a76b66-378f-4fb0-bc4b-17c8c82c7468"
      },
      "outputs": [
        {
          "output_type": "stream",
          "name": "stdout",
          "text": [
            "tensor([[1., 1., 1.],\n",
            "        [1., 1., 1.]])\n",
            "tensor([[0., 0., 0.],\n",
            "        [0., 0., 0.]])\n"
          ]
        }
      ],
      "source": [
        "print(torch.ones_like(x))\n",
        "print(torch.zeros_like(x))"
      ]
    }
  ],
  "metadata": {
    "kernelspec": {
      "display_name": "Python 3",
      "language": "python",
      "name": "python3"
    },
    "language_info": {
      "codemirror_mode": {
        "name": "ipython",
        "version": 3
      },
      "file_extension": ".py",
      "mimetype": "text/x-python",
      "name": "python",
      "nbconvert_exporter": "python",
      "pygments_lexer": "ipython3",
      "version": "3.7.6"
    },
    "colab": {
      "name": "04-08-tensor_useful_methods.ipynb",
      "provenance": [],
      "include_colab_link": true
    }
  },
  "nbformat": 4,
  "nbformat_minor": 0
}