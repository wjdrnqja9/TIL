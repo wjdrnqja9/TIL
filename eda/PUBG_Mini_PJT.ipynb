{
  "cells": [
    {
      "cell_type": "markdown",
      "metadata": {
        "id": "view-in-github",
        "colab_type": "text"
      },
      "source": [
        "<a href=\"https://colab.research.google.com/github/wjdrnqja9/TIL/blob/main/eda/PUBG_Mini_PJT.ipynb\" target=\"_parent\"><img src=\"https://colab.research.google.com/assets/colab-badge.svg\" alt=\"Open In Colab\"/></a>"
      ]
    },
    {
      "cell_type": "markdown",
      "source": [
        "#Mini Project"
      ],
      "metadata": {
        "id": "ZmaNrbVBxsVR"
      },
      "id": "ZmaNrbVBxsVR"
    },
    {
      "cell_type": "markdown",
      "source": [
        "##프로젝트 설명"
      ],
      "metadata": {
        "id": "m6qAunjZxy15"
      },
      "id": "m6qAunjZxy15"
    },
    {
      "cell_type": "markdown",
      "source": [
        "- 머신러닝 워크플로우를 완벽하게 이해하고 사용하기 위한 프로젝트입니다.\n",
        "- Kaggle의 PUBG 순위 예측 대회 데이터를 사용합니다."
      ],
      "metadata": {
        "id": "ZlE4H_TRx1Q8"
      },
      "id": "ZlE4H_TRx1Q8"
    },
    {
      "cell_type": "markdown",
      "source": [
        "##데이터 설명"
      ],
      "metadata": {
        "id": "LOGf7-aSx8zd"
      },
      "id": "LOGf7-aSx8zd"
    },
    {
      "cell_type": "markdown",
      "source": [
        "- PUBG 게임에서는 각 매치(matchId)에 최대 100명의 플레이어가 시작합니다.\n",
        "- 플레이어는 탈락한 다른 팀이 얼마나 생존해 있는지를 기준으로 게임 종료 시 순위(winPlacePerc)가 매겨지는 팀(groupId)에 속할 수 있습니다.\n",
        "- 게임에서 플레이어는 다양한 무기를 집어들고, 죽지 않은(knocked) 동료들을 되살리고, 차량을 운전하고, 수영하고, 뛰고, 쏘고, 모든 결과를 경험할 수 있습니다.\n",
        "- 예를 들어 너무 멀리 떨어지거나, 멀리서 달려오다가(자기장 밖에서) 스스로 죽는 것입니다.\n",
        "- 각 행에 한 플레이어의 post-game 통계를 포함하도록 포맷된 익명화된 PUBG 게임 통계를 다수 제공합니다.\n",
        "- 데이터는 모든 타입(솔로, 듀오, 스쿼드, 커스텀 등)의 매치에서 가져옵니다.\n",
        "- 경기당 100명 또는 그룹당 최대 4명의 플레이어가 있다는 보장은 없습니다.\n",
        "- 1(1위)부터 0(100위)까지의 scaling 된, 최종 통계를 기준으로 선수의 결승 배치를 예측하는 모델을 만들어야 합니다."
      ],
      "metadata": {
        "id": "RtJM1QTcx-xd"
      },
      "id": "RtJM1QTcx-xd"
    },
    {
      "cell_type": "code",
      "source": [
        "from google.colab import drive\n",
        "drive.mount('/content/drive')"
      ],
      "metadata": {
        "colab": {
          "base_uri": "https://localhost:8080/"
        },
        "id": "WjzebyzrjXmU",
        "outputId": "a564db70-1a97-4fcf-dd1e-4a8084a5dfd0"
      },
      "id": "WjzebyzrjXmU",
      "execution_count": 24,
      "outputs": [
        {
          "output_type": "stream",
          "name": "stdout",
          "text": [
            "Drive already mounted at /content/drive; to attempt to forcibly remount, call drive.mount(\"/content/drive\", force_remount=True).\n"
          ]
        }
      ]
    },
    {
      "cell_type": "code",
      "execution_count": 25,
      "id": "591915dd",
      "metadata": {
        "id": "591915dd"
      },
      "outputs": [],
      "source": [
        "import pandas as pd\n",
        "import numpy as np\n",
        "import matplotlib.pyplot as plt\n",
        "import seaborn as sns\n",
        "import warnings\n",
        "warnings.filterwarnings(\"ignore\")"
      ]
    },
    {
      "cell_type": "code",
      "execution_count": 26,
      "id": "f51d6094",
      "metadata": {
        "id": "f51d6094"
      },
      "outputs": [],
      "source": [
        "# titanic data 불러오기\n",
        "base_path = \"/content/drive/MyDrive/Colab Notebooks/머신러닝/Extra Mini Projects/pubg-finish-placement-prediction/\"\n",
        "\n",
        "train = pd.read_csv(base_path + \"train_V2.csv\")\n",
        "test = pd.read_csv(base_path + \"test_V2.csv\")\n",
        "submission = pd.read_csv(base_path + \"sample_submission_V2.csv\")"
      ]
    },
    {
      "cell_type": "markdown",
      "source": [
        "### column 별 설명\n",
        "\n",
        "- `Id - 플레이어 아이디`\n",
        "\n",
        "- `groupId - 일치 내에서 그룹을 식별하기 위한 ID입니다. 같은 그룹의 플레이어가 다른 경기에서 플레이하는 경우 매번 다른 groupId를 갖습니다.`\n",
        "\n",
        "- `matchId - 일치를 식별하는 ID입니다. 훈련 세트와 테스트 세트 모두에 일치하는 항목이 없습니다.`\n",
        "\n",
        "- DBNO - 기절한 적 플레이어의 수입니다.\n",
        "\n",
        "- Assists - 이 플레이어가 피해를 입었고 팀원들에 의해 사망한 적 플레이어의 수입니다.\n",
        "\n",
        "- boosts - 사용된 부스트 항목의 수입니다.\n",
        "\n",
        "- DamageDealt - 가한 총 피해량입니다. 참고: 자신이 입힌 피해는 차감됩니다.\n",
        "\n",
        "- headshotKills - 헤드샷으로 사망한 적 플레이어의 수입니다.\n",
        "\n",
        "- heals - 사용된 치유 아이템의 수입니다.\n",
        "\n",
        "- killPlace - 게임 내 킬 순위\n",
        "\n",
        "- killPoints - 플레이어의 킬 기반 외부 순위입니다. (이것을 킬만 중요한 Elo 순위라고 생각하십시오.) rankPoints에 -1 이외의 값이 있는 경우 killPoints의 0은 \"없음\"으로 처리되어야 합니다.\n",
        "\n",
        "- killStreaks - 짧은 시간에 죽인 적 플레이어의 최대 수입니다.\n",
        "\n",
        "- kills - 죽인 적 플레이어의 수.\n",
        "\n",
        "- longKill - 사망 시 사망한 플레이어와 플레이어 사이의 최장 거리입니다. \n",
        "플레이어를 쓰러뜨리고 차를 몰면 가장 긴 킬 통계가 나올 수 있으므로 이는 오해의 소지가 있습니다.\n",
        "\n",
        "- matchDuration - 일치 시간(초)입니다.\n",
        "\n",
        "- matchType - 데이터의 출처인 게임 모드를 식별하는 문자열입니다. 표준 모드는 \"solo\", \"duo\", \"squad\", \"solo-fpp\", \"duo-fpp\" 및 \"squad-fpp\"입니다. 다른 모드는 이벤트 또는 사용자 지정 일치에서 가져온 것입니다.\n",
        "\n",
        "- rankPoints - 플레이어의 Elo와 같은 순위입니다. 이 순위는 일관성이 없으며 API의 다음 버전에서 더 이상 사용되지 않으므로 주의해서 사용하십시오. -1 값은 \"없음\"을 대신합니다.\n",
        "\n",
        "- revives - 이 플레이어가 팀원을 소생시킨 횟수입니다.\n",
        "\n",
        "- rideDistance - 미터로 측정한 차량의 총 이동 거리입니다.\n",
        "\n",
        "- roadKills - 차량에 있는 동안 킬 수입니다.\n",
        "\n",
        "- swimDistance - 미터로 측정한 수영으로 이동한 총 거리.\n",
        "\n",
        "- teamKills - 이 플레이어가 팀원을 죽인 횟수입니다.\n",
        "\n",
        "- vehicleDestroys - 파괴된 차량의 수입니다.\n",
        "\n",
        "- walkDistance - 미터로 측정한 도보로 이동한 총 거리.\n",
        "\n",
        "- WeaponAcquired - 획득한 무기의 수입니다.\n",
        "\n",
        "- winPoints - 승리 기반 플레이어의 외부 순위입니다. (이것을 승리만이 중요한 Elo \n",
        "순위라고 생각하십시오.) rankPoints에 -1 이외의 값이 있는 경우 winPoints의 0은 \"없음\"으로 처리되어야 합니다.\n",
        "\n",
        "\n",
        "- numGroups - 경기에서 데이터가 있는 그룹의 수입니다.\n",
        "\n",
        "- maxPlace - 경기에서 가장 낮은 순위. 데이터가 게재위치를 건너뛰는 경우가 있으므로 numGroups와 일치하지 않을 수 있습니다. (탈주)\n",
        "\n",
        "- winPlacePerc - 예측 대상입니다. 이것은 백분위수 승리 배치로, 1은 1위, 0은 경기의 마지막 장소에 해당합니다. numGroups가 아닌 maxPlace에서 계산되므로 일치 항목에서 청크가 누락될 수 있습니다."
      ],
      "metadata": {
        "id": "V6eNEgqKe2rA"
      },
      "id": "V6eNEgqKe2rA"
    },
    {
      "cell_type": "markdown",
      "id": "f3a595ee",
      "metadata": {
        "id": "f3a595ee"
      },
      "source": [
        "## 데이터 타입과 결측값 확인하기"
      ]
    },
    {
      "cell_type": "code",
      "source": [
        "train.tail(10)"
      ],
      "metadata": {
        "colab": {
          "base_uri": "https://localhost:8080/",
          "height": 456
        },
        "id": "DEvQG4ayhYKO",
        "outputId": "06150a84-2c77-4e30-c3af-43b60d60f7a8"
      },
      "id": "DEvQG4ayhYKO",
      "execution_count": 27,
      "outputs": [
        {
          "output_type": "execute_result",
          "data": {
            "text/plain": [
              "                     Id         groupId         matchId  assists  boosts  \\\n",
              "4446956  dae05e0d743059  3902915a7a1943  97b64a07c05761        1       0   \n",
              "4446957  2a4163ccbe0e3b  2689c981578849  eebc058a45ff13        0       1   \n",
              "4446958  837349af7e8a35  58bc4104935623  2001300d4f5787        0       0   \n",
              "4446959  d29bfa313ad766  ac3f1b4a56e5ad  2f3b1af94739b3        0       0   \n",
              "4446960  69fa4c2d5431b1  2a3ad0e37fb6ce  818ccf2160343f        0       0   \n",
              "4446961  afff7f652dbc10  d238e426f50de7  18492834ce5635        0       0   \n",
              "4446962  f4197cf374e6c0  408cdb5c46b2ac  ee854b837376d9        0       1   \n",
              "4446963  e1948b1295c88a  e26ac84bdf7cef  6d0cd12784f1ab        0       0   \n",
              "4446964  cc032cdd73b7ac  c2223f35411394  c9c701d0ad758a        0       4   \n",
              "4446965  0d8e7ed728b6fd  8c74f72fedf5ff  62a16aabcc095c        0       2   \n",
              "\n",
              "         damageDealt  DBNOs  headshotKills  heals  killPlace  ...  revives  \\\n",
              "4446956       151.90      0              0      1         77  ...        1   \n",
              "4446957       100.00      0              0      0         32  ...        1   \n",
              "4446958         0.00      0              0      0         92  ...        0   \n",
              "4446959        22.68      0              0      0         89  ...        0   \n",
              "4446960       327.70      3              2      0          4  ...        0   \n",
              "4446961         0.00      0              0      0         74  ...        0   \n",
              "4446962        44.15      0              0      0         69  ...        0   \n",
              "4446963        59.06      0              0      0         66  ...        0   \n",
              "4446964       180.40      1              1      2         11  ...        2   \n",
              "4446965       268.00      0              0      1         18  ...        0   \n",
              "\n",
              "         rideDistance  roadKills  swimDistance  teamKills vehicleDestroys  \\\n",
              "4446956           0.0          0         0.000          0               0   \n",
              "4446957           0.0          0         0.000          0               0   \n",
              "4446958           0.0          0         0.000          0               0   \n",
              "4446959           0.0          0         0.000          0               0   \n",
              "4446960         180.4          0         0.000          0               0   \n",
              "4446961        1292.0          0         0.000          0               0   \n",
              "4446962           0.0          0         0.000          0               0   \n",
              "4446963           0.0          0         2.184          0               0   \n",
              "4446964           0.0          0         0.000          0               0   \n",
              "4446965        1369.0          0         0.000          0               0   \n",
              "\n",
              "         walkDistance  weaponsAcquired  winPoints  winPlacePerc  \n",
              "4446956        828.30                7          0        0.1071  \n",
              "4446957        363.70                2          0        0.4583  \n",
              "4446958          0.00                0          0        0.0000  \n",
              "4446959         40.25                1          0        0.0842  \n",
              "4446960        845.60                3          0        0.2414  \n",
              "4446961       1019.00                3       1507        0.1786  \n",
              "4446962         81.70                6          0        0.2935  \n",
              "4446963        788.70                4          0        0.4815  \n",
              "4446964       2748.00                8          0        0.8000  \n",
              "4446965       1244.00                5          0        0.5464  \n",
              "\n",
              "[10 rows x 29 columns]"
            ],
            "text/html": [
              "\n",
              "  <div id=\"df-6311b500-3d04-4950-9933-4ee8170a2efc\">\n",
              "    <div class=\"colab-df-container\">\n",
              "      <div>\n",
              "<style scoped>\n",
              "    .dataframe tbody tr th:only-of-type {\n",
              "        vertical-align: middle;\n",
              "    }\n",
              "\n",
              "    .dataframe tbody tr th {\n",
              "        vertical-align: top;\n",
              "    }\n",
              "\n",
              "    .dataframe thead th {\n",
              "        text-align: right;\n",
              "    }\n",
              "</style>\n",
              "<table border=\"1\" class=\"dataframe\">\n",
              "  <thead>\n",
              "    <tr style=\"text-align: right;\">\n",
              "      <th></th>\n",
              "      <th>Id</th>\n",
              "      <th>groupId</th>\n",
              "      <th>matchId</th>\n",
              "      <th>assists</th>\n",
              "      <th>boosts</th>\n",
              "      <th>damageDealt</th>\n",
              "      <th>DBNOs</th>\n",
              "      <th>headshotKills</th>\n",
              "      <th>heals</th>\n",
              "      <th>killPlace</th>\n",
              "      <th>...</th>\n",
              "      <th>revives</th>\n",
              "      <th>rideDistance</th>\n",
              "      <th>roadKills</th>\n",
              "      <th>swimDistance</th>\n",
              "      <th>teamKills</th>\n",
              "      <th>vehicleDestroys</th>\n",
              "      <th>walkDistance</th>\n",
              "      <th>weaponsAcquired</th>\n",
              "      <th>winPoints</th>\n",
              "      <th>winPlacePerc</th>\n",
              "    </tr>\n",
              "  </thead>\n",
              "  <tbody>\n",
              "    <tr>\n",
              "      <th>4446956</th>\n",
              "      <td>dae05e0d743059</td>\n",
              "      <td>3902915a7a1943</td>\n",
              "      <td>97b64a07c05761</td>\n",
              "      <td>1</td>\n",
              "      <td>0</td>\n",
              "      <td>151.90</td>\n",
              "      <td>0</td>\n",
              "      <td>0</td>\n",
              "      <td>1</td>\n",
              "      <td>77</td>\n",
              "      <td>...</td>\n",
              "      <td>1</td>\n",
              "      <td>0.0</td>\n",
              "      <td>0</td>\n",
              "      <td>0.000</td>\n",
              "      <td>0</td>\n",
              "      <td>0</td>\n",
              "      <td>828.30</td>\n",
              "      <td>7</td>\n",
              "      <td>0</td>\n",
              "      <td>0.1071</td>\n",
              "    </tr>\n",
              "    <tr>\n",
              "      <th>4446957</th>\n",
              "      <td>2a4163ccbe0e3b</td>\n",
              "      <td>2689c981578849</td>\n",
              "      <td>eebc058a45ff13</td>\n",
              "      <td>0</td>\n",
              "      <td>1</td>\n",
              "      <td>100.00</td>\n",
              "      <td>0</td>\n",
              "      <td>0</td>\n",
              "      <td>0</td>\n",
              "      <td>32</td>\n",
              "      <td>...</td>\n",
              "      <td>1</td>\n",
              "      <td>0.0</td>\n",
              "      <td>0</td>\n",
              "      <td>0.000</td>\n",
              "      <td>0</td>\n",
              "      <td>0</td>\n",
              "      <td>363.70</td>\n",
              "      <td>2</td>\n",
              "      <td>0</td>\n",
              "      <td>0.4583</td>\n",
              "    </tr>\n",
              "    <tr>\n",
              "      <th>4446958</th>\n",
              "      <td>837349af7e8a35</td>\n",
              "      <td>58bc4104935623</td>\n",
              "      <td>2001300d4f5787</td>\n",
              "      <td>0</td>\n",
              "      <td>0</td>\n",
              "      <td>0.00</td>\n",
              "      <td>0</td>\n",
              "      <td>0</td>\n",
              "      <td>0</td>\n",
              "      <td>92</td>\n",
              "      <td>...</td>\n",
              "      <td>0</td>\n",
              "      <td>0.0</td>\n",
              "      <td>0</td>\n",
              "      <td>0.000</td>\n",
              "      <td>0</td>\n",
              "      <td>0</td>\n",
              "      <td>0.00</td>\n",
              "      <td>0</td>\n",
              "      <td>0</td>\n",
              "      <td>0.0000</td>\n",
              "    </tr>\n",
              "    <tr>\n",
              "      <th>4446959</th>\n",
              "      <td>d29bfa313ad766</td>\n",
              "      <td>ac3f1b4a56e5ad</td>\n",
              "      <td>2f3b1af94739b3</td>\n",
              "      <td>0</td>\n",
              "      <td>0</td>\n",
              "      <td>22.68</td>\n",
              "      <td>0</td>\n",
              "      <td>0</td>\n",
              "      <td>0</td>\n",
              "      <td>89</td>\n",
              "      <td>...</td>\n",
              "      <td>0</td>\n",
              "      <td>0.0</td>\n",
              "      <td>0</td>\n",
              "      <td>0.000</td>\n",
              "      <td>0</td>\n",
              "      <td>0</td>\n",
              "      <td>40.25</td>\n",
              "      <td>1</td>\n",
              "      <td>0</td>\n",
              "      <td>0.0842</td>\n",
              "    </tr>\n",
              "    <tr>\n",
              "      <th>4446960</th>\n",
              "      <td>69fa4c2d5431b1</td>\n",
              "      <td>2a3ad0e37fb6ce</td>\n",
              "      <td>818ccf2160343f</td>\n",
              "      <td>0</td>\n",
              "      <td>0</td>\n",
              "      <td>327.70</td>\n",
              "      <td>3</td>\n",
              "      <td>2</td>\n",
              "      <td>0</td>\n",
              "      <td>4</td>\n",
              "      <td>...</td>\n",
              "      <td>0</td>\n",
              "      <td>180.4</td>\n",
              "      <td>0</td>\n",
              "      <td>0.000</td>\n",
              "      <td>0</td>\n",
              "      <td>0</td>\n",
              "      <td>845.60</td>\n",
              "      <td>3</td>\n",
              "      <td>0</td>\n",
              "      <td>0.2414</td>\n",
              "    </tr>\n",
              "    <tr>\n",
              "      <th>4446961</th>\n",
              "      <td>afff7f652dbc10</td>\n",
              "      <td>d238e426f50de7</td>\n",
              "      <td>18492834ce5635</td>\n",
              "      <td>0</td>\n",
              "      <td>0</td>\n",
              "      <td>0.00</td>\n",
              "      <td>0</td>\n",
              "      <td>0</td>\n",
              "      <td>0</td>\n",
              "      <td>74</td>\n",
              "      <td>...</td>\n",
              "      <td>0</td>\n",
              "      <td>1292.0</td>\n",
              "      <td>0</td>\n",
              "      <td>0.000</td>\n",
              "      <td>0</td>\n",
              "      <td>0</td>\n",
              "      <td>1019.00</td>\n",
              "      <td>3</td>\n",
              "      <td>1507</td>\n",
              "      <td>0.1786</td>\n",
              "    </tr>\n",
              "    <tr>\n",
              "      <th>4446962</th>\n",
              "      <td>f4197cf374e6c0</td>\n",
              "      <td>408cdb5c46b2ac</td>\n",
              "      <td>ee854b837376d9</td>\n",
              "      <td>0</td>\n",
              "      <td>1</td>\n",
              "      <td>44.15</td>\n",
              "      <td>0</td>\n",
              "      <td>0</td>\n",
              "      <td>0</td>\n",
              "      <td>69</td>\n",
              "      <td>...</td>\n",
              "      <td>0</td>\n",
              "      <td>0.0</td>\n",
              "      <td>0</td>\n",
              "      <td>0.000</td>\n",
              "      <td>0</td>\n",
              "      <td>0</td>\n",
              "      <td>81.70</td>\n",
              "      <td>6</td>\n",
              "      <td>0</td>\n",
              "      <td>0.2935</td>\n",
              "    </tr>\n",
              "    <tr>\n",
              "      <th>4446963</th>\n",
              "      <td>e1948b1295c88a</td>\n",
              "      <td>e26ac84bdf7cef</td>\n",
              "      <td>6d0cd12784f1ab</td>\n",
              "      <td>0</td>\n",
              "      <td>0</td>\n",
              "      <td>59.06</td>\n",
              "      <td>0</td>\n",
              "      <td>0</td>\n",
              "      <td>0</td>\n",
              "      <td>66</td>\n",
              "      <td>...</td>\n",
              "      <td>0</td>\n",
              "      <td>0.0</td>\n",
              "      <td>0</td>\n",
              "      <td>2.184</td>\n",
              "      <td>0</td>\n",
              "      <td>0</td>\n",
              "      <td>788.70</td>\n",
              "      <td>4</td>\n",
              "      <td>0</td>\n",
              "      <td>0.4815</td>\n",
              "    </tr>\n",
              "    <tr>\n",
              "      <th>4446964</th>\n",
              "      <td>cc032cdd73b7ac</td>\n",
              "      <td>c2223f35411394</td>\n",
              "      <td>c9c701d0ad758a</td>\n",
              "      <td>0</td>\n",
              "      <td>4</td>\n",
              "      <td>180.40</td>\n",
              "      <td>1</td>\n",
              "      <td>1</td>\n",
              "      <td>2</td>\n",
              "      <td>11</td>\n",
              "      <td>...</td>\n",
              "      <td>2</td>\n",
              "      <td>0.0</td>\n",
              "      <td>0</td>\n",
              "      <td>0.000</td>\n",
              "      <td>0</td>\n",
              "      <td>0</td>\n",
              "      <td>2748.00</td>\n",
              "      <td>8</td>\n",
              "      <td>0</td>\n",
              "      <td>0.8000</td>\n",
              "    </tr>\n",
              "    <tr>\n",
              "      <th>4446965</th>\n",
              "      <td>0d8e7ed728b6fd</td>\n",
              "      <td>8c74f72fedf5ff</td>\n",
              "      <td>62a16aabcc095c</td>\n",
              "      <td>0</td>\n",
              "      <td>2</td>\n",
              "      <td>268.00</td>\n",
              "      <td>0</td>\n",
              "      <td>0</td>\n",
              "      <td>1</td>\n",
              "      <td>18</td>\n",
              "      <td>...</td>\n",
              "      <td>0</td>\n",
              "      <td>1369.0</td>\n",
              "      <td>0</td>\n",
              "      <td>0.000</td>\n",
              "      <td>0</td>\n",
              "      <td>0</td>\n",
              "      <td>1244.00</td>\n",
              "      <td>5</td>\n",
              "      <td>0</td>\n",
              "      <td>0.5464</td>\n",
              "    </tr>\n",
              "  </tbody>\n",
              "</table>\n",
              "<p>10 rows × 29 columns</p>\n",
              "</div>\n",
              "      <button class=\"colab-df-convert\" onclick=\"convertToInteractive('df-6311b500-3d04-4950-9933-4ee8170a2efc')\"\n",
              "              title=\"Convert this dataframe to an interactive table.\"\n",
              "              style=\"display:none;\">\n",
              "        \n",
              "  <svg xmlns=\"http://www.w3.org/2000/svg\" height=\"24px\"viewBox=\"0 0 24 24\"\n",
              "       width=\"24px\">\n",
              "    <path d=\"M0 0h24v24H0V0z\" fill=\"none\"/>\n",
              "    <path d=\"M18.56 5.44l.94 2.06.94-2.06 2.06-.94-2.06-.94-.94-2.06-.94 2.06-2.06.94zm-11 1L8.5 8.5l.94-2.06 2.06-.94-2.06-.94L8.5 2.5l-.94 2.06-2.06.94zm10 10l.94 2.06.94-2.06 2.06-.94-2.06-.94-.94-2.06-.94 2.06-2.06.94z\"/><path d=\"M17.41 7.96l-1.37-1.37c-.4-.4-.92-.59-1.43-.59-.52 0-1.04.2-1.43.59L10.3 9.45l-7.72 7.72c-.78.78-.78 2.05 0 2.83L4 21.41c.39.39.9.59 1.41.59.51 0 1.02-.2 1.41-.59l7.78-7.78 2.81-2.81c.8-.78.8-2.07 0-2.86zM5.41 20L4 18.59l7.72-7.72 1.47 1.35L5.41 20z\"/>\n",
              "  </svg>\n",
              "      </button>\n",
              "      \n",
              "  <style>\n",
              "    .colab-df-container {\n",
              "      display:flex;\n",
              "      flex-wrap:wrap;\n",
              "      gap: 12px;\n",
              "    }\n",
              "\n",
              "    .colab-df-convert {\n",
              "      background-color: #E8F0FE;\n",
              "      border: none;\n",
              "      border-radius: 50%;\n",
              "      cursor: pointer;\n",
              "      display: none;\n",
              "      fill: #1967D2;\n",
              "      height: 32px;\n",
              "      padding: 0 0 0 0;\n",
              "      width: 32px;\n",
              "    }\n",
              "\n",
              "    .colab-df-convert:hover {\n",
              "      background-color: #E2EBFA;\n",
              "      box-shadow: 0px 1px 2px rgba(60, 64, 67, 0.3), 0px 1px 3px 1px rgba(60, 64, 67, 0.15);\n",
              "      fill: #174EA6;\n",
              "    }\n",
              "\n",
              "    [theme=dark] .colab-df-convert {\n",
              "      background-color: #3B4455;\n",
              "      fill: #D2E3FC;\n",
              "    }\n",
              "\n",
              "    [theme=dark] .colab-df-convert:hover {\n",
              "      background-color: #434B5C;\n",
              "      box-shadow: 0px 1px 3px 1px rgba(0, 0, 0, 0.15);\n",
              "      filter: drop-shadow(0px 1px 2px rgba(0, 0, 0, 0.3));\n",
              "      fill: #FFFFFF;\n",
              "    }\n",
              "  </style>\n",
              "\n",
              "      <script>\n",
              "        const buttonEl =\n",
              "          document.querySelector('#df-6311b500-3d04-4950-9933-4ee8170a2efc button.colab-df-convert');\n",
              "        buttonEl.style.display =\n",
              "          google.colab.kernel.accessAllowed ? 'block' : 'none';\n",
              "\n",
              "        async function convertToInteractive(key) {\n",
              "          const element = document.querySelector('#df-6311b500-3d04-4950-9933-4ee8170a2efc');\n",
              "          const dataTable =\n",
              "            await google.colab.kernel.invokeFunction('convertToInteractive',\n",
              "                                                     [key], {});\n",
              "          if (!dataTable) return;\n",
              "\n",
              "          const docLinkHtml = 'Like what you see? Visit the ' +\n",
              "            '<a target=\"_blank\" href=https://colab.research.google.com/notebooks/data_table.ipynb>data table notebook</a>'\n",
              "            + ' to learn more about interactive tables.';\n",
              "          element.innerHTML = '';\n",
              "          dataTable['output_type'] = 'display_data';\n",
              "          await google.colab.output.renderOutput(dataTable, element);\n",
              "          const docLink = document.createElement('div');\n",
              "          docLink.innerHTML = docLinkHtml;\n",
              "          element.appendChild(docLink);\n",
              "        }\n",
              "      </script>\n",
              "    </div>\n",
              "  </div>\n",
              "  "
            ]
          },
          "metadata": {},
          "execution_count": 27
        }
      ]
    },
    {
      "cell_type": "code",
      "source": [
        "train.describe()"
      ],
      "metadata": {
        "colab": {
          "base_uri": "https://localhost:8080/",
          "height": 394
        },
        "id": "o4dLXQ53mK08",
        "outputId": "703eb30b-4da0-4a8b-d397-b271912039db"
      },
      "id": "o4dLXQ53mK08",
      "execution_count": 28,
      "outputs": [
        {
          "output_type": "execute_result",
          "data": {
            "text/plain": [
              "            assists        boosts   damageDealt         DBNOs  headshotKills  \\\n",
              "count  4.446966e+06  4.446966e+06  4.446966e+06  4.446966e+06   4.446966e+06   \n",
              "mean   2.338149e-01  1.106908e+00  1.307171e+02  6.578755e-01   2.268196e-01   \n",
              "std    5.885731e-01  1.715794e+00  1.707806e+02  1.145743e+00   6.021553e-01   \n",
              "min    0.000000e+00  0.000000e+00  0.000000e+00  0.000000e+00   0.000000e+00   \n",
              "25%    0.000000e+00  0.000000e+00  0.000000e+00  0.000000e+00   0.000000e+00   \n",
              "50%    0.000000e+00  0.000000e+00  8.424000e+01  0.000000e+00   0.000000e+00   \n",
              "75%    0.000000e+00  2.000000e+00  1.860000e+02  1.000000e+00   0.000000e+00   \n",
              "max    2.200000e+01  3.300000e+01  6.616000e+03  5.300000e+01   6.400000e+01   \n",
              "\n",
              "              heals     killPlace    killPoints         kills   killStreaks  \\\n",
              "count  4.446966e+06  4.446966e+06  4.446966e+06  4.446966e+06  4.446966e+06   \n",
              "mean   1.370147e+00  4.759935e+01  5.050060e+02  9.247833e-01  5.439551e-01   \n",
              "std    2.679982e+00  2.746294e+01  6.275049e+02  1.558445e+00  7.109721e-01   \n",
              "min    0.000000e+00  1.000000e+00  0.000000e+00  0.000000e+00  0.000000e+00   \n",
              "25%    0.000000e+00  2.400000e+01  0.000000e+00  0.000000e+00  0.000000e+00   \n",
              "50%    0.000000e+00  4.700000e+01  0.000000e+00  0.000000e+00  0.000000e+00   \n",
              "75%    2.000000e+00  7.100000e+01  1.172000e+03  1.000000e+00  1.000000e+00   \n",
              "max    8.000000e+01  1.010000e+02  2.170000e+03  7.200000e+01  2.000000e+01   \n",
              "\n",
              "       ...       revives  rideDistance     roadKills  swimDistance  \\\n",
              "count  ...  4.446966e+06  4.446966e+06  4.446966e+06  4.446966e+06   \n",
              "mean   ...  1.646590e-01  6.061157e+02  3.496091e-03  4.509322e+00   \n",
              "std    ...  4.721671e-01  1.498344e+03  7.337297e-02  3.050220e+01   \n",
              "min    ...  0.000000e+00  0.000000e+00  0.000000e+00  0.000000e+00   \n",
              "25%    ...  0.000000e+00  0.000000e+00  0.000000e+00  0.000000e+00   \n",
              "50%    ...  0.000000e+00  0.000000e+00  0.000000e+00  0.000000e+00   \n",
              "75%    ...  0.000000e+00  1.909750e-01  0.000000e+00  0.000000e+00   \n",
              "max    ...  3.900000e+01  4.071000e+04  1.800000e+01  3.823000e+03   \n",
              "\n",
              "          teamKills  vehicleDestroys  walkDistance  weaponsAcquired  \\\n",
              "count  4.446966e+06     4.446966e+06  4.446966e+06     4.446966e+06   \n",
              "mean   2.386841e-02     7.918208e-03  1.154218e+03     3.660488e+00   \n",
              "std    1.673935e-01     9.261157e-02  1.183497e+03     2.456544e+00   \n",
              "min    0.000000e+00     0.000000e+00  0.000000e+00     0.000000e+00   \n",
              "25%    0.000000e+00     0.000000e+00  1.551000e+02     2.000000e+00   \n",
              "50%    0.000000e+00     0.000000e+00  6.856000e+02     3.000000e+00   \n",
              "75%    0.000000e+00     0.000000e+00  1.976000e+03     5.000000e+00   \n",
              "max    1.200000e+01     5.000000e+00  2.578000e+04     2.360000e+02   \n",
              "\n",
              "          winPoints  winPlacePerc  \n",
              "count  4.446966e+06  4.446965e+06  \n",
              "mean   6.064601e+02  4.728216e-01  \n",
              "std    7.397004e+02  3.074050e-01  \n",
              "min    0.000000e+00  0.000000e+00  \n",
              "25%    0.000000e+00  2.000000e-01  \n",
              "50%    0.000000e+00  4.583000e-01  \n",
              "75%    1.495000e+03  7.407000e-01  \n",
              "max    2.013000e+03  1.000000e+00  \n",
              "\n",
              "[8 rows x 25 columns]"
            ],
            "text/html": [
              "\n",
              "  <div id=\"df-06c45fc3-af51-4b13-b28c-714acf4db7be\">\n",
              "    <div class=\"colab-df-container\">\n",
              "      <div>\n",
              "<style scoped>\n",
              "    .dataframe tbody tr th:only-of-type {\n",
              "        vertical-align: middle;\n",
              "    }\n",
              "\n",
              "    .dataframe tbody tr th {\n",
              "        vertical-align: top;\n",
              "    }\n",
              "\n",
              "    .dataframe thead th {\n",
              "        text-align: right;\n",
              "    }\n",
              "</style>\n",
              "<table border=\"1\" class=\"dataframe\">\n",
              "  <thead>\n",
              "    <tr style=\"text-align: right;\">\n",
              "      <th></th>\n",
              "      <th>assists</th>\n",
              "      <th>boosts</th>\n",
              "      <th>damageDealt</th>\n",
              "      <th>DBNOs</th>\n",
              "      <th>headshotKills</th>\n",
              "      <th>heals</th>\n",
              "      <th>killPlace</th>\n",
              "      <th>killPoints</th>\n",
              "      <th>kills</th>\n",
              "      <th>killStreaks</th>\n",
              "      <th>...</th>\n",
              "      <th>revives</th>\n",
              "      <th>rideDistance</th>\n",
              "      <th>roadKills</th>\n",
              "      <th>swimDistance</th>\n",
              "      <th>teamKills</th>\n",
              "      <th>vehicleDestroys</th>\n",
              "      <th>walkDistance</th>\n",
              "      <th>weaponsAcquired</th>\n",
              "      <th>winPoints</th>\n",
              "      <th>winPlacePerc</th>\n",
              "    </tr>\n",
              "  </thead>\n",
              "  <tbody>\n",
              "    <tr>\n",
              "      <th>count</th>\n",
              "      <td>4.446966e+06</td>\n",
              "      <td>4.446966e+06</td>\n",
              "      <td>4.446966e+06</td>\n",
              "      <td>4.446966e+06</td>\n",
              "      <td>4.446966e+06</td>\n",
              "      <td>4.446966e+06</td>\n",
              "      <td>4.446966e+06</td>\n",
              "      <td>4.446966e+06</td>\n",
              "      <td>4.446966e+06</td>\n",
              "      <td>4.446966e+06</td>\n",
              "      <td>...</td>\n",
              "      <td>4.446966e+06</td>\n",
              "      <td>4.446966e+06</td>\n",
              "      <td>4.446966e+06</td>\n",
              "      <td>4.446966e+06</td>\n",
              "      <td>4.446966e+06</td>\n",
              "      <td>4.446966e+06</td>\n",
              "      <td>4.446966e+06</td>\n",
              "      <td>4.446966e+06</td>\n",
              "      <td>4.446966e+06</td>\n",
              "      <td>4.446965e+06</td>\n",
              "    </tr>\n",
              "    <tr>\n",
              "      <th>mean</th>\n",
              "      <td>2.338149e-01</td>\n",
              "      <td>1.106908e+00</td>\n",
              "      <td>1.307171e+02</td>\n",
              "      <td>6.578755e-01</td>\n",
              "      <td>2.268196e-01</td>\n",
              "      <td>1.370147e+00</td>\n",
              "      <td>4.759935e+01</td>\n",
              "      <td>5.050060e+02</td>\n",
              "      <td>9.247833e-01</td>\n",
              "      <td>5.439551e-01</td>\n",
              "      <td>...</td>\n",
              "      <td>1.646590e-01</td>\n",
              "      <td>6.061157e+02</td>\n",
              "      <td>3.496091e-03</td>\n",
              "      <td>4.509322e+00</td>\n",
              "      <td>2.386841e-02</td>\n",
              "      <td>7.918208e-03</td>\n",
              "      <td>1.154218e+03</td>\n",
              "      <td>3.660488e+00</td>\n",
              "      <td>6.064601e+02</td>\n",
              "      <td>4.728216e-01</td>\n",
              "    </tr>\n",
              "    <tr>\n",
              "      <th>std</th>\n",
              "      <td>5.885731e-01</td>\n",
              "      <td>1.715794e+00</td>\n",
              "      <td>1.707806e+02</td>\n",
              "      <td>1.145743e+00</td>\n",
              "      <td>6.021553e-01</td>\n",
              "      <td>2.679982e+00</td>\n",
              "      <td>2.746294e+01</td>\n",
              "      <td>6.275049e+02</td>\n",
              "      <td>1.558445e+00</td>\n",
              "      <td>7.109721e-01</td>\n",
              "      <td>...</td>\n",
              "      <td>4.721671e-01</td>\n",
              "      <td>1.498344e+03</td>\n",
              "      <td>7.337297e-02</td>\n",
              "      <td>3.050220e+01</td>\n",
              "      <td>1.673935e-01</td>\n",
              "      <td>9.261157e-02</td>\n",
              "      <td>1.183497e+03</td>\n",
              "      <td>2.456544e+00</td>\n",
              "      <td>7.397004e+02</td>\n",
              "      <td>3.074050e-01</td>\n",
              "    </tr>\n",
              "    <tr>\n",
              "      <th>min</th>\n",
              "      <td>0.000000e+00</td>\n",
              "      <td>0.000000e+00</td>\n",
              "      <td>0.000000e+00</td>\n",
              "      <td>0.000000e+00</td>\n",
              "      <td>0.000000e+00</td>\n",
              "      <td>0.000000e+00</td>\n",
              "      <td>1.000000e+00</td>\n",
              "      <td>0.000000e+00</td>\n",
              "      <td>0.000000e+00</td>\n",
              "      <td>0.000000e+00</td>\n",
              "      <td>...</td>\n",
              "      <td>0.000000e+00</td>\n",
              "      <td>0.000000e+00</td>\n",
              "      <td>0.000000e+00</td>\n",
              "      <td>0.000000e+00</td>\n",
              "      <td>0.000000e+00</td>\n",
              "      <td>0.000000e+00</td>\n",
              "      <td>0.000000e+00</td>\n",
              "      <td>0.000000e+00</td>\n",
              "      <td>0.000000e+00</td>\n",
              "      <td>0.000000e+00</td>\n",
              "    </tr>\n",
              "    <tr>\n",
              "      <th>25%</th>\n",
              "      <td>0.000000e+00</td>\n",
              "      <td>0.000000e+00</td>\n",
              "      <td>0.000000e+00</td>\n",
              "      <td>0.000000e+00</td>\n",
              "      <td>0.000000e+00</td>\n",
              "      <td>0.000000e+00</td>\n",
              "      <td>2.400000e+01</td>\n",
              "      <td>0.000000e+00</td>\n",
              "      <td>0.000000e+00</td>\n",
              "      <td>0.000000e+00</td>\n",
              "      <td>...</td>\n",
              "      <td>0.000000e+00</td>\n",
              "      <td>0.000000e+00</td>\n",
              "      <td>0.000000e+00</td>\n",
              "      <td>0.000000e+00</td>\n",
              "      <td>0.000000e+00</td>\n",
              "      <td>0.000000e+00</td>\n",
              "      <td>1.551000e+02</td>\n",
              "      <td>2.000000e+00</td>\n",
              "      <td>0.000000e+00</td>\n",
              "      <td>2.000000e-01</td>\n",
              "    </tr>\n",
              "    <tr>\n",
              "      <th>50%</th>\n",
              "      <td>0.000000e+00</td>\n",
              "      <td>0.000000e+00</td>\n",
              "      <td>8.424000e+01</td>\n",
              "      <td>0.000000e+00</td>\n",
              "      <td>0.000000e+00</td>\n",
              "      <td>0.000000e+00</td>\n",
              "      <td>4.700000e+01</td>\n",
              "      <td>0.000000e+00</td>\n",
              "      <td>0.000000e+00</td>\n",
              "      <td>0.000000e+00</td>\n",
              "      <td>...</td>\n",
              "      <td>0.000000e+00</td>\n",
              "      <td>0.000000e+00</td>\n",
              "      <td>0.000000e+00</td>\n",
              "      <td>0.000000e+00</td>\n",
              "      <td>0.000000e+00</td>\n",
              "      <td>0.000000e+00</td>\n",
              "      <td>6.856000e+02</td>\n",
              "      <td>3.000000e+00</td>\n",
              "      <td>0.000000e+00</td>\n",
              "      <td>4.583000e-01</td>\n",
              "    </tr>\n",
              "    <tr>\n",
              "      <th>75%</th>\n",
              "      <td>0.000000e+00</td>\n",
              "      <td>2.000000e+00</td>\n",
              "      <td>1.860000e+02</td>\n",
              "      <td>1.000000e+00</td>\n",
              "      <td>0.000000e+00</td>\n",
              "      <td>2.000000e+00</td>\n",
              "      <td>7.100000e+01</td>\n",
              "      <td>1.172000e+03</td>\n",
              "      <td>1.000000e+00</td>\n",
              "      <td>1.000000e+00</td>\n",
              "      <td>...</td>\n",
              "      <td>0.000000e+00</td>\n",
              "      <td>1.909750e-01</td>\n",
              "      <td>0.000000e+00</td>\n",
              "      <td>0.000000e+00</td>\n",
              "      <td>0.000000e+00</td>\n",
              "      <td>0.000000e+00</td>\n",
              "      <td>1.976000e+03</td>\n",
              "      <td>5.000000e+00</td>\n",
              "      <td>1.495000e+03</td>\n",
              "      <td>7.407000e-01</td>\n",
              "    </tr>\n",
              "    <tr>\n",
              "      <th>max</th>\n",
              "      <td>2.200000e+01</td>\n",
              "      <td>3.300000e+01</td>\n",
              "      <td>6.616000e+03</td>\n",
              "      <td>5.300000e+01</td>\n",
              "      <td>6.400000e+01</td>\n",
              "      <td>8.000000e+01</td>\n",
              "      <td>1.010000e+02</td>\n",
              "      <td>2.170000e+03</td>\n",
              "      <td>7.200000e+01</td>\n",
              "      <td>2.000000e+01</td>\n",
              "      <td>...</td>\n",
              "      <td>3.900000e+01</td>\n",
              "      <td>4.071000e+04</td>\n",
              "      <td>1.800000e+01</td>\n",
              "      <td>3.823000e+03</td>\n",
              "      <td>1.200000e+01</td>\n",
              "      <td>5.000000e+00</td>\n",
              "      <td>2.578000e+04</td>\n",
              "      <td>2.360000e+02</td>\n",
              "      <td>2.013000e+03</td>\n",
              "      <td>1.000000e+00</td>\n",
              "    </tr>\n",
              "  </tbody>\n",
              "</table>\n",
              "<p>8 rows × 25 columns</p>\n",
              "</div>\n",
              "      <button class=\"colab-df-convert\" onclick=\"convertToInteractive('df-06c45fc3-af51-4b13-b28c-714acf4db7be')\"\n",
              "              title=\"Convert this dataframe to an interactive table.\"\n",
              "              style=\"display:none;\">\n",
              "        \n",
              "  <svg xmlns=\"http://www.w3.org/2000/svg\" height=\"24px\"viewBox=\"0 0 24 24\"\n",
              "       width=\"24px\">\n",
              "    <path d=\"M0 0h24v24H0V0z\" fill=\"none\"/>\n",
              "    <path d=\"M18.56 5.44l.94 2.06.94-2.06 2.06-.94-2.06-.94-.94-2.06-.94 2.06-2.06.94zm-11 1L8.5 8.5l.94-2.06 2.06-.94-2.06-.94L8.5 2.5l-.94 2.06-2.06.94zm10 10l.94 2.06.94-2.06 2.06-.94-2.06-.94-.94-2.06-.94 2.06-2.06.94z\"/><path d=\"M17.41 7.96l-1.37-1.37c-.4-.4-.92-.59-1.43-.59-.52 0-1.04.2-1.43.59L10.3 9.45l-7.72 7.72c-.78.78-.78 2.05 0 2.83L4 21.41c.39.39.9.59 1.41.59.51 0 1.02-.2 1.41-.59l7.78-7.78 2.81-2.81c.8-.78.8-2.07 0-2.86zM5.41 20L4 18.59l7.72-7.72 1.47 1.35L5.41 20z\"/>\n",
              "  </svg>\n",
              "      </button>\n",
              "      \n",
              "  <style>\n",
              "    .colab-df-container {\n",
              "      display:flex;\n",
              "      flex-wrap:wrap;\n",
              "      gap: 12px;\n",
              "    }\n",
              "\n",
              "    .colab-df-convert {\n",
              "      background-color: #E8F0FE;\n",
              "      border: none;\n",
              "      border-radius: 50%;\n",
              "      cursor: pointer;\n",
              "      display: none;\n",
              "      fill: #1967D2;\n",
              "      height: 32px;\n",
              "      padding: 0 0 0 0;\n",
              "      width: 32px;\n",
              "    }\n",
              "\n",
              "    .colab-df-convert:hover {\n",
              "      background-color: #E2EBFA;\n",
              "      box-shadow: 0px 1px 2px rgba(60, 64, 67, 0.3), 0px 1px 3px 1px rgba(60, 64, 67, 0.15);\n",
              "      fill: #174EA6;\n",
              "    }\n",
              "\n",
              "    [theme=dark] .colab-df-convert {\n",
              "      background-color: #3B4455;\n",
              "      fill: #D2E3FC;\n",
              "    }\n",
              "\n",
              "    [theme=dark] .colab-df-convert:hover {\n",
              "      background-color: #434B5C;\n",
              "      box-shadow: 0px 1px 3px 1px rgba(0, 0, 0, 0.15);\n",
              "      filter: drop-shadow(0px 1px 2px rgba(0, 0, 0, 0.3));\n",
              "      fill: #FFFFFF;\n",
              "    }\n",
              "  </style>\n",
              "\n",
              "      <script>\n",
              "        const buttonEl =\n",
              "          document.querySelector('#df-06c45fc3-af51-4b13-b28c-714acf4db7be button.colab-df-convert');\n",
              "        buttonEl.style.display =\n",
              "          google.colab.kernel.accessAllowed ? 'block' : 'none';\n",
              "\n",
              "        async function convertToInteractive(key) {\n",
              "          const element = document.querySelector('#df-06c45fc3-af51-4b13-b28c-714acf4db7be');\n",
              "          const dataTable =\n",
              "            await google.colab.kernel.invokeFunction('convertToInteractive',\n",
              "                                                     [key], {});\n",
              "          if (!dataTable) return;\n",
              "\n",
              "          const docLinkHtml = 'Like what you see? Visit the ' +\n",
              "            '<a target=\"_blank\" href=https://colab.research.google.com/notebooks/data_table.ipynb>data table notebook</a>'\n",
              "            + ' to learn more about interactive tables.';\n",
              "          element.innerHTML = '';\n",
              "          dataTable['output_type'] = 'display_data';\n",
              "          await google.colab.output.renderOutput(dataTable, element);\n",
              "          const docLink = document.createElement('div');\n",
              "          docLink.innerHTML = docLinkHtml;\n",
              "          element.appendChild(docLink);\n",
              "        }\n",
              "      </script>\n",
              "    </div>\n",
              "  </div>\n",
              "  "
            ]
          },
          "metadata": {},
          "execution_count": 28
        }
      ]
    },
    {
      "cell_type": "code",
      "source": [
        "train.corr()"
      ],
      "metadata": {
        "id": "3n4hOgg_gQGo"
      },
      "id": "3n4hOgg_gQGo",
      "execution_count": null,
      "outputs": []
    },
    {
      "cell_type": "code",
      "source": [
        "f,ax = plt.subplots(figsize=(15, 15))\n",
        "sns.heatmap(train.corr(), annot=True, linewidths=.5, fmt= '.1f',ax=ax)\n",
        "plt.show()"
      ],
      "metadata": {
        "colab": {
          "base_uri": "https://localhost:8080/",
          "height": 946
        },
        "id": "_3lXULPvj7_U",
        "outputId": "398c777a-c623-4031-b0e9-66220bf06ef7"
      },
      "id": "_3lXULPvj7_U",
      "execution_count": 36,
      "outputs": [
        {
          "output_type": "display_data",
          "data": {
            "text/plain": [
              "<Figure size 1080x1080 with 2 Axes>"
            ],
            "image/png": "[encoded data removed]"
          },
          "metadata": {
            "needs_background": "light"
          }
        }
      ]
    },
    {
      "cell_type": "code",
      "execution_count": 30,
      "id": "9fef4f2e",
      "metadata": {
        "colab": {
          "base_uri": "https://localhost:8080/"
        },
        "id": "9fef4f2e",
        "outputId": "59180258-9b63-4398-9060-30189e8cf2a3"
      },
      "outputs": [
        {
          "output_type": "stream",
          "name": "stdout",
          "text": [
            "<class 'pandas.core.frame.DataFrame'>\n",
            "RangeIndex: 4446966 entries, 0 to 4446965\n",
            "Data columns (total 29 columns):\n",
            " #   Column           Dtype  \n",
            "---  ------           -----  \n",
            " 0   Id               object \n",
            " 1   groupId          object \n",
            " 2   matchId          object \n",
            " 3   assists          int64  \n",
            " 4   boosts           int64  \n",
            " 5   damageDealt      float64\n",
            " 6   DBNOs            int64  \n",
            " 7   headshotKills    int64  \n",
            " 8   heals            int64  \n",
            " 9   killPlace        int64  \n",
            " 10  killPoints       int64  \n",
            " 11  kills            int64  \n",
            " 12  killStreaks      int64  \n",
            " 13  longestKill      float64\n",
            " 14  matchDuration    int64  \n",
            " 15  matchType        object \n",
            " 16  maxPlace         int64  \n",
            " 17  numGroups        int64  \n",
            " 18  rankPoints       int64  \n",
            " 19  revives          int64  \n",
            " 20  rideDistance     float64\n",
            " 21  roadKills        int64  \n",
            " 22  swimDistance     float64\n",
            " 23  teamKills        int64  \n",
            " 24  vehicleDestroys  int64  \n",
            " 25  walkDistance     float64\n",
            " 26  weaponsAcquired  int64  \n",
            " 27  winPoints        int64  \n",
            " 28  winPlacePerc     float64\n",
            "dtypes: float64(6), int64(19), object(4)\n",
            "memory usage: 983.9+ MB\n"
          ]
        }
      ],
      "source": [
        "train.info()"
      ]
    },
    {
      "cell_type": "code",
      "source": [
        "# 결측치 확인\n",
        "train.isna().sum()"
      ],
      "metadata": {
        "colab": {
          "base_uri": "https://localhost:8080/"
        },
        "id": "Q4bDpvYgZxLC",
        "outputId": "a90fc47a-2439-4d31-bcdc-9262d5e7eccc"
      },
      "id": "Q4bDpvYgZxLC",
      "execution_count": 33,
      "outputs": [
        {
          "output_type": "execute_result",
          "data": {
            "text/plain": [
              "Id                 0\n",
              "groupId            0\n",
              "matchId            0\n",
              "assists            0\n",
              "boosts             0\n",
              "damageDealt        0\n",
              "DBNOs              0\n",
              "headshotKills      0\n",
              "heals              0\n",
              "killPlace          0\n",
              "killPoints         0\n",
              "kills              0\n",
              "killStreaks        0\n",
              "longestKill        0\n",
              "matchDuration      0\n",
              "matchType          0\n",
              "maxPlace           0\n",
              "numGroups          0\n",
              "rankPoints         0\n",
              "revives            0\n",
              "rideDistance       0\n",
              "roadKills          0\n",
              "swimDistance       0\n",
              "teamKills          0\n",
              "vehicleDestroys    0\n",
              "walkDistance       0\n",
              "weaponsAcquired    0\n",
              "winPoints          0\n",
              "winPlacePerc       1\n",
              "dtype: int64"
            ]
          },
          "metadata": {},
          "execution_count": 33
        }
      ]
    },
    {
      "cell_type": "code",
      "source": [
        "# win Place Perc 결측 행 제거\n",
        "train = train.dropna(axis=0)"
      ],
      "metadata": {
        "id": "foNjf3uUesDW"
      },
      "id": "foNjf3uUesDW",
      "execution_count": 35,
      "outputs": []
    },
    {
      "cell_type": "code",
      "source": [
        "# 필요 없는 컬럼 제거\n",
        "train = train.drop(columns=[\"Id\", \"groupId\", \"matchId\"])\n",
        "train.info() "
      ],
      "metadata": {
        "colab": {
          "base_uri": "https://localhost:8080/"
        },
        "id": "hjXULOzshqzF",
        "outputId": "0898c778-f3bc-4b9b-b660-fced3fb4b597"
      },
      "id": "hjXULOzshqzF",
      "execution_count": 18,
      "outputs": [
        {
          "output_type": "stream",
          "name": "stdout",
          "text": [
            "<class 'pandas.core.frame.DataFrame'>\n",
            "Int64Index: 4446965 entries, 0 to 4446965\n",
            "Data columns (total 26 columns):\n",
            " #   Column           Dtype  \n",
            "---  ------           -----  \n",
            " 0   assists          int64  \n",
            " 1   boosts           int64  \n",
            " 2   damageDealt      float64\n",
            " 3   DBNOs            int64  \n",
            " 4   headshotKills    int64  \n",
            " 5   heals            int64  \n",
            " 6   killPlace        int64  \n",
            " 7   killPoints       int64  \n",
            " 8   kills            int64  \n",
            " 9   killStreaks      int64  \n",
            " 10  longestKill      float64\n",
            " 11  matchDuration    int64  \n",
            " 12  matchType        object \n",
            " 13  maxPlace         int64  \n",
            " 14  numGroups        int64  \n",
            " 15  rankPoints       int64  \n",
            " 16  revives          int64  \n",
            " 17  rideDistance     float64\n",
            " 18  roadKills        int64  \n",
            " 19  swimDistance     float64\n",
            " 20  teamKills        int64  \n",
            " 21  vehicleDestroys  int64  \n",
            " 22  walkDistance     float64\n",
            " 23  weaponsAcquired  int64  \n",
            " 24  winPoints        int64  \n",
            " 25  winPlacePerc     float64\n",
            "dtypes: float64(6), int64(19), object(1)\n",
            "memory usage: 916.0+ MB\n"
          ]
        }
      ]
    },
    {
      "cell_type": "code",
      "source": [
        "# 'matchType' 종류 확인\n",
        "train.matchType.unique()"
      ],
      "metadata": {
        "colab": {
          "base_uri": "https://localhost:8080/"
        },
        "id": "J0BJmsfRgUa1",
        "outputId": "f633d34f-1022-4e6a-9889-8072d603bb1f"
      },
      "id": "J0BJmsfRgUa1",
      "execution_count": 37,
      "outputs": [
        {
          "output_type": "execute_result",
          "data": {
            "text/plain": [
              "array(['squad-fpp', 'duo', 'solo-fpp', 'squad', 'duo-fpp', 'solo',\n",
              "       'normal-squad-fpp', 'crashfpp', 'flaretpp', 'normal-solo-fpp',\n",
              "       'flarefpp', 'normal-duo-fpp', 'normal-duo', 'normal-squad',\n",
              "       'crashtpp', 'normal-solo'], dtype=object)"
            ]
          },
          "metadata": {},
          "execution_count": 37
        }
      ]
    },
    {
      "cell_type": "code",
      "source": [
        "train['matchType'].value_counts()"
      ],
      "metadata": {
        "colab": {
          "base_uri": "https://localhost:8080/"
        },
        "id": "35zYxh-F76CM",
        "outputId": "33cd95ae-357e-455b-b5c0-ace93f59a7ce"
      },
      "id": "35zYxh-F76CM",
      "execution_count": 23,
      "outputs": [
        {
          "output_type": "execute_result",
          "data": {
            "text/plain": [
              "squad-fpp           1756186\n",
              "duo-fpp              996691\n",
              "squad                626526\n",
              "solo-fpp             536761\n",
              "duo                  313591\n",
              "solo                 181943\n",
              "normal-squad-fpp      17174\n",
              "crashfpp               6287\n",
              "normal-duo-fpp         5489\n",
              "flaretpp               2505\n",
              "normal-solo-fpp        1682\n",
              "flarefpp                718\n",
              "normal-squad            516\n",
              "crashtpp                371\n",
              "normal-solo             326\n",
              "normal-duo              199\n",
              "Name: matchType, dtype: int64"
            ]
          },
          "metadata": {},
          "execution_count": 23
        }
      ]
    },
    {
      "cell_type": "markdown",
      "id": "14bc6b5a",
      "metadata": {
        "id": "14bc6b5a"
      },
      "source": [
        "## 데이터 분포 확인하기"
      ]
    },
    {
      "cell_type": "code",
      "source": [
        "df['type'].unique()"
      ],
      "metadata": {
        "colab": {
          "base_uri": "https://localhost:8080/"
        },
        "id": "2qKDdfcu_QUU",
        "outputId": "b663d486-b844-4abe-f4f5-d88b7f1dc311"
      },
      "id": "2qKDdfcu_QUU",
      "execution_count": null,
      "outputs": [
        {
          "output_type": "execute_result",
          "data": {
            "text/plain": [
              "array(['ORDER', 'PAYMENT', 'REFUND', 'TRANSACTION'], dtype=object)"
            ]
          },
          "metadata": {},
          "execution_count": 15
        }
      ]
    },
    {
      "cell_type": "code",
      "source": [
        "df['state'].unique()"
      ],
      "metadata": {
        "colab": {
          "base_uri": "https://localhost:8080/"
        },
        "id": "8XB-JhoO_5ov",
        "outputId": "4df27c48-c7d5-49bd-d310-a8f3ccc75b25"
      },
      "id": "8XB-JhoO_5ov",
      "execution_count": null,
      "outputs": [
        {
          "output_type": "execute_result",
          "data": {
            "text/plain": [
              "array(['CANCELLED', 'COMPLETED', 'PENDING', 'DELETED', 'REQUESTED'],\n",
              "      dtype=object)"
            ]
          },
          "metadata": {},
          "execution_count": 17
        }
      ]
    },
    {
      "cell_type": "code",
      "source": [
        "df['category_title'].unique()"
      ],
      "metadata": {
        "colab": {
          "base_uri": "https://localhost:8080/"
        },
        "id": "Qztim9I2cU9X",
        "outputId": "09666044-c8bb-4f56-ace8-e410d36a6058"
      },
      "id": "Qztim9I2cU9X",
      "execution_count": null,
      "outputs": [
        {
          "output_type": "execute_result",
          "data": {
            "text/plain": [
              "array(['프로그래밍', '영상/3D', '업무 생산성', '크리에이티브', '부동산/금융', '데이터사이언스', '디자인',\n",
              "       '마케팅', '교육', '투자/재테크', nan, '관리', '데이터 사이언스', '비즈니스', '지식콘텐츠',\n",
              "       '일러스트', '파이낸스'], dtype=object)"
            ]
          },
          "metadata": {},
          "execution_count": 20
        }
      ]
    },
    {
      "cell_type": "code",
      "source": [
        "df['format'].unique()"
      ],
      "metadata": {
        "colab": {
          "base_uri": "https://localhost:8080/"
        },
        "id": "ED0OlE-JbymN",
        "outputId": "44be0e1b-cd68-4d12-de72-3e08d20ceab9"
      },
      "id": "ED0OlE-JbymN",
      "execution_count": null,
      "outputs": [
        {
          "output_type": "execute_result",
          "data": {
            "text/plain": [
              "array(['올인원', '스쿨 온라인', '온라인 완주반', 'RED', 'B2B 온라인', '캠프', '스쿨', nan,\n",
              "       'B2B', '이벤트', '하루10분컷', '아카이브', '관리', '온라인', 'MBA', '콜로소', 'B2G'],\n",
              "      dtype=object)"
            ]
          },
          "metadata": {},
          "execution_count": 22
        }
      ]
    },
    {
      "cell_type": "code",
      "source": [
        "df['method'].unique()"
      ],
      "metadata": {
        "colab": {
          "base_uri": "https://localhost:8080/"
        },
        "id": "TVJK8S-eb8OM",
        "outputId": "4bfd42e9-a2c4-49bc-ef6f-435c89a6d912"
      },
      "id": "TVJK8S-eb8OM",
      "execution_count": null,
      "outputs": [
        {
          "output_type": "execute_result",
          "data": {
            "text/plain": [
              "array(['VBANK', 'CARD', 'TRANS', 'PROMOTION', 'TRANSFER', 'ONSITE',\n",
              "       'B2B_CONTRACT', nan, 'POINT', 'VOUCHER'], dtype=object)"
            ]
          },
          "metadata": {},
          "execution_count": 32
        }
      ]
    },
    {
      "cell_type": "code",
      "source": [
        "df['subcategory_title'].unique()"
      ],
      "metadata": {
        "colab": {
          "base_uri": "https://localhost:8080/"
        },
        "id": "U6-ZaaWDcCkC",
        "outputId": "f8d5e46a-2ca3-4ca4-b74e-323ebe88f8c4"
      },
      "id": "U6-ZaaWDcCkC",
      "execution_count": null,
      "outputs": [
        {
          "output_type": "execute_result",
          "data": {
            "text/plain": [
              "array(['개발자 커리어', '영상 편집', nan, 'PPT/보고서', '금융/투자 실무', '프론트엔드 개발',\n",
              "       'DevOps', 'UX/UI', '머신러닝', '모션그래픽', '딥러닝/인공지능', '글쓰기/카피라이팅',\n",
              "       '디지털마케팅', '엑셀/VBA', '데이터분석', '디자인툴', '모바일앱', '업무자동화', 'SNS마케팅',\n",
              "       '게임', '회계/재무/세무', '부동산 개발', '시각디자인', '백엔드 개발', '데이터마케팅', '일러스트',\n",
              "       '부동산 투자', '코딩 입문', '커뮤니케이션', '리더십', '주식 투자', '게임 그래픽', '데이터엔지니어링',\n",
              "       'VFX'], dtype=object)"
            ]
          },
          "metadata": {},
          "execution_count": 34
        }
      ]
    },
    {
      "cell_type": "code",
      "source": [
        ""
      ],
      "metadata": {
        "id": "wOq7xcGb8uH8"
      },
      "id": "wOq7xcGb8uH8",
      "execution_count": null,
      "outputs": []
    },
    {
      "cell_type": "markdown",
      "source": [
        "##카테고리 관련 데이터"
      ],
      "metadata": {
        "id": "iDEZyFFlivwT"
      },
      "id": "iDEZyFFlivwT"
    },
    {
      "cell_type": "code",
      "source": [
        "# 개인 사용자들의 데이터를 확인하기 위해 format에서 기업교육 계약, 정부 사업인 B2B, B2G 제거 후 시작\n",
        "df = df[df.format.isin(['B2B', 'B2B 온라인', 'B2G'])==False]  "
      ],
      "metadata": {
        "id": "6wrRTti09Qxq"
      },
      "id": "6wrRTti09Qxq",
      "execution_count": null,
      "outputs": []
    },
    {
      "cell_type": "code",
      "source": [
        "# 카테고리  별 강의 구매 횟수\n",
        "catitle = df[\"category_title\"].value_counts()\n",
        "catitle"
      ],
      "metadata": {
        "colab": {
          "base_uri": "https://localhost:8080/"
        },
        "id": "w3mzaKAvti5F",
        "outputId": "ada319f7-24c7-453d-d3ec-3b4479eb8c81"
      },
      "id": "w3mzaKAvti5F",
      "execution_count": null,
      "outputs": [
        {
          "output_type": "execute_result",
          "data": {
            "text/plain": [
              "프로그래밍       33067\n",
              "데이터사이언스     14029\n",
              "업무 생산성      13317\n",
              "디자인         12009\n",
              "영상/3D       10260\n",
              "마케팅          9845\n",
              "부동산/금융       5518\n",
              "투자/재테크       2501\n",
              "크리에이티브       2231\n",
              "지식콘텐츠          56\n",
              "비즈니스           40\n",
              "파이낸스           24\n",
              "데이터 사이언스        9\n",
              "관리              2\n",
              "일러스트            1\n",
              "Name: category_title, dtype: int64"
            ]
          },
          "metadata": {},
          "execution_count": 177
        }
      ]
    },
    {
      "cell_type": "code",
      "source": [
        "# 카테고리 별 강의 구매 횟수 시각화\n",
        "fig = plt.figure(figsize=(15,8))\n",
        "sns.countplot( data = df, x = 'category_title' , \n",
        "              order = df['category_title'].value_counts().index )"
      ],
      "metadata": {
        "colab": {
          "base_uri": "https://localhost:8080/",
          "height": 515
        },
        "id": "SJOo5gTM4MZQ",
        "outputId": "f3c3eb71-41fd-46ac-de64-3725b4242848"
      },
      "id": "SJOo5gTM4MZQ",
      "execution_count": null,
      "outputs": [
        {
          "output_type": "execute_result",
          "data": {
            "text/plain": [
              "<matplotlib.axes._subplots.AxesSubplot at 0x7f369f69f2d0>"
            ]
          },
          "metadata": {},
          "execution_count": 166
        },
        {
          "output_type": "display_data",
          "data": {
            "text/plain": [
              "<Figure size 1080x576 with 1 Axes>"
            ],
            "image/png": "[encoded data removed]"
          },
          "metadata": {
            "needs_background": "light"
          }
        }
      ]
    },
    {
      "cell_type": "markdown",
      "source": [
        "프로그래밍 관련 강의가 가장 많이 팔렸다."
      ],
      "metadata": {
        "id": "qgbuCckXEGYq"
      },
      "id": "qgbuCckXEGYq"
    },
    {
      "cell_type": "code",
      "source": [
        "# 서브카테고리 별 강의 구매 횟수 시각화\n",
        "fig = plt.figure(figsize=(40,8))\n",
        "sns.countplot(data = df, x = \"subcategory_title\", \n",
        "              order = df['subcategory_title'].value_counts().index)"
      ],
      "metadata": {
        "colab": {
          "base_uri": "https://localhost:8080/",
          "height": 444
        },
        "id": "yp9S9fy19Cth",
        "outputId": "42a5066f-ffcf-4eb7-9109-c5de207d2e7d"
      },
      "execution_count": null,
      "outputs": [
        {
          "output_type": "execute_result",
          "data": {
            "text/plain": [
              "<matplotlib.axes._subplots.AxesSubplot at 0x7f369e0c1350>"
            ]
          },
          "metadata": {},
          "execution_count": 133
        },
        {
          "output_type": "display_data",
          "data": {
            "text/plain": [
              "<Figure size 2880x576 with 1 Axes>"
            ],
            "image/png": "[encoded data removed]"
          },
          "metadata": {
            "needs_background": "light"
          }
        }
      ],
      "id": "yp9S9fy19Cth"
    },
    {
      "cell_type": "markdown",
      "source": [
        "하지만 subcategory로 분류시 영상 편집 강의가 가장 많았다."
      ],
      "metadata": {
        "id": "USr84PAVEM8f"
      },
      "id": "USr84PAVEM8f"
    },
    {
      "cell_type": "code",
      "source": [
        "sub = df.groupby(['category_title', 'subcategory_title'])[['id']].count()\n",
        "sub.head()"
      ],
      "metadata": {
        "colab": {
          "base_uri": "https://localhost:8080/",
          "height": 237
        },
        "id": "iMH0f6fjc3WU",
        "outputId": "e5ddd5d1-eef1-4c0b-e431-abb3b32afbe7"
      },
      "execution_count": null,
      "outputs": [
        {
          "output_type": "execute_result",
          "data": {
            "text/plain": [
              "                                    id\n",
              "category_title subcategory_title      \n",
              "데이터사이언스        데이터분석              4302\n",
              "               데이터엔지니어링            275\n",
              "               딥러닝/인공지능           4590\n",
              "               머신러닝               1958\n",
              "디자인            UX/UI              2775"
            ],
            "text/html": [
              "\n",
              "  <div id=\"df-44fb624f-0b15-40c9-b27d-dabc7fec8d40\">\n",
              "    <div class=\"colab-df-container\">\n",
              "      <div>\n",
              "<style scoped>\n",
              "    .dataframe tbody tr th:only-of-type {\n",
              "        vertical-align: middle;\n",
              "    }\n",
              "\n",
              "    .dataframe tbody tr th {\n",
              "        vertical-align: top;\n",
              "    }\n",
              "\n",
              "    .dataframe thead th {\n",
              "        text-align: right;\n",
              "    }\n",
              "</style>\n",
              "<table border=\"1\" class=\"dataframe\">\n",
              "  <thead>\n",
              "    <tr style=\"text-align: right;\">\n",
              "      <th></th>\n",
              "      <th></th>\n",
              "      <th>id</th>\n",
              "    </tr>\n",
              "    <tr>\n",
              "      <th>category_title</th>\n",
              "      <th>subcategory_title</th>\n",
              "      <th></th>\n",
              "    </tr>\n",
              "  </thead>\n",
              "  <tbody>\n",
              "    <tr>\n",
              "      <th rowspan=\"4\" valign=\"top\">데이터사이언스</th>\n",
              "      <th>데이터분석</th>\n",
              "      <td>4302</td>\n",
              "    </tr>\n",
              "    <tr>\n",
              "      <th>데이터엔지니어링</th>\n",
              "      <td>275</td>\n",
              "    </tr>\n",
              "    <tr>\n",
              "      <th>딥러닝/인공지능</th>\n",
              "      <td>4590</td>\n",
              "    </tr>\n",
              "    <tr>\n",
              "      <th>머신러닝</th>\n",
              "      <td>1958</td>\n",
              "    </tr>\n",
              "    <tr>\n",
              "      <th>디자인</th>\n",
              "      <th>UX/UI</th>\n",
              "      <td>2775</td>\n",
              "    </tr>\n",
              "  </tbody>\n",
              "</table>\n",
              "</div>\n",
              "      <button class=\"colab-df-convert\" onclick=\"convertToInteractive('df-44fb624f-0b15-40c9-b27d-dabc7fec8d40')\"\n",
              "              title=\"Convert this dataframe to an interactive table.\"\n",
              "              style=\"display:none;\">\n",
              "        \n",
              "  <svg xmlns=\"http://www.w3.org/2000/svg\" height=\"24px\"viewBox=\"0 0 24 24\"\n",
              "       width=\"24px\">\n",
              "    <path d=\"M0 0h24v24H0V0z\" fill=\"none\"/>\n",
              "    <path d=\"M18.56 5.44l.94 2.06.94-2.06 2.06-.94-2.06-.94-.94-2.06-.94 2.06-2.06.94zm-11 1L8.5 8.5l.94-2.06 2.06-.94-2.06-.94L8.5 2.5l-.94 2.06-2.06.94zm10 10l.94 2.06.94-2.06 2.06-.94-2.06-.94-.94-2.06-.94 2.06-2.06.94z\"/><path d=\"M17.41 7.96l-1.37-1.37c-.4-.4-.92-.59-1.43-.59-.52 0-1.04.2-1.43.59L10.3 9.45l-7.72 7.72c-.78.78-.78 2.05 0 2.83L4 21.41c.39.39.9.59 1.41.59.51 0 1.02-.2 1.41-.59l7.78-7.78 2.81-2.81c.8-.78.8-2.07 0-2.86zM5.41 20L4 18.59l7.72-7.72 1.47 1.35L5.41 20z\"/>\n",
              "  </svg>\n",
              "      </button>\n",
              "      \n",
              "  <style>\n",
              "    .colab-df-container {\n",
              "      display:flex;\n",
              "      flex-wrap:wrap;\n",
              "      gap: 12px;\n",
              "    }\n",
              "\n",
              "    .colab-df-convert {\n",
              "      background-color: #E8F0FE;\n",
              "      border: none;\n",
              "      border-radius: 50%;\n",
              "      cursor: pointer;\n",
              "      display: none;\n",
              "      fill: #1967D2;\n",
              "      height: 32px;\n",
              "      padding: 0 0 0 0;\n",
              "      width: 32px;\n",
              "    }\n",
              "\n",
              "    .colab-df-convert:hover {\n",
              "      background-color: #E2EBFA;\n",
              "      box-shadow: 0px 1px 2px rgba(60, 64, 67, 0.3), 0px 1px 3px 1px rgba(60, 64, 67, 0.15);\n",
              "      fill: #174EA6;\n",
              "    }\n",
              "\n",
              "    [theme=dark] .colab-df-convert {\n",
              "      background-color: #3B4455;\n",
              "      fill: #D2E3FC;\n",
              "    }\n",
              "\n",
              "    [theme=dark] .colab-df-convert:hover {\n",
              "      background-color: #434B5C;\n",
              "      box-shadow: 0px 1px 3px 1px rgba(0, 0, 0, 0.15);\n",
              "      filter: drop-shadow(0px 1px 2px rgba(0, 0, 0, 0.3));\n",
              "      fill: #FFFFFF;\n",
              "    }\n",
              "  </style>\n",
              "\n",
              "      <script>\n",
              "        const buttonEl =\n",
              "          document.querySelector('#df-44fb624f-0b15-40c9-b27d-dabc7fec8d40 button.colab-df-convert');\n",
              "        buttonEl.style.display =\n",
              "          google.colab.kernel.accessAllowed ? 'block' : 'none';\n",
              "\n",
              "        async function convertToInteractive(key) {\n",
              "          const element = document.querySelector('#df-44fb624f-0b15-40c9-b27d-dabc7fec8d40');\n",
              "          const dataTable =\n",
              "            await google.colab.kernel.invokeFunction('convertToInteractive',\n",
              "                                                     [key], {});\n",
              "          if (!dataTable) return;\n",
              "\n",
              "          const docLinkHtml = 'Like what you see? Visit the ' +\n",
              "            '<a target=\"_blank\" href=https://colab.research.google.com/notebooks/data_table.ipynb>data table notebook</a>'\n",
              "            + ' to learn more about interactive tables.';\n",
              "          element.innerHTML = '';\n",
              "          dataTable['output_type'] = 'display_data';\n",
              "          await google.colab.output.renderOutput(dataTable, element);\n",
              "          const docLink = document.createElement('div');\n",
              "          docLink.innerHTML = docLinkHtml;\n",
              "          element.appendChild(docLink);\n",
              "        }\n",
              "      </script>\n",
              "    </div>\n",
              "  </div>\n",
              "  "
            ]
          },
          "metadata": {},
          "execution_count": 134
        }
      ],
      "id": "iMH0f6fjc3WU"
    },
    {
      "cell_type": "code",
      "source": [
        "# 트리맵 해보기"
      ],
      "metadata": {
        "id": "p8Qz_botbHKy"
      },
      "execution_count": null,
      "outputs": [],
      "id": "p8Qz_botbHKy"
    },
    {
      "cell_type": "code",
      "source": [
        "# 카테고리 별 총 수입\n",
        "how = {                                        \n",
        "    'transaction_amount' : np.sum\n",
        "}\n",
        "\n",
        "catr = df.groupby('category_title').agg(how)\n",
        "catr = catr.sort_values('transaction_amount', ascending=False)\n",
        "catr"
      ],
      "metadata": {
        "id": "awv4SkGnYsL4",
        "colab": {
          "base_uri": "https://localhost:8080/",
          "height": 551
        },
        "outputId": "5c8182d9-bb5d-4714-9f96-7eb65a4c876d"
      },
      "execution_count": null,
      "outputs": [
        {
          "output_type": "execute_result",
          "data": {
            "text/plain": [
              "                transaction_amount\n",
              "category_title                    \n",
              "프로그래밍                   3685366923\n",
              "데이터사이언스                 2154247670\n",
              "디자인                     1472061828\n",
              "마케팅                     1327429094\n",
              "업무 생산성                  1187949355\n",
              "영상/3D                   1097891580\n",
              "부동산/금융                   944512609\n",
              "크리에이티브                   671730027\n",
              "투자/재테크                   479614745\n",
              "지식콘텐츠                     12777000\n",
              "비즈니스                       9386220\n",
              "파이낸스                       6600000\n",
              "데이터 사이언스                   3106000\n",
              "관리                          300000\n",
              "일러스트                        208000"
            ],
            "text/html": [
              "\n",
              "  <div id=\"df-4abbc77e-00cf-4d65-b979-c8c2a42a686e\">\n",
              "    <div class=\"colab-df-container\">\n",
              "      <div>\n",
              "<style scoped>\n",
              "    .dataframe tbody tr th:only-of-type {\n",
              "        vertical-align: middle;\n",
              "    }\n",
              "\n",
              "    .dataframe tbody tr th {\n",
              "        vertical-align: top;\n",
              "    }\n",
              "\n",
              "    .dataframe thead th {\n",
              "        text-align: right;\n",
              "    }\n",
              "</style>\n",
              "<table border=\"1\" class=\"dataframe\">\n",
              "  <thead>\n",
              "    <tr style=\"text-align: right;\">\n",
              "      <th></th>\n",
              "      <th>transaction_amount</th>\n",
              "    </tr>\n",
              "    <tr>\n",
              "      <th>category_title</th>\n",
              "      <th></th>\n",
              "    </tr>\n",
              "  </thead>\n",
              "  <tbody>\n",
              "    <tr>\n",
              "      <th>프로그래밍</th>\n",
              "      <td>3685366923</td>\n",
              "    </tr>\n",
              "    <tr>\n",
              "      <th>데이터사이언스</th>\n",
              "      <td>2154247670</td>\n",
              "    </tr>\n",
              "    <tr>\n",
              "      <th>디자인</th>\n",
              "      <td>1472061828</td>\n",
              "    </tr>\n",
              "    <tr>\n",
              "      <th>마케팅</th>\n",
              "      <td>1327429094</td>\n",
              "    </tr>\n",
              "    <tr>\n",
              "      <th>업무 생산성</th>\n",
              "      <td>1187949355</td>\n",
              "    </tr>\n",
              "    <tr>\n",
              "      <th>영상/3D</th>\n",
              "      <td>1097891580</td>\n",
              "    </tr>\n",
              "    <tr>\n",
              "      <th>부동산/금융</th>\n",
              "      <td>944512609</td>\n",
              "    </tr>\n",
              "    <tr>\n",
              "      <th>크리에이티브</th>\n",
              "      <td>671730027</td>\n",
              "    </tr>\n",
              "    <tr>\n",
              "      <th>투자/재테크</th>\n",
              "      <td>479614745</td>\n",
              "    </tr>\n",
              "    <tr>\n",
              "      <th>지식콘텐츠</th>\n",
              "      <td>12777000</td>\n",
              "    </tr>\n",
              "    <tr>\n",
              "      <th>비즈니스</th>\n",
              "      <td>9386220</td>\n",
              "    </tr>\n",
              "    <tr>\n",
              "      <th>파이낸스</th>\n",
              "      <td>6600000</td>\n",
              "    </tr>\n",
              "    <tr>\n",
              "      <th>데이터 사이언스</th>\n",
              "      <td>3106000</td>\n",
              "    </tr>\n",
              "    <tr>\n",
              "      <th>관리</th>\n",
              "      <td>300000</td>\n",
              "    </tr>\n",
              "    <tr>\n",
              "      <th>일러스트</th>\n",
              "      <td>208000</td>\n",
              "    </tr>\n",
              "  </tbody>\n",
              "</table>\n",
              "</div>\n",
              "      <button class=\"colab-df-convert\" onclick=\"convertToInteractive('df-4abbc77e-00cf-4d65-b979-c8c2a42a686e')\"\n",
              "              title=\"Convert this dataframe to an interactive table.\"\n",
              "              style=\"display:none;\">\n",
              "        \n",
              "  <svg xmlns=\"http://www.w3.org/2000/svg\" height=\"24px\"viewBox=\"0 0 24 24\"\n",
              "       width=\"24px\">\n",
              "    <path d=\"M0 0h24v24H0V0z\" fill=\"none\"/>\n",
              "    <path d=\"M18.56 5.44l.94 2.06.94-2.06 2.06-.94-2.06-.94-.94-2.06-.94 2.06-2.06.94zm-11 1L8.5 8.5l.94-2.06 2.06-.94-2.06-.94L8.5 2.5l-.94 2.06-2.06.94zm10 10l.94 2.06.94-2.06 2.06-.94-2.06-.94-.94-2.06-.94 2.06-2.06.94z\"/><path d=\"M17.41 7.96l-1.37-1.37c-.4-.4-.92-.59-1.43-.59-.52 0-1.04.2-1.43.59L10.3 9.45l-7.72 7.72c-.78.78-.78 2.05 0 2.83L4 21.41c.39.39.9.59 1.41.59.51 0 1.02-.2 1.41-.59l7.78-7.78 2.81-2.81c.8-.78.8-2.07 0-2.86zM5.41 20L4 18.59l7.72-7.72 1.47 1.35L5.41 20z\"/>\n",
              "  </svg>\n",
              "      </button>\n",
              "      \n",
              "  <style>\n",
              "    .colab-df-container {\n",
              "      display:flex;\n",
              "      flex-wrap:wrap;\n",
              "      gap: 12px;\n",
              "    }\n",
              "\n",
              "    .colab-df-convert {\n",
              "      background-color: #E8F0FE;\n",
              "      border: none;\n",
              "      border-radius: 50%;\n",
              "      cursor: pointer;\n",
              "      display: none;\n",
              "      fill: #1967D2;\n",
              "      height: 32px;\n",
              "      padding: 0 0 0 0;\n",
              "      width: 32px;\n",
              "    }\n",
              "\n",
              "    .colab-df-convert:hover {\n",
              "      background-color: #E2EBFA;\n",
              "      box-shadow: 0px 1px 2px rgba(60, 64, 67, 0.3), 0px 1px 3px 1px rgba(60, 64, 67, 0.15);\n",
              "      fill: #174EA6;\n",
              "    }\n",
              "\n",
              "    [theme=dark] .colab-df-convert {\n",
              "      background-color: #3B4455;\n",
              "      fill: #D2E3FC;\n",
              "    }\n",
              "\n",
              "    [theme=dark] .colab-df-convert:hover {\n",
              "      background-color: #434B5C;\n",
              "      box-shadow: 0px 1px 3px 1px rgba(0, 0, 0, 0.15);\n",
              "      filter: drop-shadow(0px 1px 2px rgba(0, 0, 0, 0.3));\n",
              "      fill: #FFFFFF;\n",
              "    }\n",
              "  </style>\n",
              "\n",
              "      <script>\n",
              "        const buttonEl =\n",
              "          document.querySelector('#df-4abbc77e-00cf-4d65-b979-c8c2a42a686e button.colab-df-convert');\n",
              "        buttonEl.style.display =\n",
              "          google.colab.kernel.accessAllowed ? 'block' : 'none';\n",
              "\n",
              "        async function convertToInteractive(key) {\n",
              "          const element = document.querySelector('#df-4abbc77e-00cf-4d65-b979-c8c2a42a686e');\n",
              "          const dataTable =\n",
              "            await google.colab.kernel.invokeFunction('convertToInteractive',\n",
              "                                                     [key], {});\n",
              "          if (!dataTable) return;\n",
              "\n",
              "          const docLinkHtml = 'Like what you see? Visit the ' +\n",
              "            '<a target=\"_blank\" href=https://colab.research.google.com/notebooks/data_table.ipynb>data table notebook</a>'\n",
              "            + ' to learn more about interactive tables.';\n",
              "          element.innerHTML = '';\n",
              "          dataTable['output_type'] = 'display_data';\n",
              "          await google.colab.output.renderOutput(dataTable, element);\n",
              "          const docLink = document.createElement('div');\n",
              "          docLink.innerHTML = docLinkHtml;\n",
              "          element.appendChild(docLink);\n",
              "        }\n",
              "      </script>\n",
              "    </div>\n",
              "  </div>\n",
              "  "
            ]
          },
          "metadata": {},
          "execution_count": 135
        }
      ],
      "id": "awv4SkGnYsL4"
    },
    {
      "cell_type": "code",
      "source": [
        "# 카테고리 별 총 수입 시각화\n",
        "catr.plot.bar(figsize = (15,6))"
      ],
      "metadata": {
        "colab": {
          "base_uri": "https://localhost:8080/",
          "height": 470
        },
        "id": "T6b3S5Vbh6xq",
        "outputId": "95747523-5015-4da7-d702-0eb12f1bb27c"
      },
      "execution_count": null,
      "outputs": [
        {
          "output_type": "execute_result",
          "data": {
            "text/plain": [
              "<matplotlib.axes._subplots.AxesSubplot at 0x7f369fd40150>"
            ]
          },
          "metadata": {},
          "execution_count": 136
        },
        {
          "output_type": "display_data",
          "data": {
            "text/plain": [
              "<Figure size 1080x432 with 1 Axes>"
            ],
            "image/png": "[encoded data removed]"
          },
          "metadata": {
            "needs_background": "light"
          }
        }
      ],
      "id": "T6b3S5Vbh6xq"
    },
    {
      "cell_type": "markdown",
      "source": [
        "수입이 높은 카테고리의 강의 종류, 광고 늘리기"
      ],
      "metadata": {
        "id": "IMpksmDhgIDn"
      },
      "id": "IMpksmDhgIDn"
    },
    {
      "cell_type": "markdown",
      "source": [
        "##재구매 관련 데이터"
      ],
      "metadata": {
        "id": "LhHvf5jGiNkQ"
      },
      "id": "LhHvf5jGiNkQ"
    },
    {
      "cell_type": "code",
      "source": [
        "# 한 사람이 강의를 몇 회 구매했는지 확인\n",
        "df[\"customer_id\"].value_counts() "
      ],
      "metadata": {
        "colab": {
          "base_uri": "https://localhost:8080/"
        },
        "id": "Ktat19PxqkM8",
        "outputId": "01864496-3572-4fbc-a46d-c8332ed327c5"
      },
      "id": "Ktat19PxqkM8",
      "execution_count": null,
      "outputs": [
        {
          "output_type": "execute_result",
          "data": {
            "text/plain": [
              "98685.0     78\n",
              "50769.0     62\n",
              "40783.0     59\n",
              "496508.0    54\n",
              "23171.0     51\n",
              "            ..\n",
              "545656.0     1\n",
              "550306.0     1\n",
              "550303.0     1\n",
              "168905.0     1\n",
              "610626.0     1\n",
              "Name: customer_id, Length: 52178, dtype: int64"
            ]
          },
          "metadata": {},
          "execution_count": 122
        }
      ]
    },
    {
      "cell_type": "code",
      "source": [
        "repeat = df.customer_id.value_counts().loc[df.customer_id.value_counts() >= 2]\n",
        "repeat_index=repeat.index\n",
        "repeat_index"
      ],
      "metadata": {
        "colab": {
          "base_uri": "https://localhost:8080/"
        },
        "id": "hxkaM0N6WbsG",
        "outputId": "e2264315-7741-4705-e6e3-dfa36c0db6bd"
      },
      "id": "hxkaM0N6WbsG",
      "execution_count": null,
      "outputs": [
        {
          "output_type": "execute_result",
          "data": {
            "text/plain": [
              "Float64Index([ 98685.0,  50769.0,  40783.0, 496508.0,  23171.0, 427973.0,\n",
              "              158374.0,  20784.0, 106662.0, 276705.0,\n",
              "              ...\n",
              "              403091.0, 639015.0, 605225.0, 519796.0, 113405.0,  48967.0,\n",
              "              173849.0, 526243.0, 463248.0, 172581.0],\n",
              "             dtype='float64', length=24765)"
            ]
          },
          "metadata": {},
          "execution_count": 167
        }
      ]
    },
    {
      "cell_type": "code",
      "source": [
        "df[\"customer_id\"].value_counts() >= 2"
      ],
      "metadata": {
        "colab": {
          "base_uri": "https://localhost:8080/"
        },
        "id": "YViprwu_PHq0",
        "outputId": "6e2d1ad7-edee-460d-8e60-f9208c24effe"
      },
      "id": "YViprwu_PHq0",
      "execution_count": null,
      "outputs": [
        {
          "output_type": "execute_result",
          "data": {
            "text/plain": [
              "98685.0      True\n",
              "50769.0      True\n",
              "40783.0      True\n",
              "496508.0     True\n",
              "23171.0      True\n",
              "            ...  \n",
              "545656.0    False\n",
              "550306.0    False\n",
              "550303.0    False\n",
              "168905.0    False\n",
              "610626.0    False\n",
              "Name: customer_id, Length: 52178, dtype: bool"
            ]
          },
          "metadata": {},
          "execution_count": 126
        }
      ]
    },
    {
      "cell_type": "code",
      "source": [
        "repeat_index.isin([98685]).any() == True"
      ],
      "metadata": {
        "colab": {
          "base_uri": "https://localhost:8080/"
        },
        "id": "C0UNovnBhMng",
        "outputId": "33b3fedc-4278-4c05-ff94-911634a73158"
      },
      "id": "C0UNovnBhMng",
      "execution_count": null,
      "outputs": [
        {
          "output_type": "execute_result",
          "data": {
            "text/plain": [
              "True"
            ]
          },
          "metadata": {},
          "execution_count": 127
        }
      ]
    },
    {
      "cell_type": "code",
      "source": [
        "# 재구매 시 True, 1회 구매시 False 인 column 생성\n",
        "def repeat_order_func(x) :      \n",
        "\n",
        "    if repeat_index.isin([x]).any()==True:\n",
        "        return True\n",
        "    else:\n",
        "        return False\n",
        "\n",
        "df['repeat_order'] = df['customer_id'].map(repeat_order_func)\n"
      ],
      "metadata": {
        "id": "bDvSSFivPfvS",
        "colab": {
          "base_uri": "https://localhost:8080/"
        },
        "outputId": "f03fc775-48cc-4a40-da57-0fdaeaf0ed15"
      },
      "id": "bDvSSFivPfvS",
      "execution_count": null,
      "outputs": [
        {
          "output_type": "stream",
          "name": "stderr",
          "text": [
            "/usr/local/lib/python3.7/dist-packages/ipykernel_launcher.py:9: SettingWithCopyWarning: \n",
            "A value is trying to be set on a copy of a slice from a DataFrame.\n",
            "Try using .loc[row_indexer,col_indexer] = value instead\n",
            "\n",
            "See the caveats in the documentation: https://pandas.pydata.org/pandas-docs/stable/user_guide/indexing.html#returning-a-view-versus-a-copy\n",
            "  if __name__ == '__main__':\n"
          ]
        }
      ]
    },
    {
      "cell_type": "code",
      "source": [
        "df['repeat_order'].value_counts()"
      ],
      "metadata": {
        "colab": {
          "base_uri": "https://localhost:8080/"
        },
        "id": "E5Qz7GmQfYM3",
        "outputId": "e193276a-5f17-47ad-f222-b9a9fd542d0f"
      },
      "id": "E5Qz7GmQfYM3",
      "execution_count": null,
      "outputs": [
        {
          "output_type": "execute_result",
          "data": {
            "text/plain": [
              "True     75517\n",
              "False    27416\n",
              "Name: repeat_order, dtype: int64"
            ]
          },
          "metadata": {},
          "execution_count": 171
        }
      ]
    },
    {
      "cell_type": "code",
      "source": [
        "# 재구매자만 있는 데이터프레임\n",
        "df_repeat_order = df[df.repeat_order.isin([True])]"
      ],
      "metadata": {
        "id": "0K2FLb-YsKHY"
      },
      "id": "0K2FLb-YsKHY",
      "execution_count": null,
      "outputs": []
    },
    {
      "cell_type": "code",
      "source": [
        "# 강의를 1회만 구매한 사람 비율\n",
        "re = df.customer_id.value_counts().loc[df.customer_id.value_counts() > 1]  \n",
        "\n",
        "len(re)/len(df.customer_id.value_counts()) * 100"
      ],
      "metadata": {
        "colab": {
          "base_uri": "https://localhost:8080/"
        },
        "id": "B54eX3ZdgB_n",
        "outputId": "164e8883-6eb3-40f0-dd59-1834f5d6db3d"
      },
      "id": "B54eX3ZdgB_n",
      "execution_count": null,
      "outputs": [
        {
          "output_type": "execute_result",
          "data": {
            "text/plain": [
              "47.46253210165204"
            ]
          },
          "metadata": {},
          "execution_count": 231
        }
      ]
    },
    {
      "cell_type": "markdown",
      "source": [
        "강의를 2회 이상 구매한 사람이 전체의 약47.5%"
      ],
      "metadata": {
        "id": "sIQcvT0-gWLS"
      },
      "id": "sIQcvT0-gWLS"
    },
    {
      "cell_type": "markdown",
      "source": [
        "###쿠폰 사용"
      ],
      "metadata": {
        "id": "w5kPd6Mxo1iT"
      },
      "id": "w5kPd6Mxo1iT"
    },
    {
      "cell_type": "code",
      "source": [
        "df['coupon_title'].count()"
      ],
      "metadata": {
        "colab": {
          "base_uri": "https://localhost:8080/"
        },
        "id": "1khJUgOLodHR",
        "outputId": "cc8229cc-be71-4c73-e145-d01b44ba3c2b"
      },
      "id": "1khJUgOLodHR",
      "execution_count": null,
      "outputs": [
        {
          "output_type": "execute_result",
          "data": {
            "text/plain": [
              "31779"
            ]
          },
          "metadata": {},
          "execution_count": 190
        }
      ]
    },
    {
      "cell_type": "code",
      "source": [
        "# 강의 구매 시 쿠폰 사용 비율\n",
        "print(df['coupon_title'].count()/(df['coupon_title'].count()+df['coupon_title'].isna().sum())*100)"
      ],
      "metadata": {
        "colab": {
          "base_uri": "https://localhost:8080/"
        },
        "id": "3BBbuo8hh3pO",
        "outputId": "94d2e146-255f-4bb8-c975-687a8ebc3939"
      },
      "execution_count": null,
      "outputs": [
        {
          "output_type": "stream",
          "name": "stdout",
          "text": [
            "30.87348080790417\n"
          ]
        }
      ],
      "id": "3BBbuo8hh3pO"
    },
    {
      "cell_type": "code",
      "source": [
        "# 재구매 시 쿠폰 사용 비율\n",
        "print(df_repeat_order['coupon_title'].count()/(df_repeat_order['coupon_title'].count()+df_repeat_order['coupon_title'].isna().sum())*100)"
      ],
      "metadata": {
        "colab": {
          "base_uri": "https://localhost:8080/"
        },
        "id": "4-vEAtmtrVum",
        "outputId": "d4594fc8-423b-495a-9a44-db0c43ed76ab"
      },
      "id": "4-vEAtmtrVum",
      "execution_count": null,
      "outputs": [
        {
          "output_type": "stream",
          "name": "stdout",
          "text": [
            "29.349682852867566\n"
          ]
        }
      ]
    },
    {
      "cell_type": "code",
      "source": [
        "# 사용 횟수 200회 이상인 쿠폰\n",
        "df.coupon_title.value_counts().loc[df.coupon_title.value_counts() > 200]"
      ],
      "metadata": {
        "colab": {
          "base_uri": "https://localhost:8080/"
        },
        "id": "Z4c7b7wBg68I",
        "outputId": "61c0aded-202c-44f6-8360-0108ff4367f8"
      },
      "execution_count": null,
      "outputs": [
        {
          "output_type": "execute_result",
          "data": {
            "text/plain": [
              "[웰컴쿠폰] 올인원 패키지 2만원 할인 쿠폰                              5498\n",
              "[WELCOME] 온라인 강의 3만원 할인쿠폰                             3206\n",
              "[웰컴쿠폰] 올인원 패키지 1만원 할인 쿠폰                              2469\n",
              "[WELCOME] 온라인 강의 2만원 할인쿠폰                             2325\n",
              "[WELCOME] 온라인 강의 1만원 할인쿠폰                             1900\n",
              "8월 1+1 프로모션 쿠폰                                        1458\n",
              "4월 1+1 페이백 이벤트 쿠폰                                     1350\n",
              "[웰컴쿠폰] 올인원 패키지 3만원 할인 쿠폰                              1284\n",
              "[미래투자금] 온라인 강의 2만원 할인쿠폰                               1274\n",
              "5월 페이백 프로모션 쿠폰                                        1126\n",
              "7월 100% 페이백 프로모션 쿠폰                                   1101\n",
              "수강생 50만명 돌파 기념 감사제 쿠폰                                  875\n",
              "[일주일한정] 플러스 친구 1만원 즉시할인 쿠폰                             601\n",
              "[럭키룰렛] 올인원패키지                                          595\n",
              "[웰컴쿠폰] 온라인 완주반 10% 할인 쿠폰                               588\n",
              "[미래투자금] 온라인 강의 1만원 할인쿠폰                                475\n",
              "한 번에 끝내는 Java/Sring 웹 개발 마스터 초격차 패키지 무료 쿠폰 (-2/28)     346\n",
              "[특별쿠폰] 올인원 패키지 : Node 웹 프로그래밍 구매자                      326\n",
              "[20% 할인] 완주반 1주년 기념 쿠폰                                 242\n",
              "6월 반값특가 프로모션 쿠폰                                        240\n",
              "[용호수 영상 심화 강의] 30% 할인 쿠폰                               236\n",
              "Name: coupon_title, dtype: int64"
            ]
          },
          "metadata": {},
          "execution_count": 235
        }
      ],
      "id": "Z4c7b7wBg68I"
    },
    {
      "cell_type": "code",
      "source": [
        "# 재구매 시 사용 횟수 200회 이상인 쿠폰\n",
        "df_repeat_order.coupon_title.value_counts().loc[df_repeat_order.coupon_title.value_counts() > 200]"
      ],
      "metadata": {
        "colab": {
          "base_uri": "https://localhost:8080/"
        },
        "id": "0PBA3LsrwO5E",
        "outputId": "cb896bba-0dc0-4ad3-ad49-877b61f8e88d"
      },
      "id": "0PBA3LsrwO5E",
      "execution_count": null,
      "outputs": [
        {
          "output_type": "execute_result",
          "data": {
            "text/plain": [
              "[웰컴쿠폰] 올인원 패키지 2만원 할인 쿠폰      4135\n",
              "[웰컴쿠폰] 올인원 패키지 1만원 할인 쿠폰      1877\n",
              "[WELCOME] 온라인 강의 3만원 할인쿠폰     1575\n",
              "4월 1+1 페이백 이벤트 쿠폰             1261\n",
              "[WELCOME] 온라인 강의 2만원 할인쿠폰     1214\n",
              "8월 1+1 프로모션 쿠폰                1195\n",
              "5월 페이백 프로모션 쿠폰                1066\n",
              "[WELCOME] 온라인 강의 1만원 할인쿠폰     1056\n",
              "[웰컴쿠폰] 올인원 패키지 3만원 할인 쿠폰       998\n",
              "7월 100% 페이백 프로모션 쿠폰            901\n",
              "수강생 50만명 돌파 기념 감사제 쿠폰          574\n",
              "[럭키룰렛] 올인원패키지                  521\n",
              "[미래투자금] 온라인 강의 2만원 할인쿠폰        513\n",
              "[웰컴쿠폰] 온라인 완주반 10% 할인 쿠폰       471\n",
              "[일주일한정] 플러스 친구 1만원 즉시할인 쿠폰     449\n",
              "6월 반값특가 프로모션 쿠폰                232\n",
              "[미래투자금] 온라인 강의 1만원 할인쿠폰        205\n",
              "[20% 할인] 완주반 1주년 기념 쿠폰         203\n",
              "Name: coupon_title, dtype: int64"
            ]
          },
          "metadata": {},
          "execution_count": 233
        }
      ]
    },
    {
      "cell_type": "markdown",
      "source": [
        "재구매 시 쿠폰 사용 비율이 전체 쿠폰 사용 비율보다 적게 나온다.\n",
        "\n",
        "재구매 시 사용할 수 있는 쿠폰을 여러 종류 발행한다면 강의를 재구매하는 사용자가 늘어나 매출이 증가 할 것으로 예상된다."
      ],
      "metadata": {
        "id": "AOL6huYftN34"
      },
      "id": "AOL6huYftN34"
    },
    {
      "cell_type": "markdown",
      "source": [
        "##환불 관련 데이터"
      ],
      "metadata": {
        "id": "o3rmxSlOjKKV"
      },
      "id": "o3rmxSlOjKKV"
    },
    {
      "cell_type": "code",
      "source": [
        "# type 열에서 PAYMENT, REFUND 이외 제거\n",
        "df_ORDER_delete = df[df.type.isin(['PAYMENT', 'REFUND'])]  \n",
        "df_ORDER_delete.head(2)"
      ],
      "metadata": {
        "colab": {
          "base_uri": "https://localhost:8080/",
          "height": 292
        },
        "id": "Hd9VF5-sk6LY",
        "outputId": "af3caf1a-1ae1-4d10-975c-91f8f000fec4"
      },
      "id": "Hd9VF5-sk6LY",
      "execution_count": null,
      "outputs": [
        {
          "output_type": "execute_result",
          "data": {
            "text/plain": [
              "       id  customer_id  course_id     type      state  \\\n",
              "2  970657      72297.0   204246.0  PAYMENT  COMPLETED   \n",
              "4  970658     478028.0   201797.0  PAYMENT  COMPLETED   \n",
              "\n",
              "                    course_title category_title  format        completed_at  \\\n",
              "2           시크릿코드 : 프론트엔드 실무 완성편          프로그래밍  스쿨 온라인 2021-03-28 15:21:43   \n",
              "4  올인원 패키지 : 직장인 필수 스킬 3종 세트 MAX         업무 생산성     올인원 2021-03-28 15:21:54   \n",
              "\n",
              "   transaction_amount  ... sale_price  tax_free_amount   pg  method  \\\n",
              "2              171810  ...   190900.0         190900.0  NaN    CARD   \n",
              "4               97500  ...   117500.0         117500.0  NaN    CARD   \n",
              "\n",
              "  subcategory_title marketing_start_at repeat_order            period  \\\n",
              "2               NaN         2021-03-04         True  24 days 15:21:43   \n",
              "4           PPT/보고서         2019-11-14         True 500 days 15:21:54   \n",
              "\n",
              "   period_quartile completed_month  \n",
              "2             ~30일            None  \n",
              "4          250일 초과            None  \n",
              "\n",
              "[2 rows x 22 columns]"
            ],
            "text/html": [
              "\n",
              "  <div id=\"df-3e4310c7-fbc9-4772-bddd-16301050fc38\">\n",
              "    <div class=\"colab-df-container\">\n",
              "      <div>\n",
              "<style scoped>\n",
              "    .dataframe tbody tr th:only-of-type {\n",
              "        vertical-align: middle;\n",
              "    }\n",
              "\n",
              "    .dataframe tbody tr th {\n",
              "        vertical-align: top;\n",
              "    }\n",
              "\n",
              "    .dataframe thead th {\n",
              "        text-align: right;\n",
              "    }\n",
              "</style>\n",
              "<table border=\"1\" class=\"dataframe\">\n",
              "  <thead>\n",
              "    <tr style=\"text-align: right;\">\n",
              "      <th></th>\n",
              "      <th>id</th>\n",
              "      <th>customer_id</th>\n",
              "      <th>course_id</th>\n",
              "      <th>type</th>\n",
              "      <th>state</th>\n",
              "      <th>course_title</th>\n",
              "      <th>category_title</th>\n",
              "      <th>format</th>\n",
              "      <th>completed_at</th>\n",
              "      <th>transaction_amount</th>\n",
              "      <th>...</th>\n",
              "      <th>sale_price</th>\n",
              "      <th>tax_free_amount</th>\n",
              "      <th>pg</th>\n",
              "      <th>method</th>\n",
              "      <th>subcategory_title</th>\n",
              "      <th>marketing_start_at</th>\n",
              "      <th>repeat_order</th>\n",
              "      <th>period</th>\n",
              "      <th>period_quartile</th>\n",
              "      <th>completed_month</th>\n",
              "    </tr>\n",
              "  </thead>\n",
              "  <tbody>\n",
              "    <tr>\n",
              "      <th>2</th>\n",
              "      <td>970657</td>\n",
              "      <td>72297.0</td>\n",
              "      <td>204246.0</td>\n",
              "      <td>PAYMENT</td>\n",
              "      <td>COMPLETED</td>\n",
              "      <td>시크릿코드 : 프론트엔드 실무 완성편</td>\n",
              "      <td>프로그래밍</td>\n",
              "      <td>스쿨 온라인</td>\n",
              "      <td>2021-03-28 15:21:43</td>\n",
              "      <td>171810</td>\n",
              "      <td>...</td>\n",
              "      <td>190900.0</td>\n",
              "      <td>190900.0</td>\n",
              "      <td>NaN</td>\n",
              "      <td>CARD</td>\n",
              "      <td>NaN</td>\n",
              "      <td>2021-03-04</td>\n",
              "      <td>True</td>\n",
              "      <td>24 days 15:21:43</td>\n",
              "      <td>~30일</td>\n",
              "      <td>None</td>\n",
              "    </tr>\n",
              "    <tr>\n",
              "      <th>4</th>\n",
              "      <td>970658</td>\n",
              "      <td>478028.0</td>\n",
              "      <td>201797.0</td>\n",
              "      <td>PAYMENT</td>\n",
              "      <td>COMPLETED</td>\n",
              "      <td>올인원 패키지 : 직장인 필수 스킬 3종 세트 MAX</td>\n",
              "      <td>업무 생산성</td>\n",
              "      <td>올인원</td>\n",
              "      <td>2021-03-28 15:21:54</td>\n",
              "      <td>97500</td>\n",
              "      <td>...</td>\n",
              "      <td>117500.0</td>\n",
              "      <td>117500.0</td>\n",
              "      <td>NaN</td>\n",
              "      <td>CARD</td>\n",
              "      <td>PPT/보고서</td>\n",
              "      <td>2019-11-14</td>\n",
              "      <td>True</td>\n",
              "      <td>500 days 15:21:54</td>\n",
              "      <td>250일 초과</td>\n",
              "      <td>None</td>\n",
              "    </tr>\n",
              "  </tbody>\n",
              "</table>\n",
              "<p>2 rows × 22 columns</p>\n",
              "</div>\n",
              "      <button class=\"colab-df-convert\" onclick=\"convertToInteractive('df-3e4310c7-fbc9-4772-bddd-16301050fc38')\"\n",
              "              title=\"Convert this dataframe to an interactive table.\"\n",
              "              style=\"display:none;\">\n",
              "        \n",
              "  <svg xmlns=\"http://www.w3.org/2000/svg\" height=\"24px\"viewBox=\"0 0 24 24\"\n",
              "       width=\"24px\">\n",
              "    <path d=\"M0 0h24v24H0V0z\" fill=\"none\"/>\n",
              "    <path d=\"M18.56 5.44l.94 2.06.94-2.06 2.06-.94-2.06-.94-.94-2.06-.94 2.06-2.06.94zm-11 1L8.5 8.5l.94-2.06 2.06-.94-2.06-.94L8.5 2.5l-.94 2.06-2.06.94zm10 10l.94 2.06.94-2.06 2.06-.94-2.06-.94-.94-2.06-.94 2.06-2.06.94z\"/><path d=\"M17.41 7.96l-1.37-1.37c-.4-.4-.92-.59-1.43-.59-.52 0-1.04.2-1.43.59L10.3 9.45l-7.72 7.72c-.78.78-.78 2.05 0 2.83L4 21.41c.39.39.9.59 1.41.59.51 0 1.02-.2 1.41-.59l7.78-7.78 2.81-2.81c.8-.78.8-2.07 0-2.86zM5.41 20L4 18.59l7.72-7.72 1.47 1.35L5.41 20z\"/>\n",
              "  </svg>\n",
              "      </button>\n",
              "      \n",
              "  <style>\n",
              "    .colab-df-container {\n",
              "      display:flex;\n",
              "      flex-wrap:wrap;\n",
              "      gap: 12px;\n",
              "    }\n",
              "\n",
              "    .colab-df-convert {\n",
              "      background-color: #E8F0FE;\n",
              "      border: none;\n",
              "      border-radius: 50%;\n",
              "      cursor: pointer;\n",
              "      display: none;\n",
              "      fill: #1967D2;\n",
              "      height: 32px;\n",
              "      padding: 0 0 0 0;\n",
              "      width: 32px;\n",
              "    }\n",
              "\n",
              "    .colab-df-convert:hover {\n",
              "      background-color: #E2EBFA;\n",
              "      box-shadow: 0px 1px 2px rgba(60, 64, 67, 0.3), 0px 1px 3px 1px rgba(60, 64, 67, 0.15);\n",
              "      fill: #174EA6;\n",
              "    }\n",
              "\n",
              "    [theme=dark] .colab-df-convert {\n",
              "      background-color: #3B4455;\n",
              "      fill: #D2E3FC;\n",
              "    }\n",
              "\n",
              "    [theme=dark] .colab-df-convert:hover {\n",
              "      background-color: #434B5C;\n",
              "      box-shadow: 0px 1px 3px 1px rgba(0, 0, 0, 0.15);\n",
              "      filter: drop-shadow(0px 1px 2px rgba(0, 0, 0, 0.3));\n",
              "      fill: #FFFFFF;\n",
              "    }\n",
              "  </style>\n",
              "\n",
              "      <script>\n",
              "        const buttonEl =\n",
              "          document.querySelector('#df-3e4310c7-fbc9-4772-bddd-16301050fc38 button.colab-df-convert');\n",
              "        buttonEl.style.display =\n",
              "          google.colab.kernel.accessAllowed ? 'block' : 'none';\n",
              "\n",
              "        async function convertToInteractive(key) {\n",
              "          const element = document.querySelector('#df-3e4310c7-fbc9-4772-bddd-16301050fc38');\n",
              "          const dataTable =\n",
              "            await google.colab.kernel.invokeFunction('convertToInteractive',\n",
              "                                                     [key], {});\n",
              "          if (!dataTable) return;\n",
              "\n",
              "          const docLinkHtml = 'Like what you see? Visit the ' +\n",
              "            '<a target=\"_blank\" href=https://colab.research.google.com/notebooks/data_table.ipynb>data table notebook</a>'\n",
              "            + ' to learn more about interactive tables.';\n",
              "          element.innerHTML = '';\n",
              "          dataTable['output_type'] = 'display_data';\n",
              "          await google.colab.output.renderOutput(dataTable, element);\n",
              "          const docLink = document.createElement('div');\n",
              "          docLink.innerHTML = docLinkHtml;\n",
              "          element.appendChild(docLink);\n",
              "        }\n",
              "      </script>\n",
              "    </div>\n",
              "  </div>\n",
              "  "
            ]
          },
          "metadata": {},
          "execution_count": 138
        }
      ]
    },
    {
      "cell_type": "code",
      "source": [
        "# 결제, 환불 value_counts\n",
        "df_ORDER_delete['type'].value_counts()"
      ],
      "metadata": {
        "colab": {
          "base_uri": "https://localhost:8080/"
        },
        "id": "KvMHNqmdy1zG",
        "outputId": "241f49c7-cd73-4d17-8da5-182be9366ab0"
      },
      "id": "KvMHNqmdy1zG",
      "execution_count": null,
      "outputs": [
        {
          "output_type": "execute_result",
          "data": {
            "text/plain": [
              "PAYMENT    59437\n",
              "REFUND      3642\n",
              "Name: type, dtype: int64"
            ]
          },
          "metadata": {},
          "execution_count": 139
        }
      ]
    },
    {
      "cell_type": "code",
      "source": [
        "# 환불율\n",
        "print(f'{\"%0.4f\"%(3824/(3824+61433)*100)}%')"
      ],
      "metadata": {
        "colab": {
          "base_uri": "https://localhost:8080/"
        },
        "id": "0HpfHK8B27xi",
        "outputId": "b6ac56dc-d5a5-4a2c-fcee-62e465b0ea30"
      },
      "id": "0HpfHK8B27xi",
      "execution_count": null,
      "outputs": [
        {
          "output_type": "stream",
          "name": "stdout",
          "text": [
            "5.8599%\n"
          ]
        }
      ]
    },
    {
      "cell_type": "code",
      "source": [
        "# 환불 0% 시 매출 상승률\n",
        "print(f'{\"%0.4f\"%(100/(100-5.86)*100)}%')"
      ],
      "metadata": {
        "colab": {
          "base_uri": "https://localhost:8080/"
        },
        "id": "FaqBfCqW3Geg",
        "outputId": "a3df9b65-ece7-46f4-e937-19b455b1c3f9"
      },
      "id": "FaqBfCqW3Geg",
      "execution_count": null,
      "outputs": [
        {
          "output_type": "stream",
          "name": "stdout",
          "text": [
            "106.2248%\n"
          ]
        }
      ]
    },
    {
      "cell_type": "markdown",
      "source": [
        "환불 문제 해결 시 약 6%의 매출 상승을 기대할 수 있다."
      ],
      "metadata": {
        "id": "JUjwne113Acm"
      },
      "id": "JUjwne113Acm"
    },
    {
      "cell_type": "code",
      "source": [
        "# 결제, 환불 count\n",
        "fig = plt.figure(figsize=(10,8)) \n",
        "sns.countplot(data = df_ORDER_delete, x = \"type\", order = df_ORDER_delete['type'].value_counts().index)"
      ],
      "metadata": {
        "colab": {
          "base_uri": "https://localhost:8080/",
          "height": 515
        },
        "id": "KkaxBljJtj4o",
        "outputId": "67580a1f-95f3-4292-d36c-ffc1b08cfdd3"
      },
      "id": "KkaxBljJtj4o",
      "execution_count": null,
      "outputs": [
        {
          "output_type": "execute_result",
          "data": {
            "text/plain": [
              "<matplotlib.axes._subplots.AxesSubplot at 0x7f369fb45f10>"
            ]
          },
          "metadata": {},
          "execution_count": 142
        },
        {
          "output_type": "display_data",
          "data": {
            "text/plain": [
              "<Figure size 720x576 with 1 Axes>"
            ],
            "image/png": "[encoded data removed]"
          },
          "metadata": {
            "needs_background": "light"
          }
        }
      ]
    },
    {
      "cell_type": "code",
      "source": [
        "# 판매 시작일로부터 강의 구매일 사이의 기간\n",
        "df['period']=df['completed_at']-df['marketing_start_at']\n",
        "df.head()"
      ],
      "metadata": {
        "colab": {
          "base_uri": "https://localhost:8080/",
          "height": 618
        },
        "id": "MDsTBIoDcm2_",
        "outputId": "d8b9e20d-a80a-4b14-a599-7cf34a27c630"
      },
      "id": "MDsTBIoDcm2_",
      "execution_count": null,
      "outputs": [
        {
          "output_type": "stream",
          "name": "stderr",
          "text": [
            "/usr/local/lib/python3.7/dist-packages/ipykernel_launcher.py:2: SettingWithCopyWarning: \n",
            "A value is trying to be set on a copy of a slice from a DataFrame.\n",
            "Try using .loc[row_indexer,col_indexer] = value instead\n",
            "\n",
            "See the caveats in the documentation: https://pandas.pydata.org/pandas-docs/stable/user_guide/indexing.html#returning-a-view-versus-a-copy\n",
            "  \n"
          ]
        },
        {
          "output_type": "execute_result",
          "data": {
            "text/plain": [
              "       id  customer_id  course_id     type      state  \\\n",
              "0  970634     504760.0   201435.0    ORDER  CANCELLED   \n",
              "1  970650     432862.0   203178.0    ORDER  CANCELLED   \n",
              "2  970657      72297.0   204246.0  PAYMENT  COMPLETED   \n",
              "3  970656      72297.0   204246.0    ORDER  CANCELLED   \n",
              "4  970658     478028.0   201797.0  PAYMENT  COMPLETED   \n",
              "\n",
              "                    course_title category_title  format        completed_at  \\\n",
              "0      올인원 패키지 : 알고리즘 기술면접 완전 정복          프로그래밍     올인원 2021-03-28 15:00:11   \n",
              "1    초격차 패키지 : 한번에 끝내는 영상 촬영과 편집          영상/3D     올인원 2021-03-28 15:16:53   \n",
              "2           시크릿코드 : 프론트엔드 실무 완성편          프로그래밍  스쿨 온라인 2021-03-28 15:21:43   \n",
              "3           시크릿코드 : 프론트엔드 실무 완성편          프로그래밍  스쿨 온라인 2021-03-28 15:21:43   \n",
              "4  올인원 패키지 : 직장인 필수 스킬 3종 세트 MAX         업무 생산성     올인원 2021-03-28 15:21:54   \n",
              "\n",
              "   transaction_amount  ... sale_price  tax_free_amount   pg  method  \\\n",
              "0               90500  ...   110500.0         110500.0  NaN   VBANK   \n",
              "1               96000  ...   116000.0         116000.0  NaN    CARD   \n",
              "2              171810  ...   190900.0         190900.0  NaN    CARD   \n",
              "3              171810  ...   190900.0         190900.0  NaN    CARD   \n",
              "4               97500  ...   117500.0         117500.0  NaN    CARD   \n",
              "\n",
              "  subcategory_title marketing_start_at repeat_order            period  \\\n",
              "0           개발자 커리어                NaT        False               NaT   \n",
              "1             영상 편집         2020-12-02        False 116 days 15:16:53   \n",
              "2               NaN         2021-03-04         True  24 days 15:21:43   \n",
              "3               NaN         2021-03-04         True  24 days 15:21:43   \n",
              "4           PPT/보고서         2019-11-14         True 500 days 15:21:54   \n",
              "\n",
              "   period_quartile completed_month  \n",
              "0          250일 초과            None  \n",
              "1            ~250일            None  \n",
              "2             ~30일            None  \n",
              "3             ~30일            None  \n",
              "4          250일 초과            None  \n",
              "\n",
              "[5 rows x 22 columns]"
            ],
            "text/html": [
              "\n",
              "  <div id=\"df-66fa6bef-821d-424c-acf2-74043bce4a9a\">\n",
              "    <div class=\"colab-df-container\">\n",
              "      <div>\n",
              "<style scoped>\n",
              "    .dataframe tbody tr th:only-of-type {\n",
              "        vertical-align: middle;\n",
              "    }\n",
              "\n",
              "    .dataframe tbody tr th {\n",
              "        vertical-align: top;\n",
              "    }\n",
              "\n",
              "    .dataframe thead th {\n",
              "        text-align: right;\n",
              "    }\n",
              "</style>\n",
              "<table border=\"1\" class=\"dataframe\">\n",
              "  <thead>\n",
              "    <tr style=\"text-align: right;\">\n",
              "      <th></th>\n",
              "      <th>id</th>\n",
              "      <th>customer_id</th>\n",
              "      <th>course_id</th>\n",
              "      <th>type</th>\n",
              "      <th>state</th>\n",
              "      <th>course_title</th>\n",
              "      <th>category_title</th>\n",
              "      <th>format</th>\n",
              "      <th>completed_at</th>\n",
              "      <th>transaction_amount</th>\n",
              "      <th>...</th>\n",
              "      <th>sale_price</th>\n",
              "      <th>tax_free_amount</th>\n",
              "      <th>pg</th>\n",
              "      <th>method</th>\n",
              "      <th>subcategory_title</th>\n",
              "      <th>marketing_start_at</th>\n",
              "      <th>repeat_order</th>\n",
              "      <th>period</th>\n",
              "      <th>period_quartile</th>\n",
              "      <th>completed_month</th>\n",
              "    </tr>\n",
              "  </thead>\n",
              "  <tbody>\n",
              "    <tr>\n",
              "      <th>0</th>\n",
              "      <td>970634</td>\n",
              "      <td>504760.0</td>\n",
              "      <td>201435.0</td>\n",
              "      <td>ORDER</td>\n",
              "      <td>CANCELLED</td>\n",
              "      <td>올인원 패키지 : 알고리즘 기술면접 완전 정복</td>\n",
              "      <td>프로그래밍</td>\n",
              "      <td>올인원</td>\n",
              "      <td>2021-03-28 15:00:11</td>\n",
              "      <td>90500</td>\n",
              "      <td>...</td>\n",
              "      <td>110500.0</td>\n",
              "      <td>110500.0</td>\n",
              "      <td>NaN</td>\n",
              "      <td>VBANK</td>\n",
              "      <td>개발자 커리어</td>\n",
              "      <td>NaT</td>\n",
              "      <td>False</td>\n",
              "      <td>NaT</td>\n",
              "      <td>250일 초과</td>\n",
              "      <td>None</td>\n",
              "    </tr>\n",
              "    <tr>\n",
              "      <th>1</th>\n",
              "      <td>970650</td>\n",
              "      <td>432862.0</td>\n",
              "      <td>203178.0</td>\n",
              "      <td>ORDER</td>\n",
              "      <td>CANCELLED</td>\n",
              "      <td>초격차 패키지 : 한번에 끝내는 영상 촬영과 편집</td>\n",
              "      <td>영상/3D</td>\n",
              "      <td>올인원</td>\n",
              "      <td>2021-03-28 15:16:53</td>\n",
              "      <td>96000</td>\n",
              "      <td>...</td>\n",
              "      <td>116000.0</td>\n",
              "      <td>116000.0</td>\n",
              "      <td>NaN</td>\n",
              "      <td>CARD</td>\n",
              "      <td>영상 편집</td>\n",
              "      <td>2020-12-02</td>\n",
              "      <td>False</td>\n",
              "      <td>116 days 15:16:53</td>\n",
              "      <td>~250일</td>\n",
              "      <td>None</td>\n",
              "    </tr>\n",
              "    <tr>\n",
              "      <th>2</th>\n",
              "      <td>970657</td>\n",
              "      <td>72297.0</td>\n",
              "      <td>204246.0</td>\n",
              "      <td>PAYMENT</td>\n",
              "      <td>COMPLETED</td>\n",
              "      <td>시크릿코드 : 프론트엔드 실무 완성편</td>\n",
              "      <td>프로그래밍</td>\n",
              "      <td>스쿨 온라인</td>\n",
              "      <td>2021-03-28 15:21:43</td>\n",
              "      <td>171810</td>\n",
              "      <td>...</td>\n",
              "      <td>190900.0</td>\n",
              "      <td>190900.0</td>\n",
              "      <td>NaN</td>\n",
              "      <td>CARD</td>\n",
              "      <td>NaN</td>\n",
              "      <td>2021-03-04</td>\n",
              "      <td>True</td>\n",
              "      <td>24 days 15:21:43</td>\n",
              "      <td>~30일</td>\n",
              "      <td>None</td>\n",
              "    </tr>\n",
              "    <tr>\n",
              "      <th>3</th>\n",
              "      <td>970656</td>\n",
              "      <td>72297.0</td>\n",
              "      <td>204246.0</td>\n",
              "      <td>ORDER</td>\n",
              "      <td>CANCELLED</td>\n",
              "      <td>시크릿코드 : 프론트엔드 실무 완성편</td>\n",
              "      <td>프로그래밍</td>\n",
              "      <td>스쿨 온라인</td>\n",
              "      <td>2021-03-28 15:21:43</td>\n",
              "      <td>171810</td>\n",
              "      <td>...</td>\n",
              "      <td>190900.0</td>\n",
              "      <td>190900.0</td>\n",
              "      <td>NaN</td>\n",
              "      <td>CARD</td>\n",
              "      <td>NaN</td>\n",
              "      <td>2021-03-04</td>\n",
              "      <td>True</td>\n",
              "      <td>24 days 15:21:43</td>\n",
              "      <td>~30일</td>\n",
              "      <td>None</td>\n",
              "    </tr>\n",
              "    <tr>\n",
              "      <th>4</th>\n",
              "      <td>970658</td>\n",
              "      <td>478028.0</td>\n",
              "      <td>201797.0</td>\n",
              "      <td>PAYMENT</td>\n",
              "      <td>COMPLETED</td>\n",
              "      <td>올인원 패키지 : 직장인 필수 스킬 3종 세트 MAX</td>\n",
              "      <td>업무 생산성</td>\n",
              "      <td>올인원</td>\n",
              "      <td>2021-03-28 15:21:54</td>\n",
              "      <td>97500</td>\n",
              "      <td>...</td>\n",
              "      <td>117500.0</td>\n",
              "      <td>117500.0</td>\n",
              "      <td>NaN</td>\n",
              "      <td>CARD</td>\n",
              "      <td>PPT/보고서</td>\n",
              "      <td>2019-11-14</td>\n",
              "      <td>True</td>\n",
              "      <td>500 days 15:21:54</td>\n",
              "      <td>250일 초과</td>\n",
              "      <td>None</td>\n",
              "    </tr>\n",
              "  </tbody>\n",
              "</table>\n",
              "<p>5 rows × 22 columns</p>\n",
              "</div>\n",
              "      <button class=\"colab-df-convert\" onclick=\"convertToInteractive('df-66fa6bef-821d-424c-acf2-74043bce4a9a')\"\n",
              "              title=\"Convert this dataframe to an interactive table.\"\n",
              "              style=\"display:none;\">\n",
              "        \n",
              "  <svg xmlns=\"http://www.w3.org/2000/svg\" height=\"24px\"viewBox=\"0 0 24 24\"\n",
              "       width=\"24px\">\n",
              "    <path d=\"M0 0h24v24H0V0z\" fill=\"none\"/>\n",
              "    <path d=\"M18.56 5.44l.94 2.06.94-2.06 2.06-.94-2.06-.94-.94-2.06-.94 2.06-2.06.94zm-11 1L8.5 8.5l.94-2.06 2.06-.94-2.06-.94L8.5 2.5l-.94 2.06-2.06.94zm10 10l.94 2.06.94-2.06 2.06-.94-2.06-.94-.94-2.06-.94 2.06-2.06.94z\"/><path d=\"M17.41 7.96l-1.37-1.37c-.4-.4-.92-.59-1.43-.59-.52 0-1.04.2-1.43.59L10.3 9.45l-7.72 7.72c-.78.78-.78 2.05 0 2.83L4 21.41c.39.39.9.59 1.41.59.51 0 1.02-.2 1.41-.59l7.78-7.78 2.81-2.81c.8-.78.8-2.07 0-2.86zM5.41 20L4 18.59l7.72-7.72 1.47 1.35L5.41 20z\"/>\n",
              "  </svg>\n",
              "      </button>\n",
              "      \n",
              "  <style>\n",
              "    .colab-df-container {\n",
              "      display:flex;\n",
              "      flex-wrap:wrap;\n",
              "      gap: 12px;\n",
              "    }\n",
              "\n",
              "    .colab-df-convert {\n",
              "      background-color: #E8F0FE;\n",
              "      border: none;\n",
              "      border-radius: 50%;\n",
              "      cursor: pointer;\n",
              "      display: none;\n",
              "      fill: #1967D2;\n",
              "      height: 32px;\n",
              "      padding: 0 0 0 0;\n",
              "      width: 32px;\n",
              "    }\n",
              "\n",
              "    .colab-df-convert:hover {\n",
              "      background-color: #E2EBFA;\n",
              "      box-shadow: 0px 1px 2px rgba(60, 64, 67, 0.3), 0px 1px 3px 1px rgba(60, 64, 67, 0.15);\n",
              "      fill: #174EA6;\n",
              "    }\n",
              "\n",
              "    [theme=dark] .colab-df-convert {\n",
              "      background-color: #3B4455;\n",
              "      fill: #D2E3FC;\n",
              "    }\n",
              "\n",
              "    [theme=dark] .colab-df-convert:hover {\n",
              "      background-color: #434B5C;\n",
              "      box-shadow: 0px 1px 3px 1px rgba(0, 0, 0, 0.15);\n",
              "      filter: drop-shadow(0px 1px 2px rgba(0, 0, 0, 0.3));\n",
              "      fill: #FFFFFF;\n",
              "    }\n",
              "  </style>\n",
              "\n",
              "      <script>\n",
              "        const buttonEl =\n",
              "          document.querySelector('#df-66fa6bef-821d-424c-acf2-74043bce4a9a button.colab-df-convert');\n",
              "        buttonEl.style.display =\n",
              "          google.colab.kernel.accessAllowed ? 'block' : 'none';\n",
              "\n",
              "        async function convertToInteractive(key) {\n",
              "          const element = document.querySelector('#df-66fa6bef-821d-424c-acf2-74043bce4a9a');\n",
              "          const dataTable =\n",
              "            await google.colab.kernel.invokeFunction('convertToInteractive',\n",
              "                                                     [key], {});\n",
              "          if (!dataTable) return;\n",
              "\n",
              "          const docLinkHtml = 'Like what you see? Visit the ' +\n",
              "            '<a target=\"_blank\" href=https://colab.research.google.com/notebooks/data_table.ipynb>data table notebook</a>'\n",
              "            + ' to learn more about interactive tables.';\n",
              "          element.innerHTML = '';\n",
              "          dataTable['output_type'] = 'display_data';\n",
              "          await google.colab.output.renderOutput(dataTable, element);\n",
              "          const docLink = document.createElement('div');\n",
              "          docLink.innerHTML = docLinkHtml;\n",
              "          element.appendChild(docLink);\n",
              "        }\n",
              "      </script>\n",
              "    </div>\n",
              "  </div>\n",
              "  "
            ]
          },
          "metadata": {},
          "execution_count": 143
        }
      ]
    },
    {
      "cell_type": "code",
      "source": [
        "df['period'].describe()"
      ],
      "metadata": {
        "colab": {
          "base_uri": "https://localhost:8080/"
        },
        "id": "hO1CDPn_LAP_",
        "outputId": "d3804db3-7aec-4c3c-cada-00d5580f1cc1"
      },
      "id": "hO1CDPn_LAP_",
      "execution_count": null,
      "outputs": [
        {
          "output_type": "execute_result",
          "data": {
            "text/plain": [
              "count                          87439\n",
              "mean     180 days 22:49:56.259666738\n",
              "std      203 days 07:49:05.552178536\n",
              "min                -7 days +04:12:20\n",
              "25%                 30 days 15:05:52\n",
              "50%                101 days 12:51:54\n",
              "75%                250 days 22:15:17\n",
              "max                950 days 16:45:00\n",
              "Name: period, dtype: object"
            ]
          },
          "metadata": {},
          "execution_count": 144
        }
      ]
    },
    {
      "cell_type": "code",
      "source": [
        "# 판매 시작일로부터 강의 구매일 사이의 기간 4분위로 구분\n",
        "def func(x) :                                     \n",
        "\n",
        "    if x <= datetime.timedelta(days=30): \n",
        "        return \"~30일\"\n",
        "    elif x <= datetime.timedelta(days=101):\n",
        "        return \"~101일\"\n",
        "    elif x <= datetime.timedelta(days=250):\n",
        "        return \"~250일\"\n",
        "    else:\n",
        "        return \"250일 초과\"\n",
        "\n",
        "\n",
        "df['period_quartile'] = df['period'].map(func)\n",
        "df['period_quartile'].head()"
      ],
      "metadata": {
        "colab": {
          "base_uri": "https://localhost:8080/"
        },
        "id": "T0xRNGaPkCxk",
        "outputId": "0f5aea34-1f2c-477d-e528-d2ef3052258e"
      },
      "id": "T0xRNGaPkCxk",
      "execution_count": null,
      "outputs": [
        {
          "output_type": "stream",
          "name": "stderr",
          "text": [
            "/usr/local/lib/python3.7/dist-packages/ipykernel_launcher.py:14: SettingWithCopyWarning: \n",
            "A value is trying to be set on a copy of a slice from a DataFrame.\n",
            "Try using .loc[row_indexer,col_indexer] = value instead\n",
            "\n",
            "See the caveats in the documentation: https://pandas.pydata.org/pandas-docs/stable/user_guide/indexing.html#returning-a-view-versus-a-copy\n",
            "  \n"
          ]
        },
        {
          "output_type": "execute_result",
          "data": {
            "text/plain": [
              "0    250일 초과\n",
              "1      ~250일\n",
              "2       ~30일\n",
              "3       ~30일\n",
              "4    250일 초과\n",
              "Name: period_quartile, dtype: object"
            ]
          },
          "metadata": {},
          "execution_count": 145
        }
      ]
    },
    {
      "cell_type": "code",
      "source": [
        "# type이 환불인 데이터만 \n",
        "df_refund = df[df.type=='REFUND']\n",
        "df_refund.head()"
      ],
      "metadata": {
        "colab": {
          "base_uri": "https://localhost:8080/",
          "height": 542
        },
        "id": "zBWFHMUR8oMb",
        "outputId": "c00b9fbc-e69b-4fe4-ee1c-77277dd2c857"
      },
      "id": "zBWFHMUR8oMb",
      "execution_count": null,
      "outputs": [
        {
          "output_type": "execute_result",
          "data": {
            "text/plain": [
              "         id  customer_id  course_id    type      state  \\\n",
              "651  972377     444760.0   204122.0  REFUND  COMPLETED   \n",
              "652  972381     472666.0   203178.0  REFUND  COMPLETED   \n",
              "666  972409     447177.0   203989.0  REFUND  COMPLETED   \n",
              "672  972422     373915.0   204264.0  REFUND  COMPLETED   \n",
              "675  972436     456086.0        NaN  REFUND  COMPLETED   \n",
              "\n",
              "                               course_title category_title   format  \\\n",
              "651                  퍼포먼스 마케터 되기 온라인 완주반 2기            마케팅  온라인 완주반   \n",
              "652             초격차 패키지 : 한번에 끝내는 영상 촬영과 편집          영상/3D      올인원   \n",
              "666      올인원 패키지 : 소금툰과 함께 캐릭터 드로잉/굿즈/임티/컷툰            디자인      올인원   \n",
              "672               데이터분석 프로젝트+자격증 온라인 완주반 3기        데이터사이언스  온라인 완주반   \n",
              "675  프로모션 :연봉 앞자리가 바뀌는 프론트엔드 한끝세트 (3월 프리패스)          프로그래밍      올인원   \n",
              "\n",
              "           completed_at  transaction_amount  ... sale_price  tax_free_amount  \\\n",
              "651 2021-03-29 09:24:43             -147000  ...   404000.0         404000.0   \n",
              "652 2021-03-29 09:26:13              -96000  ...   116000.0         116000.0   \n",
              "666 2021-03-29 09:40:54              -79000  ...    89000.0          89000.0   \n",
              "672 2021-03-29 09:44:01             -340000  ...   340000.0         340000.0   \n",
              "675 2021-03-29 09:47:17             -299000  ...   299000.0         299000.0   \n",
              "\n",
              "      pg  method subcategory_title marketing_start_at repeat_order  \\\n",
              "651  NaN   VBANK               NaN                NaT        False   \n",
              "652  NaN    CARD             영상 편집         2020-12-02        False   \n",
              "666  NaN    CARD              일러스트         2021-02-19        False   \n",
              "672  NaN   VBANK               NaN         2021-03-08        False   \n",
              "675  NaN    CARD               NaN                NaT        False   \n",
              "\n",
              "               period  period_quartile completed_month  \n",
              "651               NaT          250일 초과            None  \n",
              "652 117 days 09:26:13            ~250일            None  \n",
              "666  38 days 09:40:54            ~101일            None  \n",
              "672  21 days 09:44:01             ~30일            None  \n",
              "675               NaT          250일 초과            None  \n",
              "\n",
              "[5 rows x 22 columns]"
            ],
            "text/html": [
              "\n",
              "  <div id=\"df-1023122c-6915-483a-9073-a7d3693e8df3\">\n",
              "    <div class=\"colab-df-container\">\n",
              "      <div>\n",
              "<style scoped>\n",
              "    .dataframe tbody tr th:only-of-type {\n",
              "        vertical-align: middle;\n",
              "    }\n",
              "\n",
              "    .dataframe tbody tr th {\n",
              "        vertical-align: top;\n",
              "    }\n",
              "\n",
              "    .dataframe thead th {\n",
              "        text-align: right;\n",
              "    }\n",
              "</style>\n",
              "<table border=\"1\" class=\"dataframe\">\n",
              "  <thead>\n",
              "    <tr style=\"text-align: right;\">\n",
              "      <th></th>\n",
              "      <th>id</th>\n",
              "      <th>customer_id</th>\n",
              "      <th>course_id</th>\n",
              "      <th>type</th>\n",
              "      <th>state</th>\n",
              "      <th>course_title</th>\n",
              "      <th>category_title</th>\n",
              "      <th>format</th>\n",
              "      <th>completed_at</th>\n",
              "      <th>transaction_amount</th>\n",
              "      <th>...</th>\n",
              "      <th>sale_price</th>\n",
              "      <th>tax_free_amount</th>\n",
              "      <th>pg</th>\n",
              "      <th>method</th>\n",
              "      <th>subcategory_title</th>\n",
              "      <th>marketing_start_at</th>\n",
              "      <th>repeat_order</th>\n",
              "      <th>period</th>\n",
              "      <th>period_quartile</th>\n",
              "      <th>completed_month</th>\n",
              "    </tr>\n",
              "  </thead>\n",
              "  <tbody>\n",
              "    <tr>\n",
              "      <th>651</th>\n",
              "      <td>972377</td>\n",
              "      <td>444760.0</td>\n",
              "      <td>204122.0</td>\n",
              "      <td>REFUND</td>\n",
              "      <td>COMPLETED</td>\n",
              "      <td>퍼포먼스 마케터 되기 온라인 완주반 2기</td>\n",
              "      <td>마케팅</td>\n",
              "      <td>온라인 완주반</td>\n",
              "      <td>2021-03-29 09:24:43</td>\n",
              "      <td>-147000</td>\n",
              "      <td>...</td>\n",
              "      <td>404000.0</td>\n",
              "      <td>404000.0</td>\n",
              "      <td>NaN</td>\n",
              "      <td>VBANK</td>\n",
              "      <td>NaN</td>\n",
              "      <td>NaT</td>\n",
              "      <td>False</td>\n",
              "      <td>NaT</td>\n",
              "      <td>250일 초과</td>\n",
              "      <td>None</td>\n",
              "    </tr>\n",
              "    <tr>\n",
              "      <th>652</th>\n",
              "      <td>972381</td>\n",
              "      <td>472666.0</td>\n",
              "      <td>203178.0</td>\n",
              "      <td>REFUND</td>\n",
              "      <td>COMPLETED</td>\n",
              "      <td>초격차 패키지 : 한번에 끝내는 영상 촬영과 편집</td>\n",
              "      <td>영상/3D</td>\n",
              "      <td>올인원</td>\n",
              "      <td>2021-03-29 09:26:13</td>\n",
              "      <td>-96000</td>\n",
              "      <td>...</td>\n",
              "      <td>116000.0</td>\n",
              "      <td>116000.0</td>\n",
              "      <td>NaN</td>\n",
              "      <td>CARD</td>\n",
              "      <td>영상 편집</td>\n",
              "      <td>2020-12-02</td>\n",
              "      <td>False</td>\n",
              "      <td>117 days 09:26:13</td>\n",
              "      <td>~250일</td>\n",
              "      <td>None</td>\n",
              "    </tr>\n",
              "    <tr>\n",
              "      <th>666</th>\n",
              "      <td>972409</td>\n",
              "      <td>447177.0</td>\n",
              "      <td>203989.0</td>\n",
              "      <td>REFUND</td>\n",
              "      <td>COMPLETED</td>\n",
              "      <td>올인원 패키지 : 소금툰과 함께 캐릭터 드로잉/굿즈/임티/컷툰</td>\n",
              "      <td>디자인</td>\n",
              "      <td>올인원</td>\n",
              "      <td>2021-03-29 09:40:54</td>\n",
              "      <td>-79000</td>\n",
              "      <td>...</td>\n",
              "      <td>89000.0</td>\n",
              "      <td>89000.0</td>\n",
              "      <td>NaN</td>\n",
              "      <td>CARD</td>\n",
              "      <td>일러스트</td>\n",
              "      <td>2021-02-19</td>\n",
              "      <td>False</td>\n",
              "      <td>38 days 09:40:54</td>\n",
              "      <td>~101일</td>\n",
              "      <td>None</td>\n",
              "    </tr>\n",
              "    <tr>\n",
              "      <th>672</th>\n",
              "      <td>972422</td>\n",
              "      <td>373915.0</td>\n",
              "      <td>204264.0</td>\n",
              "      <td>REFUND</td>\n",
              "      <td>COMPLETED</td>\n",
              "      <td>데이터분석 프로젝트+자격증 온라인 완주반 3기</td>\n",
              "      <td>데이터사이언스</td>\n",
              "      <td>온라인 완주반</td>\n",
              "      <td>2021-03-29 09:44:01</td>\n",
              "      <td>-340000</td>\n",
              "      <td>...</td>\n",
              "      <td>340000.0</td>\n",
              "      <td>340000.0</td>\n",
              "      <td>NaN</td>\n",
              "      <td>VBANK</td>\n",
              "      <td>NaN</td>\n",
              "      <td>2021-03-08</td>\n",
              "      <td>False</td>\n",
              "      <td>21 days 09:44:01</td>\n",
              "      <td>~30일</td>\n",
              "      <td>None</td>\n",
              "    </tr>\n",
              "    <tr>\n",
              "      <th>675</th>\n",
              "      <td>972436</td>\n",
              "      <td>456086.0</td>\n",
              "      <td>NaN</td>\n",
              "      <td>REFUND</td>\n",
              "      <td>COMPLETED</td>\n",
              "      <td>프로모션 :연봉 앞자리가 바뀌는 프론트엔드 한끝세트 (3월 프리패스)</td>\n",
              "      <td>프로그래밍</td>\n",
              "      <td>올인원</td>\n",
              "      <td>2021-03-29 09:47:17</td>\n",
              "      <td>-299000</td>\n",
              "      <td>...</td>\n",
              "      <td>299000.0</td>\n",
              "      <td>299000.0</td>\n",
              "      <td>NaN</td>\n",
              "      <td>CARD</td>\n",
              "      <td>NaN</td>\n",
              "      <td>NaT</td>\n",
              "      <td>False</td>\n",
              "      <td>NaT</td>\n",
              "      <td>250일 초과</td>\n",
              "      <td>None</td>\n",
              "    </tr>\n",
              "  </tbody>\n",
              "</table>\n",
              "<p>5 rows × 22 columns</p>\n",
              "</div>\n",
              "      <button class=\"colab-df-convert\" onclick=\"convertToInteractive('df-1023122c-6915-483a-9073-a7d3693e8df3')\"\n",
              "              title=\"Convert this dataframe to an interactive table.\"\n",
              "              style=\"display:none;\">\n",
              "        \n",
              "  <svg xmlns=\"http://www.w3.org/2000/svg\" height=\"24px\"viewBox=\"0 0 24 24\"\n",
              "       width=\"24px\">\n",
              "    <path d=\"M0 0h24v24H0V0z\" fill=\"none\"/>\n",
              "    <path d=\"M18.56 5.44l.94 2.06.94-2.06 2.06-.94-2.06-.94-.94-2.06-.94 2.06-2.06.94zm-11 1L8.5 8.5l.94-2.06 2.06-.94-2.06-.94L8.5 2.5l-.94 2.06-2.06.94zm10 10l.94 2.06.94-2.06 2.06-.94-2.06-.94-.94-2.06-.94 2.06-2.06.94z\"/><path d=\"M17.41 7.96l-1.37-1.37c-.4-.4-.92-.59-1.43-.59-.52 0-1.04.2-1.43.59L10.3 9.45l-7.72 7.72c-.78.78-.78 2.05 0 2.83L4 21.41c.39.39.9.59 1.41.59.51 0 1.02-.2 1.41-.59l7.78-7.78 2.81-2.81c.8-.78.8-2.07 0-2.86zM5.41 20L4 18.59l7.72-7.72 1.47 1.35L5.41 20z\"/>\n",
              "  </svg>\n",
              "      </button>\n",
              "      \n",
              "  <style>\n",
              "    .colab-df-container {\n",
              "      display:flex;\n",
              "      flex-wrap:wrap;\n",
              "      gap: 12px;\n",
              "    }\n",
              "\n",
              "    .colab-df-convert {\n",
              "      background-color: #E8F0FE;\n",
              "      border: none;\n",
              "      border-radius: 50%;\n",
              "      cursor: pointer;\n",
              "      display: none;\n",
              "      fill: #1967D2;\n",
              "      height: 32px;\n",
              "      padding: 0 0 0 0;\n",
              "      width: 32px;\n",
              "    }\n",
              "\n",
              "    .colab-df-convert:hover {\n",
              "      background-color: #E2EBFA;\n",
              "      box-shadow: 0px 1px 2px rgba(60, 64, 67, 0.3), 0px 1px 3px 1px rgba(60, 64, 67, 0.15);\n",
              "      fill: #174EA6;\n",
              "    }\n",
              "\n",
              "    [theme=dark] .colab-df-convert {\n",
              "      background-color: #3B4455;\n",
              "      fill: #D2E3FC;\n",
              "    }\n",
              "\n",
              "    [theme=dark] .colab-df-convert:hover {\n",
              "      background-color: #434B5C;\n",
              "      box-shadow: 0px 1px 3px 1px rgba(0, 0, 0, 0.15);\n",
              "      filter: drop-shadow(0px 1px 2px rgba(0, 0, 0, 0.3));\n",
              "      fill: #FFFFFF;\n",
              "    }\n",
              "  </style>\n",
              "\n",
              "      <script>\n",
              "        const buttonEl =\n",
              "          document.querySelector('#df-1023122c-6915-483a-9073-a7d3693e8df3 button.colab-df-convert');\n",
              "        buttonEl.style.display =\n",
              "          google.colab.kernel.accessAllowed ? 'block' : 'none';\n",
              "\n",
              "        async function convertToInteractive(key) {\n",
              "          const element = document.querySelector('#df-1023122c-6915-483a-9073-a7d3693e8df3');\n",
              "          const dataTable =\n",
              "            await google.colab.kernel.invokeFunction('convertToInteractive',\n",
              "                                                     [key], {});\n",
              "          if (!dataTable) return;\n",
              "\n",
              "          const docLinkHtml = 'Like what you see? Visit the ' +\n",
              "            '<a target=\"_blank\" href=https://colab.research.google.com/notebooks/data_table.ipynb>data table notebook</a>'\n",
              "            + ' to learn more about interactive tables.';\n",
              "          element.innerHTML = '';\n",
              "          dataTable['output_type'] = 'display_data';\n",
              "          await google.colab.output.renderOutput(dataTable, element);\n",
              "          const docLink = document.createElement('div');\n",
              "          docLink.innerHTML = docLinkHtml;\n",
              "          element.appendChild(docLink);\n",
              "        }\n",
              "      </script>\n",
              "    </div>\n",
              "  </div>\n",
              "  "
            ]
          },
          "metadata": {},
          "execution_count": 146
        }
      ]
    },
    {
      "cell_type": "code",
      "source": [
        "# 판매 시작일로부터 강의 구매일 사이의 기간 4분위 별 환불 횟수\n",
        "fig = plt.figure(figsize=(15,8))                    \n",
        "sns.countplot( data = df_refund, x = 'period_quartile' , \n",
        "              order = df_refund['period_quartile'].value_counts().index )"
      ],
      "metadata": {
        "colab": {
          "base_uri": "https://localhost:8080/",
          "height": 515
        },
        "id": "24JNTxdFsnCv",
        "outputId": "aaf1fa76-3e6b-47a1-f391-6674e27ea65e"
      },
      "id": "24JNTxdFsnCv",
      "execution_count": null,
      "outputs": [
        {
          "output_type": "execute_result",
          "data": {
            "text/plain": [
              "<matplotlib.axes._subplots.AxesSubplot at 0x7f369fd33b90>"
            ]
          },
          "metadata": {},
          "execution_count": 147
        },
        {
          "output_type": "display_data",
          "data": {
            "text/plain": [
              "<Figure size 1080x576 with 1 Axes>"
            ],
            "image/png": "[encoded data removed]"
          },
          "metadata": {
            "needs_background": "light"
          }
        }
      ]
    },
    {
      "cell_type": "markdown",
      "source": [
        "판매 시작한지 250일 초과된 데이터의 환불 횟수가 가장 크게,\n",
        "30일 이하인 데이터가 가장 적게 나타났다."
      ],
      "metadata": {
        "id": "UjGBbSWatEhD"
      },
      "id": "UjGBbSWatEhD"
    },
    {
      "cell_type": "markdown",
      "source": [
        "-> 판매 시작한지 오래된 강의들을 재편성"
      ],
      "metadata": {
        "id": "BS5yHjMc6ZGX"
      },
      "id": "BS5yHjMc6ZGX"
    },
    {
      "cell_type": "code",
      "source": [
        "# 카테고리 별 환불 횟수\n",
        "fig = plt.figure(figsize=(15,8))\n",
        "sns.countplot( data = df_refund, x = 'category_title' , \n",
        "              order = df_refund['category_title'].value_counts().index )"
      ],
      "metadata": {
        "colab": {
          "base_uri": "https://localhost:8080/",
          "height": 515
        },
        "id": "H6tkNA6LN5WQ",
        "outputId": "4002ea75-ce55-47da-bc2a-9ccf8cd7c4e8"
      },
      "id": "H6tkNA6LN5WQ",
      "execution_count": null,
      "outputs": [
        {
          "output_type": "execute_result",
          "data": {
            "text/plain": [
              "<matplotlib.axes._subplots.AxesSubplot at 0x7f369fb68490>"
            ]
          },
          "metadata": {},
          "execution_count": 148
        },
        {
          "output_type": "display_data",
          "data": {
            "text/plain": [
              "<Figure size 1080x576 with 1 Axes>"
            ],
            "image/png": "[encoded data removed]"
          },
          "metadata": {
            "needs_background": "light"
          }
        }
      ]
    },
    {
      "cell_type": "code",
      "source": [
        "# 카테고리 별 환불 비율\n",
        "df_refund_rate=df_refund['category_title'].value_counts()/df_ORDER_delete['category_title'].value_counts()*100 \n",
        "df_refund_rate = df_refund_rate.sort_values(ascending=False)\n",
        "df_refund_rate"
      ],
      "metadata": {
        "colab": {
          "base_uri": "https://localhost:8080/"
        },
        "id": "Cd8_mebzN5TJ",
        "outputId": "7453fb4e-422b-404d-eba6-475892aa2ae2"
      },
      "id": "Cd8_mebzN5TJ",
      "execution_count": null,
      "outputs": [
        {
          "output_type": "execute_result",
          "data": {
            "text/plain": [
              "크리에이티브      10.531221\n",
              "파이낸스         8.333333\n",
              "마케팅          6.362210\n",
              "프로그래밍        6.220235\n",
              "디자인          6.124083\n",
              "비즈니스         5.882353\n",
              "영상/3D        5.631636\n",
              "데이터사이언스      5.455202\n",
              "투자/재테크       5.376884\n",
              "업무 생산성       4.417773\n",
              "부동산/금융       4.276221\n",
              "관리                NaN\n",
              "데이터 사이언스          NaN\n",
              "지식콘텐츠             NaN\n",
              "Name: category_title, dtype: float64"
            ]
          },
          "metadata": {},
          "execution_count": 149
        }
      ]
    },
    {
      "cell_type": "code",
      "source": [
        "# 카테고리 별 환불 비율 그래프\n",
        "df_refund_rate.plot.bar(figsize = (15,6)) "
      ],
      "metadata": {
        "colab": {
          "base_uri": "https://localhost:8080/",
          "height": 446
        },
        "id": "KYepdoBrWt4U",
        "outputId": "17f7f800-5ac3-4470-8b52-f39a43c23df1"
      },
      "id": "KYepdoBrWt4U",
      "execution_count": null,
      "outputs": [
        {
          "output_type": "execute_result",
          "data": {
            "text/plain": [
              "<matplotlib.axes._subplots.AxesSubplot at 0x7f369e1989d0>"
            ]
          },
          "metadata": {},
          "execution_count": 150
        },
        {
          "output_type": "display_data",
          "data": {
            "text/plain": [
              "<Figure size 1080x432 with 1 Axes>"
            ],
            "image/png": "[encoded data removed]"
          },
          "metadata": {
            "needs_background": "light"
          }
        }
      ]
    },
    {
      "cell_type": "markdown",
      "source": [
        "환불 비율이 높은 카테고리의 강의의 질 높이기"
      ],
      "metadata": {
        "id": "BLpZlzWGgaf8"
      },
      "id": "BLpZlzWGgaf8"
    },
    {
      "cell_type": "markdown",
      "source": [
        "##결제 시기에 따른 데이터"
      ],
      "metadata": {
        "id": "5OFRN-FVnHh9"
      },
      "id": "5OFRN-FVnHh9"
    },
    {
      "cell_type": "code",
      "source": [
        "df['completed_at'].describe()"
      ],
      "metadata": {
        "colab": {
          "base_uri": "https://localhost:8080/"
        },
        "id": "-OyWrp8eca_o",
        "outputId": "c9226126-d68a-4670-81ec-50b5115b5cb2"
      },
      "id": "-OyWrp8eca_o",
      "execution_count": null,
      "outputs": [
        {
          "output_type": "stream",
          "name": "stderr",
          "text": [
            "/usr/local/lib/python3.7/dist-packages/ipykernel_launcher.py:1: FutureWarning: Treating datetime data as categorical rather than numeric in `.describe` is deprecated and will be removed in a future version of pandas. Specify `datetime_is_numeric=True` to silence this warning and adopt the future behavior now.\n",
            "  \"\"\"Entry point for launching an IPython kernel.\n"
          ]
        },
        {
          "output_type": "execute_result",
          "data": {
            "text/plain": [
              "count                  102933\n",
              "unique                  96415\n",
              "top       2021-08-27 15:17:38\n",
              "freq                       22\n",
              "first     2021-03-28 15:00:11\n",
              "last      2021-09-25 14:25:47\n",
              "Name: completed_at, dtype: object"
            ]
          },
          "metadata": {},
          "execution_count": 151
        }
      ]
    },
    {
      "cell_type": "code",
      "source": [
        "# 결제 월 컬럼 추가\n",
        "def func(x) :                                     \n",
        "\n",
        "    if datetime.date(2021,4,1) <= x < datetime.date(2021,5,1):   # 3월은 28일부터, 9월은 25일까지밖에 없으므로 제외\n",
        "        return \"4월\"\n",
        "    elif datetime.date(2021,5,1) <= x < datetime.date(2021,6,1):\n",
        "        return \"5월\"\n",
        "    elif datetime.date(2021,6,1) <=  x < datetime.date(2021,7,1):\n",
        "        return \"6월\"\n",
        "    elif datetime.date(2021,7,1) <=  x < datetime.date(2021,8,1):\n",
        "        return \"7월\"\n",
        "    elif datetime.date(2021,8,1) <= x < datetime.date(2021,9,1):\n",
        "        return \"8월\"\n",
        "\n",
        "df['completed_month'] = df['completed_at'].map(func)\n",
        "df.head()"
      ],
      "metadata": {
        "colab": {
          "base_uri": "https://localhost:8080/",
          "height": 803
        },
        "id": "milAgyWF8QUg",
        "outputId": "4e7cc6bc-5d19-4077-9564-ba8a47e424f9"
      },
      "id": "milAgyWF8QUg",
      "execution_count": null,
      "outputs": [
        {
          "output_type": "stream",
          "name": "stderr",
          "text": [
            "/usr/local/lib/python3.7/dist-packages/ipykernel_launcher.py:4: FutureWarning: Comparison of Timestamp with datetime.date is deprecated in order to match the standard library behavior.  In a future version these will be considered non-comparable.Use 'ts == pd.Timestamp(date)' or 'ts.date() == date' instead.\n",
            "  after removing the cwd from sys.path.\n",
            "/usr/local/lib/python3.7/dist-packages/ipykernel_launcher.py:6: FutureWarning: Comparison of Timestamp with datetime.date is deprecated in order to match the standard library behavior.  In a future version these will be considered non-comparable.Use 'ts == pd.Timestamp(date)' or 'ts.date() == date' instead.\n",
            "  \n",
            "/usr/local/lib/python3.7/dist-packages/ipykernel_launcher.py:8: FutureWarning: Comparison of Timestamp with datetime.date is deprecated in order to match the standard library behavior.  In a future version these will be considered non-comparable.Use 'ts == pd.Timestamp(date)' or 'ts.date() == date' instead.\n",
            "  \n",
            "/usr/local/lib/python3.7/dist-packages/ipykernel_launcher.py:10: FutureWarning: Comparison of Timestamp with datetime.date is deprecated in order to match the standard library behavior.  In a future version these will be considered non-comparable.Use 'ts == pd.Timestamp(date)' or 'ts.date() == date' instead.\n",
            "  # Remove the CWD from sys.path while we load stuff.\n",
            "/usr/local/lib/python3.7/dist-packages/ipykernel_launcher.py:12: FutureWarning: Comparison of Timestamp with datetime.date is deprecated in order to match the standard library behavior.  In a future version these will be considered non-comparable.Use 'ts == pd.Timestamp(date)' or 'ts.date() == date' instead.\n",
            "  if sys.path[0] == '':\n",
            "/usr/local/lib/python3.7/dist-packages/ipykernel_launcher.py:15: SettingWithCopyWarning: \n",
            "A value is trying to be set on a copy of a slice from a DataFrame.\n",
            "Try using .loc[row_indexer,col_indexer] = value instead\n",
            "\n",
            "See the caveats in the documentation: https://pandas.pydata.org/pandas-docs/stable/user_guide/indexing.html#returning-a-view-versus-a-copy\n",
            "  from ipykernel import kernelapp as app\n"
          ]
        },
        {
          "output_type": "execute_result",
          "data": {
            "text/plain": [
              "       id  customer_id  course_id     type      state  \\\n",
              "0  970634     504760.0   201435.0    ORDER  CANCELLED   \n",
              "1  970650     432862.0   203178.0    ORDER  CANCELLED   \n",
              "2  970657      72297.0   204246.0  PAYMENT  COMPLETED   \n",
              "3  970656      72297.0   204246.0    ORDER  CANCELLED   \n",
              "4  970658     478028.0   201797.0  PAYMENT  COMPLETED   \n",
              "\n",
              "                    course_title category_title  format        completed_at  \\\n",
              "0      올인원 패키지 : 알고리즘 기술면접 완전 정복          프로그래밍     올인원 2021-03-28 15:00:11   \n",
              "1    초격차 패키지 : 한번에 끝내는 영상 촬영과 편집          영상/3D     올인원 2021-03-28 15:16:53   \n",
              "2           시크릿코드 : 프론트엔드 실무 완성편          프로그래밍  스쿨 온라인 2021-03-28 15:21:43   \n",
              "3           시크릿코드 : 프론트엔드 실무 완성편          프로그래밍  스쿨 온라인 2021-03-28 15:21:43   \n",
              "4  올인원 패키지 : 직장인 필수 스킬 3종 세트 MAX         업무 생산성     올인원 2021-03-28 15:21:54   \n",
              "\n",
              "   transaction_amount  ... sale_price  tax_free_amount   pg  method  \\\n",
              "0               90500  ...   110500.0         110500.0  NaN   VBANK   \n",
              "1               96000  ...   116000.0         116000.0  NaN    CARD   \n",
              "2              171810  ...   190900.0         190900.0  NaN    CARD   \n",
              "3              171810  ...   190900.0         190900.0  NaN    CARD   \n",
              "4               97500  ...   117500.0         117500.0  NaN    CARD   \n",
              "\n",
              "  subcategory_title marketing_start_at repeat_order            period  \\\n",
              "0           개발자 커리어                NaT        False               NaT   \n",
              "1             영상 편집         2020-12-02        False 116 days 15:16:53   \n",
              "2               NaN         2021-03-04         True  24 days 15:21:43   \n",
              "3               NaN         2021-03-04         True  24 days 15:21:43   \n",
              "4           PPT/보고서         2019-11-14         True 500 days 15:21:54   \n",
              "\n",
              "   period_quartile completed_month  \n",
              "0          250일 초과            None  \n",
              "1            ~250일            None  \n",
              "2             ~30일            None  \n",
              "3             ~30일            None  \n",
              "4          250일 초과            None  \n",
              "\n",
              "[5 rows x 22 columns]"
            ],
            "text/html": [
              "\n",
              "  <div id=\"df-2d9e0f4c-73d2-43ce-b713-dc836271315b\">\n",
              "    <div class=\"colab-df-container\">\n",
              "      <div>\n",
              "<style scoped>\n",
              "    .dataframe tbody tr th:only-of-type {\n",
              "        vertical-align: middle;\n",
              "    }\n",
              "\n",
              "    .dataframe tbody tr th {\n",
              "        vertical-align: top;\n",
              "    }\n",
              "\n",
              "    .dataframe thead th {\n",
              "        text-align: right;\n",
              "    }\n",
              "</style>\n",
              "<table border=\"1\" class=\"dataframe\">\n",
              "  <thead>\n",
              "    <tr style=\"text-align: right;\">\n",
              "      <th></th>\n",
              "      <th>id</th>\n",
              "      <th>customer_id</th>\n",
              "      <th>course_id</th>\n",
              "      <th>type</th>\n",
              "      <th>state</th>\n",
              "      <th>course_title</th>\n",
              "      <th>category_title</th>\n",
              "      <th>format</th>\n",
              "      <th>completed_at</th>\n",
              "      <th>transaction_amount</th>\n",
              "      <th>...</th>\n",
              "      <th>sale_price</th>\n",
              "      <th>tax_free_amount</th>\n",
              "      <th>pg</th>\n",
              "      <th>method</th>\n",
              "      <th>subcategory_title</th>\n",
              "      <th>marketing_start_at</th>\n",
              "      <th>repeat_order</th>\n",
              "      <th>period</th>\n",
              "      <th>period_quartile</th>\n",
              "      <th>completed_month</th>\n",
              "    </tr>\n",
              "  </thead>\n",
              "  <tbody>\n",
              "    <tr>\n",
              "      <th>0</th>\n",
              "      <td>970634</td>\n",
              "      <td>504760.0</td>\n",
              "      <td>201435.0</td>\n",
              "      <td>ORDER</td>\n",
              "      <td>CANCELLED</td>\n",
              "      <td>올인원 패키지 : 알고리즘 기술면접 완전 정복</td>\n",
              "      <td>프로그래밍</td>\n",
              "      <td>올인원</td>\n",
              "      <td>2021-03-28 15:00:11</td>\n",
              "      <td>90500</td>\n",
              "      <td>...</td>\n",
              "      <td>110500.0</td>\n",
              "      <td>110500.0</td>\n",
              "      <td>NaN</td>\n",
              "      <td>VBANK</td>\n",
              "      <td>개발자 커리어</td>\n",
              "      <td>NaT</td>\n",
              "      <td>False</td>\n",
              "      <td>NaT</td>\n",
              "      <td>250일 초과</td>\n",
              "      <td>None</td>\n",
              "    </tr>\n",
              "    <tr>\n",
              "      <th>1</th>\n",
              "      <td>970650</td>\n",
              "      <td>432862.0</td>\n",
              "      <td>203178.0</td>\n",
              "      <td>ORDER</td>\n",
              "      <td>CANCELLED</td>\n",
              "      <td>초격차 패키지 : 한번에 끝내는 영상 촬영과 편집</td>\n",
              "      <td>영상/3D</td>\n",
              "      <td>올인원</td>\n",
              "      <td>2021-03-28 15:16:53</td>\n",
              "      <td>96000</td>\n",
              "      <td>...</td>\n",
              "      <td>116000.0</td>\n",
              "      <td>116000.0</td>\n",
              "      <td>NaN</td>\n",
              "      <td>CARD</td>\n",
              "      <td>영상 편집</td>\n",
              "      <td>2020-12-02</td>\n",
              "      <td>False</td>\n",
              "      <td>116 days 15:16:53</td>\n",
              "      <td>~250일</td>\n",
              "      <td>None</td>\n",
              "    </tr>\n",
              "    <tr>\n",
              "      <th>2</th>\n",
              "      <td>970657</td>\n",
              "      <td>72297.0</td>\n",
              "      <td>204246.0</td>\n",
              "      <td>PAYMENT</td>\n",
              "      <td>COMPLETED</td>\n",
              "      <td>시크릿코드 : 프론트엔드 실무 완성편</td>\n",
              "      <td>프로그래밍</td>\n",
              "      <td>스쿨 온라인</td>\n",
              "      <td>2021-03-28 15:21:43</td>\n",
              "      <td>171810</td>\n",
              "      <td>...</td>\n",
              "      <td>190900.0</td>\n",
              "      <td>190900.0</td>\n",
              "      <td>NaN</td>\n",
              "      <td>CARD</td>\n",
              "      <td>NaN</td>\n",
              "      <td>2021-03-04</td>\n",
              "      <td>True</td>\n",
              "      <td>24 days 15:21:43</td>\n",
              "      <td>~30일</td>\n",
              "      <td>None</td>\n",
              "    </tr>\n",
              "    <tr>\n",
              "      <th>3</th>\n",
              "      <td>970656</td>\n",
              "      <td>72297.0</td>\n",
              "      <td>204246.0</td>\n",
              "      <td>ORDER</td>\n",
              "      <td>CANCELLED</td>\n",
              "      <td>시크릿코드 : 프론트엔드 실무 완성편</td>\n",
              "      <td>프로그래밍</td>\n",
              "      <td>스쿨 온라인</td>\n",
              "      <td>2021-03-28 15:21:43</td>\n",
              "      <td>171810</td>\n",
              "      <td>...</td>\n",
              "      <td>190900.0</td>\n",
              "      <td>190900.0</td>\n",
              "      <td>NaN</td>\n",
              "      <td>CARD</td>\n",
              "      <td>NaN</td>\n",
              "      <td>2021-03-04</td>\n",
              "      <td>True</td>\n",
              "      <td>24 days 15:21:43</td>\n",
              "      <td>~30일</td>\n",
              "      <td>None</td>\n",
              "    </tr>\n",
              "    <tr>\n",
              "      <th>4</th>\n",
              "      <td>970658</td>\n",
              "      <td>478028.0</td>\n",
              "      <td>201797.0</td>\n",
              "      <td>PAYMENT</td>\n",
              "      <td>COMPLETED</td>\n",
              "      <td>올인원 패키지 : 직장인 필수 스킬 3종 세트 MAX</td>\n",
              "      <td>업무 생산성</td>\n",
              "      <td>올인원</td>\n",
              "      <td>2021-03-28 15:21:54</td>\n",
              "      <td>97500</td>\n",
              "      <td>...</td>\n",
              "      <td>117500.0</td>\n",
              "      <td>117500.0</td>\n",
              "      <td>NaN</td>\n",
              "      <td>CARD</td>\n",
              "      <td>PPT/보고서</td>\n",
              "      <td>2019-11-14</td>\n",
              "      <td>True</td>\n",
              "      <td>500 days 15:21:54</td>\n",
              "      <td>250일 초과</td>\n",
              "      <td>None</td>\n",
              "    </tr>\n",
              "  </tbody>\n",
              "</table>\n",
              "<p>5 rows × 22 columns</p>\n",
              "</div>\n",
              "      <button class=\"colab-df-convert\" onclick=\"convertToInteractive('df-2d9e0f4c-73d2-43ce-b713-dc836271315b')\"\n",
              "              title=\"Convert this dataframe to an interactive table.\"\n",
              "              style=\"display:none;\">\n",
              "        \n",
              "  <svg xmlns=\"http://www.w3.org/2000/svg\" height=\"24px\"viewBox=\"0 0 24 24\"\n",
              "       width=\"24px\">\n",
              "    <path d=\"M0 0h24v24H0V0z\" fill=\"none\"/>\n",
              "    <path d=\"M18.56 5.44l.94 2.06.94-2.06 2.06-.94-2.06-.94-.94-2.06-.94 2.06-2.06.94zm-11 1L8.5 8.5l.94-2.06 2.06-.94-2.06-.94L8.5 2.5l-.94 2.06-2.06.94zm10 10l.94 2.06.94-2.06 2.06-.94-2.06-.94-.94-2.06-.94 2.06-2.06.94z\"/><path d=\"M17.41 7.96l-1.37-1.37c-.4-.4-.92-.59-1.43-.59-.52 0-1.04.2-1.43.59L10.3 9.45l-7.72 7.72c-.78.78-.78 2.05 0 2.83L4 21.41c.39.39.9.59 1.41.59.51 0 1.02-.2 1.41-.59l7.78-7.78 2.81-2.81c.8-.78.8-2.07 0-2.86zM5.41 20L4 18.59l7.72-7.72 1.47 1.35L5.41 20z\"/>\n",
              "  </svg>\n",
              "      </button>\n",
              "      \n",
              "  <style>\n",
              "    .colab-df-container {\n",
              "      display:flex;\n",
              "      flex-wrap:wrap;\n",
              "      gap: 12px;\n",
              "    }\n",
              "\n",
              "    .colab-df-convert {\n",
              "      background-color: #E8F0FE;\n",
              "      border: none;\n",
              "      border-radius: 50%;\n",
              "      cursor: pointer;\n",
              "      display: none;\n",
              "      fill: #1967D2;\n",
              "      height: 32px;\n",
              "      padding: 0 0 0 0;\n",
              "      width: 32px;\n",
              "    }\n",
              "\n",
              "    .colab-df-convert:hover {\n",
              "      background-color: #E2EBFA;\n",
              "      box-shadow: 0px 1px 2px rgba(60, 64, 67, 0.3), 0px 1px 3px 1px rgba(60, 64, 67, 0.15);\n",
              "      fill: #174EA6;\n",
              "    }\n",
              "\n",
              "    [theme=dark] .colab-df-convert {\n",
              "      background-color: #3B4455;\n",
              "      fill: #D2E3FC;\n",
              "    }\n",
              "\n",
              "    [theme=dark] .colab-df-convert:hover {\n",
              "      background-color: #434B5C;\n",
              "      box-shadow: 0px 1px 3px 1px rgba(0, 0, 0, 0.15);\n",
              "      filter: drop-shadow(0px 1px 2px rgba(0, 0, 0, 0.3));\n",
              "      fill: #FFFFFF;\n",
              "    }\n",
              "  </style>\n",
              "\n",
              "      <script>\n",
              "        const buttonEl =\n",
              "          document.querySelector('#df-2d9e0f4c-73d2-43ce-b713-dc836271315b button.colab-df-convert');\n",
              "        buttonEl.style.display =\n",
              "          google.colab.kernel.accessAllowed ? 'block' : 'none';\n",
              "\n",
              "        async function convertToInteractive(key) {\n",
              "          const element = document.querySelector('#df-2d9e0f4c-73d2-43ce-b713-dc836271315b');\n",
              "          const dataTable =\n",
              "            await google.colab.kernel.invokeFunction('convertToInteractive',\n",
              "                                                     [key], {});\n",
              "          if (!dataTable) return;\n",
              "\n",
              "          const docLinkHtml = 'Like what you see? Visit the ' +\n",
              "            '<a target=\"_blank\" href=https://colab.research.google.com/notebooks/data_table.ipynb>data table notebook</a>'\n",
              "            + ' to learn more about interactive tables.';\n",
              "          element.innerHTML = '';\n",
              "          dataTable['output_type'] = 'display_data';\n",
              "          await google.colab.output.renderOutput(dataTable, element);\n",
              "          const docLink = document.createElement('div');\n",
              "          docLink.innerHTML = docLinkHtml;\n",
              "          element.appendChild(docLink);\n",
              "        }\n",
              "      </script>\n",
              "    </div>\n",
              "  </div>\n",
              "  "
            ]
          },
          "metadata": {},
          "execution_count": 152
        }
      ]
    },
    {
      "cell_type": "code",
      "source": [
        "# 월 별 총 수입\n",
        "how = {                                        \n",
        "    'transaction_amount' : np.sum\n",
        "}\n",
        "\n",
        "month_account = df.groupby('completed_month').agg(how)\n",
        "month_account = month_account.sort_values('transaction_amount', ascending=False)"
      ],
      "metadata": {
        "id": "NUoptd6Yggm6"
      },
      "id": "NUoptd6Yggm6",
      "execution_count": null,
      "outputs": []
    },
    {
      "cell_type": "code",
      "source": [
        "# 월 별 총 수입 그래프\n",
        "month_account.plot.bar(figsize = (10,6)) "
      ],
      "metadata": {
        "colab": {
          "base_uri": "https://localhost:8080/",
          "height": 421
        },
        "id": "Qhn7Xw96gz0i",
        "outputId": "4ab33987-dcef-4b20-ab1d-14fa226a03a2"
      },
      "id": "Qhn7Xw96gz0i",
      "execution_count": null,
      "outputs": [
        {
          "output_type": "execute_result",
          "data": {
            "text/plain": [
              "<matplotlib.axes._subplots.AxesSubplot at 0x7f369fb589d0>"
            ]
          },
          "metadata": {},
          "execution_count": 154
        },
        {
          "output_type": "display_data",
          "data": {
            "text/plain": [
              "<Figure size 720x432 with 1 Axes>"
            ],
            "image/png": "[encoded data removed]"
          },
          "metadata": {
            "needs_background": "light"
          }
        }
      ]
    },
    {
      "cell_type": "code",
      "source": [
        "def weekdays(x) :           \n",
        "    if x.weekday() == 0: \n",
        "        return \"월요일\"\n",
        "    elif x.weekday() == 1: \n",
        "        return \"화요일\"\n",
        "    elif x.weekday() == 2: \n",
        "        return \"수요일\"\n",
        "    elif x.weekday() == 3: \n",
        "        return \"목요일\"\n",
        "    elif x.weekday() == 4: \n",
        "        return \"금요일\"\n",
        "    elif x.weekday() == 5: \n",
        "        return \"토요일\"\n",
        "    elif x.weekday() == 6: \n",
        "        return \"일요일\"        \n",
        "\n",
        "df['completed_weekday'] = df['completed_at'].map(weekdays)\n",
        "df.head()"
      ],
      "metadata": {
        "colab": {
          "base_uri": "https://localhost:8080/",
          "height": 600
        },
        "id": "V5AtHXpBory_",
        "outputId": "b158ee34-3192-4204-871b-0a2408fca4b9"
      },
      "id": "V5AtHXpBory_",
      "execution_count": null,
      "outputs": [
        {
          "output_type": "stream",
          "name": "stderr",
          "text": [
            "/usr/local/lib/python3.7/dist-packages/ipykernel_launcher.py:17: SettingWithCopyWarning: \n",
            "A value is trying to be set on a copy of a slice from a DataFrame.\n",
            "Try using .loc[row_indexer,col_indexer] = value instead\n",
            "\n",
            "See the caveats in the documentation: https://pandas.pydata.org/pandas-docs/stable/user_guide/indexing.html#returning-a-view-versus-a-copy\n"
          ]
        },
        {
          "output_type": "execute_result",
          "data": {
            "text/plain": [
              "       id  customer_id  course_id     type      state  \\\n",
              "0  970634     504760.0   201435.0    ORDER  CANCELLED   \n",
              "1  970650     432862.0   203178.0    ORDER  CANCELLED   \n",
              "2  970657      72297.0   204246.0  PAYMENT  COMPLETED   \n",
              "3  970656      72297.0   204246.0    ORDER  CANCELLED   \n",
              "4  970658     478028.0   201797.0  PAYMENT  COMPLETED   \n",
              "\n",
              "                    course_title category_title  format        completed_at  \\\n",
              "0      올인원 패키지 : 알고리즘 기술면접 완전 정복          프로그래밍     올인원 2021-03-28 15:00:11   \n",
              "1    초격차 패키지 : 한번에 끝내는 영상 촬영과 편집          영상/3D     올인원 2021-03-28 15:16:53   \n",
              "2           시크릿코드 : 프론트엔드 실무 완성편          프로그래밍  스쿨 온라인 2021-03-28 15:21:43   \n",
              "3           시크릿코드 : 프론트엔드 실무 완성편          프로그래밍  스쿨 온라인 2021-03-28 15:21:43   \n",
              "4  올인원 패키지 : 직장인 필수 스킬 3종 세트 MAX         업무 생산성     올인원 2021-03-28 15:21:54   \n",
              "\n",
              "   transaction_amount  ... tax_free_amount   pg  method  subcategory_title  \\\n",
              "0               90500  ...        110500.0  NaN   VBANK            개발자 커리어   \n",
              "1               96000  ...        116000.0  NaN    CARD              영상 편집   \n",
              "2              171810  ...        190900.0  NaN    CARD                NaN   \n",
              "3              171810  ...        190900.0  NaN    CARD                NaN   \n",
              "4               97500  ...        117500.0  NaN    CARD            PPT/보고서   \n",
              "\n",
              "  marketing_start_at repeat_order            period period_quartile  \\\n",
              "0                NaT        False               NaT         250일 초과   \n",
              "1         2020-12-02        False 116 days 15:16:53           ~250일   \n",
              "2         2021-03-04         True  24 days 15:21:43            ~30일   \n",
              "3         2021-03-04         True  24 days 15:21:43            ~30일   \n",
              "4         2019-11-14         True 500 days 15:21:54         250일 초과   \n",
              "\n",
              "   completed_month completed_weekday  \n",
              "0             None               일요일  \n",
              "1             None               일요일  \n",
              "2             None               일요일  \n",
              "3             None               일요일  \n",
              "4             None               일요일  \n",
              "\n",
              "[5 rows x 23 columns]"
            ],
            "text/html": [
              "\n",
              "  <div id=\"df-8bc8a7e3-f169-47d3-907a-34695e389d34\">\n",
              "    <div class=\"colab-df-container\">\n",
              "      <div>\n",
              "<style scoped>\n",
              "    .dataframe tbody tr th:only-of-type {\n",
              "        vertical-align: middle;\n",
              "    }\n",
              "\n",
              "    .dataframe tbody tr th {\n",
              "        vertical-align: top;\n",
              "    }\n",
              "\n",
              "    .dataframe thead th {\n",
              "        text-align: right;\n",
              "    }\n",
              "</style>\n",
              "<table border=\"1\" class=\"dataframe\">\n",
              "  <thead>\n",
              "    <tr style=\"text-align: right;\">\n",
              "      <th></th>\n",
              "      <th>id</th>\n",
              "      <th>customer_id</th>\n",
              "      <th>course_id</th>\n",
              "      <th>type</th>\n",
              "      <th>state</th>\n",
              "      <th>course_title</th>\n",
              "      <th>category_title</th>\n",
              "      <th>format</th>\n",
              "      <th>completed_at</th>\n",
              "      <th>transaction_amount</th>\n",
              "      <th>...</th>\n",
              "      <th>tax_free_amount</th>\n",
              "      <th>pg</th>\n",
              "      <th>method</th>\n",
              "      <th>subcategory_title</th>\n",
              "      <th>marketing_start_at</th>\n",
              "      <th>repeat_order</th>\n",
              "      <th>period</th>\n",
              "      <th>period_quartile</th>\n",
              "      <th>completed_month</th>\n",
              "      <th>completed_weekday</th>\n",
              "    </tr>\n",
              "  </thead>\n",
              "  <tbody>\n",
              "    <tr>\n",
              "      <th>0</th>\n",
              "      <td>970634</td>\n",
              "      <td>504760.0</td>\n",
              "      <td>201435.0</td>\n",
              "      <td>ORDER</td>\n",
              "      <td>CANCELLED</td>\n",
              "      <td>올인원 패키지 : 알고리즘 기술면접 완전 정복</td>\n",
              "      <td>프로그래밍</td>\n",
              "      <td>올인원</td>\n",
              "      <td>2021-03-28 15:00:11</td>\n",
              "      <td>90500</td>\n",
              "      <td>...</td>\n",
              "      <td>110500.0</td>\n",
              "      <td>NaN</td>\n",
              "      <td>VBANK</td>\n",
              "      <td>개발자 커리어</td>\n",
              "      <td>NaT</td>\n",
              "      <td>False</td>\n",
              "      <td>NaT</td>\n",
              "      <td>250일 초과</td>\n",
              "      <td>None</td>\n",
              "      <td>일요일</td>\n",
              "    </tr>\n",
              "    <tr>\n",
              "      <th>1</th>\n",
              "      <td>970650</td>\n",
              "      <td>432862.0</td>\n",
              "      <td>203178.0</td>\n",
              "      <td>ORDER</td>\n",
              "      <td>CANCELLED</td>\n",
              "      <td>초격차 패키지 : 한번에 끝내는 영상 촬영과 편집</td>\n",
              "      <td>영상/3D</td>\n",
              "      <td>올인원</td>\n",
              "      <td>2021-03-28 15:16:53</td>\n",
              "      <td>96000</td>\n",
              "      <td>...</td>\n",
              "      <td>116000.0</td>\n",
              "      <td>NaN</td>\n",
              "      <td>CARD</td>\n",
              "      <td>영상 편집</td>\n",
              "      <td>2020-12-02</td>\n",
              "      <td>False</td>\n",
              "      <td>116 days 15:16:53</td>\n",
              "      <td>~250일</td>\n",
              "      <td>None</td>\n",
              "      <td>일요일</td>\n",
              "    </tr>\n",
              "    <tr>\n",
              "      <th>2</th>\n",
              "      <td>970657</td>\n",
              "      <td>72297.0</td>\n",
              "      <td>204246.0</td>\n",
              "      <td>PAYMENT</td>\n",
              "      <td>COMPLETED</td>\n",
              "      <td>시크릿코드 : 프론트엔드 실무 완성편</td>\n",
              "      <td>프로그래밍</td>\n",
              "      <td>스쿨 온라인</td>\n",
              "      <td>2021-03-28 15:21:43</td>\n",
              "      <td>171810</td>\n",
              "      <td>...</td>\n",
              "      <td>190900.0</td>\n",
              "      <td>NaN</td>\n",
              "      <td>CARD</td>\n",
              "      <td>NaN</td>\n",
              "      <td>2021-03-04</td>\n",
              "      <td>True</td>\n",
              "      <td>24 days 15:21:43</td>\n",
              "      <td>~30일</td>\n",
              "      <td>None</td>\n",
              "      <td>일요일</td>\n",
              "    </tr>\n",
              "    <tr>\n",
              "      <th>3</th>\n",
              "      <td>970656</td>\n",
              "      <td>72297.0</td>\n",
              "      <td>204246.0</td>\n",
              "      <td>ORDER</td>\n",
              "      <td>CANCELLED</td>\n",
              "      <td>시크릿코드 : 프론트엔드 실무 완성편</td>\n",
              "      <td>프로그래밍</td>\n",
              "      <td>스쿨 온라인</td>\n",
              "      <td>2021-03-28 15:21:43</td>\n",
              "      <td>171810</td>\n",
              "      <td>...</td>\n",
              "      <td>190900.0</td>\n",
              "      <td>NaN</td>\n",
              "      <td>CARD</td>\n",
              "      <td>NaN</td>\n",
              "      <td>2021-03-04</td>\n",
              "      <td>True</td>\n",
              "      <td>24 days 15:21:43</td>\n",
              "      <td>~30일</td>\n",
              "      <td>None</td>\n",
              "      <td>일요일</td>\n",
              "    </tr>\n",
              "    <tr>\n",
              "      <th>4</th>\n",
              "      <td>970658</td>\n",
              "      <td>478028.0</td>\n",
              "      <td>201797.0</td>\n",
              "      <td>PAYMENT</td>\n",
              "      <td>COMPLETED</td>\n",
              "      <td>올인원 패키지 : 직장인 필수 스킬 3종 세트 MAX</td>\n",
              "      <td>업무 생산성</td>\n",
              "      <td>올인원</td>\n",
              "      <td>2021-03-28 15:21:54</td>\n",
              "      <td>97500</td>\n",
              "      <td>...</td>\n",
              "      <td>117500.0</td>\n",
              "      <td>NaN</td>\n",
              "      <td>CARD</td>\n",
              "      <td>PPT/보고서</td>\n",
              "      <td>2019-11-14</td>\n",
              "      <td>True</td>\n",
              "      <td>500 days 15:21:54</td>\n",
              "      <td>250일 초과</td>\n",
              "      <td>None</td>\n",
              "      <td>일요일</td>\n",
              "    </tr>\n",
              "  </tbody>\n",
              "</table>\n",
              "<p>5 rows × 23 columns</p>\n",
              "</div>\n",
              "      <button class=\"colab-df-convert\" onclick=\"convertToInteractive('df-8bc8a7e3-f169-47d3-907a-34695e389d34')\"\n",
              "              title=\"Convert this dataframe to an interactive table.\"\n",
              "              style=\"display:none;\">\n",
              "        \n",
              "  <svg xmlns=\"http://www.w3.org/2000/svg\" height=\"24px\"viewBox=\"0 0 24 24\"\n",
              "       width=\"24px\">\n",
              "    <path d=\"M0 0h24v24H0V0z\" fill=\"none\"/>\n",
              "    <path d=\"M18.56 5.44l.94 2.06.94-2.06 2.06-.94-2.06-.94-.94-2.06-.94 2.06-2.06.94zm-11 1L8.5 8.5l.94-2.06 2.06-.94-2.06-.94L8.5 2.5l-.94 2.06-2.06.94zm10 10l.94 2.06.94-2.06 2.06-.94-2.06-.94-.94-2.06-.94 2.06-2.06.94z\"/><path d=\"M17.41 7.96l-1.37-1.37c-.4-.4-.92-.59-1.43-.59-.52 0-1.04.2-1.43.59L10.3 9.45l-7.72 7.72c-.78.78-.78 2.05 0 2.83L4 21.41c.39.39.9.59 1.41.59.51 0 1.02-.2 1.41-.59l7.78-7.78 2.81-2.81c.8-.78.8-2.07 0-2.86zM5.41 20L4 18.59l7.72-7.72 1.47 1.35L5.41 20z\"/>\n",
              "  </svg>\n",
              "      </button>\n",
              "      \n",
              "  <style>\n",
              "    .colab-df-container {\n",
              "      display:flex;\n",
              "      flex-wrap:wrap;\n",
              "      gap: 12px;\n",
              "    }\n",
              "\n",
              "    .colab-df-convert {\n",
              "      background-color: #E8F0FE;\n",
              "      border: none;\n",
              "      border-radius: 50%;\n",
              "      cursor: pointer;\n",
              "      display: none;\n",
              "      fill: #1967D2;\n",
              "      height: 32px;\n",
              "      padding: 0 0 0 0;\n",
              "      width: 32px;\n",
              "    }\n",
              "\n",
              "    .colab-df-convert:hover {\n",
              "      background-color: #E2EBFA;\n",
              "      box-shadow: 0px 1px 2px rgba(60, 64, 67, 0.3), 0px 1px 3px 1px rgba(60, 64, 67, 0.15);\n",
              "      fill: #174EA6;\n",
              "    }\n",
              "\n",
              "    [theme=dark] .colab-df-convert {\n",
              "      background-color: #3B4455;\n",
              "      fill: #D2E3FC;\n",
              "    }\n",
              "\n",
              "    [theme=dark] .colab-df-convert:hover {\n",
              "      background-color: #434B5C;\n",
              "      box-shadow: 0px 1px 3px 1px rgba(0, 0, 0, 0.15);\n",
              "      filter: drop-shadow(0px 1px 2px rgba(0, 0, 0, 0.3));\n",
              "      fill: #FFFFFF;\n",
              "    }\n",
              "  </style>\n",
              "\n",
              "      <script>\n",
              "        const buttonEl =\n",
              "          document.querySelector('#df-8bc8a7e3-f169-47d3-907a-34695e389d34 button.colab-df-convert');\n",
              "        buttonEl.style.display =\n",
              "          google.colab.kernel.accessAllowed ? 'block' : 'none';\n",
              "\n",
              "        async function convertToInteractive(key) {\n",
              "          const element = document.querySelector('#df-8bc8a7e3-f169-47d3-907a-34695e389d34');\n",
              "          const dataTable =\n",
              "            await google.colab.kernel.invokeFunction('convertToInteractive',\n",
              "                                                     [key], {});\n",
              "          if (!dataTable) return;\n",
              "\n",
              "          const docLinkHtml = 'Like what you see? Visit the ' +\n",
              "            '<a target=\"_blank\" href=https://colab.research.google.com/notebooks/data_table.ipynb>data table notebook</a>'\n",
              "            + ' to learn more about interactive tables.';\n",
              "          element.innerHTML = '';\n",
              "          dataTable['output_type'] = 'display_data';\n",
              "          await google.colab.output.renderOutput(dataTable, element);\n",
              "          const docLink = document.createElement('div');\n",
              "          docLink.innerHTML = docLinkHtml;\n",
              "          element.appendChild(docLink);\n",
              "        }\n",
              "      </script>\n",
              "    </div>\n",
              "  </div>\n",
              "  "
            ]
          },
          "metadata": {},
          "execution_count": 155
        }
      ]
    },
    {
      "cell_type": "code",
      "source": [
        "# 요일 별 총 수입\n",
        "how = {                                        \n",
        "    'transaction_amount' : np.sum\n",
        "}\n",
        "\n",
        "weekday_account = df.groupby('completed_weekday').agg(how)\n",
        "weekday_account = weekday_account.sort_values('transaction_amount', ascending=False)"
      ],
      "metadata": {
        "id": "QrhhP15Mq-5C"
      },
      "id": "QrhhP15Mq-5C",
      "execution_count": null,
      "outputs": []
    },
    {
      "cell_type": "code",
      "source": [
        "# 요일 별 총 수입 그래프\n",
        "weekday_account.plot.bar(figsize = (10,6)) "
      ],
      "metadata": {
        "colab": {
          "base_uri": "https://localhost:8080/",
          "height": 433
        },
        "id": "AYsqg8zqzhwE",
        "outputId": "0fee58bc-da3f-4a62-de6f-e8a8cf444262"
      },
      "id": "AYsqg8zqzhwE",
      "execution_count": null,
      "outputs": [
        {
          "output_type": "execute_result",
          "data": {
            "text/plain": [
              "<matplotlib.axes._subplots.AxesSubplot at 0x7f369dfde9d0>"
            ]
          },
          "metadata": {},
          "execution_count": 159
        },
        {
          "output_type": "display_data",
          "data": {
            "text/plain": [
              "<Figure size 720x432 with 1 Axes>"
            ],
            "image/png": "[encoded data removed]"
          },
          "metadata": {
            "needs_background": "light"
          }
        }
      ]
    },
    {
      "cell_type": "code",
      "source": [
        "x = datetime.date(2021,4,10)\n",
        "x.day"
      ],
      "metadata": {
        "colab": {
          "base_uri": "https://localhost:8080/"
        },
        "id": "wVibaGeH4mL3",
        "outputId": "143b0ff2-22f2-4a9e-887d-8965c69260a7"
      },
      "id": "wVibaGeH4mL3",
      "execution_count": null,
      "outputs": [
        {
          "output_type": "execute_result",
          "data": {
            "text/plain": [
              "10"
            ]
          },
          "metadata": {},
          "execution_count": 158
        }
      ]
    },
    {
      "cell_type": "code",
      "source": [
        "# 결제 일 컬럼 추가\n",
        "def days(x) :  \n",
        "    if x < datetime.date(2021,4,1) or x >= datetime.date(2021,9,1):     # 3월은 28일부터, 9월은 25일까지밖에 없으므로 제외\n",
        "        return None\n",
        "    else:          \n",
        "        return x.day\n",
        "    \n",
        "\n",
        "df['completed_day'] = df['completed_at'].map(days)\n",
        "df.loc[12000, 'completed_day']"
      ],
      "metadata": {
        "colab": {
          "base_uri": "https://localhost:8080/"
        },
        "id": "u27hlROV4mJu",
        "outputId": "bf40d67e-39b8-4c81-f75e-912f02ad2e32"
      },
      "id": "u27hlROV4mJu",
      "execution_count": null,
      "outputs": [
        {
          "output_type": "stream",
          "name": "stderr",
          "text": [
            "/usr/local/lib/python3.7/dist-packages/ipykernel_launcher.py:3: FutureWarning: Comparison of Timestamp with datetime.date is deprecated in order to match the standard library behavior.  In a future version these will be considered non-comparable.Use 'ts == pd.Timestamp(date)' or 'ts.date() == date' instead.\n",
            "  This is separate from the ipykernel package so we can avoid doing imports until\n",
            "/usr/local/lib/python3.7/dist-packages/ipykernel_launcher.py:9: SettingWithCopyWarning: \n",
            "A value is trying to be set on a copy of a slice from a DataFrame.\n",
            "Try using .loc[row_indexer,col_indexer] = value instead\n",
            "\n",
            "See the caveats in the documentation: https://pandas.pydata.org/pandas-docs/stable/user_guide/indexing.html#returning-a-view-versus-a-copy\n",
            "  if __name__ == '__main__':\n"
          ]
        },
        {
          "output_type": "execute_result",
          "data": {
            "text/plain": [
              "11.0"
            ]
          },
          "metadata": {},
          "execution_count": 160
        }
      ]
    },
    {
      "cell_type": "code",
      "source": [
        "# 일 별 총 수입\n",
        "how = {                                        \n",
        "    'transaction_amount' : np.sum\n",
        "}\n",
        "\n",
        "day_account = df.groupby('completed_day').agg(how)\n",
        "day_account = day_account.sort_values('transaction_amount', ascending=False)"
      ],
      "metadata": {
        "id": "QixCr_KQ4mHo"
      },
      "id": "QixCr_KQ4mHo",
      "execution_count": null,
      "outputs": []
    },
    {
      "cell_type": "code",
      "source": [
        "# 일 별 총 수입 그래프\n",
        "day_account.plot.bar(figsize = (20,6)) "
      ],
      "metadata": {
        "colab": {
          "base_uri": "https://localhost:8080/",
          "height": 427
        },
        "id": "rysp6WLY4mFW",
        "outputId": "ac014c3f-a6f2-4e7d-abcb-bf50af6401c5"
      },
      "id": "rysp6WLY4mFW",
      "execution_count": null,
      "outputs": [
        {
          "output_type": "execute_result",
          "data": {
            "text/plain": [
              "<matplotlib.axes._subplots.AxesSubplot at 0x7f369dff5650>"
            ]
          },
          "metadata": {},
          "execution_count": 162
        },
        {
          "output_type": "display_data",
          "data": {
            "text/plain": [
              "<Figure size 1440x432 with 1 Axes>"
            ],
            "image/png": "[encoded data removed]"
          },
          "metadata": {
            "needs_background": "light"
          }
        }
      ]
    },
    {
      "cell_type": "markdown",
      "source": [
        "방학시즌인 6,7월, 주말인 일요일, 그리고 월말인 30,31일에 수입이 높게 나타난다."
      ],
      "metadata": {
        "id": "F4Bmr3x8_V4u"
      },
      "id": "F4Bmr3x8_V4u"
    },
    {
      "cell_type": "markdown",
      "source": [
        "  ->  매출 높은 시기에 광고 늘리기"
      ],
      "metadata": {
        "id": "D9g6pIoe_UIU"
      },
      "id": "D9g6pIoe_UIU"
    },
    {
      "cell_type": "code",
      "source": [
        "# 월 말에 가장 잘 팔리는 강의 카테고리\n"
      ],
      "metadata": {
        "id": "lt1O2M_Y4mDB"
      },
      "id": "lt1O2M_Y4mDB",
      "execution_count": null,
      "outputs": []
    },
    {
      "cell_type": "code",
      "source": [
        ""
      ],
      "metadata": {
        "id": "trhJE_BC4l-s"
      },
      "id": "trhJE_BC4l-s",
      "execution_count": null,
      "outputs": []
    },
    {
      "cell_type": "code",
      "source": [
        ""
      ],
      "metadata": {
        "id": "OrxQlVce4l83"
      },
      "id": "OrxQlVce4l83",
      "execution_count": null,
      "outputs": []
    },
    {
      "cell_type": "code",
      "source": [
        ""
      ],
      "metadata": {
        "id": "eCF76x3s4l61"
      },
      "id": "eCF76x3s4l61",
      "execution_count": null,
      "outputs": []
    },
    {
      "cell_type": "code",
      "source": [
        ""
      ],
      "metadata": {
        "id": "zyZD5pxW4l4l"
      },
      "id": "zyZD5pxW4l4l",
      "execution_count": null,
      "outputs": []
    },
    {
      "cell_type": "code",
      "source": [
        ""
      ],
      "metadata": {
        "id": "3JuMGjRI4l2b"
      },
      "id": "3JuMGjRI4l2b",
      "execution_count": null,
      "outputs": []
    },
    {
      "cell_type": "code",
      "source": [
        ""
      ],
      "metadata": {
        "id": "5Jvg6IFO4l0R"
      },
      "id": "5Jvg6IFO4l0R",
      "execution_count": null,
      "outputs": []
    },
    {
      "cell_type": "code",
      "source": [
        ""
      ],
      "metadata": {
        "id": "AeY2QBkn4lxz"
      },
      "id": "AeY2QBkn4lxz",
      "execution_count": null,
      "outputs": []
    },
    {
      "cell_type": "code",
      "source": [
        ""
      ],
      "metadata": {
        "id": "Ts55cOmb4lvX"
      },
      "id": "Ts55cOmb4lvX",
      "execution_count": null,
      "outputs": []
    }
  ],
  "metadata": {
    "kernelspec": {
      "display_name": "Python 3",
      "language": "python",
      "name": "python3"
    },
    "language_info": {
      "codemirror_mode": {
        "name": "ipython",
        "version": 3
      },
      "file_extension": ".py",
      "mimetype": "text/x-python",
      "name": "python",
      "nbconvert_exporter": "python",
      "pygments_lexer": "ipython3",
      "version": "3.8.8"
    },
    "toc": {
      "base_numbering": 1,
      "nav_menu": {},
      "number_sections": true,
      "sideBar": true,
      "skip_h1_title": false,
      "title_cell": "Table of Contents",
      "title_sidebar": "Contents",
      "toc_cell": false,
      "toc_position": {},
      "toc_section_display": true,
      "toc_window_display": false
    },
    "colab": {
      "name": "PUBG_Mini_PJT.ipynb",
      "provenance": [],
      "collapsed_sections": [
        "f3a595ee",
        "14bc6b5a",
        "iDEZyFFlivwT",
        "5OFRN-FVnHh9"
      ],
      "include_colab_link": true
    }
  },
  "nbformat": 4,
  "nbformat_minor": 5
}