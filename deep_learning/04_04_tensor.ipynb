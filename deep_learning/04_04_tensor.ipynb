{
  "cells": [
    {
      "cell_type": "markdown",
      "metadata": {
        "id": "view-in-github",
        "colab_type": "text"
      },
      "source": [
        "<a href=\"https://colab.research.google.com/github/wjdrnqja9/TIL/blob/main/deep_learning/04_04_tensor.ipynb\" target=\"_parent\"><img src=\"https://colab.research.google.com/assets/colab-badge.svg\" alt=\"Open In Colab\"/></a>"
      ]
    },
    {
      "cell_type": "markdown",
      "metadata": {
        "id": "PI7eei34Mu8R"
      },
      "source": [
        "# PyTorch Tensor"
      ]
    },
    {
      "cell_type": "code",
      "execution_count": null,
      "metadata": {
        "id": "jWIeyNqYMu8W"
      },
      "outputs": [],
      "source": [
        "import torch"
      ]
    },
    {
      "cell_type": "markdown",
      "metadata": {
        "id": "qwNJ9ns0Mu8Y"
      },
      "source": [
        "## Tensor Allocation"
      ]
    },
    {
      "cell_type": "code",
      "execution_count": null,
      "metadata": {
        "id": "KbtjBM4PMu8Z",
        "outputId": "bb0bde73-c32e-43c7-975a-85c8ed33f52e"
      },
      "outputs": [
        {
          "data": {
            "text/plain": [
              "tensor([[1., 2.],\n",
              "        [3., 4.]])"
            ]
          },
          "execution_count": 2,
          "metadata": {},
          "output_type": "execute_result"
        }
      ],
      "source": [
        "ft = torch.FloatTensor([[1, 2],\n",
        "                        [3, 4]])\n",
        "ft"
      ]
    },
    {
      "cell_type": "code",
      "execution_count": null,
      "metadata": {
        "id": "5URobDvLMu8a",
        "outputId": "d1217747-a358-412b-e217-cc7fb3605335"
      },
      "outputs": [
        {
          "data": {
            "text/plain": [
              "tensor([[1, 2],\n",
              "        [3, 4]])"
            ]
          },
          "execution_count": 3,
          "metadata": {},
          "output_type": "execute_result"
        }
      ],
      "source": [
        "lt = torch.LongTensor([[1, 2],\n",
        "                       [3, 4]])\n",
        "lt"
      ]
    },
    {
      "cell_type": "code",
      "execution_count": null,
      "metadata": {
        "id": "h0gq3Fv1Mu8b",
        "outputId": "e89cd5ca-0511-4b7e-88c5-a1f3e261dbcb"
      },
      "outputs": [
        {
          "data": {
            "text/plain": [
              "tensor([[1, 0],\n",
              "        [0, 1]], dtype=torch.uint8)"
            ]
          },
          "execution_count": 4,
          "metadata": {},
          "output_type": "execute_result"
        }
      ],
      "source": [
        "bt = torch.ByteTensor([[1, 0],\n",
        "                       [0, 1]])\n",
        "bt"
      ]
    },
    {
      "cell_type": "code",
      "execution_count": null,
      "metadata": {
        "id": "l6uClaZvMu8c",
        "outputId": "32808cf3-2d2b-4613-e5d1-9af3d3a48e24"
      },
      "outputs": [
        {
          "data": {
            "text/plain": [
              "tensor([[3., 2.],\n",
              "        [1., 0.],\n",
              "        [1., 2.]])"
            ]
          },
          "execution_count": 5,
          "metadata": {},
          "output_type": "execute_result"
        }
      ],
      "source": [
        "x = torch.FloatTensor(3, 2)\n",
        "x"
      ]
    },
    {
      "cell_type": "markdown",
      "metadata": {
        "id": "cCIaoHyqMu8c"
      },
      "source": [
        "## NumPy Compatibility"
      ]
    },
    {
      "cell_type": "code",
      "execution_count": null,
      "metadata": {
        "id": "LCXTcDADMu8d",
        "outputId": "ef03f507-51d3-44f2-bd4b-b01896837e02"
      },
      "outputs": [
        {
          "name": "stdout",
          "output_type": "stream",
          "text": [
            "[[1 2]\n",
            " [3 4]] <class 'numpy.ndarray'>\n"
          ]
        }
      ],
      "source": [
        "import numpy as np\n",
        "\n",
        "# Define numpy array.\n",
        "x = np.array([[1, 2],\n",
        "              [3, 4]])\n",
        "print(x, type(x))"
      ]
    },
    {
      "cell_type": "code",
      "execution_count": null,
      "metadata": {
        "id": "t8smmwJoMu8e",
        "outputId": "b46eaaec-7b5d-47a8-eb34-e43864c5fa9a"
      },
      "outputs": [
        {
          "name": "stdout",
          "output_type": "stream",
          "text": [
            "tensor([[1, 2],\n",
            "        [3, 4]], dtype=torch.int32) <class 'torch.Tensor'>\n"
          ]
        }
      ],
      "source": [
        "x = torch.from_numpy(x)\n",
        "print(x, type(x))"
      ]
    },
    {
      "cell_type": "code",
      "execution_count": null,
      "metadata": {
        "id": "yL80orK7Mu8f",
        "outputId": "a5ae787d-02a5-4817-eddf-eb9486fc1d69"
      },
      "outputs": [
        {
          "name": "stdout",
          "output_type": "stream",
          "text": [
            "[[1 2]\n",
            " [3 4]] <class 'numpy.ndarray'>\n"
          ]
        }
      ],
      "source": [
        "x = x.numpy()\n",
        "print(x, type(x))"
      ]
    },
    {
      "cell_type": "markdown",
      "metadata": {
        "id": "SfqYNYGgMu8f"
      },
      "source": [
        "## Tensor Type-casting"
      ]
    },
    {
      "cell_type": "code",
      "execution_count": null,
      "metadata": {
        "id": "JyoSML7GMu8g",
        "outputId": "932747cd-b6fe-4986-d43f-3ebe9adbfcf6"
      },
      "outputs": [
        {
          "data": {
            "text/plain": [
              "tensor([[1, 2],\n",
              "        [3, 4]])"
            ]
          },
          "execution_count": 9,
          "metadata": {},
          "output_type": "execute_result"
        }
      ],
      "source": [
        "ft.long()"
      ]
    },
    {
      "cell_type": "code",
      "execution_count": null,
      "metadata": {
        "id": "QwFOHNB6Mu8g",
        "outputId": "ff365a0c-0a32-4330-ac6a-47d2a827b711"
      },
      "outputs": [
        {
          "data": {
            "text/plain": [
              "tensor([[1., 2.],\n",
              "        [3., 4.]])"
            ]
          },
          "execution_count": 10,
          "metadata": {},
          "output_type": "execute_result"
        }
      ],
      "source": [
        "lt.float()"
      ]
    },
    {
      "cell_type": "code",
      "execution_count": null,
      "metadata": {
        "id": "73bXfFW3Mu8h",
        "outputId": "e3a538fe-5fd1-4954-dd9d-2a93a3371da4"
      },
      "outputs": [
        {
          "data": {
            "text/plain": [
              "tensor([1, 0], dtype=torch.uint8)"
            ]
          },
          "execution_count": 11,
          "metadata": {},
          "output_type": "execute_result"
        }
      ],
      "source": [
        "torch.FloatTensor([1, 0]).byte()"
      ]
    },
    {
      "cell_type": "markdown",
      "metadata": {
        "id": "Cr9VX5bPMu8h"
      },
      "source": [
        "## Get Shape"
      ]
    },
    {
      "cell_type": "code",
      "execution_count": null,
      "metadata": {
        "id": "2GVojMYDMu8h"
      },
      "outputs": [],
      "source": [
        "x = torch.FloatTensor([[[1, 2],\n",
        "                        [3, 4]],\n",
        "                       [[5, 6],\n",
        "                        [7, 8]],\n",
        "                       [[9, 10],\n",
        "                        [11, 12]]])"
      ]
    },
    {
      "cell_type": "markdown",
      "metadata": {
        "id": "K6L0KZBgMu8i"
      },
      "source": [
        "Get tensor shape."
      ]
    },
    {
      "cell_type": "code",
      "execution_count": null,
      "metadata": {
        "id": "CmnO4qnzMu8i",
        "outputId": "428828bd-961a-4884-a1d7-88fd957a0db8"
      },
      "outputs": [
        {
          "name": "stdout",
          "output_type": "stream",
          "text": [
            "torch.Size([3, 2, 2])\n",
            "torch.Size([3, 2, 2])\n"
          ]
        }
      ],
      "source": [
        "print(x.size())\n",
        "print(x.shape)"
      ]
    },
    {
      "cell_type": "markdown",
      "metadata": {
        "id": "7yVFhg6cMu8j"
      },
      "source": [
        "Get number of dimensions in the tensor."
      ]
    },
    {
      "cell_type": "code",
      "execution_count": null,
      "metadata": {
        "id": "Wrz94winMu8j",
        "outputId": "cfae621e-805b-49e3-f9cd-d55bfa4ca8dd"
      },
      "outputs": [
        {
          "name": "stdout",
          "output_type": "stream",
          "text": [
            "3\n",
            "3\n"
          ]
        }
      ],
      "source": [
        "print(x.dim())\n",
        "print(len(x.size()))"
      ]
    },
    {
      "cell_type": "markdown",
      "metadata": {
        "id": "TGE3IQr5Mu8k"
      },
      "source": [
        "Get number of elements in certain dimension of the tensor."
      ]
    },
    {
      "cell_type": "code",
      "execution_count": null,
      "metadata": {
        "id": "nWHi5HvFMu8k",
        "outputId": "c2aaff98-e124-4788-b786-df2516c0caf4"
      },
      "outputs": [
        {
          "name": "stdout",
          "output_type": "stream",
          "text": [
            "2\n",
            "2\n"
          ]
        }
      ],
      "source": [
        "print(x.size(1))\n",
        "print(x.shape[1])"
      ]
    },
    {
      "cell_type": "markdown",
      "metadata": {
        "id": "6PtvlxjmMu8k"
      },
      "source": [
        "Get number of elements in the last dimension."
      ]
    },
    {
      "cell_type": "code",
      "execution_count": null,
      "metadata": {
        "id": "MHOFlgXxMu8l",
        "outputId": "6c274bea-0a06-47b3-deb6-6d92acf3c34b"
      },
      "outputs": [
        {
          "name": "stdout",
          "output_type": "stream",
          "text": [
            "2\n",
            "2\n"
          ]
        }
      ],
      "source": [
        "print(x.size(-1))\n",
        "print(x.shape[-1])"
      ]
    }
  ],
  "metadata": {
    "kernelspec": {
      "display_name": "Python 3",
      "language": "python",
      "name": "python3"
    },
    "language_info": {
      "codemirror_mode": {
        "name": "ipython",
        "version": 3
      },
      "file_extension": ".py",
      "mimetype": "text/x-python",
      "name": "python",
      "nbconvert_exporter": "python",
      "pygments_lexer": "ipython3",
      "version": "3.8.8"
    },
    "colab": {
      "name": "04-04-tensor.ipynb",
      "provenance": [],
      "include_colab_link": true
    }
  },
  "nbformat": 4,
  "nbformat_minor": 0
}