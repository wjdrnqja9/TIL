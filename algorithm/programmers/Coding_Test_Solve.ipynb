{
  "cells": [
    {
      "cell_type": "markdown",
      "metadata": {
        "id": "view-in-github",
        "colab_type": "text"
      },
      "source": [
        "<a href=\"https://colab.research.google.com/github/wjdrnqja9/TIL/blob/main/algorithm/programmers/Coding_Test_Solve.ipynb\" target=\"_parent\"><img src=\"https://colab.research.google.com/assets/colab-badge.svg\" alt=\"Open In Colab\"/></a>"
      ]
    },
    {
      "cell_type": "code",
      "execution_count": null,
      "id": "c6233714",
      "metadata": {
        "id": "c6233714",
        "outputId": "b64f6f34-f3de-468c-e44e-5b3b2be19504"
      },
      "outputs": [
        {
          "name": "stdout",
          "output_type": "stream",
          "text": [
            "boxes: [2, 3, 6, 7, 8, 10, 11, 12]\n",
            "step: [3]\n",
            "step: [3, 6]\n",
            "step: [3, 6, 8]\n",
            "step: [3, 6, 8, 11]\n",
            "step: [3, 6, 8, 11, 12]\n",
            "boxes: [9, 8, 7, 6, 5, 4, 3, 2, 1, 10]\n",
            "step: [1]\n",
            "step: [1, 2]\n",
            "step: [1, 2, 3]\n",
            "step: [1, 2, 3, 4]\n",
            "step: [1, 2, 3, 4, 5]\n",
            "step: [1, 2, 3, 4, 5, 6]\n",
            "step: [1, 2, 3, 4, 5, 6, 7]\n",
            "step: [1, 2, 3, 4, 5, 6, 7, 8]\n",
            "step: [1, 2, 3, 4, 5, 6, 7, 8, 9]\n",
            "step: [1, 2, 3, 4, 5, 6, 7, 8, 9, 10]\n"
          ]
        },
        {
          "data": {
            "text/plain": [
              "9"
            ]
          },
          "execution_count": 13,
          "metadata": {},
          "output_type": "execute_result"
        }
      ],
      "source": [
        "# 문제 1번\n",
        "def solution(h, k, boxes):\n",
        "    \"\"\"\n",
        "    탐욕법 알고리즘을 사용한 문제입니다.\n",
        "    리스트에서 0부터 h까지 가장 적은 발팔을 써서 건너는 방법\n",
        "    가장 적은 발판을 쓰려면 현재 위치에서 밟을 수 있는 발판 중 가장 숫자가 큰 발판만 사용\n",
        "    \"\"\"\n",
        "    answer = int() # answer = 0\n",
        "    \n",
        "    boxes.append(h)\n",
        "    sorted(boxes)\n",
        "    location = int() # 0번 발판에서 시작, 현재 밟고있는 발판을 나타낼 변수\n",
        "    step = list() #실제 밟을 발판\n",
        "    print('boxes: {}'.format(boxes))\n",
        "    while location != h: # O(n)\n",
        "        # 0-> 2, 3 0 + 3 만큼의 발판을 밟을 수 있죠?\n",
        "        # location에서 + 3이하의 배열값이 필요합니다.\n",
        "        \n",
        "        able = [x for x in boxes if location + k >= x] # 밟을 수 있는 발판 list: 현재 밟고있는 발판 + k 이하의 숫자만 밟을 수 있음\n",
        "#         print(able)\n",
        "        \"\"\"\n",
        "        able = list()\n",
        "        for x in boxes: # 시간복잡도: O(len(boxes))\n",
        "            if location + k >= x:\n",
        "                able.append(x)\n",
        "        \"\"\"\n",
        "        if able: # able배열에 값이 있을경우 즉 빈배열이 아닐경우\n",
        "            # 밟을 수 있는 경우 발판 중 가장 큰 값(탐욕법)을 step에 append\n",
        "            location = max(able)\n",
        "            step.append(location)\n",
        "        else:\n",
        "            return - 1\n",
        "        \n",
        "        print('step: {}'.format(step))\n",
        "        \n",
        "    answer = len(step) - 1\n",
        "        \n",
        "    return answer\n",
        "\n",
        "\n",
        "h = 12\n",
        "k = 3\n",
        "boxes = [2, 3, 6, 7, 8, 10, 11]\n",
        "\n",
        "\n",
        "solution(h, k, boxes)\n",
        "\n",
        "\n",
        "h = 10\n",
        "k = 1\n",
        "boxes = [9, 8, 7, 6, 5, 4, 3, 2, 1]\n",
        "solution(h, k, boxes)\n"
      ]
    },
    {
      "cell_type": "markdown",
      "id": "6abdc7f5",
      "metadata": {
        "id": "6abdc7f5"
      },
      "source": [
        "## greedy algorithm\n",
        "1. 선택 절차: 현재 상태에서 최적의 답을 선택\n",
        "2. 적절성 검사: 선택된 해가 문제의 조건을 만족하는지 검사\n",
        "3. 해답 검사: 원래의 문제가 해결됐는지, 해결되지 않았다면 선택절차로 돌아간다."
      ]
    },
    {
      "cell_type": "code",
      "execution_count": null,
      "id": "1b6aa8dd",
      "metadata": {
        "id": "1b6aa8dd",
        "outputId": "97b8d9a2-88fa-4c18-9307-51c9003239dd"
      },
      "outputs": [
        {
          "name": "stdout",
          "output_type": "stream",
          "text": [
            "1번째 loop\n",
            "사용 가능한 ip: [1, 2]\n",
            "key: desktop1\n",
            "value:request\n",
            "할당 후 사용 가능한 ip: [2]\n",
            "answer: ['desktop1 192.168.0.1']\n",
            "\n",
            "2번째 loop\n",
            "사용 가능한 ip: [2]\n",
            "key: desktop2\n",
            "value:request\n",
            "할당 후 사용 가능한 ip: []\n",
            "answer: ['desktop1 192.168.0.1', 'desktop2 192.168.0.2']\n",
            "\n",
            "key: desktop1\n",
            "value:release\n",
            "할당 후 사용 가능한 ip: [1]\n",
            "answer: ['desktop1 192.168.0.1', 'desktop2 192.168.0.2']\n",
            "\n",
            "key: desktop2\n",
            "value:release\n",
            "할당 후 사용 가능한 ip: [1, 2]\n",
            "answer: ['desktop1 192.168.0.1', 'desktop2 192.168.0.2']\n",
            "\n",
            "5번째 loop\n",
            "사용 가능한 ip: [1, 2]\n",
            "key: desktop3\n",
            "value:request\n",
            "할당 후 사용 가능한 ip: [2]\n",
            "answer: ['desktop1 192.168.0.1', 'desktop2 192.168.0.2', 'desktop3 192.168.0.1']\n",
            "\n",
            "key: desktop3\n",
            "value:release\n",
            "할당 후 사용 가능한 ip: [2, 1]\n",
            "answer: ['desktop1 192.168.0.1', 'desktop2 192.168.0.2', 'desktop3 192.168.0.1']\n",
            "\n",
            "7번째 loop\n",
            "사용 가능한 ip: [2, 1]\n",
            "key: desktop2\n",
            "value:request\n",
            "할당 후 사용 가능한 ip: [2]\n",
            "answer: ['desktop1 192.168.0.1', 'desktop2 192.168.0.2', 'desktop3 192.168.0.1', 'desktop2 192.168.0.2']\n",
            "\n",
            "8번째 loop\n",
            "사용 가능한 ip: [2]\n",
            "key: desktop1\n",
            "value:request\n",
            "할당 후 사용 가능한 ip: []\n",
            "answer: ['desktop1 192.168.0.1', 'desktop2 192.168.0.2', 'desktop3 192.168.0.1', 'desktop2 192.168.0.2', 'desktop1 192.168.0.1']\n",
            "\n"
          ]
        },
        {
          "data": {
            "text/plain": [
              "['desktop1 192.168.0.1',\n",
              " 'desktop2 192.168.0.2',\n",
              " 'desktop3 192.168.0.1',\n",
              " 'desktop2 192.168.0.2',\n",
              " 'desktop1 192.168.0.1']"
            ]
          },
          "execution_count": 33,
          "metadata": {},
          "output_type": "execute_result"
        }
      ],
      "source": [
        "# 문제 2번\n",
        "def solution(n, queries):\n",
        "    \"\"\"\n",
        "    문자열 매칭\n",
        "    \"\"\"\n",
        "    answer = list() # answer = []\n",
        "    # ip : 1... n\n",
        "    available_ip = [i for i in range(1, n+1)]\n",
        "    '''\n",
        "    available_ip = list()\n",
        "    for i in range(1, n+1):\n",
        "        available_ip.append(i)\n",
        "    '''\n",
        "    for i, query in enumerate(queries):\n",
        "        key = query.split()[0]\n",
        "        value = query.split()[1]\n",
        "        \n",
        "        target = [s for s in answer if s.startswith(key)] # 정답 리스트에서 key로 시작하는 쿼리\n",
        "        \n",
        "        if value == 'request' and available_ip: # request이면서 할당 할 ip가 있는 경우\n",
        "            print('{}번째 loop\\n사용 가능한 ip: {}'.format(i+1, available_ip))\n",
        "            if target and [s for s in target if s.split()[1] != 'reject']: # 이전에 사용했던 ip가 있는지 검사\n",
        "                ip = '192.168.0.{}'.format(int([i for i in answer if i.startswith(key)][-1][-1])) # value가 reject가 아니면서 리스트의 가장 마지막에 담긴 ip\n",
        "                \n",
        "            else: # 이전에 사용했던 ip가 없다면 사용 가능한 ip list중 가장 작은값의 ip를 할당 -> 탐욕법?\n",
        "                ip = '192.168.0.{}'.format(min(available_ip))\n",
        "                \n",
        "            answer.append('{} {}'.format(key, ip))\n",
        "            available_ip.remove(min(available_ip))\n",
        "            \n",
        "        elif value == 'request' and not available_ip: # request지만 할당 할 수 있는 ip가 없는 경우\n",
        "            answer.append('{} {}'.format(key, 'reject'))\n",
        "        else: # release 일 경우\n",
        "            available_ip.append(int(target[-1][-1])) # 사용 가능한 ip list에 반납된 ip를 추가한다.\n",
        "            \n",
        "        print('key: {}\\nvalue:{}\\n할당 후 사용 가능한 ip: {}\\nanswer: {}\\n'.format(key, value, available_ip, answer))\n",
        "            \n",
        "    return answer\n",
        "    \n",
        "n = 2\n",
        "# queries = [\"desktop1 request\", \n",
        "#            \"desktop2 request\", \n",
        "#            \"desktop3 request\", \n",
        "#            \"desktop3 request\", \n",
        "#            \"desktop1 release\", \n",
        "#            \"desktop3 request\"]\n",
        "\n",
        "# solution(n, queries)\n",
        "\n",
        "queries = [\"desktop1 request\", \n",
        "           \"desktop2 request\", \n",
        "           \"desktop1 release\", \n",
        "           \"desktop2 release\", \n",
        "           \"desktop3 request\", \n",
        "           \"desktop3 release\", \n",
        "           \"desktop2 request\", \n",
        "           \"desktop1 request\"]\n",
        "\n",
        "solution(n, queries)"
      ]
    },
    {
      "cell_type": "code",
      "execution_count": null,
      "id": "2a92a3a0",
      "metadata": {
        "id": "2a92a3a0",
        "outputId": "a4d738c3-b915-4cfc-e0b7-1549702cfdeb"
      },
      "outputs": [
        {
          "name": "stdout",
          "output_type": "stream",
          "text": [
            "action: 1\n",
            "page_log: ['1']\n",
            "back_log: []\n",
            "page_dict: {'1': 1}\n",
            "\n",
            "action: 10\n",
            "page_log: ['1', '10']\n",
            "back_log: []\n",
            "page_dict: {'1': 1, '10': 1}\n",
            "\n",
            "action: B\n",
            "page_log: ['1']\n",
            "back_log: ['10']\n",
            "page_dict: {'1': 2, '10': 1}\n",
            "\n",
            "action: 20\n",
            "page_log: ['1', '20']\n",
            "back_log: []\n",
            "page_dict: {'1': 2, '10': 1, '20': 1}\n",
            "\n",
            "action: 1\n",
            "page_log: ['1', '20', '1']\n",
            "back_log: []\n",
            "page_dict: {'1': 3, '10': 1, '20': 1}\n",
            "\n",
            "action: B\n",
            "page_log: ['1', '20']\n",
            "back_log: ['1']\n",
            "page_dict: {'1': 3, '10': 1, '20': 2}\n",
            "\n",
            "action: B\n",
            "page_log: ['1']\n",
            "back_log: ['1', '20']\n",
            "page_dict: {'1': 4, '10': 1, '20': 2}\n",
            "\n"
          ]
        },
        {
          "data": {
            "text/plain": [
              "4"
            ]
          },
          "execution_count": 43,
          "metadata": {},
          "output_type": "execute_result"
        }
      ],
      "source": [
        "# 문제 3\n",
        "def solution(s):\n",
        "    '''\n",
        "    stack을 두 배열로 사용하는 문제\n",
        "    '''\n",
        "    \n",
        "    answer = int() # type: int\n",
        "    page_log = list() # 기록된 페이지 (stack)\n",
        "    back_log = list() # '앞으로가기(F)' 를 사용하기 위한 '뒤로가기' 클릭 시 저장 리스트 (stack)\n",
        "    \n",
        "    page_dict = dict()\n",
        "    \n",
        "    for action in s.split():\n",
        "        if action == 'B': # 뒤로가기\n",
        "            if len(page_log) > 1:\n",
        "                back_log.append(page_log.pop())\n",
        "            else:\n",
        "                continue\n",
        "        elif action == 'F': # 앞으로가기\n",
        "            if back_log: # back_log 가 있을 경우\n",
        "                page_log.append(back_log.pop())\n",
        "            else:\n",
        "                continue\n",
        "        else: # 페이지가 들어올 경우\n",
        "            page_log.append(action)\n",
        "            back_log = list() # 페이지가 들어오면 앞으로가기를 막기 위해 backlog를 초기화한다.\n",
        "\n",
        "        \n",
        "        if not page_log: # 스택이 비어있을 경우, 즉 뒤로가기에서 page_log가 모두 빠진 경우\n",
        "            continue\n",
        "        elif page_log[-1] in page_dict:\n",
        "            page_dict[page_log[-1]] += 1 # 즉 방문을 한번이라도 했을 경우 + 1\n",
        "        else:\n",
        "            page_dict[page_log[-1]] = 1\n",
        "        \n",
        "        print(\"action: {}\\npage_log: {}\\nback_log: {}\\npage_dict: {}\\n\".format(action, page_log, back_log, page_dict))\n",
        "\n",
        "    answer = max(page_dict.values())\n",
        "    \n",
        "    return answer\n",
        "            \n",
        "s = \"1 10 B B 20 1 F B B\"\n",
        "\n",
        "solution(s)\n",
        "\n"
      ]
    },
    {
      "cell_type": "code",
      "execution_count": null,
      "id": "20a5ae4e",
      "metadata": {
        "id": "20a5ae4e",
        "outputId": "b106fd87-535f-4c40-bf63-74249940f321"
      },
      "outputs": [
        {
          "name": "stdout",
          "output_type": "stream",
          "text": [
            "[1, 1]\n",
            "[2, 1, 1]\n",
            "[2, 1, 1]\n"
          ]
        },
        {
          "data": {
            "text/plain": [
              "0"
            ]
          },
          "execution_count": 65,
          "metadata": {},
          "output_type": "execute_result"
        }
      ],
      "source": [
        "# 문제 4번\n",
        "def solution(people, tshirts):\n",
        "    '''\n",
        "    탐욕법\n",
        "    '''\n",
        "    answer = int()\n",
        "    people_dict = dict() # people_dict = {}\n",
        "    for person in people:\n",
        "        if person not in people_dict:\n",
        "            people_dict[person] = 1\n",
        "        else:\n",
        "            people_dict[person] += 1\n",
        "            \n",
        "    tshirts_dict = dict() # people_dict = {}\n",
        "    for shirt in tshirts:\n",
        "        if shirt not in tshirts_dict:\n",
        "            tshirts_dict[shirt] = 1\n",
        "        else:\n",
        "            tshirts_dict[shirt] += 1\n",
        "    \n",
        "    able = list()\n",
        "    for person in people_dict:\n",
        "        # 다시 풀이해서 전달 드리겠습니다 ㅎㅎ 그 전까지 한번 풀어봐주세요 :)\n",
        "        if person  tshirts_dict: # 티셔츠 리스트에 사람이 입을 수 있는 사이즈가 있을 경우에만\n",
        "            # 사이즈 사람 인원 수와 사이즈 티셔츠 갯 수 중 가장 작은값을 구하는 것\n",
        "            answer = [people_dict.]\n",
        "            answer += min(people_dict[person], tshirts_dict[person])\n",
        "            print('people_dict: {}\\ntshirts_dict: {}\\nanswer: {}'.format(people_dict, tshirts_dict, answer))\n",
        "    \n",
        "    return answer\n",
        "\n",
        "people = [1, 2, 3]\n",
        "tshirts = [1, 1, 3, 5]\n",
        "\n",
        "solution(people, tshirts)"
      ]
    },
    {
      "cell_type": "markdown",
      "id": "3a3ed01e",
      "metadata": {
        "id": "3a3ed01e"
      },
      "source": [
        "### 비슷한 문제\n",
        "+ 문제 1: 'https://programmers.co.kr/learn/courses/30/lessons/42883?language=python3'\n",
        "+ 문제 2: 'https://programmers.co.kr/learn/courses/30/lessons/42888?language=python3'\n",
        "+ 문제 3: 'https://programmers.co.kr/learn/courses/30/lessons/42584?language=python3'\n",
        "+ 문제 4: 'https://programmers.co.kr/learn/courses/30/lessons/42862?language=python3'\n",
        "\n",
        "### 처음 문제를 봤을때\n",
        "1. 입력과 공간 상한을 확인해요\n",
        "2. 완전탐색으로 문제 플이\n",
        "3. 시간 배분을 잘해야한다.\n",
        "4. 문제푸는데 절반 이하 시간정도만 사용하고 나머지는 머리속으로 정리 또는 텍스트, 출력문으로 정리\n",
        "\n",
        "### 기본으로 알아야하는 문제 유형(무조건 외워야 하는 알고리즘)\n",
        "1. 순열, 조합\n",
        "2. 정렬\n",
        "3. 최대공약수, 공배수\n",
        "4. 재귀함수(DFS) 큐(BFS), Stack\n",
        "5. DP\n",
        "6. 탐욕법\n",
        "...\n",
        "\n",
        "### 시간복잡도\n",
        "https://velog.io/@jelkov/Time-Complexity\n",
        "\n",
        "### 공간복잡도\n",
        "+ 알고리즘 조건에 메모리 조건이 나올때도 있다\n",
        "\n",
        "백준의 경우 -> 256mb\n",
        "\n",
        "### 코테 난이도\n",
        "프로그래머스 1단계 문제가 초반에 무조건 나옴\n",
        "\n",
        "카카오 4문제 -> \n",
        "\n",
        "1 (최소 난이도)\n",
        "\n",
        "3후반~4초반 (최대 난이도)\n",
        "\n",
        "### 코테 연습 사이트\n",
        "백준: https://www.acmicpc.net/problemset\n",
        "\n",
        "프로그래머스: https://programmers.co.kr/\n",
        "\n",
        "리트코드: https://leetcode.com/\n",
        "\n",
        "해커랭크: https://www.hackerrank.com/"
      ]
    }
  ],
  "metadata": {
    "kernelspec": {
      "display_name": "Python 3 (ipykernel)",
      "language": "python",
      "name": "python3"
    },
    "language_info": {
      "codemirror_mode": {
        "name": "ipython",
        "version": 3
      },
      "file_extension": ".py",
      "mimetype": "text/x-python",
      "name": "python",
      "nbconvert_exporter": "python",
      "pygments_lexer": "ipython3",
      "version": "3.8.13"
    },
    "colab": {
      "name": "Coding_Test_Solve.ipynb",
      "provenance": [],
      "include_colab_link": true
    }
  },
  "nbformat": 4,
  "nbformat_minor": 5
}