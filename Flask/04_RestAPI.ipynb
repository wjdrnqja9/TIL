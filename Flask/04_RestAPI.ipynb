{
  "cells": [
    {
      "cell_type": "markdown",
      "metadata": {
        "id": "view-in-github",
        "colab_type": "text"
      },
      "source": [
        "<a href=\"https://colab.research.google.com/github/wjdrnqja9/TIL/blob/main/Flask/04_RestAPI.ipynb\" target=\"_parent\"><img src=\"https://colab.research.google.com/assets/colab-badge.svg\" alt=\"Open In Colab\"/></a>"
      ]
    },
    {
      "cell_type": "code",
      "execution_count": null,
      "id": "8579bb86",
      "metadata": {
        "id": "8579bb86"
      },
      "outputs": [],
      "source": [
        "from flask import Flask\n",
        "from flask import render_template"
      ]
    },
    {
      "cell_type": "code",
      "execution_count": null,
      "id": "8ffbab0d",
      "metadata": {
        "id": "8ffbab0d"
      },
      "outputs": [],
      "source": [
        "app = Flask(__name__)"
      ]
    },
    {
      "cell_type": "code",
      "execution_count": null,
      "id": "4946c3b5",
      "metadata": {
        "id": "4946c3b5"
      },
      "outputs": [],
      "source": [
        "@app.route('/hello')\n",
        "def hello_world():\n",
        "    return \"hello world\""
      ]
    },
    {
      "cell_type": "code",
      "execution_count": null,
      "id": "399375ba",
      "metadata": {
        "id": "399375ba"
      },
      "outputs": [],
      "source": [
        "@app.route('/product/<name>')\n",
        "def get_product(name):\n",
        "    return \"The product is \" + str(name)"
      ]
    },
    {
      "cell_type": "code",
      "execution_count": null,
      "id": "514d95a9",
      "metadata": {
        "id": "514d95a9"
      },
      "outputs": [],
      "source": [
        "@app.route('/sale/<transaction_id>')\n",
        "def get_sale(transaction_id=0):\n",
        "    return \"The transaction is \"+str(transaction_id)"
      ]
    },
    {
      "cell_type": "code",
      "execution_count": null,
      "id": "e6de62aa",
      "metadata": {
        "id": "e6de62aa"
      },
      "outputs": [],
      "source": [
        "@app.route('/create/<first_name>/<last_name>')\n",
        "def create(first_name=None, last_name=None):\n",
        "    return 'Hello ' + first_name + ',' + last_name"
      ]
    },
    {
      "cell_type": "code",
      "execution_count": null,
      "id": "1fc097aa",
      "metadata": {
        "id": "1fc097aa",
        "outputId": "e3e16d37-0093-42a6-b037-1e5533a918e1"
      },
      "outputs": [
        {
          "name": "stdout",
          "output_type": "stream",
          "text": [
            " * Serving Flask app '__main__' (lazy loading)\n",
            " * Environment: production\n",
            "\u001b[31m   WARNING: This is a development server. Do not use it in a production deployment.\u001b[0m\n",
            "\u001b[2m   Use a production WSGI server instead.\u001b[0m\n",
            " * Debug mode: off\n"
          ]
        },
        {
          "name": "stderr",
          "output_type": "stream",
          "text": [
            " * Running on all addresses (0.0.0.0)\n",
            "   WARNING: This is a development server. Do not use it in a production deployment.\n",
            " * Running on http://127.0.0.1:5000\n",
            " * Running on http://172.30.65.187:5000 (Press CTRL+C to quit)\n",
            "127.0.0.1 - - [06/Jul/2022 08:37:24] \"GET / HTTP/1.1\" 200 -\n"
          ]
        }
      ],
      "source": [
        "app.run(host='0.0.0.0', port=5000)"
      ]
    },
    {
      "cell_type": "code",
      "execution_count": null,
      "id": "af067ed7",
      "metadata": {
        "id": "af067ed7"
      },
      "outputs": [],
      "source": [
        ""
      ]
    }
  ],
  "metadata": {
    "kernelspec": {
      "display_name": "Python 3 (ipykernel)",
      "language": "python",
      "name": "python3"
    },
    "language_info": {
      "codemirror_mode": {
        "name": "ipython",
        "version": 3
      },
      "file_extension": ".py",
      "mimetype": "text/x-python",
      "name": "python",
      "nbconvert_exporter": "python",
      "pygments_lexer": "ipython3",
      "version": "3.10.2"
    },
    "colab": {
      "name": "04.RestAPI.ipynb",
      "provenance": [],
      "include_colab_link": true
    }
  },
  "nbformat": 4,
  "nbformat_minor": 5
}