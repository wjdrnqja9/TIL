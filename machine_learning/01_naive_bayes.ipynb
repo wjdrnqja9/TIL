{
  "cells": [
    {
      "cell_type": "markdown",
      "metadata": {
        "id": "view-in-github",
        "colab_type": "text"
      },
      "source": [
        "<a href=\"https://colab.research.google.com/github/wjdrnqja9/TIL/blob/main/machine_learning/01_naive_bayes.ipynb\" target=\"_parent\"><img src=\"https://colab.research.google.com/assets/colab-badge.svg\" alt=\"Open In Colab\"/></a>"
      ]
    },
    {
      "cell_type": "markdown",
      "metadata": {
        "id": "N18B7_x0BhtB"
      },
      "source": [
        "#### 머신러닝 모델\n",
        "- 수치형 데이터 예측 : 회귀모델 : 지도학습 : target 이 있음\n",
        "- 범주형 데이터 예측 : 분류모델 : 지도학습 : target 이 있음\n",
        "    - 나이브베이즈 : 텍스트 데이터 분류\n",
        "    - SVM : 이미지, 음향\n",
        "    - 디시전트리(랜덤포레스트) : 그외의 경우\n",
        "- 군집분석 : 비지도학습 : target 이 없음"
      ]
    },
    {
      "cell_type": "markdown",
      "metadata": {
        "id": "IaqU1SBXBhtF"
      },
      "source": [
        "## 나이브 베이즈 : Naive Bayes\n",
        "- 특성들 사이의 독립을 가정하는 베이즈 정리를 적용한 확률 분류기"
      ]
    },
    {
      "cell_type": "markdown",
      "metadata": {
        "id": "lkYVxcspBhtG"
      },
      "source": [
        "### Index\n",
        "1. 조건부 확률\n",
        "2. 베이즈 정리\n",
        "3. 조건부 확률과 베이즈 정리의 관계\n",
        "4. 테니스 데이터 예시\n",
        "5. 나이브 베이즈 적용\n",
        "6. 나이브 베이즈 종류\n",
        "7. 평가 결과의 해석"
      ]
    },
    {
      "cell_type": "markdown",
      "metadata": {
        "id": "JwfzXQBTBhtH"
      },
      "source": [
        "### 1. 조건부 확률\n",
        "- 사건 A가 발생했다는 조건에 사건 B가 발생할 확률\n",
        "- 사건 A가 발생했을때 사건 B의 조건부 확률\n",
        "- $P(B|A) = \\frac{P(B \\cap A)}{P(A)}$\n",
        "- 특징\n",
        "    - $P(B|A) \\neq P(A|B)$\n",
        "    - $P(A \\cap B) = P(B)P(A|B) = P(A)P(B|A)$\n",
        "    - $P(A|B) = \\frac{P(A \\cap B)}{P(B)} = \\frac{P(A)P(B|A)}{P(B)}$\n",
        "    - 사건 B가 발생했을때 사건 A가 발생할 확률을 사건 A가 발생했을때 사건 B가 발생할 확률로 알아낼수 있다.\n",
        "    - $P(B|A)$ 로 $P(A|B)$ 를 알아낼수 있다."
      ]
    },
    {
      "cell_type": "markdown",
      "metadata": {
        "id": "2g5QuJw_BhtH"
      },
      "source": [
        "#### 조건부 확률 예시\n",
        "\n",
        "- A를 구매한 사람에게 B를 구매하라고 추천하는게 좋을까?\n",
        "  - $P(A) = 0.7, P(B) = 0.6, P(A \\cap B) = 0.5$\n",
        "  - A를 구매한 사람이 B를 구매할 확률 : $P(B|A) = \\frac{P(A \\cap B)}{P(A)}$ = $\\frac{0.5}{0.7} = 0.714$\n",
        "  - B를 구매할 확률 : $P(B)=0.6$\n",
        "  - 결론 : A를 구매하고 B를 구매하는것이 그냥 B를 구매하는 확률보다 높다. -> 추천하는것이 좋다!  \n",
        "- A를 구매한 사람이 B를 구매할 확률로 B를 구매한사람이 A를 구매할 확률을 구할수 있다.    \n",
        "  - B를 구매한사람이 A를 구매할 확률 : $P(A|B) = \\frac{P(A)P(B|A)}{P(B)} = \\frac{0.7*0.714}{0.6}=0.833$"
      ]
    },
    {
      "cell_type": "markdown",
      "metadata": {
        "id": "wEsx8qv2BhtI"
      },
      "source": [
        "### 2. 베이즈 정리\n",
        "- 이전의 경험과 현재의 증거를 토대로 어떤 사건의 확률을 구하는 방법\n",
        "- 조건부 확률을 이용하여 사전확률과 사후확률을 계산\n",
        "- 사후확률로 사전확률을 예측 -> 결과로 원인의 추론이 가능\n",
        "- A과거의 경험, B현재의 경험 -> 사건 B(사후확률)가 일어났을때 사건 A(사전확률)가 일어날 확률\n",
        "- 베이즈 정리의 조건\n",
        "  - $A_1, ..., A_k$: 배반사건 : 확률의 중복이 없음\n",
        "  - $\\cup_{i=1,...,k} A_i = S$: A의 합집합의 확률 1\n"
      ]
    },
    {
      "cell_type": "markdown",
      "source": [
        "prior -> 사전확률, posterior -> 사후확률"
      ],
      "metadata": {
        "id": "ss7pZhRtlm6J"
      }
    },
    {
      "cell_type": "code",
      "execution_count": null,
      "metadata": {
        "id": "vrkOvuxkCCAt"
      },
      "outputs": [],
      "source": [
        "from IPython.display import Image\n",
        "Image('imgs/naive_bayes_1.png')"
      ]
    },
    {
      "cell_type": "markdown",
      "metadata": {
        "id": "9bUUgWJLBhtJ"
      },
      "source": [
        "- $B$가 주어졌을때 $A_i$일 확률\n",
        "$$P(A_i|B)=\\frac{P(A_i \\cap B)}{P(B)}$$    \n",
        "\n",
        "- $A$는 배반사건이므로 확률의 합집합은 +로 표현가능\n",
        "- $P(B)$는 $P(A_1 \\cap B) + ... + P(A_k \\cap B)$로 표현가능\n",
        "$$\\Rightarrow \\frac{P(A_i \\cap B)}{P(A_1 \\cap B) + ... + P(A_k \\cap B)}$$\n",
        "\n",
        "\n",
        "- 조건부 확률\n",
        "\n",
        "$$ P(A \\cap B) = P(B)P(A|B) = P(A)P(B|A)$$\n",
        "\n",
        "\n",
        "- 최종 표현 수식\n",
        "\n",
        "$$ \\Rightarrow\\frac{P(B|A_i)P(A_i)}{P(B|A_1)P(A_1)+...+P(B|A_k)P(A_k)}$$"
      ]
    },
    {
      "cell_type": "markdown",
      "metadata": {
        "id": "DV2c2VHrBhtJ"
      },
      "source": [
        "#### 베이즈 정리 예시\n",
        "- 1번 라인 : 불량 10%, 10000개 생산\n",
        "- 2번 라인 : 불량 15%, 10000개 생산\n",
        "- 문제 : 노트북을 꺼냈더니 불량이 나왔다 이 노트북이 1번 라인에서 조립되었을 확률은?\n",
        "\n",
        "\n",
        "$$P(1|불량) = \\frac{P(1 \\cap 불량)}{P(불량)} = \\frac{P(불량|1)P(1)}{P(불량)} = \\frac{P(불량|1)P(1)}{P(불량|1)P(1) + P(불량|2)P(2)}$$\n",
        "\n",
        "\n",
        "$$ = \\frac{0.1}{0.1 + 0.15}=0.4 $$"
      ]
    },
    {
      "cell_type": "markdown",
      "metadata": {
        "id": "iqdCOW-eBhtK"
      },
      "source": [
        "### 3. 조건부 확률과 베이즈 정리의 관계"
      ]
    },
    {
      "cell_type": "markdown",
      "metadata": {
        "id": "SKHNXiImBhtK"
      },
      "source": [
        "- 조건부 확률\n",
        "\n",
        "$$P(B|A) = \\frac{P(B \\cap A)}{P(A)}$$\n",
        "\n",
        "\n",
        "$$ P(A \\cap B) = P(B)P(A|B) = P(A)P(B|A)$$\n",
        "\n",
        "\n",
        "- 베이즈 정리\n",
        "\n",
        "\n",
        "$$ P(A_i|B)=\\frac{P(A_i \\cap B)}{P(B)}=\\frac{P(A_i)P(B|A_i)}{P(B)}$$\n",
        "\n",
        "\n",
        "\n",
        "- $P(B)$ 를 모를 경우 조건부 확률을 사용해서 구할수 있음\n",
        "\n",
        "\n",
        "$$ P(A_i|B)=\\frac{P(A_i \\cap B)}{P(B)}=\\frac{P(B|A_i)P(A_i)}{P(B|A_1)P(A_1)+...+P(B|A_k)P(A_k)}$$"
      ]
    },
    {
      "cell_type": "code",
      "execution_count": null,
      "metadata": {
        "id": "nEMkk9moBhtL"
      },
      "outputs": [],
      "source": [
        "%config InlineBackend.figure_formats = {'png', 'retina'}\n",
        "\n",
        "import warnings\n",
        "warnings.filterwarnings('ignore')\n",
        "\n",
        "import pandas as pd \n",
        "import numpy as np\n",
        "import matplotlib as mpl\n",
        "import matplotlib.pyplot as plt\n",
        "import seaborn as sns"
      ]
    },
    {
      "cell_type": "markdown",
      "metadata": {
        "id": "OWyKLguSBhtM"
      },
      "source": [
        "### 4. 나이브 베이즈 예시"
      ]
    },
    {
      "cell_type": "code",
      "execution_count": null,
      "metadata": {
        "id": "_Xhzi_waBhtM"
      },
      "outputs": [],
      "source": [
        "tennis = pd.read_csv(\"./data/play_tennis.csv\")\n",
        "tennis"
      ]
    },
    {
      "cell_type": "markdown",
      "metadata": {
        "id": "lymDXgKFBhtN"
      },
      "source": [
        "- 조건부 확률\n",
        "    - 날씨와 습도가 Rain, Nomal 할때 테니스를 칠 확률\n",
        "    \n",
        "$$P(Yes|Rain,Nomal)=\\frac{P(Yes,Rain,Nomal)}{P(Rain,Nomal)}=\\frac{\\frac{2}{14}}{\\frac{3}{14}}=\\frac{2}{3}$$"
      ]
    },
    {
      "cell_type": "code",
      "execution_count": null,
      "metadata": {
        "id": "rkjzVq0_BhtN"
      },
      "outputs": [],
      "source": [
        "# 날씨, 습도 : Rain, Normal : 3회\n",
        "rain_normal = tennis[(tennis[\"outlook\"] == \"Rain\") & (tennis[\"humidity\"] == \"Normal\")]\n",
        "\n",
        "# 날씨, 습도, 테니스 : Rain, Normal, Yes : 2회\n",
        "rain_normal_yes = tennis[(tennis[\"outlook\"] == \"Rain\") & (tennis[\"humidity\"] == \"Normal\") & (tennis[\"play\"] == \"Yes\")]\n",
        "\n",
        "# Rain Normal, Rain Normal Yes, Total \n",
        "len(rain_normal), len(rain_normal_yes), len(tennis)"
      ]
    },
    {
      "cell_type": "markdown",
      "metadata": {
        "id": "wdkkFvvaBhtO"
      },
      "source": [
        "- 베이지안 정리\n",
        "  - 테니스를 칠 확률 : $P(Yes)=\\frac{9}{14}$\n",
        "  - 테니스를 안칠 확률 : $P(No)=\\frac{5}{14}$\n",
        "  - 테니스를 쳤을때 Rain Normal할 확률 : $P(Rain, Normal|Yes)=\\frac{2}{9}$\n",
        "  - 테니스를 안쳤을때 Rain Normal할 확률 : $P(Rain, Normal|No)=\\frac{1}{5}$\n",
        "  - 테니스를 치고 Rain Normal할때 테니스를 칠 확률 : $P(Rain,Normal|Yes)P(Yes)=\\frac{2}{9}*\\frac{9}{14}=\\frac{18}{126}$\n",
        "  - 테니스를 안치고 Rain Normal할때 테니스를 안칠 확률 : $P(Rain,Normal|No)P(No)=\\frac{1}{5}*\\frac{5}{14}=\\frac{1}{14}$\n",
        "  - Rain Normal할 확률 : $P(Rain,Normal)=\\frac{3}{14}$"
      ]
    },
    {
      "cell_type": "markdown",
      "metadata": {
        "id": "1EPNQoVOBhtO"
      },
      "source": [
        "- 날씨와 습도가 Rain, Nomal 할때 테니스를 칠 확률\n",
        "    - 아래의 두가지로 표현이 가능\n",
        "    \n",
        "    - 조건부 확률\n",
        "\n",
        "$$P(Yes|Rain,Normal)=\\frac{P(Rain, Normal|Yes)P(Yes)}{P(Rain, Normal)}=\\frac{\\frac{18}{126}}{\\frac{3}{14}}=\\frac{6}{9}=\\frac{2}{3}$$\n",
        "\n",
        "    - 베이지안 정리\n",
        "\n",
        "$$\\frac{P(Rain,Normal|Yes)P(Yes)}{P(Rain,Normal|Yes)P(Yes)+P(Rain,Normal|No)P(No)}=\\frac{\\frac{18}{126}}{\\frac{18}{126}+\\frac{1}{14}(=\\frac{9}{126})}=\\frac{\\frac{18}{126}}{\\frac{27}{126}}=\\frac{2}{3}$$"
      ]
    },
    {
      "cell_type": "code",
      "execution_count": null,
      "metadata": {
        "id": "Rqi3RYHaBhtO"
      },
      "outputs": [],
      "source": [
        "# 테니스를 칠 확률 : 9 / 14\n",
        "yes = len(tennis[tennis[\"play\"] == \"Yes\"]) / len(tennis)\n",
        "len(tennis[tennis[\"play\"] == \"Yes\"]), len(tennis), yes"
      ]
    },
    {
      "cell_type": "code",
      "execution_count": null,
      "metadata": {
        "id": "cMXOCH0lBhtP"
      },
      "outputs": [],
      "source": [
        "# 테니스를 쳤을때 Rain Normal할 확률 : 2 / 9\n",
        "yes_rain_normal = len(tennis[(tennis[\"outlook\"] == \"Rain\") & (tennis[\"humidity\"] == \"Normal\") & (tennis[\"play\"] == \"Yes\")])\\\n",
        "/ len(tennis[tennis[\"play\"] == \"Yes\"])\n",
        "len(tennis[(tennis[\"outlook\"] == \"Rain\") & (tennis[\"humidity\"] == \"Normal\") & (tennis[\"play\"] == \"Yes\")])\\\n",
        ", len(tennis[tennis[\"play\"] == \"Yes\"]), yes_rain_normal"
      ]
    },
    {
      "cell_type": "code",
      "execution_count": null,
      "metadata": {
        "id": "AeMEsv9DBhtP"
      },
      "outputs": [],
      "source": [
        "# 테니스를 안쳤을때 Rain Normal할 확률 : 1 / 5\n",
        "no_rain_normal = len(tennis[(tennis[\"outlook\"] == \"Rain\") & (tennis[\"humidity\"] == \"Normal\") & (tennis[\"play\"] == \"No\")])\\\n",
        "/ len(tennis[tennis[\"play\"] == \"No\"])\n",
        "len(tennis[(tennis[\"outlook\"] == \"Rain\") & (tennis[\"humidity\"] == \"Normal\") & (tennis[\"play\"] == \"No\")])\\\n",
        ", len(tennis[tennis[\"play\"] == \"No\"]), no_rain_normal"
      ]
    },
    {
      "cell_type": "code",
      "execution_count": null,
      "metadata": {
        "id": "hPKForUCBhtQ"
      },
      "outputs": [],
      "source": [
        "# 테니스를 치고 Rain Normal할때 테니스를 칠 확률  : (2 / 9) * (9 / 14)\n",
        "yes_rain_normal * yes"
      ]
    },
    {
      "cell_type": "code",
      "execution_count": null,
      "metadata": {
        "id": "iPna5QrVBhtQ"
      },
      "outputs": [],
      "source": [
        "# Rain Normal할 확률 : 3 / 14\n",
        "len(tennis[(tennis[\"outlook\"] == \"Rain\") & (tennis[\"humidity\"] == \"Normal\")]), len(tennis),\\\n",
        "len(tennis[(tennis[\"outlook\"] == \"Rain\") & (tennis[\"humidity\"] == \"Normal\")]) / len(tennis)"
      ]
    },
    {
      "cell_type": "markdown",
      "metadata": {
        "id": "erkiycX2BhtQ"
      },
      "source": [
        "### 5. 나이브베이즈 적용\n",
        "- GaussianNB : 데이터가 정규분포를 따를때 사용"
      ]
    },
    {
      "cell_type": "code",
      "execution_count": null,
      "metadata": {
        "id": "HXl627n4BhtQ"
      },
      "outputs": [],
      "source": [
        "from sklearn.naive_bayes import GaussianNB"
      ]
    },
    {
      "cell_type": "code",
      "execution_count": null,
      "metadata": {
        "id": "UT4O8CIGBhtR"
      },
      "outputs": [],
      "source": [
        "# 전처리\n",
        "outlook = pd.get_dummies(tennis[\"outlook\"])\n",
        "humidity = pd.get_dummies(tennis[\"humidity\"])\n",
        "feature = pd.concat([outlook, humidity], axis=1)\n",
        "target = tennis[\"play\"].map({'Yes': 0, 'No': 1})"
      ]
    },
    {
      "cell_type": "code",
      "execution_count": null,
      "metadata": {
        "id": "hXvE5N7pBhtR"
      },
      "outputs": [],
      "source": [
        "tennis_df = pd.concat([feature, target], axis=1)\n",
        "tennis_df.tail(2)"
      ]
    },
    {
      "cell_type": "code",
      "execution_count": null,
      "metadata": {
        "id": "e1kkPIT8BhtR"
      },
      "outputs": [],
      "source": [
        "# 모델 학습\n",
        "model_1 = GaussianNB().fit(feature, target)"
      ]
    },
    {
      "cell_type": "code",
      "execution_count": null,
      "metadata": {
        "id": "wa3NaWDVBhtR"
      },
      "outputs": [],
      "source": [
        "# 예측 데이터\n",
        "pred_1 = model_1.predict(feature)"
      ]
    },
    {
      "cell_type": "code",
      "execution_count": null,
      "metadata": {
        "id": "pvlzSQRNBhtR"
      },
      "outputs": [],
      "source": [
        "# 예측 데이터 \n",
        "pred_1"
      ]
    },
    {
      "cell_type": "code",
      "execution_count": null,
      "metadata": {
        "id": "-Jkt2PKsBhtS",
        "scrolled": true
      },
      "outputs": [],
      "source": [
        "# 실제 데이터\n",
        "target.values"
      ]
    },
    {
      "cell_type": "code",
      "execution_count": null,
      "metadata": {
        "id": "lrVuxs7zBhtS"
      },
      "outputs": [],
      "source": [
        "# 모델 평가 : 찍어도 50%인데 64.2% 성능이 안좋음\n",
        "# 독립변수가 범주형 데이터 : BernoulliNB, MultinomialNB 을 사용하는것이 좋다.\n",
        "len(pred_1[pred_1 == target.values]) / len(target)"
      ]
    },
    {
      "cell_type": "code",
      "execution_count": null,
      "metadata": {
        "id": "HdbqIOmrBhtS"
      },
      "outputs": [],
      "source": [
        "sns.distplot(feature) # 데이터가 정규분포가 아님 : 이산형 데이터"
      ]
    },
    {
      "cell_type": "markdown",
      "metadata": {
        "id": "_t_WVK92BhtS"
      },
      "source": [
        "### 6. 나이브 베이즈 종류\n",
        "- GaussianNB : 정규분포\n",
        "    - 독립변수가 연속적일때 사용\n",
        "    - 독립변수가 정규분포일때 사용\n",
        "- BernoulliNB : 베르누이분포\n",
        "    - 독립변수가 범주형인경우 사용\n",
        "    - 종속변수가 0 또는 1의 두가지를 갖는 이산형인 경우 사용\n",
        "- MultinomialNB : 다항분포\n",
        "    - 독립변수가 범주형인경우 사용\n",
        "    - 종속변수가 여러개의 범주를 갖는 이산형인 경우 사용"
      ]
    },
    {
      "cell_type": "code",
      "execution_count": null,
      "metadata": {
        "id": "KjCYedwEBhtS"
      },
      "outputs": [],
      "source": [
        "from sklearn.naive_bayes import MultinomialNB"
      ]
    },
    {
      "cell_type": "code",
      "execution_count": null,
      "metadata": {
        "id": "QSM_6ZRCBhtT"
      },
      "outputs": [],
      "source": [
        "# 모델 학습\n",
        "model_2 = MultinomialNB().fit(feature, target)"
      ]
    },
    {
      "cell_type": "code",
      "execution_count": null,
      "metadata": {
        "id": "7Lj71y07BhtT"
      },
      "outputs": [],
      "source": [
        "# 예측\n",
        "pred_2 = model_2.predict(feature)"
      ]
    },
    {
      "cell_type": "code",
      "execution_count": null,
      "metadata": {
        "id": "3t2pSmkWBhtT"
      },
      "outputs": [],
      "source": [
        "# 평가 : GaussianNB 보다 성능이 좋다. : 독립변수가 정규분포가 아니기 때문에\n",
        "len(pred_2[pred_2 == target.values]) / len(target)"
      ]
    },
    {
      "cell_type": "code",
      "execution_count": null,
      "metadata": {
        "id": "5P2IUDDgBhtT"
      },
      "outputs": [],
      "source": [
        "# 데이터를 만들어서 예측\n",
        "# 흐린날 습도가 보통일때 테니스를 칠까?\n",
        "# Overcast, Rain, Sunny, High, Normal -> [1, 0, 0, 0, 1]"
      ]
    },
    {
      "cell_type": "code",
      "execution_count": null,
      "metadata": {
        "id": "xUFgPmUbBhtT"
      },
      "outputs": [],
      "source": [
        "tennis_df.tail(1)"
      ]
    },
    {
      "cell_type": "code",
      "execution_count": null,
      "metadata": {
        "id": "18J09cSqBhtT"
      },
      "outputs": [],
      "source": [
        "sample = np.array([1, 0, 0, 0, 1])"
      ]
    },
    {
      "cell_type": "code",
      "execution_count": null,
      "metadata": {
        "id": "0HuoaYhEBhtU"
      },
      "outputs": [],
      "source": [
        "proba = model_2.predict_proba([sample])[0]\n",
        "result = model_2.predict([sample])[0]\n",
        "proba, result"
      ]
    },
    {
      "cell_type": "code",
      "execution_count": null,
      "metadata": {
        "id": "jkQXSLNmBhtU"
      },
      "outputs": [],
      "source": [
        "print(\"안 칠 확률: {}, 칠 확률: {},\".format(np.round(proba[0], 2), np.round(proba[1], 2)), end=\" \")\n",
        "print(\"결과 : {}\".format( \"테니스 친다.\" if result else \"테니스 안친다.\"))"
      ]
    },
    {
      "cell_type": "markdown",
      "metadata": {
        "id": "CXcAxUulBhtU"
      },
      "source": [
        "### 7. 평가 결과의 해석"
      ]
    },
    {
      "cell_type": "code",
      "execution_count": null,
      "metadata": {
        "id": "zqG3hNeEBhtU"
      },
      "outputs": [],
      "source": [
        "from sklearn.metrics import confusion_matrix, classification_report"
      ]
    },
    {
      "cell_type": "markdown",
      "metadata": {
        "id": "c8Un-TWfBhtU"
      },
      "source": [
        "- TP : True Positive : 테니스를 안치는 데이터에서 테니스를 안친다고 예측 : 8 \n",
        "- FN : False Nagative : 테니스를 안치는 데이터에서 테니스를 친다고 예측 : 1\n",
        "- FP : False Positive : 테니스를 치는 데이터에서 테니스를 안친다고 예측 : 1\n",
        "- TN : True Nagative : 테니스를 치는 데이터에서 테니스를 친다고 예측 : 4"
      ]
    },
    {
      "cell_type": "code",
      "execution_count": null,
      "metadata": {
        "id": "YLs9xGWyBhtU"
      },
      "outputs": [],
      "source": [
        "cm = confusion_matrix(target.values, pred_2)\n",
        "cm"
      ]
    },
    {
      "cell_type": "code",
      "execution_count": null,
      "metadata": {
        "id": "E5cgw-pkBhtV"
      },
      "outputs": [],
      "source": [
        "print(classification_report(target.values, pred_2))"
      ]
    },
    {
      "cell_type": "markdown",
      "metadata": {
        "id": "IIWqgF3wBhtV"
      },
      "source": [
        "- 정확도(accuracy)\n",
        "    - 전체 샘플 중 맞게 예측한 샘플 수의 비율을 뜻한다. 높을수록 좋은 모형이다.\n",
        "    - 12 / 14 = 0.86"
      ]
    },
    {
      "cell_type": "markdown",
      "metadata": {
        "id": "BEAjsZTZBhtV"
      },
      "source": [
        "$$ \\text{accuracy} = \\dfrac{TP + TN}{TP + TN + FP + FN} $$"
      ]
    },
    {
      "cell_type": "markdown",
      "metadata": {
        "id": "zYucmijkBhtV"
      },
      "source": [
        "- 정밀도(precision)\n",
        "    - 예측 데이터를 기준으로 예측된 데이터를 맞춘 비율 : 세로로 연산\n",
        "    - 0 : 8 / 9 = 0.89\n",
        "    - 1 : 4 / 5 = 0.80"
      ]
    },
    {
      "cell_type": "code",
      "execution_count": null,
      "metadata": {
        "id": "dSjT49VrBhtV"
      },
      "outputs": [],
      "source": [
        "cm"
      ]
    },
    {
      "cell_type": "markdown",
      "metadata": {
        "id": "Nr-fT_wlBhtV"
      },
      "source": [
        "$$\\text{precision} = \\dfrac{TP}{TP + FP}$$"
      ]
    },
    {
      "cell_type": "markdown",
      "metadata": {
        "id": "0f-mAdZoBhtV"
      },
      "source": [
        "- 재현율(recall)\n",
        "    - 실제 데이터룰 기준으로 예측된 데이터가 맞은 비율 : 가로로 연산\n",
        "    - 0 : 0.89\n",
        "    - 1 : 0.80"
      ]
    },
    {
      "cell_type": "code",
      "execution_count": null,
      "metadata": {
        "id": "_VbhSTQBBhtV"
      },
      "outputs": [],
      "source": [
        "cm"
      ]
    },
    {
      "cell_type": "markdown",
      "metadata": {
        "id": "7lwuGCMbBhtW"
      },
      "source": [
        "$$\\text{recall} = \\dfrac{TP}{TP + FN}$$"
      ]
    },
    {
      "cell_type": "markdown",
      "metadata": {
        "id": "bwbQmyZHBhtW"
      },
      "source": [
        "- F점수(F-score)\n",
        "    - 정밀도와 재현율의 가중조화평균(weight harmonic average)을 F점수(F-score)라고 한다. 정밀도에 주어지는 가중치를 베타(beta)라고 한다.\n",
        "    - 베타가 1인 경우를 특별히 F1점수라고 한다."
      ]
    },
    {
      "cell_type": "markdown",
      "metadata": {
        "id": "6QU41_tWBhtW"
      },
      "source": [
        "$$\n",
        "F_\\beta = (1 + \\beta^2) \\, ({\\text{precision} \\times \\text{recall}}) \\, / \\, ({\\beta^2 \\, \\text{precision} + \\text{recall}})\n",
        "$$\n",
        "\n",
        "    \n",
        "\n",
        "$$\n",
        "F_1 = 2 \\cdot \\text{precision} \\cdot \\text{recall} \\, / \\, (\\text{precision} + \\text{recall})\n",
        "$$"
      ]
    },
    {
      "cell_type": "markdown",
      "metadata": {
        "id": "nbWwU33YBhtW"
      },
      "source": [
        "- accuracy: 정확도. 전체 학습데이터의 개수에서 각 클래스에서 자신의 클래스를 정확하게 맞춘 개수의 비율\n",
        "- macro: 단순평균\n",
        "- weighted: 각 클래스에 속하는 표본의 갯수로 가중평균"
      ]
    }
  ],
  "metadata": {
    "colab": {
      "collapsed_sections": [],
      "name": "01-naive_bayes.ipynb",
      "provenance": [],
      "include_colab_link": true
    },
    "kernelspec": {
      "display_name": "Python 3 (ipykernel)",
      "language": "python",
      "name": "python3"
    },
    "language_info": {
      "codemirror_mode": {
        "name": "ipython",
        "version": 3
      },
      "file_extension": ".py",
      "mimetype": "text/x-python",
      "name": "python",
      "nbconvert_exporter": "python",
      "pygments_lexer": "ipython3",
      "version": "3.7.12"
    },
    "toc": {
      "base_numbering": 1,
      "nav_menu": {},
      "number_sections": false,
      "sideBar": true,
      "skip_h1_title": false,
      "title_cell": "Table of Contents",
      "title_sidebar": "Contents",
      "toc_cell": false,
      "toc_position": {},
      "toc_section_display": true,
      "toc_window_display": false
    }
  },
  "nbformat": 4,
  "nbformat_minor": 0
}