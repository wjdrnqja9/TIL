{
  "nbformat": 4,
  "nbformat_minor": 0,
  "metadata": {
    "colab": {
      "name": "baekjoon_step2.ipynb",
      "provenance": [],
      "collapsed_sections": [],
      "authorship_tag": "ABX9TyO8krVWnxK0xaHqv6oqVLp1",
      "include_colab_link": true
    },
    "kernelspec": {
      "name": "python3",
      "display_name": "Python 3"
    },
    "language_info": {
      "name": "python"
    }
  },
  "cells": [
    {
      "cell_type": "markdown",
      "metadata": {
        "id": "view-in-github",
        "colab_type": "text"
      },
      "source": [
        "<a href=\"https://colab.research.google.com/github/wjdrnqja9/TIL/blob/main/baekjoon_step2.ipynb\" target=\"_parent\"><img src=\"https://colab.research.google.com/assets/colab-badge.svg\" alt=\"Open In Colab\"/></a>"
      ]
    },
    {
      "cell_type": "markdown",
      "source": [
        "#####1330. 두 정수 A와 B가 주어졌을 때, A와 B를 비교하는 프로그램을 작성하시오."
      ],
      "metadata": {
        "id": "zWk1ZlY90F_u"
      }
    },
    {
      "cell_type": "code",
      "source": [
        "A, B = input().split()\n",
        "\n",
        "if int(A) > int(B):\n",
        "    print('>')\n",
        "elif int(A) < int(B):\n",
        "    print('<')\n",
        "elif int(A) == int(B):\n",
        "    print('==')"
      ],
      "metadata": {
        "colab": {
          "base_uri": "https://localhost:8080/"
        },
        "id": "_qPBxSNdV1h6",
        "outputId": "70a84868-6a2f-4768-de82-b11e34806c85"
      },
      "execution_count": null,
      "outputs": [
        {
          "output_type": "stream",
          "name": "stdout",
          "text": [
            "1 2\n",
            "<\n"
          ]
        }
      ]
    },
    {
      "cell_type": "markdown",
      "source": [
        "#####9498. 시험 점수를 입력받아 90 ~ 100점은 A, 80 ~ 89점은 B, 70 ~ 79점은 C, 60 ~ 69점은 D, 나머지 점수는 F를 출력하는 프로그램을 작성하시오."
      ],
      "metadata": {
        "id": "JMa2Fnn10Im4"
      }
    },
    {
      "cell_type": "code",
      "source": [
        "sc = int(input())\n",
        "if 90 <= sc <= 100:\n",
        "    print('A')\n",
        "elif 80 <= sc <= 89:\n",
        "    print('B')\n",
        "elif 70 <= sc <= 79:\n",
        "    print('C')\n",
        "elif 60 <= sc <= 69:\n",
        "    print('D')\n",
        "else:\n",
        "    print('F')"
      ],
      "metadata": {
        "colab": {
          "base_uri": "https://localhost:8080/"
        },
        "id": "Mr6OOhgWYVEF",
        "outputId": "c2cce61f-435c-43da-fcbb-efe4bb62a48a"
      },
      "execution_count": null,
      "outputs": [
        {
          "output_type": "stream",
          "name": "stdout",
          "text": [
            "65\n",
            "D\n"
          ]
        }
      ]
    },
    {
      "cell_type": "markdown",
      "source": [
        "2753. 윤년이면 1, 아니면 0을 출력하는 프로그램을 작성하시오."
      ],
      "metadata": {
        "id": "tZFWlVXy0V8b"
      }
    },
    {
      "cell_type": "code",
      "source": [
        "y = int(input())\n",
        "if y % 4 == 0:\n",
        "    if y % 100 != 0:\n",
        "        print('1')\n",
        "\n",
        "    elif y % 400 == 0:\n",
        "        print('1')\n",
        "\n",
        "    else:\n",
        "        print('0')\n",
        "else:\n",
        "    print('0')"
      ],
      "metadata": {
        "colab": {
          "base_uri": "https://localhost:8080/"
        },
        "id": "T55NLVlXaL2H",
        "outputId": "e5add7b5-6764-4f4b-b297-e97eddcc9883"
      },
      "execution_count": 3,
      "outputs": [
        {
          "output_type": "stream",
          "name": "stdout",
          "text": [
            "2000\n",
            "1\n"
          ]
        }
      ]
    },
    {
      "cell_type": "markdown",
      "source": [
        "#####14681. 점의 좌표를 입력받아 그 점이 어느 사분면에 속하는지 알아내는 프로그램을 작성하시오."
      ],
      "metadata": {
        "id": "u0cBGeyd0l72"
      }
    },
    {
      "cell_type": "code",
      "source": [
        "A = int(input())\n",
        "B = int(input())\n",
        "if A > 0:\n",
        "    if B > 0:\n",
        "        print('1')\n",
        "    else:\n",
        "        print('4')\n",
        "\n",
        "else:\n",
        "    if B > 0:\n",
        "        print('2')\n",
        "    else:\n",
        "        print('3')   "
      ],
      "metadata": {
        "colab": {
          "base_uri": "https://localhost:8080/"
        },
        "id": "tZ2oWnOjj1ej",
        "outputId": "8b95bcc2-1e13-40bb-fdb9-ef933c1d8168"
      },
      "execution_count": 4,
      "outputs": [
        {
          "output_type": "stream",
          "name": "stdout",
          "text": [
            "12\n",
            "5\n",
            "1\n"
          ]
        }
      ]
    },
    {
      "cell_type": "markdown",
      "source": [
        "#####2884. 원래 설정되어 있는 알람을 45분 앞서는 시간으로 바꾸는 프로그램을 작성하시오."
      ],
      "metadata": {
        "id": "-xnaTfUw0vO-"
      }
    },
    {
      "cell_type": "code",
      "source": [
        "A, B = input().split()\n",
        "\n",
        "if int(B) >= 45:\n",
        "    B = int(B) - 45\n",
        "else:\n",
        "    B = int(B) + 15\n",
        "    if int(A) >= 1:\n",
        "        A = int(A) - 1\n",
        "    else:\n",
        "        A = int(A) + 23\n",
        "print(A, B)"
      ],
      "metadata": {
        "id": "UoBpoeu9m8Vx"
      },
      "execution_count": null,
      "outputs": []
    },
    {
      "cell_type": "markdown",
      "source": [
        "2525. 훈제오리구이를 시작하는 시각과 오븐구이를 하는 데 필요한 시간이 분단위로 주어졌을 때, 오븐구이가 끝나는 시각을 계산하는 프로그램을 작성하시오."
      ],
      "metadata": {
        "id": "cx13M_qM1aM8"
      }
    },
    {
      "cell_type": "code",
      "source": [
        "A, B = input().split()\n",
        "C = input()\n",
        "\n",
        "if int(B)+int(C) < 60:\n",
        "    A = int(A) + ((int(B)+int(C))//60)\n",
        "    B = int(B)+int(C)\n",
        "else:\n",
        "    A = int(A) + ((int(B)+int(C))//60)\n",
        "    B = (int(B)+int(C)) % 60\n",
        "\n",
        "if 24 <= A:\n",
        "    A = A - 24\n",
        "\n",
        "print(A, B)"
      ],
      "metadata": {
        "id": "cAmUD7w9Oxe3",
        "colab": {
          "base_uri": "https://localhost:8080/"
        },
        "outputId": "df6b671f-4197-4f09-e496-b760cbda0307"
      },
      "execution_count": null,
      "outputs": [
        {
          "output_type": "stream",
          "name": "stdout",
          "text": [
            "14 30\n",
            "20\n",
            "14 50\n"
          ]
        }
      ]
    },
    {
      "cell_type": "markdown",
      "source": [
        "#####2480. 1에서부터 6까지의 눈을 가진 3개의 주사위를 던져서 다음과 같은 규칙에 따라 상금을 받는 게임이 있다.\n",
        "#####같은 눈이 3개가 나오면 10,000원+(같은 눈)×1,000원의 상금을 받게 된다. \n",
        "#####같은 눈이 2개만 나오는 경우에는 1,000원+(같은 눈)×100원의 상금을 받게 된다. \n",
        "#####모두 다른 눈이 나오는 경우에는 (그 중 가장 큰 눈)×100원의 상금을 받게 된다.  "
      ],
      "metadata": {
        "id": "f0z7zo751hX4"
      }
    },
    {
      "cell_type": "code",
      "source": [
        "A, B, C = input().split()\n",
        "\n",
        "if int(A)==int(B)==int(C):\n",
        "    print((1000*int(A))+10000)\n",
        "\n",
        "elif ((int(A)==int(B)) & (int(A)!=int(C))) | (int(A)==int(C)) & (int(A)!=int(B)):\n",
        "    print((int(A)*100)+1000)\n",
        "\n",
        "elif (int(A)!=int(B)) & (int(B)==int(C)) : \n",
        "    print(int(C)*100+1000)\n",
        "\n",
        "elif (int(A)!=int(B)) & (int(A)!=int(C)) & (int(B)!=int(C)):\n",
        "    print(int(max(A, B, C)) * 100)\n",
        "\n"
      ],
      "metadata": {
        "colab": {
          "base_uri": "https://localhost:8080/"
        },
        "id": "rUGMhkydx4Vx",
        "outputId": "291a4a64-5537-4416-dcb4-94c1c6b85bf5"
      },
      "execution_count": null,
      "outputs": [
        {
          "output_type": "stream",
          "name": "stdout",
          "text": [
            "6 3 3\n",
            "1300\n"
          ]
        }
      ]
    }
  ]
}
