{
  "cells": [
    {
      "cell_type": "markdown",
      "metadata": {
        "id": "view-in-github",
        "colab_type": "text"
      },
      "source": [
        "<a href=\"https://colab.research.google.com/github/wjdrnqja9/TIL/blob/main/%EC%A0%95%EA%B5%AC%EB%B2%94_%ED%8C%A8%EC%8A%A4%ED%8A%B8%EC%BA%A0%ED%8D%BC%EC%8A%A4_%EB%8D%B0%EC%9D%B4%ED%84%B0%EB%B6%84%EC%84%9D.ipynb\" target=\"_parent\"><img src=\"https://colab.research.google.com/assets/colab-badge.svg\" alt=\"Open In Colab\"/></a>"
      ]
    },
    {
      "cell_type": "code",
      "source": [
        "from google.colab import drive\n",
        "drive.mount('/content/drive')"
      ],
      "metadata": {
        "colab": {
          "base_uri": "https://localhost:8080/"
        },
        "id": "WjzebyzrjXmU",
        "outputId": "c8c948ac-50d2-4e1c-dda2-58788b1c823d"
      },
      "id": "WjzebyzrjXmU",
      "execution_count": 106,
      "outputs": [
        {
          "output_type": "stream",
          "name": "stdout",
          "text": [
            "Drive already mounted at /content/drive; to attempt to forcibly remount, call drive.mount(\"/content/drive\", force_remount=True).\n"
          ]
        }
      ]
    },
    {
      "cell_type": "code",
      "execution_count": 107,
      "id": "591915dd",
      "metadata": {
        "id": "591915dd"
      },
      "outputs": [],
      "source": [
        "import pandas as pd\n",
        "import numpy as np\n",
        "import matplotlib.pyplot as plt\n",
        "import seaborn as sns\n",
        "import datetime"
      ]
    },
    {
      "cell_type": "code",
      "source": [
        "# 한글 글꼴 설치 \n",
        "!sudo apt-get install -y fonts-nanum\n",
        "!sudo fc-cache -fv\n",
        "!rm ~/.cache/matplotlib -rf\n",
        "plt.rc('font', family='NanumBarunGothic')"
      ],
      "metadata": {
        "colab": {
          "base_uri": "https://localhost:8080/"
        },
        "id": "i8I4_S3Re_Ya",
        "outputId": "adc6fcbe-9cfe-4898-8bce-ca459c5d119a"
      },
      "id": "i8I4_S3Re_Ya",
      "execution_count": 108,
      "outputs": [
        {
          "output_type": "stream",
          "name": "stdout",
          "text": [
            "Reading package lists... Done\n",
            "Building dependency tree       \n",
            "Reading state information... Done\n",
            "fonts-nanum is already the newest version (20170925-1).\n",
            "The following package was automatically installed and is no longer required:\n",
            "  libnvidia-common-460\n",
            "Use 'sudo apt autoremove' to remove it.\n",
            "0 upgraded, 0 newly installed, 0 to remove and 42 not upgraded.\n",
            "/usr/share/fonts: caching, new cache contents: 0 fonts, 1 dirs\n",
            "/usr/share/fonts/truetype: caching, new cache contents: 0 fonts, 3 dirs\n",
            "/usr/share/fonts/truetype/humor-sans: caching, new cache contents: 1 fonts, 0 dirs\n",
            "/usr/share/fonts/truetype/liberation: caching, new cache contents: 16 fonts, 0 dirs\n",
            "/usr/share/fonts/truetype/nanum: caching, new cache contents: 10 fonts, 0 dirs\n",
            "/usr/local/share/fonts: caching, new cache contents: 0 fonts, 0 dirs\n",
            "/root/.local/share/fonts: skipping, no such directory\n",
            "/root/.fonts: skipping, no such directory\n",
            "/var/cache/fontconfig: cleaning cache directory\n",
            "/root/.cache/fontconfig: not cleaning non-existent cache directory\n",
            "/root/.fontconfig: not cleaning non-existent cache directory\n",
            "fc-cache: succeeded\n"
          ]
        }
      ]
    },
    {
      "cell_type": "code",
      "execution_count": 109,
      "id": "f51d6094",
      "metadata": {
        "colab": {
          "base_uri": "https://localhost:8080/",
          "height": 496
        },
        "id": "f51d6094",
        "outputId": "92295890-dcae-4d91-fbad-77156da2adea"
      },
      "outputs": [
        {
          "output_type": "execute_result",
          "data": {
            "text/plain": [
              "       id  customer_id  course_id     type      state  \\\n",
              "0  970634     504760.0   201435.0    ORDER  CANCELLED   \n",
              "1  970650     432862.0   203178.0    ORDER  CANCELLED   \n",
              "2  970657      72297.0   204246.0  PAYMENT  COMPLETED   \n",
              "3  970656      72297.0   204246.0    ORDER  CANCELLED   \n",
              "4  970658     478028.0   201797.0  PAYMENT  COMPLETED   \n",
              "\n",
              "                    course_title category_title  format        completed_at  \\\n",
              "0      올인원 패키지 : 알고리즘 기술면접 완전 정복          프로그래밍     올인원 2021-03-28 15:00:11   \n",
              "1    초격차 패키지 : 한번에 끝내는 영상 촬영과 편집          영상/3D     올인원 2021-03-28 15:16:53   \n",
              "2           시크릿코드 : 프론트엔드 실무 완성편          프로그래밍  스쿨 온라인 2021-03-28 15:21:43   \n",
              "3           시크릿코드 : 프론트엔드 실무 완성편          프로그래밍  스쿨 온라인 2021-03-28 15:21:43   \n",
              "4  올인원 패키지 : 직장인 필수 스킬 3종 세트 MAX         업무 생산성     올인원 2021-03-28 15:21:54   \n",
              "\n",
              "   transaction_amount              coupon_title  coupon_discount_amount  \\\n",
              "0               90500                       NaN                     NaN   \n",
              "1               96000                       NaN                     NaN   \n",
              "2              171810     [10% 할인] 시크릿코드 실무 완성편                 19090.0   \n",
              "3              171810                       NaN                     NaN   \n",
              "4               97500  [웰컴쿠폰] 올인원 패키지 2만원 할인 쿠폰                 20000.0   \n",
              "\n",
              "   sale_price  tax_free_amount   pg method subcategory_title  \\\n",
              "0    110500.0         110500.0  NaN  VBANK           개발자 커리어   \n",
              "1    116000.0         116000.0  NaN   CARD             영상 편집   \n",
              "2    190900.0         190900.0  NaN   CARD               NaN   \n",
              "3    190900.0         190900.0  NaN   CARD               NaN   \n",
              "4    117500.0         117500.0  NaN   CARD           PPT/보고서   \n",
              "\n",
              "  marketing_start_at  \n",
              "0                NaT  \n",
              "1         2020-12-02  \n",
              "2         2021-03-04  \n",
              "3         2021-03-04  \n",
              "4         2019-11-14  "
            ],
            "text/html": [
              "\n",
              "  <div id=\"df-959d55fa-3735-48e1-a2f8-8aa43c5c389b\">\n",
              "    <div class=\"colab-df-container\">\n",
              "      <div>\n",
              "<style scoped>\n",
              "    .dataframe tbody tr th:only-of-type {\n",
              "        vertical-align: middle;\n",
              "    }\n",
              "\n",
              "    .dataframe tbody tr th {\n",
              "        vertical-align: top;\n",
              "    }\n",
              "\n",
              "    .dataframe thead th {\n",
              "        text-align: right;\n",
              "    }\n",
              "</style>\n",
              "<table border=\"1\" class=\"dataframe\">\n",
              "  <thead>\n",
              "    <tr style=\"text-align: right;\">\n",
              "      <th></th>\n",
              "      <th>id</th>\n",
              "      <th>customer_id</th>\n",
              "      <th>course_id</th>\n",
              "      <th>type</th>\n",
              "      <th>state</th>\n",
              "      <th>course_title</th>\n",
              "      <th>category_title</th>\n",
              "      <th>format</th>\n",
              "      <th>completed_at</th>\n",
              "      <th>transaction_amount</th>\n",
              "      <th>coupon_title</th>\n",
              "      <th>coupon_discount_amount</th>\n",
              "      <th>sale_price</th>\n",
              "      <th>tax_free_amount</th>\n",
              "      <th>pg</th>\n",
              "      <th>method</th>\n",
              "      <th>subcategory_title</th>\n",
              "      <th>marketing_start_at</th>\n",
              "    </tr>\n",
              "  </thead>\n",
              "  <tbody>\n",
              "    <tr>\n",
              "      <th>0</th>\n",
              "      <td>970634</td>\n",
              "      <td>504760.0</td>\n",
              "      <td>201435.0</td>\n",
              "      <td>ORDER</td>\n",
              "      <td>CANCELLED</td>\n",
              "      <td>올인원 패키지 : 알고리즘 기술면접 완전 정복</td>\n",
              "      <td>프로그래밍</td>\n",
              "      <td>올인원</td>\n",
              "      <td>2021-03-28 15:00:11</td>\n",
              "      <td>90500</td>\n",
              "      <td>NaN</td>\n",
              "      <td>NaN</td>\n",
              "      <td>110500.0</td>\n",
              "      <td>110500.0</td>\n",
              "      <td>NaN</td>\n",
              "      <td>VBANK</td>\n",
              "      <td>개발자 커리어</td>\n",
              "      <td>NaT</td>\n",
              "    </tr>\n",
              "    <tr>\n",
              "      <th>1</th>\n",
              "      <td>970650</td>\n",
              "      <td>432862.0</td>\n",
              "      <td>203178.0</td>\n",
              "      <td>ORDER</td>\n",
              "      <td>CANCELLED</td>\n",
              "      <td>초격차 패키지 : 한번에 끝내는 영상 촬영과 편집</td>\n",
              "      <td>영상/3D</td>\n",
              "      <td>올인원</td>\n",
              "      <td>2021-03-28 15:16:53</td>\n",
              "      <td>96000</td>\n",
              "      <td>NaN</td>\n",
              "      <td>NaN</td>\n",
              "      <td>116000.0</td>\n",
              "      <td>116000.0</td>\n",
              "      <td>NaN</td>\n",
              "      <td>CARD</td>\n",
              "      <td>영상 편집</td>\n",
              "      <td>2020-12-02</td>\n",
              "    </tr>\n",
              "    <tr>\n",
              "      <th>2</th>\n",
              "      <td>970657</td>\n",
              "      <td>72297.0</td>\n",
              "      <td>204246.0</td>\n",
              "      <td>PAYMENT</td>\n",
              "      <td>COMPLETED</td>\n",
              "      <td>시크릿코드 : 프론트엔드 실무 완성편</td>\n",
              "      <td>프로그래밍</td>\n",
              "      <td>스쿨 온라인</td>\n",
              "      <td>2021-03-28 15:21:43</td>\n",
              "      <td>171810</td>\n",
              "      <td>[10% 할인] 시크릿코드 실무 완성편</td>\n",
              "      <td>19090.0</td>\n",
              "      <td>190900.0</td>\n",
              "      <td>190900.0</td>\n",
              "      <td>NaN</td>\n",
              "      <td>CARD</td>\n",
              "      <td>NaN</td>\n",
              "      <td>2021-03-04</td>\n",
              "    </tr>\n",
              "    <tr>\n",
              "      <th>3</th>\n",
              "      <td>970656</td>\n",
              "      <td>72297.0</td>\n",
              "      <td>204246.0</td>\n",
              "      <td>ORDER</td>\n",
              "      <td>CANCELLED</td>\n",
              "      <td>시크릿코드 : 프론트엔드 실무 완성편</td>\n",
              "      <td>프로그래밍</td>\n",
              "      <td>스쿨 온라인</td>\n",
              "      <td>2021-03-28 15:21:43</td>\n",
              "      <td>171810</td>\n",
              "      <td>NaN</td>\n",
              "      <td>NaN</td>\n",
              "      <td>190900.0</td>\n",
              "      <td>190900.0</td>\n",
              "      <td>NaN</td>\n",
              "      <td>CARD</td>\n",
              "      <td>NaN</td>\n",
              "      <td>2021-03-04</td>\n",
              "    </tr>\n",
              "    <tr>\n",
              "      <th>4</th>\n",
              "      <td>970658</td>\n",
              "      <td>478028.0</td>\n",
              "      <td>201797.0</td>\n",
              "      <td>PAYMENT</td>\n",
              "      <td>COMPLETED</td>\n",
              "      <td>올인원 패키지 : 직장인 필수 스킬 3종 세트 MAX</td>\n",
              "      <td>업무 생산성</td>\n",
              "      <td>올인원</td>\n",
              "      <td>2021-03-28 15:21:54</td>\n",
              "      <td>97500</td>\n",
              "      <td>[웰컴쿠폰] 올인원 패키지 2만원 할인 쿠폰</td>\n",
              "      <td>20000.0</td>\n",
              "      <td>117500.0</td>\n",
              "      <td>117500.0</td>\n",
              "      <td>NaN</td>\n",
              "      <td>CARD</td>\n",
              "      <td>PPT/보고서</td>\n",
              "      <td>2019-11-14</td>\n",
              "    </tr>\n",
              "  </tbody>\n",
              "</table>\n",
              "</div>\n",
              "      <button class=\"colab-df-convert\" onclick=\"convertToInteractive('df-959d55fa-3735-48e1-a2f8-8aa43c5c389b')\"\n",
              "              title=\"Convert this dataframe to an interactive table.\"\n",
              "              style=\"display:none;\">\n",
              "        \n",
              "  <svg xmlns=\"http://www.w3.org/2000/svg\" height=\"24px\"viewBox=\"0 0 24 24\"\n",
              "       width=\"24px\">\n",
              "    <path d=\"M0 0h24v24H0V0z\" fill=\"none\"/>\n",
              "    <path d=\"M18.56 5.44l.94 2.06.94-2.06 2.06-.94-2.06-.94-.94-2.06-.94 2.06-2.06.94zm-11 1L8.5 8.5l.94-2.06 2.06-.94-2.06-.94L8.5 2.5l-.94 2.06-2.06.94zm10 10l.94 2.06.94-2.06 2.06-.94-2.06-.94-.94-2.06-.94 2.06-2.06.94z\"/><path d=\"M17.41 7.96l-1.37-1.37c-.4-.4-.92-.59-1.43-.59-.52 0-1.04.2-1.43.59L10.3 9.45l-7.72 7.72c-.78.78-.78 2.05 0 2.83L4 21.41c.39.39.9.59 1.41.59.51 0 1.02-.2 1.41-.59l7.78-7.78 2.81-2.81c.8-.78.8-2.07 0-2.86zM5.41 20L4 18.59l7.72-7.72 1.47 1.35L5.41 20z\"/>\n",
              "  </svg>\n",
              "      </button>\n",
              "      \n",
              "  <style>\n",
              "    .colab-df-container {\n",
              "      display:flex;\n",
              "      flex-wrap:wrap;\n",
              "      gap: 12px;\n",
              "    }\n",
              "\n",
              "    .colab-df-convert {\n",
              "      background-color: #E8F0FE;\n",
              "      border: none;\n",
              "      border-radius: 50%;\n",
              "      cursor: pointer;\n",
              "      display: none;\n",
              "      fill: #1967D2;\n",
              "      height: 32px;\n",
              "      padding: 0 0 0 0;\n",
              "      width: 32px;\n",
              "    }\n",
              "\n",
              "    .colab-df-convert:hover {\n",
              "      background-color: #E2EBFA;\n",
              "      box-shadow: 0px 1px 2px rgba(60, 64, 67, 0.3), 0px 1px 3px 1px rgba(60, 64, 67, 0.15);\n",
              "      fill: #174EA6;\n",
              "    }\n",
              "\n",
              "    [theme=dark] .colab-df-convert {\n",
              "      background-color: #3B4455;\n",
              "      fill: #D2E3FC;\n",
              "    }\n",
              "\n",
              "    [theme=dark] .colab-df-convert:hover {\n",
              "      background-color: #434B5C;\n",
              "      box-shadow: 0px 1px 3px 1px rgba(0, 0, 0, 0.15);\n",
              "      filter: drop-shadow(0px 1px 2px rgba(0, 0, 0, 0.3));\n",
              "      fill: #FFFFFF;\n",
              "    }\n",
              "  </style>\n",
              "\n",
              "      <script>\n",
              "        const buttonEl =\n",
              "          document.querySelector('#df-959d55fa-3735-48e1-a2f8-8aa43c5c389b button.colab-df-convert');\n",
              "        buttonEl.style.display =\n",
              "          google.colab.kernel.accessAllowed ? 'block' : 'none';\n",
              "\n",
              "        async function convertToInteractive(key) {\n",
              "          const element = document.querySelector('#df-959d55fa-3735-48e1-a2f8-8aa43c5c389b');\n",
              "          const dataTable =\n",
              "            await google.colab.kernel.invokeFunction('convertToInteractive',\n",
              "                                                     [key], {});\n",
              "          if (!dataTable) return;\n",
              "\n",
              "          const docLinkHtml = 'Like what you see? Visit the ' +\n",
              "            '<a target=\"_blank\" href=https://colab.research.google.com/notebooks/data_table.ipynb>data table notebook</a>'\n",
              "            + ' to learn more about interactive tables.';\n",
              "          element.innerHTML = '';\n",
              "          dataTable['output_type'] = 'display_data';\n",
              "          await google.colab.output.renderOutput(dataTable, element);\n",
              "          const docLink = document.createElement('div');\n",
              "          docLink.innerHTML = docLinkHtml;\n",
              "          element.appendChild(docLink);\n",
              "        }\n",
              "      </script>\n",
              "    </div>\n",
              "  </div>\n",
              "  "
            ]
          },
          "metadata": {},
          "execution_count": 109
        }
      ],
      "source": [
        "df = pd.read_excel('/content/drive/MyDrive/Colab Notebooks/패스트캠퍼스 데이터분석/파이널프로젝트_RAW_210329_210926.xlsx')\n",
        "df.head()"
      ]
    },
    {
      "cell_type": "markdown",
      "id": "f3a595ee",
      "metadata": {
        "id": "f3a595ee"
      },
      "source": [
        "## 데이터 타입과 결측값 확인하기"
      ]
    },
    {
      "cell_type": "code",
      "execution_count": 110,
      "id": "9fef4f2e",
      "metadata": {
        "colab": {
          "base_uri": "https://localhost:8080/"
        },
        "id": "9fef4f2e",
        "outputId": "84df9735-e2f3-4d8d-d070-daf1c3a29f54"
      },
      "outputs": [
        {
          "output_type": "stream",
          "name": "stdout",
          "text": [
            "<class 'pandas.core.frame.DataFrame'>\n",
            "RangeIndex: 105419 entries, 0 to 105418\n",
            "Data columns (total 18 columns):\n",
            " #   Column                  Non-Null Count   Dtype         \n",
            "---  ------                  --------------   -----         \n",
            " 0   id                      105419 non-null  int64         \n",
            " 1   customer_id             105416 non-null  float64       \n",
            " 2   course_id               100212 non-null  float64       \n",
            " 3   type                    105419 non-null  object        \n",
            " 4   state                   105419 non-null  object        \n",
            " 5   course_title            105403 non-null  object        \n",
            " 6   category_title          105395 non-null  object        \n",
            " 7   format                  105403 non-null  object        \n",
            " 8   completed_at            105419 non-null  datetime64[ns]\n",
            " 9   transaction_amount      105419 non-null  int64         \n",
            " 10  coupon_title            31817 non-null   object        \n",
            " 11  coupon_discount_amount  31817 non-null   float64       \n",
            " 12  sale_price              104291 non-null  float64       \n",
            " 13  tax_free_amount         104291 non-null  float64       \n",
            " 14  pg                      90344 non-null   object        \n",
            " 15  method                  92323 non-null   object        \n",
            " 16  subcategory_title       85590 non-null   object        \n",
            " 17  marketing_start_at      87440 non-null   datetime64[ns]\n",
            "dtypes: datetime64[ns](2), float64(5), int64(2), object(9)\n",
            "memory usage: 14.5+ MB\n"
          ]
        }
      ],
      "source": [
        "df.info()"
      ]
    },
    {
      "cell_type": "code",
      "source": [
        "df.isna().sum()"
      ],
      "metadata": {
        "colab": {
          "base_uri": "https://localhost:8080/"
        },
        "id": "J0BJmsfRgUa1",
        "outputId": "70b22cf7-dcf2-4963-f4db-5ae52a74ea92"
      },
      "id": "J0BJmsfRgUa1",
      "execution_count": 111,
      "outputs": [
        {
          "output_type": "execute_result",
          "data": {
            "text/plain": [
              "id                            0\n",
              "customer_id                   3\n",
              "course_id                  5207\n",
              "type                          0\n",
              "state                         0\n",
              "course_title                 16\n",
              "category_title               24\n",
              "format                       16\n",
              "completed_at                  0\n",
              "transaction_amount            0\n",
              "coupon_title              73602\n",
              "coupon_discount_amount    73602\n",
              "sale_price                 1128\n",
              "tax_free_amount            1128\n",
              "pg                        15075\n",
              "method                    13096\n",
              "subcategory_title         19829\n",
              "marketing_start_at        17979\n",
              "dtype: int64"
            ]
          },
          "metadata": {},
          "execution_count": 111
        }
      ]
    },
    {
      "cell_type": "markdown",
      "source": [
        "##데이터 전처리"
      ],
      "metadata": {
        "id": "UbXsZ-fS5x_h"
      },
      "id": "UbXsZ-fS5x_h"
    },
    {
      "cell_type": "code",
      "source": [
        "# Completed_at 타입 datetime 으로 바꾸기\n",
        "df['completed_at'] = pd.to_datetime(df['completed_at'])\n",
        "df.dtypes"
      ],
      "metadata": {
        "colab": {
          "base_uri": "https://localhost:8080/"
        },
        "id": "P3645QYA5pvw",
        "outputId": "ba4bd4b9-95f9-4962-99b9-09b12be4affe"
      },
      "id": "P3645QYA5pvw",
      "execution_count": 112,
      "outputs": [
        {
          "output_type": "execute_result",
          "data": {
            "text/plain": [
              "id                                 int64\n",
              "customer_id                      float64\n",
              "course_id                        float64\n",
              "type                              object\n",
              "state                             object\n",
              "course_title                      object\n",
              "category_title                    object\n",
              "format                            object\n",
              "completed_at              datetime64[ns]\n",
              "transaction_amount                 int64\n",
              "coupon_title                      object\n",
              "coupon_discount_amount           float64\n",
              "sale_price                       float64\n",
              "tax_free_amount                  float64\n",
              "pg                                object\n",
              "method                            object\n",
              "subcategory_title                 object\n",
              "marketing_start_at        datetime64[ns]\n",
              "dtype: object"
            ]
          },
          "metadata": {},
          "execution_count": 112
        }
      ]
    },
    {
      "cell_type": "code",
      "source": [
        "# 날짜 월,일,요일,시간 세분화\n",
        "num_to_day = {\n",
        "    0 : '월요일',\n",
        "    1 : '화요일',\n",
        "    2 : '수요일',\n",
        "    3 : '목요일',\n",
        "    4 : '금요일',\n",
        "    5 : '토요일',\n",
        "    6 : '일요일',\n",
        "}\n",
        "\n",
        "df['pay_ym']=df['completed_at'].dt.strftime(\"%Y-%m\")   ## 년월 컬럼\n",
        "df['Day'] = [num_to_day[i] for i in df['completed_at'].dt.dayofweek] ## 요일컬럼\n",
        "df['Time']=  df['completed_at'].dt.hour  ##시간컬럼\n",
        "df['Date']=  df['completed_at'].dt.day   ##일자컬럼"
      ],
      "metadata": {
        "id": "cm5DHyF-43sO"
      },
      "execution_count": 113,
      "outputs": [],
      "id": "cm5DHyF-43sO"
    },
    {
      "cell_type": "code",
      "source": [
        "# 개인 사용자들의 데이터를 확인하기 위해 format에서 기업교육 계약, 정부 사업인 B2B, B2G 제거 후 시작\n",
        "df = df[df.format.isin(['B2B', 'B2B 온라인', 'B2G'])==False] \n",
        "\n",
        "df2=df[(df['type']=='PAYMENT') & (df['state']=='COMPLETED')]  # 결제 완료 데이터 (3, 9월 제거)\n",
        "idx = df2[df2['pay_ym'] == \"2021-03\"].index\n",
        "df2 =df2.drop(idx)\n",
        "idx = df2[df2['pay_ym'] == \"2021-09\"].index\n",
        "df2 =df2.drop(idx)                                           \n",
        "\n",
        "df3=df[(df['type']=='PAYMENT') | (df['type']=='REFUND')]      # 결제 완료 및 환불 데이터\n",
        "df3 = df3[(df['state']=='COMPLETED')]\n",
        "\n",
        "Refdf=df[(df['type']=='REFUND') & (df['state']=='COMPLETED')] # 환불만 있는 데이터"
      ],
      "metadata": {
        "colab": {
          "base_uri": "https://localhost:8080/"
        },
        "id": "6wrRTti09Qxq",
        "outputId": "a2677974-2a8e-4c97-c702-c6d636d61648"
      },
      "id": "6wrRTti09Qxq",
      "execution_count": 114,
      "outputs": [
        {
          "output_type": "stream",
          "name": "stderr",
          "text": [
            "/usr/local/lib/python3.7/dist-packages/ipykernel_launcher.py:11: UserWarning:\n",
            "\n",
            "Boolean Series key will be reindexed to match DataFrame index.\n",
            "\n"
          ]
        }
      ]
    },
    {
      "cell_type": "markdown",
      "source": [
        "##카테고리 데이터 분석"
      ],
      "metadata": {
        "id": "iDEZyFFlivwT"
      },
      "id": "iDEZyFFlivwT"
    },
    {
      "cell_type": "code",
      "source": [
        "# 카테고리  별 강의 구매 횟수 확인\n",
        "df[\"category_title\"].value_counts()"
      ],
      "metadata": {
        "colab": {
          "base_uri": "https://localhost:8080/"
        },
        "id": "w3mzaKAvti5F",
        "outputId": "cba31224-684c-4f09-dc19-f5b1d4bcee07"
      },
      "id": "w3mzaKAvti5F",
      "execution_count": 115,
      "outputs": [
        {
          "output_type": "execute_result",
          "data": {
            "text/plain": [
              "프로그래밍       33067\n",
              "데이터사이언스     14029\n",
              "업무 생산성      13317\n",
              "디자인         12009\n",
              "영상/3D       10260\n",
              "마케팅          9845\n",
              "부동산/금융       5518\n",
              "투자/재테크       2501\n",
              "크리에이티브       2231\n",
              "지식콘텐츠          56\n",
              "비즈니스           40\n",
              "파이낸스           24\n",
              "데이터 사이언스        9\n",
              "관리              2\n",
              "일러스트            1\n",
              "Name: category_title, dtype: int64"
            ]
          },
          "metadata": {},
          "execution_count": 115
        }
      ]
    },
    {
      "cell_type": "code",
      "source": [
        "# 카테고리 별 구매량 분포 파이 그래프로 시각화\n",
        "plt.figure(figsize=(10,10))\n",
        "temp_series = df2['category_title'].value_counts().head(10)         # 구매량 top 10\n",
        "labels = np.array(temp_series.index)\n",
        "sizes = np.array((temp_series / temp_series.sum())* 100)\n",
        "plt.pie(sizes, labels=labels, autopct='%1.1f%%' , startangle= 200)\n",
        "plt.title('카테고리별 구매량 분포', fontsize= 15)\n",
        "plt.show()"
      ],
      "metadata": {
        "colab": {
          "base_uri": "https://localhost:8080/",
          "height": 592
        },
        "id": "s_R4WzBj1DAE",
        "outputId": "9ac012d8-3ec6-4aea-bfbf-e0b1b989d2db"
      },
      "id": "s_R4WzBj1DAE",
      "execution_count": 116,
      "outputs": [
        {
          "output_type": "display_data",
          "data": {
            "text/plain": [
              "<Figure size 720x720 with 1 Axes>"
            ],
            "image/png": "[encoded data removed]"
          },
          "metadata": {}
        }
      ]
    },
    {
      "cell_type": "markdown",
      "source": [
        "프로그래밍 관련 강의가 가장 많이 팔렸다."
      ],
      "metadata": {
        "id": "qgbuCckXEGYq"
      },
      "id": "qgbuCckXEGYq"
    },
    {
      "cell_type": "code",
      "source": [
        "# 서브카테고리 별 강의 구매 횟수 시각화\n",
        "fig = plt.figure(figsize=(40,8))\n",
        "sns.countplot(data = df, x = \"subcategory_title\", \n",
        "              order = df['subcategory_title'].value_counts().index)"
      ],
      "metadata": {
        "colab": {
          "base_uri": "https://localhost:8080/",
          "height": 349
        },
        "id": "yp9S9fy19Cth",
        "outputId": "fe7f75b7-f5e0-403a-f335-998b5252373a"
      },
      "execution_count": 117,
      "outputs": [
        {
          "output_type": "execute_result",
          "data": {
            "text/plain": [
              "<matplotlib.axes._subplots.AxesSubplot at 0x7fe6dce30090>"
            ]
          },
          "metadata": {},
          "execution_count": 117
        },
        {
          "output_type": "display_data",
          "data": {
            "text/plain": [
              "<Figure size 2880x576 with 1 Axes>"
            ],
            "image/png": "[encoded data removed]"
          },
          "metadata": {
            "needs_background": "light"
          }
        }
      ],
      "id": "yp9S9fy19Cth"
    },
    {
      "cell_type": "markdown",
      "source": [
        "서브카테고리로 분류시 영상/3D카테고리에 속해있는 영상 편집 강의가 가장 많았다."
      ],
      "metadata": {
        "id": "USr84PAVEM8f"
      },
      "id": "USr84PAVEM8f"
    },
    {
      "cell_type": "code",
      "source": [
        "#서브 카테고리 트리맵을 위한 분류\n",
        "sub = df.groupby(['category_title', 'subcategory_title'])[['id']].count()\n",
        "sub"
      ],
      "metadata": {
        "colab": {
          "base_uri": "https://localhost:8080/",
          "height": 1000
        },
        "id": "iMH0f6fjc3WU",
        "outputId": "0a5c6a31-7f7a-4991-d002-31d9c19d8ed1"
      },
      "execution_count": 118,
      "outputs": [
        {
          "output_type": "execute_result",
          "data": {
            "text/plain": [
              "                                    id\n",
              "category_title subcategory_title      \n",
              "데이터사이언스        데이터분석              4302\n",
              "               데이터엔지니어링            275\n",
              "               딥러닝/인공지능           4590\n",
              "               머신러닝               1958\n",
              "디자인            UX/UI              2775\n",
              "               디자인툴               4053\n",
              "               시각디자인              1927\n",
              "               일러스트               3238\n",
              "마케팅            SNS마케팅             1190\n",
              "               글쓰기/카피라이팅          3524\n",
              "               데이터마케팅             2306\n",
              "               디지털마케팅             1754\n",
              "부동산/금융         금융/투자 실무           2075\n",
              "               부동산 개발             1179\n",
              "               회계/재무/세무           1948\n",
              "업무 생산성         PPT/보고서            4150\n",
              "               리더십                 511\n",
              "               업무자동화               996\n",
              "               엑셀/VBA             3591\n",
              "               커뮤니케이션              204\n",
              "영상/3D          VFX                 523\n",
              "               게임 그래픽              385\n",
              "               모션그래픽              2033\n",
              "               영상 편집              7312\n",
              "투자/재테크         부동산 투자              714\n",
              "               주식 투자              1787\n",
              "프로그래밍          DevOps             2136\n",
              "               개발자 커리어            5918\n",
              "               게임                 1707\n",
              "               모바일앱               3724\n",
              "               백엔드 개발             6144\n",
              "               코딩 입문               782\n",
              "               프론트엔드 개발           5878"
            ],
            "text/html": [
              "\n",
              "  <div id=\"df-a5e25ef6-0cc0-4e13-94b6-009ec5734b01\">\n",
              "    <div class=\"colab-df-container\">\n",
              "      <div>\n",
              "<style scoped>\n",
              "    .dataframe tbody tr th:only-of-type {\n",
              "        vertical-align: middle;\n",
              "    }\n",
              "\n",
              "    .dataframe tbody tr th {\n",
              "        vertical-align: top;\n",
              "    }\n",
              "\n",
              "    .dataframe thead th {\n",
              "        text-align: right;\n",
              "    }\n",
              "</style>\n",
              "<table border=\"1\" class=\"dataframe\">\n",
              "  <thead>\n",
              "    <tr style=\"text-align: right;\">\n",
              "      <th></th>\n",
              "      <th></th>\n",
              "      <th>id</th>\n",
              "    </tr>\n",
              "    <tr>\n",
              "      <th>category_title</th>\n",
              "      <th>subcategory_title</th>\n",
              "      <th></th>\n",
              "    </tr>\n",
              "  </thead>\n",
              "  <tbody>\n",
              "    <tr>\n",
              "      <th rowspan=\"4\" valign=\"top\">데이터사이언스</th>\n",
              "      <th>데이터분석</th>\n",
              "      <td>4302</td>\n",
              "    </tr>\n",
              "    <tr>\n",
              "      <th>데이터엔지니어링</th>\n",
              "      <td>275</td>\n",
              "    </tr>\n",
              "    <tr>\n",
              "      <th>딥러닝/인공지능</th>\n",
              "      <td>4590</td>\n",
              "    </tr>\n",
              "    <tr>\n",
              "      <th>머신러닝</th>\n",
              "      <td>1958</td>\n",
              "    </tr>\n",
              "    <tr>\n",
              "      <th rowspan=\"4\" valign=\"top\">디자인</th>\n",
              "      <th>UX/UI</th>\n",
              "      <td>2775</td>\n",
              "    </tr>\n",
              "    <tr>\n",
              "      <th>디자인툴</th>\n",
              "      <td>4053</td>\n",
              "    </tr>\n",
              "    <tr>\n",
              "      <th>시각디자인</th>\n",
              "      <td>1927</td>\n",
              "    </tr>\n",
              "    <tr>\n",
              "      <th>일러스트</th>\n",
              "      <td>3238</td>\n",
              "    </tr>\n",
              "    <tr>\n",
              "      <th rowspan=\"4\" valign=\"top\">마케팅</th>\n",
              "      <th>SNS마케팅</th>\n",
              "      <td>1190</td>\n",
              "    </tr>\n",
              "    <tr>\n",
              "      <th>글쓰기/카피라이팅</th>\n",
              "      <td>3524</td>\n",
              "    </tr>\n",
              "    <tr>\n",
              "      <th>데이터마케팅</th>\n",
              "      <td>2306</td>\n",
              "    </tr>\n",
              "    <tr>\n",
              "      <th>디지털마케팅</th>\n",
              "      <td>1754</td>\n",
              "    </tr>\n",
              "    <tr>\n",
              "      <th rowspan=\"3\" valign=\"top\">부동산/금융</th>\n",
              "      <th>금융/투자 실무</th>\n",
              "      <td>2075</td>\n",
              "    </tr>\n",
              "    <tr>\n",
              "      <th>부동산 개발</th>\n",
              "      <td>1179</td>\n",
              "    </tr>\n",
              "    <tr>\n",
              "      <th>회계/재무/세무</th>\n",
              "      <td>1948</td>\n",
              "    </tr>\n",
              "    <tr>\n",
              "      <th rowspan=\"5\" valign=\"top\">업무 생산성</th>\n",
              "      <th>PPT/보고서</th>\n",
              "      <td>4150</td>\n",
              "    </tr>\n",
              "    <tr>\n",
              "      <th>리더십</th>\n",
              "      <td>511</td>\n",
              "    </tr>\n",
              "    <tr>\n",
              "      <th>업무자동화</th>\n",
              "      <td>996</td>\n",
              "    </tr>\n",
              "    <tr>\n",
              "      <th>엑셀/VBA</th>\n",
              "      <td>3591</td>\n",
              "    </tr>\n",
              "    <tr>\n",
              "      <th>커뮤니케이션</th>\n",
              "      <td>204</td>\n",
              "    </tr>\n",
              "    <tr>\n",
              "      <th rowspan=\"4\" valign=\"top\">영상/3D</th>\n",
              "      <th>VFX</th>\n",
              "      <td>523</td>\n",
              "    </tr>\n",
              "    <tr>\n",
              "      <th>게임 그래픽</th>\n",
              "      <td>385</td>\n",
              "    </tr>\n",
              "    <tr>\n",
              "      <th>모션그래픽</th>\n",
              "      <td>2033</td>\n",
              "    </tr>\n",
              "    <tr>\n",
              "      <th>영상 편집</th>\n",
              "      <td>7312</td>\n",
              "    </tr>\n",
              "    <tr>\n",
              "      <th rowspan=\"2\" valign=\"top\">투자/재테크</th>\n",
              "      <th>부동산 투자</th>\n",
              "      <td>714</td>\n",
              "    </tr>\n",
              "    <tr>\n",
              "      <th>주식 투자</th>\n",
              "      <td>1787</td>\n",
              "    </tr>\n",
              "    <tr>\n",
              "      <th rowspan=\"7\" valign=\"top\">프로그래밍</th>\n",
              "      <th>DevOps</th>\n",
              "      <td>2136</td>\n",
              "    </tr>\n",
              "    <tr>\n",
              "      <th>개발자 커리어</th>\n",
              "      <td>5918</td>\n",
              "    </tr>\n",
              "    <tr>\n",
              "      <th>게임</th>\n",
              "      <td>1707</td>\n",
              "    </tr>\n",
              "    <tr>\n",
              "      <th>모바일앱</th>\n",
              "      <td>3724</td>\n",
              "    </tr>\n",
              "    <tr>\n",
              "      <th>백엔드 개발</th>\n",
              "      <td>6144</td>\n",
              "    </tr>\n",
              "    <tr>\n",
              "      <th>코딩 입문</th>\n",
              "      <td>782</td>\n",
              "    </tr>\n",
              "    <tr>\n",
              "      <th>프론트엔드 개발</th>\n",
              "      <td>5878</td>\n",
              "    </tr>\n",
              "  </tbody>\n",
              "</table>\n",
              "</div>\n",
              "      <button class=\"colab-df-convert\" onclick=\"convertToInteractive('df-a5e25ef6-0cc0-4e13-94b6-009ec5734b01')\"\n",
              "              title=\"Convert this dataframe to an interactive table.\"\n",
              "              style=\"display:none;\">\n",
              "        \n",
              "  <svg xmlns=\"http://www.w3.org/2000/svg\" height=\"24px\"viewBox=\"0 0 24 24\"\n",
              "       width=\"24px\">\n",
              "    <path d=\"M0 0h24v24H0V0z\" fill=\"none\"/>\n",
              "    <path d=\"M18.56 5.44l.94 2.06.94-2.06 2.06-.94-2.06-.94-.94-2.06-.94 2.06-2.06.94zm-11 1L8.5 8.5l.94-2.06 2.06-.94-2.06-.94L8.5 2.5l-.94 2.06-2.06.94zm10 10l.94 2.06.94-2.06 2.06-.94-2.06-.94-.94-2.06-.94 2.06-2.06.94z\"/><path d=\"M17.41 7.96l-1.37-1.37c-.4-.4-.92-.59-1.43-.59-.52 0-1.04.2-1.43.59L10.3 9.45l-7.72 7.72c-.78.78-.78 2.05 0 2.83L4 21.41c.39.39.9.59 1.41.59.51 0 1.02-.2 1.41-.59l7.78-7.78 2.81-2.81c.8-.78.8-2.07 0-2.86zM5.41 20L4 18.59l7.72-7.72 1.47 1.35L5.41 20z\"/>\n",
              "  </svg>\n",
              "      </button>\n",
              "      \n",
              "  <style>\n",
              "    .colab-df-container {\n",
              "      display:flex;\n",
              "      flex-wrap:wrap;\n",
              "      gap: 12px;\n",
              "    }\n",
              "\n",
              "    .colab-df-convert {\n",
              "      background-color: #E8F0FE;\n",
              "      border: none;\n",
              "      border-radius: 50%;\n",
              "      cursor: pointer;\n",
              "      display: none;\n",
              "      fill: #1967D2;\n",
              "      height: 32px;\n",
              "      padding: 0 0 0 0;\n",
              "      width: 32px;\n",
              "    }\n",
              "\n",
              "    .colab-df-convert:hover {\n",
              "      background-color: #E2EBFA;\n",
              "      box-shadow: 0px 1px 2px rgba(60, 64, 67, 0.3), 0px 1px 3px 1px rgba(60, 64, 67, 0.15);\n",
              "      fill: #174EA6;\n",
              "    }\n",
              "\n",
              "    [theme=dark] .colab-df-convert {\n",
              "      background-color: #3B4455;\n",
              "      fill: #D2E3FC;\n",
              "    }\n",
              "\n",
              "    [theme=dark] .colab-df-convert:hover {\n",
              "      background-color: #434B5C;\n",
              "      box-shadow: 0px 1px 3px 1px rgba(0, 0, 0, 0.15);\n",
              "      filter: drop-shadow(0px 1px 2px rgba(0, 0, 0, 0.3));\n",
              "      fill: #FFFFFF;\n",
              "    }\n",
              "  </style>\n",
              "\n",
              "      <script>\n",
              "        const buttonEl =\n",
              "          document.querySelector('#df-a5e25ef6-0cc0-4e13-94b6-009ec5734b01 button.colab-df-convert');\n",
              "        buttonEl.style.display =\n",
              "          google.colab.kernel.accessAllowed ? 'block' : 'none';\n",
              "\n",
              "        async function convertToInteractive(key) {\n",
              "          const element = document.querySelector('#df-a5e25ef6-0cc0-4e13-94b6-009ec5734b01');\n",
              "          const dataTable =\n",
              "            await google.colab.kernel.invokeFunction('convertToInteractive',\n",
              "                                                     [key], {});\n",
              "          if (!dataTable) return;\n",
              "\n",
              "          const docLinkHtml = 'Like what you see? Visit the ' +\n",
              "            '<a target=\"_blank\" href=https://colab.research.google.com/notebooks/data_table.ipynb>data table notebook</a>'\n",
              "            + ' to learn more about interactive tables.';\n",
              "          element.innerHTML = '';\n",
              "          dataTable['output_type'] = 'display_data';\n",
              "          await google.colab.output.renderOutput(dataTable, element);\n",
              "          const docLink = document.createElement('div');\n",
              "          docLink.innerHTML = docLinkHtml;\n",
              "          element.appendChild(docLink);\n",
              "        }\n",
              "      </script>\n",
              "    </div>\n",
              "  </div>\n",
              "  "
            ]
          },
          "metadata": {},
          "execution_count": 118
        }
      ],
      "id": "iMH0f6fjc3WU"
    },
    {
      "cell_type": "code",
      "source": [
        "# 강의 카테고리 서브 카테고리 별 분류 트리맵\n",
        "from plotly import express as px\n",
        "import seaborn as sns\n",
        "\n",
        "tip_summ = sub.groupby(['category_title','subcategory_title'])['id'].max().reset_index()\n",
        "\n",
        "fig = px.treemap(tip_summ,\n",
        "                 path=['category_title','subcategory_title'],\n",
        "                 values='id',\n",
        "                 color='id',\n",
        "                 color_continuous_scale='viridis')\n",
        "\n",
        "fig.show()"
      ],
      "metadata": {
        "colab": {
          "base_uri": "https://localhost:8080/",
          "height": 542
        },
        "id": "b8vh1S6TgQlO",
        "outputId": "c42b9dd2-f3f4-48f9-d221-2d717a4666e7"
      },
      "id": "b8vh1S6TgQlO",
      "execution_count": 119,
      "outputs": [
        {
          "output_type": "display_data",
          "data": {
            "text/html": [
              "<html>\n",
              "<head><meta charset=\"utf-8\" /></head>\n",
              "<body>\n",
              "    <div>            <script src=\"https://cdnjs.cloudflare.com/ajax/libs/mathjax/2.7.5/MathJax.js?config=TeX-AMS-MML_SVG\"></script><script type=\"text/javascript\">if (window.MathJax) {MathJax.Hub.Config({SVG: {font: \"STIX-Web\"}});}</script>                <script type=\"text/javascript\">window.PlotlyConfig = {MathJaxConfig: 'local'};</script>\n",
              "        <script src=\"https://cdn.plot.ly/plotly-2.8.3.min.js\"></script>                <div id=\"49d81eec-9902-4654-be81-456cd40ffa80\" class=\"plotly-graph-div\" style=\"height:525px; width:100%;\"></div>            <script type=\"text/javascript\">                                    window.PLOTLYENV=window.PLOTLYENV || {};                                    if (document.getElementById(\"49d81eec-9902-4654-be81-456cd40ffa80\")) {                    Plotly.newPlot(                        \"49d81eec-9902-4654-be81-456cd40ffa80\",                        [{\"branchvalues\":\"total\",\"customdata\":[[\"\\ud504\\ub85c\\uadf8\\ub798\\ubc0d/DevOps\"],[\"\\uc5c5\\ubb34 \\uc0dd\\uc0b0\\uc131/PPT/\\ubcf4\\uace0\\uc11c\"],[\"\\ub9c8\\ucf00\\ud305/SNS\\ub9c8\\ucf00\\ud305\"],[\"\\ub514\\uc790\\uc778/UX/UI\"],[\"\\uc601\\uc0c1/3D/VFX\"],[\"\\ud504\\ub85c\\uadf8\\ub798\\ubc0d/\\uac1c\\ubc1c\\uc790 \\ucee4\\ub9ac\\uc5b4\"],[\"\\ud504\\ub85c\\uadf8\\ub798\\ubc0d/\\uac8c\\uc784\"],[\"\\uc601\\uc0c1/3D/\\uac8c\\uc784 \\uadf8\\ub798\\ud53d\"],[\"\\ub9c8\\ucf00\\ud305/\\uae00\\uc4f0\\uae30/\\uce74\\ud53c\\ub77c\\uc774\\ud305\"],[\"\\ubd80\\ub3d9\\uc0b0/\\uae08\\uc735/\\uae08\\uc735/\\ud22c\\uc790 \\uc2e4\\ubb34\"],[\"\\ub9c8\\ucf00\\ud305/\\ub370\\uc774\\ud130\\ub9c8\\ucf00\\ud305\"],[\"\\ub370\\uc774\\ud130\\uc0ac\\uc774\\uc5b8\\uc2a4/\\ub370\\uc774\\ud130\\ubd84\\uc11d\"],[\"\\ub370\\uc774\\ud130\\uc0ac\\uc774\\uc5b8\\uc2a4/\\ub370\\uc774\\ud130\\uc5d4\\uc9c0\\ub2c8\\uc5b4\\ub9c1\"],[\"\\ub514\\uc790\\uc778/\\ub514\\uc790\\uc778\\ud234\"],[\"\\ub9c8\\ucf00\\ud305/\\ub514\\uc9c0\\ud138\\ub9c8\\ucf00\\ud305\"],[\"\\ub370\\uc774\\ud130\\uc0ac\\uc774\\uc5b8\\uc2a4/\\ub525\\ub7ec\\ub2dd/\\uc778\\uacf5\\uc9c0\\ub2a5\"],[\"\\uc5c5\\ubb34 \\uc0dd\\uc0b0\\uc131/\\ub9ac\\ub354\\uc2ed\"],[\"\\ub370\\uc774\\ud130\\uc0ac\\uc774\\uc5b8\\uc2a4/\\uba38\\uc2e0\\ub7ec\\ub2dd\"],[\"\\ud504\\ub85c\\uadf8\\ub798\\ubc0d/\\ubaa8\\ubc14\\uc77c\\uc571\"],[\"\\uc601\\uc0c1/3D/\\ubaa8\\uc158\\uadf8\\ub798\\ud53d\"],[\"\\ud504\\ub85c\\uadf8\\ub798\\ubc0d/\\ubc31\\uc5d4\\ub4dc \\uac1c\\ubc1c\"],[\"\\ubd80\\ub3d9\\uc0b0/\\uae08\\uc735/\\ubd80\\ub3d9\\uc0b0 \\uac1c\\ubc1c\"],[\"\\ud22c\\uc790/\\uc7ac\\ud14c\\ud06c/\\ubd80\\ub3d9\\uc0b0 \\ud22c\\uc790\"],[\"\\ub514\\uc790\\uc778/\\uc2dc\\uac01\\ub514\\uc790\\uc778\"],[\"\\uc5c5\\ubb34 \\uc0dd\\uc0b0\\uc131/\\uc5c5\\ubb34\\uc790\\ub3d9\\ud654\"],[\"\\uc5c5\\ubb34 \\uc0dd\\uc0b0\\uc131/\\uc5d1\\uc140/VBA\"],[\"\\uc601\\uc0c1/3D/\\uc601\\uc0c1 \\ud3b8\\uc9d1\"],[\"\\ub514\\uc790\\uc778/\\uc77c\\ub7ec\\uc2a4\\ud2b8\"],[\"\\ud22c\\uc790/\\uc7ac\\ud14c\\ud06c/\\uc8fc\\uc2dd \\ud22c\\uc790\"],[\"\\uc5c5\\ubb34 \\uc0dd\\uc0b0\\uc131/\\ucee4\\ubba4\\ub2c8\\ucf00\\uc774\\uc158\"],[\"\\ud504\\ub85c\\uadf8\\ub798\\ubc0d/\\ucf54\\ub529 \\uc785\\ubb38\"],[\"\\ud504\\ub85c\\uadf8\\ub798\\ubc0d/\\ud504\\ub860\\ud2b8\\uc5d4\\ub4dc \\uac1c\\ubc1c\"],[\"\\ubd80\\ub3d9\\uc0b0/\\uae08\\uc735/\\ud68c\\uacc4/\\uc7ac\\ubb34/\\uc138\\ubb34\"],[\"\\ub370\\uc774\\ud130\\uc0ac\\uc774\\uc5b8\\uc2a4\"],[\"\\ub514\\uc790\\uc778\"],[\"\\ub9c8\\ucf00\\ud305\"],[\"\\ubd80\\ub3d9\\uc0b0/\\uae08\\uc735\"],[\"\\uc5c5\\ubb34 \\uc0dd\\uc0b0\\uc131\"],[\"\\uc601\\uc0c1/3D\"],[\"\\ud22c\\uc790/\\uc7ac\\ud14c\\ud06c\"],[\"\\ud504\\ub85c\\uadf8\\ub798\\ubc0d\"]],\"domain\":{\"x\":[0.0,1.0],\"y\":[0.0,1.0]},\"hovertemplate\":\"labels=%{label}<br>id_sum=%{value}<br>parent=%{parent}<br>id=%{customdata[0]}<extra></extra>\",\"ids\":[\"\\ud504\\ub85c\\uadf8\\ub798\\ubc0d/DevOps\",\"\\uc5c5\\ubb34 \\uc0dd\\uc0b0\\uc131/PPT/\\ubcf4\\uace0\\uc11c\",\"\\ub9c8\\ucf00\\ud305/SNS\\ub9c8\\ucf00\\ud305\",\"\\ub514\\uc790\\uc778/UX/UI\",\"\\uc601\\uc0c1/3D/VFX\",\"\\ud504\\ub85c\\uadf8\\ub798\\ubc0d/\\uac1c\\ubc1c\\uc790 \\ucee4\\ub9ac\\uc5b4\",\"\\ud504\\ub85c\\uadf8\\ub798\\ubc0d/\\uac8c\\uc784\",\"\\uc601\\uc0c1/3D/\\uac8c\\uc784 \\uadf8\\ub798\\ud53d\",\"\\ub9c8\\ucf00\\ud305/\\uae00\\uc4f0\\uae30/\\uce74\\ud53c\\ub77c\\uc774\\ud305\",\"\\ubd80\\ub3d9\\uc0b0/\\uae08\\uc735/\\uae08\\uc735/\\ud22c\\uc790 \\uc2e4\\ubb34\",\"\\ub9c8\\ucf00\\ud305/\\ub370\\uc774\\ud130\\ub9c8\\ucf00\\ud305\",\"\\ub370\\uc774\\ud130\\uc0ac\\uc774\\uc5b8\\uc2a4/\\ub370\\uc774\\ud130\\ubd84\\uc11d\",\"\\ub370\\uc774\\ud130\\uc0ac\\uc774\\uc5b8\\uc2a4/\\ub370\\uc774\\ud130\\uc5d4\\uc9c0\\ub2c8\\uc5b4\\ub9c1\",\"\\ub514\\uc790\\uc778/\\ub514\\uc790\\uc778\\ud234\",\"\\ub9c8\\ucf00\\ud305/\\ub514\\uc9c0\\ud138\\ub9c8\\ucf00\\ud305\",\"\\ub370\\uc774\\ud130\\uc0ac\\uc774\\uc5b8\\uc2a4/\\ub525\\ub7ec\\ub2dd/\\uc778\\uacf5\\uc9c0\\ub2a5\",\"\\uc5c5\\ubb34 \\uc0dd\\uc0b0\\uc131/\\ub9ac\\ub354\\uc2ed\",\"\\ub370\\uc774\\ud130\\uc0ac\\uc774\\uc5b8\\uc2a4/\\uba38\\uc2e0\\ub7ec\\ub2dd\",\"\\ud504\\ub85c\\uadf8\\ub798\\ubc0d/\\ubaa8\\ubc14\\uc77c\\uc571\",\"\\uc601\\uc0c1/3D/\\ubaa8\\uc158\\uadf8\\ub798\\ud53d\",\"\\ud504\\ub85c\\uadf8\\ub798\\ubc0d/\\ubc31\\uc5d4\\ub4dc \\uac1c\\ubc1c\",\"\\ubd80\\ub3d9\\uc0b0/\\uae08\\uc735/\\ubd80\\ub3d9\\uc0b0 \\uac1c\\ubc1c\",\"\\ud22c\\uc790/\\uc7ac\\ud14c\\ud06c/\\ubd80\\ub3d9\\uc0b0 \\ud22c\\uc790\",\"\\ub514\\uc790\\uc778/\\uc2dc\\uac01\\ub514\\uc790\\uc778\",\"\\uc5c5\\ubb34 \\uc0dd\\uc0b0\\uc131/\\uc5c5\\ubb34\\uc790\\ub3d9\\ud654\",\"\\uc5c5\\ubb34 \\uc0dd\\uc0b0\\uc131/\\uc5d1\\uc140/VBA\",\"\\uc601\\uc0c1/3D/\\uc601\\uc0c1 \\ud3b8\\uc9d1\",\"\\ub514\\uc790\\uc778/\\uc77c\\ub7ec\\uc2a4\\ud2b8\",\"\\ud22c\\uc790/\\uc7ac\\ud14c\\ud06c/\\uc8fc\\uc2dd \\ud22c\\uc790\",\"\\uc5c5\\ubb34 \\uc0dd\\uc0b0\\uc131/\\ucee4\\ubba4\\ub2c8\\ucf00\\uc774\\uc158\",\"\\ud504\\ub85c\\uadf8\\ub798\\ubc0d/\\ucf54\\ub529 \\uc785\\ubb38\",\"\\ud504\\ub85c\\uadf8\\ub798\\ubc0d/\\ud504\\ub860\\ud2b8\\uc5d4\\ub4dc \\uac1c\\ubc1c\",\"\\ubd80\\ub3d9\\uc0b0/\\uae08\\uc735/\\ud68c\\uacc4/\\uc7ac\\ubb34/\\uc138\\ubb34\",\"\\ub370\\uc774\\ud130\\uc0ac\\uc774\\uc5b8\\uc2a4\",\"\\ub514\\uc790\\uc778\",\"\\ub9c8\\ucf00\\ud305\",\"\\ubd80\\ub3d9\\uc0b0/\\uae08\\uc735\",\"\\uc5c5\\ubb34 \\uc0dd\\uc0b0\\uc131\",\"\\uc601\\uc0c1/3D\",\"\\ud22c\\uc790/\\uc7ac\\ud14c\\ud06c\",\"\\ud504\\ub85c\\uadf8\\ub798\\ubc0d\"],\"labels\":[\"DevOps\",\"PPT/\\ubcf4\\uace0\\uc11c\",\"SNS\\ub9c8\\ucf00\\ud305\",\"UX/UI\",\"VFX\",\"\\uac1c\\ubc1c\\uc790 \\ucee4\\ub9ac\\uc5b4\",\"\\uac8c\\uc784\",\"\\uac8c\\uc784 \\uadf8\\ub798\\ud53d\",\"\\uae00\\uc4f0\\uae30/\\uce74\\ud53c\\ub77c\\uc774\\ud305\",\"\\uae08\\uc735/\\ud22c\\uc790 \\uc2e4\\ubb34\",\"\\ub370\\uc774\\ud130\\ub9c8\\ucf00\\ud305\",\"\\ub370\\uc774\\ud130\\ubd84\\uc11d\",\"\\ub370\\uc774\\ud130\\uc5d4\\uc9c0\\ub2c8\\uc5b4\\ub9c1\",\"\\ub514\\uc790\\uc778\\ud234\",\"\\ub514\\uc9c0\\ud138\\ub9c8\\ucf00\\ud305\",\"\\ub525\\ub7ec\\ub2dd/\\uc778\\uacf5\\uc9c0\\ub2a5\",\"\\ub9ac\\ub354\\uc2ed\",\"\\uba38\\uc2e0\\ub7ec\\ub2dd\",\"\\ubaa8\\ubc14\\uc77c\\uc571\",\"\\ubaa8\\uc158\\uadf8\\ub798\\ud53d\",\"\\ubc31\\uc5d4\\ub4dc \\uac1c\\ubc1c\",\"\\ubd80\\ub3d9\\uc0b0 \\uac1c\\ubc1c\",\"\\ubd80\\ub3d9\\uc0b0 \\ud22c\\uc790\",\"\\uc2dc\\uac01\\ub514\\uc790\\uc778\",\"\\uc5c5\\ubb34\\uc790\\ub3d9\\ud654\",\"\\uc5d1\\uc140/VBA\",\"\\uc601\\uc0c1 \\ud3b8\\uc9d1\",\"\\uc77c\\ub7ec\\uc2a4\\ud2b8\",\"\\uc8fc\\uc2dd \\ud22c\\uc790\",\"\\ucee4\\ubba4\\ub2c8\\ucf00\\uc774\\uc158\",\"\\ucf54\\ub529 \\uc785\\ubb38\",\"\\ud504\\ub860\\ud2b8\\uc5d4\\ub4dc \\uac1c\\ubc1c\",\"\\ud68c\\uacc4/\\uc7ac\\ubb34/\\uc138\\ubb34\",\"\\ub370\\uc774\\ud130\\uc0ac\\uc774\\uc5b8\\uc2a4\",\"\\ub514\\uc790\\uc778\",\"\\ub9c8\\ucf00\\ud305\",\"\\ubd80\\ub3d9\\uc0b0/\\uae08\\uc735\",\"\\uc5c5\\ubb34 \\uc0dd\\uc0b0\\uc131\",\"\\uc601\\uc0c1/3D\",\"\\ud22c\\uc790/\\uc7ac\\ud14c\\ud06c\",\"\\ud504\\ub85c\\uadf8\\ub798\\ubc0d\"],\"marker\":{\"colors\":[\"#636efa\",\"#EF553B\",\"#00cc96\",\"#ab63fa\",\"#FFA15A\",\"#19d3f3\",\"#FF6692\",\"#B6E880\",\"#FF97FF\",\"#FECB52\",\"#636efa\",\"#EF553B\",\"#00cc96\",\"#ab63fa\",\"#FFA15A\",\"#19d3f3\",\"#FF6692\",\"#B6E880\",\"#FF97FF\",\"#FECB52\",\"#636efa\",\"#EF553B\",\"#00cc96\",\"#ab63fa\",\"#FFA15A\",\"#19d3f3\",\"#FF6692\",\"#B6E880\",\"#FF97FF\",\"#FECB52\",\"#636efa\",\"#EF553B\",\"#00cc96\",\"#ab63fa\",\"#FFA15A\",\"#19d3f3\",\"#FF6692\",\"#B6E880\",\"#FF97FF\",\"#FECB52\",\"#636efa\"]},\"name\":\"\",\"parents\":[\"\\ud504\\ub85c\\uadf8\\ub798\\ubc0d\",\"\\uc5c5\\ubb34 \\uc0dd\\uc0b0\\uc131\",\"\\ub9c8\\ucf00\\ud305\",\"\\ub514\\uc790\\uc778\",\"\\uc601\\uc0c1/3D\",\"\\ud504\\ub85c\\uadf8\\ub798\\ubc0d\",\"\\ud504\\ub85c\\uadf8\\ub798\\ubc0d\",\"\\uc601\\uc0c1/3D\",\"\\ub9c8\\ucf00\\ud305\",\"\\ubd80\\ub3d9\\uc0b0/\\uae08\\uc735\",\"\\ub9c8\\ucf00\\ud305\",\"\\ub370\\uc774\\ud130\\uc0ac\\uc774\\uc5b8\\uc2a4\",\"\\ub370\\uc774\\ud130\\uc0ac\\uc774\\uc5b8\\uc2a4\",\"\\ub514\\uc790\\uc778\",\"\\ub9c8\\ucf00\\ud305\",\"\\ub370\\uc774\\ud130\\uc0ac\\uc774\\uc5b8\\uc2a4\",\"\\uc5c5\\ubb34 \\uc0dd\\uc0b0\\uc131\",\"\\ub370\\uc774\\ud130\\uc0ac\\uc774\\uc5b8\\uc2a4\",\"\\ud504\\ub85c\\uadf8\\ub798\\ubc0d\",\"\\uc601\\uc0c1/3D\",\"\\ud504\\ub85c\\uadf8\\ub798\\ubc0d\",\"\\ubd80\\ub3d9\\uc0b0/\\uae08\\uc735\",\"\\ud22c\\uc790/\\uc7ac\\ud14c\\ud06c\",\"\\ub514\\uc790\\uc778\",\"\\uc5c5\\ubb34 \\uc0dd\\uc0b0\\uc131\",\"\\uc5c5\\ubb34 \\uc0dd\\uc0b0\\uc131\",\"\\uc601\\uc0c1/3D\",\"\\ub514\\uc790\\uc778\",\"\\ud22c\\uc790/\\uc7ac\\ud14c\\ud06c\",\"\\uc5c5\\ubb34 \\uc0dd\\uc0b0\\uc131\",\"\\ud504\\ub85c\\uadf8\\ub798\\ubc0d\",\"\\ud504\\ub85c\\uadf8\\ub798\\ubc0d\",\"\\ubd80\\ub3d9\\uc0b0/\\uae08\\uc735\",\"\",\"\",\"\",\"\",\"\",\"\",\"\",\"\"],\"values\":[2136,4150,1190,2775,523,5918,1707,385,3524,2075,2306,4302,275,4053,1754,4590,511,1958,3724,2033,6144,1179,714,1927,996,3591,7312,3238,1787,204,782,5878,1948,11125,11993,8774,5202,9452,10253,2501,26289],\"type\":\"treemap\"}],                        {\"template\":{\"data\":{\"bar\":[{\"error_x\":{\"color\":\"#2a3f5f\"},\"error_y\":{\"color\":\"#2a3f5f\"},\"marker\":{\"line\":{\"color\":\"#E5ECF6\",\"width\":0.5},\"pattern\":{\"fillmode\":\"overlay\",\"size\":10,\"solidity\":0.2}},\"type\":\"bar\"}],\"barpolar\":[{\"marker\":{\"line\":{\"color\":\"#E5ECF6\",\"width\":0.5},\"pattern\":{\"fillmode\":\"overlay\",\"size\":10,\"solidity\":0.2}},\"type\":\"barpolar\"}],\"carpet\":[{\"aaxis\":{\"endlinecolor\":\"#2a3f5f\",\"gridcolor\":\"white\",\"linecolor\":\"white\",\"minorgridcolor\":\"white\",\"startlinecolor\":\"#2a3f5f\"},\"baxis\":{\"endlinecolor\":\"#2a3f5f\",\"gridcolor\":\"white\",\"linecolor\":\"white\",\"minorgridcolor\":\"white\",\"startlinecolor\":\"#2a3f5f\"},\"type\":\"carpet\"}],\"choropleth\":[{\"colorbar\":{\"outlinewidth\":0,\"ticks\":\"\"},\"type\":\"choropleth\"}],\"contour\":[{\"colorbar\":{\"outlinewidth\":0,\"ticks\":\"\"},\"colorscale\":[[0.0,\"#0d0887\"],[0.1111111111111111,\"#46039f\"],[0.2222222222222222,\"#7201a8\"],[0.3333333333333333,\"#9c179e\"],[0.4444444444444444,\"#bd3786\"],[0.5555555555555556,\"#d8576b\"],[0.6666666666666666,\"#ed7953\"],[0.7777777777777778,\"#fb9f3a\"],[0.8888888888888888,\"#fdca26\"],[1.0,\"#f0f921\"]],\"type\":\"contour\"}],\"contourcarpet\":[{\"colorbar\":{\"outlinewidth\":0,\"ticks\":\"\"},\"type\":\"contourcarpet\"}],\"heatmap\":[{\"colorbar\":{\"outlinewidth\":0,\"ticks\":\"\"},\"colorscale\":[[0.0,\"#0d0887\"],[0.1111111111111111,\"#46039f\"],[0.2222222222222222,\"#7201a8\"],[0.3333333333333333,\"#9c179e\"],[0.4444444444444444,\"#bd3786\"],[0.5555555555555556,\"#d8576b\"],[0.6666666666666666,\"#ed7953\"],[0.7777777777777778,\"#fb9f3a\"],[0.8888888888888888,\"#fdca26\"],[1.0,\"#f0f921\"]],\"type\":\"heatmap\"}],\"heatmapgl\":[{\"colorbar\":{\"outlinewidth\":0,\"ticks\":\"\"},\"colorscale\":[[0.0,\"#0d0887\"],[0.1111111111111111,\"#46039f\"],[0.2222222222222222,\"#7201a8\"],[0.3333333333333333,\"#9c179e\"],[0.4444444444444444,\"#bd3786\"],[0.5555555555555556,\"#d8576b\"],[0.6666666666666666,\"#ed7953\"],[0.7777777777777778,\"#fb9f3a\"],[0.8888888888888888,\"#fdca26\"],[1.0,\"#f0f921\"]],\"type\":\"heatmapgl\"}],\"histogram\":[{\"marker\":{\"pattern\":{\"fillmode\":\"overlay\",\"size\":10,\"solidity\":0.2}},\"type\":\"histogram\"}],\"histogram2d\":[{\"colorbar\":{\"outlinewidth\":0,\"ticks\":\"\"},\"colorscale\":[[0.0,\"#0d0887\"],[0.1111111111111111,\"#46039f\"],[0.2222222222222222,\"#7201a8\"],[0.3333333333333333,\"#9c179e\"],[0.4444444444444444,\"#bd3786\"],[0.5555555555555556,\"#d8576b\"],[0.6666666666666666,\"#ed7953\"],[0.7777777777777778,\"#fb9f3a\"],[0.8888888888888888,\"#fdca26\"],[1.0,\"#f0f921\"]],\"type\":\"histogram2d\"}],\"histogram2dcontour\":[{\"colorbar\":{\"outlinewidth\":0,\"ticks\":\"\"},\"colorscale\":[[0.0,\"#0d0887\"],[0.1111111111111111,\"#46039f\"],[0.2222222222222222,\"#7201a8\"],[0.3333333333333333,\"#9c179e\"],[0.4444444444444444,\"#bd3786\"],[0.5555555555555556,\"#d8576b\"],[0.6666666666666666,\"#ed7953\"],[0.7777777777777778,\"#fb9f3a\"],[0.8888888888888888,\"#fdca26\"],[1.0,\"#f0f921\"]],\"type\":\"histogram2dcontour\"}],\"mesh3d\":[{\"colorbar\":{\"outlinewidth\":0,\"ticks\":\"\"},\"type\":\"mesh3d\"}],\"parcoords\":[{\"line\":{\"colorbar\":{\"outlinewidth\":0,\"ticks\":\"\"}},\"type\":\"parcoords\"}],\"pie\":[{\"automargin\":true,\"type\":\"pie\"}],\"scatter\":[{\"marker\":{\"colorbar\":{\"outlinewidth\":0,\"ticks\":\"\"}},\"type\":\"scatter\"}],\"scatter3d\":[{\"line\":{\"colorbar\":{\"outlinewidth\":0,\"ticks\":\"\"}},\"marker\":{\"colorbar\":{\"outlinewidth\":0,\"ticks\":\"\"}},\"type\":\"scatter3d\"}],\"scattercarpet\":[{\"marker\":{\"colorbar\":{\"outlinewidth\":0,\"ticks\":\"\"}},\"type\":\"scattercarpet\"}],\"scattergeo\":[{\"marker\":{\"colorbar\":{\"outlinewidth\":0,\"ticks\":\"\"}},\"type\":\"scattergeo\"}],\"scattergl\":[{\"marker\":{\"colorbar\":{\"outlinewidth\":0,\"ticks\":\"\"}},\"type\":\"scattergl\"}],\"scattermapbox\":[{\"marker\":{\"colorbar\":{\"outlinewidth\":0,\"ticks\":\"\"}},\"type\":\"scattermapbox\"}],\"scatterpolar\":[{\"marker\":{\"colorbar\":{\"outlinewidth\":0,\"ticks\":\"\"}},\"type\":\"scatterpolar\"}],\"scatterpolargl\":[{\"marker\":{\"colorbar\":{\"outlinewidth\":0,\"ticks\":\"\"}},\"type\":\"scatterpolargl\"}],\"scatterternary\":[{\"marker\":{\"colorbar\":{\"outlinewidth\":0,\"ticks\":\"\"}},\"type\":\"scatterternary\"}],\"surface\":[{\"colorbar\":{\"outlinewidth\":0,\"ticks\":\"\"},\"colorscale\":[[0.0,\"#0d0887\"],[0.1111111111111111,\"#46039f\"],[0.2222222222222222,\"#7201a8\"],[0.3333333333333333,\"#9c179e\"],[0.4444444444444444,\"#bd3786\"],[0.5555555555555556,\"#d8576b\"],[0.6666666666666666,\"#ed7953\"],[0.7777777777777778,\"#fb9f3a\"],[0.8888888888888888,\"#fdca26\"],[1.0,\"#f0f921\"]],\"type\":\"surface\"}],\"table\":[{\"cells\":{\"fill\":{\"color\":\"#EBF0F8\"},\"line\":{\"color\":\"white\"}},\"header\":{\"fill\":{\"color\":\"#C8D4E3\"},\"line\":{\"color\":\"white\"}},\"type\":\"table\"}]},\"layout\":{\"annotationdefaults\":{\"arrowcolor\":\"#2a3f5f\",\"arrowhead\":0,\"arrowwidth\":1},\"autotypenumbers\":\"strict\",\"coloraxis\":{\"colorbar\":{\"outlinewidth\":0,\"ticks\":\"\"}},\"colorscale\":{\"diverging\":[[0,\"#8e0152\"],[0.1,\"#c51b7d\"],[0.2,\"#de77ae\"],[0.3,\"#f1b6da\"],[0.4,\"#fde0ef\"],[0.5,\"#f7f7f7\"],[0.6,\"#e6f5d0\"],[0.7,\"#b8e186\"],[0.8,\"#7fbc41\"],[0.9,\"#4d9221\"],[1,\"#276419\"]],\"sequential\":[[0.0,\"#0d0887\"],[0.1111111111111111,\"#46039f\"],[0.2222222222222222,\"#7201a8\"],[0.3333333333333333,\"#9c179e\"],[0.4444444444444444,\"#bd3786\"],[0.5555555555555556,\"#d8576b\"],[0.6666666666666666,\"#ed7953\"],[0.7777777777777778,\"#fb9f3a\"],[0.8888888888888888,\"#fdca26\"],[1.0,\"#f0f921\"]],\"sequentialminus\":[[0.0,\"#0d0887\"],[0.1111111111111111,\"#46039f\"],[0.2222222222222222,\"#7201a8\"],[0.3333333333333333,\"#9c179e\"],[0.4444444444444444,\"#bd3786\"],[0.5555555555555556,\"#d8576b\"],[0.6666666666666666,\"#ed7953\"],[0.7777777777777778,\"#fb9f3a\"],[0.8888888888888888,\"#fdca26\"],[1.0,\"#f0f921\"]]},\"colorway\":[\"#636efa\",\"#EF553B\",\"#00cc96\",\"#ab63fa\",\"#FFA15A\",\"#19d3f3\",\"#FF6692\",\"#B6E880\",\"#FF97FF\",\"#FECB52\"],\"font\":{\"color\":\"#2a3f5f\"},\"geo\":{\"bgcolor\":\"white\",\"lakecolor\":\"white\",\"landcolor\":\"#E5ECF6\",\"showlakes\":true,\"showland\":true,\"subunitcolor\":\"white\"},\"hoverlabel\":{\"align\":\"left\"},\"hovermode\":\"closest\",\"mapbox\":{\"style\":\"light\"},\"paper_bgcolor\":\"white\",\"plot_bgcolor\":\"#E5ECF6\",\"polar\":{\"angularaxis\":{\"gridcolor\":\"white\",\"linecolor\":\"white\",\"ticks\":\"\"},\"bgcolor\":\"#E5ECF6\",\"radialaxis\":{\"gridcolor\":\"white\",\"linecolor\":\"white\",\"ticks\":\"\"}},\"scene\":{\"xaxis\":{\"backgroundcolor\":\"#E5ECF6\",\"gridcolor\":\"white\",\"gridwidth\":2,\"linecolor\":\"white\",\"showbackground\":true,\"ticks\":\"\",\"zerolinecolor\":\"white\"},\"yaxis\":{\"backgroundcolor\":\"#E5ECF6\",\"gridcolor\":\"white\",\"gridwidth\":2,\"linecolor\":\"white\",\"showbackground\":true,\"ticks\":\"\",\"zerolinecolor\":\"white\"},\"zaxis\":{\"backgroundcolor\":\"#E5ECF6\",\"gridcolor\":\"white\",\"gridwidth\":2,\"linecolor\":\"white\",\"showbackground\":true,\"ticks\":\"\",\"zerolinecolor\":\"white\"}},\"shapedefaults\":{\"line\":{\"color\":\"#2a3f5f\"}},\"ternary\":{\"aaxis\":{\"gridcolor\":\"white\",\"linecolor\":\"white\",\"ticks\":\"\"},\"baxis\":{\"gridcolor\":\"white\",\"linecolor\":\"white\",\"ticks\":\"\"},\"bgcolor\":\"#E5ECF6\",\"caxis\":{\"gridcolor\":\"white\",\"linecolor\":\"white\",\"ticks\":\"\"}},\"title\":{\"x\":0.05},\"xaxis\":{\"automargin\":true,\"gridcolor\":\"white\",\"linecolor\":\"white\",\"ticks\":\"\",\"title\":{\"standoff\":15},\"zerolinecolor\":\"white\",\"zerolinewidth\":2},\"yaxis\":{\"automargin\":true,\"gridcolor\":\"white\",\"linecolor\":\"white\",\"ticks\":\"\",\"title\":{\"standoff\":15},\"zerolinecolor\":\"white\",\"zerolinewidth\":2}}},\"legend\":{\"tracegroupgap\":0},\"margin\":{\"t\":60}},                        {\"responsive\": true}                    ).then(function(){\n",
              "                            \n",
              "var gd = document.getElementById('49d81eec-9902-4654-be81-456cd40ffa80');\n",
              "var x = new MutationObserver(function (mutations, observer) {{\n",
              "        var display = window.getComputedStyle(gd).display;\n",
              "        if (!display || display === 'none') {{\n",
              "            console.log([gd, 'removed!']);\n",
              "            Plotly.purge(gd);\n",
              "            observer.disconnect();\n",
              "        }}\n",
              "}});\n",
              "\n",
              "// Listen for the removal of the full notebook cells\n",
              "var notebookContainer = gd.closest('#notebook-container');\n",
              "if (notebookContainer) {{\n",
              "    x.observe(notebookContainer, {childList: true});\n",
              "}}\n",
              "\n",
              "// Listen for the clearing of the current output cell\n",
              "var outputEl = gd.closest('.output');\n",
              "if (outputEl) {{\n",
              "    x.observe(outputEl, {childList: true});\n",
              "}}\n",
              "\n",
              "                        })                };                            </script>        </div>\n",
              "</body>\n",
              "</html>"
            ]
          },
          "metadata": {}
        }
      ]
    },
    {
      "cell_type": "code",
      "source": [
        "# 카테고리 별 총 매출\n",
        "how = {\n",
        "    'transaction_amount' : np.sum\n",
        "}\n",
        "catr = df.groupby('category_title').agg(how)\n",
        "catr = catr.sort_values('transaction_amount', ascending=False)"
      ],
      "metadata": {
        "id": "awv4SkGnYsL4"
      },
      "execution_count": 120,
      "outputs": [],
      "id": "awv4SkGnYsL4"
    },
    {
      "cell_type": "code",
      "source": [
        "# 카테고리 별 총 매출 시각화\n",
        "catr.plot.bar(figsize = (15,6))"
      ],
      "metadata": {
        "colab": {
          "base_uri": "https://localhost:8080/",
          "height": 470
        },
        "id": "T6b3S5Vbh6xq",
        "outputId": "a92d38e9-fa28-461c-c993-6f0a6281a0b7"
      },
      "execution_count": 121,
      "outputs": [
        {
          "output_type": "execute_result",
          "data": {
            "text/plain": [
              "<matplotlib.axes._subplots.AxesSubplot at 0x7fe6d3d1d110>"
            ]
          },
          "metadata": {},
          "execution_count": 121
        },
        {
          "output_type": "display_data",
          "data": {
            "text/plain": [
              "<Figure size 1080x432 with 1 Axes>"
            ],
            "image/png": "[encoded data removed]"
          },
          "metadata": {
            "needs_background": "light"
          }
        }
      ],
      "id": "T6b3S5Vbh6xq"
    },
    {
      "cell_type": "markdown",
      "source": [
        "매출이 높은 카테고리의 강의에 광고를 집중하면 매출 상승 효과를 기대할 수 있을 것이다."
      ],
      "metadata": {
        "id": "IMpksmDhgIDn"
      },
      "id": "IMpksmDhgIDn"
    },
    {
      "cell_type": "markdown",
      "source": [
        "##결제 시기에 따른 데이터 분석"
      ],
      "metadata": {
        "id": "5OFRN-FVnHh9"
      },
      "id": "5OFRN-FVnHh9"
    },
    {
      "cell_type": "code",
      "source": [
        "# 특정 월, 일, 요일, 시간에 따른 판매량 그래프\n",
        "from matplotlib.axis import Axis\n",
        "how= {\n",
        "    'transaction_amount':np.sum\n",
        "}\n",
        "stat1=df2.groupby('pay_ym').agg(how)\n",
        "stat2=df2.groupby('Date').agg(how)\n",
        "stat3=df2.groupby('Day').agg(how)\n",
        "stat4=df2.groupby('Time').agg(how)\n",
        "\n",
        "\n",
        "stat1.plot.bar(subplots=True, figsize = (8,4))\n",
        "stat2.plot.bar(subplots=True, figsize = (8,4))\n",
        "stat3.plot.bar(subplots=True, figsize = (8,4))\n",
        "stat4.plot.bar(subplots=True, figsize = (8.15,4))"
      ],
      "metadata": {
        "colab": {
          "base_uri": "https://localhost:8080/",
          "height": 1000
        },
        "id": "TyvX3vfr6fP3",
        "outputId": "2a4ee624-b28a-40a7-85d1-f9e6aabee3a3"
      },
      "id": "TyvX3vfr6fP3",
      "execution_count": 122,
      "outputs": [
        {
          "output_type": "execute_result",
          "data": {
            "text/plain": [
              "array([<matplotlib.axes._subplots.AxesSubplot object at 0x7fe6d3e8b290>],\n",
              "      dtype=object)"
            ]
          },
          "metadata": {},
          "execution_count": 122
        },
        {
          "output_type": "display_data",
          "data": {
            "text/plain": [
              "<Figure size 576x288 with 1 Axes>"
            ],
            "image/png": "[encoded data removed]"
          },
          "metadata": {
            "needs_background": "light"
          }
        },
        {
          "output_type": "display_data",
          "data": {
            "text/plain": [
              "<Figure size 576x288 with 1 Axes>"
            ],
            "image/png": "[encoded data removed]"
          },
          "metadata": {
            "needs_background": "light"
          }
        },
        {
          "output_type": "display_data",
          "data": {
            "text/plain": [
              "<Figure size 576x288 with 1 Axes>"
            ],
            "image/png": "[encoded data removed]"
          },
          "metadata": {
            "needs_background": "light"
          }
        },
        {
          "output_type": "display_data",
          "data": {
            "text/plain": [
              "<Figure size 586.8x288 with 1 Axes>"
            ],
            "image/png": "[encoded data removed]"
          },
          "metadata": {
            "needs_background": "light"
          }
        }
      ]
    },
    {
      "cell_type": "code",
      "source": [
        "# 요일/시간 별 매출량 그래프\n",
        "grouped_df = df2.groupby(['Day','Time'])['transaction_amount'].aggregate('sum').reset_index()\n",
        "grouped_df = grouped_df.pivot('Day','Time','transaction_amount')\n",
        "\n",
        "plt.figure(figsize = (18,9))\n",
        "sns.heatmap(grouped_df)\n",
        "plt.title('요일/시간별 매출량')\n",
        "plt.show()"
      ],
      "metadata": {
        "colab": {
          "base_uri": "https://localhost:8080/",
          "height": 566
        },
        "id": "dFFuvRF4IjiR",
        "outputId": "4cfd277d-2d96-4589-9e31-3ad10cb710ac"
      },
      "id": "dFFuvRF4IjiR",
      "execution_count": 123,
      "outputs": [
        {
          "output_type": "display_data",
          "data": {
            "text/plain": [
              "<Figure size 1296x648 with 2 Axes>"
            ],
            "image/png": "[encoded data removed]"
          },
          "metadata": {
            "needs_background": "light"
          }
        }
      ]
    },
    {
      "cell_type": "markdown",
      "source": [
        "방학시즌인 7, 8월, 주말인 일요일, 월말인 30,31일, 그리고 밤 시간인 21~23시에 수입이 높게 나타난다.\n",
        "\n",
        "그리고 요일/시간 별 매출량 그래프에서 일요일 20~23시에 매출량이 가장 높게 나타났다."
      ],
      "metadata": {
        "id": "F4Bmr3x8_V4u"
      },
      "id": "F4Bmr3x8_V4u"
    },
    {
      "cell_type": "markdown",
      "source": [
        "매출이 높은 시기에 광고를 집중하면 매출 상승 효과를 기대할 수 있을 것이다."
      ],
      "metadata": {
        "id": "D9g6pIoe_UIU"
      },
      "id": "D9g6pIoe_UIU"
    },
    {
      "cell_type": "markdown",
      "source": [
        "##재구매 관련 데이터"
      ],
      "metadata": {
        "id": "LhHvf5jGiNkQ"
      },
      "id": "LhHvf5jGiNkQ"
    },
    {
      "cell_type": "code",
      "source": [
        "# 한 사람이 강의를 몇 회 구매했는지 확인\n",
        "df3[\"customer_id\"].value_counts() "
      ],
      "metadata": {
        "colab": {
          "base_uri": "https://localhost:8080/"
        },
        "id": "Ktat19PxqkM8",
        "outputId": "21b9d29e-40eb-4513-8c9f-3878ba77c49a"
      },
      "id": "Ktat19PxqkM8",
      "execution_count": 124,
      "outputs": [
        {
          "output_type": "execute_result",
          "data": {
            "text/plain": [
              "98685.0     53\n",
              "427973.0    47\n",
              "158374.0    42\n",
              "50769.0     41\n",
              "3189.0      40\n",
              "            ..\n",
              "544537.0     1\n",
              "544348.0     1\n",
              "537063.0     1\n",
              "102796.0     1\n",
              "610626.0     1\n",
              "Name: customer_id, Length: 39092, dtype: int64"
            ]
          },
          "metadata": {},
          "execution_count": 124
        }
      ]
    },
    {
      "cell_type": "code",
      "source": [
        "# 재구매 시 True, 1회 구매시 False 인 column 생성\n",
        "\n",
        "repeat = df3.customer_id.value_counts().loc[df3.customer_id.value_counts() >= 2]\n",
        "repeat_index=repeat.index\n",
        "repeat_index\n",
        "\n",
        "def repeat_order_func(x) :      \n",
        "\n",
        "    if repeat_index.isin([x]).any()==True:\n",
        "        return True\n",
        "    else:\n",
        "        return False\n",
        "\n",
        "df3['repeat_order'] = df3['customer_id'].map(repeat_order_func)\n",
        "df3 = df3.drop_duplicates(['customer_id'])"
      ],
      "metadata": {
        "id": "bDvSSFivPfvS"
      },
      "id": "bDvSSFivPfvS",
      "execution_count": 125,
      "outputs": []
    },
    {
      "cell_type": "code",
      "source": [
        "# 1회 구매자 및 2회 이상 구매자 수 확인\n",
        "df3['repeat_order'].value_counts()"
      ],
      "metadata": {
        "colab": {
          "base_uri": "https://localhost:8080/"
        },
        "id": "E5Qz7GmQfYM3",
        "outputId": "55226111-d511-4965-f538-1b5f38dc70d5"
      },
      "id": "E5Qz7GmQfYM3",
      "execution_count": 126,
      "outputs": [
        {
          "output_type": "execute_result",
          "data": {
            "text/plain": [
              "False    30103\n",
              "True      8989\n",
              "Name: repeat_order, dtype: int64"
            ]
          },
          "metadata": {},
          "execution_count": 126
        }
      ]
    },
    {
      "cell_type": "code",
      "source": [
        "# 강의를 재구매한 사람 비율\n",
        "print(f'{\"%.2f\"% (8989/(30103+8989)*100)}%')"
      ],
      "metadata": {
        "colab": {
          "base_uri": "https://localhost:8080/"
        },
        "id": "B54eX3ZdgB_n",
        "outputId": "0c86c673-d442-44f3-f17b-c51eac46366d"
      },
      "id": "B54eX3ZdgB_n",
      "execution_count": 127,
      "outputs": [
        {
          "output_type": "stream",
          "name": "stdout",
          "text": [
            "22.99%\n"
          ]
        }
      ]
    },
    {
      "cell_type": "code",
      "source": [
        "# 재구매자만 있는 데이터프레임\n",
        "df_repeat_order = df3[df3.repeat_order.isin([True])]"
      ],
      "metadata": {
        "id": "0K2FLb-YsKHY"
      },
      "id": "0K2FLb-YsKHY",
      "execution_count": 128,
      "outputs": []
    },
    {
      "cell_type": "code",
      "source": [
        "df_one_order = df3[df3.repeat_order.isin([False])]"
      ],
      "metadata": {
        "id": "o120X4mxKb-u"
      },
      "id": "o120X4mxKb-u",
      "execution_count": 129,
      "outputs": []
    },
    {
      "cell_type": "markdown",
      "source": [
        "강의를 2회 이상 구매한 사람이 전체의 약 23%"
      ],
      "metadata": {
        "id": "sIQcvT0-gWLS"
      },
      "id": "sIQcvT0-gWLS"
    },
    {
      "cell_type": "markdown",
      "source": [
        "##환불 관련 데이터"
      ],
      "metadata": {
        "id": "o3rmxSlOjKKV"
      },
      "id": "o3rmxSlOjKKV"
    },
    {
      "cell_type": "code",
      "source": [
        "# 결제 완료 value_counts\n",
        "df2 = df2.drop_duplicates(['customer_id'])\n",
        "df2['type'].value_counts()"
      ],
      "metadata": {
        "colab": {
          "base_uri": "https://localhost:8080/"
        },
        "id": "KvMHNqmdy1zG",
        "outputId": "06ea68c7-aaef-40e2-85a3-c70ac050e169"
      },
      "id": "KvMHNqmdy1zG",
      "execution_count": 130,
      "outputs": [
        {
          "output_type": "execute_result",
          "data": {
            "text/plain": [
              "PAYMENT    33109\n",
              "Name: type, dtype: int64"
            ]
          },
          "metadata": {},
          "execution_count": 130
        }
      ]
    },
    {
      "cell_type": "code",
      "source": [
        "# 환불한 사람 value_counts\n",
        "Refdf = Refdf.drop_duplicates(['customer_id'])\n",
        "Refdf['type'].value_counts()"
      ],
      "metadata": {
        "colab": {
          "base_uri": "https://localhost:8080/"
        },
        "id": "2WSplARgKGsh",
        "outputId": "c85e1213-3140-4522-dba1-6dfff8a60f35"
      },
      "id": "2WSplARgKGsh",
      "execution_count": 131,
      "outputs": [
        {
          "output_type": "execute_result",
          "data": {
            "text/plain": [
              "REFUND    3247\n",
              "Name: type, dtype: int64"
            ]
          },
          "metadata": {},
          "execution_count": 131
        }
      ]
    },
    {
      "cell_type": "code",
      "source": [
        "# 전체 환불율\n",
        "print(f'{\"%0.2f\"%(3247/(3247+33109)*100)}%')"
      ],
      "metadata": {
        "colab": {
          "base_uri": "https://localhost:8080/"
        },
        "id": "0HpfHK8B27xi",
        "outputId": "5ea55695-0f11-4b12-cb31-c7cc1f1e2992"
      },
      "id": "0HpfHK8B27xi",
      "execution_count": 132,
      "outputs": [
        {
          "output_type": "stream",
          "name": "stdout",
          "text": [
            "8.93%\n"
          ]
        }
      ]
    },
    {
      "cell_type": "markdown",
      "source": [
        "환불한 사람이 전체의 약 9%"
      ],
      "metadata": {
        "id": "Rguz7rc03iKw"
      },
      "id": "Rguz7rc03iKw"
    },
    {
      "cell_type": "markdown",
      "source": [
        "###쿠폰"
      ],
      "metadata": {
        "id": "WoZ5Ac_pL-ZV"
      },
      "id": "WoZ5Ac_pL-ZV"
    },
    {
      "cell_type": "code",
      "source": [
        "# 쿠폰 할인율 컬럼 추가\n",
        "df2 = df2.fillna(0)\n",
        "Refdf2 = Refdf.fillna(0)\n",
        "\n",
        "df2['coupon_discount_rate'] = df2['coupon_discount_amount']/(df2['transaction_amount']+df2['coupon_discount_amount'])*100 \n",
        "Refdf2['coupon_discount_rate'] = Refdf2['coupon_discount_amount']/(Refdf2['transaction_amount']+Refdf2['coupon_discount_amount'])*100"
      ],
      "metadata": {
        "id": "urz4Tbp0Nb7N"
      },
      "execution_count": 133,
      "outputs": [],
      "id": "urz4Tbp0Nb7N"
    },
    {
      "cell_type": "code",
      "source": [
        "# 중복 제거\n",
        "df2 = df2.drop_duplicates(['customer_id'])\n",
        "df2['type'].value_counts()"
      ],
      "metadata": {
        "colab": {
          "base_uri": "https://localhost:8080/"
        },
        "id": "H2un6yk9MpJZ",
        "outputId": "4ea3c12f-f606-4266-bb96-5a16965bba97"
      },
      "id": "H2un6yk9MpJZ",
      "execution_count": 134,
      "outputs": [
        {
          "output_type": "execute_result",
          "data": {
            "text/plain": [
              "PAYMENT    33109\n",
              "Name: type, dtype: int64"
            ]
          },
          "metadata": {},
          "execution_count": 134
        }
      ]
    },
    {
      "cell_type": "code",
      "source": [
        "# 중복 제거\n",
        "Refdf2 = Refdf2.drop_duplicates(['customer_id'])\n",
        "Refdf2['type'].value_counts()"
      ],
      "metadata": {
        "colab": {
          "base_uri": "https://localhost:8080/"
        },
        "id": "_Ez6C1svMr00",
        "outputId": "181043f1-b8ca-4b98-d245-0e7316206658"
      },
      "id": "_Ez6C1svMr00",
      "execution_count": 135,
      "outputs": [
        {
          "output_type": "execute_result",
          "data": {
            "text/plain": [
              "REFUND    3247\n",
              "Name: type, dtype: int64"
            ]
          },
          "metadata": {},
          "execution_count": 135
        }
      ]
    },
    {
      "cell_type": "code",
      "source": [
        "# 쿠폰 할인율 별 구분\n",
        "def discount_rate(x) :   \n",
        "    if x == 0:\n",
        "        return \"미사용\"\n",
        "    elif x < 10: \n",
        "        return \"~10%\"\n",
        "    elif x < 20: \n",
        "        return \"~20%\"\n",
        "    elif x < 30: \n",
        "        return \"~30%\"\n",
        "    elif x < 40: \n",
        "        return \"~40%\"\n",
        "    elif x < 50:\n",
        "        return \"~50%\"\n",
        "    elif x < 60: \n",
        "        return \"~60%\"\n",
        "    elif x < 70: \n",
        "        return \"~70%\"       \n",
        "\n",
        "df2['coupon_discount_rate2'] = df2['coupon_discount_rate'].map(discount_rate)\n",
        "Refdf2['coupon_discount_rate2'] = Refdf2['coupon_discount_rate'].map(discount_rate)"
      ],
      "metadata": {
        "id": "9qbVzir0QoLc"
      },
      "execution_count": 136,
      "outputs": [],
      "id": "9qbVzir0QoLc"
    },
    {
      "cell_type": "code",
      "source": [
        "# 할인율 별 쿠폰 사용 횟수\n",
        "fig = plt.figure(figsize=(8,4))                    \n",
        "sns.countplot( data = df2, x = 'coupon_discount_rate2', order = df2['coupon_discount_rate2'].value_counts().index)"
      ],
      "metadata": {
        "colab": {
          "base_uri": "https://localhost:8080/",
          "height": 297
        },
        "id": "6xv5qMS5QqHP",
        "outputId": "b6556a43-aff1-4d0d-e417-977901b03667"
      },
      "execution_count": 137,
      "outputs": [
        {
          "output_type": "execute_result",
          "data": {
            "text/plain": [
              "<matplotlib.axes._subplots.AxesSubplot at 0x7fe6d83a1390>"
            ]
          },
          "metadata": {},
          "execution_count": 137
        },
        {
          "output_type": "display_data",
          "data": {
            "text/plain": [
              "<Figure size 576x288 with 1 Axes>"
            ],
            "image/png": "[encoded data removed]"
          },
          "metadata": {
            "needs_background": "light"
          }
        }
      ],
      "id": "6xv5qMS5QqHP"
    },
    {
      "cell_type": "markdown",
      "source": [
        "~20% 할인율이 가장 많이 적용된다."
      ],
      "metadata": {
        "id": "P2M8PFIP33oj"
      },
      "id": "P2M8PFIP33oj"
    },
    {
      "cell_type": "code",
      "source": [
        "# 쿠폰을 미사용한 사람의 데이터\n",
        "df2n = df2[df2.coupon_discount_rate2.isin(['미사용'])]"
      ],
      "metadata": {
        "id": "aRjFHX7Zh0ek"
      },
      "id": "aRjFHX7Zh0ek",
      "execution_count": 138,
      "outputs": []
    },
    {
      "cell_type": "code",
      "source": [
        "Refdfn = Refdf2[Refdf2.coupon_discount_rate2.isin(['미사용'])]\n",
        "Refdfn['coupon_discount_rate2'].value_counts()"
      ],
      "metadata": {
        "colab": {
          "base_uri": "https://localhost:8080/"
        },
        "id": "3ggP_7b6Q-qf",
        "outputId": "649f9b1e-c93e-4ac9-bbaf-c06332dfbc16"
      },
      "id": "3ggP_7b6Q-qf",
      "execution_count": 139,
      "outputs": [
        {
          "output_type": "execute_result",
          "data": {
            "text/plain": [
              "미사용    3239\n",
              "Name: coupon_discount_rate2, dtype: int64"
            ]
          },
          "metadata": {},
          "execution_count": 139
        }
      ]
    },
    {
      "cell_type": "code",
      "source": [
        "# 전체 총 매출액\n",
        "type_amount_total = df2.groupby('type').agg(how)\n",
        "type_amount_total"
      ],
      "metadata": {
        "colab": {
          "base_uri": "https://localhost:8080/",
          "height": 112
        },
        "id": "-i0k9Q_4pmdB",
        "outputId": "c4bc3372-f9fb-43e8-ba98-6435316c391f"
      },
      "id": "-i0k9Q_4pmdB",
      "execution_count": 140,
      "outputs": [
        {
          "output_type": "execute_result",
          "data": {
            "text/plain": [
              "         transaction_amount\n",
              "type                       \n",
              "PAYMENT          4391197800"
            ],
            "text/html": [
              "\n",
              "  <div id=\"df-a06ac0bd-93ec-49f2-a865-2069ec1b0424\">\n",
              "    <div class=\"colab-df-container\">\n",
              "      <div>\n",
              "<style scoped>\n",
              "    .dataframe tbody tr th:only-of-type {\n",
              "        vertical-align: middle;\n",
              "    }\n",
              "\n",
              "    .dataframe tbody tr th {\n",
              "        vertical-align: top;\n",
              "    }\n",
              "\n",
              "    .dataframe thead th {\n",
              "        text-align: right;\n",
              "    }\n",
              "</style>\n",
              "<table border=\"1\" class=\"dataframe\">\n",
              "  <thead>\n",
              "    <tr style=\"text-align: right;\">\n",
              "      <th></th>\n",
              "      <th>transaction_amount</th>\n",
              "    </tr>\n",
              "    <tr>\n",
              "      <th>type</th>\n",
              "      <th></th>\n",
              "    </tr>\n",
              "  </thead>\n",
              "  <tbody>\n",
              "    <tr>\n",
              "      <th>PAYMENT</th>\n",
              "      <td>4391197800</td>\n",
              "    </tr>\n",
              "  </tbody>\n",
              "</table>\n",
              "</div>\n",
              "      <button class=\"colab-df-convert\" onclick=\"convertToInteractive('df-a06ac0bd-93ec-49f2-a865-2069ec1b0424')\"\n",
              "              title=\"Convert this dataframe to an interactive table.\"\n",
              "              style=\"display:none;\">\n",
              "        \n",
              "  <svg xmlns=\"http://www.w3.org/2000/svg\" height=\"24px\"viewBox=\"0 0 24 24\"\n",
              "       width=\"24px\">\n",
              "    <path d=\"M0 0h24v24H0V0z\" fill=\"none\"/>\n",
              "    <path d=\"M18.56 5.44l.94 2.06.94-2.06 2.06-.94-2.06-.94-.94-2.06-.94 2.06-2.06.94zm-11 1L8.5 8.5l.94-2.06 2.06-.94-2.06-.94L8.5 2.5l-.94 2.06-2.06.94zm10 10l.94 2.06.94-2.06 2.06-.94-2.06-.94-.94-2.06-.94 2.06-2.06.94z\"/><path d=\"M17.41 7.96l-1.37-1.37c-.4-.4-.92-.59-1.43-.59-.52 0-1.04.2-1.43.59L10.3 9.45l-7.72 7.72c-.78.78-.78 2.05 0 2.83L4 21.41c.39.39.9.59 1.41.59.51 0 1.02-.2 1.41-.59l7.78-7.78 2.81-2.81c.8-.78.8-2.07 0-2.86zM5.41 20L4 18.59l7.72-7.72 1.47 1.35L5.41 20z\"/>\n",
              "  </svg>\n",
              "      </button>\n",
              "      \n",
              "  <style>\n",
              "    .colab-df-container {\n",
              "      display:flex;\n",
              "      flex-wrap:wrap;\n",
              "      gap: 12px;\n",
              "    }\n",
              "\n",
              "    .colab-df-convert {\n",
              "      background-color: #E8F0FE;\n",
              "      border: none;\n",
              "      border-radius: 50%;\n",
              "      cursor: pointer;\n",
              "      display: none;\n",
              "      fill: #1967D2;\n",
              "      height: 32px;\n",
              "      padding: 0 0 0 0;\n",
              "      width: 32px;\n",
              "    }\n",
              "\n",
              "    .colab-df-convert:hover {\n",
              "      background-color: #E2EBFA;\n",
              "      box-shadow: 0px 1px 2px rgba(60, 64, 67, 0.3), 0px 1px 3px 1px rgba(60, 64, 67, 0.15);\n",
              "      fill: #174EA6;\n",
              "    }\n",
              "\n",
              "    [theme=dark] .colab-df-convert {\n",
              "      background-color: #3B4455;\n",
              "      fill: #D2E3FC;\n",
              "    }\n",
              "\n",
              "    [theme=dark] .colab-df-convert:hover {\n",
              "      background-color: #434B5C;\n",
              "      box-shadow: 0px 1px 3px 1px rgba(0, 0, 0, 0.15);\n",
              "      filter: drop-shadow(0px 1px 2px rgba(0, 0, 0, 0.3));\n",
              "      fill: #FFFFFF;\n",
              "    }\n",
              "  </style>\n",
              "\n",
              "      <script>\n",
              "        const buttonEl =\n",
              "          document.querySelector('#df-a06ac0bd-93ec-49f2-a865-2069ec1b0424 button.colab-df-convert');\n",
              "        buttonEl.style.display =\n",
              "          google.colab.kernel.accessAllowed ? 'block' : 'none';\n",
              "\n",
              "        async function convertToInteractive(key) {\n",
              "          const element = document.querySelector('#df-a06ac0bd-93ec-49f2-a865-2069ec1b0424');\n",
              "          const dataTable =\n",
              "            await google.colab.kernel.invokeFunction('convertToInteractive',\n",
              "                                                     [key], {});\n",
              "          if (!dataTable) return;\n",
              "\n",
              "          const docLinkHtml = 'Like what you see? Visit the ' +\n",
              "            '<a target=\"_blank\" href=https://colab.research.google.com/notebooks/data_table.ipynb>data table notebook</a>'\n",
              "            + ' to learn more about interactive tables.';\n",
              "          element.innerHTML = '';\n",
              "          dataTable['output_type'] = 'display_data';\n",
              "          await google.colab.output.renderOutput(dataTable, element);\n",
              "          const docLink = document.createElement('div');\n",
              "          docLink.innerHTML = docLinkHtml;\n",
              "          element.appendChild(docLink);\n",
              "        }\n",
              "      </script>\n",
              "    </div>\n",
              "  </div>\n",
              "  "
            ]
          },
          "metadata": {},
          "execution_count": 140
        }
      ]
    },
    {
      "cell_type": "code",
      "source": [
        "# 쿠폰 미사용자 총 매출액\n",
        "type_amount_n = df2n.groupby('type').agg(how)\n",
        "type_amount_n"
      ],
      "metadata": {
        "colab": {
          "base_uri": "https://localhost:8080/",
          "height": 112
        },
        "id": "5d0h4o8fSNiU",
        "outputId": "955cf229-6cad-4120-ea7c-389bb2fe6005"
      },
      "id": "5d0h4o8fSNiU",
      "execution_count": 141,
      "outputs": [
        {
          "output_type": "execute_result",
          "data": {
            "text/plain": [
              "         transaction_amount\n",
              "type                       \n",
              "PAYMENT          2777744605"
            ],
            "text/html": [
              "\n",
              "  <div id=\"df-b49d858f-7feb-4f84-aadb-88e15fe00933\">\n",
              "    <div class=\"colab-df-container\">\n",
              "      <div>\n",
              "<style scoped>\n",
              "    .dataframe tbody tr th:only-of-type {\n",
              "        vertical-align: middle;\n",
              "    }\n",
              "\n",
              "    .dataframe tbody tr th {\n",
              "        vertical-align: top;\n",
              "    }\n",
              "\n",
              "    .dataframe thead th {\n",
              "        text-align: right;\n",
              "    }\n",
              "</style>\n",
              "<table border=\"1\" class=\"dataframe\">\n",
              "  <thead>\n",
              "    <tr style=\"text-align: right;\">\n",
              "      <th></th>\n",
              "      <th>transaction_amount</th>\n",
              "    </tr>\n",
              "    <tr>\n",
              "      <th>type</th>\n",
              "      <th></th>\n",
              "    </tr>\n",
              "  </thead>\n",
              "  <tbody>\n",
              "    <tr>\n",
              "      <th>PAYMENT</th>\n",
              "      <td>2777744605</td>\n",
              "    </tr>\n",
              "  </tbody>\n",
              "</table>\n",
              "</div>\n",
              "      <button class=\"colab-df-convert\" onclick=\"convertToInteractive('df-b49d858f-7feb-4f84-aadb-88e15fe00933')\"\n",
              "              title=\"Convert this dataframe to an interactive table.\"\n",
              "              style=\"display:none;\">\n",
              "        \n",
              "  <svg xmlns=\"http://www.w3.org/2000/svg\" height=\"24px\"viewBox=\"0 0 24 24\"\n",
              "       width=\"24px\">\n",
              "    <path d=\"M0 0h24v24H0V0z\" fill=\"none\"/>\n",
              "    <path d=\"M18.56 5.44l.94 2.06.94-2.06 2.06-.94-2.06-.94-.94-2.06-.94 2.06-2.06.94zm-11 1L8.5 8.5l.94-2.06 2.06-.94-2.06-.94L8.5 2.5l-.94 2.06-2.06.94zm10 10l.94 2.06.94-2.06 2.06-.94-2.06-.94-.94-2.06-.94 2.06-2.06.94z\"/><path d=\"M17.41 7.96l-1.37-1.37c-.4-.4-.92-.59-1.43-.59-.52 0-1.04.2-1.43.59L10.3 9.45l-7.72 7.72c-.78.78-.78 2.05 0 2.83L4 21.41c.39.39.9.59 1.41.59.51 0 1.02-.2 1.41-.59l7.78-7.78 2.81-2.81c.8-.78.8-2.07 0-2.86zM5.41 20L4 18.59l7.72-7.72 1.47 1.35L5.41 20z\"/>\n",
              "  </svg>\n",
              "      </button>\n",
              "      \n",
              "  <style>\n",
              "    .colab-df-container {\n",
              "      display:flex;\n",
              "      flex-wrap:wrap;\n",
              "      gap: 12px;\n",
              "    }\n",
              "\n",
              "    .colab-df-convert {\n",
              "      background-color: #E8F0FE;\n",
              "      border: none;\n",
              "      border-radius: 50%;\n",
              "      cursor: pointer;\n",
              "      display: none;\n",
              "      fill: #1967D2;\n",
              "      height: 32px;\n",
              "      padding: 0 0 0 0;\n",
              "      width: 32px;\n",
              "    }\n",
              "\n",
              "    .colab-df-convert:hover {\n",
              "      background-color: #E2EBFA;\n",
              "      box-shadow: 0px 1px 2px rgba(60, 64, 67, 0.3), 0px 1px 3px 1px rgba(60, 64, 67, 0.15);\n",
              "      fill: #174EA6;\n",
              "    }\n",
              "\n",
              "    [theme=dark] .colab-df-convert {\n",
              "      background-color: #3B4455;\n",
              "      fill: #D2E3FC;\n",
              "    }\n",
              "\n",
              "    [theme=dark] .colab-df-convert:hover {\n",
              "      background-color: #434B5C;\n",
              "      box-shadow: 0px 1px 3px 1px rgba(0, 0, 0, 0.15);\n",
              "      filter: drop-shadow(0px 1px 2px rgba(0, 0, 0, 0.3));\n",
              "      fill: #FFFFFF;\n",
              "    }\n",
              "  </style>\n",
              "\n",
              "      <script>\n",
              "        const buttonEl =\n",
              "          document.querySelector('#df-b49d858f-7feb-4f84-aadb-88e15fe00933 button.colab-df-convert');\n",
              "        buttonEl.style.display =\n",
              "          google.colab.kernel.accessAllowed ? 'block' : 'none';\n",
              "\n",
              "        async function convertToInteractive(key) {\n",
              "          const element = document.querySelector('#df-b49d858f-7feb-4f84-aadb-88e15fe00933');\n",
              "          const dataTable =\n",
              "            await google.colab.kernel.invokeFunction('convertToInteractive',\n",
              "                                                     [key], {});\n",
              "          if (!dataTable) return;\n",
              "\n",
              "          const docLinkHtml = 'Like what you see? Visit the ' +\n",
              "            '<a target=\"_blank\" href=https://colab.research.google.com/notebooks/data_table.ipynb>data table notebook</a>'\n",
              "            + ' to learn more about interactive tables.';\n",
              "          element.innerHTML = '';\n",
              "          dataTable['output_type'] = 'display_data';\n",
              "          await google.colab.output.renderOutput(dataTable, element);\n",
              "          const docLink = document.createElement('div');\n",
              "          docLink.innerHTML = docLinkHtml;\n",
              "          element.appendChild(docLink);\n",
              "        }\n",
              "      </script>\n",
              "    </div>\n",
              "  </div>\n",
              "  "
            ]
          },
          "metadata": {},
          "execution_count": 141
        }
      ]
    },
    {
      "cell_type": "code",
      "source": [
        "# 전체 환불액\n",
        "type_amount_total_Ref = Refdf2.groupby('type').agg(how)\n",
        "type_amount_total_Ref"
      ],
      "metadata": {
        "colab": {
          "base_uri": "https://localhost:8080/",
          "height": 112
        },
        "id": "NFdwudGPzH7o",
        "outputId": "d85aaf11-d4e3-405b-e133-308924677658"
      },
      "id": "NFdwudGPzH7o",
      "execution_count": 142,
      "outputs": [
        {
          "output_type": "execute_result",
          "data": {
            "text/plain": [
              "        transaction_amount\n",
              "type                      \n",
              "REFUND          -559991312"
            ],
            "text/html": [
              "\n",
              "  <div id=\"df-0fcf519b-4512-4d74-805c-52463fa3a8c0\">\n",
              "    <div class=\"colab-df-container\">\n",
              "      <div>\n",
              "<style scoped>\n",
              "    .dataframe tbody tr th:only-of-type {\n",
              "        vertical-align: middle;\n",
              "    }\n",
              "\n",
              "    .dataframe tbody tr th {\n",
              "        vertical-align: top;\n",
              "    }\n",
              "\n",
              "    .dataframe thead th {\n",
              "        text-align: right;\n",
              "    }\n",
              "</style>\n",
              "<table border=\"1\" class=\"dataframe\">\n",
              "  <thead>\n",
              "    <tr style=\"text-align: right;\">\n",
              "      <th></th>\n",
              "      <th>transaction_amount</th>\n",
              "    </tr>\n",
              "    <tr>\n",
              "      <th>type</th>\n",
              "      <th></th>\n",
              "    </tr>\n",
              "  </thead>\n",
              "  <tbody>\n",
              "    <tr>\n",
              "      <th>REFUND</th>\n",
              "      <td>-559991312</td>\n",
              "    </tr>\n",
              "  </tbody>\n",
              "</table>\n",
              "</div>\n",
              "      <button class=\"colab-df-convert\" onclick=\"convertToInteractive('df-0fcf519b-4512-4d74-805c-52463fa3a8c0')\"\n",
              "              title=\"Convert this dataframe to an interactive table.\"\n",
              "              style=\"display:none;\">\n",
              "        \n",
              "  <svg xmlns=\"http://www.w3.org/2000/svg\" height=\"24px\"viewBox=\"0 0 24 24\"\n",
              "       width=\"24px\">\n",
              "    <path d=\"M0 0h24v24H0V0z\" fill=\"none\"/>\n",
              "    <path d=\"M18.56 5.44l.94 2.06.94-2.06 2.06-.94-2.06-.94-.94-2.06-.94 2.06-2.06.94zm-11 1L8.5 8.5l.94-2.06 2.06-.94-2.06-.94L8.5 2.5l-.94 2.06-2.06.94zm10 10l.94 2.06.94-2.06 2.06-.94-2.06-.94-.94-2.06-.94 2.06-2.06.94z\"/><path d=\"M17.41 7.96l-1.37-1.37c-.4-.4-.92-.59-1.43-.59-.52 0-1.04.2-1.43.59L10.3 9.45l-7.72 7.72c-.78.78-.78 2.05 0 2.83L4 21.41c.39.39.9.59 1.41.59.51 0 1.02-.2 1.41-.59l7.78-7.78 2.81-2.81c.8-.78.8-2.07 0-2.86zM5.41 20L4 18.59l7.72-7.72 1.47 1.35L5.41 20z\"/>\n",
              "  </svg>\n",
              "      </button>\n",
              "      \n",
              "  <style>\n",
              "    .colab-df-container {\n",
              "      display:flex;\n",
              "      flex-wrap:wrap;\n",
              "      gap: 12px;\n",
              "    }\n",
              "\n",
              "    .colab-df-convert {\n",
              "      background-color: #E8F0FE;\n",
              "      border: none;\n",
              "      border-radius: 50%;\n",
              "      cursor: pointer;\n",
              "      display: none;\n",
              "      fill: #1967D2;\n",
              "      height: 32px;\n",
              "      padding: 0 0 0 0;\n",
              "      width: 32px;\n",
              "    }\n",
              "\n",
              "    .colab-df-convert:hover {\n",
              "      background-color: #E2EBFA;\n",
              "      box-shadow: 0px 1px 2px rgba(60, 64, 67, 0.3), 0px 1px 3px 1px rgba(60, 64, 67, 0.15);\n",
              "      fill: #174EA6;\n",
              "    }\n",
              "\n",
              "    [theme=dark] .colab-df-convert {\n",
              "      background-color: #3B4455;\n",
              "      fill: #D2E3FC;\n",
              "    }\n",
              "\n",
              "    [theme=dark] .colab-df-convert:hover {\n",
              "      background-color: #434B5C;\n",
              "      box-shadow: 0px 1px 3px 1px rgba(0, 0, 0, 0.15);\n",
              "      filter: drop-shadow(0px 1px 2px rgba(0, 0, 0, 0.3));\n",
              "      fill: #FFFFFF;\n",
              "    }\n",
              "  </style>\n",
              "\n",
              "      <script>\n",
              "        const buttonEl =\n",
              "          document.querySelector('#df-0fcf519b-4512-4d74-805c-52463fa3a8c0 button.colab-df-convert');\n",
              "        buttonEl.style.display =\n",
              "          google.colab.kernel.accessAllowed ? 'block' : 'none';\n",
              "\n",
              "        async function convertToInteractive(key) {\n",
              "          const element = document.querySelector('#df-0fcf519b-4512-4d74-805c-52463fa3a8c0');\n",
              "          const dataTable =\n",
              "            await google.colab.kernel.invokeFunction('convertToInteractive',\n",
              "                                                     [key], {});\n",
              "          if (!dataTable) return;\n",
              "\n",
              "          const docLinkHtml = 'Like what you see? Visit the ' +\n",
              "            '<a target=\"_blank\" href=https://colab.research.google.com/notebooks/data_table.ipynb>data table notebook</a>'\n",
              "            + ' to learn more about interactive tables.';\n",
              "          element.innerHTML = '';\n",
              "          dataTable['output_type'] = 'display_data';\n",
              "          await google.colab.output.renderOutput(dataTable, element);\n",
              "          const docLink = document.createElement('div');\n",
              "          docLink.innerHTML = docLinkHtml;\n",
              "          element.appendChild(docLink);\n",
              "        }\n",
              "      </script>\n",
              "    </div>\n",
              "  </div>\n",
              "  "
            ]
          },
          "metadata": {},
          "execution_count": 142
        }
      ]
    },
    {
      "cell_type": "code",
      "source": [
        "tp = type_amount_total.loc['PAYMENT','transaction_amount'] # 현재 전체 매출\n",
        "np = type_amount_n.loc['PAYMENT','transaction_amount'] # 쿠폰 미사용자 전체 매출\n",
        "r = -type_amount_total_Ref.loc['REFUND','transaction_amount'] # 총 환불액\n",
        "print(f'환불 0%일 때 매출 : {tp + r}')\n",
        "print(f'현재 전체 매출 : {tp}\\n')\n",
        "print(f'모든 쿠폰 미사용자가 5% 쿠폰 사용 시 매출 : {\"%.2f\"%((tp-np)+(np + r)*0.95)}')\n",
        "print(f'모든 쿠폰 미사용자가 5% 쿠폰 사용 시 매출 상승률 : {\"%.2f\"%(((tp-np)+(np + r)*0.95)/tp*100-100)}%\\n')\n",
        "print(f'모든 쿠폰 미사용자가 10% 쿠폰 사용 시 매출 : {(tp-np)+(np + r)*0.9}')\n",
        "print(f'모든 쿠폰 미사용자가 10% 쿠폰 사용 시 매출 상승률 : {\"%.2f\"%(((tp-np)+(np + r)*0.9)/tp*100-100)}%')"
      ],
      "metadata": {
        "colab": {
          "base_uri": "https://localhost:8080/"
        },
        "id": "sSDsPjhmwMJJ",
        "outputId": "90ca5265-c527-4b01-9402-8fb01fd59375"
      },
      "id": "sSDsPjhmwMJJ",
      "execution_count": 143,
      "outputs": [
        {
          "output_type": "stream",
          "name": "stdout",
          "text": [
            "환불 0%일 때 매출 : 4951189112\n",
            "현재 전체 매출 : 4391197800\n",
            "\n",
            "모든 쿠폰 미사용자가 5% 쿠폰 사용 시 매출 : 4784302316.15\n",
            "모든 쿠폰 미사용자가 5% 쿠폰 사용 시 매출 상승률 : 8.95%\n",
            "\n",
            "모든 쿠폰 미사용자가 10% 쿠폰 사용 시 매출 : 4617415520.3\n",
            "모든 쿠폰 미사용자가 10% 쿠폰 사용 시 매출 상승률 : 5.15%\n"
          ]
        }
      ]
    },
    {
      "cell_type": "markdown",
      "source": [
        "쿠폰 사용 시에는 환불에 제약이 생기는 규정을 만든다면\n",
        "\n",
        "모든 쿠폰 미사용자에게 5\\~10% 쿠폰을 사용하게 할 시 약 5 ~ 9%의 매출 상승을 기대할 수 있다.\n",
        "\n",
        "따라서 결제 중 쿠폰 미사용자에게 쿠폰을 사용하라는 메시지와 할인 금액을 띄운다면\n",
        "\n",
        "쿠폰 사용율을 늘리고 환불율을 줄여 매출 상승의 효과를 기대할 수 있을 것이다."
      ],
      "metadata": {
        "id": "qRxidLYo2zbZ"
      },
      "id": "qRxidLYo2zbZ"
    },
    {
      "cell_type": "markdown",
      "source": [
        "###카테고리"
      ],
      "metadata": {
        "id": "L8RQ91nHjZBd"
      },
      "id": "L8RQ91nHjZBd"
    },
    {
      "cell_type": "code",
      "source": [
        "# 카테고리 별 환불 횟수\n",
        "Refdf['category_title'].value_counts()"
      ],
      "metadata": {
        "colab": {
          "base_uri": "https://localhost:8080/"
        },
        "id": "AwKa8sLljnms",
        "outputId": "483499dc-6df7-48cd-f05c-407d70d4b31f"
      },
      "id": "AwKa8sLljnms",
      "execution_count": 144,
      "outputs": [
        {
          "output_type": "execute_result",
          "data": {
            "text/plain": [
              "프로그래밍      1141\n",
              "디자인         422\n",
              "데이터사이언스     395\n",
              "영상/3D       335\n",
              "마케팅         317\n",
              "업무 생산성      302\n",
              "부동산/금융      130\n",
              "크리에이티브      104\n",
              "투자/재테크       96\n",
              "파이낸스          2\n",
              "비즈니스          2\n",
              "Name: category_title, dtype: int64"
            ]
          },
          "metadata": {},
          "execution_count": 144
        }
      ]
    },
    {
      "cell_type": "code",
      "source": [
        "# 카테고리 별 환불 횟수 (상대적으로 판매 횟수가 적은 강의 제거(파이낸스, 비즈니스))\n",
        "fig = plt.figure(figsize=(10,6))\n",
        "sns.countplot( data = Refdf, x = 'category_title' , \n",
        "              order = Refdf['category_title'].value_counts().head(9).index )"
      ],
      "metadata": {
        "id": "H6tkNA6LN5WQ",
        "colab": {
          "base_uri": "https://localhost:8080/",
          "height": 406
        },
        "outputId": "1e89df22-60e9-46e2-98be-d3ad7a47f632"
      },
      "id": "H6tkNA6LN5WQ",
      "execution_count": 145,
      "outputs": [
        {
          "output_type": "execute_result",
          "data": {
            "text/plain": [
              "<matplotlib.axes._subplots.AxesSubplot at 0x7fe6e13a8650>"
            ]
          },
          "metadata": {},
          "execution_count": 145
        },
        {
          "output_type": "display_data",
          "data": {
            "text/plain": [
              "<Figure size 720x432 with 1 Axes>"
            ],
            "image/png": "[encoded data removed]"
          },
          "metadata": {
            "needs_background": "light"
          }
        }
      ]
    },
    {
      "cell_type": "code",
      "source": [
        "# 카테고리 별 환불 비율\n",
        "df_refund_rate = Refdf['category_title'].value_counts().head(9)/df3['category_title'].value_counts()*100 \n",
        "df_refund_rate = df_refund_rate.sort_values(ascending=False)\n",
        "df_refund_rate = df_refund_rate.dropna()\n",
        "df_refund_rate"
      ],
      "metadata": {
        "id": "Cd8_mebzN5TJ",
        "colab": {
          "base_uri": "https://localhost:8080/"
        },
        "outputId": "71d9e764-17bb-485f-8221-4763c6909d6b"
      },
      "execution_count": 146,
      "outputs": [
        {
          "output_type": "execute_result",
          "data": {
            "text/plain": [
              "크리에이티브     14.606742\n",
              "프로그래밍       9.187535\n",
              "디자인         9.083082\n",
              "투자/재테크      8.905380\n",
              "데이터사이언스     8.203531\n",
              "마케팅         8.172209\n",
              "영상/3D       8.082027\n",
              "부동산/금융      6.080449\n",
              "업무 생산성      5.795433\n",
              "Name: category_title, dtype: float64"
            ]
          },
          "metadata": {},
          "execution_count": 146
        }
      ],
      "id": "Cd8_mebzN5TJ"
    },
    {
      "cell_type": "code",
      "source": [
        "# 카테고리 별 환불 비율 그래프\n",
        "df_refund_rate.plot.bar(figsize = (15,6)) "
      ],
      "metadata": {
        "id": "KYepdoBrWt4U",
        "colab": {
          "base_uri": "https://localhost:8080/",
          "height": 444
        },
        "outputId": "9ca31eda-b53b-49a5-f5b7-71423f0df706"
      },
      "execution_count": 147,
      "outputs": [
        {
          "output_type": "execute_result",
          "data": {
            "text/plain": [
              "<matplotlib.axes._subplots.AxesSubplot at 0x7fe6d70d7610>"
            ]
          },
          "metadata": {},
          "execution_count": 147
        },
        {
          "output_type": "display_data",
          "data": {
            "text/plain": [
              "<Figure size 1080x432 with 1 Axes>"
            ],
            "image/png": "[encoded data removed]"
          },
          "metadata": {
            "needs_background": "light"
          }
        }
      ],
      "id": "KYepdoBrWt4U"
    },
    {
      "cell_type": "code",
      "source": [
        "# 서브카테고리 별 환불 비율\n",
        "df_refund_rate_sub = Refdf['subcategory_title'].value_counts()/df3['subcategory_title'].value_counts()*100 \n",
        "df_refund_rate_sub = df_refund_rate_sub.sort_values(ascending=False)\n",
        "df_refund_rate_sub = df_refund_rate_sub.dropna()\n",
        "df_refund_rate_sub"
      ],
      "metadata": {
        "colab": {
          "base_uri": "https://localhost:8080/"
        },
        "id": "gYRixZCOnwhV",
        "outputId": "5c8029d7-4ea2-4090-c293-115dd511bc02"
      },
      "id": "gYRixZCOnwhV",
      "execution_count": 148,
      "outputs": [
        {
          "output_type": "execute_result",
          "data": {
            "text/plain": [
              "게임 그래픽       13.636364\n",
              "데이터엔지니어링     12.500000\n",
              "모바일앱         11.367127\n",
              "일러스트         10.790835\n",
              "VFX          10.756972\n",
              "주식 투자         9.890110\n",
              "UX/UI         9.868421\n",
              "프론트엔드 개발      9.820585\n",
              "코딩 입문         9.782609\n",
              "SNS마케팅        9.456265\n",
              "백엔드 개발        9.209988\n",
              "머신러닝          9.144543\n",
              "모션그래픽         8.519004\n",
              "DevOps        8.184143\n",
              "부동산 개발        8.078603\n",
              "디자인툴          7.783641\n",
              "데이터마케팅        7.570621\n",
              "게임            7.530648\n",
              "영상 편집         7.426075\n",
              "데이터분석         7.337662\n",
              "업무자동화         7.288630\n",
              "개발자 커리어       7.168299\n",
              "시각디자인         7.072136\n",
              "디지털마케팅        6.906907\n",
              "PPT/보고서       6.761108\n",
              "딥러닝/인공지능      6.688103\n",
              "글쓰기/카피라이팅     5.844573\n",
              "부동산 투자        5.791506\n",
              "엑셀/VBA        5.736715\n",
              "금융/투자 실무      5.469679\n",
              "회계/재무/세무      5.449591\n",
              "커뮤니케이션        4.838710\n",
              "리더십           4.838710\n",
              "Name: subcategory_title, dtype: float64"
            ]
          },
          "metadata": {},
          "execution_count": 148
        }
      ]
    },
    {
      "cell_type": "code",
      "source": [
        "# 서브카테고리 별 환불 비율 그래프\n",
        "df_refund_rate_sub.plot.bar(figsize = (15,6)) "
      ],
      "metadata": {
        "colab": {
          "base_uri": "https://localhost:8080/",
          "height": 458
        },
        "id": "EEzVqSGVmsxL",
        "outputId": "72a9483d-6ba7-4c11-ed2e-26fb86093b75"
      },
      "id": "EEzVqSGVmsxL",
      "execution_count": 149,
      "outputs": [
        {
          "output_type": "execute_result",
          "data": {
            "text/plain": [
              "<matplotlib.axes._subplots.AxesSubplot at 0x7fe6dfa20a10>"
            ]
          },
          "metadata": {},
          "execution_count": 149
        },
        {
          "output_type": "display_data",
          "data": {
            "text/plain": [
              "<Figure size 1080x432 with 1 Axes>"
            ],
            "image/png": "[encoded data removed]"
          },
          "metadata": {
            "needs_background": "light"
          }
        }
      ]
    },
    {
      "cell_type": "markdown",
      "source": [
        "환불 비율이 높은 카테고리 및 서브카테고리 강의의 질을 개선하여 해결한다.\n",
        "\n"
      ],
      "metadata": {
        "id": "BLpZlzWGgaf8"
      },
      "id": "BLpZlzWGgaf8"
    },
    {
      "cell_type": "markdown",
      "source": [
        "##결론"
      ],
      "metadata": {
        "id": "5eDprOJe7z51"
      },
      "id": "5eDprOJe7z51"
    },
    {
      "cell_type": "markdown",
      "source": [
        "카테고리 별 데이터를 이용한 매출 상승 방안\n",
        "\n",
        "    - 매출이 높은 카테고리의 강의에 광고를 집중한다. \n",
        "\n",
        "    - 더 다양한 종류의 프로그래밍, 영상 편집 관련 강의를 제작한다\n",
        "\n",
        "    - 해당 카테고리의 광고를 클릭하여 들어온 소비자에게는 그 강의에서 가장 인기가 높은 강의를 추천해준다.\n",
        "\n",
        "\n",
        "결제 시기 별 데이터를 이용한 매출 상승 방안\n",
        "\n",
        "    매출액이 높게 나타난 시기\n",
        "    - 7, 8월 (방학 시즌)\n",
        "    - 일요일 (주말)\n",
        "    - 30,31일 (월말)\n",
        "    - 밤 시간인 21~23시\n",
        "\n",
        "    위 시기에 광고를 집중한다면 효과적인 매출 상승을 기대할 수 있다.\n",
        "\n",
        "\n",
        "\n",
        "재구매를 유도하기 위한 방안\n",
        "\n",
        "    - 강의를 2회 이상 구매한 사람이 전체의 약 23%\n",
        "\n",
        "    - 강의를 1회 이상 구매한 사용자들에게 다른 강의에 높은 할인율을 적용할 수 있는 쿠폰을 제공한다.\n",
        "\n",
        "\n",
        "\n",
        "환불하는 이용자를 줄이기 위한 방안\n",
        "\n",
        "    - 환불 비율이 높은 카테고리 및 서브카테고리 강의의 질을 개선하여 해결한다.\n",
        "\n",
        "    - 쿠폰 사용 시에는 환불에 제약이 생기는 약관을 만든다\n",
        "\n",
        "    - 결제 중 쿠폰 미사용자에게 쿠폰을 사용하라는 메시지를 띄운다\n",
        "\n",
        "    - 환불 대신 다른 강의에 높은 할인율을 적용할 수 있는 쿠폰을 제공한다\n",
        "\n",
        "    쿠폰 사용율을 늘리고 환불율을 줄여 매출 상승의 효과를 기대할 수 있을 것이다."
      ],
      "metadata": {
        "id": "mbMF7R_ercTK"
      },
      "id": "mbMF7R_ercTK"
    },
    {
      "cell_type": "code",
      "source": [
        ""
      ],
      "metadata": {
        "id": "dYQRQjc9vF0G"
      },
      "id": "dYQRQjc9vF0G",
      "execution_count": 149,
      "outputs": []
    }
  ],
  "metadata": {
    "kernelspec": {
      "display_name": "Python 3",
      "language": "python",
      "name": "python3"
    },
    "language_info": {
      "codemirror_mode": {
        "name": "ipython",
        "version": 3
      },
      "file_extension": ".py",
      "mimetype": "text/x-python",
      "name": "python",
      "nbconvert_exporter": "python",
      "pygments_lexer": "ipython3",
      "version": "3.8.8"
    },
    "toc": {
      "base_numbering": 1,
      "nav_menu": {},
      "number_sections": true,
      "sideBar": true,
      "skip_h1_title": false,
      "title_cell": "Table of Contents",
      "title_sidebar": "Contents",
      "toc_cell": false,
      "toc_position": {},
      "toc_section_display": true,
      "toc_window_display": false
    },
    "colab": {
      "name": "정구범_패스트캠퍼스_데이터분석.ipynb",
      "provenance": [],
      "collapsed_sections": [
        "f3a595ee",
        "UbXsZ-fS5x_h"
      ],
      "toc_visible": true,
      "include_colab_link": true
    }
  },
  "nbformat": 4,
  "nbformat_minor": 5
}
