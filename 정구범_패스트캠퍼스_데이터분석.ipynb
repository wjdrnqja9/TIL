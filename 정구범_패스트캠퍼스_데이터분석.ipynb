{
  "cells": [
    {
      "cell_type": "markdown",
      "metadata": {
        "id": "view-in-github",
        "colab_type": "text"
      },
      "source": [
        "<a href=\"https://colab.research.google.com/github/wjdrnqja9/TIL/blob/main/%EC%A0%95%EA%B5%AC%EB%B2%94_%ED%8C%A8%EC%8A%A4%ED%8A%B8%EC%BA%A0%ED%8D%BC%EC%8A%A4_%EB%8D%B0%EC%9D%B4%ED%84%B0%EB%B6%84%EC%84%9D.ipynb\" target=\"_parent\"><img src=\"https://colab.research.google.com/assets/colab-badge.svg\" alt=\"Open In Colab\"/></a>"
      ]
    },
    {
      "cell_type": "code",
      "source": [
        "from google.colab import drive\n",
        "drive.mount('/content/drive')"
      ],
      "metadata": {
        "colab": {
          "base_uri": "https://localhost:8080/"
        },
        "id": "WjzebyzrjXmU",
        "outputId": "6422f302-c8b8-422d-dc5e-8bd3cdc38283"
      },
      "id": "WjzebyzrjXmU",
      "execution_count": null,
      "outputs": [
        {
          "output_type": "stream",
          "name": "stdout",
          "text": [
            "Drive already mounted at /content/drive; to attempt to forcibly remount, call drive.mount(\"/content/drive\", force_remount=True).\n"
          ]
        }
      ]
    },
    {
      "cell_type": "code",
      "execution_count": null,
      "id": "591915dd",
      "metadata": {
        "id": "591915dd"
      },
      "outputs": [],
      "source": [
        "import pandas as pd\n",
        "import numpy as np\n",
        "import matplotlib.pyplot as plt\n",
        "import seaborn as sns\n",
        "import datetime"
      ]
    },
    {
      "cell_type": "code",
      "source": [
        "# 한글 글꼴 설치 \n",
        "!sudo apt-get install -y fonts-nanum\n",
        "!sudo fc-cache -fv\n",
        "!rm ~/.cache/matplotlib -rf\n",
        "plt.rc('font', family='NanumBarunGothic')"
      ],
      "metadata": {
        "colab": {
          "base_uri": "https://localhost:8080/"
        },
        "id": "i8I4_S3Re_Ya",
        "outputId": "2735e609-81ed-449d-d790-6760a41e254e"
      },
      "id": "i8I4_S3Re_Ya",
      "execution_count": null,
      "outputs": [
        {
          "output_type": "stream",
          "name": "stdout",
          "text": [
            "Reading package lists... Done\n",
            "Building dependency tree       \n",
            "Reading state information... Done\n",
            "fonts-nanum is already the newest version (20170925-1).\n",
            "The following packages were automatically installed and are no longer required:\n",
            "  libnvidia-common-460 nsight-compute-2020.2.0\n",
            "Use 'sudo apt autoremove' to remove them.\n",
            "0 upgraded, 0 newly installed, 0 to remove and 67 not upgraded.\n",
            "/usr/share/fonts: caching, new cache contents: 0 fonts, 1 dirs\n",
            "/usr/share/fonts/truetype: caching, new cache contents: 0 fonts, 3 dirs\n",
            "/usr/share/fonts/truetype/humor-sans: caching, new cache contents: 1 fonts, 0 dirs\n",
            "/usr/share/fonts/truetype/liberation: caching, new cache contents: 16 fonts, 0 dirs\n",
            "/usr/share/fonts/truetype/nanum: caching, new cache contents: 10 fonts, 0 dirs\n",
            "/usr/local/share/fonts: caching, new cache contents: 0 fonts, 0 dirs\n",
            "/root/.local/share/fonts: skipping, no such directory\n",
            "/root/.fonts: skipping, no such directory\n",
            "/var/cache/fontconfig: cleaning cache directory\n",
            "/root/.cache/fontconfig: not cleaning non-existent cache directory\n",
            "/root/.fontconfig: not cleaning non-existent cache directory\n",
            "fc-cache: succeeded\n"
          ]
        }
      ]
    },
    {
      "cell_type": "code",
      "execution_count": null,
      "id": "f51d6094",
      "metadata": {
        "colab": {
          "base_uri": "https://localhost:8080/",
          "height": 496
        },
        "id": "f51d6094",
        "outputId": "e36a43c1-5b2e-4c27-8584-303ee3e8cda0"
      },
      "outputs": [
        {
          "output_type": "execute_result",
          "data": {
            "text/plain": [
              "       id  customer_id  course_id     type      state  \\\n",
              "0  970634     504760.0   201435.0    ORDER  CANCELLED   \n",
              "1  970650     432862.0   203178.0    ORDER  CANCELLED   \n",
              "2  970657      72297.0   204246.0  PAYMENT  COMPLETED   \n",
              "3  970656      72297.0   204246.0    ORDER  CANCELLED   \n",
              "4  970658     478028.0   201797.0  PAYMENT  COMPLETED   \n",
              "\n",
              "                    course_title category_title  format        completed_at  \\\n",
              "0      올인원 패키지 : 알고리즘 기술면접 완전 정복          프로그래밍     올인원 2021-03-28 15:00:11   \n",
              "1    초격차 패키지 : 한번에 끝내는 영상 촬영과 편집          영상/3D     올인원 2021-03-28 15:16:53   \n",
              "2           시크릿코드 : 프론트엔드 실무 완성편          프로그래밍  스쿨 온라인 2021-03-28 15:21:43   \n",
              "3           시크릿코드 : 프론트엔드 실무 완성편          프로그래밍  스쿨 온라인 2021-03-28 15:21:43   \n",
              "4  올인원 패키지 : 직장인 필수 스킬 3종 세트 MAX         업무 생산성     올인원 2021-03-28 15:21:54   \n",
              "\n",
              "   transaction_amount              coupon_title  coupon_discount_amount  \\\n",
              "0               90500                       NaN                     NaN   \n",
              "1               96000                       NaN                     NaN   \n",
              "2              171810     [10% 할인] 시크릿코드 실무 완성편                 19090.0   \n",
              "3              171810                       NaN                     NaN   \n",
              "4               97500  [웰컴쿠폰] 올인원 패키지 2만원 할인 쿠폰                 20000.0   \n",
              "\n",
              "   sale_price  tax_free_amount   pg method subcategory_title  \\\n",
              "0    110500.0         110500.0  NaN  VBANK           개발자 커리어   \n",
              "1    116000.0         116000.0  NaN   CARD             영상 편집   \n",
              "2    190900.0         190900.0  NaN   CARD               NaN   \n",
              "3    190900.0         190900.0  NaN   CARD               NaN   \n",
              "4    117500.0         117500.0  NaN   CARD           PPT/보고서   \n",
              "\n",
              "  marketing_start_at  \n",
              "0                NaT  \n",
              "1         2020-12-02  \n",
              "2         2021-03-04  \n",
              "3         2021-03-04  \n",
              "4         2019-11-14  "
            ],
            "text/html": [
              "\n",
              "  <div id=\"df-9875d611-c479-492f-97be-3aaf8b2e5b31\">\n",
              "    <div class=\"colab-df-container\">\n",
              "      <div>\n",
              "<style scoped>\n",
              "    .dataframe tbody tr th:only-of-type {\n",
              "        vertical-align: middle;\n",
              "    }\n",
              "\n",
              "    .dataframe tbody tr th {\n",
              "        vertical-align: top;\n",
              "    }\n",
              "\n",
              "    .dataframe thead th {\n",
              "        text-align: right;\n",
              "    }\n",
              "</style>\n",
              "<table border=\"1\" class=\"dataframe\">\n",
              "  <thead>\n",
              "    <tr style=\"text-align: right;\">\n",
              "      <th></th>\n",
              "      <th>id</th>\n",
              "      <th>customer_id</th>\n",
              "      <th>course_id</th>\n",
              "      <th>type</th>\n",
              "      <th>state</th>\n",
              "      <th>course_title</th>\n",
              "      <th>category_title</th>\n",
              "      <th>format</th>\n",
              "      <th>completed_at</th>\n",
              "      <th>transaction_amount</th>\n",
              "      <th>coupon_title</th>\n",
              "      <th>coupon_discount_amount</th>\n",
              "      <th>sale_price</th>\n",
              "      <th>tax_free_amount</th>\n",
              "      <th>pg</th>\n",
              "      <th>method</th>\n",
              "      <th>subcategory_title</th>\n",
              "      <th>marketing_start_at</th>\n",
              "    </tr>\n",
              "  </thead>\n",
              "  <tbody>\n",
              "    <tr>\n",
              "      <th>0</th>\n",
              "      <td>970634</td>\n",
              "      <td>504760.0</td>\n",
              "      <td>201435.0</td>\n",
              "      <td>ORDER</td>\n",
              "      <td>CANCELLED</td>\n",
              "      <td>올인원 패키지 : 알고리즘 기술면접 완전 정복</td>\n",
              "      <td>프로그래밍</td>\n",
              "      <td>올인원</td>\n",
              "      <td>2021-03-28 15:00:11</td>\n",
              "      <td>90500</td>\n",
              "      <td>NaN</td>\n",
              "      <td>NaN</td>\n",
              "      <td>110500.0</td>\n",
              "      <td>110500.0</td>\n",
              "      <td>NaN</td>\n",
              "      <td>VBANK</td>\n",
              "      <td>개발자 커리어</td>\n",
              "      <td>NaT</td>\n",
              "    </tr>\n",
              "    <tr>\n",
              "      <th>1</th>\n",
              "      <td>970650</td>\n",
              "      <td>432862.0</td>\n",
              "      <td>203178.0</td>\n",
              "      <td>ORDER</td>\n",
              "      <td>CANCELLED</td>\n",
              "      <td>초격차 패키지 : 한번에 끝내는 영상 촬영과 편집</td>\n",
              "      <td>영상/3D</td>\n",
              "      <td>올인원</td>\n",
              "      <td>2021-03-28 15:16:53</td>\n",
              "      <td>96000</td>\n",
              "      <td>NaN</td>\n",
              "      <td>NaN</td>\n",
              "      <td>116000.0</td>\n",
              "      <td>116000.0</td>\n",
              "      <td>NaN</td>\n",
              "      <td>CARD</td>\n",
              "      <td>영상 편집</td>\n",
              "      <td>2020-12-02</td>\n",
              "    </tr>\n",
              "    <tr>\n",
              "      <th>2</th>\n",
              "      <td>970657</td>\n",
              "      <td>72297.0</td>\n",
              "      <td>204246.0</td>\n",
              "      <td>PAYMENT</td>\n",
              "      <td>COMPLETED</td>\n",
              "      <td>시크릿코드 : 프론트엔드 실무 완성편</td>\n",
              "      <td>프로그래밍</td>\n",
              "      <td>스쿨 온라인</td>\n",
              "      <td>2021-03-28 15:21:43</td>\n",
              "      <td>171810</td>\n",
              "      <td>[10% 할인] 시크릿코드 실무 완성편</td>\n",
              "      <td>19090.0</td>\n",
              "      <td>190900.0</td>\n",
              "      <td>190900.0</td>\n",
              "      <td>NaN</td>\n",
              "      <td>CARD</td>\n",
              "      <td>NaN</td>\n",
              "      <td>2021-03-04</td>\n",
              "    </tr>\n",
              "    <tr>\n",
              "      <th>3</th>\n",
              "      <td>970656</td>\n",
              "      <td>72297.0</td>\n",
              "      <td>204246.0</td>\n",
              "      <td>ORDER</td>\n",
              "      <td>CANCELLED</td>\n",
              "      <td>시크릿코드 : 프론트엔드 실무 완성편</td>\n",
              "      <td>프로그래밍</td>\n",
              "      <td>스쿨 온라인</td>\n",
              "      <td>2021-03-28 15:21:43</td>\n",
              "      <td>171810</td>\n",
              "      <td>NaN</td>\n",
              "      <td>NaN</td>\n",
              "      <td>190900.0</td>\n",
              "      <td>190900.0</td>\n",
              "      <td>NaN</td>\n",
              "      <td>CARD</td>\n",
              "      <td>NaN</td>\n",
              "      <td>2021-03-04</td>\n",
              "    </tr>\n",
              "    <tr>\n",
              "      <th>4</th>\n",
              "      <td>970658</td>\n",
              "      <td>478028.0</td>\n",
              "      <td>201797.0</td>\n",
              "      <td>PAYMENT</td>\n",
              "      <td>COMPLETED</td>\n",
              "      <td>올인원 패키지 : 직장인 필수 스킬 3종 세트 MAX</td>\n",
              "      <td>업무 생산성</td>\n",
              "      <td>올인원</td>\n",
              "      <td>2021-03-28 15:21:54</td>\n",
              "      <td>97500</td>\n",
              "      <td>[웰컴쿠폰] 올인원 패키지 2만원 할인 쿠폰</td>\n",
              "      <td>20000.0</td>\n",
              "      <td>117500.0</td>\n",
              "      <td>117500.0</td>\n",
              "      <td>NaN</td>\n",
              "      <td>CARD</td>\n",
              "      <td>PPT/보고서</td>\n",
              "      <td>2019-11-14</td>\n",
              "    </tr>\n",
              "  </tbody>\n",
              "</table>\n",
              "</div>\n",
              "      <button class=\"colab-df-convert\" onclick=\"convertToInteractive('df-9875d611-c479-492f-97be-3aaf8b2e5b31')\"\n",
              "              title=\"Convert this dataframe to an interactive table.\"\n",
              "              style=\"display:none;\">\n",
              "        \n",
              "  <svg xmlns=\"http://www.w3.org/2000/svg\" height=\"24px\"viewBox=\"0 0 24 24\"\n",
              "       width=\"24px\">\n",
              "    <path d=\"M0 0h24v24H0V0z\" fill=\"none\"/>\n",
              "    <path d=\"M18.56 5.44l.94 2.06.94-2.06 2.06-.94-2.06-.94-.94-2.06-.94 2.06-2.06.94zm-11 1L8.5 8.5l.94-2.06 2.06-.94-2.06-.94L8.5 2.5l-.94 2.06-2.06.94zm10 10l.94 2.06.94-2.06 2.06-.94-2.06-.94-.94-2.06-.94 2.06-2.06.94z\"/><path d=\"M17.41 7.96l-1.37-1.37c-.4-.4-.92-.59-1.43-.59-.52 0-1.04.2-1.43.59L10.3 9.45l-7.72 7.72c-.78.78-.78 2.05 0 2.83L4 21.41c.39.39.9.59 1.41.59.51 0 1.02-.2 1.41-.59l7.78-7.78 2.81-2.81c.8-.78.8-2.07 0-2.86zM5.41 20L4 18.59l7.72-7.72 1.47 1.35L5.41 20z\"/>\n",
              "  </svg>\n",
              "      </button>\n",
              "      \n",
              "  <style>\n",
              "    .colab-df-container {\n",
              "      display:flex;\n",
              "      flex-wrap:wrap;\n",
              "      gap: 12px;\n",
              "    }\n",
              "\n",
              "    .colab-df-convert {\n",
              "      background-color: #E8F0FE;\n",
              "      border: none;\n",
              "      border-radius: 50%;\n",
              "      cursor: pointer;\n",
              "      display: none;\n",
              "      fill: #1967D2;\n",
              "      height: 32px;\n",
              "      padding: 0 0 0 0;\n",
              "      width: 32px;\n",
              "    }\n",
              "\n",
              "    .colab-df-convert:hover {\n",
              "      background-color: #E2EBFA;\n",
              "      box-shadow: 0px 1px 2px rgba(60, 64, 67, 0.3), 0px 1px 3px 1px rgba(60, 64, 67, 0.15);\n",
              "      fill: #174EA6;\n",
              "    }\n",
              "\n",
              "    [theme=dark] .colab-df-convert {\n",
              "      background-color: #3B4455;\n",
              "      fill: #D2E3FC;\n",
              "    }\n",
              "\n",
              "    [theme=dark] .colab-df-convert:hover {\n",
              "      background-color: #434B5C;\n",
              "      box-shadow: 0px 1px 3px 1px rgba(0, 0, 0, 0.15);\n",
              "      filter: drop-shadow(0px 1px 2px rgba(0, 0, 0, 0.3));\n",
              "      fill: #FFFFFF;\n",
              "    }\n",
              "  </style>\n",
              "\n",
              "      <script>\n",
              "        const buttonEl =\n",
              "          document.querySelector('#df-9875d611-c479-492f-97be-3aaf8b2e5b31 button.colab-df-convert');\n",
              "        buttonEl.style.display =\n",
              "          google.colab.kernel.accessAllowed ? 'block' : 'none';\n",
              "\n",
              "        async function convertToInteractive(key) {\n",
              "          const element = document.querySelector('#df-9875d611-c479-492f-97be-3aaf8b2e5b31');\n",
              "          const dataTable =\n",
              "            await google.colab.kernel.invokeFunction('convertToInteractive',\n",
              "                                                     [key], {});\n",
              "          if (!dataTable) return;\n",
              "\n",
              "          const docLinkHtml = 'Like what you see? Visit the ' +\n",
              "            '<a target=\"_blank\" href=https://colab.research.google.com/notebooks/data_table.ipynb>data table notebook</a>'\n",
              "            + ' to learn more about interactive tables.';\n",
              "          element.innerHTML = '';\n",
              "          dataTable['output_type'] = 'display_data';\n",
              "          await google.colab.output.renderOutput(dataTable, element);\n",
              "          const docLink = document.createElement('div');\n",
              "          docLink.innerHTML = docLinkHtml;\n",
              "          element.appendChild(docLink);\n",
              "        }\n",
              "      </script>\n",
              "    </div>\n",
              "  </div>\n",
              "  "
            ]
          },
          "metadata": {},
          "execution_count": 4
        }
      ],
      "source": [
        "df = pd.read_excel('/content/drive/MyDrive/Colab Notebooks/패스트캠퍼스 데이터분석/파이널프로젝트_RAW_210329_210926.xlsx')\n",
        "df.head()"
      ]
    },
    {
      "cell_type": "markdown",
      "id": "f3a595ee",
      "metadata": {
        "id": "f3a595ee"
      },
      "source": [
        "## 데이터 타입과 결측값 확인하기"
      ]
    },
    {
      "cell_type": "code",
      "execution_count": null,
      "id": "9fef4f2e",
      "metadata": {
        "colab": {
          "base_uri": "https://localhost:8080/"
        },
        "id": "9fef4f2e",
        "outputId": "2abd3952-2449-4b11-ee1a-dc44377dc8e0"
      },
      "outputs": [
        {
          "output_type": "stream",
          "name": "stdout",
          "text": [
            "<class 'pandas.core.frame.DataFrame'>\n",
            "RangeIndex: 105419 entries, 0 to 105418\n",
            "Data columns (total 18 columns):\n",
            " #   Column                  Non-Null Count   Dtype         \n",
            "---  ------                  --------------   -----         \n",
            " 0   id                      105419 non-null  int64         \n",
            " 1   customer_id             105416 non-null  float64       \n",
            " 2   course_id               100212 non-null  float64       \n",
            " 3   type                    105419 non-null  object        \n",
            " 4   state                   105419 non-null  object        \n",
            " 5   course_title            105403 non-null  object        \n",
            " 6   category_title          105395 non-null  object        \n",
            " 7   format                  105403 non-null  object        \n",
            " 8   completed_at            105419 non-null  datetime64[ns]\n",
            " 9   transaction_amount      105419 non-null  int64         \n",
            " 10  coupon_title            31817 non-null   object        \n",
            " 11  coupon_discount_amount  31817 non-null   float64       \n",
            " 12  sale_price              104291 non-null  float64       \n",
            " 13  tax_free_amount         104291 non-null  float64       \n",
            " 14  pg                      90344 non-null   object        \n",
            " 15  method                  92323 non-null   object        \n",
            " 16  subcategory_title       85590 non-null   object        \n",
            " 17  marketing_start_at      87440 non-null   datetime64[ns]\n",
            "dtypes: datetime64[ns](2), float64(5), int64(2), object(9)\n",
            "memory usage: 14.5+ MB\n"
          ]
        }
      ],
      "source": [
        "df.info()"
      ]
    },
    {
      "cell_type": "code",
      "source": [
        "df.isna().sum()"
      ],
      "metadata": {
        "colab": {
          "base_uri": "https://localhost:8080/"
        },
        "id": "J0BJmsfRgUa1",
        "outputId": "299fa293-721c-4f02-a3a4-748367577ac2"
      },
      "id": "J0BJmsfRgUa1",
      "execution_count": null,
      "outputs": [
        {
          "output_type": "execute_result",
          "data": {
            "text/plain": [
              "id                            0\n",
              "customer_id                   3\n",
              "course_id                  5207\n",
              "type                          0\n",
              "state                         0\n",
              "course_title                 16\n",
              "category_title               24\n",
              "format                       16\n",
              "completed_at                  0\n",
              "transaction_amount            0\n",
              "coupon_title              73602\n",
              "coupon_discount_amount    73602\n",
              "sale_price                 1128\n",
              "tax_free_amount            1128\n",
              "pg                        15075\n",
              "method                    13096\n",
              "subcategory_title         19829\n",
              "marketing_start_at        17979\n",
              "dtype: int64"
            ]
          },
          "metadata": {},
          "execution_count": 6
        }
      ]
    },
    {
      "cell_type": "markdown",
      "source": [
        "##데이터 전처리"
      ],
      "metadata": {
        "id": "UbXsZ-fS5x_h"
      },
      "id": "UbXsZ-fS5x_h"
    },
    {
      "cell_type": "code",
      "source": [
        "# Completed_at 타입 datetime 으로 바꾸기\n",
        "df['completed_at'] = pd.to_datetime(df['completed_at'])\n",
        "df.dtypes"
      ],
      "metadata": {
        "colab": {
          "base_uri": "https://localhost:8080/"
        },
        "id": "P3645QYA5pvw",
        "outputId": "adedfd89-fafc-4ada-fa86-c5ba4ff582a7"
      },
      "id": "P3645QYA5pvw",
      "execution_count": null,
      "outputs": [
        {
          "output_type": "execute_result",
          "data": {
            "text/plain": [
              "id                                 int64\n",
              "customer_id                      float64\n",
              "course_id                        float64\n",
              "type                              object\n",
              "state                             object\n",
              "course_title                      object\n",
              "category_title                    object\n",
              "format                            object\n",
              "completed_at              datetime64[ns]\n",
              "transaction_amount                 int64\n",
              "coupon_title                      object\n",
              "coupon_discount_amount           float64\n",
              "sale_price                       float64\n",
              "tax_free_amount                  float64\n",
              "pg                                object\n",
              "method                            object\n",
              "subcategory_title                 object\n",
              "marketing_start_at        datetime64[ns]\n",
              "dtype: object"
            ]
          },
          "metadata": {},
          "execution_count": 7
        }
      ]
    },
    {
      "cell_type": "code",
      "source": [
        "# 날짜 월,일,요일,시간 세분화\n",
        "num_to_day = {\n",
        "    0 : '월요일',\n",
        "    1 : '화요일',\n",
        "    2 : '수요일',\n",
        "    3 : '목요일',\n",
        "    4 : '금요일',\n",
        "    5 : '토요일',\n",
        "    6 : '일요일',\n",
        "}\n",
        "\n",
        "df['pay_ym']=df['completed_at'].dt.strftime(\"%Y-%m\")   ## 년월 컬럼\n",
        "df['Day'] = [num_to_day[i] for i in df['completed_at'].dt.dayofweek] ## 요일컬럼\n",
        "df['Time']=  df['completed_at'].dt.hour  ##시간컬럼\n",
        "df['Date']=  df['completed_at'].dt.day   ##일자컬럼"
      ],
      "metadata": {
        "id": "cm5DHyF-43sO"
      },
      "execution_count": null,
      "outputs": [],
      "id": "cm5DHyF-43sO"
    },
    {
      "cell_type": "code",
      "source": [
        "# 개인 사용자들의 데이터를 확인하기 위해 format에서 기업교육 계약, 정부 사업인 B2B, B2G 제거 후 시작\n",
        "df = df[df.format.isin(['B2B', 'B2B 온라인', 'B2G'])==False] \n",
        "\n",
        "df2=df[(df['type']=='PAYMENT') & (df['state']=='COMPLETED')]  # 결제 완료 데이터 (3, 9월 제거)\n",
        "idx = df2[df2['pay_ym'] == \"2021-03\"].index\n",
        "df2 =df2.drop(idx)\n",
        "idx = df2[df2['pay_ym'] == \"2021-09\"].index\n",
        "df2 =df2.drop(idx)                                           \n",
        "\n",
        "df3=df[(df['type']=='PAYMENT') | (df['type']=='REFUND')]      # 결제 완료 및 환불 데이터\n",
        "df3 = df3[(df['state']=='COMPLETED')]\n",
        "\n",
        "Refdf=df[(df['type']=='REFUND') & (df['state']=='COMPLETED')] # 환불만 있는 데이터"
      ],
      "metadata": {
        "colab": {
          "base_uri": "https://localhost:8080/"
        },
        "id": "6wrRTti09Qxq",
        "outputId": "aaa1dac9-c104-4c37-b5e6-0620332b954a"
      },
      "id": "6wrRTti09Qxq",
      "execution_count": null,
      "outputs": [
        {
          "output_type": "stream",
          "name": "stderr",
          "text": [
            "/usr/local/lib/python3.7/dist-packages/ipykernel_launcher.py:11: UserWarning: Boolean Series key will be reindexed to match DataFrame index.\n",
            "  # This is added back by InteractiveShellApp.init_path()\n"
          ]
        }
      ]
    },
    {
      "cell_type": "markdown",
      "source": [
        "##카테고리 데이터 분석"
      ],
      "metadata": {
        "id": "iDEZyFFlivwT"
      },
      "id": "iDEZyFFlivwT"
    },
    {
      "cell_type": "code",
      "source": [
        "# 카테고리  별 강의 구매 횟수\n",
        "df[\"category_title\"].value_counts()"
      ],
      "metadata": {
        "colab": {
          "base_uri": "https://localhost:8080/"
        },
        "id": "w3mzaKAvti5F",
        "outputId": "0c56f734-fcb8-4850-ed00-591082e08042"
      },
      "id": "w3mzaKAvti5F",
      "execution_count": null,
      "outputs": [
        {
          "output_type": "execute_result",
          "data": {
            "text/plain": [
              "프로그래밍       33067\n",
              "데이터사이언스     14029\n",
              "업무 생산성      13317\n",
              "디자인         12009\n",
              "영상/3D       10260\n",
              "마케팅          9845\n",
              "부동산/금융       5518\n",
              "투자/재테크       2501\n",
              "크리에이티브       2231\n",
              "지식콘텐츠          56\n",
              "비즈니스           40\n",
              "파이낸스           24\n",
              "데이터 사이언스        9\n",
              "관리              2\n",
              "일러스트            1\n",
              "Name: category_title, dtype: int64"
            ]
          },
          "metadata": {},
          "execution_count": 10
        }
      ]
    },
    {
      "cell_type": "code",
      "source": [
        "plt.figure(figsize=(10,10))\n",
        "temp_series = df2['category_title'].value_counts().head(10)\n",
        "labels = np.array(temp_series.index)\n",
        "sizes = np.array((temp_series / temp_series.sum())* 100)\n",
        "plt.pie(sizes, labels=labels, autopct='%1.1f%%' , startangle= 200)\n",
        "plt.title('카테고리별 구매량 분포', fontsize= 15)\n",
        "plt.show()"
      ],
      "metadata": {
        "colab": {
          "base_uri": "https://localhost:8080/",
          "height": 592
        },
        "id": "s_R4WzBj1DAE",
        "outputId": "51fc22f7-4a53-4f22-ae71-4d21ff20d0d8"
      },
      "id": "s_R4WzBj1DAE",
      "execution_count": null,
      "outputs": [
        {
          "output_type": "display_data",
          "data": {
            "text/plain": [
              "<Figure size 720x720 with 1 Axes>"
            ],
            "image/png": "[encoded data removed]"
          },
          "metadata": {}
        }
      ]
    },
    {
      "cell_type": "markdown",
      "source": [
        "프로그래밍 관련 강의가 가장 많이 팔렸다."
      ],
      "metadata": {
        "id": "qgbuCckXEGYq"
      },
      "id": "qgbuCckXEGYq"
    },
    {
      "cell_type": "code",
      "source": [
        "# 서브카테고리 별 강의 구매 횟수 시각화\n",
        "fig = plt.figure(figsize=(40,8))\n",
        "sns.countplot(data = df, x = \"subcategory_title\", \n",
        "              order = df['subcategory_title'].value_counts().index)"
      ],
      "metadata": {
        "colab": {
          "base_uri": "https://localhost:8080/",
          "height": 308
        },
        "id": "yp9S9fy19Cth",
        "outputId": "456ae0af-1f6e-44b0-d198-bfa348a8364b"
      },
      "execution_count": null,
      "outputs": [
        {
          "output_type": "execute_result",
          "data": {
            "text/plain": [
              "<matplotlib.axes._subplots.AxesSubplot at 0x7fbd55a63210>"
            ]
          },
          "metadata": {},
          "execution_count": 12
        },
        {
          "output_type": "display_data",
          "data": {
            "text/plain": [
              "<Figure size 2880x576 with 1 Axes>"
            ],
            "image/png": "[encoded data removed]"
          },
          "metadata": {
            "needs_background": "light"
          }
        }
      ],
      "id": "yp9S9fy19Cth"
    },
    {
      "cell_type": "markdown",
      "source": [
        "하지만 subcategory로 분류시 영상 편집 강의가 가장 많았다."
      ],
      "metadata": {
        "id": "USr84PAVEM8f"
      },
      "id": "USr84PAVEM8f"
    },
    {
      "cell_type": "code",
      "source": [
        "sub = df.groupby(['category_title', 'subcategory_title'])[['id']].count()\n",
        "sub"
      ],
      "metadata": {
        "colab": {
          "base_uri": "https://localhost:8080/",
          "height": 1000
        },
        "id": "iMH0f6fjc3WU",
        "outputId": "7ed41c06-c648-4abd-c293-c146ea8b6487"
      },
      "execution_count": null,
      "outputs": [
        {
          "output_type": "execute_result",
          "data": {
            "text/plain": [
              "                                    id\n",
              "category_title subcategory_title      \n",
              "데이터사이언스        데이터분석              4302\n",
              "               데이터엔지니어링            275\n",
              "               딥러닝/인공지능           4590\n",
              "               머신러닝               1958\n",
              "디자인            UX/UI              2775\n",
              "               디자인툴               4053\n",
              "               시각디자인              1927\n",
              "               일러스트               3238\n",
              "마케팅            SNS마케팅             1190\n",
              "               글쓰기/카피라이팅          3524\n",
              "               데이터마케팅             2306\n",
              "               디지털마케팅             1754\n",
              "부동산/금융         금융/투자 실무           2075\n",
              "               부동산 개발             1179\n",
              "               회계/재무/세무           1948\n",
              "업무 생산성         PPT/보고서            4150\n",
              "               리더십                 511\n",
              "               업무자동화               996\n",
              "               엑셀/VBA             3591\n",
              "               커뮤니케이션              204\n",
              "영상/3D          VFX                 523\n",
              "               게임 그래픽              385\n",
              "               모션그래픽              2033\n",
              "               영상 편집              7312\n",
              "투자/재테크         부동산 투자              714\n",
              "               주식 투자              1787\n",
              "프로그래밍          DevOps             2136\n",
              "               개발자 커리어            5918\n",
              "               게임                 1707\n",
              "               모바일앱               3724\n",
              "               백엔드 개발             6144\n",
              "               코딩 입문               782\n",
              "               프론트엔드 개발           5878"
            ],
            "text/html": [
              "\n",
              "  <div id=\"df-9db868ab-386d-41af-b219-d59d48c9bed2\">\n",
              "    <div class=\"colab-df-container\">\n",
              "      <div>\n",
              "<style scoped>\n",
              "    .dataframe tbody tr th:only-of-type {\n",
              "        vertical-align: middle;\n",
              "    }\n",
              "\n",
              "    .dataframe tbody tr th {\n",
              "        vertical-align: top;\n",
              "    }\n",
              "\n",
              "    .dataframe thead th {\n",
              "        text-align: right;\n",
              "    }\n",
              "</style>\n",
              "<table border=\"1\" class=\"dataframe\">\n",
              "  <thead>\n",
              "    <tr style=\"text-align: right;\">\n",
              "      <th></th>\n",
              "      <th></th>\n",
              "      <th>id</th>\n",
              "    </tr>\n",
              "    <tr>\n",
              "      <th>category_title</th>\n",
              "      <th>subcategory_title</th>\n",
              "      <th></th>\n",
              "    </tr>\n",
              "  </thead>\n",
              "  <tbody>\n",
              "    <tr>\n",
              "      <th rowspan=\"4\" valign=\"top\">데이터사이언스</th>\n",
              "      <th>데이터분석</th>\n",
              "      <td>4302</td>\n",
              "    </tr>\n",
              "    <tr>\n",
              "      <th>데이터엔지니어링</th>\n",
              "      <td>275</td>\n",
              "    </tr>\n",
              "    <tr>\n",
              "      <th>딥러닝/인공지능</th>\n",
              "      <td>4590</td>\n",
              "    </tr>\n",
              "    <tr>\n",
              "      <th>머신러닝</th>\n",
              "      <td>1958</td>\n",
              "    </tr>\n",
              "    <tr>\n",
              "      <th rowspan=\"4\" valign=\"top\">디자인</th>\n",
              "      <th>UX/UI</th>\n",
              "      <td>2775</td>\n",
              "    </tr>\n",
              "    <tr>\n",
              "      <th>디자인툴</th>\n",
              "      <td>4053</td>\n",
              "    </tr>\n",
              "    <tr>\n",
              "      <th>시각디자인</th>\n",
              "      <td>1927</td>\n",
              "    </tr>\n",
              "    <tr>\n",
              "      <th>일러스트</th>\n",
              "      <td>3238</td>\n",
              "    </tr>\n",
              "    <tr>\n",
              "      <th rowspan=\"4\" valign=\"top\">마케팅</th>\n",
              "      <th>SNS마케팅</th>\n",
              "      <td>1190</td>\n",
              "    </tr>\n",
              "    <tr>\n",
              "      <th>글쓰기/카피라이팅</th>\n",
              "      <td>3524</td>\n",
              "    </tr>\n",
              "    <tr>\n",
              "      <th>데이터마케팅</th>\n",
              "      <td>2306</td>\n",
              "    </tr>\n",
              "    <tr>\n",
              "      <th>디지털마케팅</th>\n",
              "      <td>1754</td>\n",
              "    </tr>\n",
              "    <tr>\n",
              "      <th rowspan=\"3\" valign=\"top\">부동산/금융</th>\n",
              "      <th>금융/투자 실무</th>\n",
              "      <td>2075</td>\n",
              "    </tr>\n",
              "    <tr>\n",
              "      <th>부동산 개발</th>\n",
              "      <td>1179</td>\n",
              "    </tr>\n",
              "    <tr>\n",
              "      <th>회계/재무/세무</th>\n",
              "      <td>1948</td>\n",
              "    </tr>\n",
              "    <tr>\n",
              "      <th rowspan=\"5\" valign=\"top\">업무 생산성</th>\n",
              "      <th>PPT/보고서</th>\n",
              "      <td>4150</td>\n",
              "    </tr>\n",
              "    <tr>\n",
              "      <th>리더십</th>\n",
              "      <td>511</td>\n",
              "    </tr>\n",
              "    <tr>\n",
              "      <th>업무자동화</th>\n",
              "      <td>996</td>\n",
              "    </tr>\n",
              "    <tr>\n",
              "      <th>엑셀/VBA</th>\n",
              "      <td>3591</td>\n",
              "    </tr>\n",
              "    <tr>\n",
              "      <th>커뮤니케이션</th>\n",
              "      <td>204</td>\n",
              "    </tr>\n",
              "    <tr>\n",
              "      <th rowspan=\"4\" valign=\"top\">영상/3D</th>\n",
              "      <th>VFX</th>\n",
              "      <td>523</td>\n",
              "    </tr>\n",
              "    <tr>\n",
              "      <th>게임 그래픽</th>\n",
              "      <td>385</td>\n",
              "    </tr>\n",
              "    <tr>\n",
              "      <th>모션그래픽</th>\n",
              "      <td>2033</td>\n",
              "    </tr>\n",
              "    <tr>\n",
              "      <th>영상 편집</th>\n",
              "      <td>7312</td>\n",
              "    </tr>\n",
              "    <tr>\n",
              "      <th rowspan=\"2\" valign=\"top\">투자/재테크</th>\n",
              "      <th>부동산 투자</th>\n",
              "      <td>714</td>\n",
              "    </tr>\n",
              "    <tr>\n",
              "      <th>주식 투자</th>\n",
              "      <td>1787</td>\n",
              "    </tr>\n",
              "    <tr>\n",
              "      <th rowspan=\"7\" valign=\"top\">프로그래밍</th>\n",
              "      <th>DevOps</th>\n",
              "      <td>2136</td>\n",
              "    </tr>\n",
              "    <tr>\n",
              "      <th>개발자 커리어</th>\n",
              "      <td>5918</td>\n",
              "    </tr>\n",
              "    <tr>\n",
              "      <th>게임</th>\n",
              "      <td>1707</td>\n",
              "    </tr>\n",
              "    <tr>\n",
              "      <th>모바일앱</th>\n",
              "      <td>3724</td>\n",
              "    </tr>\n",
              "    <tr>\n",
              "      <th>백엔드 개발</th>\n",
              "      <td>6144</td>\n",
              "    </tr>\n",
              "    <tr>\n",
              "      <th>코딩 입문</th>\n",
              "      <td>782</td>\n",
              "    </tr>\n",
              "    <tr>\n",
              "      <th>프론트엔드 개발</th>\n",
              "      <td>5878</td>\n",
              "    </tr>\n",
              "  </tbody>\n",
              "</table>\n",
              "</div>\n",
              "      <button class=\"colab-df-convert\" onclick=\"convertToInteractive('df-9db868ab-386d-41af-b219-d59d48c9bed2')\"\n",
              "              title=\"Convert this dataframe to an interactive table.\"\n",
              "              style=\"display:none;\">\n",
              "        \n",
              "  <svg xmlns=\"http://www.w3.org/2000/svg\" height=\"24px\"viewBox=\"0 0 24 24\"\n",
              "       width=\"24px\">\n",
              "    <path d=\"M0 0h24v24H0V0z\" fill=\"none\"/>\n",
              "    <path d=\"M18.56 5.44l.94 2.06.94-2.06 2.06-.94-2.06-.94-.94-2.06-.94 2.06-2.06.94zm-11 1L8.5 8.5l.94-2.06 2.06-.94-2.06-.94L8.5 2.5l-.94 2.06-2.06.94zm10 10l.94 2.06.94-2.06 2.06-.94-2.06-.94-.94-2.06-.94 2.06-2.06.94z\"/><path d=\"M17.41 7.96l-1.37-1.37c-.4-.4-.92-.59-1.43-.59-.52 0-1.04.2-1.43.59L10.3 9.45l-7.72 7.72c-.78.78-.78 2.05 0 2.83L4 21.41c.39.39.9.59 1.41.59.51 0 1.02-.2 1.41-.59l7.78-7.78 2.81-2.81c.8-.78.8-2.07 0-2.86zM5.41 20L4 18.59l7.72-7.72 1.47 1.35L5.41 20z\"/>\n",
              "  </svg>\n",
              "      </button>\n",
              "      \n",
              "  <style>\n",
              "    .colab-df-container {\n",
              "      display:flex;\n",
              "      flex-wrap:wrap;\n",
              "      gap: 12px;\n",
              "    }\n",
              "\n",
              "    .colab-df-convert {\n",
              "      background-color: #E8F0FE;\n",
              "      border: none;\n",
              "      border-radius: 50%;\n",
              "      cursor: pointer;\n",
              "      display: none;\n",
              "      fill: #1967D2;\n",
              "      height: 32px;\n",
              "      padding: 0 0 0 0;\n",
              "      width: 32px;\n",
              "    }\n",
              "\n",
              "    .colab-df-convert:hover {\n",
              "      background-color: #E2EBFA;\n",
              "      box-shadow: 0px 1px 2px rgba(60, 64, 67, 0.3), 0px 1px 3px 1px rgba(60, 64, 67, 0.15);\n",
              "      fill: #174EA6;\n",
              "    }\n",
              "\n",
              "    [theme=dark] .colab-df-convert {\n",
              "      background-color: #3B4455;\n",
              "      fill: #D2E3FC;\n",
              "    }\n",
              "\n",
              "    [theme=dark] .colab-df-convert:hover {\n",
              "      background-color: #434B5C;\n",
              "      box-shadow: 0px 1px 3px 1px rgba(0, 0, 0, 0.15);\n",
              "      filter: drop-shadow(0px 1px 2px rgba(0, 0, 0, 0.3));\n",
              "      fill: #FFFFFF;\n",
              "    }\n",
              "  </style>\n",
              "\n",
              "      <script>\n",
              "        const buttonEl =\n",
              "          document.querySelector('#df-9db868ab-386d-41af-b219-d59d48c9bed2 button.colab-df-convert');\n",
              "        buttonEl.style.display =\n",
              "          google.colab.kernel.accessAllowed ? 'block' : 'none';\n",
              "\n",
              "        async function convertToInteractive(key) {\n",
              "          const element = document.querySelector('#df-9db868ab-386d-41af-b219-d59d48c9bed2');\n",
              "          const dataTable =\n",
              "            await google.colab.kernel.invokeFunction('convertToInteractive',\n",
              "                                                     [key], {});\n",
              "          if (!dataTable) return;\n",
              "\n",
              "          const docLinkHtml = 'Like what you see? Visit the ' +\n",
              "            '<a target=\"_blank\" href=https://colab.research.google.com/notebooks/data_table.ipynb>data table notebook</a>'\n",
              "            + ' to learn more about interactive tables.';\n",
              "          element.innerHTML = '';\n",
              "          dataTable['output_type'] = 'display_data';\n",
              "          await google.colab.output.renderOutput(dataTable, element);\n",
              "          const docLink = document.createElement('div');\n",
              "          docLink.innerHTML = docLinkHtml;\n",
              "          element.appendChild(docLink);\n",
              "        }\n",
              "      </script>\n",
              "    </div>\n",
              "  </div>\n",
              "  "
            ]
          },
          "metadata": {},
          "execution_count": 13
        }
      ],
      "id": "iMH0f6fjc3WU"
    },
    {
      "cell_type": "code",
      "source": [
        "# 카테고리 별 총 매출\n",
        "how = {                                        \n",
        "    'transaction_amount' : np.sum\n",
        "}\n",
        "catr = df.groupby('category_title').agg(how)\n",
        "catr = catr.sort_values('transaction_amount', ascending=False)"
      ],
      "metadata": {
        "id": "awv4SkGnYsL4"
      },
      "execution_count": null,
      "outputs": [],
      "id": "awv4SkGnYsL4"
    },
    {
      "cell_type": "code",
      "source": [
        "# 카테고리 별 총 매출 시각화\n",
        "catr.plot.bar(figsize = (15,6))"
      ],
      "metadata": {
        "colab": {
          "base_uri": "https://localhost:8080/",
          "height": 470
        },
        "id": "T6b3S5Vbh6xq",
        "outputId": "e06ef096-f008-4ff0-9ab6-ba15772f20b9"
      },
      "execution_count": null,
      "outputs": [
        {
          "output_type": "execute_result",
          "data": {
            "text/plain": [
              "<matplotlib.axes._subplots.AxesSubplot at 0x7fbd443dc790>"
            ]
          },
          "metadata": {},
          "execution_count": 15
        },
        {
          "output_type": "display_data",
          "data": {
            "text/plain": [
              "<Figure size 1080x432 with 1 Axes>"
            ],
            "image/png": "[encoded data removed]"
          },
          "metadata": {
            "needs_background": "light"
          }
        }
      ],
      "id": "T6b3S5Vbh6xq"
    },
    {
      "cell_type": "markdown",
      "source": [
        "매출이 높은 카테고리의 강의에 광고를 집중하면 매출 상승 효과를 기대할 수 있을 것이다."
      ],
      "metadata": {
        "id": "IMpksmDhgIDn"
      },
      "id": "IMpksmDhgIDn"
    },
    {
      "cell_type": "markdown",
      "source": [
        "##결제 시기에 따른 데이터 분석"
      ],
      "metadata": {
        "id": "5OFRN-FVnHh9"
      },
      "id": "5OFRN-FVnHh9"
    },
    {
      "cell_type": "code",
      "source": [
        "from matplotlib.axis import Axis\n",
        "how= {\n",
        "    'transaction_amount':np.sum\n",
        "}\n",
        "stat1=df2.groupby('pay_ym').agg(how)\n",
        "stat2=df2.groupby('Date').agg(how)\n",
        "stat3=df2.groupby('Day').agg(how)\n",
        "stat4=df2.groupby('Time').agg(how)\n",
        "\n",
        "\n",
        "stat1.plot.bar(subplots=True, figsize = (8,4))\n",
        "stat2.plot.bar(subplots=True, figsize = (8,4))\n",
        "stat3.plot.bar(subplots=True, figsize = (8,4))\n",
        "stat4.plot.bar(subplots=True, figsize = (8.15,4))"
      ],
      "metadata": {
        "colab": {
          "base_uri": "https://localhost:8080/",
          "height": 1000
        },
        "id": "TyvX3vfr6fP3",
        "outputId": "f442cba7-c441-49c2-d840-93b3c888dfb0"
      },
      "id": "TyvX3vfr6fP3",
      "execution_count": null,
      "outputs": [
        {
          "output_type": "execute_result",
          "data": {
            "text/plain": [
              "array([<matplotlib.axes._subplots.AxesSubplot object at 0x7fbd3fcb66d0>],\n",
              "      dtype=object)"
            ]
          },
          "metadata": {},
          "execution_count": 16
        },
        {
          "output_type": "display_data",
          "data": {
            "text/plain": [
              "<Figure size 576x288 with 1 Axes>"
            ],
            "image/png": "[encoded data removed]"
          },
          "metadata": {
            "needs_background": "light"
          }
        },
        {
          "output_type": "display_data",
          "data": {
            "text/plain": [
              "<Figure size 576x288 with 1 Axes>"
            ],
            "image/png": "[encoded data removed]"
          },
          "metadata": {
            "needs_background": "light"
          }
        },
        {
          "output_type": "display_data",
          "data": {
            "text/plain": [
              "<Figure size 576x288 with 1 Axes>"
            ],
            "image/png": "[encoded data removed]"
          },
          "metadata": {
            "needs_background": "light"
          }
        },
        {
          "output_type": "display_data",
          "data": {
            "text/plain": [
              "<Figure size 586.8x288 with 1 Axes>"
            ],
            "image/png": "[encoded data removed]"
          },
          "metadata": {
            "needs_background": "light"
          }
        }
      ]
    },
    {
      "cell_type": "code",
      "source": [
        "def weekdays(x) :           \n",
        "    if x.weekday() == 0: \n",
        "        return \"월요일\"\n",
        "    elif x.weekday() == 1: \n",
        "        return \"화요일\"\n",
        "    elif x.weekday() == 2: \n",
        "        return \"수요일\"\n",
        "    elif x.weekday() == 3: \n",
        "        return \"목요일\"\n",
        "    elif x.weekday() == 4: \n",
        "        return \"금요일\"\n",
        "    elif x.weekday() == 5: \n",
        "        return \"토요일\"\n",
        "    elif x.weekday() == 6: \n",
        "        return \"일요일\"        \n",
        "\n",
        "df['completed_weekday'] = df['completed_at'].map(weekdays)\n",
        "df.head()"
      ],
      "metadata": {
        "colab": {
          "base_uri": "https://localhost:8080/",
          "height": 525
        },
        "id": "V5AtHXpBory_",
        "outputId": "53e50969-d16a-47b7-950e-7bb4abc38196"
      },
      "id": "V5AtHXpBory_",
      "execution_count": null,
      "outputs": [
        {
          "output_type": "execute_result",
          "data": {
            "text/plain": [
              "       id  customer_id  course_id     type      state  \\\n",
              "0  970634     504760.0   201435.0    ORDER  CANCELLED   \n",
              "1  970650     432862.0   203178.0    ORDER  CANCELLED   \n",
              "2  970657      72297.0   204246.0  PAYMENT  COMPLETED   \n",
              "3  970656      72297.0   204246.0    ORDER  CANCELLED   \n",
              "4  970658     478028.0   201797.0  PAYMENT  COMPLETED   \n",
              "\n",
              "                    course_title category_title  format        completed_at  \\\n",
              "0      올인원 패키지 : 알고리즘 기술면접 완전 정복          프로그래밍     올인원 2021-03-28 15:00:11   \n",
              "1    초격차 패키지 : 한번에 끝내는 영상 촬영과 편집          영상/3D     올인원 2021-03-28 15:16:53   \n",
              "2           시크릿코드 : 프론트엔드 실무 완성편          프로그래밍  스쿨 온라인 2021-03-28 15:21:43   \n",
              "3           시크릿코드 : 프론트엔드 실무 완성편          프로그래밍  스쿨 온라인 2021-03-28 15:21:43   \n",
              "4  올인원 패키지 : 직장인 필수 스킬 3종 세트 MAX         업무 생산성     올인원 2021-03-28 15:21:54   \n",
              "\n",
              "   transaction_amount  ... tax_free_amount   pg  method  subcategory_title  \\\n",
              "0               90500  ...        110500.0  NaN   VBANK            개발자 커리어   \n",
              "1               96000  ...        116000.0  NaN    CARD              영상 편집   \n",
              "2              171810  ...        190900.0  NaN    CARD                NaN   \n",
              "3              171810  ...        190900.0  NaN    CARD                NaN   \n",
              "4               97500  ...        117500.0  NaN    CARD            PPT/보고서   \n",
              "\n",
              "  marketing_start_at   pay_ym  Day Time Date completed_weekday  \n",
              "0                NaT  2021-03  일요일   15   28               일요일  \n",
              "1         2020-12-02  2021-03  일요일   15   28               일요일  \n",
              "2         2021-03-04  2021-03  일요일   15   28               일요일  \n",
              "3         2021-03-04  2021-03  일요일   15   28               일요일  \n",
              "4         2019-11-14  2021-03  일요일   15   28               일요일  \n",
              "\n",
              "[5 rows x 23 columns]"
            ],
            "text/html": [
              "\n",
              "  <div id=\"df-5330eeec-8d5b-4fff-ac90-039eca3c93a2\">\n",
              "    <div class=\"colab-df-container\">\n",
              "      <div>\n",
              "<style scoped>\n",
              "    .dataframe tbody tr th:only-of-type {\n",
              "        vertical-align: middle;\n",
              "    }\n",
              "\n",
              "    .dataframe tbody tr th {\n",
              "        vertical-align: top;\n",
              "    }\n",
              "\n",
              "    .dataframe thead th {\n",
              "        text-align: right;\n",
              "    }\n",
              "</style>\n",
              "<table border=\"1\" class=\"dataframe\">\n",
              "  <thead>\n",
              "    <tr style=\"text-align: right;\">\n",
              "      <th></th>\n",
              "      <th>id</th>\n",
              "      <th>customer_id</th>\n",
              "      <th>course_id</th>\n",
              "      <th>type</th>\n",
              "      <th>state</th>\n",
              "      <th>course_title</th>\n",
              "      <th>category_title</th>\n",
              "      <th>format</th>\n",
              "      <th>completed_at</th>\n",
              "      <th>transaction_amount</th>\n",
              "      <th>...</th>\n",
              "      <th>tax_free_amount</th>\n",
              "      <th>pg</th>\n",
              "      <th>method</th>\n",
              "      <th>subcategory_title</th>\n",
              "      <th>marketing_start_at</th>\n",
              "      <th>pay_ym</th>\n",
              "      <th>Day</th>\n",
              "      <th>Time</th>\n",
              "      <th>Date</th>\n",
              "      <th>completed_weekday</th>\n",
              "    </tr>\n",
              "  </thead>\n",
              "  <tbody>\n",
              "    <tr>\n",
              "      <th>0</th>\n",
              "      <td>970634</td>\n",
              "      <td>504760.0</td>\n",
              "      <td>201435.0</td>\n",
              "      <td>ORDER</td>\n",
              "      <td>CANCELLED</td>\n",
              "      <td>올인원 패키지 : 알고리즘 기술면접 완전 정복</td>\n",
              "      <td>프로그래밍</td>\n",
              "      <td>올인원</td>\n",
              "      <td>2021-03-28 15:00:11</td>\n",
              "      <td>90500</td>\n",
              "      <td>...</td>\n",
              "      <td>110500.0</td>\n",
              "      <td>NaN</td>\n",
              "      <td>VBANK</td>\n",
              "      <td>개발자 커리어</td>\n",
              "      <td>NaT</td>\n",
              "      <td>2021-03</td>\n",
              "      <td>일요일</td>\n",
              "      <td>15</td>\n",
              "      <td>28</td>\n",
              "      <td>일요일</td>\n",
              "    </tr>\n",
              "    <tr>\n",
              "      <th>1</th>\n",
              "      <td>970650</td>\n",
              "      <td>432862.0</td>\n",
              "      <td>203178.0</td>\n",
              "      <td>ORDER</td>\n",
              "      <td>CANCELLED</td>\n",
              "      <td>초격차 패키지 : 한번에 끝내는 영상 촬영과 편집</td>\n",
              "      <td>영상/3D</td>\n",
              "      <td>올인원</td>\n",
              "      <td>2021-03-28 15:16:53</td>\n",
              "      <td>96000</td>\n",
              "      <td>...</td>\n",
              "      <td>116000.0</td>\n",
              "      <td>NaN</td>\n",
              "      <td>CARD</td>\n",
              "      <td>영상 편집</td>\n",
              "      <td>2020-12-02</td>\n",
              "      <td>2021-03</td>\n",
              "      <td>일요일</td>\n",
              "      <td>15</td>\n",
              "      <td>28</td>\n",
              "      <td>일요일</td>\n",
              "    </tr>\n",
              "    <tr>\n",
              "      <th>2</th>\n",
              "      <td>970657</td>\n",
              "      <td>72297.0</td>\n",
              "      <td>204246.0</td>\n",
              "      <td>PAYMENT</td>\n",
              "      <td>COMPLETED</td>\n",
              "      <td>시크릿코드 : 프론트엔드 실무 완성편</td>\n",
              "      <td>프로그래밍</td>\n",
              "      <td>스쿨 온라인</td>\n",
              "      <td>2021-03-28 15:21:43</td>\n",
              "      <td>171810</td>\n",
              "      <td>...</td>\n",
              "      <td>190900.0</td>\n",
              "      <td>NaN</td>\n",
              "      <td>CARD</td>\n",
              "      <td>NaN</td>\n",
              "      <td>2021-03-04</td>\n",
              "      <td>2021-03</td>\n",
              "      <td>일요일</td>\n",
              "      <td>15</td>\n",
              "      <td>28</td>\n",
              "      <td>일요일</td>\n",
              "    </tr>\n",
              "    <tr>\n",
              "      <th>3</th>\n",
              "      <td>970656</td>\n",
              "      <td>72297.0</td>\n",
              "      <td>204246.0</td>\n",
              "      <td>ORDER</td>\n",
              "      <td>CANCELLED</td>\n",
              "      <td>시크릿코드 : 프론트엔드 실무 완성편</td>\n",
              "      <td>프로그래밍</td>\n",
              "      <td>스쿨 온라인</td>\n",
              "      <td>2021-03-28 15:21:43</td>\n",
              "      <td>171810</td>\n",
              "      <td>...</td>\n",
              "      <td>190900.0</td>\n",
              "      <td>NaN</td>\n",
              "      <td>CARD</td>\n",
              "      <td>NaN</td>\n",
              "      <td>2021-03-04</td>\n",
              "      <td>2021-03</td>\n",
              "      <td>일요일</td>\n",
              "      <td>15</td>\n",
              "      <td>28</td>\n",
              "      <td>일요일</td>\n",
              "    </tr>\n",
              "    <tr>\n",
              "      <th>4</th>\n",
              "      <td>970658</td>\n",
              "      <td>478028.0</td>\n",
              "      <td>201797.0</td>\n",
              "      <td>PAYMENT</td>\n",
              "      <td>COMPLETED</td>\n",
              "      <td>올인원 패키지 : 직장인 필수 스킬 3종 세트 MAX</td>\n",
              "      <td>업무 생산성</td>\n",
              "      <td>올인원</td>\n",
              "      <td>2021-03-28 15:21:54</td>\n",
              "      <td>97500</td>\n",
              "      <td>...</td>\n",
              "      <td>117500.0</td>\n",
              "      <td>NaN</td>\n",
              "      <td>CARD</td>\n",
              "      <td>PPT/보고서</td>\n",
              "      <td>2019-11-14</td>\n",
              "      <td>2021-03</td>\n",
              "      <td>일요일</td>\n",
              "      <td>15</td>\n",
              "      <td>28</td>\n",
              "      <td>일요일</td>\n",
              "    </tr>\n",
              "  </tbody>\n",
              "</table>\n",
              "<p>5 rows × 23 columns</p>\n",
              "</div>\n",
              "      <button class=\"colab-df-convert\" onclick=\"convertToInteractive('df-5330eeec-8d5b-4fff-ac90-039eca3c93a2')\"\n",
              "              title=\"Convert this dataframe to an interactive table.\"\n",
              "              style=\"display:none;\">\n",
              "        \n",
              "  <svg xmlns=\"http://www.w3.org/2000/svg\" height=\"24px\"viewBox=\"0 0 24 24\"\n",
              "       width=\"24px\">\n",
              "    <path d=\"M0 0h24v24H0V0z\" fill=\"none\"/>\n",
              "    <path d=\"M18.56 5.44l.94 2.06.94-2.06 2.06-.94-2.06-.94-.94-2.06-.94 2.06-2.06.94zm-11 1L8.5 8.5l.94-2.06 2.06-.94-2.06-.94L8.5 2.5l-.94 2.06-2.06.94zm10 10l.94 2.06.94-2.06 2.06-.94-2.06-.94-.94-2.06-.94 2.06-2.06.94z\"/><path d=\"M17.41 7.96l-1.37-1.37c-.4-.4-.92-.59-1.43-.59-.52 0-1.04.2-1.43.59L10.3 9.45l-7.72 7.72c-.78.78-.78 2.05 0 2.83L4 21.41c.39.39.9.59 1.41.59.51 0 1.02-.2 1.41-.59l7.78-7.78 2.81-2.81c.8-.78.8-2.07 0-2.86zM5.41 20L4 18.59l7.72-7.72 1.47 1.35L5.41 20z\"/>\n",
              "  </svg>\n",
              "      </button>\n",
              "      \n",
              "  <style>\n",
              "    .colab-df-container {\n",
              "      display:flex;\n",
              "      flex-wrap:wrap;\n",
              "      gap: 12px;\n",
              "    }\n",
              "\n",
              "    .colab-df-convert {\n",
              "      background-color: #E8F0FE;\n",
              "      border: none;\n",
              "      border-radius: 50%;\n",
              "      cursor: pointer;\n",
              "      display: none;\n",
              "      fill: #1967D2;\n",
              "      height: 32px;\n",
              "      padding: 0 0 0 0;\n",
              "      width: 32px;\n",
              "    }\n",
              "\n",
              "    .colab-df-convert:hover {\n",
              "      background-color: #E2EBFA;\n",
              "      box-shadow: 0px 1px 2px rgba(60, 64, 67, 0.3), 0px 1px 3px 1px rgba(60, 64, 67, 0.15);\n",
              "      fill: #174EA6;\n",
              "    }\n",
              "\n",
              "    [theme=dark] .colab-df-convert {\n",
              "      background-color: #3B4455;\n",
              "      fill: #D2E3FC;\n",
              "    }\n",
              "\n",
              "    [theme=dark] .colab-df-convert:hover {\n",
              "      background-color: #434B5C;\n",
              "      box-shadow: 0px 1px 3px 1px rgba(0, 0, 0, 0.15);\n",
              "      filter: drop-shadow(0px 1px 2px rgba(0, 0, 0, 0.3));\n",
              "      fill: #FFFFFF;\n",
              "    }\n",
              "  </style>\n",
              "\n",
              "      <script>\n",
              "        const buttonEl =\n",
              "          document.querySelector('#df-5330eeec-8d5b-4fff-ac90-039eca3c93a2 button.colab-df-convert');\n",
              "        buttonEl.style.display =\n",
              "          google.colab.kernel.accessAllowed ? 'block' : 'none';\n",
              "\n",
              "        async function convertToInteractive(key) {\n",
              "          const element = document.querySelector('#df-5330eeec-8d5b-4fff-ac90-039eca3c93a2');\n",
              "          const dataTable =\n",
              "            await google.colab.kernel.invokeFunction('convertToInteractive',\n",
              "                                                     [key], {});\n",
              "          if (!dataTable) return;\n",
              "\n",
              "          const docLinkHtml = 'Like what you see? Visit the ' +\n",
              "            '<a target=\"_blank\" href=https://colab.research.google.com/notebooks/data_table.ipynb>data table notebook</a>'\n",
              "            + ' to learn more about interactive tables.';\n",
              "          element.innerHTML = '';\n",
              "          dataTable['output_type'] = 'display_data';\n",
              "          await google.colab.output.renderOutput(dataTable, element);\n",
              "          const docLink = document.createElement('div');\n",
              "          docLink.innerHTML = docLinkHtml;\n",
              "          element.appendChild(docLink);\n",
              "        }\n",
              "      </script>\n",
              "    </div>\n",
              "  </div>\n",
              "  "
            ]
          },
          "metadata": {},
          "execution_count": 17
        }
      ]
    },
    {
      "cell_type": "markdown",
      "source": [
        "방학시즌인 7, 8월, 주말인 일요일, 월말인 30,31일, 그리고 밤 시간인 21~23시에 수입이 높게 나타난다."
      ],
      "metadata": {
        "id": "F4Bmr3x8_V4u"
      },
      "id": "F4Bmr3x8_V4u"
    },
    {
      "cell_type": "markdown",
      "source": [
        "매출이 높은 시기에 광고를 집중하면 매출 상승 효과를 기대할 수 있을 것이다."
      ],
      "metadata": {
        "id": "D9g6pIoe_UIU"
      },
      "id": "D9g6pIoe_UIU"
    },
    {
      "cell_type": "code",
      "source": [
        "# 월 말에 가장 잘 팔리는 강의 카테고리\n"
      ],
      "metadata": {
        "id": "lt1O2M_Y4mDB"
      },
      "id": "lt1O2M_Y4mDB",
      "execution_count": null,
      "outputs": []
    },
    {
      "cell_type": "markdown",
      "source": [
        "##재구매 관련 데이터"
      ],
      "metadata": {
        "id": "LhHvf5jGiNkQ"
      },
      "id": "LhHvf5jGiNkQ"
    },
    {
      "cell_type": "code",
      "source": [
        "# 한 사람이 강의를 몇 회 구매했는지 확인\n",
        "df3[\"customer_id\"].value_counts() "
      ],
      "metadata": {
        "colab": {
          "base_uri": "https://localhost:8080/"
        },
        "id": "Ktat19PxqkM8",
        "outputId": "10ea218f-07d1-417b-d667-996bfb2933f0"
      },
      "id": "Ktat19PxqkM8",
      "execution_count": null,
      "outputs": [
        {
          "output_type": "execute_result",
          "data": {
            "text/plain": [
              "98685.0     53\n",
              "427973.0    47\n",
              "158374.0    42\n",
              "50769.0     41\n",
              "3189.0      40\n",
              "            ..\n",
              "544537.0     1\n",
              "544348.0     1\n",
              "537063.0     1\n",
              "102796.0     1\n",
              "610626.0     1\n",
              "Name: customer_id, Length: 39092, dtype: int64"
            ]
          },
          "metadata": {},
          "execution_count": 19
        }
      ]
    },
    {
      "cell_type": "code",
      "source": [
        "# 재구매 시 True, 1회 구매시 False 인 column 생성\n",
        "\n",
        "repeat = df3.customer_id.value_counts().loc[df3.customer_id.value_counts() >= 2]\n",
        "repeat_index=repeat.index\n",
        "repeat_index\n",
        "\n",
        "def repeat_order_func(x) :      \n",
        "\n",
        "    if repeat_index.isin([x]).any()==True:\n",
        "        return True\n",
        "    else:\n",
        "        return False\n",
        "\n",
        "df3['repeat_order'] = df3['customer_id'].map(repeat_order_func)\n",
        "df3 = df3.drop_duplicates(['customer_id'])"
      ],
      "metadata": {
        "id": "bDvSSFivPfvS"
      },
      "id": "bDvSSFivPfvS",
      "execution_count": null,
      "outputs": []
    },
    {
      "cell_type": "code",
      "source": [
        "df3['repeat_order'].value_counts()"
      ],
      "metadata": {
        "colab": {
          "base_uri": "https://localhost:8080/"
        },
        "id": "E5Qz7GmQfYM3",
        "outputId": "85677f0a-35e5-49bd-9785-eaf1106380bf"
      },
      "id": "E5Qz7GmQfYM3",
      "execution_count": null,
      "outputs": [
        {
          "output_type": "execute_result",
          "data": {
            "text/plain": [
              "False    30103\n",
              "True      8989\n",
              "Name: repeat_order, dtype: int64"
            ]
          },
          "metadata": {},
          "execution_count": 21
        }
      ]
    },
    {
      "cell_type": "code",
      "source": [
        "# 재구매자만 있는 데이터프레임\n",
        "df_repeat_order = df3[df3.repeat_order.isin([True])]"
      ],
      "metadata": {
        "id": "0K2FLb-YsKHY"
      },
      "id": "0K2FLb-YsKHY",
      "execution_count": null,
      "outputs": []
    },
    {
      "cell_type": "code",
      "source": [
        "# 강의를 재구매한 사람 비율\n",
        "print(f'{\"%.2f\"% (8989/(30103+8989)*100)}%')"
      ],
      "metadata": {
        "colab": {
          "base_uri": "https://localhost:8080/"
        },
        "id": "B54eX3ZdgB_n",
        "outputId": "f5851634-1d5d-4c7b-ebe4-abac30000f78"
      },
      "id": "B54eX3ZdgB_n",
      "execution_count": null,
      "outputs": [
        {
          "output_type": "stream",
          "name": "stdout",
          "text": [
            "22.99%\n"
          ]
        }
      ]
    },
    {
      "cell_type": "markdown",
      "source": [
        "강의를 2회 이상 구매한 사람이 전체의 약 23%"
      ],
      "metadata": {
        "id": "sIQcvT0-gWLS"
      },
      "id": "sIQcvT0-gWLS"
    },
    {
      "cell_type": "markdown",
      "source": [
        "##환불 관련 데이터"
      ],
      "metadata": {
        "id": "o3rmxSlOjKKV"
      },
      "id": "o3rmxSlOjKKV"
    },
    {
      "cell_type": "code",
      "source": [
        "# 결제, 환불 value_counts\n",
        "df2 = df2.drop_duplicates(['customer_id'])\n",
        "df2['type'].value_counts()"
      ],
      "metadata": {
        "colab": {
          "base_uri": "https://localhost:8080/"
        },
        "id": "KvMHNqmdy1zG",
        "outputId": "406bd86f-efb6-436d-d930-13966903f72f"
      },
      "id": "KvMHNqmdy1zG",
      "execution_count": null,
      "outputs": [
        {
          "output_type": "execute_result",
          "data": {
            "text/plain": [
              "PAYMENT    33109\n",
              "Name: type, dtype: int64"
            ]
          },
          "metadata": {},
          "execution_count": 24
        }
      ]
    },
    {
      "cell_type": "code",
      "source": [
        "Refdf = Refdf.drop_duplicates(['customer_id'])\n",
        "Refdf['type'].value_counts()"
      ],
      "metadata": {
        "colab": {
          "base_uri": "https://localhost:8080/"
        },
        "id": "2WSplARgKGsh",
        "outputId": "d812703f-86da-48e0-cb30-ce37424878da"
      },
      "id": "2WSplARgKGsh",
      "execution_count": null,
      "outputs": [
        {
          "output_type": "execute_result",
          "data": {
            "text/plain": [
              "REFUND    3247\n",
              "Name: type, dtype: int64"
            ]
          },
          "metadata": {},
          "execution_count": 25
        }
      ]
    },
    {
      "cell_type": "code",
      "source": [
        "# 전체 환불율\n",
        "print(f'환불율 : {\"%0.2f\"%(3247/(3247+33109)*100)}%')"
      ],
      "metadata": {
        "colab": {
          "base_uri": "https://localhost:8080/"
        },
        "id": "0HpfHK8B27xi",
        "outputId": "f6fed93c-af74-45f3-cde3-cf8e7599fbea"
      },
      "id": "0HpfHK8B27xi",
      "execution_count": null,
      "outputs": [
        {
          "output_type": "stream",
          "name": "stdout",
          "text": [
            "환불율 : 8.93%\n"
          ]
        }
      ]
    },
    {
      "cell_type": "markdown",
      "source": [
        "###쿠폰"
      ],
      "metadata": {
        "id": "WoZ5Ac_pL-ZV"
      },
      "id": "WoZ5Ac_pL-ZV"
    },
    {
      "cell_type": "code",
      "source": [
        "# 쿠폰 할인율 컬럼 추가\n",
        "df2 = df2.fillna(0)\n",
        "Refdf = Refdf.fillna(0)\n",
        "df2['coupon_discount_rate'] = df2['coupon_discount_amount']/(df2['transaction_amount']+df2['coupon_discount_amount'])*100\n",
        "Refdf['coupon_discount_rate'] = Refdf['coupon_discount_amount']/(Refdf['transaction_amount']+Refdf['coupon_discount_amount'])*100"
      ],
      "metadata": {
        "id": "urz4Tbp0Nb7N"
      },
      "execution_count": null,
      "outputs": [],
      "id": "urz4Tbp0Nb7N"
    },
    {
      "cell_type": "code",
      "source": [
        "# 중복 제거\n",
        "df2 = df2.drop_duplicates(['customer_id'])\n",
        "df2['type'].value_counts()"
      ],
      "metadata": {
        "colab": {
          "base_uri": "https://localhost:8080/"
        },
        "id": "H2un6yk9MpJZ",
        "outputId": "dcb68ff9-4355-4711-aa0a-087e1932cc7f"
      },
      "id": "H2un6yk9MpJZ",
      "execution_count": null,
      "outputs": [
        {
          "output_type": "execute_result",
          "data": {
            "text/plain": [
              "PAYMENT    33109\n",
              "Name: type, dtype: int64"
            ]
          },
          "metadata": {},
          "execution_count": 37
        }
      ]
    },
    {
      "cell_type": "code",
      "source": [
        "# 중복 제거\n",
        "Refdf = Refdf.drop_duplicates(['customer_id'])\n",
        "Refdf['type'].value_counts()"
      ],
      "metadata": {
        "colab": {
          "base_uri": "https://localhost:8080/"
        },
        "id": "_Ez6C1svMr00",
        "outputId": "9af009ab-4893-4f3c-e605-04317126f493"
      },
      "id": "_Ez6C1svMr00",
      "execution_count": null,
      "outputs": [
        {
          "output_type": "execute_result",
          "data": {
            "text/plain": [
              "REFUND    3247\n",
              "Name: type, dtype: int64"
            ]
          },
          "metadata": {},
          "execution_count": 38
        }
      ]
    },
    {
      "cell_type": "code",
      "source": [
        "# 쿠폰 할인율 별 구분\n",
        "def discount_rate(x) :   \n",
        "    if x == 0:\n",
        "        return \"미사용\"\n",
        "    elif x < 10: \n",
        "        return \"~10%\"\n",
        "    elif x < 20: \n",
        "        return \"~20%\"\n",
        "    elif x < 30: \n",
        "        return \"~30%\"\n",
        "    elif x < 40: \n",
        "        return \"~40%\"\n",
        "    elif x < 50:\n",
        "        return \"~50%\"\n",
        "    elif x < 60: \n",
        "        return \"~60%\"\n",
        "    elif x < 70: \n",
        "        return \"~70%\"       \n",
        "\n",
        "df2['coupon_discount_rate2'] = df2['coupon_discount_rate'].map(discount_rate)\n",
        "Refdf['coupon_discount_rate2'] = Refdf['coupon_discount_rate'].map(discount_rate)"
      ],
      "metadata": {
        "id": "9qbVzir0QoLc"
      },
      "execution_count": null,
      "outputs": [],
      "id": "9qbVzir0QoLc"
    },
    {
      "cell_type": "code",
      "source": [
        "df2.coupon_discount_rate2.value_counts()"
      ],
      "metadata": {
        "colab": {
          "base_uri": "https://localhost:8080/"
        },
        "id": "7YhqqH1WXh6U",
        "outputId": "b54e827d-3e7a-4c85-d532-d300cf710da7"
      },
      "execution_count": null,
      "outputs": [
        {
          "output_type": "execute_result",
          "data": {
            "text/plain": [
              "미사용     18060\n",
              "~20%     8646\n",
              "~10%     1919\n",
              "~30%      776\n",
              "~40%      389\n",
              "~70%      114\n",
              "~60%       95\n",
              "~50%       53\n",
              "Name: coupon_discount_rate2, dtype: int64"
            ]
          },
          "metadata": {},
          "execution_count": 40
        }
      ],
      "id": "7YhqqH1WXh6U"
    },
    {
      "cell_type": "code",
      "source": [
        "# 쿠폰 미사용자만 있는 데이터프레임\n",
        "df_no_coupon = df2[df2.coupon_discount_rate2.isin(['미사용'])]\n",
        "df_no_coupon_ref = Refdf[Refdf.coupon_discount_rate2.isin(['미사용'])]"
      ],
      "metadata": {
        "id": "MC9YIy6rVteb"
      },
      "execution_count": null,
      "outputs": [],
      "id": "MC9YIy6rVteb"
    },
    {
      "cell_type": "code",
      "source": [
        "# 할인율 별 쿠폰 사용 횟수\n",
        "fig = plt.figure(figsize=(8,4))                    \n",
        "sns.countplot( data = df2, x = 'coupon_discount_rate2', order = df2['coupon_discount_rate2'].value_counts().index)"
      ],
      "metadata": {
        "colab": {
          "base_uri": "https://localhost:8080/",
          "height": 297
        },
        "id": "6xv5qMS5QqHP",
        "outputId": "6cf0ec12-074a-43f1-ed8b-fc8f8c6fc857"
      },
      "execution_count": null,
      "outputs": [
        {
          "output_type": "execute_result",
          "data": {
            "text/plain": [
              "<matplotlib.axes._subplots.AxesSubplot at 0x7fbd443cf350>"
            ]
          },
          "metadata": {},
          "execution_count": 42
        },
        {
          "output_type": "display_data",
          "data": {
            "text/plain": [
              "<Figure size 576x288 with 1 Axes>"
            ],
            "image/png": "[encoded data removed]"
          },
          "metadata": {
            "needs_background": "light"
          }
        }
      ],
      "id": "6xv5qMS5QqHP"
    },
    {
      "cell_type": "code",
      "source": [
        "# 쿠폰을 미사용한 사람의 결제, 환불 value_counts  #지워 아래거도\n",
        "df2n = df2[df2.coupon_discount_rate2.isin(['미사용'])]\n",
        "df2n['coupon_discount_rate2'].value_counts()"
      ],
      "metadata": {
        "colab": {
          "base_uri": "https://localhost:8080/"
        },
        "id": "aRjFHX7Zh0ek",
        "outputId": "4bbec5a5-c9cc-4ae3-eca0-34668614bb1e"
      },
      "id": "aRjFHX7Zh0ek",
      "execution_count": null,
      "outputs": [
        {
          "output_type": "execute_result",
          "data": {
            "text/plain": [
              "미사용    18060\n",
              "Name: coupon_discount_rate2, dtype: int64"
            ]
          },
          "metadata": {},
          "execution_count": 43
        }
      ]
    },
    {
      "cell_type": "code",
      "source": [
        "Refdfn = Refdf[Refdf.coupon_discount_rate2.isin(['미사용'])]\n",
        "Refdfn['coupon_discount_rate2'].value_counts()"
      ],
      "metadata": {
        "colab": {
          "base_uri": "https://localhost:8080/"
        },
        "id": "3ggP_7b6Q-qf",
        "outputId": "4fac4ec1-bb87-4c08-c99e-3b489d59ff1e"
      },
      "id": "3ggP_7b6Q-qf",
      "execution_count": null,
      "outputs": [
        {
          "output_type": "execute_result",
          "data": {
            "text/plain": [
              "미사용    3239\n",
              "Name: coupon_discount_rate2, dtype: int64"
            ]
          },
          "metadata": {},
          "execution_count": 45
        }
      ]
    },
    {
      "cell_type": "code",
      "source": [
        "# 전체 총 매출액\n",
        "type_amount_total = df2.groupby('type').agg(how)\n",
        "type_amount_total"
      ],
      "metadata": {
        "colab": {
          "base_uri": "https://localhost:8080/",
          "height": 112
        },
        "id": "-i0k9Q_4pmdB",
        "outputId": "82e1993d-5bca-4a00-d202-58c465779817"
      },
      "id": "-i0k9Q_4pmdB",
      "execution_count": null,
      "outputs": [
        {
          "output_type": "execute_result",
          "data": {
            "text/plain": [
              "         transaction_amount\n",
              "type                       \n",
              "PAYMENT          4391197800"
            ],
            "text/html": [
              "\n",
              "  <div id=\"df-10d399b2-0b0a-4f42-880b-e1c3449150d0\">\n",
              "    <div class=\"colab-df-container\">\n",
              "      <div>\n",
              "<style scoped>\n",
              "    .dataframe tbody tr th:only-of-type {\n",
              "        vertical-align: middle;\n",
              "    }\n",
              "\n",
              "    .dataframe tbody tr th {\n",
              "        vertical-align: top;\n",
              "    }\n",
              "\n",
              "    .dataframe thead th {\n",
              "        text-align: right;\n",
              "    }\n",
              "</style>\n",
              "<table border=\"1\" class=\"dataframe\">\n",
              "  <thead>\n",
              "    <tr style=\"text-align: right;\">\n",
              "      <th></th>\n",
              "      <th>transaction_amount</th>\n",
              "    </tr>\n",
              "    <tr>\n",
              "      <th>type</th>\n",
              "      <th></th>\n",
              "    </tr>\n",
              "  </thead>\n",
              "  <tbody>\n",
              "    <tr>\n",
              "      <th>PAYMENT</th>\n",
              "      <td>4391197800</td>\n",
              "    </tr>\n",
              "  </tbody>\n",
              "</table>\n",
              "</div>\n",
              "      <button class=\"colab-df-convert\" onclick=\"convertToInteractive('df-10d399b2-0b0a-4f42-880b-e1c3449150d0')\"\n",
              "              title=\"Convert this dataframe to an interactive table.\"\n",
              "              style=\"display:none;\">\n",
              "        \n",
              "  <svg xmlns=\"http://www.w3.org/2000/svg\" height=\"24px\"viewBox=\"0 0 24 24\"\n",
              "       width=\"24px\">\n",
              "    <path d=\"M0 0h24v24H0V0z\" fill=\"none\"/>\n",
              "    <path d=\"M18.56 5.44l.94 2.06.94-2.06 2.06-.94-2.06-.94-.94-2.06-.94 2.06-2.06.94zm-11 1L8.5 8.5l.94-2.06 2.06-.94-2.06-.94L8.5 2.5l-.94 2.06-2.06.94zm10 10l.94 2.06.94-2.06 2.06-.94-2.06-.94-.94-2.06-.94 2.06-2.06.94z\"/><path d=\"M17.41 7.96l-1.37-1.37c-.4-.4-.92-.59-1.43-.59-.52 0-1.04.2-1.43.59L10.3 9.45l-7.72 7.72c-.78.78-.78 2.05 0 2.83L4 21.41c.39.39.9.59 1.41.59.51 0 1.02-.2 1.41-.59l7.78-7.78 2.81-2.81c.8-.78.8-2.07 0-2.86zM5.41 20L4 18.59l7.72-7.72 1.47 1.35L5.41 20z\"/>\n",
              "  </svg>\n",
              "      </button>\n",
              "      \n",
              "  <style>\n",
              "    .colab-df-container {\n",
              "      display:flex;\n",
              "      flex-wrap:wrap;\n",
              "      gap: 12px;\n",
              "    }\n",
              "\n",
              "    .colab-df-convert {\n",
              "      background-color: #E8F0FE;\n",
              "      border: none;\n",
              "      border-radius: 50%;\n",
              "      cursor: pointer;\n",
              "      display: none;\n",
              "      fill: #1967D2;\n",
              "      height: 32px;\n",
              "      padding: 0 0 0 0;\n",
              "      width: 32px;\n",
              "    }\n",
              "\n",
              "    .colab-df-convert:hover {\n",
              "      background-color: #E2EBFA;\n",
              "      box-shadow: 0px 1px 2px rgba(60, 64, 67, 0.3), 0px 1px 3px 1px rgba(60, 64, 67, 0.15);\n",
              "      fill: #174EA6;\n",
              "    }\n",
              "\n",
              "    [theme=dark] .colab-df-convert {\n",
              "      background-color: #3B4455;\n",
              "      fill: #D2E3FC;\n",
              "    }\n",
              "\n",
              "    [theme=dark] .colab-df-convert:hover {\n",
              "      background-color: #434B5C;\n",
              "      box-shadow: 0px 1px 3px 1px rgba(0, 0, 0, 0.15);\n",
              "      filter: drop-shadow(0px 1px 2px rgba(0, 0, 0, 0.3));\n",
              "      fill: #FFFFFF;\n",
              "    }\n",
              "  </style>\n",
              "\n",
              "      <script>\n",
              "        const buttonEl =\n",
              "          document.querySelector('#df-10d399b2-0b0a-4f42-880b-e1c3449150d0 button.colab-df-convert');\n",
              "        buttonEl.style.display =\n",
              "          google.colab.kernel.accessAllowed ? 'block' : 'none';\n",
              "\n",
              "        async function convertToInteractive(key) {\n",
              "          const element = document.querySelector('#df-10d399b2-0b0a-4f42-880b-e1c3449150d0');\n",
              "          const dataTable =\n",
              "            await google.colab.kernel.invokeFunction('convertToInteractive',\n",
              "                                                     [key], {});\n",
              "          if (!dataTable) return;\n",
              "\n",
              "          const docLinkHtml = 'Like what you see? Visit the ' +\n",
              "            '<a target=\"_blank\" href=https://colab.research.google.com/notebooks/data_table.ipynb>data table notebook</a>'\n",
              "            + ' to learn more about interactive tables.';\n",
              "          element.innerHTML = '';\n",
              "          dataTable['output_type'] = 'display_data';\n",
              "          await google.colab.output.renderOutput(dataTable, element);\n",
              "          const docLink = document.createElement('div');\n",
              "          docLink.innerHTML = docLinkHtml;\n",
              "          element.appendChild(docLink);\n",
              "        }\n",
              "      </script>\n",
              "    </div>\n",
              "  </div>\n",
              "  "
            ]
          },
          "metadata": {},
          "execution_count": 53
        }
      ]
    },
    {
      "cell_type": "code",
      "source": [
        "# 전체 환불액\n",
        "type_amount_total_Ref = Refdf.groupby('type').agg(how)\n",
        "type_amount_total_Ref"
      ],
      "metadata": {
        "colab": {
          "base_uri": "https://localhost:8080/",
          "height": 112
        },
        "id": "NFdwudGPzH7o",
        "outputId": "27d9133f-2a87-4789-c69d-da9e620ae47e"
      },
      "id": "NFdwudGPzH7o",
      "execution_count": null,
      "outputs": [
        {
          "output_type": "execute_result",
          "data": {
            "text/plain": [
              "        transaction_amount\n",
              "type                      \n",
              "REFUND          -559991312"
            ],
            "text/html": [
              "\n",
              "  <div id=\"df-eca49c89-177d-4b88-96ed-62929297d86c\">\n",
              "    <div class=\"colab-df-container\">\n",
              "      <div>\n",
              "<style scoped>\n",
              "    .dataframe tbody tr th:only-of-type {\n",
              "        vertical-align: middle;\n",
              "    }\n",
              "\n",
              "    .dataframe tbody tr th {\n",
              "        vertical-align: top;\n",
              "    }\n",
              "\n",
              "    .dataframe thead th {\n",
              "        text-align: right;\n",
              "    }\n",
              "</style>\n",
              "<table border=\"1\" class=\"dataframe\">\n",
              "  <thead>\n",
              "    <tr style=\"text-align: right;\">\n",
              "      <th></th>\n",
              "      <th>transaction_amount</th>\n",
              "    </tr>\n",
              "    <tr>\n",
              "      <th>type</th>\n",
              "      <th></th>\n",
              "    </tr>\n",
              "  </thead>\n",
              "  <tbody>\n",
              "    <tr>\n",
              "      <th>REFUND</th>\n",
              "      <td>-559991312</td>\n",
              "    </tr>\n",
              "  </tbody>\n",
              "</table>\n",
              "</div>\n",
              "      <button class=\"colab-df-convert\" onclick=\"convertToInteractive('df-eca49c89-177d-4b88-96ed-62929297d86c')\"\n",
              "              title=\"Convert this dataframe to an interactive table.\"\n",
              "              style=\"display:none;\">\n",
              "        \n",
              "  <svg xmlns=\"http://www.w3.org/2000/svg\" height=\"24px\"viewBox=\"0 0 24 24\"\n",
              "       width=\"24px\">\n",
              "    <path d=\"M0 0h24v24H0V0z\" fill=\"none\"/>\n",
              "    <path d=\"M18.56 5.44l.94 2.06.94-2.06 2.06-.94-2.06-.94-.94-2.06-.94 2.06-2.06.94zm-11 1L8.5 8.5l.94-2.06 2.06-.94-2.06-.94L8.5 2.5l-.94 2.06-2.06.94zm10 10l.94 2.06.94-2.06 2.06-.94-2.06-.94-.94-2.06-.94 2.06-2.06.94z\"/><path d=\"M17.41 7.96l-1.37-1.37c-.4-.4-.92-.59-1.43-.59-.52 0-1.04.2-1.43.59L10.3 9.45l-7.72 7.72c-.78.78-.78 2.05 0 2.83L4 21.41c.39.39.9.59 1.41.59.51 0 1.02-.2 1.41-.59l7.78-7.78 2.81-2.81c.8-.78.8-2.07 0-2.86zM5.41 20L4 18.59l7.72-7.72 1.47 1.35L5.41 20z\"/>\n",
              "  </svg>\n",
              "      </button>\n",
              "      \n",
              "  <style>\n",
              "    .colab-df-container {\n",
              "      display:flex;\n",
              "      flex-wrap:wrap;\n",
              "      gap: 12px;\n",
              "    }\n",
              "\n",
              "    .colab-df-convert {\n",
              "      background-color: #E8F0FE;\n",
              "      border: none;\n",
              "      border-radius: 50%;\n",
              "      cursor: pointer;\n",
              "      display: none;\n",
              "      fill: #1967D2;\n",
              "      height: 32px;\n",
              "      padding: 0 0 0 0;\n",
              "      width: 32px;\n",
              "    }\n",
              "\n",
              "    .colab-df-convert:hover {\n",
              "      background-color: #E2EBFA;\n",
              "      box-shadow: 0px 1px 2px rgba(60, 64, 67, 0.3), 0px 1px 3px 1px rgba(60, 64, 67, 0.15);\n",
              "      fill: #174EA6;\n",
              "    }\n",
              "\n",
              "    [theme=dark] .colab-df-convert {\n",
              "      background-color: #3B4455;\n",
              "      fill: #D2E3FC;\n",
              "    }\n",
              "\n",
              "    [theme=dark] .colab-df-convert:hover {\n",
              "      background-color: #434B5C;\n",
              "      box-shadow: 0px 1px 3px 1px rgba(0, 0, 0, 0.15);\n",
              "      filter: drop-shadow(0px 1px 2px rgba(0, 0, 0, 0.3));\n",
              "      fill: #FFFFFF;\n",
              "    }\n",
              "  </style>\n",
              "\n",
              "      <script>\n",
              "        const buttonEl =\n",
              "          document.querySelector('#df-eca49c89-177d-4b88-96ed-62929297d86c button.colab-df-convert');\n",
              "        buttonEl.style.display =\n",
              "          google.colab.kernel.accessAllowed ? 'block' : 'none';\n",
              "\n",
              "        async function convertToInteractive(key) {\n",
              "          const element = document.querySelector('#df-eca49c89-177d-4b88-96ed-62929297d86c');\n",
              "          const dataTable =\n",
              "            await google.colab.kernel.invokeFunction('convertToInteractive',\n",
              "                                                     [key], {});\n",
              "          if (!dataTable) return;\n",
              "\n",
              "          const docLinkHtml = 'Like what you see? Visit the ' +\n",
              "            '<a target=\"_blank\" href=https://colab.research.google.com/notebooks/data_table.ipynb>data table notebook</a>'\n",
              "            + ' to learn more about interactive tables.';\n",
              "          element.innerHTML = '';\n",
              "          dataTable['output_type'] = 'display_data';\n",
              "          await google.colab.output.renderOutput(dataTable, element);\n",
              "          const docLink = document.createElement('div');\n",
              "          docLink.innerHTML = docLinkHtml;\n",
              "          element.appendChild(docLink);\n",
              "        }\n",
              "      </script>\n",
              "    </div>\n",
              "  </div>\n",
              "  "
            ]
          },
          "metadata": {},
          "execution_count": 57
        }
      ]
    },
    {
      "cell_type": "code",
      "source": [
        "# 쿠폰 미사용자 총 매출액\n",
        "type_amount_n = df2n.groupby('type').agg(how)\n",
        "type_amount_n"
      ],
      "metadata": {
        "colab": {
          "base_uri": "https://localhost:8080/",
          "height": 112
        },
        "id": "5d0h4o8fSNiU",
        "outputId": "ea4e782e-2455-414f-d3c8-8cffc9b8f9a3"
      },
      "id": "5d0h4o8fSNiU",
      "execution_count": null,
      "outputs": [
        {
          "output_type": "execute_result",
          "data": {
            "text/plain": [
              "         transaction_amount\n",
              "type                       \n",
              "PAYMENT          2777744605"
            ],
            "text/html": [
              "\n",
              "  <div id=\"df-129b6014-1ce2-484a-b657-4d476dbc42cb\">\n",
              "    <div class=\"colab-df-container\">\n",
              "      <div>\n",
              "<style scoped>\n",
              "    .dataframe tbody tr th:only-of-type {\n",
              "        vertical-align: middle;\n",
              "    }\n",
              "\n",
              "    .dataframe tbody tr th {\n",
              "        vertical-align: top;\n",
              "    }\n",
              "\n",
              "    .dataframe thead th {\n",
              "        text-align: right;\n",
              "    }\n",
              "</style>\n",
              "<table border=\"1\" class=\"dataframe\">\n",
              "  <thead>\n",
              "    <tr style=\"text-align: right;\">\n",
              "      <th></th>\n",
              "      <th>transaction_amount</th>\n",
              "    </tr>\n",
              "    <tr>\n",
              "      <th>type</th>\n",
              "      <th></th>\n",
              "    </tr>\n",
              "  </thead>\n",
              "  <tbody>\n",
              "    <tr>\n",
              "      <th>PAYMENT</th>\n",
              "      <td>2777744605</td>\n",
              "    </tr>\n",
              "  </tbody>\n",
              "</table>\n",
              "</div>\n",
              "      <button class=\"colab-df-convert\" onclick=\"convertToInteractive('df-129b6014-1ce2-484a-b657-4d476dbc42cb')\"\n",
              "              title=\"Convert this dataframe to an interactive table.\"\n",
              "              style=\"display:none;\">\n",
              "        \n",
              "  <svg xmlns=\"http://www.w3.org/2000/svg\" height=\"24px\"viewBox=\"0 0 24 24\"\n",
              "       width=\"24px\">\n",
              "    <path d=\"M0 0h24v24H0V0z\" fill=\"none\"/>\n",
              "    <path d=\"M18.56 5.44l.94 2.06.94-2.06 2.06-.94-2.06-.94-.94-2.06-.94 2.06-2.06.94zm-11 1L8.5 8.5l.94-2.06 2.06-.94-2.06-.94L8.5 2.5l-.94 2.06-2.06.94zm10 10l.94 2.06.94-2.06 2.06-.94-2.06-.94-.94-2.06-.94 2.06-2.06.94z\"/><path d=\"M17.41 7.96l-1.37-1.37c-.4-.4-.92-.59-1.43-.59-.52 0-1.04.2-1.43.59L10.3 9.45l-7.72 7.72c-.78.78-.78 2.05 0 2.83L4 21.41c.39.39.9.59 1.41.59.51 0 1.02-.2 1.41-.59l7.78-7.78 2.81-2.81c.8-.78.8-2.07 0-2.86zM5.41 20L4 18.59l7.72-7.72 1.47 1.35L5.41 20z\"/>\n",
              "  </svg>\n",
              "      </button>\n",
              "      \n",
              "  <style>\n",
              "    .colab-df-container {\n",
              "      display:flex;\n",
              "      flex-wrap:wrap;\n",
              "      gap: 12px;\n",
              "    }\n",
              "\n",
              "    .colab-df-convert {\n",
              "      background-color: #E8F0FE;\n",
              "      border: none;\n",
              "      border-radius: 50%;\n",
              "      cursor: pointer;\n",
              "      display: none;\n",
              "      fill: #1967D2;\n",
              "      height: 32px;\n",
              "      padding: 0 0 0 0;\n",
              "      width: 32px;\n",
              "    }\n",
              "\n",
              "    .colab-df-convert:hover {\n",
              "      background-color: #E2EBFA;\n",
              "      box-shadow: 0px 1px 2px rgba(60, 64, 67, 0.3), 0px 1px 3px 1px rgba(60, 64, 67, 0.15);\n",
              "      fill: #174EA6;\n",
              "    }\n",
              "\n",
              "    [theme=dark] .colab-df-convert {\n",
              "      background-color: #3B4455;\n",
              "      fill: #D2E3FC;\n",
              "    }\n",
              "\n",
              "    [theme=dark] .colab-df-convert:hover {\n",
              "      background-color: #434B5C;\n",
              "      box-shadow: 0px 1px 3px 1px rgba(0, 0, 0, 0.15);\n",
              "      filter: drop-shadow(0px 1px 2px rgba(0, 0, 0, 0.3));\n",
              "      fill: #FFFFFF;\n",
              "    }\n",
              "  </style>\n",
              "\n",
              "      <script>\n",
              "        const buttonEl =\n",
              "          document.querySelector('#df-129b6014-1ce2-484a-b657-4d476dbc42cb button.colab-df-convert');\n",
              "        buttonEl.style.display =\n",
              "          google.colab.kernel.accessAllowed ? 'block' : 'none';\n",
              "\n",
              "        async function convertToInteractive(key) {\n",
              "          const element = document.querySelector('#df-129b6014-1ce2-484a-b657-4d476dbc42cb');\n",
              "          const dataTable =\n",
              "            await google.colab.kernel.invokeFunction('convertToInteractive',\n",
              "                                                     [key], {});\n",
              "          if (!dataTable) return;\n",
              "\n",
              "          const docLinkHtml = 'Like what you see? Visit the ' +\n",
              "            '<a target=\"_blank\" href=https://colab.research.google.com/notebooks/data_table.ipynb>data table notebook</a>'\n",
              "            + ' to learn more about interactive tables.';\n",
              "          element.innerHTML = '';\n",
              "          dataTable['output_type'] = 'display_data';\n",
              "          await google.colab.output.renderOutput(dataTable, element);\n",
              "          const docLink = document.createElement('div');\n",
              "          docLink.innerHTML = docLinkHtml;\n",
              "          element.appendChild(docLink);\n",
              "        }\n",
              "      </script>\n",
              "    </div>\n",
              "  </div>\n",
              "  "
            ]
          },
          "metadata": {},
          "execution_count": 54
        }
      ]
    },
    {
      "cell_type": "code",
      "source": [
        "# 쿠폰 미사용자 환불액\n",
        "type_amount_n_Ref = Refdfn.groupby('type').agg(how)\n",
        "type_amount_n_Ref"
      ],
      "metadata": {
        "colab": {
          "base_uri": "https://localhost:8080/",
          "height": 112
        },
        "id": "mus3YPfFT66o",
        "outputId": "3a571d3e-6946-499f-c106-47d74511f3aa"
      },
      "id": "mus3YPfFT66o",
      "execution_count": null,
      "outputs": [
        {
          "output_type": "execute_result",
          "data": {
            "text/plain": [
              "        transaction_amount\n",
              "type                      \n",
              "REFUND          -559991312"
            ],
            "text/html": [
              "\n",
              "  <div id=\"df-84d3847e-0533-446b-8fc4-a3bb99380613\">\n",
              "    <div class=\"colab-df-container\">\n",
              "      <div>\n",
              "<style scoped>\n",
              "    .dataframe tbody tr th:only-of-type {\n",
              "        vertical-align: middle;\n",
              "    }\n",
              "\n",
              "    .dataframe tbody tr th {\n",
              "        vertical-align: top;\n",
              "    }\n",
              "\n",
              "    .dataframe thead th {\n",
              "        text-align: right;\n",
              "    }\n",
              "</style>\n",
              "<table border=\"1\" class=\"dataframe\">\n",
              "  <thead>\n",
              "    <tr style=\"text-align: right;\">\n",
              "      <th></th>\n",
              "      <th>transaction_amount</th>\n",
              "    </tr>\n",
              "    <tr>\n",
              "      <th>type</th>\n",
              "      <th></th>\n",
              "    </tr>\n",
              "  </thead>\n",
              "  <tbody>\n",
              "    <tr>\n",
              "      <th>REFUND</th>\n",
              "      <td>-559991312</td>\n",
              "    </tr>\n",
              "  </tbody>\n",
              "</table>\n",
              "</div>\n",
              "      <button class=\"colab-df-convert\" onclick=\"convertToInteractive('df-84d3847e-0533-446b-8fc4-a3bb99380613')\"\n",
              "              title=\"Convert this dataframe to an interactive table.\"\n",
              "              style=\"display:none;\">\n",
              "        \n",
              "  <svg xmlns=\"http://www.w3.org/2000/svg\" height=\"24px\"viewBox=\"0 0 24 24\"\n",
              "       width=\"24px\">\n",
              "    <path d=\"M0 0h24v24H0V0z\" fill=\"none\"/>\n",
              "    <path d=\"M18.56 5.44l.94 2.06.94-2.06 2.06-.94-2.06-.94-.94-2.06-.94 2.06-2.06.94zm-11 1L8.5 8.5l.94-2.06 2.06-.94-2.06-.94L8.5 2.5l-.94 2.06-2.06.94zm10 10l.94 2.06.94-2.06 2.06-.94-2.06-.94-.94-2.06-.94 2.06-2.06.94z\"/><path d=\"M17.41 7.96l-1.37-1.37c-.4-.4-.92-.59-1.43-.59-.52 0-1.04.2-1.43.59L10.3 9.45l-7.72 7.72c-.78.78-.78 2.05 0 2.83L4 21.41c.39.39.9.59 1.41.59.51 0 1.02-.2 1.41-.59l7.78-7.78 2.81-2.81c.8-.78.8-2.07 0-2.86zM5.41 20L4 18.59l7.72-7.72 1.47 1.35L5.41 20z\"/>\n",
              "  </svg>\n",
              "      </button>\n",
              "      \n",
              "  <style>\n",
              "    .colab-df-container {\n",
              "      display:flex;\n",
              "      flex-wrap:wrap;\n",
              "      gap: 12px;\n",
              "    }\n",
              "\n",
              "    .colab-df-convert {\n",
              "      background-color: #E8F0FE;\n",
              "      border: none;\n",
              "      border-radius: 50%;\n",
              "      cursor: pointer;\n",
              "      display: none;\n",
              "      fill: #1967D2;\n",
              "      height: 32px;\n",
              "      padding: 0 0 0 0;\n",
              "      width: 32px;\n",
              "    }\n",
              "\n",
              "    .colab-df-convert:hover {\n",
              "      background-color: #E2EBFA;\n",
              "      box-shadow: 0px 1px 2px rgba(60, 64, 67, 0.3), 0px 1px 3px 1px rgba(60, 64, 67, 0.15);\n",
              "      fill: #174EA6;\n",
              "    }\n",
              "\n",
              "    [theme=dark] .colab-df-convert {\n",
              "      background-color: #3B4455;\n",
              "      fill: #D2E3FC;\n",
              "    }\n",
              "\n",
              "    [theme=dark] .colab-df-convert:hover {\n",
              "      background-color: #434B5C;\n",
              "      box-shadow: 0px 1px 3px 1px rgba(0, 0, 0, 0.15);\n",
              "      filter: drop-shadow(0px 1px 2px rgba(0, 0, 0, 0.3));\n",
              "      fill: #FFFFFF;\n",
              "    }\n",
              "  </style>\n",
              "\n",
              "      <script>\n",
              "        const buttonEl =\n",
              "          document.querySelector('#df-84d3847e-0533-446b-8fc4-a3bb99380613 button.colab-df-convert');\n",
              "        buttonEl.style.display =\n",
              "          google.colab.kernel.accessAllowed ? 'block' : 'none';\n",
              "\n",
              "        async function convertToInteractive(key) {\n",
              "          const element = document.querySelector('#df-84d3847e-0533-446b-8fc4-a3bb99380613');\n",
              "          const dataTable =\n",
              "            await google.colab.kernel.invokeFunction('convertToInteractive',\n",
              "                                                     [key], {});\n",
              "          if (!dataTable) return;\n",
              "\n",
              "          const docLinkHtml = 'Like what you see? Visit the ' +\n",
              "            '<a target=\"_blank\" href=https://colab.research.google.com/notebooks/data_table.ipynb>data table notebook</a>'\n",
              "            + ' to learn more about interactive tables.';\n",
              "          element.innerHTML = '';\n",
              "          dataTable['output_type'] = 'display_data';\n",
              "          await google.colab.output.renderOutput(dataTable, element);\n",
              "          const docLink = document.createElement('div');\n",
              "          docLink.innerHTML = docLinkHtml;\n",
              "          element.appendChild(docLink);\n",
              "        }\n",
              "      </script>\n",
              "    </div>\n",
              "  </div>\n",
              "  "
            ]
          },
          "metadata": {},
          "execution_count": 55
        }
      ]
    },
    {
      "cell_type": "markdown",
      "source": [
        "환불자의 99.64%가 쿠폰 미사용자이고, 환불액이 전체와 쿠폰 미사용자일 때의 차이가 없는 것으로 보아\n",
        "\n",
        "쿠폰 사용 -> 환불 불가\n",
        "\n",
        "쿠폰 사용율 올려서  환불율을 낮춤 -> 매출 상승\n",
        "\n",
        "\n"
      ],
      "metadata": {
        "id": "ak46Q9SdlxmQ"
      },
      "id": "ak46Q9SdlxmQ"
    },
    {
      "cell_type": "code",
      "source": [
        "tp = type_amount_total.loc['PAYMENT','transaction_amount'] # 현재 전체 매출\n",
        "np = type_amount_n.loc['PAYMENT','transaction_amount'] # 쿠폰 미사용자 전체 매출\n",
        "r = -type_amount_total_Ref.loc['REFUND','transaction_amount'] # 총 환불액\n",
        "print(f'환불 0%일 때 매출 : {tp + r}')\n",
        "print(f'현재 전체 매출 : {tp}\\n')\n",
        "print(f'모든 쿠폰 미사용자가 5% 쿠폰 사용 시 매출 : {\"%.2f\"%((tp-np)+(np + r)*0.95)}')\n",
        "print(f'모든 쿠폰 미사용자가 5% 쿠폰 사용 시 매출 상승률 : {\"%.2f\"%(((tp-np)+(np + r)*0.95)/tp*100-100)}%\\n')\n",
        "print(f'모든 쿠폰 미사용자가 10% 쿠폰 사용 시 매출 : {(tp-np)+(np + r)*0.9}')\n",
        "print(f'모든 쿠폰 미사용자가 10% 쿠폰 사용 시 매출 상승률 : {\"%.2f\"%(((tp-np)+(np + r)*0.9)/tp*100-100)}%')"
      ],
      "metadata": {
        "colab": {
          "base_uri": "https://localhost:8080/"
        },
        "id": "sSDsPjhmwMJJ",
        "outputId": "6497c1e7-72fc-4d18-eb6e-f5ac05554b07"
      },
      "id": "sSDsPjhmwMJJ",
      "execution_count": null,
      "outputs": [
        {
          "output_type": "stream",
          "name": "stdout",
          "text": [
            "환불 0%일 때 매출 : 4951189112\n",
            "현재 전체 매출 : 4391197800\n",
            "\n",
            "모든 쿠폰 미사용자가 5% 쿠폰 사용 시 매출 : 4784302316.15\n",
            "모든 쿠폰 미사용자가 5% 쿠폰 사용 시 매출 상승률 : 8.95%\n",
            "\n",
            "모든 쿠폰 미사용자가 10% 쿠폰 사용 시 매출 : 4617415520.3\n",
            "모든 쿠폰 미사용자가 10% 쿠폰 사용 시 매출 상승률 : 5.15%\n"
          ]
        }
      ]
    },
    {
      "cell_type": "markdown",
      "source": [
        "모든 쿠폰 미사용자에게 5\\~10% 쿠폰을 사용하게 할 시 약 5 ~ 9%의 매출 상승을 기대할 수 있다.\n",
        "\n",
        "따라서 결제 중 쿠폰 미사용자에게 쿠폰을 사용하라는 메시지와 할인 금액을 띄운다면\n",
        "\n",
        "쿠폰 사용율을 늘리고 환불율을 줄여 매출 상승의 효과를 기대할 수 있을 것이다."
      ],
      "metadata": {
        "id": "qRxidLYo2zbZ"
      },
      "id": "qRxidLYo2zbZ"
    },
    {
      "cell_type": "code",
      "source": [
        "# 카테고리 별 환불 횟수\n",
        "fig = plt.figure(figsize=(10,6))\n",
        "sns.countplot( data = df_refund, x = 'category_title' , \n",
        "              order = df_refund['category_title'].value_counts().index )"
      ],
      "metadata": {
        "id": "H6tkNA6LN5WQ"
      },
      "id": "H6tkNA6LN5WQ",
      "execution_count": null,
      "outputs": []
    },
    {
      "cell_type": "markdown",
      "source": [
        "환불 비율이 높은 카테고리의 강의의 질을 개선하여 해결한다."
      ],
      "metadata": {
        "id": "BLpZlzWGgaf8"
      },
      "id": "BLpZlzWGgaf8"
    },
    {
      "cell_type": "code",
      "source": [
        "# 카테고리 별 환불 비율 그래프\n",
        "df_refund_rate.plot.bar(figsize = (15,6)) "
      ],
      "metadata": {
        "id": "KYepdoBrWt4U"
      },
      "execution_count": null,
      "outputs": [],
      "id": "KYepdoBrWt4U"
    },
    {
      "cell_type": "code",
      "source": [
        "# 카테고리 별 환불 비율\n",
        "df_refund_rate = df_refund['category_title'].value_counts()/df_ORDER_delete['category_title'].value_counts()*100 \n",
        "df_refund_rate = df_refund_rate.sort_values(ascending=False)\n",
        "df_refund_rate = df_refund_rate.dropna()\n",
        "df_refund_rate"
      ],
      "metadata": {
        "id": "Cd8_mebzN5TJ"
      },
      "execution_count": null,
      "outputs": [],
      "id": "Cd8_mebzN5TJ"
    }
  ],
  "metadata": {
    "kernelspec": {
      "display_name": "Python 3",
      "language": "python",
      "name": "python3"
    },
    "language_info": {
      "codemirror_mode": {
        "name": "ipython",
        "version": 3
      },
      "file_extension": ".py",
      "mimetype": "text/x-python",
      "name": "python",
      "nbconvert_exporter": "python",
      "pygments_lexer": "ipython3",
      "version": "3.8.8"
    },
    "toc": {
      "base_numbering": 1,
      "nav_menu": {},
      "number_sections": true,
      "sideBar": true,
      "skip_h1_title": false,
      "title_cell": "Table of Contents",
      "title_sidebar": "Contents",
      "toc_cell": false,
      "toc_position": {},
      "toc_section_display": true,
      "toc_window_display": false
    },
    "colab": {
      "name": "정구범_패스트캠퍼스_데이터분석.ipynb",
      "provenance": [],
      "collapsed_sections": [],
      "toc_visible": true,
      "include_colab_link": true
    }
  },
  "nbformat": 4,
  "nbformat_minor": 5
}