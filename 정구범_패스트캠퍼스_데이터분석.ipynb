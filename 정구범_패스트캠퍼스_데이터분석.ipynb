{
  "cells": [
    {
      "cell_type": "markdown",
      "metadata": {
        "id": "view-in-github",
        "colab_type": "text"
      },
      "source": [
        "<a href=\"https://colab.research.google.com/github/wjdrnqja9/TIL/blob/main/%EC%A0%95%EA%B5%AC%EB%B2%94_%ED%8C%A8%EC%8A%A4%ED%8A%B8%EC%BA%A0%ED%8D%BC%EC%8A%A4_%EB%8D%B0%EC%9D%B4%ED%84%B0%EB%B6%84%EC%84%9D.ipynb\" target=\"_parent\"><img src=\"https://colab.research.google.com/assets/colab-badge.svg\" alt=\"Open In Colab\"/></a>"
      ]
    },
    {
      "cell_type": "code",
      "source": [
        "from google.colab import drive\n",
        "drive.mount('/content/drive')"
      ],
      "metadata": {
        "colab": {
          "base_uri": "https://localhost:8080/"
        },
        "id": "WjzebyzrjXmU",
        "outputId": "d12a73c5-e3a7-4696-f089-1563c03a79be"
      },
      "id": "WjzebyzrjXmU",
      "execution_count": 1,
      "outputs": [
        {
          "output_type": "stream",
          "name": "stdout",
          "text": [
            "Drive already mounted at /content/drive; to attempt to forcibly remount, call drive.mount(\"/content/drive\", force_remount=True).\n"
          ]
        }
      ]
    },
    {
      "cell_type": "code",
      "execution_count": 2,
      "id": "591915dd",
      "metadata": {
        "id": "591915dd"
      },
      "outputs": [],
      "source": [
        "import pandas as pd\n",
        "import numpy as np\n",
        "import matplotlib.pyplot as plt\n",
        "import seaborn as sns\n",
        "import datetime"
      ]
    },
    {
      "cell_type": "code",
      "source": [
        "# 한글 글꼴 설치 \n",
        "!sudo apt-get install -y fonts-nanum\n",
        "!sudo fc-cache -fv\n",
        "!rm ~/.cache/matplotlib -rf\n",
        "plt.rc('font', family='NanumBarunGothic')"
      ],
      "metadata": {
        "colab": {
          "base_uri": "https://localhost:8080/"
        },
        "id": "i8I4_S3Re_Ya",
        "outputId": "e9f762f9-2ca1-4f72-b3c8-dd2c93ea7a3e"
      },
      "id": "i8I4_S3Re_Ya",
      "execution_count": 3,
      "outputs": [
        {
          "output_type": "stream",
          "name": "stdout",
          "text": [
            "Reading package lists... Done\n",
            "Building dependency tree       \n",
            "Reading state information... Done\n",
            "fonts-nanum is already the newest version (20170925-1).\n",
            "The following packages were automatically installed and are no longer required:\n",
            "  libnvidia-common-460 nsight-compute-2020.2.0\n",
            "Use 'sudo apt autoremove' to remove them.\n",
            "0 upgraded, 0 newly installed, 0 to remove and 42 not upgraded.\n",
            "/usr/share/fonts: caching, new cache contents: 0 fonts, 1 dirs\n",
            "/usr/share/fonts/truetype: caching, new cache contents: 0 fonts, 3 dirs\n",
            "/usr/share/fonts/truetype/humor-sans: caching, new cache contents: 1 fonts, 0 dirs\n",
            "/usr/share/fonts/truetype/liberation: caching, new cache contents: 16 fonts, 0 dirs\n",
            "/usr/share/fonts/truetype/nanum: caching, new cache contents: 10 fonts, 0 dirs\n",
            "/usr/local/share/fonts: caching, new cache contents: 0 fonts, 0 dirs\n",
            "/root/.local/share/fonts: skipping, no such directory\n",
            "/root/.fonts: skipping, no such directory\n",
            "/var/cache/fontconfig: cleaning cache directory\n",
            "/root/.cache/fontconfig: not cleaning non-existent cache directory\n",
            "/root/.fontconfig: not cleaning non-existent cache directory\n",
            "fc-cache: succeeded\n"
          ]
        }
      ]
    },
    {
      "cell_type": "code",
      "execution_count": 4,
      "id": "f51d6094",
      "metadata": {
        "colab": {
          "base_uri": "https://localhost:8080/",
          "height": 496
        },
        "id": "f51d6094",
        "outputId": "6867ef1d-7aa6-42e0-c208-c52c5a8d2a23"
      },
      "outputs": [
        {
          "output_type": "execute_result",
          "data": {
            "text/plain": [
              "       id  customer_id  course_id     type      state  \\\n",
              "0  970634     504760.0   201435.0    ORDER  CANCELLED   \n",
              "1  970650     432862.0   203178.0    ORDER  CANCELLED   \n",
              "2  970657      72297.0   204246.0  PAYMENT  COMPLETED   \n",
              "3  970656      72297.0   204246.0    ORDER  CANCELLED   \n",
              "4  970658     478028.0   201797.0  PAYMENT  COMPLETED   \n",
              "\n",
              "                    course_title category_title  format        completed_at  \\\n",
              "0      올인원 패키지 : 알고리즘 기술면접 완전 정복          프로그래밍     올인원 2021-03-28 15:00:11   \n",
              "1    초격차 패키지 : 한번에 끝내는 영상 촬영과 편집          영상/3D     올인원 2021-03-28 15:16:53   \n",
              "2           시크릿코드 : 프론트엔드 실무 완성편          프로그래밍  스쿨 온라인 2021-03-28 15:21:43   \n",
              "3           시크릿코드 : 프론트엔드 실무 완성편          프로그래밍  스쿨 온라인 2021-03-28 15:21:43   \n",
              "4  올인원 패키지 : 직장인 필수 스킬 3종 세트 MAX         업무 생산성     올인원 2021-03-28 15:21:54   \n",
              "\n",
              "   transaction_amount              coupon_title  coupon_discount_amount  \\\n",
              "0               90500                       NaN                     NaN   \n",
              "1               96000                       NaN                     NaN   \n",
              "2              171810     [10% 할인] 시크릿코드 실무 완성편                 19090.0   \n",
              "3              171810                       NaN                     NaN   \n",
              "4               97500  [웰컴쿠폰] 올인원 패키지 2만원 할인 쿠폰                 20000.0   \n",
              "\n",
              "   sale_price  tax_free_amount   pg method subcategory_title  \\\n",
              "0    110500.0         110500.0  NaN  VBANK           개발자 커리어   \n",
              "1    116000.0         116000.0  NaN   CARD             영상 편집   \n",
              "2    190900.0         190900.0  NaN   CARD               NaN   \n",
              "3    190900.0         190900.0  NaN   CARD               NaN   \n",
              "4    117500.0         117500.0  NaN   CARD           PPT/보고서   \n",
              "\n",
              "  marketing_start_at  \n",
              "0                NaT  \n",
              "1         2020-12-02  \n",
              "2         2021-03-04  \n",
              "3         2021-03-04  \n",
              "4         2019-11-14  "
            ],
            "text/html": [
              "\n",
              "  <div id=\"df-f033956d-e889-4246-9c9c-af13abbc0351\">\n",
              "    <div class=\"colab-df-container\">\n",
              "      <div>\n",
              "<style scoped>\n",
              "    .dataframe tbody tr th:only-of-type {\n",
              "        vertical-align: middle;\n",
              "    }\n",
              "\n",
              "    .dataframe tbody tr th {\n",
              "        vertical-align: top;\n",
              "    }\n",
              "\n",
              "    .dataframe thead th {\n",
              "        text-align: right;\n",
              "    }\n",
              "</style>\n",
              "<table border=\"1\" class=\"dataframe\">\n",
              "  <thead>\n",
              "    <tr style=\"text-align: right;\">\n",
              "      <th></th>\n",
              "      <th>id</th>\n",
              "      <th>customer_id</th>\n",
              "      <th>course_id</th>\n",
              "      <th>type</th>\n",
              "      <th>state</th>\n",
              "      <th>course_title</th>\n",
              "      <th>category_title</th>\n",
              "      <th>format</th>\n",
              "      <th>completed_at</th>\n",
              "      <th>transaction_amount</th>\n",
              "      <th>coupon_title</th>\n",
              "      <th>coupon_discount_amount</th>\n",
              "      <th>sale_price</th>\n",
              "      <th>tax_free_amount</th>\n",
              "      <th>pg</th>\n",
              "      <th>method</th>\n",
              "      <th>subcategory_title</th>\n",
              "      <th>marketing_start_at</th>\n",
              "    </tr>\n",
              "  </thead>\n",
              "  <tbody>\n",
              "    <tr>\n",
              "      <th>0</th>\n",
              "      <td>970634</td>\n",
              "      <td>504760.0</td>\n",
              "      <td>201435.0</td>\n",
              "      <td>ORDER</td>\n",
              "      <td>CANCELLED</td>\n",
              "      <td>올인원 패키지 : 알고리즘 기술면접 완전 정복</td>\n",
              "      <td>프로그래밍</td>\n",
              "      <td>올인원</td>\n",
              "      <td>2021-03-28 15:00:11</td>\n",
              "      <td>90500</td>\n",
              "      <td>NaN</td>\n",
              "      <td>NaN</td>\n",
              "      <td>110500.0</td>\n",
              "      <td>110500.0</td>\n",
              "      <td>NaN</td>\n",
              "      <td>VBANK</td>\n",
              "      <td>개발자 커리어</td>\n",
              "      <td>NaT</td>\n",
              "    </tr>\n",
              "    <tr>\n",
              "      <th>1</th>\n",
              "      <td>970650</td>\n",
              "      <td>432862.0</td>\n",
              "      <td>203178.0</td>\n",
              "      <td>ORDER</td>\n",
              "      <td>CANCELLED</td>\n",
              "      <td>초격차 패키지 : 한번에 끝내는 영상 촬영과 편집</td>\n",
              "      <td>영상/3D</td>\n",
              "      <td>올인원</td>\n",
              "      <td>2021-03-28 15:16:53</td>\n",
              "      <td>96000</td>\n",
              "      <td>NaN</td>\n",
              "      <td>NaN</td>\n",
              "      <td>116000.0</td>\n",
              "      <td>116000.0</td>\n",
              "      <td>NaN</td>\n",
              "      <td>CARD</td>\n",
              "      <td>영상 편집</td>\n",
              "      <td>2020-12-02</td>\n",
              "    </tr>\n",
              "    <tr>\n",
              "      <th>2</th>\n",
              "      <td>970657</td>\n",
              "      <td>72297.0</td>\n",
              "      <td>204246.0</td>\n",
              "      <td>PAYMENT</td>\n",
              "      <td>COMPLETED</td>\n",
              "      <td>시크릿코드 : 프론트엔드 실무 완성편</td>\n",
              "      <td>프로그래밍</td>\n",
              "      <td>스쿨 온라인</td>\n",
              "      <td>2021-03-28 15:21:43</td>\n",
              "      <td>171810</td>\n",
              "      <td>[10% 할인] 시크릿코드 실무 완성편</td>\n",
              "      <td>19090.0</td>\n",
              "      <td>190900.0</td>\n",
              "      <td>190900.0</td>\n",
              "      <td>NaN</td>\n",
              "      <td>CARD</td>\n",
              "      <td>NaN</td>\n",
              "      <td>2021-03-04</td>\n",
              "    </tr>\n",
              "    <tr>\n",
              "      <th>3</th>\n",
              "      <td>970656</td>\n",
              "      <td>72297.0</td>\n",
              "      <td>204246.0</td>\n",
              "      <td>ORDER</td>\n",
              "      <td>CANCELLED</td>\n",
              "      <td>시크릿코드 : 프론트엔드 실무 완성편</td>\n",
              "      <td>프로그래밍</td>\n",
              "      <td>스쿨 온라인</td>\n",
              "      <td>2021-03-28 15:21:43</td>\n",
              "      <td>171810</td>\n",
              "      <td>NaN</td>\n",
              "      <td>NaN</td>\n",
              "      <td>190900.0</td>\n",
              "      <td>190900.0</td>\n",
              "      <td>NaN</td>\n",
              "      <td>CARD</td>\n",
              "      <td>NaN</td>\n",
              "      <td>2021-03-04</td>\n",
              "    </tr>\n",
              "    <tr>\n",
              "      <th>4</th>\n",
              "      <td>970658</td>\n",
              "      <td>478028.0</td>\n",
              "      <td>201797.0</td>\n",
              "      <td>PAYMENT</td>\n",
              "      <td>COMPLETED</td>\n",
              "      <td>올인원 패키지 : 직장인 필수 스킬 3종 세트 MAX</td>\n",
              "      <td>업무 생산성</td>\n",
              "      <td>올인원</td>\n",
              "      <td>2021-03-28 15:21:54</td>\n",
              "      <td>97500</td>\n",
              "      <td>[웰컴쿠폰] 올인원 패키지 2만원 할인 쿠폰</td>\n",
              "      <td>20000.0</td>\n",
              "      <td>117500.0</td>\n",
              "      <td>117500.0</td>\n",
              "      <td>NaN</td>\n",
              "      <td>CARD</td>\n",
              "      <td>PPT/보고서</td>\n",
              "      <td>2019-11-14</td>\n",
              "    </tr>\n",
              "  </tbody>\n",
              "</table>\n",
              "</div>\n",
              "      <button class=\"colab-df-convert\" onclick=\"convertToInteractive('df-f033956d-e889-4246-9c9c-af13abbc0351')\"\n",
              "              title=\"Convert this dataframe to an interactive table.\"\n",
              "              style=\"display:none;\">\n",
              "        \n",
              "  <svg xmlns=\"http://www.w3.org/2000/svg\" height=\"24px\"viewBox=\"0 0 24 24\"\n",
              "       width=\"24px\">\n",
              "    <path d=\"M0 0h24v24H0V0z\" fill=\"none\"/>\n",
              "    <path d=\"M18.56 5.44l.94 2.06.94-2.06 2.06-.94-2.06-.94-.94-2.06-.94 2.06-2.06.94zm-11 1L8.5 8.5l.94-2.06 2.06-.94-2.06-.94L8.5 2.5l-.94 2.06-2.06.94zm10 10l.94 2.06.94-2.06 2.06-.94-2.06-.94-.94-2.06-.94 2.06-2.06.94z\"/><path d=\"M17.41 7.96l-1.37-1.37c-.4-.4-.92-.59-1.43-.59-.52 0-1.04.2-1.43.59L10.3 9.45l-7.72 7.72c-.78.78-.78 2.05 0 2.83L4 21.41c.39.39.9.59 1.41.59.51 0 1.02-.2 1.41-.59l7.78-7.78 2.81-2.81c.8-.78.8-2.07 0-2.86zM5.41 20L4 18.59l7.72-7.72 1.47 1.35L5.41 20z\"/>\n",
              "  </svg>\n",
              "      </button>\n",
              "      \n",
              "  <style>\n",
              "    .colab-df-container {\n",
              "      display:flex;\n",
              "      flex-wrap:wrap;\n",
              "      gap: 12px;\n",
              "    }\n",
              "\n",
              "    .colab-df-convert {\n",
              "      background-color: #E8F0FE;\n",
              "      border: none;\n",
              "      border-radius: 50%;\n",
              "      cursor: pointer;\n",
              "      display: none;\n",
              "      fill: #1967D2;\n",
              "      height: 32px;\n",
              "      padding: 0 0 0 0;\n",
              "      width: 32px;\n",
              "    }\n",
              "\n",
              "    .colab-df-convert:hover {\n",
              "      background-color: #E2EBFA;\n",
              "      box-shadow: 0px 1px 2px rgba(60, 64, 67, 0.3), 0px 1px 3px 1px rgba(60, 64, 67, 0.15);\n",
              "      fill: #174EA6;\n",
              "    }\n",
              "\n",
              "    [theme=dark] .colab-df-convert {\n",
              "      background-color: #3B4455;\n",
              "      fill: #D2E3FC;\n",
              "    }\n",
              "\n",
              "    [theme=dark] .colab-df-convert:hover {\n",
              "      background-color: #434B5C;\n",
              "      box-shadow: 0px 1px 3px 1px rgba(0, 0, 0, 0.15);\n",
              "      filter: drop-shadow(0px 1px 2px rgba(0, 0, 0, 0.3));\n",
              "      fill: #FFFFFF;\n",
              "    }\n",
              "  </style>\n",
              "\n",
              "      <script>\n",
              "        const buttonEl =\n",
              "          document.querySelector('#df-f033956d-e889-4246-9c9c-af13abbc0351 button.colab-df-convert');\n",
              "        buttonEl.style.display =\n",
              "          google.colab.kernel.accessAllowed ? 'block' : 'none';\n",
              "\n",
              "        async function convertToInteractive(key) {\n",
              "          const element = document.querySelector('#df-f033956d-e889-4246-9c9c-af13abbc0351');\n",
              "          const dataTable =\n",
              "            await google.colab.kernel.invokeFunction('convertToInteractive',\n",
              "                                                     [key], {});\n",
              "          if (!dataTable) return;\n",
              "\n",
              "          const docLinkHtml = 'Like what you see? Visit the ' +\n",
              "            '<a target=\"_blank\" href=https://colab.research.google.com/notebooks/data_table.ipynb>data table notebook</a>'\n",
              "            + ' to learn more about interactive tables.';\n",
              "          element.innerHTML = '';\n",
              "          dataTable['output_type'] = 'display_data';\n",
              "          await google.colab.output.renderOutput(dataTable, element);\n",
              "          const docLink = document.createElement('div');\n",
              "          docLink.innerHTML = docLinkHtml;\n",
              "          element.appendChild(docLink);\n",
              "        }\n",
              "      </script>\n",
              "    </div>\n",
              "  </div>\n",
              "  "
            ]
          },
          "metadata": {},
          "execution_count": 4
        }
      ],
      "source": [
        "df = pd.read_excel('/content/drive/MyDrive/Colab Notebooks/패스트캠퍼스 데이터분석/파이널프로젝트_RAW_210329_210926.xlsx')\n",
        "df.head()"
      ]
    },
    {
      "cell_type": "markdown",
      "id": "f3a595ee",
      "metadata": {
        "id": "f3a595ee"
      },
      "source": [
        "## 데이터 타입과 결측값 확인하기"
      ]
    },
    {
      "cell_type": "code",
      "execution_count": 296,
      "id": "9fef4f2e",
      "metadata": {
        "colab": {
          "base_uri": "https://localhost:8080/"
        },
        "id": "9fef4f2e",
        "outputId": "2ec2c8f9-cbae-441b-d3d8-c476e22049ad"
      },
      "outputs": [
        {
          "output_type": "stream",
          "name": "stdout",
          "text": [
            "<class 'pandas.core.frame.DataFrame'>\n",
            "RangeIndex: 105419 entries, 0 to 105418\n",
            "Data columns (total 18 columns):\n",
            " #   Column                  Non-Null Count   Dtype         \n",
            "---  ------                  --------------   -----         \n",
            " 0   id                      105419 non-null  int64         \n",
            " 1   customer_id             105416 non-null  float64       \n",
            " 2   course_id               100212 non-null  float64       \n",
            " 3   type                    105419 non-null  object        \n",
            " 4   state                   105419 non-null  object        \n",
            " 5   course_title            105403 non-null  object        \n",
            " 6   category_title          105395 non-null  object        \n",
            " 7   format                  105403 non-null  object        \n",
            " 8   completed_at            105419 non-null  datetime64[ns]\n",
            " 9   transaction_amount      105419 non-null  int64         \n",
            " 10  coupon_title            31817 non-null   object        \n",
            " 11  coupon_discount_amount  31817 non-null   float64       \n",
            " 12  sale_price              104291 non-null  float64       \n",
            " 13  tax_free_amount         104291 non-null  float64       \n",
            " 14  pg                      90344 non-null   object        \n",
            " 15  method                  92323 non-null   object        \n",
            " 16  subcategory_title       85590 non-null   object        \n",
            " 17  marketing_start_at      87440 non-null   datetime64[ns]\n",
            "dtypes: datetime64[ns](2), float64(5), int64(2), object(9)\n",
            "memory usage: 14.5+ MB\n"
          ]
        }
      ],
      "source": [
        "df.info()"
      ]
    },
    {
      "cell_type": "code",
      "source": [
        "df.isna().sum()"
      ],
      "metadata": {
        "colab": {
          "base_uri": "https://localhost:8080/"
        },
        "id": "J0BJmsfRgUa1",
        "outputId": "6e1619e5-2fe4-4d5f-89ba-49e5f3764101"
      },
      "id": "J0BJmsfRgUa1",
      "execution_count": 297,
      "outputs": [
        {
          "output_type": "execute_result",
          "data": {
            "text/plain": [
              "id                            0\n",
              "customer_id                   3\n",
              "course_id                  5207\n",
              "type                          0\n",
              "state                         0\n",
              "course_title                 16\n",
              "category_title               24\n",
              "format                       16\n",
              "completed_at                  0\n",
              "transaction_amount            0\n",
              "coupon_title              73602\n",
              "coupon_discount_amount    73602\n",
              "sale_price                 1128\n",
              "tax_free_amount            1128\n",
              "pg                        15075\n",
              "method                    13096\n",
              "subcategory_title         19829\n",
              "marketing_start_at        17979\n",
              "dtype: int64"
            ]
          },
          "metadata": {},
          "execution_count": 297
        }
      ]
    },
    {
      "cell_type": "markdown",
      "id": "14bc6b5a",
      "metadata": {
        "id": "14bc6b5a"
      },
      "source": [
        "## 데이터 분포 확인하기"
      ]
    },
    {
      "cell_type": "code",
      "source": [
        "df['type'].unique()"
      ],
      "metadata": {
        "colab": {
          "base_uri": "https://localhost:8080/"
        },
        "id": "2qKDdfcu_QUU",
        "outputId": "b663d486-b844-4abe-f4f5-d88b7f1dc311"
      },
      "id": "2qKDdfcu_QUU",
      "execution_count": null,
      "outputs": [
        {
          "output_type": "execute_result",
          "data": {
            "text/plain": [
              "array(['ORDER', 'PAYMENT', 'REFUND', 'TRANSACTION'], dtype=object)"
            ]
          },
          "metadata": {},
          "execution_count": 15
        }
      ]
    },
    {
      "cell_type": "code",
      "source": [
        "df['state'].unique()"
      ],
      "metadata": {
        "colab": {
          "base_uri": "https://localhost:8080/"
        },
        "id": "8XB-JhoO_5ov",
        "outputId": "4df27c48-c7d5-49bd-d310-a8f3ccc75b25"
      },
      "id": "8XB-JhoO_5ov",
      "execution_count": null,
      "outputs": [
        {
          "output_type": "execute_result",
          "data": {
            "text/plain": [
              "array(['CANCELLED', 'COMPLETED', 'PENDING', 'DELETED', 'REQUESTED'],\n",
              "      dtype=object)"
            ]
          },
          "metadata": {},
          "execution_count": 17
        }
      ]
    },
    {
      "cell_type": "code",
      "source": [
        "df['category_title'].unique()"
      ],
      "metadata": {
        "colab": {
          "base_uri": "https://localhost:8080/"
        },
        "id": "Qztim9I2cU9X",
        "outputId": "09666044-c8bb-4f56-ace8-e410d36a6058"
      },
      "id": "Qztim9I2cU9X",
      "execution_count": null,
      "outputs": [
        {
          "output_type": "execute_result",
          "data": {
            "text/plain": [
              "array(['프로그래밍', '영상/3D', '업무 생산성', '크리에이티브', '부동산/금융', '데이터사이언스', '디자인',\n",
              "       '마케팅', '교육', '투자/재테크', nan, '관리', '데이터 사이언스', '비즈니스', '지식콘텐츠',\n",
              "       '일러스트', '파이낸스'], dtype=object)"
            ]
          },
          "metadata": {},
          "execution_count": 20
        }
      ]
    },
    {
      "cell_type": "code",
      "source": [
        "df['format'].unique()"
      ],
      "metadata": {
        "colab": {
          "base_uri": "https://localhost:8080/"
        },
        "id": "ED0OlE-JbymN",
        "outputId": "44be0e1b-cd68-4d12-de72-3e08d20ceab9"
      },
      "id": "ED0OlE-JbymN",
      "execution_count": null,
      "outputs": [
        {
          "output_type": "execute_result",
          "data": {
            "text/plain": [
              "array(['올인원', '스쿨 온라인', '온라인 완주반', 'RED', 'B2B 온라인', '캠프', '스쿨', nan,\n",
              "       'B2B', '이벤트', '하루10분컷', '아카이브', '관리', '온라인', 'MBA', '콜로소', 'B2G'],\n",
              "      dtype=object)"
            ]
          },
          "metadata": {},
          "execution_count": 22
        }
      ]
    },
    {
      "cell_type": "code",
      "source": [
        "df['method'].unique()"
      ],
      "metadata": {
        "colab": {
          "base_uri": "https://localhost:8080/"
        },
        "id": "TVJK8S-eb8OM",
        "outputId": "4bfd42e9-a2c4-49bc-ef6f-435c89a6d912"
      },
      "id": "TVJK8S-eb8OM",
      "execution_count": null,
      "outputs": [
        {
          "output_type": "execute_result",
          "data": {
            "text/plain": [
              "array(['VBANK', 'CARD', 'TRANS', 'PROMOTION', 'TRANSFER', 'ONSITE',\n",
              "       'B2B_CONTRACT', nan, 'POINT', 'VOUCHER'], dtype=object)"
            ]
          },
          "metadata": {},
          "execution_count": 32
        }
      ]
    },
    {
      "cell_type": "code",
      "source": [
        "df['subcategory_title'].unique()"
      ],
      "metadata": {
        "colab": {
          "base_uri": "https://localhost:8080/"
        },
        "id": "U6-ZaaWDcCkC",
        "outputId": "f8d5e46a-2ca3-4ca4-b74e-323ebe88f8c4"
      },
      "id": "U6-ZaaWDcCkC",
      "execution_count": null,
      "outputs": [
        {
          "output_type": "execute_result",
          "data": {
            "text/plain": [
              "array(['개발자 커리어', '영상 편집', nan, 'PPT/보고서', '금융/투자 실무', '프론트엔드 개발',\n",
              "       'DevOps', 'UX/UI', '머신러닝', '모션그래픽', '딥러닝/인공지능', '글쓰기/카피라이팅',\n",
              "       '디지털마케팅', '엑셀/VBA', '데이터분석', '디자인툴', '모바일앱', '업무자동화', 'SNS마케팅',\n",
              "       '게임', '회계/재무/세무', '부동산 개발', '시각디자인', '백엔드 개발', '데이터마케팅', '일러스트',\n",
              "       '부동산 투자', '코딩 입문', '커뮤니케이션', '리더십', '주식 투자', '게임 그래픽', '데이터엔지니어링',\n",
              "       'VFX'], dtype=object)"
            ]
          },
          "metadata": {},
          "execution_count": 34
        }
      ]
    },
    {
      "cell_type": "code",
      "source": [
        ""
      ],
      "metadata": {
        "id": "wOq7xcGb8uH8"
      },
      "id": "wOq7xcGb8uH8",
      "execution_count": null,
      "outputs": []
    },
    {
      "cell_type": "markdown",
      "source": [
        "##카테고리 관련 데이터"
      ],
      "metadata": {
        "id": "iDEZyFFlivwT"
      },
      "id": "iDEZyFFlivwT"
    },
    {
      "cell_type": "code",
      "source": [
        "# 개인 사용자들의 데이터를 확인하기 위해 format에서 기업교육 계약, 정부 사업인 B2B, B2G 제거 후 시작\n",
        "df = df[df.format.isin(['B2B', 'B2B 온라인', 'B2G'])==False]  "
      ],
      "metadata": {
        "id": "6wrRTti09Qxq"
      },
      "id": "6wrRTti09Qxq",
      "execution_count": 5,
      "outputs": []
    },
    {
      "cell_type": "code",
      "source": [
        "# 카테고리  별 강의 구매 횟수\n",
        "catitle = df[\"category_title\"].value_counts()\n",
        "catitle"
      ],
      "metadata": {
        "colab": {
          "base_uri": "https://localhost:8080/"
        },
        "id": "w3mzaKAvti5F",
        "outputId": "69d877f5-4736-4aef-808a-3b35eb870394"
      },
      "id": "w3mzaKAvti5F",
      "execution_count": 6,
      "outputs": [
        {
          "output_type": "execute_result",
          "data": {
            "text/plain": [
              "프로그래밍       33067\n",
              "데이터사이언스     14029\n",
              "업무 생산성      13317\n",
              "디자인         12009\n",
              "영상/3D       10260\n",
              "마케팅          9845\n",
              "부동산/금융       5518\n",
              "투자/재테크       2501\n",
              "크리에이티브       2231\n",
              "지식콘텐츠          56\n",
              "비즈니스           40\n",
              "파이낸스           24\n",
              "데이터 사이언스        9\n",
              "관리              2\n",
              "일러스트            1\n",
              "Name: category_title, dtype: int64"
            ]
          },
          "metadata": {},
          "execution_count": 6
        }
      ]
    },
    {
      "cell_type": "code",
      "source": [
        "# 카테고리 별 강의 구매 횟수 시각화\n",
        "fig = plt.figure(figsize=(15,8))\n",
        "sns.countplot( data = df, x = 'category_title' , \n",
        "              order = df['category_title'].value_counts().index )"
      ],
      "metadata": {
        "colab": {
          "base_uri": "https://localhost:8080/",
          "height": 515
        },
        "id": "SJOo5gTM4MZQ",
        "outputId": "efc33712-e30f-4a90-acef-f8ca54d5610e"
      },
      "id": "SJOo5gTM4MZQ",
      "execution_count": 7,
      "outputs": [
        {
          "output_type": "execute_result",
          "data": {
            "text/plain": [
              "<matplotlib.axes._subplots.AxesSubplot at 0x7ff7324544d0>"
            ]
          },
          "metadata": {},
          "execution_count": 7
        },
        {
          "output_type": "display_data",
          "data": {
            "text/plain": [
              "<Figure size 1080x576 with 1 Axes>"
            ],
            "image/png": "[encoded data removed]"
          },
          "metadata": {
            "needs_background": "light"
          }
        }
      ]
    },
    {
      "cell_type": "markdown",
      "source": [
        "프로그래밍 관련 강의가 가장 많이 팔렸다."
      ],
      "metadata": {
        "id": "qgbuCckXEGYq"
      },
      "id": "qgbuCckXEGYq"
    },
    {
      "cell_type": "code",
      "source": [
        "# 서브카테고리 별 강의 구매 횟수 시각화\n",
        "fig = plt.figure(figsize=(40,8))\n",
        "sns.countplot(data = df, x = \"subcategory_title\", \n",
        "              order = df['subcategory_title'].value_counts().index)"
      ],
      "metadata": {
        "colab": {
          "base_uri": "https://localhost:8080/",
          "height": 302
        },
        "id": "yp9S9fy19Cth",
        "outputId": "240049cc-b1bb-4225-e8bc-13554b7f5a53"
      },
      "execution_count": 8,
      "outputs": [
        {
          "output_type": "execute_result",
          "data": {
            "text/plain": [
              "<matplotlib.axes._subplots.AxesSubplot at 0x7ff74af77d10>"
            ]
          },
          "metadata": {},
          "execution_count": 8
        },
        {
          "output_type": "display_data",
          "data": {
            "text/plain": [
              "<Figure size 2880x576 with 1 Axes>"
            ],
            "image/png": "[encoded data removed]"
          },
          "metadata": {
            "needs_background": "light"
          }
        }
      ],
      "id": "yp9S9fy19Cth"
    },
    {
      "cell_type": "markdown",
      "source": [
        "하지만 subcategory로 분류시 영상 편집 강의가 가장 많았다."
      ],
      "metadata": {
        "id": "USr84PAVEM8f"
      },
      "id": "USr84PAVEM8f"
    },
    {
      "cell_type": "code",
      "source": [
        "sub = df.groupby(['category_title', 'subcategory_title'])[['id']].count()\n",
        "sub.head()"
      ],
      "metadata": {
        "colab": {
          "base_uri": "https://localhost:8080/",
          "height": 238
        },
        "id": "iMH0f6fjc3WU",
        "outputId": "95914a27-8452-43a3-b444-d6d2c79fa2c5"
      },
      "execution_count": 9,
      "outputs": [
        {
          "output_type": "execute_result",
          "data": {
            "text/plain": [
              "                                    id\n",
              "category_title subcategory_title      \n",
              "데이터사이언스        데이터분석              4302\n",
              "               데이터엔지니어링            275\n",
              "               딥러닝/인공지능           4590\n",
              "               머신러닝               1958\n",
              "디자인            UX/UI              2775"
            ],
            "text/html": [
              "\n",
              "  <div id=\"df-6598b32f-a163-4c13-b8c8-61a9a0da8946\">\n",
              "    <div class=\"colab-df-container\">\n",
              "      <div>\n",
              "<style scoped>\n",
              "    .dataframe tbody tr th:only-of-type {\n",
              "        vertical-align: middle;\n",
              "    }\n",
              "\n",
              "    .dataframe tbody tr th {\n",
              "        vertical-align: top;\n",
              "    }\n",
              "\n",
              "    .dataframe thead th {\n",
              "        text-align: right;\n",
              "    }\n",
              "</style>\n",
              "<table border=\"1\" class=\"dataframe\">\n",
              "  <thead>\n",
              "    <tr style=\"text-align: right;\">\n",
              "      <th></th>\n",
              "      <th></th>\n",
              "      <th>id</th>\n",
              "    </tr>\n",
              "    <tr>\n",
              "      <th>category_title</th>\n",
              "      <th>subcategory_title</th>\n",
              "      <th></th>\n",
              "    </tr>\n",
              "  </thead>\n",
              "  <tbody>\n",
              "    <tr>\n",
              "      <th rowspan=\"4\" valign=\"top\">데이터사이언스</th>\n",
              "      <th>데이터분석</th>\n",
              "      <td>4302</td>\n",
              "    </tr>\n",
              "    <tr>\n",
              "      <th>데이터엔지니어링</th>\n",
              "      <td>275</td>\n",
              "    </tr>\n",
              "    <tr>\n",
              "      <th>딥러닝/인공지능</th>\n",
              "      <td>4590</td>\n",
              "    </tr>\n",
              "    <tr>\n",
              "      <th>머신러닝</th>\n",
              "      <td>1958</td>\n",
              "    </tr>\n",
              "    <tr>\n",
              "      <th>디자인</th>\n",
              "      <th>UX/UI</th>\n",
              "      <td>2775</td>\n",
              "    </tr>\n",
              "  </tbody>\n",
              "</table>\n",
              "</div>\n",
              "      <button class=\"colab-df-convert\" onclick=\"convertToInteractive('df-6598b32f-a163-4c13-b8c8-61a9a0da8946')\"\n",
              "              title=\"Convert this dataframe to an interactive table.\"\n",
              "              style=\"display:none;\">\n",
              "        \n",
              "  <svg xmlns=\"http://www.w3.org/2000/svg\" height=\"24px\"viewBox=\"0 0 24 24\"\n",
              "       width=\"24px\">\n",
              "    <path d=\"M0 0h24v24H0V0z\" fill=\"none\"/>\n",
              "    <path d=\"M18.56 5.44l.94 2.06.94-2.06 2.06-.94-2.06-.94-.94-2.06-.94 2.06-2.06.94zm-11 1L8.5 8.5l.94-2.06 2.06-.94-2.06-.94L8.5 2.5l-.94 2.06-2.06.94zm10 10l.94 2.06.94-2.06 2.06-.94-2.06-.94-.94-2.06-.94 2.06-2.06.94z\"/><path d=\"M17.41 7.96l-1.37-1.37c-.4-.4-.92-.59-1.43-.59-.52 0-1.04.2-1.43.59L10.3 9.45l-7.72 7.72c-.78.78-.78 2.05 0 2.83L4 21.41c.39.39.9.59 1.41.59.51 0 1.02-.2 1.41-.59l7.78-7.78 2.81-2.81c.8-.78.8-2.07 0-2.86zM5.41 20L4 18.59l7.72-7.72 1.47 1.35L5.41 20z\"/>\n",
              "  </svg>\n",
              "      </button>\n",
              "      \n",
              "  <style>\n",
              "    .colab-df-container {\n",
              "      display:flex;\n",
              "      flex-wrap:wrap;\n",
              "      gap: 12px;\n",
              "    }\n",
              "\n",
              "    .colab-df-convert {\n",
              "      background-color: #E8F0FE;\n",
              "      border: none;\n",
              "      border-radius: 50%;\n",
              "      cursor: pointer;\n",
              "      display: none;\n",
              "      fill: #1967D2;\n",
              "      height: 32px;\n",
              "      padding: 0 0 0 0;\n",
              "      width: 32px;\n",
              "    }\n",
              "\n",
              "    .colab-df-convert:hover {\n",
              "      background-color: #E2EBFA;\n",
              "      box-shadow: 0px 1px 2px rgba(60, 64, 67, 0.3), 0px 1px 3px 1px rgba(60, 64, 67, 0.15);\n",
              "      fill: #174EA6;\n",
              "    }\n",
              "\n",
              "    [theme=dark] .colab-df-convert {\n",
              "      background-color: #3B4455;\n",
              "      fill: #D2E3FC;\n",
              "    }\n",
              "\n",
              "    [theme=dark] .colab-df-convert:hover {\n",
              "      background-color: #434B5C;\n",
              "      box-shadow: 0px 1px 3px 1px rgba(0, 0, 0, 0.15);\n",
              "      filter: drop-shadow(0px 1px 2px rgba(0, 0, 0, 0.3));\n",
              "      fill: #FFFFFF;\n",
              "    }\n",
              "  </style>\n",
              "\n",
              "      <script>\n",
              "        const buttonEl =\n",
              "          document.querySelector('#df-6598b32f-a163-4c13-b8c8-61a9a0da8946 button.colab-df-convert');\n",
              "        buttonEl.style.display =\n",
              "          google.colab.kernel.accessAllowed ? 'block' : 'none';\n",
              "\n",
              "        async function convertToInteractive(key) {\n",
              "          const element = document.querySelector('#df-6598b32f-a163-4c13-b8c8-61a9a0da8946');\n",
              "          const dataTable =\n",
              "            await google.colab.kernel.invokeFunction('convertToInteractive',\n",
              "                                                     [key], {});\n",
              "          if (!dataTable) return;\n",
              "\n",
              "          const docLinkHtml = 'Like what you see? Visit the ' +\n",
              "            '<a target=\"_blank\" href=https://colab.research.google.com/notebooks/data_table.ipynb>data table notebook</a>'\n",
              "            + ' to learn more about interactive tables.';\n",
              "          element.innerHTML = '';\n",
              "          dataTable['output_type'] = 'display_data';\n",
              "          await google.colab.output.renderOutput(dataTable, element);\n",
              "          const docLink = document.createElement('div');\n",
              "          docLink.innerHTML = docLinkHtml;\n",
              "          element.appendChild(docLink);\n",
              "        }\n",
              "      </script>\n",
              "    </div>\n",
              "  </div>\n",
              "  "
            ]
          },
          "metadata": {},
          "execution_count": 9
        }
      ],
      "id": "iMH0f6fjc3WU"
    },
    {
      "cell_type": "code",
      "source": [
        "# 트리맵 해보기"
      ],
      "metadata": {
        "id": "p8Qz_botbHKy"
      },
      "execution_count": null,
      "outputs": [],
      "id": "p8Qz_botbHKy"
    },
    {
      "cell_type": "code",
      "source": [
        "# 카테고리 별 총 수입\n",
        "how = {                                        \n",
        "    'transaction_amount' : np.sum\n",
        "}\n",
        "\n",
        "catr = df.groupby('category_title').agg(how)\n",
        "catr = catr.sort_values('transaction_amount', ascending=False)\n",
        "catr"
      ],
      "metadata": {
        "id": "awv4SkGnYsL4",
        "colab": {
          "base_uri": "https://localhost:8080/",
          "height": 551
        },
        "outputId": "c6894299-c1c3-4f72-8517-4003bed12206"
      },
      "execution_count": 10,
      "outputs": [
        {
          "output_type": "execute_result",
          "data": {
            "text/plain": [
              "                transaction_amount\n",
              "category_title                    \n",
              "프로그래밍                   3685366923\n",
              "데이터사이언스                 2154247670\n",
              "디자인                     1472061828\n",
              "마케팅                     1327429094\n",
              "업무 생산성                  1187949355\n",
              "영상/3D                   1097891580\n",
              "부동산/금융                   944512609\n",
              "크리에이티브                   671730027\n",
              "투자/재테크                   479614745\n",
              "지식콘텐츠                     12777000\n",
              "비즈니스                       9386220\n",
              "파이낸스                       6600000\n",
              "데이터 사이언스                   3106000\n",
              "관리                          300000\n",
              "일러스트                        208000"
            ],
            "text/html": [
              "\n",
              "  <div id=\"df-64d8ebb2-7e83-4743-afec-a6a09a36185b\">\n",
              "    <div class=\"colab-df-container\">\n",
              "      <div>\n",
              "<style scoped>\n",
              "    .dataframe tbody tr th:only-of-type {\n",
              "        vertical-align: middle;\n",
              "    }\n",
              "\n",
              "    .dataframe tbody tr th {\n",
              "        vertical-align: top;\n",
              "    }\n",
              "\n",
              "    .dataframe thead th {\n",
              "        text-align: right;\n",
              "    }\n",
              "</style>\n",
              "<table border=\"1\" class=\"dataframe\">\n",
              "  <thead>\n",
              "    <tr style=\"text-align: right;\">\n",
              "      <th></th>\n",
              "      <th>transaction_amount</th>\n",
              "    </tr>\n",
              "    <tr>\n",
              "      <th>category_title</th>\n",
              "      <th></th>\n",
              "    </tr>\n",
              "  </thead>\n",
              "  <tbody>\n",
              "    <tr>\n",
              "      <th>프로그래밍</th>\n",
              "      <td>3685366923</td>\n",
              "    </tr>\n",
              "    <tr>\n",
              "      <th>데이터사이언스</th>\n",
              "      <td>2154247670</td>\n",
              "    </tr>\n",
              "    <tr>\n",
              "      <th>디자인</th>\n",
              "      <td>1472061828</td>\n",
              "    </tr>\n",
              "    <tr>\n",
              "      <th>마케팅</th>\n",
              "      <td>1327429094</td>\n",
              "    </tr>\n",
              "    <tr>\n",
              "      <th>업무 생산성</th>\n",
              "      <td>1187949355</td>\n",
              "    </tr>\n",
              "    <tr>\n",
              "      <th>영상/3D</th>\n",
              "      <td>1097891580</td>\n",
              "    </tr>\n",
              "    <tr>\n",
              "      <th>부동산/금융</th>\n",
              "      <td>944512609</td>\n",
              "    </tr>\n",
              "    <tr>\n",
              "      <th>크리에이티브</th>\n",
              "      <td>671730027</td>\n",
              "    </tr>\n",
              "    <tr>\n",
              "      <th>투자/재테크</th>\n",
              "      <td>479614745</td>\n",
              "    </tr>\n",
              "    <tr>\n",
              "      <th>지식콘텐츠</th>\n",
              "      <td>12777000</td>\n",
              "    </tr>\n",
              "    <tr>\n",
              "      <th>비즈니스</th>\n",
              "      <td>9386220</td>\n",
              "    </tr>\n",
              "    <tr>\n",
              "      <th>파이낸스</th>\n",
              "      <td>6600000</td>\n",
              "    </tr>\n",
              "    <tr>\n",
              "      <th>데이터 사이언스</th>\n",
              "      <td>3106000</td>\n",
              "    </tr>\n",
              "    <tr>\n",
              "      <th>관리</th>\n",
              "      <td>300000</td>\n",
              "    </tr>\n",
              "    <tr>\n",
              "      <th>일러스트</th>\n",
              "      <td>208000</td>\n",
              "    </tr>\n",
              "  </tbody>\n",
              "</table>\n",
              "</div>\n",
              "      <button class=\"colab-df-convert\" onclick=\"convertToInteractive('df-64d8ebb2-7e83-4743-afec-a6a09a36185b')\"\n",
              "              title=\"Convert this dataframe to an interactive table.\"\n",
              "              style=\"display:none;\">\n",
              "        \n",
              "  <svg xmlns=\"http://www.w3.org/2000/svg\" height=\"24px\"viewBox=\"0 0 24 24\"\n",
              "       width=\"24px\">\n",
              "    <path d=\"M0 0h24v24H0V0z\" fill=\"none\"/>\n",
              "    <path d=\"M18.56 5.44l.94 2.06.94-2.06 2.06-.94-2.06-.94-.94-2.06-.94 2.06-2.06.94zm-11 1L8.5 8.5l.94-2.06 2.06-.94-2.06-.94L8.5 2.5l-.94 2.06-2.06.94zm10 10l.94 2.06.94-2.06 2.06-.94-2.06-.94-.94-2.06-.94 2.06-2.06.94z\"/><path d=\"M17.41 7.96l-1.37-1.37c-.4-.4-.92-.59-1.43-.59-.52 0-1.04.2-1.43.59L10.3 9.45l-7.72 7.72c-.78.78-.78 2.05 0 2.83L4 21.41c.39.39.9.59 1.41.59.51 0 1.02-.2 1.41-.59l7.78-7.78 2.81-2.81c.8-.78.8-2.07 0-2.86zM5.41 20L4 18.59l7.72-7.72 1.47 1.35L5.41 20z\"/>\n",
              "  </svg>\n",
              "      </button>\n",
              "      \n",
              "  <style>\n",
              "    .colab-df-container {\n",
              "      display:flex;\n",
              "      flex-wrap:wrap;\n",
              "      gap: 12px;\n",
              "    }\n",
              "\n",
              "    .colab-df-convert {\n",
              "      background-color: #E8F0FE;\n",
              "      border: none;\n",
              "      border-radius: 50%;\n",
              "      cursor: pointer;\n",
              "      display: none;\n",
              "      fill: #1967D2;\n",
              "      height: 32px;\n",
              "      padding: 0 0 0 0;\n",
              "      width: 32px;\n",
              "    }\n",
              "\n",
              "    .colab-df-convert:hover {\n",
              "      background-color: #E2EBFA;\n",
              "      box-shadow: 0px 1px 2px rgba(60, 64, 67, 0.3), 0px 1px 3px 1px rgba(60, 64, 67, 0.15);\n",
              "      fill: #174EA6;\n",
              "    }\n",
              "\n",
              "    [theme=dark] .colab-df-convert {\n",
              "      background-color: #3B4455;\n",
              "      fill: #D2E3FC;\n",
              "    }\n",
              "\n",
              "    [theme=dark] .colab-df-convert:hover {\n",
              "      background-color: #434B5C;\n",
              "      box-shadow: 0px 1px 3px 1px rgba(0, 0, 0, 0.15);\n",
              "      filter: drop-shadow(0px 1px 2px rgba(0, 0, 0, 0.3));\n",
              "      fill: #FFFFFF;\n",
              "    }\n",
              "  </style>\n",
              "\n",
              "      <script>\n",
              "        const buttonEl =\n",
              "          document.querySelector('#df-64d8ebb2-7e83-4743-afec-a6a09a36185b button.colab-df-convert');\n",
              "        buttonEl.style.display =\n",
              "          google.colab.kernel.accessAllowed ? 'block' : 'none';\n",
              "\n",
              "        async function convertToInteractive(key) {\n",
              "          const element = document.querySelector('#df-64d8ebb2-7e83-4743-afec-a6a09a36185b');\n",
              "          const dataTable =\n",
              "            await google.colab.kernel.invokeFunction('convertToInteractive',\n",
              "                                                     [key], {});\n",
              "          if (!dataTable) return;\n",
              "\n",
              "          const docLinkHtml = 'Like what you see? Visit the ' +\n",
              "            '<a target=\"_blank\" href=https://colab.research.google.com/notebooks/data_table.ipynb>data table notebook</a>'\n",
              "            + ' to learn more about interactive tables.';\n",
              "          element.innerHTML = '';\n",
              "          dataTable['output_type'] = 'display_data';\n",
              "          await google.colab.output.renderOutput(dataTable, element);\n",
              "          const docLink = document.createElement('div');\n",
              "          docLink.innerHTML = docLinkHtml;\n",
              "          element.appendChild(docLink);\n",
              "        }\n",
              "      </script>\n",
              "    </div>\n",
              "  </div>\n",
              "  "
            ]
          },
          "metadata": {},
          "execution_count": 10
        }
      ],
      "id": "awv4SkGnYsL4"
    },
    {
      "cell_type": "code",
      "source": [
        "# 카테고리 별 총 수입 시각화\n",
        "catr.plot.bar(figsize = (15,6))"
      ],
      "metadata": {
        "colab": {
          "base_uri": "https://localhost:8080/",
          "height": 470
        },
        "id": "T6b3S5Vbh6xq",
        "outputId": "670f7f8a-ecab-42cd-a33d-13997f0eef77"
      },
      "execution_count": 11,
      "outputs": [
        {
          "output_type": "execute_result",
          "data": {
            "text/plain": [
              "<matplotlib.axes._subplots.AxesSubplot at 0x7ff732444e90>"
            ]
          },
          "metadata": {},
          "execution_count": 11
        },
        {
          "output_type": "display_data",
          "data": {
            "text/plain": [
              "<Figure size 1080x432 with 1 Axes>"
            ],
            "image/png": "[encoded data removed]"
          },
          "metadata": {
            "needs_background": "light"
          }
        }
      ],
      "id": "T6b3S5Vbh6xq"
    },
    {
      "cell_type": "markdown",
      "source": [
        "수입이 높은 카테고리의 강의 종류, 광고 늘리기"
      ],
      "metadata": {
        "id": "IMpksmDhgIDn"
      },
      "id": "IMpksmDhgIDn"
    },
    {
      "cell_type": "markdown",
      "source": [
        "##재구매 관련 데이터"
      ],
      "metadata": {
        "id": "LhHvf5jGiNkQ"
      },
      "id": "LhHvf5jGiNkQ"
    },
    {
      "cell_type": "code",
      "source": [
        "# 한 사람이 강의를 몇 회 구매했는지 확인\n",
        "df[\"customer_id\"].value_counts() "
      ],
      "metadata": {
        "colab": {
          "base_uri": "https://localhost:8080/"
        },
        "id": "Ktat19PxqkM8",
        "outputId": "f21cbf3e-d62d-48a7-b37c-070abd9ce5e2"
      },
      "id": "Ktat19PxqkM8",
      "execution_count": 12,
      "outputs": [
        {
          "output_type": "execute_result",
          "data": {
            "text/plain": [
              "98685.0     78\n",
              "50769.0     62\n",
              "40783.0     59\n",
              "496508.0    54\n",
              "23171.0     51\n",
              "            ..\n",
              "545656.0     1\n",
              "550306.0     1\n",
              "550303.0     1\n",
              "168905.0     1\n",
              "610626.0     1\n",
              "Name: customer_id, Length: 52178, dtype: int64"
            ]
          },
          "metadata": {},
          "execution_count": 12
        }
      ]
    },
    {
      "cell_type": "code",
      "source": [
        "repeat = df.customer_id.value_counts().loc[df.customer_id.value_counts() >= 2]\n",
        "repeat_index=repeat.index\n",
        "repeat_index"
      ],
      "metadata": {
        "colab": {
          "base_uri": "https://localhost:8080/"
        },
        "id": "hxkaM0N6WbsG",
        "outputId": "eaf74477-eb8f-4351-c4ef-0486e319f2ce"
      },
      "id": "hxkaM0N6WbsG",
      "execution_count": 17,
      "outputs": [
        {
          "output_type": "execute_result",
          "data": {
            "text/plain": [
              "Float64Index([ 98685.0,  50769.0,  40783.0, 496508.0,  23171.0, 427973.0,\n",
              "              158374.0,  20784.0, 106662.0, 276705.0,\n",
              "              ...\n",
              "              403091.0, 639015.0, 605225.0, 519796.0, 113405.0,  48967.0,\n",
              "              173849.0, 526243.0, 463248.0, 172581.0],\n",
              "             dtype='float64', length=24765)"
            ]
          },
          "metadata": {},
          "execution_count": 17
        }
      ]
    },
    {
      "cell_type": "code",
      "source": [
        "df[\"customer_id\"].value_counts() >= 2"
      ],
      "metadata": {
        "colab": {
          "base_uri": "https://localhost:8080/"
        },
        "id": "YViprwu_PHq0",
        "outputId": "5b709e82-df6f-4373-a981-37e3b40cba16"
      },
      "id": "YViprwu_PHq0",
      "execution_count": 18,
      "outputs": [
        {
          "output_type": "execute_result",
          "data": {
            "text/plain": [
              "98685.0      True\n",
              "50769.0      True\n",
              "40783.0      True\n",
              "496508.0     True\n",
              "23171.0      True\n",
              "            ...  \n",
              "545656.0    False\n",
              "550306.0    False\n",
              "550303.0    False\n",
              "168905.0    False\n",
              "610626.0    False\n",
              "Name: customer_id, Length: 52178, dtype: bool"
            ]
          },
          "metadata": {},
          "execution_count": 18
        }
      ]
    },
    {
      "cell_type": "code",
      "source": [
        "# 재구매 시 True, 1회 구매시 False 인 column 생성\n",
        "def repeat_order_func(x) :      \n",
        "\n",
        "    if repeat_index.isin([x]).any()==True:\n",
        "        return True\n",
        "    else:\n",
        "        return False\n",
        "\n",
        "df['repeat_order'] = df['customer_id'].map(repeat_order_func)\n"
      ],
      "metadata": {
        "id": "bDvSSFivPfvS"
      },
      "id": "bDvSSFivPfvS",
      "execution_count": 19,
      "outputs": []
    },
    {
      "cell_type": "code",
      "source": [
        "df['repeat_order'].value_counts()"
      ],
      "metadata": {
        "colab": {
          "base_uri": "https://localhost:8080/"
        },
        "id": "E5Qz7GmQfYM3",
        "outputId": "534d76ca-c9a4-4c9a-ef14-5c9aa95e9f82"
      },
      "id": "E5Qz7GmQfYM3",
      "execution_count": 20,
      "outputs": [
        {
          "output_type": "execute_result",
          "data": {
            "text/plain": [
              "True     75517\n",
              "False    27416\n",
              "Name: repeat_order, dtype: int64"
            ]
          },
          "metadata": {},
          "execution_count": 20
        }
      ]
    },
    {
      "cell_type": "code",
      "source": [
        "# 재구매자만 있는 데이터프레임\n",
        "df_repeat_order = df[df.repeat_order.isin([True])]"
      ],
      "metadata": {
        "id": "0K2FLb-YsKHY"
      },
      "id": "0K2FLb-YsKHY",
      "execution_count": 21,
      "outputs": []
    },
    {
      "cell_type": "code",
      "source": [
        "# 강의를 1회만 구매한 사람 비율\n",
        "re = df.customer_id.value_counts().loc[df.customer_id.value_counts() > 1]  \n",
        "\n",
        "len(re)/len(df.customer_id.value_counts()) * 100"
      ],
      "metadata": {
        "colab": {
          "base_uri": "https://localhost:8080/"
        },
        "id": "B54eX3ZdgB_n",
        "outputId": "48773330-96a3-419b-d350-2696d18d56fc"
      },
      "id": "B54eX3ZdgB_n",
      "execution_count": 22,
      "outputs": [
        {
          "output_type": "execute_result",
          "data": {
            "text/plain": [
              "47.46253210165204"
            ]
          },
          "metadata": {},
          "execution_count": 22
        }
      ]
    },
    {
      "cell_type": "markdown",
      "source": [
        "강의를 2회 이상 구매한 사람이 전체의 약47.5%"
      ],
      "metadata": {
        "id": "sIQcvT0-gWLS"
      },
      "id": "sIQcvT0-gWLS"
    },
    {
      "cell_type": "markdown",
      "source": [
        "###쿠폰 사용"
      ],
      "metadata": {
        "id": "w5kPd6Mxo1iT"
      },
      "id": "w5kPd6Mxo1iT"
    },
    {
      "cell_type": "code",
      "source": [
        "df['coupon_title'].count()"
      ],
      "metadata": {
        "colab": {
          "base_uri": "https://localhost:8080/"
        },
        "id": "1khJUgOLodHR",
        "outputId": "3a26c05e-f2d0-420f-c8ce-ffc2ccd68647"
      },
      "id": "1khJUgOLodHR",
      "execution_count": 23,
      "outputs": [
        {
          "output_type": "execute_result",
          "data": {
            "text/plain": [
              "31779"
            ]
          },
          "metadata": {},
          "execution_count": 23
        }
      ]
    },
    {
      "cell_type": "code",
      "source": [
        "# 강의 구매 시 쿠폰 사용 비율\n",
        "print(df['coupon_title'].count()/(df['coupon_title'].count()+df['coupon_title'].isna().sum())*100)"
      ],
      "metadata": {
        "colab": {
          "base_uri": "https://localhost:8080/"
        },
        "id": "3BBbuo8hh3pO",
        "outputId": "522959be-af9a-4fcb-b387-ea7e5b762a3e"
      },
      "execution_count": 24,
      "outputs": [
        {
          "output_type": "stream",
          "name": "stdout",
          "text": [
            "30.87348080790417\n"
          ]
        }
      ],
      "id": "3BBbuo8hh3pO"
    },
    {
      "cell_type": "code",
      "source": [
        "# 쿠폰 할인율\n",
        "df = df.fillna(0)\n",
        "df['coupon_discount_rate'] = df['coupon_discount_amount']/(df['transaction_amount']+df['coupon_discount_amount'])*100"
      ],
      "metadata": {
        "id": "urz4Tbp0Nb7N"
      },
      "id": "urz4Tbp0Nb7N",
      "execution_count": 27,
      "outputs": []
    },
    {
      "cell_type": "code",
      "source": [
        "# 쿠폰 할인율 별 구분\n",
        "def discount_rate(x) :   \n",
        "    if x == 0:\n",
        "        return \"미사용\"\n",
        "    elif x < 10: \n",
        "        return \"~10%\"\n",
        "    elif x < 20: \n",
        "        return \"~20%\"\n",
        "    elif x < 30: \n",
        "        return \"~30%\"\n",
        "    elif x < 40: \n",
        "        return \"~40%\"\n",
        "    elif x < 50:\n",
        "        return \"~50%\"\n",
        "    elif x < 60: \n",
        "        return \"~60%\"\n",
        "    elif x < 70: \n",
        "        return \"~70%\"       \n",
        "\n",
        "df['coupon_discount_rate2'] = df['coupon_discount_rate'].map(discount_rate)"
      ],
      "metadata": {
        "id": "9qbVzir0QoLc"
      },
      "id": "9qbVzir0QoLc",
      "execution_count": 28,
      "outputs": []
    },
    {
      "cell_type": "code",
      "source": [
        "df['coupon_discount_rate'].value_counts()"
      ],
      "metadata": {
        "colab": {
          "base_uri": "https://localhost:8080/"
        },
        "id": "_B18TSsqPHgS",
        "outputId": "7c556593-ecf8-4e34-e52e-cb6e9613d5be"
      },
      "id": "_B18TSsqPHgS",
      "execution_count": 29,
      "outputs": [
        {
          "output_type": "execute_result",
          "data": {
            "text/plain": [
              "0.000000      69947\n",
              "100.000000     3486\n",
              "20.000000      1598\n",
              "30.000000      1007\n",
              "10.000000       910\n",
              "              ...  \n",
              "67.938947         1\n",
              "32.061053         1\n",
              "99.869707         1\n",
              "95.161290         1\n",
              "25.062657         1\n",
              "Name: coupon_discount_rate, Length: 3318, dtype: int64"
            ]
          },
          "metadata": {},
          "execution_count": 29
        }
      ]
    },
    {
      "cell_type": "code",
      "source": [
        "df.coupon_discount_rate2.value_counts()"
      ],
      "metadata": {
        "colab": {
          "base_uri": "https://localhost:8080/"
        },
        "id": "7YhqqH1WXh6U",
        "outputId": "6ff7754d-2659-4583-ea00-173580dcd60c"
      },
      "id": "7YhqqH1WXh6U",
      "execution_count": 30,
      "outputs": [
        {
          "output_type": "execute_result",
          "data": {
            "text/plain": [
              "미사용     69947\n",
              "~20%    16218\n",
              "~10%     4560\n",
              "~30%     1855\n",
              "~40%     1146\n",
              "~70%      608\n",
              "~60%      370\n",
              "~50%      245\n",
              "Name: coupon_discount_rate2, dtype: int64"
            ]
          },
          "metadata": {},
          "execution_count": 30
        }
      ]
    },
    {
      "cell_type": "code",
      "source": [
        "# 쿠폰 미사용자만 있는 데이터프레임\n",
        "df_no_coupon = df[df.coupon_discount_rate2.isin(['미사용'])]\n",
        "df_no_coupon"
      ],
      "metadata": {
        "colab": {
          "base_uri": "https://localhost:8080/",
          "height": 209
        },
        "id": "MC9YIy6rVteb",
        "outputId": "1749bfcd-9f8f-4030-8f4a-97cc33e9647b"
      },
      "id": "MC9YIy6rVteb",
      "execution_count": 274,
      "outputs": [
        {
          "output_type": "execute_result",
          "data": {
            "text/plain": [
              "            id  customer_id  course_id   type      state         course_title  \\\n",
              "67841  1189875     542837.0   201408.0  ORDER  CANCELLED  올인원 패키지 : 엑셀 실무 마스터   \n",
              "\n",
              "      category_title format        completed_at  transaction_amount  ...  \\\n",
              "67841         업무 생산성    올인원 2021-07-02 17:17:37              120500  ...   \n",
              "\n",
              "      marketing_start_at  repeat_order            period  period_quartile  \\\n",
              "67841         2019-08-13          True 689 days 17:17:37          250일 초과   \n",
              "\n",
              "      completed_month completed_weekday completed_day Time  \\\n",
              "67841              7월               금요일           2.0   17   \n",
              "\n",
              "       coupon_discount_rate coupon_discount_rate2  \n",
              "67841                   0.0                   미사용  \n",
              "\n",
              "[1 rows x 27 columns]"
            ],
            "text/html": [
              "\n",
              "  <div id=\"df-06139fca-eea2-4b51-8405-429cd467cffa\">\n",
              "    <div class=\"colab-df-container\">\n",
              "      <div>\n",
              "<style scoped>\n",
              "    .dataframe tbody tr th:only-of-type {\n",
              "        vertical-align: middle;\n",
              "    }\n",
              "\n",
              "    .dataframe tbody tr th {\n",
              "        vertical-align: top;\n",
              "    }\n",
              "\n",
              "    .dataframe thead th {\n",
              "        text-align: right;\n",
              "    }\n",
              "</style>\n",
              "<table border=\"1\" class=\"dataframe\">\n",
              "  <thead>\n",
              "    <tr style=\"text-align: right;\">\n",
              "      <th></th>\n",
              "      <th>id</th>\n",
              "      <th>customer_id</th>\n",
              "      <th>course_id</th>\n",
              "      <th>type</th>\n",
              "      <th>state</th>\n",
              "      <th>course_title</th>\n",
              "      <th>category_title</th>\n",
              "      <th>format</th>\n",
              "      <th>completed_at</th>\n",
              "      <th>transaction_amount</th>\n",
              "      <th>...</th>\n",
              "      <th>marketing_start_at</th>\n",
              "      <th>repeat_order</th>\n",
              "      <th>period</th>\n",
              "      <th>period_quartile</th>\n",
              "      <th>completed_month</th>\n",
              "      <th>completed_weekday</th>\n",
              "      <th>completed_day</th>\n",
              "      <th>Time</th>\n",
              "      <th>coupon_discount_rate</th>\n",
              "      <th>coupon_discount_rate2</th>\n",
              "    </tr>\n",
              "  </thead>\n",
              "  <tbody>\n",
              "    <tr>\n",
              "      <th>67841</th>\n",
              "      <td>1189875</td>\n",
              "      <td>542837.0</td>\n",
              "      <td>201408.0</td>\n",
              "      <td>ORDER</td>\n",
              "      <td>CANCELLED</td>\n",
              "      <td>올인원 패키지 : 엑셀 실무 마스터</td>\n",
              "      <td>업무 생산성</td>\n",
              "      <td>올인원</td>\n",
              "      <td>2021-07-02 17:17:37</td>\n",
              "      <td>120500</td>\n",
              "      <td>...</td>\n",
              "      <td>2019-08-13</td>\n",
              "      <td>True</td>\n",
              "      <td>689 days 17:17:37</td>\n",
              "      <td>250일 초과</td>\n",
              "      <td>7월</td>\n",
              "      <td>금요일</td>\n",
              "      <td>2.0</td>\n",
              "      <td>17</td>\n",
              "      <td>0.0</td>\n",
              "      <td>미사용</td>\n",
              "    </tr>\n",
              "  </tbody>\n",
              "</table>\n",
              "<p>1 rows × 27 columns</p>\n",
              "</div>\n",
              "      <button class=\"colab-df-convert\" onclick=\"convertToInteractive('df-06139fca-eea2-4b51-8405-429cd467cffa')\"\n",
              "              title=\"Convert this dataframe to an interactive table.\"\n",
              "              style=\"display:none;\">\n",
              "        \n",
              "  <svg xmlns=\"http://www.w3.org/2000/svg\" height=\"24px\"viewBox=\"0 0 24 24\"\n",
              "       width=\"24px\">\n",
              "    <path d=\"M0 0h24v24H0V0z\" fill=\"none\"/>\n",
              "    <path d=\"M18.56 5.44l.94 2.06.94-2.06 2.06-.94-2.06-.94-.94-2.06-.94 2.06-2.06.94zm-11 1L8.5 8.5l.94-2.06 2.06-.94-2.06-.94L8.5 2.5l-.94 2.06-2.06.94zm10 10l.94 2.06.94-2.06 2.06-.94-2.06-.94-.94-2.06-.94 2.06-2.06.94z\"/><path d=\"M17.41 7.96l-1.37-1.37c-.4-.4-.92-.59-1.43-.59-.52 0-1.04.2-1.43.59L10.3 9.45l-7.72 7.72c-.78.78-.78 2.05 0 2.83L4 21.41c.39.39.9.59 1.41.59.51 0 1.02-.2 1.41-.59l7.78-7.78 2.81-2.81c.8-.78.8-2.07 0-2.86zM5.41 20L4 18.59l7.72-7.72 1.47 1.35L5.41 20z\"/>\n",
              "  </svg>\n",
              "      </button>\n",
              "      \n",
              "  <style>\n",
              "    .colab-df-container {\n",
              "      display:flex;\n",
              "      flex-wrap:wrap;\n",
              "      gap: 12px;\n",
              "    }\n",
              "\n",
              "    .colab-df-convert {\n",
              "      background-color: #E8F0FE;\n",
              "      border: none;\n",
              "      border-radius: 50%;\n",
              "      cursor: pointer;\n",
              "      display: none;\n",
              "      fill: #1967D2;\n",
              "      height: 32px;\n",
              "      padding: 0 0 0 0;\n",
              "      width: 32px;\n",
              "    }\n",
              "\n",
              "    .colab-df-convert:hover {\n",
              "      background-color: #E2EBFA;\n",
              "      box-shadow: 0px 1px 2px rgba(60, 64, 67, 0.3), 0px 1px 3px 1px rgba(60, 64, 67, 0.15);\n",
              "      fill: #174EA6;\n",
              "    }\n",
              "\n",
              "    [theme=dark] .colab-df-convert {\n",
              "      background-color: #3B4455;\n",
              "      fill: #D2E3FC;\n",
              "    }\n",
              "\n",
              "    [theme=dark] .colab-df-convert:hover {\n",
              "      background-color: #434B5C;\n",
              "      box-shadow: 0px 1px 3px 1px rgba(0, 0, 0, 0.15);\n",
              "      filter: drop-shadow(0px 1px 2px rgba(0, 0, 0, 0.3));\n",
              "      fill: #FFFFFF;\n",
              "    }\n",
              "  </style>\n",
              "\n",
              "      <script>\n",
              "        const buttonEl =\n",
              "          document.querySelector('#df-06139fca-eea2-4b51-8405-429cd467cffa button.colab-df-convert');\n",
              "        buttonEl.style.display =\n",
              "          google.colab.kernel.accessAllowed ? 'block' : 'none';\n",
              "\n",
              "        async function convertToInteractive(key) {\n",
              "          const element = document.querySelector('#df-06139fca-eea2-4b51-8405-429cd467cffa');\n",
              "          const dataTable =\n",
              "            await google.colab.kernel.invokeFunction('convertToInteractive',\n",
              "                                                     [key], {});\n",
              "          if (!dataTable) return;\n",
              "\n",
              "          const docLinkHtml = 'Like what you see? Visit the ' +\n",
              "            '<a target=\"_blank\" href=https://colab.research.google.com/notebooks/data_table.ipynb>data table notebook</a>'\n",
              "            + ' to learn more about interactive tables.';\n",
              "          element.innerHTML = '';\n",
              "          dataTable['output_type'] = 'display_data';\n",
              "          await google.colab.output.renderOutput(dataTable, element);\n",
              "          const docLink = document.createElement('div');\n",
              "          docLink.innerHTML = docLinkHtml;\n",
              "          element.appendChild(docLink);\n",
              "        }\n",
              "      </script>\n",
              "    </div>\n",
              "  </div>\n",
              "  "
            ]
          },
          "metadata": {},
          "execution_count": 274
        }
      ]
    },
    {
      "cell_type": "code",
      "source": [
        "# 할인율 별 쿠폰 사용 횟수\n",
        "fig = plt.figure(figsize=(8,4))                    \n",
        "sns.countplot( data = df, x = 'coupon_discount_rate2')"
      ],
      "metadata": {
        "colab": {
          "base_uri": "https://localhost:8080/",
          "height": 297
        },
        "id": "6xv5qMS5QqHP",
        "outputId": "b2cb2e2c-54f9-456e-bc30-9a6fa1cc7e3d"
      },
      "id": "6xv5qMS5QqHP",
      "execution_count": 31,
      "outputs": [
        {
          "output_type": "execute_result",
          "data": {
            "text/plain": [
              "<matplotlib.axes._subplots.AxesSubplot at 0x7ff739afc510>"
            ]
          },
          "metadata": {},
          "execution_count": 31
        },
        {
          "output_type": "display_data",
          "data": {
            "text/plain": [
              "<Figure size 576x288 with 1 Axes>"
            ],
            "image/png": "[encoded data removed]"
          },
          "metadata": {
            "needs_background": "light"
          }
        }
      ]
    },
    {
      "cell_type": "code",
      "source": [
        ""
      ],
      "metadata": {
        "id": "nMTRmUkuSme1"
      },
      "id": "nMTRmUkuSme1",
      "execution_count": null,
      "outputs": []
    },
    {
      "cell_type": "code",
      "source": [
        "# 재구매 시 쿠폰 사용 비율\n",
        "print(df_repeat_order['coupon_title'].count()/(df_repeat_order['coupon_title'].count()+df_repeat_order['coupon_title'].isna().sum())*100)"
      ],
      "metadata": {
        "colab": {
          "base_uri": "https://localhost:8080/"
        },
        "id": "4-vEAtmtrVum",
        "outputId": "d4594fc8-423b-495a-9a44-db0c43ed76ab"
      },
      "id": "4-vEAtmtrVum",
      "execution_count": 221,
      "outputs": [
        {
          "output_type": "stream",
          "name": "stdout",
          "text": [
            "29.349682852867566\n"
          ]
        }
      ]
    },
    {
      "cell_type": "code",
      "source": [
        "# 사용 횟수 200회 이상인 쿠폰\n",
        "df.coupon_title.value_counts().loc[df.coupon_title.value_counts() > 200]"
      ],
      "metadata": {
        "colab": {
          "base_uri": "https://localhost:8080/"
        },
        "id": "Z4c7b7wBg68I",
        "outputId": "61c0aded-202c-44f6-8360-0108ff4367f8"
      },
      "execution_count": 235,
      "outputs": [
        {
          "output_type": "execute_result",
          "data": {
            "text/plain": [
              "[웰컴쿠폰] 올인원 패키지 2만원 할인 쿠폰                              5498\n",
              "[WELCOME] 온라인 강의 3만원 할인쿠폰                             3206\n",
              "[웰컴쿠폰] 올인원 패키지 1만원 할인 쿠폰                              2469\n",
              "[WELCOME] 온라인 강의 2만원 할인쿠폰                             2325\n",
              "[WELCOME] 온라인 강의 1만원 할인쿠폰                             1900\n",
              "8월 1+1 프로모션 쿠폰                                        1458\n",
              "4월 1+1 페이백 이벤트 쿠폰                                     1350\n",
              "[웰컴쿠폰] 올인원 패키지 3만원 할인 쿠폰                              1284\n",
              "[미래투자금] 온라인 강의 2만원 할인쿠폰                               1274\n",
              "5월 페이백 프로모션 쿠폰                                        1126\n",
              "7월 100% 페이백 프로모션 쿠폰                                   1101\n",
              "수강생 50만명 돌파 기념 감사제 쿠폰                                  875\n",
              "[일주일한정] 플러스 친구 1만원 즉시할인 쿠폰                             601\n",
              "[럭키룰렛] 올인원패키지                                          595\n",
              "[웰컴쿠폰] 온라인 완주반 10% 할인 쿠폰                               588\n",
              "[미래투자금] 온라인 강의 1만원 할인쿠폰                                475\n",
              "한 번에 끝내는 Java/Sring 웹 개발 마스터 초격차 패키지 무료 쿠폰 (-2/28)     346\n",
              "[특별쿠폰] 올인원 패키지 : Node 웹 프로그래밍 구매자                      326\n",
              "[20% 할인] 완주반 1주년 기념 쿠폰                                 242\n",
              "6월 반값특가 프로모션 쿠폰                                        240\n",
              "[용호수 영상 심화 강의] 30% 할인 쿠폰                               236\n",
              "Name: coupon_title, dtype: int64"
            ]
          },
          "metadata": {},
          "execution_count": 235
        }
      ],
      "id": "Z4c7b7wBg68I"
    },
    {
      "cell_type": "code",
      "source": [
        "# 재구매 시 사용 횟수 200회 이상인 쿠폰\n",
        "df_repeat_order.coupon_title.value_counts().loc[df_repeat_order.coupon_title.value_counts() > 200]"
      ],
      "metadata": {
        "colab": {
          "base_uri": "https://localhost:8080/"
        },
        "id": "0PBA3LsrwO5E",
        "outputId": "cb896bba-0dc0-4ad3-ad49-877b61f8e88d"
      },
      "id": "0PBA3LsrwO5E",
      "execution_count": 233,
      "outputs": [
        {
          "output_type": "execute_result",
          "data": {
            "text/plain": [
              "[웰컴쿠폰] 올인원 패키지 2만원 할인 쿠폰      4135\n",
              "[웰컴쿠폰] 올인원 패키지 1만원 할인 쿠폰      1877\n",
              "[WELCOME] 온라인 강의 3만원 할인쿠폰     1575\n",
              "4월 1+1 페이백 이벤트 쿠폰             1261\n",
              "[WELCOME] 온라인 강의 2만원 할인쿠폰     1214\n",
              "8월 1+1 프로모션 쿠폰                1195\n",
              "5월 페이백 프로모션 쿠폰                1066\n",
              "[WELCOME] 온라인 강의 1만원 할인쿠폰     1056\n",
              "[웰컴쿠폰] 올인원 패키지 3만원 할인 쿠폰       998\n",
              "7월 100% 페이백 프로모션 쿠폰            901\n",
              "수강생 50만명 돌파 기념 감사제 쿠폰          574\n",
              "[럭키룰렛] 올인원패키지                  521\n",
              "[미래투자금] 온라인 강의 2만원 할인쿠폰        513\n",
              "[웰컴쿠폰] 온라인 완주반 10% 할인 쿠폰       471\n",
              "[일주일한정] 플러스 친구 1만원 즉시할인 쿠폰     449\n",
              "6월 반값특가 프로모션 쿠폰                232\n",
              "[미래투자금] 온라인 강의 1만원 할인쿠폰        205\n",
              "[20% 할인] 완주반 1주년 기념 쿠폰         203\n",
              "Name: coupon_title, dtype: int64"
            ]
          },
          "metadata": {},
          "execution_count": 233
        }
      ]
    },
    {
      "cell_type": "markdown",
      "source": [
        "재구매 시 쿠폰 사용 비율이 전체 쿠폰 사용 비율보다 적게 나온다.\n",
        "\n",
        "재구매 시 사용할 수 있는 쿠폰을 여러 종류 발행한다면 강의를 재구매하는 사용자가 늘어나 매출이 증가 할 것으로 예상된다."
      ],
      "metadata": {
        "id": "AOL6huYftN34"
      },
      "id": "AOL6huYftN34"
    },
    {
      "cell_type": "markdown",
      "source": [
        "##환불 관련 데이터"
      ],
      "metadata": {
        "id": "o3rmxSlOjKKV"
      },
      "id": "o3rmxSlOjKKV"
    },
    {
      "cell_type": "code",
      "source": [
        "# type 열에서 PAYMENT, REFUND 이외 제거 (나머지 데이터 의미 없음)\n",
        "df_ORDER_delete = df[df.type.isin(['PAYMENT', 'REFUND'])]  \n",
        "df_ORDER_delete.head(2)"
      ],
      "metadata": {
        "colab": {
          "base_uri": "https://localhost:8080/",
          "height": 292
        },
        "id": "Hd9VF5-sk6LY",
        "outputId": "f4705349-7f0d-4409-d492-6c1c2ab94b92"
      },
      "id": "Hd9VF5-sk6LY",
      "execution_count": 36,
      "outputs": [
        {
          "output_type": "execute_result",
          "data": {
            "text/plain": [
              "       id  customer_id  course_id     type      state  \\\n",
              "2  970657      72297.0   204246.0  PAYMENT  COMPLETED   \n",
              "4  970658     478028.0   201797.0  PAYMENT  COMPLETED   \n",
              "\n",
              "                    course_title category_title  format        completed_at  \\\n",
              "2           시크릿코드 : 프론트엔드 실무 완성편          프로그래밍  스쿨 온라인 2021-03-28 15:21:43   \n",
              "4  올인원 패키지 : 직장인 필수 스킬 3종 세트 MAX         업무 생산성     올인원 2021-03-28 15:21:54   \n",
              "\n",
              "   transaction_amount  ... coupon_discount_amount  sale_price  \\\n",
              "2              171810  ...                19090.0    190900.0   \n",
              "4               97500  ...                20000.0    117500.0   \n",
              "\n",
              "   tax_free_amount  pg method subcategory_title   marketing_start_at  \\\n",
              "2         190900.0   0   CARD                 0  2021-03-04 00:00:00   \n",
              "4         117500.0   0   CARD           PPT/보고서  2019-11-14 00:00:00   \n",
              "\n",
              "  repeat_order  coupon_discount_rate  coupon_discount_rate2  \n",
              "2         True             10.000000                   ~20%  \n",
              "4         True             17.021277                   ~20%  \n",
              "\n",
              "[2 rows x 21 columns]"
            ],
            "text/html": [
              "\n",
              "  <div id=\"df-856e2084-252b-4dfe-b98c-54369d1d5af4\">\n",
              "    <div class=\"colab-df-container\">\n",
              "      <div>\n",
              "<style scoped>\n",
              "    .dataframe tbody tr th:only-of-type {\n",
              "        vertical-align: middle;\n",
              "    }\n",
              "\n",
              "    .dataframe tbody tr th {\n",
              "        vertical-align: top;\n",
              "    }\n",
              "\n",
              "    .dataframe thead th {\n",
              "        text-align: right;\n",
              "    }\n",
              "</style>\n",
              "<table border=\"1\" class=\"dataframe\">\n",
              "  <thead>\n",
              "    <tr style=\"text-align: right;\">\n",
              "      <th></th>\n",
              "      <th>id</th>\n",
              "      <th>customer_id</th>\n",
              "      <th>course_id</th>\n",
              "      <th>type</th>\n",
              "      <th>state</th>\n",
              "      <th>course_title</th>\n",
              "      <th>category_title</th>\n",
              "      <th>format</th>\n",
              "      <th>completed_at</th>\n",
              "      <th>transaction_amount</th>\n",
              "      <th>...</th>\n",
              "      <th>coupon_discount_amount</th>\n",
              "      <th>sale_price</th>\n",
              "      <th>tax_free_amount</th>\n",
              "      <th>pg</th>\n",
              "      <th>method</th>\n",
              "      <th>subcategory_title</th>\n",
              "      <th>marketing_start_at</th>\n",
              "      <th>repeat_order</th>\n",
              "      <th>coupon_discount_rate</th>\n",
              "      <th>coupon_discount_rate2</th>\n",
              "    </tr>\n",
              "  </thead>\n",
              "  <tbody>\n",
              "    <tr>\n",
              "      <th>2</th>\n",
              "      <td>970657</td>\n",
              "      <td>72297.0</td>\n",
              "      <td>204246.0</td>\n",
              "      <td>PAYMENT</td>\n",
              "      <td>COMPLETED</td>\n",
              "      <td>시크릿코드 : 프론트엔드 실무 완성편</td>\n",
              "      <td>프로그래밍</td>\n",
              "      <td>스쿨 온라인</td>\n",
              "      <td>2021-03-28 15:21:43</td>\n",
              "      <td>171810</td>\n",
              "      <td>...</td>\n",
              "      <td>19090.0</td>\n",
              "      <td>190900.0</td>\n",
              "      <td>190900.0</td>\n",
              "      <td>0</td>\n",
              "      <td>CARD</td>\n",
              "      <td>0</td>\n",
              "      <td>2021-03-04 00:00:00</td>\n",
              "      <td>True</td>\n",
              "      <td>10.000000</td>\n",
              "      <td>~20%</td>\n",
              "    </tr>\n",
              "    <tr>\n",
              "      <th>4</th>\n",
              "      <td>970658</td>\n",
              "      <td>478028.0</td>\n",
              "      <td>201797.0</td>\n",
              "      <td>PAYMENT</td>\n",
              "      <td>COMPLETED</td>\n",
              "      <td>올인원 패키지 : 직장인 필수 스킬 3종 세트 MAX</td>\n",
              "      <td>업무 생산성</td>\n",
              "      <td>올인원</td>\n",
              "      <td>2021-03-28 15:21:54</td>\n",
              "      <td>97500</td>\n",
              "      <td>...</td>\n",
              "      <td>20000.0</td>\n",
              "      <td>117500.0</td>\n",
              "      <td>117500.0</td>\n",
              "      <td>0</td>\n",
              "      <td>CARD</td>\n",
              "      <td>PPT/보고서</td>\n",
              "      <td>2019-11-14 00:00:00</td>\n",
              "      <td>True</td>\n",
              "      <td>17.021277</td>\n",
              "      <td>~20%</td>\n",
              "    </tr>\n",
              "  </tbody>\n",
              "</table>\n",
              "<p>2 rows × 21 columns</p>\n",
              "</div>\n",
              "      <button class=\"colab-df-convert\" onclick=\"convertToInteractive('df-856e2084-252b-4dfe-b98c-54369d1d5af4')\"\n",
              "              title=\"Convert this dataframe to an interactive table.\"\n",
              "              style=\"display:none;\">\n",
              "        \n",
              "  <svg xmlns=\"http://www.w3.org/2000/svg\" height=\"24px\"viewBox=\"0 0 24 24\"\n",
              "       width=\"24px\">\n",
              "    <path d=\"M0 0h24v24H0V0z\" fill=\"none\"/>\n",
              "    <path d=\"M18.56 5.44l.94 2.06.94-2.06 2.06-.94-2.06-.94-.94-2.06-.94 2.06-2.06.94zm-11 1L8.5 8.5l.94-2.06 2.06-.94-2.06-.94L8.5 2.5l-.94 2.06-2.06.94zm10 10l.94 2.06.94-2.06 2.06-.94-2.06-.94-.94-2.06-.94 2.06-2.06.94z\"/><path d=\"M17.41 7.96l-1.37-1.37c-.4-.4-.92-.59-1.43-.59-.52 0-1.04.2-1.43.59L10.3 9.45l-7.72 7.72c-.78.78-.78 2.05 0 2.83L4 21.41c.39.39.9.59 1.41.59.51 0 1.02-.2 1.41-.59l7.78-7.78 2.81-2.81c.8-.78.8-2.07 0-2.86zM5.41 20L4 18.59l7.72-7.72 1.47 1.35L5.41 20z\"/>\n",
              "  </svg>\n",
              "      </button>\n",
              "      \n",
              "  <style>\n",
              "    .colab-df-container {\n",
              "      display:flex;\n",
              "      flex-wrap:wrap;\n",
              "      gap: 12px;\n",
              "    }\n",
              "\n",
              "    .colab-df-convert {\n",
              "      background-color: #E8F0FE;\n",
              "      border: none;\n",
              "      border-radius: 50%;\n",
              "      cursor: pointer;\n",
              "      display: none;\n",
              "      fill: #1967D2;\n",
              "      height: 32px;\n",
              "      padding: 0 0 0 0;\n",
              "      width: 32px;\n",
              "    }\n",
              "\n",
              "    .colab-df-convert:hover {\n",
              "      background-color: #E2EBFA;\n",
              "      box-shadow: 0px 1px 2px rgba(60, 64, 67, 0.3), 0px 1px 3px 1px rgba(60, 64, 67, 0.15);\n",
              "      fill: #174EA6;\n",
              "    }\n",
              "\n",
              "    [theme=dark] .colab-df-convert {\n",
              "      background-color: #3B4455;\n",
              "      fill: #D2E3FC;\n",
              "    }\n",
              "\n",
              "    [theme=dark] .colab-df-convert:hover {\n",
              "      background-color: #434B5C;\n",
              "      box-shadow: 0px 1px 3px 1px rgba(0, 0, 0, 0.15);\n",
              "      filter: drop-shadow(0px 1px 2px rgba(0, 0, 0, 0.3));\n",
              "      fill: #FFFFFF;\n",
              "    }\n",
              "  </style>\n",
              "\n",
              "      <script>\n",
              "        const buttonEl =\n",
              "          document.querySelector('#df-856e2084-252b-4dfe-b98c-54369d1d5af4 button.colab-df-convert');\n",
              "        buttonEl.style.display =\n",
              "          google.colab.kernel.accessAllowed ? 'block' : 'none';\n",
              "\n",
              "        async function convertToInteractive(key) {\n",
              "          const element = document.querySelector('#df-856e2084-252b-4dfe-b98c-54369d1d5af4');\n",
              "          const dataTable =\n",
              "            await google.colab.kernel.invokeFunction('convertToInteractive',\n",
              "                                                     [key], {});\n",
              "          if (!dataTable) return;\n",
              "\n",
              "          const docLinkHtml = 'Like what you see? Visit the ' +\n",
              "            '<a target=\"_blank\" href=https://colab.research.google.com/notebooks/data_table.ipynb>data table notebook</a>'\n",
              "            + ' to learn more about interactive tables.';\n",
              "          element.innerHTML = '';\n",
              "          dataTable['output_type'] = 'display_data';\n",
              "          await google.colab.output.renderOutput(dataTable, element);\n",
              "          const docLink = document.createElement('div');\n",
              "          docLink.innerHTML = docLinkHtml;\n",
              "          element.appendChild(docLink);\n",
              "        }\n",
              "      </script>\n",
              "    </div>\n",
              "  </div>\n",
              "  "
            ]
          },
          "metadata": {},
          "execution_count": 36
        }
      ]
    },
    {
      "cell_type": "code",
      "source": [
        "# 결제, 환불 value_counts\n",
        "df_ORDER_delete['type'].value_counts()"
      ],
      "metadata": {
        "colab": {
          "base_uri": "https://localhost:8080/"
        },
        "id": "KvMHNqmdy1zG",
        "outputId": "0a0ab72a-ef2b-4a3b-fc9d-a7e8f3f8cd8c"
      },
      "id": "KvMHNqmdy1zG",
      "execution_count": 37,
      "outputs": [
        {
          "output_type": "execute_result",
          "data": {
            "text/plain": [
              "PAYMENT    59437\n",
              "REFUND      3642\n",
              "Name: type, dtype: int64"
            ]
          },
          "metadata": {},
          "execution_count": 37
        }
      ]
    },
    {
      "cell_type": "code",
      "source": [
        "# 환불율\n",
        "print(f'{\"%0.4f\"%(3824/(3824+61433)*100)}%')"
      ],
      "metadata": {
        "colab": {
          "base_uri": "https://localhost:8080/"
        },
        "id": "0HpfHK8B27xi",
        "outputId": "f8e97515-4668-4261-fb2f-8feb7d328562"
      },
      "id": "0HpfHK8B27xi",
      "execution_count": 38,
      "outputs": [
        {
          "output_type": "stream",
          "name": "stdout",
          "text": [
            "5.8599%\n"
          ]
        }
      ]
    },
    {
      "cell_type": "code",
      "source": [
        "# 환불 0% 시 매출 상승률\n",
        "print(f'{\"%0.4f\"%(100/(100-5.86)*100)}%')"
      ],
      "metadata": {
        "colab": {
          "base_uri": "https://localhost:8080/"
        },
        "id": "FaqBfCqW3Geg",
        "outputId": "bd414b2c-b2ff-4421-9910-0ac365d47e64"
      },
      "id": "FaqBfCqW3Geg",
      "execution_count": 39,
      "outputs": [
        {
          "output_type": "stream",
          "name": "stdout",
          "text": [
            "106.2248%\n"
          ]
        }
      ]
    },
    {
      "cell_type": "markdown",
      "source": [
        "환불 문제 해결 시 약 6%의 매출 상승을 기대할 수 있다."
      ],
      "metadata": {
        "id": "JUjwne113Acm"
      },
      "id": "JUjwne113Acm"
    },
    {
      "cell_type": "code",
      "source": [
        "# 결제, 환불 count\n",
        "fig = plt.figure(figsize=(6,4)) \n",
        "sns.countplot(data = df_ORDER_delete, x = \"type\", order = df_ORDER_delete['type'].value_counts().index)"
      ],
      "metadata": {
        "colab": {
          "base_uri": "https://localhost:8080/",
          "height": 297
        },
        "id": "KkaxBljJtj4o",
        "outputId": "01bc008f-a130-4930-f282-5d2fee65ac04"
      },
      "id": "KkaxBljJtj4o",
      "execution_count": 34,
      "outputs": [
        {
          "output_type": "execute_result",
          "data": {
            "text/plain": [
              "<matplotlib.axes._subplots.AxesSubplot at 0x7ff73b974510>"
            ]
          },
          "metadata": {},
          "execution_count": 34
        },
        {
          "output_type": "display_data",
          "data": {
            "text/plain": [
              "<Figure size 432x288 with 1 Axes>"
            ],
            "image/png": "[encoded data removed]"
          },
          "metadata": {
            "needs_background": "light"
          }
        }
      ]
    },
    {
      "cell_type": "code",
      "source": [
        "# 판매 시작일로부터 강의 구매일 사이의 기간 (판매 시작일이 없는 값 제외)\n",
        "df_period = df[df.marketing_start_at.isin([0])==False]\n",
        "df_period['period'] = df_period['completed_at'] - df_period['marketing_start_at']\n",
        "df_period.head()"
      ],
      "metadata": {
        "colab": {
          "base_uri": "https://localhost:8080/",
          "height": 672
        },
        "id": "MDsTBIoDcm2_",
        "outputId": "581b8c4d-66bc-4c01-f564-e7c32b7e352b"
      },
      "id": "MDsTBIoDcm2_",
      "execution_count": 44,
      "outputs": [
        {
          "output_type": "stream",
          "name": "stderr",
          "text": [
            "/usr/local/lib/python3.7/dist-packages/pandas/core/arrays/datetimelike.py:1190: PerformanceWarning: Adding/subtracting object-dtype array to DatetimeArray not vectorized\n",
            "  PerformanceWarning,\n",
            "/usr/local/lib/python3.7/dist-packages/ipykernel_launcher.py:3: SettingWithCopyWarning: \n",
            "A value is trying to be set on a copy of a slice from a DataFrame.\n",
            "Try using .loc[row_indexer,col_indexer] = value instead\n",
            "\n",
            "See the caveats in the documentation: https://pandas.pydata.org/pandas-docs/stable/user_guide/indexing.html#returning-a-view-versus-a-copy\n",
            "  This is separate from the ipykernel package so we can avoid doing imports until\n"
          ]
        },
        {
          "output_type": "execute_result",
          "data": {
            "text/plain": [
              "       id  customer_id  course_id     type      state  \\\n",
              "1  970650     432862.0   203178.0    ORDER  CANCELLED   \n",
              "2  970657      72297.0   204246.0  PAYMENT  COMPLETED   \n",
              "3  970656      72297.0   204246.0    ORDER  CANCELLED   \n",
              "4  970658     478028.0   201797.0  PAYMENT  COMPLETED   \n",
              "5  970655     478028.0   201797.0    ORDER  CANCELLED   \n",
              "\n",
              "                    course_title category_title  format        completed_at  \\\n",
              "1    초격차 패키지 : 한번에 끝내는 영상 촬영과 편집          영상/3D     올인원 2021-03-28 15:16:53   \n",
              "2           시크릿코드 : 프론트엔드 실무 완성편          프로그래밍  스쿨 온라인 2021-03-28 15:21:43   \n",
              "3           시크릿코드 : 프론트엔드 실무 완성편          프로그래밍  스쿨 온라인 2021-03-28 15:21:43   \n",
              "4  올인원 패키지 : 직장인 필수 스킬 3종 세트 MAX         업무 생산성     올인원 2021-03-28 15:21:54   \n",
              "5  올인원 패키지 : 직장인 필수 스킬 3종 세트 MAX         업무 생산성     올인원 2021-03-28 15:21:56   \n",
              "\n",
              "   transaction_amount  ... sale_price  tax_free_amount  pg  method  \\\n",
              "1               96000  ...   116000.0         116000.0   0    CARD   \n",
              "2              171810  ...   190900.0         190900.0   0    CARD   \n",
              "3              171810  ...   190900.0         190900.0   0    CARD   \n",
              "4               97500  ...   117500.0         117500.0   0    CARD   \n",
              "5               97500  ...   117500.0         117500.0   0    CARD   \n",
              "\n",
              "  subcategory_title   marketing_start_at repeat_order coupon_discount_rate  \\\n",
              "1             영상 편집  2020-12-02 00:00:00        False             0.000000   \n",
              "2                 0  2021-03-04 00:00:00         True            10.000000   \n",
              "3                 0  2021-03-04 00:00:00         True             0.000000   \n",
              "4           PPT/보고서  2019-11-14 00:00:00         True            17.021277   \n",
              "5           PPT/보고서  2019-11-14 00:00:00         True             0.000000   \n",
              "\n",
              "   coupon_discount_rate2            period  \n",
              "1                    미사용 116 days 15:16:53  \n",
              "2                   ~20%  24 days 15:21:43  \n",
              "3                    미사용  24 days 15:21:43  \n",
              "4                   ~20% 500 days 15:21:54  \n",
              "5                    미사용 500 days 15:21:56  \n",
              "\n",
              "[5 rows x 22 columns]"
            ],
            "text/html": [
              "\n",
              "  <div id=\"df-112f6183-1700-4e72-81e2-3ee5d8dd26ba\">\n",
              "    <div class=\"colab-df-container\">\n",
              "      <div>\n",
              "<style scoped>\n",
              "    .dataframe tbody tr th:only-of-type {\n",
              "        vertical-align: middle;\n",
              "    }\n",
              "\n",
              "    .dataframe tbody tr th {\n",
              "        vertical-align: top;\n",
              "    }\n",
              "\n",
              "    .dataframe thead th {\n",
              "        text-align: right;\n",
              "    }\n",
              "</style>\n",
              "<table border=\"1\" class=\"dataframe\">\n",
              "  <thead>\n",
              "    <tr style=\"text-align: right;\">\n",
              "      <th></th>\n",
              "      <th>id</th>\n",
              "      <th>customer_id</th>\n",
              "      <th>course_id</th>\n",
              "      <th>type</th>\n",
              "      <th>state</th>\n",
              "      <th>course_title</th>\n",
              "      <th>category_title</th>\n",
              "      <th>format</th>\n",
              "      <th>completed_at</th>\n",
              "      <th>transaction_amount</th>\n",
              "      <th>...</th>\n",
              "      <th>sale_price</th>\n",
              "      <th>tax_free_amount</th>\n",
              "      <th>pg</th>\n",
              "      <th>method</th>\n",
              "      <th>subcategory_title</th>\n",
              "      <th>marketing_start_at</th>\n",
              "      <th>repeat_order</th>\n",
              "      <th>coupon_discount_rate</th>\n",
              "      <th>coupon_discount_rate2</th>\n",
              "      <th>period</th>\n",
              "    </tr>\n",
              "  </thead>\n",
              "  <tbody>\n",
              "    <tr>\n",
              "      <th>1</th>\n",
              "      <td>970650</td>\n",
              "      <td>432862.0</td>\n",
              "      <td>203178.0</td>\n",
              "      <td>ORDER</td>\n",
              "      <td>CANCELLED</td>\n",
              "      <td>초격차 패키지 : 한번에 끝내는 영상 촬영과 편집</td>\n",
              "      <td>영상/3D</td>\n",
              "      <td>올인원</td>\n",
              "      <td>2021-03-28 15:16:53</td>\n",
              "      <td>96000</td>\n",
              "      <td>...</td>\n",
              "      <td>116000.0</td>\n",
              "      <td>116000.0</td>\n",
              "      <td>0</td>\n",
              "      <td>CARD</td>\n",
              "      <td>영상 편집</td>\n",
              "      <td>2020-12-02 00:00:00</td>\n",
              "      <td>False</td>\n",
              "      <td>0.000000</td>\n",
              "      <td>미사용</td>\n",
              "      <td>116 days 15:16:53</td>\n",
              "    </tr>\n",
              "    <tr>\n",
              "      <th>2</th>\n",
              "      <td>970657</td>\n",
              "      <td>72297.0</td>\n",
              "      <td>204246.0</td>\n",
              "      <td>PAYMENT</td>\n",
              "      <td>COMPLETED</td>\n",
              "      <td>시크릿코드 : 프론트엔드 실무 완성편</td>\n",
              "      <td>프로그래밍</td>\n",
              "      <td>스쿨 온라인</td>\n",
              "      <td>2021-03-28 15:21:43</td>\n",
              "      <td>171810</td>\n",
              "      <td>...</td>\n",
              "      <td>190900.0</td>\n",
              "      <td>190900.0</td>\n",
              "      <td>0</td>\n",
              "      <td>CARD</td>\n",
              "      <td>0</td>\n",
              "      <td>2021-03-04 00:00:00</td>\n",
              "      <td>True</td>\n",
              "      <td>10.000000</td>\n",
              "      <td>~20%</td>\n",
              "      <td>24 days 15:21:43</td>\n",
              "    </tr>\n",
              "    <tr>\n",
              "      <th>3</th>\n",
              "      <td>970656</td>\n",
              "      <td>72297.0</td>\n",
              "      <td>204246.0</td>\n",
              "      <td>ORDER</td>\n",
              "      <td>CANCELLED</td>\n",
              "      <td>시크릿코드 : 프론트엔드 실무 완성편</td>\n",
              "      <td>프로그래밍</td>\n",
              "      <td>스쿨 온라인</td>\n",
              "      <td>2021-03-28 15:21:43</td>\n",
              "      <td>171810</td>\n",
              "      <td>...</td>\n",
              "      <td>190900.0</td>\n",
              "      <td>190900.0</td>\n",
              "      <td>0</td>\n",
              "      <td>CARD</td>\n",
              "      <td>0</td>\n",
              "      <td>2021-03-04 00:00:00</td>\n",
              "      <td>True</td>\n",
              "      <td>0.000000</td>\n",
              "      <td>미사용</td>\n",
              "      <td>24 days 15:21:43</td>\n",
              "    </tr>\n",
              "    <tr>\n",
              "      <th>4</th>\n",
              "      <td>970658</td>\n",
              "      <td>478028.0</td>\n",
              "      <td>201797.0</td>\n",
              "      <td>PAYMENT</td>\n",
              "      <td>COMPLETED</td>\n",
              "      <td>올인원 패키지 : 직장인 필수 스킬 3종 세트 MAX</td>\n",
              "      <td>업무 생산성</td>\n",
              "      <td>올인원</td>\n",
              "      <td>2021-03-28 15:21:54</td>\n",
              "      <td>97500</td>\n",
              "      <td>...</td>\n",
              "      <td>117500.0</td>\n",
              "      <td>117500.0</td>\n",
              "      <td>0</td>\n",
              "      <td>CARD</td>\n",
              "      <td>PPT/보고서</td>\n",
              "      <td>2019-11-14 00:00:00</td>\n",
              "      <td>True</td>\n",
              "      <td>17.021277</td>\n",
              "      <td>~20%</td>\n",
              "      <td>500 days 15:21:54</td>\n",
              "    </tr>\n",
              "    <tr>\n",
              "      <th>5</th>\n",
              "      <td>970655</td>\n",
              "      <td>478028.0</td>\n",
              "      <td>201797.0</td>\n",
              "      <td>ORDER</td>\n",
              "      <td>CANCELLED</td>\n",
              "      <td>올인원 패키지 : 직장인 필수 스킬 3종 세트 MAX</td>\n",
              "      <td>업무 생산성</td>\n",
              "      <td>올인원</td>\n",
              "      <td>2021-03-28 15:21:56</td>\n",
              "      <td>97500</td>\n",
              "      <td>...</td>\n",
              "      <td>117500.0</td>\n",
              "      <td>117500.0</td>\n",
              "      <td>0</td>\n",
              "      <td>CARD</td>\n",
              "      <td>PPT/보고서</td>\n",
              "      <td>2019-11-14 00:00:00</td>\n",
              "      <td>True</td>\n",
              "      <td>0.000000</td>\n",
              "      <td>미사용</td>\n",
              "      <td>500 days 15:21:56</td>\n",
              "    </tr>\n",
              "  </tbody>\n",
              "</table>\n",
              "<p>5 rows × 22 columns</p>\n",
              "</div>\n",
              "      <button class=\"colab-df-convert\" onclick=\"convertToInteractive('df-112f6183-1700-4e72-81e2-3ee5d8dd26ba')\"\n",
              "              title=\"Convert this dataframe to an interactive table.\"\n",
              "              style=\"display:none;\">\n",
              "        \n",
              "  <svg xmlns=\"http://www.w3.org/2000/svg\" height=\"24px\"viewBox=\"0 0 24 24\"\n",
              "       width=\"24px\">\n",
              "    <path d=\"M0 0h24v24H0V0z\" fill=\"none\"/>\n",
              "    <path d=\"M18.56 5.44l.94 2.06.94-2.06 2.06-.94-2.06-.94-.94-2.06-.94 2.06-2.06.94zm-11 1L8.5 8.5l.94-2.06 2.06-.94-2.06-.94L8.5 2.5l-.94 2.06-2.06.94zm10 10l.94 2.06.94-2.06 2.06-.94-2.06-.94-.94-2.06-.94 2.06-2.06.94z\"/><path d=\"M17.41 7.96l-1.37-1.37c-.4-.4-.92-.59-1.43-.59-.52 0-1.04.2-1.43.59L10.3 9.45l-7.72 7.72c-.78.78-.78 2.05 0 2.83L4 21.41c.39.39.9.59 1.41.59.51 0 1.02-.2 1.41-.59l7.78-7.78 2.81-2.81c.8-.78.8-2.07 0-2.86zM5.41 20L4 18.59l7.72-7.72 1.47 1.35L5.41 20z\"/>\n",
              "  </svg>\n",
              "      </button>\n",
              "      \n",
              "  <style>\n",
              "    .colab-df-container {\n",
              "      display:flex;\n",
              "      flex-wrap:wrap;\n",
              "      gap: 12px;\n",
              "    }\n",
              "\n",
              "    .colab-df-convert {\n",
              "      background-color: #E8F0FE;\n",
              "      border: none;\n",
              "      border-radius: 50%;\n",
              "      cursor: pointer;\n",
              "      display: none;\n",
              "      fill: #1967D2;\n",
              "      height: 32px;\n",
              "      padding: 0 0 0 0;\n",
              "      width: 32px;\n",
              "    }\n",
              "\n",
              "    .colab-df-convert:hover {\n",
              "      background-color: #E2EBFA;\n",
              "      box-shadow: 0px 1px 2px rgba(60, 64, 67, 0.3), 0px 1px 3px 1px rgba(60, 64, 67, 0.15);\n",
              "      fill: #174EA6;\n",
              "    }\n",
              "\n",
              "    [theme=dark] .colab-df-convert {\n",
              "      background-color: #3B4455;\n",
              "      fill: #D2E3FC;\n",
              "    }\n",
              "\n",
              "    [theme=dark] .colab-df-convert:hover {\n",
              "      background-color: #434B5C;\n",
              "      box-shadow: 0px 1px 3px 1px rgba(0, 0, 0, 0.15);\n",
              "      filter: drop-shadow(0px 1px 2px rgba(0, 0, 0, 0.3));\n",
              "      fill: #FFFFFF;\n",
              "    }\n",
              "  </style>\n",
              "\n",
              "      <script>\n",
              "        const buttonEl =\n",
              "          document.querySelector('#df-112f6183-1700-4e72-81e2-3ee5d8dd26ba button.colab-df-convert');\n",
              "        buttonEl.style.display =\n",
              "          google.colab.kernel.accessAllowed ? 'block' : 'none';\n",
              "\n",
              "        async function convertToInteractive(key) {\n",
              "          const element = document.querySelector('#df-112f6183-1700-4e72-81e2-3ee5d8dd26ba');\n",
              "          const dataTable =\n",
              "            await google.colab.kernel.invokeFunction('convertToInteractive',\n",
              "                                                     [key], {});\n",
              "          if (!dataTable) return;\n",
              "\n",
              "          const docLinkHtml = 'Like what you see? Visit the ' +\n",
              "            '<a target=\"_blank\" href=https://colab.research.google.com/notebooks/data_table.ipynb>data table notebook</a>'\n",
              "            + ' to learn more about interactive tables.';\n",
              "          element.innerHTML = '';\n",
              "          dataTable['output_type'] = 'display_data';\n",
              "          await google.colab.output.renderOutput(dataTable, element);\n",
              "          const docLink = document.createElement('div');\n",
              "          docLink.innerHTML = docLinkHtml;\n",
              "          element.appendChild(docLink);\n",
              "        }\n",
              "      </script>\n",
              "    </div>\n",
              "  </div>\n",
              "  "
            ]
          },
          "metadata": {},
          "execution_count": 44
        }
      ]
    },
    {
      "cell_type": "code",
      "source": [
        "df_period['period'].describe()"
      ],
      "metadata": {
        "colab": {
          "base_uri": "https://localhost:8080/"
        },
        "id": "hO1CDPn_LAP_",
        "outputId": "e692eb2f-4aaf-48a2-94c7-7e2eff349065"
      },
      "id": "hO1CDPn_LAP_",
      "execution_count": 45,
      "outputs": [
        {
          "output_type": "execute_result",
          "data": {
            "text/plain": [
              "count                          87439\n",
              "mean     180 days 22:49:56.259666742\n",
              "std      203 days 07:49:05.552178538\n",
              "min                -7 days +04:12:20\n",
              "25%                 30 days 15:05:52\n",
              "50%                101 days 12:51:54\n",
              "75%                250 days 22:15:17\n",
              "max                950 days 16:45:00\n",
              "Name: period, dtype: object"
            ]
          },
          "metadata": {},
          "execution_count": 45
        }
      ]
    },
    {
      "cell_type": "code",
      "source": [
        "# 판매 시작일로부터 강의 구매일 사이의 기간 4분위로 구분\n",
        "def func(x) :                                     \n",
        "\n",
        "    if x <= datetime.timedelta(days=30): \n",
        "        return \"~30일\"\n",
        "    elif x <= datetime.timedelta(days=101):\n",
        "        return \"~101일\"\n",
        "    elif x <= datetime.timedelta(days=250):\n",
        "        return \"~250일\"\n",
        "    else:\n",
        "        return \"250일 초과\"\n",
        "\n",
        "\n",
        "df_period['period_quartile'] = df_period['period'].map(func)\n",
        "df_period['period_quartile'].head()"
      ],
      "metadata": {
        "colab": {
          "base_uri": "https://localhost:8080/"
        },
        "id": "T0xRNGaPkCxk",
        "outputId": "9950551a-d810-40d2-a764-3f1baa903fb0"
      },
      "id": "T0xRNGaPkCxk",
      "execution_count": 46,
      "outputs": [
        {
          "output_type": "stream",
          "name": "stderr",
          "text": [
            "/usr/local/lib/python3.7/dist-packages/ipykernel_launcher.py:14: SettingWithCopyWarning: \n",
            "A value is trying to be set on a copy of a slice from a DataFrame.\n",
            "Try using .loc[row_indexer,col_indexer] = value instead\n",
            "\n",
            "See the caveats in the documentation: https://pandas.pydata.org/pandas-docs/stable/user_guide/indexing.html#returning-a-view-versus-a-copy\n",
            "  \n"
          ]
        },
        {
          "output_type": "execute_result",
          "data": {
            "text/plain": [
              "1      ~250일\n",
              "2       ~30일\n",
              "3       ~30일\n",
              "4    250일 초과\n",
              "5    250일 초과\n",
              "Name: period_quartile, dtype: object"
            ]
          },
          "metadata": {},
          "execution_count": 46
        }
      ]
    },
    {
      "cell_type": "code",
      "source": [
        "# type이 환불인 데이터만 \n",
        "df_refund = df_period[df_period.type=='REFUND']\n",
        "df_refund.head()"
      ],
      "metadata": {
        "colab": {
          "base_uri": "https://localhost:8080/",
          "height": 543
        },
        "id": "zBWFHMUR8oMb",
        "outputId": "19155798-8e5c-4e0b-eeb5-412d35c810e8"
      },
      "id": "zBWFHMUR8oMb",
      "execution_count": 47,
      "outputs": [
        {
          "output_type": "execute_result",
          "data": {
            "text/plain": [
              "         id  customer_id  course_id    type      state  \\\n",
              "652  972381     472666.0   203178.0  REFUND  COMPLETED   \n",
              "666  972409     447177.0   203989.0  REFUND  COMPLETED   \n",
              "672  972422     373915.0   204264.0  REFUND  COMPLETED   \n",
              "676  972440     469406.0   202547.0  REFUND  COMPLETED   \n",
              "701  972518     456206.0   203787.0  REFUND  COMPLETED   \n",
              "\n",
              "                           course_title category_title   format  \\\n",
              "652         초격차 패키지 : 한번에 끝내는 영상 촬영과 편집          영상/3D      올인원   \n",
              "666  올인원 패키지 : 소금툰과 함께 캐릭터 드로잉/굿즈/임티/컷툰            디자인      올인원   \n",
              "672           데이터분석 프로젝트+자격증 온라인 완주반 3기        데이터사이언스  온라인 완주반   \n",
              "676        올인원 패키지 : Financial Modeling         부동산/금융      올인원   \n",
              "701             초격차 패키지 : 한번에 끝내는 디자인 툴            디자인      올인원   \n",
              "\n",
              "           completed_at  transaction_amount  ... tax_free_amount  pg  method  \\\n",
              "652 2021-03-29 09:26:13              -96000  ...        116000.0   0    CARD   \n",
              "666 2021-03-29 09:40:54              -79000  ...         89000.0   0    CARD   \n",
              "672 2021-03-29 09:44:01             -340000  ...        340000.0   0   VBANK   \n",
              "676 2021-03-29 09:48:29             -125000  ...        145000.0   0    CARD   \n",
              "701 2021-03-29 10:10:53             -140000  ...        170000.0   0    CARD   \n",
              "\n",
              "     subcategory_title   marketing_start_at repeat_order coupon_discount_rate  \\\n",
              "652              영상 편집  2020-12-02 00:00:00        False                 -0.0   \n",
              "666               일러스트  2021-02-19 00:00:00        False                 -0.0   \n",
              "672                  0  2021-03-08 00:00:00        False                 -0.0   \n",
              "676           금융/투자 실무  2020-04-17 00:00:00        False                 -0.0   \n",
              "701               디자인툴  2020-12-24 11:00:00        False                 -0.0   \n",
              "\n",
              "    coupon_discount_rate2            period  period_quartile  \n",
              "652                   미사용 117 days 09:26:13            ~250일  \n",
              "666                   미사용  38 days 09:40:54            ~101일  \n",
              "672                   미사용  21 days 09:44:01             ~30일  \n",
              "676                   미사용 346 days 09:48:29          250일 초과  \n",
              "701                   미사용  94 days 23:10:53            ~101일  \n",
              "\n",
              "[5 rows x 23 columns]"
            ],
            "text/html": [
              "\n",
              "  <div id=\"df-a5cd49c2-0da8-47ed-b3ff-cb1cdf238a1f\">\n",
              "    <div class=\"colab-df-container\">\n",
              "      <div>\n",
              "<style scoped>\n",
              "    .dataframe tbody tr th:only-of-type {\n",
              "        vertical-align: middle;\n",
              "    }\n",
              "\n",
              "    .dataframe tbody tr th {\n",
              "        vertical-align: top;\n",
              "    }\n",
              "\n",
              "    .dataframe thead th {\n",
              "        text-align: right;\n",
              "    }\n",
              "</style>\n",
              "<table border=\"1\" class=\"dataframe\">\n",
              "  <thead>\n",
              "    <tr style=\"text-align: right;\">\n",
              "      <th></th>\n",
              "      <th>id</th>\n",
              "      <th>customer_id</th>\n",
              "      <th>course_id</th>\n",
              "      <th>type</th>\n",
              "      <th>state</th>\n",
              "      <th>course_title</th>\n",
              "      <th>category_title</th>\n",
              "      <th>format</th>\n",
              "      <th>completed_at</th>\n",
              "      <th>transaction_amount</th>\n",
              "      <th>...</th>\n",
              "      <th>tax_free_amount</th>\n",
              "      <th>pg</th>\n",
              "      <th>method</th>\n",
              "      <th>subcategory_title</th>\n",
              "      <th>marketing_start_at</th>\n",
              "      <th>repeat_order</th>\n",
              "      <th>coupon_discount_rate</th>\n",
              "      <th>coupon_discount_rate2</th>\n",
              "      <th>period</th>\n",
              "      <th>period_quartile</th>\n",
              "    </tr>\n",
              "  </thead>\n",
              "  <tbody>\n",
              "    <tr>\n",
              "      <th>652</th>\n",
              "      <td>972381</td>\n",
              "      <td>472666.0</td>\n",
              "      <td>203178.0</td>\n",
              "      <td>REFUND</td>\n",
              "      <td>COMPLETED</td>\n",
              "      <td>초격차 패키지 : 한번에 끝내는 영상 촬영과 편집</td>\n",
              "      <td>영상/3D</td>\n",
              "      <td>올인원</td>\n",
              "      <td>2021-03-29 09:26:13</td>\n",
              "      <td>-96000</td>\n",
              "      <td>...</td>\n",
              "      <td>116000.0</td>\n",
              "      <td>0</td>\n",
              "      <td>CARD</td>\n",
              "      <td>영상 편집</td>\n",
              "      <td>2020-12-02 00:00:00</td>\n",
              "      <td>False</td>\n",
              "      <td>-0.0</td>\n",
              "      <td>미사용</td>\n",
              "      <td>117 days 09:26:13</td>\n",
              "      <td>~250일</td>\n",
              "    </tr>\n",
              "    <tr>\n",
              "      <th>666</th>\n",
              "      <td>972409</td>\n",
              "      <td>447177.0</td>\n",
              "      <td>203989.0</td>\n",
              "      <td>REFUND</td>\n",
              "      <td>COMPLETED</td>\n",
              "      <td>올인원 패키지 : 소금툰과 함께 캐릭터 드로잉/굿즈/임티/컷툰</td>\n",
              "      <td>디자인</td>\n",
              "      <td>올인원</td>\n",
              "      <td>2021-03-29 09:40:54</td>\n",
              "      <td>-79000</td>\n",
              "      <td>...</td>\n",
              "      <td>89000.0</td>\n",
              "      <td>0</td>\n",
              "      <td>CARD</td>\n",
              "      <td>일러스트</td>\n",
              "      <td>2021-02-19 00:00:00</td>\n",
              "      <td>False</td>\n",
              "      <td>-0.0</td>\n",
              "      <td>미사용</td>\n",
              "      <td>38 days 09:40:54</td>\n",
              "      <td>~101일</td>\n",
              "    </tr>\n",
              "    <tr>\n",
              "      <th>672</th>\n",
              "      <td>972422</td>\n",
              "      <td>373915.0</td>\n",
              "      <td>204264.0</td>\n",
              "      <td>REFUND</td>\n",
              "      <td>COMPLETED</td>\n",
              "      <td>데이터분석 프로젝트+자격증 온라인 완주반 3기</td>\n",
              "      <td>데이터사이언스</td>\n",
              "      <td>온라인 완주반</td>\n",
              "      <td>2021-03-29 09:44:01</td>\n",
              "      <td>-340000</td>\n",
              "      <td>...</td>\n",
              "      <td>340000.0</td>\n",
              "      <td>0</td>\n",
              "      <td>VBANK</td>\n",
              "      <td>0</td>\n",
              "      <td>2021-03-08 00:00:00</td>\n",
              "      <td>False</td>\n",
              "      <td>-0.0</td>\n",
              "      <td>미사용</td>\n",
              "      <td>21 days 09:44:01</td>\n",
              "      <td>~30일</td>\n",
              "    </tr>\n",
              "    <tr>\n",
              "      <th>676</th>\n",
              "      <td>972440</td>\n",
              "      <td>469406.0</td>\n",
              "      <td>202547.0</td>\n",
              "      <td>REFUND</td>\n",
              "      <td>COMPLETED</td>\n",
              "      <td>올인원 패키지 : Financial Modeling</td>\n",
              "      <td>부동산/금융</td>\n",
              "      <td>올인원</td>\n",
              "      <td>2021-03-29 09:48:29</td>\n",
              "      <td>-125000</td>\n",
              "      <td>...</td>\n",
              "      <td>145000.0</td>\n",
              "      <td>0</td>\n",
              "      <td>CARD</td>\n",
              "      <td>금융/투자 실무</td>\n",
              "      <td>2020-04-17 00:00:00</td>\n",
              "      <td>False</td>\n",
              "      <td>-0.0</td>\n",
              "      <td>미사용</td>\n",
              "      <td>346 days 09:48:29</td>\n",
              "      <td>250일 초과</td>\n",
              "    </tr>\n",
              "    <tr>\n",
              "      <th>701</th>\n",
              "      <td>972518</td>\n",
              "      <td>456206.0</td>\n",
              "      <td>203787.0</td>\n",
              "      <td>REFUND</td>\n",
              "      <td>COMPLETED</td>\n",
              "      <td>초격차 패키지 : 한번에 끝내는 디자인 툴</td>\n",
              "      <td>디자인</td>\n",
              "      <td>올인원</td>\n",
              "      <td>2021-03-29 10:10:53</td>\n",
              "      <td>-140000</td>\n",
              "      <td>...</td>\n",
              "      <td>170000.0</td>\n",
              "      <td>0</td>\n",
              "      <td>CARD</td>\n",
              "      <td>디자인툴</td>\n",
              "      <td>2020-12-24 11:00:00</td>\n",
              "      <td>False</td>\n",
              "      <td>-0.0</td>\n",
              "      <td>미사용</td>\n",
              "      <td>94 days 23:10:53</td>\n",
              "      <td>~101일</td>\n",
              "    </tr>\n",
              "  </tbody>\n",
              "</table>\n",
              "<p>5 rows × 23 columns</p>\n",
              "</div>\n",
              "      <button class=\"colab-df-convert\" onclick=\"convertToInteractive('df-a5cd49c2-0da8-47ed-b3ff-cb1cdf238a1f')\"\n",
              "              title=\"Convert this dataframe to an interactive table.\"\n",
              "              style=\"display:none;\">\n",
              "        \n",
              "  <svg xmlns=\"http://www.w3.org/2000/svg\" height=\"24px\"viewBox=\"0 0 24 24\"\n",
              "       width=\"24px\">\n",
              "    <path d=\"M0 0h24v24H0V0z\" fill=\"none\"/>\n",
              "    <path d=\"M18.56 5.44l.94 2.06.94-2.06 2.06-.94-2.06-.94-.94-2.06-.94 2.06-2.06.94zm-11 1L8.5 8.5l.94-2.06 2.06-.94-2.06-.94L8.5 2.5l-.94 2.06-2.06.94zm10 10l.94 2.06.94-2.06 2.06-.94-2.06-.94-.94-2.06-.94 2.06-2.06.94z\"/><path d=\"M17.41 7.96l-1.37-1.37c-.4-.4-.92-.59-1.43-.59-.52 0-1.04.2-1.43.59L10.3 9.45l-7.72 7.72c-.78.78-.78 2.05 0 2.83L4 21.41c.39.39.9.59 1.41.59.51 0 1.02-.2 1.41-.59l7.78-7.78 2.81-2.81c.8-.78.8-2.07 0-2.86zM5.41 20L4 18.59l7.72-7.72 1.47 1.35L5.41 20z\"/>\n",
              "  </svg>\n",
              "      </button>\n",
              "      \n",
              "  <style>\n",
              "    .colab-df-container {\n",
              "      display:flex;\n",
              "      flex-wrap:wrap;\n",
              "      gap: 12px;\n",
              "    }\n",
              "\n",
              "    .colab-df-convert {\n",
              "      background-color: #E8F0FE;\n",
              "      border: none;\n",
              "      border-radius: 50%;\n",
              "      cursor: pointer;\n",
              "      display: none;\n",
              "      fill: #1967D2;\n",
              "      height: 32px;\n",
              "      padding: 0 0 0 0;\n",
              "      width: 32px;\n",
              "    }\n",
              "\n",
              "    .colab-df-convert:hover {\n",
              "      background-color: #E2EBFA;\n",
              "      box-shadow: 0px 1px 2px rgba(60, 64, 67, 0.3), 0px 1px 3px 1px rgba(60, 64, 67, 0.15);\n",
              "      fill: #174EA6;\n",
              "    }\n",
              "\n",
              "    [theme=dark] .colab-df-convert {\n",
              "      background-color: #3B4455;\n",
              "      fill: #D2E3FC;\n",
              "    }\n",
              "\n",
              "    [theme=dark] .colab-df-convert:hover {\n",
              "      background-color: #434B5C;\n",
              "      box-shadow: 0px 1px 3px 1px rgba(0, 0, 0, 0.15);\n",
              "      filter: drop-shadow(0px 1px 2px rgba(0, 0, 0, 0.3));\n",
              "      fill: #FFFFFF;\n",
              "    }\n",
              "  </style>\n",
              "\n",
              "      <script>\n",
              "        const buttonEl =\n",
              "          document.querySelector('#df-a5cd49c2-0da8-47ed-b3ff-cb1cdf238a1f button.colab-df-convert');\n",
              "        buttonEl.style.display =\n",
              "          google.colab.kernel.accessAllowed ? 'block' : 'none';\n",
              "\n",
              "        async function convertToInteractive(key) {\n",
              "          const element = document.querySelector('#df-a5cd49c2-0da8-47ed-b3ff-cb1cdf238a1f');\n",
              "          const dataTable =\n",
              "            await google.colab.kernel.invokeFunction('convertToInteractive',\n",
              "                                                     [key], {});\n",
              "          if (!dataTable) return;\n",
              "\n",
              "          const docLinkHtml = 'Like what you see? Visit the ' +\n",
              "            '<a target=\"_blank\" href=https://colab.research.google.com/notebooks/data_table.ipynb>data table notebook</a>'\n",
              "            + ' to learn more about interactive tables.';\n",
              "          element.innerHTML = '';\n",
              "          dataTable['output_type'] = 'display_data';\n",
              "          await google.colab.output.renderOutput(dataTable, element);\n",
              "          const docLink = document.createElement('div');\n",
              "          docLink.innerHTML = docLinkHtml;\n",
              "          element.appendChild(docLink);\n",
              "        }\n",
              "      </script>\n",
              "    </div>\n",
              "  </div>\n",
              "  "
            ]
          },
          "metadata": {},
          "execution_count": 47
        }
      ]
    },
    {
      "cell_type": "code",
      "source": [
        "# 판매 시작일로부터 강의 구매일 사이의 기간 4분위 별 환불 횟수\n",
        "fig = plt.figure(figsize=(15,8))                    \n",
        "sns.countplot( data = df_refund, x = 'period_quartile' , \n",
        "              order = df_refund['period_quartile'].value_counts().index )"
      ],
      "metadata": {
        "id": "eAzcYIFsgSqM"
      },
      "id": "eAzcYIFsgSqM",
      "execution_count": null,
      "outputs": []
    },
    {
      "cell_type": "code",
      "source": [
        "# 판매 시작일로부터 강의 구매일 사이의 기간 4분위 별 환불 횟수\n",
        "fig = plt.figure(figsize=(15,8))                    \n",
        "sns.countplot( data = df_refund, x = 'period_quartile' , \n",
        "              order = df_refund['period_quartile'].value_counts().index )"
      ],
      "metadata": {
        "colab": {
          "base_uri": "https://localhost:8080/",
          "height": 515
        },
        "id": "24JNTxdFsnCv",
        "outputId": "28a2a1b6-0fd2-4987-9e3a-fd043f21506b"
      },
      "id": "24JNTxdFsnCv",
      "execution_count": 48,
      "outputs": [
        {
          "output_type": "execute_result",
          "data": {
            "text/plain": [
              "<matplotlib.axes._subplots.AxesSubplot at 0x7ff735b07110>"
            ]
          },
          "metadata": {},
          "execution_count": 48
        },
        {
          "output_type": "display_data",
          "data": {
            "text/plain": [
              "<Figure size 1080x576 with 1 Axes>"
            ],
            "image/png": "[encoded data removed]"
          },
          "metadata": {
            "needs_background": "light"
          }
        }
      ]
    },
    {
      "cell_type": "markdown",
      "source": [
        "판매 시작한지 250일 초과된 데이터의 환불 횟수가 가장 크게,\n",
        "30일 이하인 데이터가 가장 적게 나타났다."
      ],
      "metadata": {
        "id": "UjGBbSWatEhD"
      },
      "id": "UjGBbSWatEhD"
    },
    {
      "cell_type": "markdown",
      "source": [
        "-> 판매 시작한지 오래된 강의들을 재편성"
      ],
      "metadata": {
        "id": "BS5yHjMc6ZGX"
      },
      "id": "BS5yHjMc6ZGX"
    },
    {
      "cell_type": "code",
      "source": [
        "# 카테고리 별 환불 횟수\n",
        "fig = plt.figure(figsize=(15,8))\n",
        "sns.countplot( data = df_refund, x = 'category_title' , \n",
        "              order = df_refund['category_title'].value_counts().index )"
      ],
      "metadata": {
        "colab": {
          "base_uri": "https://localhost:8080/",
          "height": 515
        },
        "id": "H6tkNA6LN5WQ",
        "outputId": "4002ea75-ce55-47da-bc2a-9ccf8cd7c4e8"
      },
      "id": "H6tkNA6LN5WQ",
      "execution_count": 148,
      "outputs": [
        {
          "output_type": "execute_result",
          "data": {
            "text/plain": [
              "<matplotlib.axes._subplots.AxesSubplot at 0x7f369fb68490>"
            ]
          },
          "metadata": {},
          "execution_count": 148
        },
        {
          "output_type": "display_data",
          "data": {
            "text/plain": [
              "<Figure size 1080x576 with 1 Axes>"
            ],
            "image/png": "[encoded data removed]"
          },
          "metadata": {
            "needs_background": "light"
          }
        }
      ]
    },
    {
      "cell_type": "code",
      "source": [
        "# 카테고리 별 환불 비율\n",
        "df_refund_rate=df_refund['category_title'].value_counts()/df_ORDER_delete['category_title'].value_counts()*100 \n",
        "df_refund_rate = df_refund_rate.sort_values(ascending=False)\n",
        "df_refund_rate"
      ],
      "metadata": {
        "colab": {
          "base_uri": "https://localhost:8080/"
        },
        "id": "Cd8_mebzN5TJ",
        "outputId": "7453fb4e-422b-404d-eba6-475892aa2ae2"
      },
      "id": "Cd8_mebzN5TJ",
      "execution_count": 149,
      "outputs": [
        {
          "output_type": "execute_result",
          "data": {
            "text/plain": [
              "크리에이티브      10.531221\n",
              "파이낸스         8.333333\n",
              "마케팅          6.362210\n",
              "프로그래밍        6.220235\n",
              "디자인          6.124083\n",
              "비즈니스         5.882353\n",
              "영상/3D        5.631636\n",
              "데이터사이언스      5.455202\n",
              "투자/재테크       5.376884\n",
              "업무 생산성       4.417773\n",
              "부동산/금융       4.276221\n",
              "관리                NaN\n",
              "데이터 사이언스          NaN\n",
              "지식콘텐츠             NaN\n",
              "Name: category_title, dtype: float64"
            ]
          },
          "metadata": {},
          "execution_count": 149
        }
      ]
    },
    {
      "cell_type": "code",
      "source": [
        "# 카테고리 별 환불 비율 그래프\n",
        "df_refund_rate.plot.bar(figsize = (15,6)) "
      ],
      "metadata": {
        "colab": {
          "base_uri": "https://localhost:8080/",
          "height": 446
        },
        "id": "KYepdoBrWt4U",
        "outputId": "17f7f800-5ac3-4470-8b52-f39a43c23df1"
      },
      "id": "KYepdoBrWt4U",
      "execution_count": 150,
      "outputs": [
        {
          "output_type": "execute_result",
          "data": {
            "text/plain": [
              "<matplotlib.axes._subplots.AxesSubplot at 0x7f369e1989d0>"
            ]
          },
          "metadata": {},
          "execution_count": 150
        },
        {
          "output_type": "display_data",
          "data": {
            "text/plain": [
              "<Figure size 1080x432 with 1 Axes>"
            ],
            "image/png": "[encoded data removed]"
          },
          "metadata": {
            "needs_background": "light"
          }
        }
      ]
    },
    {
      "cell_type": "markdown",
      "source": [
        "환불 비율이 높은 카테고리의 강의의 질 높이기"
      ],
      "metadata": {
        "id": "BLpZlzWGgaf8"
      },
      "id": "BLpZlzWGgaf8"
    },
    {
      "cell_type": "markdown",
      "source": [
        "##결제 시기에 따른 데이터"
      ],
      "metadata": {
        "id": "5OFRN-FVnHh9"
      },
      "id": "5OFRN-FVnHh9"
    },
    {
      "cell_type": "code",
      "source": [
        "df['completed_at'].describe()"
      ],
      "metadata": {
        "colab": {
          "base_uri": "https://localhost:8080/"
        },
        "id": "-OyWrp8eca_o",
        "outputId": "c9226126-d68a-4670-81ec-50b5115b5cb2"
      },
      "id": "-OyWrp8eca_o",
      "execution_count": 151,
      "outputs": [
        {
          "output_type": "stream",
          "name": "stderr",
          "text": [
            "/usr/local/lib/python3.7/dist-packages/ipykernel_launcher.py:1: FutureWarning: Treating datetime data as categorical rather than numeric in `.describe` is deprecated and will be removed in a future version of pandas. Specify `datetime_is_numeric=True` to silence this warning and adopt the future behavior now.\n",
            "  \"\"\"Entry point for launching an IPython kernel.\n"
          ]
        },
        {
          "output_type": "execute_result",
          "data": {
            "text/plain": [
              "count                  102933\n",
              "unique                  96415\n",
              "top       2021-08-27 15:17:38\n",
              "freq                       22\n",
              "first     2021-03-28 15:00:11\n",
              "last      2021-09-25 14:25:47\n",
              "Name: completed_at, dtype: object"
            ]
          },
          "metadata": {},
          "execution_count": 151
        }
      ]
    },
    {
      "cell_type": "code",
      "source": [
        "# 결제 월 컬럼 추가\n",
        "def func(x) :                                     \n",
        "\n",
        "    if datetime.date(2021,4,1) <= x < datetime.date(2021,5,1):   # 3월은 28일부터, 9월은 25일까지밖에 없으므로 제외\n",
        "        return \"4월\"\n",
        "    elif datetime.date(2021,5,1) <= x < datetime.date(2021,6,1):\n",
        "        return \"5월\"\n",
        "    elif datetime.date(2021,6,1) <=  x < datetime.date(2021,7,1):\n",
        "        return \"6월\"\n",
        "    elif datetime.date(2021,7,1) <=  x < datetime.date(2021,8,1):\n",
        "        return \"7월\"\n",
        "    elif datetime.date(2021,8,1) <= x < datetime.date(2021,9,1):\n",
        "        return \"8월\"\n",
        "\n",
        "df['completed_month'] = df['completed_at'].map(func)\n",
        "df.head()"
      ],
      "metadata": {
        "colab": {
          "base_uri": "https://localhost:8080/",
          "height": 819
        },
        "id": "milAgyWF8QUg",
        "outputId": "4e7cc6bc-5d19-4077-9564-ba8a47e424f9"
      },
      "id": "milAgyWF8QUg",
      "execution_count": 152,
      "outputs": [
        {
          "output_type": "stream",
          "name": "stderr",
          "text": [
            "/usr/local/lib/python3.7/dist-packages/ipykernel_launcher.py:4: FutureWarning: Comparison of Timestamp with datetime.date is deprecated in order to match the standard library behavior.  In a future version these will be considered non-comparable.Use 'ts == pd.Timestamp(date)' or 'ts.date() == date' instead.\n",
            "  after removing the cwd from sys.path.\n",
            "/usr/local/lib/python3.7/dist-packages/ipykernel_launcher.py:6: FutureWarning: Comparison of Timestamp with datetime.date is deprecated in order to match the standard library behavior.  In a future version these will be considered non-comparable.Use 'ts == pd.Timestamp(date)' or 'ts.date() == date' instead.\n",
            "  \n",
            "/usr/local/lib/python3.7/dist-packages/ipykernel_launcher.py:8: FutureWarning: Comparison of Timestamp with datetime.date is deprecated in order to match the standard library behavior.  In a future version these will be considered non-comparable.Use 'ts == pd.Timestamp(date)' or 'ts.date() == date' instead.\n",
            "  \n",
            "/usr/local/lib/python3.7/dist-packages/ipykernel_launcher.py:10: FutureWarning: Comparison of Timestamp with datetime.date is deprecated in order to match the standard library behavior.  In a future version these will be considered non-comparable.Use 'ts == pd.Timestamp(date)' or 'ts.date() == date' instead.\n",
            "  # Remove the CWD from sys.path while we load stuff.\n",
            "/usr/local/lib/python3.7/dist-packages/ipykernel_launcher.py:12: FutureWarning: Comparison of Timestamp with datetime.date is deprecated in order to match the standard library behavior.  In a future version these will be considered non-comparable.Use 'ts == pd.Timestamp(date)' or 'ts.date() == date' instead.\n",
            "  if sys.path[0] == '':\n",
            "/usr/local/lib/python3.7/dist-packages/ipykernel_launcher.py:15: SettingWithCopyWarning: \n",
            "A value is trying to be set on a copy of a slice from a DataFrame.\n",
            "Try using .loc[row_indexer,col_indexer] = value instead\n",
            "\n",
            "See the caveats in the documentation: https://pandas.pydata.org/pandas-docs/stable/user_guide/indexing.html#returning-a-view-versus-a-copy\n",
            "  from ipykernel import kernelapp as app\n"
          ]
        },
        {
          "output_type": "execute_result",
          "data": {
            "text/plain": [
              "       id  customer_id  course_id     type      state  \\\n",
              "0  970634     504760.0   201435.0    ORDER  CANCELLED   \n",
              "1  970650     432862.0   203178.0    ORDER  CANCELLED   \n",
              "2  970657      72297.0   204246.0  PAYMENT  COMPLETED   \n",
              "3  970656      72297.0   204246.0    ORDER  CANCELLED   \n",
              "4  970658     478028.0   201797.0  PAYMENT  COMPLETED   \n",
              "\n",
              "                    course_title category_title  format        completed_at  \\\n",
              "0      올인원 패키지 : 알고리즘 기술면접 완전 정복          프로그래밍     올인원 2021-03-28 15:00:11   \n",
              "1    초격차 패키지 : 한번에 끝내는 영상 촬영과 편집          영상/3D     올인원 2021-03-28 15:16:53   \n",
              "2           시크릿코드 : 프론트엔드 실무 완성편          프로그래밍  스쿨 온라인 2021-03-28 15:21:43   \n",
              "3           시크릿코드 : 프론트엔드 실무 완성편          프로그래밍  스쿨 온라인 2021-03-28 15:21:43   \n",
              "4  올인원 패키지 : 직장인 필수 스킬 3종 세트 MAX         업무 생산성     올인원 2021-03-28 15:21:54   \n",
              "\n",
              "   transaction_amount  ... sale_price  tax_free_amount   pg  method  \\\n",
              "0               90500  ...   110500.0         110500.0  NaN   VBANK   \n",
              "1               96000  ...   116000.0         116000.0  NaN    CARD   \n",
              "2              171810  ...   190900.0         190900.0  NaN    CARD   \n",
              "3              171810  ...   190900.0         190900.0  NaN    CARD   \n",
              "4               97500  ...   117500.0         117500.0  NaN    CARD   \n",
              "\n",
              "  subcategory_title marketing_start_at repeat_order            period  \\\n",
              "0           개발자 커리어                NaT        False               NaT   \n",
              "1             영상 편집         2020-12-02        False 116 days 15:16:53   \n",
              "2               NaN         2021-03-04         True  24 days 15:21:43   \n",
              "3               NaN         2021-03-04         True  24 days 15:21:43   \n",
              "4           PPT/보고서         2019-11-14         True 500 days 15:21:54   \n",
              "\n",
              "   period_quartile completed_month  \n",
              "0          250일 초과            None  \n",
              "1            ~250일            None  \n",
              "2             ~30일            None  \n",
              "3             ~30일            None  \n",
              "4          250일 초과            None  \n",
              "\n",
              "[5 rows x 22 columns]"
            ],
            "text/html": [
              "\n",
              "  <div id=\"df-2d9e0f4c-73d2-43ce-b713-dc836271315b\">\n",
              "    <div class=\"colab-df-container\">\n",
              "      <div>\n",
              "<style scoped>\n",
              "    .dataframe tbody tr th:only-of-type {\n",
              "        vertical-align: middle;\n",
              "    }\n",
              "\n",
              "    .dataframe tbody tr th {\n",
              "        vertical-align: top;\n",
              "    }\n",
              "\n",
              "    .dataframe thead th {\n",
              "        text-align: right;\n",
              "    }\n",
              "</style>\n",
              "<table border=\"1\" class=\"dataframe\">\n",
              "  <thead>\n",
              "    <tr style=\"text-align: right;\">\n",
              "      <th></th>\n",
              "      <th>id</th>\n",
              "      <th>customer_id</th>\n",
              "      <th>course_id</th>\n",
              "      <th>type</th>\n",
              "      <th>state</th>\n",
              "      <th>course_title</th>\n",
              "      <th>category_title</th>\n",
              "      <th>format</th>\n",
              "      <th>completed_at</th>\n",
              "      <th>transaction_amount</th>\n",
              "      <th>...</th>\n",
              "      <th>sale_price</th>\n",
              "      <th>tax_free_amount</th>\n",
              "      <th>pg</th>\n",
              "      <th>method</th>\n",
              "      <th>subcategory_title</th>\n",
              "      <th>marketing_start_at</th>\n",
              "      <th>repeat_order</th>\n",
              "      <th>period</th>\n",
              "      <th>period_quartile</th>\n",
              "      <th>completed_month</th>\n",
              "    </tr>\n",
              "  </thead>\n",
              "  <tbody>\n",
              "    <tr>\n",
              "      <th>0</th>\n",
              "      <td>970634</td>\n",
              "      <td>504760.0</td>\n",
              "      <td>201435.0</td>\n",
              "      <td>ORDER</td>\n",
              "      <td>CANCELLED</td>\n",
              "      <td>올인원 패키지 : 알고리즘 기술면접 완전 정복</td>\n",
              "      <td>프로그래밍</td>\n",
              "      <td>올인원</td>\n",
              "      <td>2021-03-28 15:00:11</td>\n",
              "      <td>90500</td>\n",
              "      <td>...</td>\n",
              "      <td>110500.0</td>\n",
              "      <td>110500.0</td>\n",
              "      <td>NaN</td>\n",
              "      <td>VBANK</td>\n",
              "      <td>개발자 커리어</td>\n",
              "      <td>NaT</td>\n",
              "      <td>False</td>\n",
              "      <td>NaT</td>\n",
              "      <td>250일 초과</td>\n",
              "      <td>None</td>\n",
              "    </tr>\n",
              "    <tr>\n",
              "      <th>1</th>\n",
              "      <td>970650</td>\n",
              "      <td>432862.0</td>\n",
              "      <td>203178.0</td>\n",
              "      <td>ORDER</td>\n",
              "      <td>CANCELLED</td>\n",
              "      <td>초격차 패키지 : 한번에 끝내는 영상 촬영과 편집</td>\n",
              "      <td>영상/3D</td>\n",
              "      <td>올인원</td>\n",
              "      <td>2021-03-28 15:16:53</td>\n",
              "      <td>96000</td>\n",
              "      <td>...</td>\n",
              "      <td>116000.0</td>\n",
              "      <td>116000.0</td>\n",
              "      <td>NaN</td>\n",
              "      <td>CARD</td>\n",
              "      <td>영상 편집</td>\n",
              "      <td>2020-12-02</td>\n",
              "      <td>False</td>\n",
              "      <td>116 days 15:16:53</td>\n",
              "      <td>~250일</td>\n",
              "      <td>None</td>\n",
              "    </tr>\n",
              "    <tr>\n",
              "      <th>2</th>\n",
              "      <td>970657</td>\n",
              "      <td>72297.0</td>\n",
              "      <td>204246.0</td>\n",
              "      <td>PAYMENT</td>\n",
              "      <td>COMPLETED</td>\n",
              "      <td>시크릿코드 : 프론트엔드 실무 완성편</td>\n",
              "      <td>프로그래밍</td>\n",
              "      <td>스쿨 온라인</td>\n",
              "      <td>2021-03-28 15:21:43</td>\n",
              "      <td>171810</td>\n",
              "      <td>...</td>\n",
              "      <td>190900.0</td>\n",
              "      <td>190900.0</td>\n",
              "      <td>NaN</td>\n",
              "      <td>CARD</td>\n",
              "      <td>NaN</td>\n",
              "      <td>2021-03-04</td>\n",
              "      <td>True</td>\n",
              "      <td>24 days 15:21:43</td>\n",
              "      <td>~30일</td>\n",
              "      <td>None</td>\n",
              "    </tr>\n",
              "    <tr>\n",
              "      <th>3</th>\n",
              "      <td>970656</td>\n",
              "      <td>72297.0</td>\n",
              "      <td>204246.0</td>\n",
              "      <td>ORDER</td>\n",
              "      <td>CANCELLED</td>\n",
              "      <td>시크릿코드 : 프론트엔드 실무 완성편</td>\n",
              "      <td>프로그래밍</td>\n",
              "      <td>스쿨 온라인</td>\n",
              "      <td>2021-03-28 15:21:43</td>\n",
              "      <td>171810</td>\n",
              "      <td>...</td>\n",
              "      <td>190900.0</td>\n",
              "      <td>190900.0</td>\n",
              "      <td>NaN</td>\n",
              "      <td>CARD</td>\n",
              "      <td>NaN</td>\n",
              "      <td>2021-03-04</td>\n",
              "      <td>True</td>\n",
              "      <td>24 days 15:21:43</td>\n",
              "      <td>~30일</td>\n",
              "      <td>None</td>\n",
              "    </tr>\n",
              "    <tr>\n",
              "      <th>4</th>\n",
              "      <td>970658</td>\n",
              "      <td>478028.0</td>\n",
              "      <td>201797.0</td>\n",
              "      <td>PAYMENT</td>\n",
              "      <td>COMPLETED</td>\n",
              "      <td>올인원 패키지 : 직장인 필수 스킬 3종 세트 MAX</td>\n",
              "      <td>업무 생산성</td>\n",
              "      <td>올인원</td>\n",
              "      <td>2021-03-28 15:21:54</td>\n",
              "      <td>97500</td>\n",
              "      <td>...</td>\n",
              "      <td>117500.0</td>\n",
              "      <td>117500.0</td>\n",
              "      <td>NaN</td>\n",
              "      <td>CARD</td>\n",
              "      <td>PPT/보고서</td>\n",
              "      <td>2019-11-14</td>\n",
              "      <td>True</td>\n",
              "      <td>500 days 15:21:54</td>\n",
              "      <td>250일 초과</td>\n",
              "      <td>None</td>\n",
              "    </tr>\n",
              "  </tbody>\n",
              "</table>\n",
              "<p>5 rows × 22 columns</p>\n",
              "</div>\n",
              "      <button class=\"colab-df-convert\" onclick=\"convertToInteractive('df-2d9e0f4c-73d2-43ce-b713-dc836271315b')\"\n",
              "              title=\"Convert this dataframe to an interactive table.\"\n",
              "              style=\"display:none;\">\n",
              "        \n",
              "  <svg xmlns=\"http://www.w3.org/2000/svg\" height=\"24px\"viewBox=\"0 0 24 24\"\n",
              "       width=\"24px\">\n",
              "    <path d=\"M0 0h24v24H0V0z\" fill=\"none\"/>\n",
              "    <path d=\"M18.56 5.44l.94 2.06.94-2.06 2.06-.94-2.06-.94-.94-2.06-.94 2.06-2.06.94zm-11 1L8.5 8.5l.94-2.06 2.06-.94-2.06-.94L8.5 2.5l-.94 2.06-2.06.94zm10 10l.94 2.06.94-2.06 2.06-.94-2.06-.94-.94-2.06-.94 2.06-2.06.94z\"/><path d=\"M17.41 7.96l-1.37-1.37c-.4-.4-.92-.59-1.43-.59-.52 0-1.04.2-1.43.59L10.3 9.45l-7.72 7.72c-.78.78-.78 2.05 0 2.83L4 21.41c.39.39.9.59 1.41.59.51 0 1.02-.2 1.41-.59l7.78-7.78 2.81-2.81c.8-.78.8-2.07 0-2.86zM5.41 20L4 18.59l7.72-7.72 1.47 1.35L5.41 20z\"/>\n",
              "  </svg>\n",
              "      </button>\n",
              "      \n",
              "  <style>\n",
              "    .colab-df-container {\n",
              "      display:flex;\n",
              "      flex-wrap:wrap;\n",
              "      gap: 12px;\n",
              "    }\n",
              "\n",
              "    .colab-df-convert {\n",
              "      background-color: #E8F0FE;\n",
              "      border: none;\n",
              "      border-radius: 50%;\n",
              "      cursor: pointer;\n",
              "      display: none;\n",
              "      fill: #1967D2;\n",
              "      height: 32px;\n",
              "      padding: 0 0 0 0;\n",
              "      width: 32px;\n",
              "    }\n",
              "\n",
              "    .colab-df-convert:hover {\n",
              "      background-color: #E2EBFA;\n",
              "      box-shadow: 0px 1px 2px rgba(60, 64, 67, 0.3), 0px 1px 3px 1px rgba(60, 64, 67, 0.15);\n",
              "      fill: #174EA6;\n",
              "    }\n",
              "\n",
              "    [theme=dark] .colab-df-convert {\n",
              "      background-color: #3B4455;\n",
              "      fill: #D2E3FC;\n",
              "    }\n",
              "\n",
              "    [theme=dark] .colab-df-convert:hover {\n",
              "      background-color: #434B5C;\n",
              "      box-shadow: 0px 1px 3px 1px rgba(0, 0, 0, 0.15);\n",
              "      filter: drop-shadow(0px 1px 2px rgba(0, 0, 0, 0.3));\n",
              "      fill: #FFFFFF;\n",
              "    }\n",
              "  </style>\n",
              "\n",
              "      <script>\n",
              "        const buttonEl =\n",
              "          document.querySelector('#df-2d9e0f4c-73d2-43ce-b713-dc836271315b button.colab-df-convert');\n",
              "        buttonEl.style.display =\n",
              "          google.colab.kernel.accessAllowed ? 'block' : 'none';\n",
              "\n",
              "        async function convertToInteractive(key) {\n",
              "          const element = document.querySelector('#df-2d9e0f4c-73d2-43ce-b713-dc836271315b');\n",
              "          const dataTable =\n",
              "            await google.colab.kernel.invokeFunction('convertToInteractive',\n",
              "                                                     [key], {});\n",
              "          if (!dataTable) return;\n",
              "\n",
              "          const docLinkHtml = 'Like what you see? Visit the ' +\n",
              "            '<a target=\"_blank\" href=https://colab.research.google.com/notebooks/data_table.ipynb>data table notebook</a>'\n",
              "            + ' to learn more about interactive tables.';\n",
              "          element.innerHTML = '';\n",
              "          dataTable['output_type'] = 'display_data';\n",
              "          await google.colab.output.renderOutput(dataTable, element);\n",
              "          const docLink = document.createElement('div');\n",
              "          docLink.innerHTML = docLinkHtml;\n",
              "          element.appendChild(docLink);\n",
              "        }\n",
              "      </script>\n",
              "    </div>\n",
              "  </div>\n",
              "  "
            ]
          },
          "metadata": {},
          "execution_count": 152
        }
      ]
    },
    {
      "cell_type": "code",
      "source": [
        "# 월 별 총 수입\n",
        "how = {                                        \n",
        "    'transaction_amount' : np.sum\n",
        "}\n",
        "\n",
        "month_account = df.groupby('completed_month').agg(how)\n",
        "month_account = month_account.sort_values('transaction_amount', ascending=False)"
      ],
      "metadata": {
        "id": "NUoptd6Yggm6"
      },
      "id": "NUoptd6Yggm6",
      "execution_count": 153,
      "outputs": []
    },
    {
      "cell_type": "code",
      "source": [
        "# 월 별 총 수입 그래프\n",
        "month_account.plot.bar(figsize = (10,6)) "
      ],
      "metadata": {
        "colab": {
          "base_uri": "https://localhost:8080/",
          "height": 421
        },
        "id": "Qhn7Xw96gz0i",
        "outputId": "4ab33987-dcef-4b20-ab1d-14fa226a03a2"
      },
      "id": "Qhn7Xw96gz0i",
      "execution_count": 154,
      "outputs": [
        {
          "output_type": "execute_result",
          "data": {
            "text/plain": [
              "<matplotlib.axes._subplots.AxesSubplot at 0x7f369fb589d0>"
            ]
          },
          "metadata": {},
          "execution_count": 154
        },
        {
          "output_type": "display_data",
          "data": {
            "text/plain": [
              "<Figure size 720x432 with 1 Axes>"
            ],
            "image/png": "[encoded data removed]"
          },
          "metadata": {
            "needs_background": "light"
          }
        }
      ]
    },
    {
      "cell_type": "code",
      "source": [
        "def weekdays(x) :           \n",
        "    if x.weekday() == 0: \n",
        "        return \"월요일\"\n",
        "    elif x.weekday() == 1: \n",
        "        return \"화요일\"\n",
        "    elif x.weekday() == 2: \n",
        "        return \"수요일\"\n",
        "    elif x.weekday() == 3: \n",
        "        return \"목요일\"\n",
        "    elif x.weekday() == 4: \n",
        "        return \"금요일\"\n",
        "    elif x.weekday() == 5: \n",
        "        return \"토요일\"\n",
        "    elif x.weekday() == 6: \n",
        "        return \"일요일\"        \n",
        "\n",
        "df['completed_weekday'] = df['completed_at'].map(weekdays)\n",
        "df.head()"
      ],
      "metadata": {
        "colab": {
          "base_uri": "https://localhost:8080/",
          "height": 617
        },
        "id": "V5AtHXpBory_",
        "outputId": "b158ee34-3192-4204-871b-0a2408fca4b9"
      },
      "id": "V5AtHXpBory_",
      "execution_count": 155,
      "outputs": [
        {
          "output_type": "stream",
          "name": "stderr",
          "text": [
            "/usr/local/lib/python3.7/dist-packages/ipykernel_launcher.py:17: SettingWithCopyWarning: \n",
            "A value is trying to be set on a copy of a slice from a DataFrame.\n",
            "Try using .loc[row_indexer,col_indexer] = value instead\n",
            "\n",
            "See the caveats in the documentation: https://pandas.pydata.org/pandas-docs/stable/user_guide/indexing.html#returning-a-view-versus-a-copy\n"
          ]
        },
        {
          "output_type": "execute_result",
          "data": {
            "text/plain": [
              "       id  customer_id  course_id     type      state  \\\n",
              "0  970634     504760.0   201435.0    ORDER  CANCELLED   \n",
              "1  970650     432862.0   203178.0    ORDER  CANCELLED   \n",
              "2  970657      72297.0   204246.0  PAYMENT  COMPLETED   \n",
              "3  970656      72297.0   204246.0    ORDER  CANCELLED   \n",
              "4  970658     478028.0   201797.0  PAYMENT  COMPLETED   \n",
              "\n",
              "                    course_title category_title  format        completed_at  \\\n",
              "0      올인원 패키지 : 알고리즘 기술면접 완전 정복          프로그래밍     올인원 2021-03-28 15:00:11   \n",
              "1    초격차 패키지 : 한번에 끝내는 영상 촬영과 편집          영상/3D     올인원 2021-03-28 15:16:53   \n",
              "2           시크릿코드 : 프론트엔드 실무 완성편          프로그래밍  스쿨 온라인 2021-03-28 15:21:43   \n",
              "3           시크릿코드 : 프론트엔드 실무 완성편          프로그래밍  스쿨 온라인 2021-03-28 15:21:43   \n",
              "4  올인원 패키지 : 직장인 필수 스킬 3종 세트 MAX         업무 생산성     올인원 2021-03-28 15:21:54   \n",
              "\n",
              "   transaction_amount  ... tax_free_amount   pg  method  subcategory_title  \\\n",
              "0               90500  ...        110500.0  NaN   VBANK            개발자 커리어   \n",
              "1               96000  ...        116000.0  NaN    CARD              영상 편집   \n",
              "2              171810  ...        190900.0  NaN    CARD                NaN   \n",
              "3              171810  ...        190900.0  NaN    CARD                NaN   \n",
              "4               97500  ...        117500.0  NaN    CARD            PPT/보고서   \n",
              "\n",
              "  marketing_start_at repeat_order            period period_quartile  \\\n",
              "0                NaT        False               NaT         250일 초과   \n",
              "1         2020-12-02        False 116 days 15:16:53           ~250일   \n",
              "2         2021-03-04         True  24 days 15:21:43            ~30일   \n",
              "3         2021-03-04         True  24 days 15:21:43            ~30일   \n",
              "4         2019-11-14         True 500 days 15:21:54         250일 초과   \n",
              "\n",
              "   completed_month completed_weekday  \n",
              "0             None               일요일  \n",
              "1             None               일요일  \n",
              "2             None               일요일  \n",
              "3             None               일요일  \n",
              "4             None               일요일  \n",
              "\n",
              "[5 rows x 23 columns]"
            ],
            "text/html": [
              "\n",
              "  <div id=\"df-8bc8a7e3-f169-47d3-907a-34695e389d34\">\n",
              "    <div class=\"colab-df-container\">\n",
              "      <div>\n",
              "<style scoped>\n",
              "    .dataframe tbody tr th:only-of-type {\n",
              "        vertical-align: middle;\n",
              "    }\n",
              "\n",
              "    .dataframe tbody tr th {\n",
              "        vertical-align: top;\n",
              "    }\n",
              "\n",
              "    .dataframe thead th {\n",
              "        text-align: right;\n",
              "    }\n",
              "</style>\n",
              "<table border=\"1\" class=\"dataframe\">\n",
              "  <thead>\n",
              "    <tr style=\"text-align: right;\">\n",
              "      <th></th>\n",
              "      <th>id</th>\n",
              "      <th>customer_id</th>\n",
              "      <th>course_id</th>\n",
              "      <th>type</th>\n",
              "      <th>state</th>\n",
              "      <th>course_title</th>\n",
              "      <th>category_title</th>\n",
              "      <th>format</th>\n",
              "      <th>completed_at</th>\n",
              "      <th>transaction_amount</th>\n",
              "      <th>...</th>\n",
              "      <th>tax_free_amount</th>\n",
              "      <th>pg</th>\n",
              "      <th>method</th>\n",
              "      <th>subcategory_title</th>\n",
              "      <th>marketing_start_at</th>\n",
              "      <th>repeat_order</th>\n",
              "      <th>period</th>\n",
              "      <th>period_quartile</th>\n",
              "      <th>completed_month</th>\n",
              "      <th>completed_weekday</th>\n",
              "    </tr>\n",
              "  </thead>\n",
              "  <tbody>\n",
              "    <tr>\n",
              "      <th>0</th>\n",
              "      <td>970634</td>\n",
              "      <td>504760.0</td>\n",
              "      <td>201435.0</td>\n",
              "      <td>ORDER</td>\n",
              "      <td>CANCELLED</td>\n",
              "      <td>올인원 패키지 : 알고리즘 기술면접 완전 정복</td>\n",
              "      <td>프로그래밍</td>\n",
              "      <td>올인원</td>\n",
              "      <td>2021-03-28 15:00:11</td>\n",
              "      <td>90500</td>\n",
              "      <td>...</td>\n",
              "      <td>110500.0</td>\n",
              "      <td>NaN</td>\n",
              "      <td>VBANK</td>\n",
              "      <td>개발자 커리어</td>\n",
              "      <td>NaT</td>\n",
              "      <td>False</td>\n",
              "      <td>NaT</td>\n",
              "      <td>250일 초과</td>\n",
              "      <td>None</td>\n",
              "      <td>일요일</td>\n",
              "    </tr>\n",
              "    <tr>\n",
              "      <th>1</th>\n",
              "      <td>970650</td>\n",
              "      <td>432862.0</td>\n",
              "      <td>203178.0</td>\n",
              "      <td>ORDER</td>\n",
              "      <td>CANCELLED</td>\n",
              "      <td>초격차 패키지 : 한번에 끝내는 영상 촬영과 편집</td>\n",
              "      <td>영상/3D</td>\n",
              "      <td>올인원</td>\n",
              "      <td>2021-03-28 15:16:53</td>\n",
              "      <td>96000</td>\n",
              "      <td>...</td>\n",
              "      <td>116000.0</td>\n",
              "      <td>NaN</td>\n",
              "      <td>CARD</td>\n",
              "      <td>영상 편집</td>\n",
              "      <td>2020-12-02</td>\n",
              "      <td>False</td>\n",
              "      <td>116 days 15:16:53</td>\n",
              "      <td>~250일</td>\n",
              "      <td>None</td>\n",
              "      <td>일요일</td>\n",
              "    </tr>\n",
              "    <tr>\n",
              "      <th>2</th>\n",
              "      <td>970657</td>\n",
              "      <td>72297.0</td>\n",
              "      <td>204246.0</td>\n",
              "      <td>PAYMENT</td>\n",
              "      <td>COMPLETED</td>\n",
              "      <td>시크릿코드 : 프론트엔드 실무 완성편</td>\n",
              "      <td>프로그래밍</td>\n",
              "      <td>스쿨 온라인</td>\n",
              "      <td>2021-03-28 15:21:43</td>\n",
              "      <td>171810</td>\n",
              "      <td>...</td>\n",
              "      <td>190900.0</td>\n",
              "      <td>NaN</td>\n",
              "      <td>CARD</td>\n",
              "      <td>NaN</td>\n",
              "      <td>2021-03-04</td>\n",
              "      <td>True</td>\n",
              "      <td>24 days 15:21:43</td>\n",
              "      <td>~30일</td>\n",
              "      <td>None</td>\n",
              "      <td>일요일</td>\n",
              "    </tr>\n",
              "    <tr>\n",
              "      <th>3</th>\n",
              "      <td>970656</td>\n",
              "      <td>72297.0</td>\n",
              "      <td>204246.0</td>\n",
              "      <td>ORDER</td>\n",
              "      <td>CANCELLED</td>\n",
              "      <td>시크릿코드 : 프론트엔드 실무 완성편</td>\n",
              "      <td>프로그래밍</td>\n",
              "      <td>스쿨 온라인</td>\n",
              "      <td>2021-03-28 15:21:43</td>\n",
              "      <td>171810</td>\n",
              "      <td>...</td>\n",
              "      <td>190900.0</td>\n",
              "      <td>NaN</td>\n",
              "      <td>CARD</td>\n",
              "      <td>NaN</td>\n",
              "      <td>2021-03-04</td>\n",
              "      <td>True</td>\n",
              "      <td>24 days 15:21:43</td>\n",
              "      <td>~30일</td>\n",
              "      <td>None</td>\n",
              "      <td>일요일</td>\n",
              "    </tr>\n",
              "    <tr>\n",
              "      <th>4</th>\n",
              "      <td>970658</td>\n",
              "      <td>478028.0</td>\n",
              "      <td>201797.0</td>\n",
              "      <td>PAYMENT</td>\n",
              "      <td>COMPLETED</td>\n",
              "      <td>올인원 패키지 : 직장인 필수 스킬 3종 세트 MAX</td>\n",
              "      <td>업무 생산성</td>\n",
              "      <td>올인원</td>\n",
              "      <td>2021-03-28 15:21:54</td>\n",
              "      <td>97500</td>\n",
              "      <td>...</td>\n",
              "      <td>117500.0</td>\n",
              "      <td>NaN</td>\n",
              "      <td>CARD</td>\n",
              "      <td>PPT/보고서</td>\n",
              "      <td>2019-11-14</td>\n",
              "      <td>True</td>\n",
              "      <td>500 days 15:21:54</td>\n",
              "      <td>250일 초과</td>\n",
              "      <td>None</td>\n",
              "      <td>일요일</td>\n",
              "    </tr>\n",
              "  </tbody>\n",
              "</table>\n",
              "<p>5 rows × 23 columns</p>\n",
              "</div>\n",
              "      <button class=\"colab-df-convert\" onclick=\"convertToInteractive('df-8bc8a7e3-f169-47d3-907a-34695e389d34')\"\n",
              "              title=\"Convert this dataframe to an interactive table.\"\n",
              "              style=\"display:none;\">\n",
              "        \n",
              "  <svg xmlns=\"http://www.w3.org/2000/svg\" height=\"24px\"viewBox=\"0 0 24 24\"\n",
              "       width=\"24px\">\n",
              "    <path d=\"M0 0h24v24H0V0z\" fill=\"none\"/>\n",
              "    <path d=\"M18.56 5.44l.94 2.06.94-2.06 2.06-.94-2.06-.94-.94-2.06-.94 2.06-2.06.94zm-11 1L8.5 8.5l.94-2.06 2.06-.94-2.06-.94L8.5 2.5l-.94 2.06-2.06.94zm10 10l.94 2.06.94-2.06 2.06-.94-2.06-.94-.94-2.06-.94 2.06-2.06.94z\"/><path d=\"M17.41 7.96l-1.37-1.37c-.4-.4-.92-.59-1.43-.59-.52 0-1.04.2-1.43.59L10.3 9.45l-7.72 7.72c-.78.78-.78 2.05 0 2.83L4 21.41c.39.39.9.59 1.41.59.51 0 1.02-.2 1.41-.59l7.78-7.78 2.81-2.81c.8-.78.8-2.07 0-2.86zM5.41 20L4 18.59l7.72-7.72 1.47 1.35L5.41 20z\"/>\n",
              "  </svg>\n",
              "      </button>\n",
              "      \n",
              "  <style>\n",
              "    .colab-df-container {\n",
              "      display:flex;\n",
              "      flex-wrap:wrap;\n",
              "      gap: 12px;\n",
              "    }\n",
              "\n",
              "    .colab-df-convert {\n",
              "      background-color: #E8F0FE;\n",
              "      border: none;\n",
              "      border-radius: 50%;\n",
              "      cursor: pointer;\n",
              "      display: none;\n",
              "      fill: #1967D2;\n",
              "      height: 32px;\n",
              "      padding: 0 0 0 0;\n",
              "      width: 32px;\n",
              "    }\n",
              "\n",
              "    .colab-df-convert:hover {\n",
              "      background-color: #E2EBFA;\n",
              "      box-shadow: 0px 1px 2px rgba(60, 64, 67, 0.3), 0px 1px 3px 1px rgba(60, 64, 67, 0.15);\n",
              "      fill: #174EA6;\n",
              "    }\n",
              "\n",
              "    [theme=dark] .colab-df-convert {\n",
              "      background-color: #3B4455;\n",
              "      fill: #D2E3FC;\n",
              "    }\n",
              "\n",
              "    [theme=dark] .colab-df-convert:hover {\n",
              "      background-color: #434B5C;\n",
              "      box-shadow: 0px 1px 3px 1px rgba(0, 0, 0, 0.15);\n",
              "      filter: drop-shadow(0px 1px 2px rgba(0, 0, 0, 0.3));\n",
              "      fill: #FFFFFF;\n",
              "    }\n",
              "  </style>\n",
              "\n",
              "      <script>\n",
              "        const buttonEl =\n",
              "          document.querySelector('#df-8bc8a7e3-f169-47d3-907a-34695e389d34 button.colab-df-convert');\n",
              "        buttonEl.style.display =\n",
              "          google.colab.kernel.accessAllowed ? 'block' : 'none';\n",
              "\n",
              "        async function convertToInteractive(key) {\n",
              "          const element = document.querySelector('#df-8bc8a7e3-f169-47d3-907a-34695e389d34');\n",
              "          const dataTable =\n",
              "            await google.colab.kernel.invokeFunction('convertToInteractive',\n",
              "                                                     [key], {});\n",
              "          if (!dataTable) return;\n",
              "\n",
              "          const docLinkHtml = 'Like what you see? Visit the ' +\n",
              "            '<a target=\"_blank\" href=https://colab.research.google.com/notebooks/data_table.ipynb>data table notebook</a>'\n",
              "            + ' to learn more about interactive tables.';\n",
              "          element.innerHTML = '';\n",
              "          dataTable['output_type'] = 'display_data';\n",
              "          await google.colab.output.renderOutput(dataTable, element);\n",
              "          const docLink = document.createElement('div');\n",
              "          docLink.innerHTML = docLinkHtml;\n",
              "          element.appendChild(docLink);\n",
              "        }\n",
              "      </script>\n",
              "    </div>\n",
              "  </div>\n",
              "  "
            ]
          },
          "metadata": {},
          "execution_count": 155
        }
      ]
    },
    {
      "cell_type": "code",
      "source": [
        "# 요일 별 총 수입\n",
        "how = {                                        \n",
        "    'transaction_amount' : np.sum\n",
        "}\n",
        "\n",
        "weekday_account = df.groupby('completed_weekday').agg(how)\n",
        "weekday_account = weekday_account.sort_values('transaction_amount', ascending=False)"
      ],
      "metadata": {
        "id": "QrhhP15Mq-5C"
      },
      "id": "QrhhP15Mq-5C",
      "execution_count": 156,
      "outputs": []
    },
    {
      "cell_type": "code",
      "source": [
        "# 요일 별 총 수입 그래프\n",
        "weekday_account.plot.bar(figsize = (10,6)) "
      ],
      "metadata": {
        "colab": {
          "base_uri": "https://localhost:8080/",
          "height": 433
        },
        "id": "AYsqg8zqzhwE",
        "outputId": "0fee58bc-da3f-4a62-de6f-e8a8cf444262"
      },
      "id": "AYsqg8zqzhwE",
      "execution_count": 159,
      "outputs": [
        {
          "output_type": "execute_result",
          "data": {
            "text/plain": [
              "<matplotlib.axes._subplots.AxesSubplot at 0x7f369dfde9d0>"
            ]
          },
          "metadata": {},
          "execution_count": 159
        },
        {
          "output_type": "display_data",
          "data": {
            "text/plain": [
              "<Figure size 720x432 with 1 Axes>"
            ],
            "image/png": "[encoded data removed]"
          },
          "metadata": {
            "needs_background": "light"
          }
        }
      ]
    },
    {
      "cell_type": "code",
      "source": [
        "x = datetime.date(2021,4,10)\n",
        "x.day"
      ],
      "metadata": {
        "colab": {
          "base_uri": "https://localhost:8080/"
        },
        "id": "wVibaGeH4mL3",
        "outputId": "143b0ff2-22f2-4a9e-887d-8965c69260a7"
      },
      "id": "wVibaGeH4mL3",
      "execution_count": 158,
      "outputs": [
        {
          "output_type": "execute_result",
          "data": {
            "text/plain": [
              "10"
            ]
          },
          "metadata": {},
          "execution_count": 158
        }
      ]
    },
    {
      "cell_type": "code",
      "source": [
        "# 결제 일 컬럼 추가\n",
        "def days(x) :  \n",
        "    if x < datetime.date(2021,4,1) or x >= datetime.date(2021,9,1):     # 3월은 28일부터, 9월은 25일까지밖에 없으므로 제외\n",
        "        return None\n",
        "    else:          \n",
        "        return x.day\n",
        "    \n",
        "\n",
        "df['completed_day'] = df['completed_at'].map(days)\n",
        "df.loc[12000, 'completed_day']"
      ],
      "metadata": {
        "colab": {
          "base_uri": "https://localhost:8080/"
        },
        "id": "u27hlROV4mJu",
        "outputId": "bf40d67e-39b8-4c81-f75e-912f02ad2e32"
      },
      "id": "u27hlROV4mJu",
      "execution_count": 160,
      "outputs": [
        {
          "output_type": "stream",
          "name": "stderr",
          "text": [
            "/usr/local/lib/python3.7/dist-packages/ipykernel_launcher.py:3: FutureWarning: Comparison of Timestamp with datetime.date is deprecated in order to match the standard library behavior.  In a future version these will be considered non-comparable.Use 'ts == pd.Timestamp(date)' or 'ts.date() == date' instead.\n",
            "  This is separate from the ipykernel package so we can avoid doing imports until\n",
            "/usr/local/lib/python3.7/dist-packages/ipykernel_launcher.py:9: SettingWithCopyWarning: \n",
            "A value is trying to be set on a copy of a slice from a DataFrame.\n",
            "Try using .loc[row_indexer,col_indexer] = value instead\n",
            "\n",
            "See the caveats in the documentation: https://pandas.pydata.org/pandas-docs/stable/user_guide/indexing.html#returning-a-view-versus-a-copy\n",
            "  if __name__ == '__main__':\n"
          ]
        },
        {
          "output_type": "execute_result",
          "data": {
            "text/plain": [
              "11.0"
            ]
          },
          "metadata": {},
          "execution_count": 160
        }
      ]
    },
    {
      "cell_type": "code",
      "source": [
        "# 일 별 총 수입\n",
        "how = {                                        \n",
        "    'transaction_amount' : np.sum\n",
        "}\n",
        "\n",
        "day_account = df.groupby('completed_day').agg(how)\n",
        "day_account = day_account.sort_values('transaction_amount', ascending=False)"
      ],
      "metadata": {
        "id": "QixCr_KQ4mHo"
      },
      "id": "QixCr_KQ4mHo",
      "execution_count": 161,
      "outputs": []
    },
    {
      "cell_type": "code",
      "source": [
        "# 일 별 총 수입 그래프\n",
        "day_account.plot.bar(figsize = (20,6)) "
      ],
      "metadata": {
        "colab": {
          "base_uri": "https://localhost:8080/",
          "height": 427
        },
        "id": "rysp6WLY4mFW",
        "outputId": "ac014c3f-a6f2-4e7d-abcb-bf50af6401c5"
      },
      "id": "rysp6WLY4mFW",
      "execution_count": 162,
      "outputs": [
        {
          "output_type": "execute_result",
          "data": {
            "text/plain": [
              "<matplotlib.axes._subplots.AxesSubplot at 0x7f369dff5650>"
            ]
          },
          "metadata": {},
          "execution_count": 162
        },
        {
          "output_type": "display_data",
          "data": {
            "text/plain": [
              "<Figure size 1440x432 with 1 Axes>"
            ],
            "image/png": "[encoded data removed]"
          },
          "metadata": {
            "needs_background": "light"
          }
        }
      ]
    },
    {
      "cell_type": "code",
      "source": [
        "df['Time']=  df['completed_at'].dt.hour\n",
        "time_account = df.groupby('Time').agg(how)\n",
        "time_account.plot.bar()\n"
      ],
      "metadata": {
        "colab": {
          "base_uri": "https://localhost:8080/",
          "height": 309
        },
        "id": "5OxwZ-KqBpsJ",
        "outputId": "cf1082bc-1049-411e-a4a0-b57dd523b6ad"
      },
      "id": "5OxwZ-KqBpsJ",
      "execution_count": 240,
      "outputs": [
        {
          "output_type": "execute_result",
          "data": {
            "text/plain": [
              "<matplotlib.axes._subplots.AxesSubplot at 0x7f369f5be710>"
            ]
          },
          "metadata": {},
          "execution_count": 240
        },
        {
          "output_type": "display_data",
          "data": {
            "text/plain": [
              "<Figure size 432x288 with 1 Axes>"
            ],
            "image/png": "[encoded data removed]"
          },
          "metadata": {
            "needs_background": "light"
          }
        }
      ]
    },
    {
      "cell_type": "markdown",
      "source": [
        "방학시즌인 6,7월, 주말인 일요일, 월말인 30,31일, 그리고 하루의 마지막인 20~23시에 수입이 높게 나타난다."
      ],
      "metadata": {
        "id": "F4Bmr3x8_V4u"
      },
      "id": "F4Bmr3x8_V4u"
    },
    {
      "cell_type": "markdown",
      "source": [
        "  ->  매출 높은 시기에 광고 늘리기"
      ],
      "metadata": {
        "id": "D9g6pIoe_UIU"
      },
      "id": "D9g6pIoe_UIU"
    },
    {
      "cell_type": "code",
      "source": [
        "# 월 말에 가장 잘 팔리는 강의 카테고리\n"
      ],
      "metadata": {
        "id": "lt1O2M_Y4mDB"
      },
      "id": "lt1O2M_Y4mDB",
      "execution_count": 164,
      "outputs": []
    },
    {
      "cell_type": "code",
      "source": [
        ""
      ],
      "metadata": {
        "id": "trhJE_BC4l-s"
      },
      "id": "trhJE_BC4l-s",
      "execution_count": null,
      "outputs": []
    },
    {
      "cell_type": "code",
      "source": [
        ""
      ],
      "metadata": {
        "id": "OrxQlVce4l83"
      },
      "id": "OrxQlVce4l83",
      "execution_count": null,
      "outputs": []
    },
    {
      "cell_type": "code",
      "source": [
        ""
      ],
      "metadata": {
        "id": "eCF76x3s4l61"
      },
      "id": "eCF76x3s4l61",
      "execution_count": null,
      "outputs": []
    },
    {
      "cell_type": "code",
      "source": [
        ""
      ],
      "metadata": {
        "id": "zyZD5pxW4l4l"
      },
      "id": "zyZD5pxW4l4l",
      "execution_count": null,
      "outputs": []
    },
    {
      "cell_type": "code",
      "source": [
        ""
      ],
      "metadata": {
        "id": "3JuMGjRI4l2b"
      },
      "id": "3JuMGjRI4l2b",
      "execution_count": null,
      "outputs": []
    },
    {
      "cell_type": "code",
      "source": [
        ""
      ],
      "metadata": {
        "id": "5Jvg6IFO4l0R"
      },
      "id": "5Jvg6IFO4l0R",
      "execution_count": null,
      "outputs": []
    },
    {
      "cell_type": "code",
      "source": [
        ""
      ],
      "metadata": {
        "id": "AeY2QBkn4lxz"
      },
      "id": "AeY2QBkn4lxz",
      "execution_count": null,
      "outputs": []
    },
    {
      "cell_type": "code",
      "source": [
        ""
      ],
      "metadata": {
        "id": "Ts55cOmb4lvX"
      },
      "id": "Ts55cOmb4lvX",
      "execution_count": null,
      "outputs": []
    }
  ],
  "metadata": {
    "kernelspec": {
      "display_name": "Python 3",
      "language": "python",
      "name": "python3"
    },
    "language_info": {
      "codemirror_mode": {
        "name": "ipython",
        "version": 3
      },
      "file_extension": ".py",
      "mimetype": "text/x-python",
      "name": "python",
      "nbconvert_exporter": "python",
      "pygments_lexer": "ipython3",
      "version": "3.8.8"
    },
    "toc": {
      "base_numbering": 1,
      "nav_menu": {},
      "number_sections": true,
      "sideBar": true,
      "skip_h1_title": false,
      "title_cell": "Table of Contents",
      "title_sidebar": "Contents",
      "toc_cell": false,
      "toc_position": {},
      "toc_section_display": true,
      "toc_window_display": false
    },
    "colab": {
      "name": "정구범_패스트캠퍼스_데이터분석.ipynb",
      "provenance": [],
      "collapsed_sections": [
        "f3a595ee",
        "14bc6b5a",
        "iDEZyFFlivwT",
        "5OFRN-FVnHh9"
      ],
      "include_colab_link": true
    }
  },
  "nbformat": 4,
  "nbformat_minor": 5
}