{
  "nbformat": 4,
  "nbformat_minor": 0,
  "metadata": {
    "colab": {
      "name": "baekjoon_step5.ipynb",
      "provenance": [],
      "collapsed_sections": [],
      "authorship_tag": "ABX9TyMc6/ipZ8lpyPL40kPyNCeU",
      "include_colab_link": true
    },
    "kernelspec": {
      "name": "python3",
      "display_name": "Python 3"
    },
    "language_info": {
      "name": "python"
    }
  },
  "cells": [
    {
      "cell_type": "markdown",
      "metadata": {
        "id": "view-in-github",
        "colab_type": "text"
      },
      "source": [
        "<a href=\"https://colab.research.google.com/github/wjdrnqja9/TIL/blob/main/algorithm/baekjoon/baekjoon_step5.ipynb\" target=\"_parent\"><img src=\"https://colab.research.google.com/assets/colab-badge.svg\" alt=\"Open In Colab\"/></a>"
      ]
    },
    {
      "cell_type": "markdown",
      "source": [
        "15596. 정수 n개가 주어졌을 때, n개의 합을 구하는 함수를 작성하시오."
      ],
      "metadata": {
        "id": "QTcUJYtp20s4"
      }
    },
    {
      "cell_type": "code",
      "source": [
        "def nsum(a):\n",
        "\n",
        "    return sum(a)\n",
        "\n",
        "a = [1, 2, 3, 4, 5, 6, 7, 8, 9, 10]\n",
        "\n",
        "nsum(a)\n"
      ],
      "metadata": {
        "colab": {
          "base_uri": "https://localhost:8080/"
        },
        "id": "CLxWqnUQD3ME",
        "outputId": "a5314185-f8e1-4e38-924f-ab672c64e142"
      },
      "execution_count": null,
      "outputs": [
        {
          "output_type": "execute_result",
          "data": {
            "text/plain": [
              "55"
            ]
          },
          "metadata": {},
          "execution_count": 2
        }
      ]
    },
    {
      "cell_type": "markdown",
      "source": [
        "4673. 셀프 넘버는 1949년 인도 수학자 D.R. Kaprekar가 이름 붙였다. 양의 정수 n에 대해서 d(n)을 n과 n의 각 자리수를 더하는 함수라고 정의하자. 예를 들어, d(75) = 75+7+5 = 87이다.\n",
        "\n",
        "양의 정수 n이 주어졌을 때, 이 수를 시작해서 n, d(n), d(d(n)), d(d(d(n))), ...과 같은 무한 수열을 만들 수 있다. \n",
        "\n",
        "예를 들어, 33으로 시작한다면 다음 수는 33 + 3 + 3 = 39이고, 그 다음 수는 39 + 3 + 9 = 51, 다음 수는 51 + 5 + 1 = 57이다. 이런식으로 다음과 같은 수열을 만들 수 있다.\n",
        "\n",
        "33, 39, 51, 57, 69, 84, 96, 111, 114, 120, 123, 129, 141, ...\n",
        "\n",
        "n을 d(n)의 생성자라고 한다. 위의 수열에서 33은 39의 생성자이고, 39는 51의 생성자, 51은 57의 생성자이다. 생성자가 한 개보다 많은 경우도 있다. 예를 들어, 101은 생성자가 2개(91과 100) 있다. \n",
        "\n",
        "생성자가 없는 숫자를 셀프 넘버라고 한다. 100보다 작은 셀프 넘버는 총 13개가 있다. 1, 3, 5, 7, 9, 20, 31, 42, 53, 64, 75, 86, 97\n",
        "\n",
        "10000보다 작거나 같은 셀프 넘버를 한 줄에 하나씩 출력하는 프로그램을 작성하시오."
      ],
      "metadata": {
        "id": "U2pT3MWf2n-2"
      }
    },
    {
      "cell_type": "code",
      "source": [
        "def d():\n",
        "    a = []\n",
        "    n = 0\n",
        "\n",
        "    for i in range(10000):\n",
        "        i+=1\n",
        "        a.append(i)\n",
        "\n",
        "    for i in range(10000):\n",
        "        i+=1\n",
        "        if i < 100:\n",
        "            n = i + int(i / 10) + i % 10\n",
        "            if n in a:\n",
        "                a.remove(n) \n",
        "        elif i < 1000:\n",
        "            n = i + int(i / 100) + i % 10 + (int(int(i/10)%10))\n",
        "            if n in a:\n",
        "                a.remove(n)\n",
        "        elif i < 10000:\n",
        "            n = i + int(i / 1000) + i % 10 + (int(int(i/10)%10)) +  int(int((i/10))/10)%10\n",
        "            if n in a:\n",
        "                a.remove(n)\n",
        "        elif i == 10000:\n",
        "            n = i + i/10000\n",
        "            if n in a:\n",
        "                a.remove(n)\n",
        "    for i in a:\n",
        "        print(i)\n",
        "d()"
      ],
      "metadata": {
        "id": "SkUGBjkkIC-Q"
      },
      "execution_count": null,
      "outputs": []
    },
    {
      "cell_type": "markdown",
      "source": [
        "#####1065. 어떤 양의 정수 X의 각 자리가 등차수열을 이룬다면, 그 수를 한수라고 한다. 등차수열은 연속된 두 개의 수의 차이가 일정한 수열을 말한다. N이 주어졌을 때, 1보다 크거나 같고, N보다 작거나 같은 한수의 개수를 출력하는 프로그램을 작성하시오. "
      ],
      "metadata": {
        "id": "W6vM5KHnp29e"
      }
    },
    {
      "cell_type": "code",
      "source": [
        "def han():\n",
        "    a=0\n",
        "    n=int(input())\n",
        "    for i in range(n):\n",
        "        i += 1\n",
        "        if i < 100:\n",
        "            a+=1\n",
        "        elif i < 1000:\n",
        "            if int(i / 100) - int(i % 100 / 10) == int(i % 100 / 10) - (i % 10):\n",
        "                a+=1\n",
        "    print(a)\n",
        "han()"
      ],
      "metadata": {
        "colab": {
          "base_uri": "https://localhost:8080/"
        },
        "id": "XwmlOYlQpdCa",
        "outputId": "662ef9e6-51f0-48a3-c38f-13b70f6a6685"
      },
      "execution_count": 37,
      "outputs": [
        {
          "output_type": "stream",
          "name": "stdout",
          "text": [
            "1000\n",
            "144\n"
          ]
        }
      ]
    }
  ]
}