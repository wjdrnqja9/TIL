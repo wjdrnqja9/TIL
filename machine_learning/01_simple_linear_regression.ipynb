{
  "cells": [
    {
      "cell_type": "markdown",
      "metadata": {
        "id": "view-in-github",
        "colab_type": "text"
      },
      "source": [
        "<a href=\"https://colab.research.google.com/github/wjdrnqja9/TIL/blob/main/machine_learning/01_simple_linear_regression.ipynb\" target=\"_parent\"><img src=\"https://colab.research.google.com/assets/colab-badge.svg\" alt=\"Open In Colab\"/></a>"
      ]
    },
    {
      "cell_type": "markdown",
      "metadata": {
        "id": "KuEJDYWSxibF"
      },
      "source": [
        "# 회귀분석 : Regression Analysis"
      ]
    },
    {
      "cell_type": "markdown",
      "metadata": {
        "id": "rMDBlasDxibH"
      },
      "source": [
        "## 1. 회귀분석이란?\n",
        "- 회귀분석의 목적\n",
        "    - 독립변수로 종속변수를 예측하는것\n",
        "    - 종속변수는 수치형 데이터\n",
        "- 회귀분석의 종류\n",
        "    - 단순회귀 : simple regression\n",
        "        - 독립변수 1개, 종속변수 1개, 1차원 수식\n",
        "    - 다중회귀 : multiple regression\n",
        "        - 독립변수 2개 이상, 종속변수 1개, 1차원 수식\n",
        "    - 다항회귀 : polynomial regression\n",
        "        - 독립변수 1개 이상, 종속변수 1개, 2차원 이상의 수식"
      ]
    },
    {
      "cell_type": "code",
      "execution_count": 1,
      "metadata": {
        "id": "aQ0XaBi1xibI"
      },
      "outputs": [],
      "source": [
        "%config InlineBackend.figure_formats = {'png', 'retina'} # 레티나 설정 - 폰트 주변이 흐릿하게 보이는 것을 방지해 글씨가 좀 더 선명하게 보임"
      ]
    },
    {
      "cell_type": "code",
      "execution_count": 2,
      "metadata": {
        "id": "c97DVtfdxibJ"
      },
      "outputs": [],
      "source": [
        "import pandas as pd \n",
        "import numpy as np\n",
        "import matplotlib as mpl\n",
        "import matplotlib.pyplot as plt"
      ]
    },
    {
      "cell_type": "markdown",
      "metadata": {
        "id": "vmSNGE-TxibJ"
      },
      "source": [
        "## 2. 회귀분석의 수식"
      ]
    },
    {
      "cell_type": "markdown",
      "metadata": {
        "id": "G8EnxAPexibJ"
      },
      "source": [
        "### 2.1 샘플 데이터 생성"
      ]
    },
    {
      "cell_type": "code",
      "execution_count": 3,
      "metadata": {
        "colab": {
          "base_uri": "https://localhost:8080/",
          "height": 143
        },
        "id": "0ANy1kiHxibK",
        "outputId": "a5491f58-1559-4973-a391-9828b04d22e8"
      },
      "outputs": [
        {
          "output_type": "execute_result",
          "data": {
            "text/plain": [
              "   x  y\n",
              "0  1  3\n",
              "1  2  5\n",
              "2  3  7"
            ],
            "text/html": [
              "\n",
              "  <div id=\"df-c92c6d9c-1dbc-4bb4-90e6-7b1db2e7c03e\">\n",
              "    <div class=\"colab-df-container\">\n",
              "      <div>\n",
              "<style scoped>\n",
              "    .dataframe tbody tr th:only-of-type {\n",
              "        vertical-align: middle;\n",
              "    }\n",
              "\n",
              "    .dataframe tbody tr th {\n",
              "        vertical-align: top;\n",
              "    }\n",
              "\n",
              "    .dataframe thead th {\n",
              "        text-align: right;\n",
              "    }\n",
              "</style>\n",
              "<table border=\"1\" class=\"dataframe\">\n",
              "  <thead>\n",
              "    <tr style=\"text-align: right;\">\n",
              "      <th></th>\n",
              "      <th>x</th>\n",
              "      <th>y</th>\n",
              "    </tr>\n",
              "  </thead>\n",
              "  <tbody>\n",
              "    <tr>\n",
              "      <th>0</th>\n",
              "      <td>1</td>\n",
              "      <td>3</td>\n",
              "    </tr>\n",
              "    <tr>\n",
              "      <th>1</th>\n",
              "      <td>2</td>\n",
              "      <td>5</td>\n",
              "    </tr>\n",
              "    <tr>\n",
              "      <th>2</th>\n",
              "      <td>3</td>\n",
              "      <td>7</td>\n",
              "    </tr>\n",
              "  </tbody>\n",
              "</table>\n",
              "</div>\n",
              "      <button class=\"colab-df-convert\" onclick=\"convertToInteractive('df-c92c6d9c-1dbc-4bb4-90e6-7b1db2e7c03e')\"\n",
              "              title=\"Convert this dataframe to an interactive table.\"\n",
              "              style=\"display:none;\">\n",
              "        \n",
              "  <svg xmlns=\"http://www.w3.org/2000/svg\" height=\"24px\"viewBox=\"0 0 24 24\"\n",
              "       width=\"24px\">\n",
              "    <path d=\"M0 0h24v24H0V0z\" fill=\"none\"/>\n",
              "    <path d=\"M18.56 5.44l.94 2.06.94-2.06 2.06-.94-2.06-.94-.94-2.06-.94 2.06-2.06.94zm-11 1L8.5 8.5l.94-2.06 2.06-.94-2.06-.94L8.5 2.5l-.94 2.06-2.06.94zm10 10l.94 2.06.94-2.06 2.06-.94-2.06-.94-.94-2.06-.94 2.06-2.06.94z\"/><path d=\"M17.41 7.96l-1.37-1.37c-.4-.4-.92-.59-1.43-.59-.52 0-1.04.2-1.43.59L10.3 9.45l-7.72 7.72c-.78.78-.78 2.05 0 2.83L4 21.41c.39.39.9.59 1.41.59.51 0 1.02-.2 1.41-.59l7.78-7.78 2.81-2.81c.8-.78.8-2.07 0-2.86zM5.41 20L4 18.59l7.72-7.72 1.47 1.35L5.41 20z\"/>\n",
              "  </svg>\n",
              "      </button>\n",
              "      \n",
              "  <style>\n",
              "    .colab-df-container {\n",
              "      display:flex;\n",
              "      flex-wrap:wrap;\n",
              "      gap: 12px;\n",
              "    }\n",
              "\n",
              "    .colab-df-convert {\n",
              "      background-color: #E8F0FE;\n",
              "      border: none;\n",
              "      border-radius: 50%;\n",
              "      cursor: pointer;\n",
              "      display: none;\n",
              "      fill: #1967D2;\n",
              "      height: 32px;\n",
              "      padding: 0 0 0 0;\n",
              "      width: 32px;\n",
              "    }\n",
              "\n",
              "    .colab-df-convert:hover {\n",
              "      background-color: #E2EBFA;\n",
              "      box-shadow: 0px 1px 2px rgba(60, 64, 67, 0.3), 0px 1px 3px 1px rgba(60, 64, 67, 0.15);\n",
              "      fill: #174EA6;\n",
              "    }\n",
              "\n",
              "    [theme=dark] .colab-df-convert {\n",
              "      background-color: #3B4455;\n",
              "      fill: #D2E3FC;\n",
              "    }\n",
              "\n",
              "    [theme=dark] .colab-df-convert:hover {\n",
              "      background-color: #434B5C;\n",
              "      box-shadow: 0px 1px 3px 1px rgba(0, 0, 0, 0.15);\n",
              "      filter: drop-shadow(0px 1px 2px rgba(0, 0, 0, 0.3));\n",
              "      fill: #FFFFFF;\n",
              "    }\n",
              "  </style>\n",
              "\n",
              "      <script>\n",
              "        const buttonEl =\n",
              "          document.querySelector('#df-c92c6d9c-1dbc-4bb4-90e6-7b1db2e7c03e button.colab-df-convert');\n",
              "        buttonEl.style.display =\n",
              "          google.colab.kernel.accessAllowed ? 'block' : 'none';\n",
              "\n",
              "        async function convertToInteractive(key) {\n",
              "          const element = document.querySelector('#df-c92c6d9c-1dbc-4bb4-90e6-7b1db2e7c03e');\n",
              "          const dataTable =\n",
              "            await google.colab.kernel.invokeFunction('convertToInteractive',\n",
              "                                                     [key], {});\n",
              "          if (!dataTable) return;\n",
              "\n",
              "          const docLinkHtml = 'Like what you see? Visit the ' +\n",
              "            '<a target=\"_blank\" href=https://colab.research.google.com/notebooks/data_table.ipynb>data table notebook</a>'\n",
              "            + ' to learn more about interactive tables.';\n",
              "          element.innerHTML = '';\n",
              "          dataTable['output_type'] = 'display_data';\n",
              "          await google.colab.output.renderOutput(dataTable, element);\n",
              "          const docLink = document.createElement('div');\n",
              "          docLink.innerHTML = docLinkHtml;\n",
              "          element.appendChild(docLink);\n",
              "        }\n",
              "      </script>\n",
              "    </div>\n",
              "  </div>\n",
              "  "
            ]
          },
          "metadata": {},
          "execution_count": 3
        }
      ],
      "source": [
        "datas = np.array([[1, 3], [2, 5], [3, 7]])\n",
        "df = pd.DataFrame(datas, columns=list(\"xy\"))\n",
        "df"
      ]
    },
    {
      "cell_type": "markdown",
      "metadata": {
        "id": "bpOJ11eyxibM"
      },
      "source": [
        "### 2.2 산점도 그리기"
      ]
    },
    {
      "cell_type": "code",
      "execution_count": 4,
      "metadata": {
        "colab": {
          "base_uri": "https://localhost:8080/",
          "height": 265
        },
        "id": "HRk9O7LdxibM",
        "outputId": "0430f888-222f-4aa7-f9a2-0f509b4e24e3"
      },
      "outputs": [
        {
          "output_type": "display_data",
          "data": {
            "text/plain": [
              "<Figure size 432x288 with 1 Axes>"
            ],
            "image/png": "[encoded data removed]"
          },
          "metadata": {
            "image/png": {
              "width": 365,
              "height": 248
            },
            "needs_background": "light"
          }
        }
      ],
      "source": [
        "plt.scatter(df[\"x\"], df[\"y\"])\n",
        "plt.xticks(range(0, 8))\n",
        "plt.yticks(range(0, 8))\n",
        "plt.show()"
      ]
    },
    {
      "cell_type": "markdown",
      "metadata": {
        "id": "ZZzpVmcexibN"
      },
      "source": [
        "### 2.3 추세선을 구하는 방법 1 : 방정식\n",
        "- 샘플 데이터를 직선 방정식으로 표현\n",
        "- 일반적인 우리가 배운 수학에서는 방정식으로 해결\n",
        "- $y = a + bx$ \n",
        "    - 데이터 : [1, 3], [2, 5], [3, 7]\n",
        "    - 계산과정\n",
        "        - $3 = a + 1b$\n",
        "        - $5 = a + 2b$\n",
        "        - $(3 = a + b) - (5 = a + 2b) = (-2 = -1b)$ -> $b = 2$\n",
        "        - $3 = a + b (b = 2)$ -> $a = 1$\n",
        "    - 추세선 : $y = 1 + 2x$ "
      ]
    },
    {
      "cell_type": "markdown",
      "metadata": {
        "id": "LJTeSD9lxibO"
      },
      "source": [
        "수식으로 값 예측하기"
      ]
    },
    {
      "cell_type": "code",
      "execution_count": 5,
      "metadata": {
        "colab": {
          "base_uri": "https://localhost:8080/"
        },
        "id": "64JHSsDYxibO",
        "outputId": "abc78f5b-8a14-4529-c232-bfb18e460e59"
      },
      "outputs": [
        {
          "output_type": "execute_result",
          "data": {
            "text/plain": [
              "[1, 9]"
            ]
          },
          "metadata": {},
          "execution_count": 5
        }
      ],
      "source": [
        "# 리스트 컴프리헨션 : 리스트 데이터를 만들때 사용\n",
        "data = [1, 2, 3]\n",
        "result = [num**2 for num in data if num % 2]\n",
        "result"
      ]
    },
    {
      "cell_type": "code",
      "execution_count": 6,
      "metadata": {
        "colab": {
          "base_uri": "https://localhost:8080/"
        },
        "id": "jJQ5LbazxibO",
        "outputId": "6d59578b-1df8-4886-c54b-2af3d5de12d0"
      },
      "outputs": [
        {
          "output_type": "execute_result",
          "data": {
            "text/plain": [
              "[1, 3, 5, 7, 9]"
            ]
          },
          "metadata": {},
          "execution_count": 6
        }
      ],
      "source": [
        "# 추세선 함수\n",
        "def pred_func(x):\n",
        "    return 1 + 2 * x\n",
        "\n",
        "# 예측값 구하기\n",
        "pred_y = [pred_func(data) for data in range(0, 5)]\n",
        "\n",
        "pred_y"
      ]
    },
    {
      "cell_type": "markdown",
      "metadata": {
        "id": "--Um8GGdxibP"
      },
      "source": [
        "추세선 그리기"
      ]
    },
    {
      "cell_type": "code",
      "execution_count": 7,
      "metadata": {
        "colab": {
          "base_uri": "https://localhost:8080/",
          "height": 265
        },
        "id": "iCl29QnnxibP",
        "outputId": "3802b594-8761-482f-cbbd-917a6e25c58d"
      },
      "outputs": [
        {
          "output_type": "display_data",
          "data": {
            "text/plain": [
              "<Figure size 432x288 with 1 Axes>"
            ],
            "image/png": "[encoded data removed]"
          },
          "metadata": {
            "image/png": {
              "width": 365,
              "height": 248
            },
            "needs_background": "light"
          }
        }
      ],
      "source": [
        "plt.scatter(df[\"x\"], df[\"y\"])\n",
        "plt.plot(range(0, 5), pred_y, \"r-\")\n",
        "plt.xticks(range(0, 10))\n",
        "plt.yticks(range(0, 10))\n",
        "plt.show()"
      ]
    },
    {
      "cell_type": "markdown",
      "metadata": {
        "id": "j7QIySfyxibP"
      },
      "source": [
        "### 2.4 추세선을 구하는 방법 2 : 선형대수"
      ]
    },
    {
      "cell_type": "markdown",
      "metadata": {
        "id": "8h8O6rKvxibP"
      },
      "source": [
        "$$Datas : (1, 3), (2, 5)$$"
      ]
    },
    {
      "cell_type": "markdown",
      "metadata": {
        "id": "RnDLRn24xibP"
      },
      "source": [
        "$$y = a + bx$$"
      ]
    },
    {
      "cell_type": "markdown",
      "metadata": {
        "id": "UxE0btDoxibQ"
      },
      "source": [
        "- 방정식"
      ]
    },
    {
      "cell_type": "markdown",
      "metadata": {
        "id": "i9kykrE6xibQ"
      },
      "source": [
        "$$3 = a + b$$\n",
        "$$5 = a + 2b$$"
      ]
    },
    {
      "cell_type": "markdown",
      "metadata": {
        "id": "Vk58OVPHxibQ"
      },
      "source": [
        "$$(3 = a + b) - (5 = a + 2b) => (2 = b)$$"
      ]
    },
    {
      "cell_type": "markdown",
      "metadata": {
        "id": "9H1ZFrtJxibQ"
      },
      "source": [
        "$$ y = 1 + 2x $$"
      ]
    },
    {
      "cell_type": "markdown",
      "metadata": {
        "id": "wN6ZLfH6xibQ"
      },
      "source": [
        "- 선형대수"
      ]
    },
    {
      "cell_type": "markdown",
      "metadata": {
        "id": "Xkgm0gfwxibQ"
      },
      "source": [
        "$$Datas : (1, 3), (2, 5)$$\n",
        "\n",
        "$$y = a \\cdot 1 + bx$$"
      ]
    },
    {
      "cell_type": "markdown",
      "metadata": {
        "id": "ErpVUBHDxibR"
      },
      "source": [
        "- 방정식을 선형대수로 표현"
      ]
    },
    {
      "cell_type": "markdown",
      "metadata": {
        "id": "rrTc8TAyxibR"
      },
      "source": [
        "$$\n",
        "\\begin{bmatrix}\n",
        "y_1\\\\\n",
        "y_2\\\\\n",
        "\\end{bmatrix}\n",
        "=\n",
        "\\begin{bmatrix}\n",
        "1 \\quad x_{1}\\\\\n",
        "1 \\quad x_{2}\\\\\n",
        "\\end{bmatrix}\n",
        "\\begin{bmatrix}\n",
        "a\\\\\n",
        "b\\\\\n",
        "\\end{bmatrix}\n",
        "$$"
      ]
    },
    {
      "cell_type": "markdown",
      "metadata": {
        "id": "JvxEBMk5xibR"
      },
      "source": [
        "$$y_1 = 1 \\cdot a + x_1 \\times b$$\n",
        "$$y_2 = 1 \\cdot a + x_2 \\times b$$"
      ]
    },
    {
      "cell_type": "markdown",
      "metadata": {
        "id": "e4qCMvwuxibR"
      },
      "source": [
        "- 데이터 적용"
      ]
    },
    {
      "cell_type": "markdown",
      "metadata": {
        "id": "5lYWAEpkxibR"
      },
      "source": [
        "$$\n",
        "\\begin{bmatrix}\n",
        "3\\\\\n",
        "5\\\\\n",
        "\\end{bmatrix}\n",
        "=\n",
        "\\begin{bmatrix}\n",
        "1 \\quad 1\\\\\n",
        "1 \\quad 2\\\\\n",
        "\\end{bmatrix}\n",
        "\\begin{bmatrix}\n",
        "a\\\\\n",
        "b\\\\\n",
        "\\end{bmatrix}\n",
        "$$"
      ]
    },
    {
      "cell_type": "markdown",
      "metadata": {
        "id": "ROoTy5eGxibS"
      },
      "source": [
        "$$3 = a + b$$\n",
        "$$5 = a + 2b$$"
      ]
    },
    {
      "cell_type": "markdown",
      "metadata": {
        "id": "a48tz6DbxibS"
      },
      "source": [
        "- 역행렬을 이용해서 풀이"
      ]
    },
    {
      "cell_type": "markdown",
      "metadata": {
        "id": "VAFkvZlwxibS"
      },
      "source": [
        "$$\n",
        "\\begin{bmatrix}\n",
        "1 \\quad 1\\\\\n",
        "1 \\quad 2\\\\\n",
        "\\end{bmatrix}^{-1}\n",
        "\\begin{bmatrix}\n",
        "3\\\\\n",
        "5\\\\\n",
        "\\end{bmatrix}\n",
        "=\n",
        "\\begin{bmatrix}\n",
        "a\\\\\n",
        "b\\\\\n",
        "\\end{bmatrix}\n",
        "$$"
      ]
    },
    {
      "cell_type": "markdown",
      "metadata": {
        "id": "utK6nInXxibS"
      },
      "source": [
        "$$\n",
        "A^{-1}=\n",
        "\\frac{1}{ad-bc}\n",
        "\\begin{bmatrix}\n",
        "d \\quad -b\\\\\n",
        "-c\\quad a\\\\\n",
        "\\end{bmatrix}\n",
        "$$"
      ]
    },
    {
      "cell_type": "markdown",
      "metadata": {
        "id": "TA6-Y_xKxibS"
      },
      "source": [
        "$$\n",
        "\\begin{bmatrix}\n",
        "2 \\quad -1\\\\\n",
        "-1 \\quad 1\\\\\n",
        "\\end{bmatrix}\n",
        "\\begin{bmatrix}\n",
        "3\\\\\n",
        "5\\\\\n",
        "\\end{bmatrix}\n",
        "=\n",
        "\\begin{bmatrix}\n",
        "1\\\\\n",
        "2\\\\\n",
        "\\end{bmatrix}\n",
        "$$"
      ]
    },
    {
      "cell_type": "markdown",
      "metadata": {
        "id": "fKdpLMmcxibS"
      },
      "source": [
        "$$ y = a + bx => y = 1 + 2x $$"
      ]
    },
    {
      "cell_type": "markdown",
      "metadata": {
        "id": "aXvbBUhOxibT"
      },
      "source": [
        "### 2.5 모든 데이터가 직선위에 있지 않는경우 : 최소제곱법\n",
        "- 추세선을 구하는 방법 1은 항상 데이터가 추세선위에 직선으로 위치할때만 정확히 구할수 있습니다.\n",
        "- 하지만 모든 데이터는 위에서와 같이 항상 직선의 추세선 위에만 존재하지 않습니다."
      ]
    },
    {
      "cell_type": "markdown",
      "metadata": {
        "id": "0bsbw7bXxibT"
      },
      "source": [
        "#### 추세선의 수식\n",
        "- $\\hat{y} = a + bx$\n",
        "    - $\\hat{y}$ : 추세선 : 종속변수의 예측값\n",
        "    - $x$ : 독립변수\n",
        "    - $a$ : y절편(constant)\n",
        "    - $b$ : 기울기(slope)\n",
        "        - $\\frac{\\Delta{y}}{\\Delta{x}}$ : y의 증가량 / x의 증가량\n",
        "    - $a, b$ : 회귀계수"
      ]
    },
    {
      "cell_type": "markdown",
      "metadata": {
        "id": "eRU_3OkfxibT"
      },
      "source": [
        "샘플 데이터 및 산포도"
      ]
    },
    {
      "cell_type": "code",
      "execution_count": 8,
      "metadata": {
        "colab": {
          "base_uri": "https://localhost:8080/",
          "height": 283
        },
        "id": "Ewe69OlcxibT",
        "outputId": "cfb1afee-0283-4607-edb5-3f4192be7757"
      },
      "outputs": [
        {
          "output_type": "stream",
          "name": "stdout",
          "text": [
            "[array([1, 2]), array([2, 8]), array([3, 5])]\n"
          ]
        },
        {
          "output_type": "display_data",
          "data": {
            "text/plain": [
              "<Figure size 432x288 with 1 Axes>"
            ],
            "image/png": "[encoded data removed]"
          },
          "metadata": {
            "image/png": {
              "width": 365,
              "height": 248
            },
            "needs_background": "light"
          }
        }
      ],
      "source": [
        "# 샘플 데이터 생성\n",
        "datas = np.array([[1, 2], [2, 8], [3, 5]])\n",
        "print(list(datas))\n",
        "\n",
        "# 데이터 프레임으로 만들기\n",
        "df = pd.DataFrame(datas, columns=list(\"xy\"))\n",
        "\n",
        "# 그래프 그리기\n",
        "plt.scatter(df[\"x\"], df[\"y\"])\n",
        "plt.xticks(range(0, 8))\n",
        "plt.yticks(range(0, 8))\n",
        "plt.show()"
      ]
    },
    {
      "cell_type": "markdown",
      "metadata": {
        "id": "rg_bElrwxibT"
      },
      "source": [
        "#### 실제 점들의 수식\n",
        "- $y_i = a + bx_i + \\varepsilon$\n",
        "    - $y$ : 승점 : 종속변수의 실제값\n",
        "    - $x$ : 득점 : 독립변수\n",
        "    - $\\varepsilon$ : 오차 : 추세선과 실제값의 차이\n",
        "    - $i$ : 개별 값"
      ]
    },
    {
      "cell_type": "code",
      "execution_count": 9,
      "metadata": {
        "colab": {
          "base_uri": "https://localhost:8080/"
        },
        "id": "VZWNcGidgdEf",
        "outputId": "bf23d527-12de-47c5-e1cc-09ea98ff4dd5"
      },
      "outputs": [
        {
          "output_type": "stream",
          "name": "stdout",
          "text": [
            "Looking in indexes: https://pypi.org/simple, https://us-python.pkg.dev/colab-wheels/public/simple/\n",
            "Requirement already satisfied: statsmodels in /usr/local/lib/python3.7/dist-packages (0.10.2)\n",
            "Requirement already satisfied: numpy>=1.11 in /usr/local/lib/python3.7/dist-packages (from statsmodels) (1.21.6)\n",
            "Requirement already satisfied: patsy>=0.4.0 in /usr/local/lib/python3.7/dist-packages (from statsmodels) (0.5.2)\n",
            "Requirement already satisfied: pandas>=0.19 in /usr/local/lib/python3.7/dist-packages (from statsmodels) (1.3.5)\n",
            "Requirement already satisfied: scipy>=0.18 in /usr/local/lib/python3.7/dist-packages (from statsmodels) (1.4.1)\n",
            "Requirement already satisfied: pytz>=2017.3 in /usr/local/lib/python3.7/dist-packages (from pandas>=0.19->statsmodels) (2022.1)\n",
            "Requirement already satisfied: python-dateutil>=2.7.3 in /usr/local/lib/python3.7/dist-packages (from pandas>=0.19->statsmodels) (2.8.2)\n",
            "Requirement already satisfied: six in /usr/local/lib/python3.7/dist-packages (from patsy>=0.4.0->statsmodels) (1.15.0)\n"
          ]
        }
      ],
      "source": [
        "# mac, ubuntu ,\n",
        "!pip install statsmodels"
      ]
    },
    {
      "cell_type": "code",
      "execution_count": 10,
      "metadata": {
        "colab": {
          "base_uri": "https://localhost:8080/",
          "height": 394
        },
        "id": "2PX4DNM6xibT",
        "outputId": "cd145faf-a6cc-4373-fe60-89cbf15b6d2d"
      },
      "outputs": [
        {
          "output_type": "stream",
          "name": "stderr",
          "text": [
            "/usr/local/lib/python3.7/dist-packages/statsmodels/tools/_testing.py:19: FutureWarning: pandas.util.testing is deprecated. Use the functions in the public API at pandas.testing instead.\n",
            "  import pandas.util.testing as tm\n"
          ]
        },
        {
          "output_type": "stream",
          "name": "stdout",
          "text": [
            "const    2.0\n",
            "x        1.5\n",
            "dtype: float64\n"
          ]
        },
        {
          "output_type": "stream",
          "name": "stderr",
          "text": [
            "/usr/local/lib/python3.7/dist-packages/statsmodels/tsa/tsatools.py:117: FutureWarning: In a future version of pandas all arguments of concat except for the argument 'objs' will be keyword-only\n",
            "  x = pd.concat(x[::order], 1)\n"
          ]
        },
        {
          "output_type": "display_data",
          "data": {
            "text/plain": [
              "<Figure size 432x288 with 1 Axes>"
            ],
            "image/png": "[encoded data removed]"
          },
          "metadata": {
            "image/png": {
              "width": 365,
              "height": 248
            },
            "needs_background": "light"
          }
        }
      ],
      "source": [
        "# 추세선 구하는 코드 : 추후에 학습\n",
        "import statsmodels.api as sm\n",
        "\n",
        "# 모델 학습\n",
        "feature = sm.add_constant(df[\"x\"], has_constant='add')\n",
        "model = sm.OLS(df[\"y\"], feature)\n",
        "fitted_model = model.fit()\n",
        "print(fitted_model.params)\n",
        "\n",
        "# 예측값 구하기\n",
        "pred_datas = np.dot(feature, fitted_model.params)\n",
        "\n",
        "# 그래프 그리기\n",
        "plt.scatter(df[\"x\"], df[\"y\"])\n",
        "plt.plot(df[\"x\"], pred_datas, \"r-\")\n",
        "plt.xticks(range(0, 8))\n",
        "plt.yticks(range(0, 8))\n",
        "plt.show()"
      ]
    },
    {
      "cell_type": "markdown",
      "metadata": {
        "id": "3xJf-bUBxibU"
      },
      "source": [
        "#### 최소제곱법 : Least Square Method\n",
        "\n",
        "- 최적의 추세선을 구하기 위한 방법\n",
        "    - 추세선과 모든 데이터의 오차가 적은 추세선이 가장 좋은 추세선 입니다."
      ]
    },
    {
      "cell_type": "markdown",
      "metadata": {
        "id": "j7wU8xfexibU"
      },
      "source": [
        "#### 오차 수식\n",
        "\n",
        "- 오차($e_i$) = 실제값($y_i$) - 예측값($\\hat{y_i}$)\n",
        "- 가장 좋은 추세선 : $e_i$가 가장 작은 추세선\n",
        "\n",
        "$$e_i = y_i - \\hat{y_i}$$\n"
      ]
    },
    {
      "cell_type": "markdown",
      "metadata": {
        "id": "UqRmtES3xibU"
      },
      "source": [
        "#### 모든 데이터의 오차를 구하는 수식\n",
        "\n",
        "- 제곱을 해주는 이유\n",
        "    - $e_i$ 는 음수도 있고 양수도 있습니다. \n",
        "    - 제곱을 해주지 않으면 음수와 양수가 더해져서 오차가 커도 다 더해주면 0에 가까운 값이 나올수 있습니다.\n",
        "    - 절대값으로 계산을하면 최소 오차를 구할때 미분이 필요한데 미분의 수식이 복잡해집니다.\n",
        "- 모든 오차의 제곱합($\\sum_{i=1}^n e_i^2$)을 가장 작게 만드는 $a$와 $b$값이 최적의 추세선 수식이 됩니다.\n",
        "        \n",
        "        \n",
        "$$\\sum_{i=1}^n e_i^2 = \\sum_{i=1}^{n}(y_i - \\hat{y_i})^2$$\n",
        "\n",
        "\n",
        "$$\\hat{y} = a + bx$$\n",
        "\n",
        "\n",
        "$$ \\sum_{i=1}^n e_i^2 = \\sum_{i=1}^n(y_i - a - bx_i)^2$$"
      ]
    },
    {
      "cell_type": "markdown",
      "metadata": {
        "id": "gxuRbPZjxibU"
      },
      "source": [
        "#### 오차의 제곱합이 가장 작아지는 a와 b를 구하는 방법 1\n",
        "- 특정 범위에서 $a$와 $b$를 증가시켜가면서 최적의 $a$와 $b$를 찾습니다."
      ]
    },
    {
      "cell_type": "code",
      "execution_count": 11,
      "metadata": {
        "id": "1Rt_Fw_7xibU"
      },
      "outputs": [],
      "source": [
        "# 모든 오차의 제곱합 구하는 함수\n",
        "def error_func(df, a=0, b=1):\n",
        "    e = 0\n",
        "    for idx, data in df.iterrows():\n",
        "        e += (data.y - a - b * data.x) ** 2\n",
        "    return e"
      ]
    },
    {
      "cell_type": "code",
      "execution_count": 12,
      "metadata": {
        "colab": {
          "base_uri": "https://localhost:8080/",
          "height": 1000
        },
        "id": "1T3pD-aQxibV",
        "outputId": "061c4ee3-f895-4d17-9470-c3b449c2873e"
      },
      "outputs": [
        {
          "output_type": "execute_result",
          "data": {
            "text/plain": [
              "    a_data  b_data  error\n",
              "0      0.0     0.0  93.00\n",
              "1      0.0     0.5  63.50\n",
              "2      0.0     1.0  41.00\n",
              "3      0.0     1.5  25.50\n",
              "4      0.0     2.0  17.00\n",
              "5      0.0     2.5  15.50\n",
              "6      0.5     0.0  78.75\n",
              "7      0.5     0.5  52.25\n",
              "8      0.5     1.0  32.75\n",
              "9      0.5     1.5  20.25\n",
              "10     0.5     2.0  14.75\n",
              "11     0.5     2.5  16.25\n",
              "12     1.0     0.0  66.00\n",
              "13     1.0     0.5  42.50\n",
              "14     1.0     1.0  26.00\n",
              "15     1.0     1.5  16.50\n",
              "16     1.0     2.0  14.00\n",
              "17     1.0     2.5  18.50\n",
              "18     1.5     0.0  54.75\n",
              "19     1.5     0.5  34.25\n",
              "20     1.5     1.0  20.75\n",
              "21     1.5     1.5  14.25\n",
              "22     1.5     2.0  14.75\n",
              "23     1.5     2.5  22.25\n",
              "24     2.0     0.0  45.00\n",
              "25     2.0     0.5  27.50\n",
              "26     2.0     1.0  17.00\n",
              "27     2.0     1.5  13.50\n",
              "28     2.0     2.0  17.00\n",
              "29     2.0     2.5  27.50\n",
              "30     2.5     0.0  36.75\n",
              "31     2.5     0.5  22.25\n",
              "32     2.5     1.0  14.75\n",
              "33     2.5     1.5  14.25\n",
              "34     2.5     2.0  20.75\n",
              "35     2.5     2.5  34.25"
            ],
            "text/html": [
              "\n",
              "  <div id=\"df-0a14e2fd-7049-4daf-a9e0-54f8f4e96b7a\">\n",
              "    <div class=\"colab-df-container\">\n",
              "      <div>\n",
              "<style scoped>\n",
              "    .dataframe tbody tr th:only-of-type {\n",
              "        vertical-align: middle;\n",
              "    }\n",
              "\n",
              "    .dataframe tbody tr th {\n",
              "        vertical-align: top;\n",
              "    }\n",
              "\n",
              "    .dataframe thead th {\n",
              "        text-align: right;\n",
              "    }\n",
              "</style>\n",
              "<table border=\"1\" class=\"dataframe\">\n",
              "  <thead>\n",
              "    <tr style=\"text-align: right;\">\n",
              "      <th></th>\n",
              "      <th>a_data</th>\n",
              "      <th>b_data</th>\n",
              "      <th>error</th>\n",
              "    </tr>\n",
              "  </thead>\n",
              "  <tbody>\n",
              "    <tr>\n",
              "      <th>0</th>\n",
              "      <td>0.0</td>\n",
              "      <td>0.0</td>\n",
              "      <td>93.00</td>\n",
              "    </tr>\n",
              "    <tr>\n",
              "      <th>1</th>\n",
              "      <td>0.0</td>\n",
              "      <td>0.5</td>\n",
              "      <td>63.50</td>\n",
              "    </tr>\n",
              "    <tr>\n",
              "      <th>2</th>\n",
              "      <td>0.0</td>\n",
              "      <td>1.0</td>\n",
              "      <td>41.00</td>\n",
              "    </tr>\n",
              "    <tr>\n",
              "      <th>3</th>\n",
              "      <td>0.0</td>\n",
              "      <td>1.5</td>\n",
              "      <td>25.50</td>\n",
              "    </tr>\n",
              "    <tr>\n",
              "      <th>4</th>\n",
              "      <td>0.0</td>\n",
              "      <td>2.0</td>\n",
              "      <td>17.00</td>\n",
              "    </tr>\n",
              "    <tr>\n",
              "      <th>5</th>\n",
              "      <td>0.0</td>\n",
              "      <td>2.5</td>\n",
              "      <td>15.50</td>\n",
              "    </tr>\n",
              "    <tr>\n",
              "      <th>6</th>\n",
              "      <td>0.5</td>\n",
              "      <td>0.0</td>\n",
              "      <td>78.75</td>\n",
              "    </tr>\n",
              "    <tr>\n",
              "      <th>7</th>\n",
              "      <td>0.5</td>\n",
              "      <td>0.5</td>\n",
              "      <td>52.25</td>\n",
              "    </tr>\n",
              "    <tr>\n",
              "      <th>8</th>\n",
              "      <td>0.5</td>\n",
              "      <td>1.0</td>\n",
              "      <td>32.75</td>\n",
              "    </tr>\n",
              "    <tr>\n",
              "      <th>9</th>\n",
              "      <td>0.5</td>\n",
              "      <td>1.5</td>\n",
              "      <td>20.25</td>\n",
              "    </tr>\n",
              "    <tr>\n",
              "      <th>10</th>\n",
              "      <td>0.5</td>\n",
              "      <td>2.0</td>\n",
              "      <td>14.75</td>\n",
              "    </tr>\n",
              "    <tr>\n",
              "      <th>11</th>\n",
              "      <td>0.5</td>\n",
              "      <td>2.5</td>\n",
              "      <td>16.25</td>\n",
              "    </tr>\n",
              "    <tr>\n",
              "      <th>12</th>\n",
              "      <td>1.0</td>\n",
              "      <td>0.0</td>\n",
              "      <td>66.00</td>\n",
              "    </tr>\n",
              "    <tr>\n",
              "      <th>13</th>\n",
              "      <td>1.0</td>\n",
              "      <td>0.5</td>\n",
              "      <td>42.50</td>\n",
              "    </tr>\n",
              "    <tr>\n",
              "      <th>14</th>\n",
              "      <td>1.0</td>\n",
              "      <td>1.0</td>\n",
              "      <td>26.00</td>\n",
              "    </tr>\n",
              "    <tr>\n",
              "      <th>15</th>\n",
              "      <td>1.0</td>\n",
              "      <td>1.5</td>\n",
              "      <td>16.50</td>\n",
              "    </tr>\n",
              "    <tr>\n",
              "      <th>16</th>\n",
              "      <td>1.0</td>\n",
              "      <td>2.0</td>\n",
              "      <td>14.00</td>\n",
              "    </tr>\n",
              "    <tr>\n",
              "      <th>17</th>\n",
              "      <td>1.0</td>\n",
              "      <td>2.5</td>\n",
              "      <td>18.50</td>\n",
              "    </tr>\n",
              "    <tr>\n",
              "      <th>18</th>\n",
              "      <td>1.5</td>\n",
              "      <td>0.0</td>\n",
              "      <td>54.75</td>\n",
              "    </tr>\n",
              "    <tr>\n",
              "      <th>19</th>\n",
              "      <td>1.5</td>\n",
              "      <td>0.5</td>\n",
              "      <td>34.25</td>\n",
              "    </tr>\n",
              "    <tr>\n",
              "      <th>20</th>\n",
              "      <td>1.5</td>\n",
              "      <td>1.0</td>\n",
              "      <td>20.75</td>\n",
              "    </tr>\n",
              "    <tr>\n",
              "      <th>21</th>\n",
              "      <td>1.5</td>\n",
              "      <td>1.5</td>\n",
              "      <td>14.25</td>\n",
              "    </tr>\n",
              "    <tr>\n",
              "      <th>22</th>\n",
              "      <td>1.5</td>\n",
              "      <td>2.0</td>\n",
              "      <td>14.75</td>\n",
              "    </tr>\n",
              "    <tr>\n",
              "      <th>23</th>\n",
              "      <td>1.5</td>\n",
              "      <td>2.5</td>\n",
              "      <td>22.25</td>\n",
              "    </tr>\n",
              "    <tr>\n",
              "      <th>24</th>\n",
              "      <td>2.0</td>\n",
              "      <td>0.0</td>\n",
              "      <td>45.00</td>\n",
              "    </tr>\n",
              "    <tr>\n",
              "      <th>25</th>\n",
              "      <td>2.0</td>\n",
              "      <td>0.5</td>\n",
              "      <td>27.50</td>\n",
              "    </tr>\n",
              "    <tr>\n",
              "      <th>26</th>\n",
              "      <td>2.0</td>\n",
              "      <td>1.0</td>\n",
              "      <td>17.00</td>\n",
              "    </tr>\n",
              "    <tr>\n",
              "      <th>27</th>\n",
              "      <td>2.0</td>\n",
              "      <td>1.5</td>\n",
              "      <td>13.50</td>\n",
              "    </tr>\n",
              "    <tr>\n",
              "      <th>28</th>\n",
              "      <td>2.0</td>\n",
              "      <td>2.0</td>\n",
              "      <td>17.00</td>\n",
              "    </tr>\n",
              "    <tr>\n",
              "      <th>29</th>\n",
              "      <td>2.0</td>\n",
              "      <td>2.5</td>\n",
              "      <td>27.50</td>\n",
              "    </tr>\n",
              "    <tr>\n",
              "      <th>30</th>\n",
              "      <td>2.5</td>\n",
              "      <td>0.0</td>\n",
              "      <td>36.75</td>\n",
              "    </tr>\n",
              "    <tr>\n",
              "      <th>31</th>\n",
              "      <td>2.5</td>\n",
              "      <td>0.5</td>\n",
              "      <td>22.25</td>\n",
              "    </tr>\n",
              "    <tr>\n",
              "      <th>32</th>\n",
              "      <td>2.5</td>\n",
              "      <td>1.0</td>\n",
              "      <td>14.75</td>\n",
              "    </tr>\n",
              "    <tr>\n",
              "      <th>33</th>\n",
              "      <td>2.5</td>\n",
              "      <td>1.5</td>\n",
              "      <td>14.25</td>\n",
              "    </tr>\n",
              "    <tr>\n",
              "      <th>34</th>\n",
              "      <td>2.5</td>\n",
              "      <td>2.0</td>\n",
              "      <td>20.75</td>\n",
              "    </tr>\n",
              "    <tr>\n",
              "      <th>35</th>\n",
              "      <td>2.5</td>\n",
              "      <td>2.5</td>\n",
              "      <td>34.25</td>\n",
              "    </tr>\n",
              "  </tbody>\n",
              "</table>\n",
              "</div>\n",
              "      <button class=\"colab-df-convert\" onclick=\"convertToInteractive('df-0a14e2fd-7049-4daf-a9e0-54f8f4e96b7a')\"\n",
              "              title=\"Convert this dataframe to an interactive table.\"\n",
              "              style=\"display:none;\">\n",
              "        \n",
              "  <svg xmlns=\"http://www.w3.org/2000/svg\" height=\"24px\"viewBox=\"0 0 24 24\"\n",
              "       width=\"24px\">\n",
              "    <path d=\"M0 0h24v24H0V0z\" fill=\"none\"/>\n",
              "    <path d=\"M18.56 5.44l.94 2.06.94-2.06 2.06-.94-2.06-.94-.94-2.06-.94 2.06-2.06.94zm-11 1L8.5 8.5l.94-2.06 2.06-.94-2.06-.94L8.5 2.5l-.94 2.06-2.06.94zm10 10l.94 2.06.94-2.06 2.06-.94-2.06-.94-.94-2.06-.94 2.06-2.06.94z\"/><path d=\"M17.41 7.96l-1.37-1.37c-.4-.4-.92-.59-1.43-.59-.52 0-1.04.2-1.43.59L10.3 9.45l-7.72 7.72c-.78.78-.78 2.05 0 2.83L4 21.41c.39.39.9.59 1.41.59.51 0 1.02-.2 1.41-.59l7.78-7.78 2.81-2.81c.8-.78.8-2.07 0-2.86zM5.41 20L4 18.59l7.72-7.72 1.47 1.35L5.41 20z\"/>\n",
              "  </svg>\n",
              "      </button>\n",
              "      \n",
              "  <style>\n",
              "    .colab-df-container {\n",
              "      display:flex;\n",
              "      flex-wrap:wrap;\n",
              "      gap: 12px;\n",
              "    }\n",
              "\n",
              "    .colab-df-convert {\n",
              "      background-color: #E8F0FE;\n",
              "      border: none;\n",
              "      border-radius: 50%;\n",
              "      cursor: pointer;\n",
              "      display: none;\n",
              "      fill: #1967D2;\n",
              "      height: 32px;\n",
              "      padding: 0 0 0 0;\n",
              "      width: 32px;\n",
              "    }\n",
              "\n",
              "    .colab-df-convert:hover {\n",
              "      background-color: #E2EBFA;\n",
              "      box-shadow: 0px 1px 2px rgba(60, 64, 67, 0.3), 0px 1px 3px 1px rgba(60, 64, 67, 0.15);\n",
              "      fill: #174EA6;\n",
              "    }\n",
              "\n",
              "    [theme=dark] .colab-df-convert {\n",
              "      background-color: #3B4455;\n",
              "      fill: #D2E3FC;\n",
              "    }\n",
              "\n",
              "    [theme=dark] .colab-df-convert:hover {\n",
              "      background-color: #434B5C;\n",
              "      box-shadow: 0px 1px 3px 1px rgba(0, 0, 0, 0.15);\n",
              "      filter: drop-shadow(0px 1px 2px rgba(0, 0, 0, 0.3));\n",
              "      fill: #FFFFFF;\n",
              "    }\n",
              "  </style>\n",
              "\n",
              "      <script>\n",
              "        const buttonEl =\n",
              "          document.querySelector('#df-0a14e2fd-7049-4daf-a9e0-54f8f4e96b7a button.colab-df-convert');\n",
              "        buttonEl.style.display =\n",
              "          google.colab.kernel.accessAllowed ? 'block' : 'none';\n",
              "\n",
              "        async function convertToInteractive(key) {\n",
              "          const element = document.querySelector('#df-0a14e2fd-7049-4daf-a9e0-54f8f4e96b7a');\n",
              "          const dataTable =\n",
              "            await google.colab.kernel.invokeFunction('convertToInteractive',\n",
              "                                                     [key], {});\n",
              "          if (!dataTable) return;\n",
              "\n",
              "          const docLinkHtml = 'Like what you see? Visit the ' +\n",
              "            '<a target=\"_blank\" href=https://colab.research.google.com/notebooks/data_table.ipynb>data table notebook</a>'\n",
              "            + ' to learn more about interactive tables.';\n",
              "          element.innerHTML = '';\n",
              "          dataTable['output_type'] = 'display_data';\n",
              "          await google.colab.output.renderOutput(dataTable, element);\n",
              "          const docLink = document.createElement('div');\n",
              "          docLink.innerHTML = docLinkHtml;\n",
              "          element.appendChild(docLink);\n",
              "        }\n",
              "      </script>\n",
              "    </div>\n",
              "  </div>\n",
              "  "
            ]
          },
          "metadata": {},
          "execution_count": 12
        }
      ],
      "source": [
        "batch_size = 0.5 # batch_size, epoch\n",
        "\n",
        "a_datas = np.arange(0, 3, batch_size)\n",
        "b_datas = np.arange(0, 3, batch_size)\n",
        "\n",
        "error_datas = []\n",
        "\n",
        "for a_data in a_datas:\n",
        "    for b_data in b_datas:\n",
        "        error_datas.append({\n",
        "            \"a_data\": a_data,\n",
        "            \"b_data\": b_data,\n",
        "            \"error\": error_func(df, a_data, b_data),\n",
        "        })\n",
        "\n",
        "error_df = pd.DataFrame(error_datas)\n",
        "error_df"
      ]
    },
    {
      "cell_type": "code",
      "execution_count": 13,
      "metadata": {
        "colab": {
          "base_uri": "https://localhost:8080/",
          "height": 81
        },
        "id": "15DWju7TxibV",
        "outputId": "dc187b15-ed70-42ed-fb47-30b763fcc10c"
      },
      "outputs": [
        {
          "output_type": "execute_result",
          "data": {
            "text/plain": [
              "    a_data  b_data  error\n",
              "27     2.0     1.5   13.5"
            ],
            "text/html": [
              "\n",
              "  <div id=\"df-ba4dc179-0db1-4ae7-a7a2-f62e12fa4a3f\">\n",
              "    <div class=\"colab-df-container\">\n",
              "      <div>\n",
              "<style scoped>\n",
              "    .dataframe tbody tr th:only-of-type {\n",
              "        vertical-align: middle;\n",
              "    }\n",
              "\n",
              "    .dataframe tbody tr th {\n",
              "        vertical-align: top;\n",
              "    }\n",
              "\n",
              "    .dataframe thead th {\n",
              "        text-align: right;\n",
              "    }\n",
              "</style>\n",
              "<table border=\"1\" class=\"dataframe\">\n",
              "  <thead>\n",
              "    <tr style=\"text-align: right;\">\n",
              "      <th></th>\n",
              "      <th>a_data</th>\n",
              "      <th>b_data</th>\n",
              "      <th>error</th>\n",
              "    </tr>\n",
              "  </thead>\n",
              "  <tbody>\n",
              "    <tr>\n",
              "      <th>27</th>\n",
              "      <td>2.0</td>\n",
              "      <td>1.5</td>\n",
              "      <td>13.5</td>\n",
              "    </tr>\n",
              "  </tbody>\n",
              "</table>\n",
              "</div>\n",
              "      <button class=\"colab-df-convert\" onclick=\"convertToInteractive('df-ba4dc179-0db1-4ae7-a7a2-f62e12fa4a3f')\"\n",
              "              title=\"Convert this dataframe to an interactive table.\"\n",
              "              style=\"display:none;\">\n",
              "        \n",
              "  <svg xmlns=\"http://www.w3.org/2000/svg\" height=\"24px\"viewBox=\"0 0 24 24\"\n",
              "       width=\"24px\">\n",
              "    <path d=\"M0 0h24v24H0V0z\" fill=\"none\"/>\n",
              "    <path d=\"M18.56 5.44l.94 2.06.94-2.06 2.06-.94-2.06-.94-.94-2.06-.94 2.06-2.06.94zm-11 1L8.5 8.5l.94-2.06 2.06-.94-2.06-.94L8.5 2.5l-.94 2.06-2.06.94zm10 10l.94 2.06.94-2.06 2.06-.94-2.06-.94-.94-2.06-.94 2.06-2.06.94z\"/><path d=\"M17.41 7.96l-1.37-1.37c-.4-.4-.92-.59-1.43-.59-.52 0-1.04.2-1.43.59L10.3 9.45l-7.72 7.72c-.78.78-.78 2.05 0 2.83L4 21.41c.39.39.9.59 1.41.59.51 0 1.02-.2 1.41-.59l7.78-7.78 2.81-2.81c.8-.78.8-2.07 0-2.86zM5.41 20L4 18.59l7.72-7.72 1.47 1.35L5.41 20z\"/>\n",
              "  </svg>\n",
              "      </button>\n",
              "      \n",
              "  <style>\n",
              "    .colab-df-container {\n",
              "      display:flex;\n",
              "      flex-wrap:wrap;\n",
              "      gap: 12px;\n",
              "    }\n",
              "\n",
              "    .colab-df-convert {\n",
              "      background-color: #E8F0FE;\n",
              "      border: none;\n",
              "      border-radius: 50%;\n",
              "      cursor: pointer;\n",
              "      display: none;\n",
              "      fill: #1967D2;\n",
              "      height: 32px;\n",
              "      padding: 0 0 0 0;\n",
              "      width: 32px;\n",
              "    }\n",
              "\n",
              "    .colab-df-convert:hover {\n",
              "      background-color: #E2EBFA;\n",
              "      box-shadow: 0px 1px 2px rgba(60, 64, 67, 0.3), 0px 1px 3px 1px rgba(60, 64, 67, 0.15);\n",
              "      fill: #174EA6;\n",
              "    }\n",
              "\n",
              "    [theme=dark] .colab-df-convert {\n",
              "      background-color: #3B4455;\n",
              "      fill: #D2E3FC;\n",
              "    }\n",
              "\n",
              "    [theme=dark] .colab-df-convert:hover {\n",
              "      background-color: #434B5C;\n",
              "      box-shadow: 0px 1px 3px 1px rgba(0, 0, 0, 0.15);\n",
              "      filter: drop-shadow(0px 1px 2px rgba(0, 0, 0, 0.3));\n",
              "      fill: #FFFFFF;\n",
              "    }\n",
              "  </style>\n",
              "\n",
              "      <script>\n",
              "        const buttonEl =\n",
              "          document.querySelector('#df-ba4dc179-0db1-4ae7-a7a2-f62e12fa4a3f button.colab-df-convert');\n",
              "        buttonEl.style.display =\n",
              "          google.colab.kernel.accessAllowed ? 'block' : 'none';\n",
              "\n",
              "        async function convertToInteractive(key) {\n",
              "          const element = document.querySelector('#df-ba4dc179-0db1-4ae7-a7a2-f62e12fa4a3f');\n",
              "          const dataTable =\n",
              "            await google.colab.kernel.invokeFunction('convertToInteractive',\n",
              "                                                     [key], {});\n",
              "          if (!dataTable) return;\n",
              "\n",
              "          const docLinkHtml = 'Like what you see? Visit the ' +\n",
              "            '<a target=\"_blank\" href=https://colab.research.google.com/notebooks/data_table.ipynb>data table notebook</a>'\n",
              "            + ' to learn more about interactive tables.';\n",
              "          element.innerHTML = '';\n",
              "          dataTable['output_type'] = 'display_data';\n",
              "          await google.colab.output.renderOutput(dataTable, element);\n",
              "          const docLink = document.createElement('div');\n",
              "          docLink.innerHTML = docLinkHtml;\n",
              "          element.appendChild(docLink);\n",
              "        }\n",
              "      </script>\n",
              "    </div>\n",
              "  </div>\n",
              "  "
            ]
          },
          "metadata": {},
          "execution_count": 13
        }
      ],
      "source": [
        "# 에러의 최소값\n",
        "error_df[error_df.error == np.min(error_df.error)]"
      ]
    },
    {
      "cell_type": "markdown",
      "metadata": {
        "id": "vQgQcCqhxibV"
      },
      "source": [
        "#### 오차의 제곱합이 가장 작아지는 a와 b를 구하는 방법 2\n",
        "- 경사하강법(gradient descent)\n",
        "  - $a$와 $b$의 미분값으로 기울기 구하기\n",
        "    - 기울기가 음수이면 값을 증가(오른쪽으로 이동)\n",
        "    - 기울기가 양수이면 값을 감소(왼쪽으로 이동)"
      ]
    },
    {
      "cell_type": "markdown",
      "metadata": {
        "id": "3ciVFR6BxibV"
      },
      "source": [
        "- 경사하강법의 이해 1\n",
        "  - 추세선의 수식을 $\\hat{y} = bx$ 라고 가정 : 경사하강법의 이해를 돕기위해 a를 제거\n",
        "  - b값에 따른 오차\n",
        "    $$ \\sum_{i=1}^n e_i^2 = \\sum_{i=1}^n(y_i - bx_i)^2$$"
      ]
    },
    {
      "cell_type": "code",
      "execution_count": 14,
      "metadata": {
        "colab": {
          "base_uri": "https://localhost:8080/",
          "height": 363
        },
        "id": "aLf1zi0wxibV",
        "outputId": "b432210b-7ccf-442b-eb01-c9dda1f50d69"
      },
      "outputs": [
        {
          "output_type": "execute_result",
          "data": {
            "text/plain": [
              "   b_data  error\n",
              "0     0.0   93.0\n",
              "1     0.5   63.5\n",
              "2     1.0   41.0\n",
              "3     1.5   25.5\n",
              "4     2.0   17.0\n",
              "5     2.5   15.5\n",
              "6     3.0   21.0\n",
              "7     3.5   33.5\n",
              "8     4.0   53.0\n",
              "9     4.5   79.5"
            ],
            "text/html": [
              "\n",
              "  <div id=\"df-898da855-d477-433f-bd8b-6b7fb581ec95\">\n",
              "    <div class=\"colab-df-container\">\n",
              "      <div>\n",
              "<style scoped>\n",
              "    .dataframe tbody tr th:only-of-type {\n",
              "        vertical-align: middle;\n",
              "    }\n",
              "\n",
              "    .dataframe tbody tr th {\n",
              "        vertical-align: top;\n",
              "    }\n",
              "\n",
              "    .dataframe thead th {\n",
              "        text-align: right;\n",
              "    }\n",
              "</style>\n",
              "<table border=\"1\" class=\"dataframe\">\n",
              "  <thead>\n",
              "    <tr style=\"text-align: right;\">\n",
              "      <th></th>\n",
              "      <th>b_data</th>\n",
              "      <th>error</th>\n",
              "    </tr>\n",
              "  </thead>\n",
              "  <tbody>\n",
              "    <tr>\n",
              "      <th>0</th>\n",
              "      <td>0.0</td>\n",
              "      <td>93.0</td>\n",
              "    </tr>\n",
              "    <tr>\n",
              "      <th>1</th>\n",
              "      <td>0.5</td>\n",
              "      <td>63.5</td>\n",
              "    </tr>\n",
              "    <tr>\n",
              "      <th>2</th>\n",
              "      <td>1.0</td>\n",
              "      <td>41.0</td>\n",
              "    </tr>\n",
              "    <tr>\n",
              "      <th>3</th>\n",
              "      <td>1.5</td>\n",
              "      <td>25.5</td>\n",
              "    </tr>\n",
              "    <tr>\n",
              "      <th>4</th>\n",
              "      <td>2.0</td>\n",
              "      <td>17.0</td>\n",
              "    </tr>\n",
              "    <tr>\n",
              "      <th>5</th>\n",
              "      <td>2.5</td>\n",
              "      <td>15.5</td>\n",
              "    </tr>\n",
              "    <tr>\n",
              "      <th>6</th>\n",
              "      <td>3.0</td>\n",
              "      <td>21.0</td>\n",
              "    </tr>\n",
              "    <tr>\n",
              "      <th>7</th>\n",
              "      <td>3.5</td>\n",
              "      <td>33.5</td>\n",
              "    </tr>\n",
              "    <tr>\n",
              "      <th>8</th>\n",
              "      <td>4.0</td>\n",
              "      <td>53.0</td>\n",
              "    </tr>\n",
              "    <tr>\n",
              "      <th>9</th>\n",
              "      <td>4.5</td>\n",
              "      <td>79.5</td>\n",
              "    </tr>\n",
              "  </tbody>\n",
              "</table>\n",
              "</div>\n",
              "      <button class=\"colab-df-convert\" onclick=\"convertToInteractive('df-898da855-d477-433f-bd8b-6b7fb581ec95')\"\n",
              "              title=\"Convert this dataframe to an interactive table.\"\n",
              "              style=\"display:none;\">\n",
              "        \n",
              "  <svg xmlns=\"http://www.w3.org/2000/svg\" height=\"24px\"viewBox=\"0 0 24 24\"\n",
              "       width=\"24px\">\n",
              "    <path d=\"M0 0h24v24H0V0z\" fill=\"none\"/>\n",
              "    <path d=\"M18.56 5.44l.94 2.06.94-2.06 2.06-.94-2.06-.94-.94-2.06-.94 2.06-2.06.94zm-11 1L8.5 8.5l.94-2.06 2.06-.94-2.06-.94L8.5 2.5l-.94 2.06-2.06.94zm10 10l.94 2.06.94-2.06 2.06-.94-2.06-.94-.94-2.06-.94 2.06-2.06.94z\"/><path d=\"M17.41 7.96l-1.37-1.37c-.4-.4-.92-.59-1.43-.59-.52 0-1.04.2-1.43.59L10.3 9.45l-7.72 7.72c-.78.78-.78 2.05 0 2.83L4 21.41c.39.39.9.59 1.41.59.51 0 1.02-.2 1.41-.59l7.78-7.78 2.81-2.81c.8-.78.8-2.07 0-2.86zM5.41 20L4 18.59l7.72-7.72 1.47 1.35L5.41 20z\"/>\n",
              "  </svg>\n",
              "      </button>\n",
              "      \n",
              "  <style>\n",
              "    .colab-df-container {\n",
              "      display:flex;\n",
              "      flex-wrap:wrap;\n",
              "      gap: 12px;\n",
              "    }\n",
              "\n",
              "    .colab-df-convert {\n",
              "      background-color: #E8F0FE;\n",
              "      border: none;\n",
              "      border-radius: 50%;\n",
              "      cursor: pointer;\n",
              "      display: none;\n",
              "      fill: #1967D2;\n",
              "      height: 32px;\n",
              "      padding: 0 0 0 0;\n",
              "      width: 32px;\n",
              "    }\n",
              "\n",
              "    .colab-df-convert:hover {\n",
              "      background-color: #E2EBFA;\n",
              "      box-shadow: 0px 1px 2px rgba(60, 64, 67, 0.3), 0px 1px 3px 1px rgba(60, 64, 67, 0.15);\n",
              "      fill: #174EA6;\n",
              "    }\n",
              "\n",
              "    [theme=dark] .colab-df-convert {\n",
              "      background-color: #3B4455;\n",
              "      fill: #D2E3FC;\n",
              "    }\n",
              "\n",
              "    [theme=dark] .colab-df-convert:hover {\n",
              "      background-color: #434B5C;\n",
              "      box-shadow: 0px 1px 3px 1px rgba(0, 0, 0, 0.15);\n",
              "      filter: drop-shadow(0px 1px 2px rgba(0, 0, 0, 0.3));\n",
              "      fill: #FFFFFF;\n",
              "    }\n",
              "  </style>\n",
              "\n",
              "      <script>\n",
              "        const buttonEl =\n",
              "          document.querySelector('#df-898da855-d477-433f-bd8b-6b7fb581ec95 button.colab-df-convert');\n",
              "        buttonEl.style.display =\n",
              "          google.colab.kernel.accessAllowed ? 'block' : 'none';\n",
              "\n",
              "        async function convertToInteractive(key) {\n",
              "          const element = document.querySelector('#df-898da855-d477-433f-bd8b-6b7fb581ec95');\n",
              "          const dataTable =\n",
              "            await google.colab.kernel.invokeFunction('convertToInteractive',\n",
              "                                                     [key], {});\n",
              "          if (!dataTable) return;\n",
              "\n",
              "          const docLinkHtml = 'Like what you see? Visit the ' +\n",
              "            '<a target=\"_blank\" href=https://colab.research.google.com/notebooks/data_table.ipynb>data table notebook</a>'\n",
              "            + ' to learn more about interactive tables.';\n",
              "          element.innerHTML = '';\n",
              "          dataTable['output_type'] = 'display_data';\n",
              "          await google.colab.output.renderOutput(dataTable, element);\n",
              "          const docLink = document.createElement('div');\n",
              "          docLink.innerHTML = docLinkHtml;\n",
              "          element.appendChild(docLink);\n",
              "        }\n",
              "      </script>\n",
              "    </div>\n",
              "  </div>\n",
              "  "
            ]
          },
          "metadata": {},
          "execution_count": 14
        }
      ],
      "source": [
        "b_datas = np.arange(0, 5, 0.5)\n",
        "# b_datas = np.arange(0, 5, 0.001)\n",
        "# print(b_datas)\n",
        "\n",
        "# 에러 함수\n",
        "def error_func(df, b=1):\n",
        "    e = 0\n",
        "    for idx, data in df.iterrows():\n",
        "        e += (data.y - b * data.x) ** 2\n",
        "    return e\n",
        "\n",
        "error_datas = []\n",
        "\n",
        "# 0 ~ 4.5 까지 에러를 출력\n",
        "for b_data in b_datas:\n",
        "    \n",
        "    e = error_func(df, b_data)\n",
        "    \n",
        "    error_datas.append({\n",
        "        \"b_data\":b_data,\n",
        "        \"error\": e,\n",
        "    })\n",
        "    \n",
        "# b 값이 2.5일때 가장 오차제곱합이 가장 작다.\n",
        "# 최적의 추세선 -> y = 2.5x\n",
        "error_df = pd.DataFrame(error_datas)\n",
        "error_df"
      ]
    },
    {
      "cell_type": "code",
      "execution_count": 15,
      "metadata": {
        "colab": {
          "base_uri": "https://localhost:8080/",
          "height": 81
        },
        "id": "Jw1KuztlxibW",
        "outputId": "1785beb0-fc20-46b9-a024-3224b9af02de"
      },
      "outputs": [
        {
          "output_type": "execute_result",
          "data": {
            "text/plain": [
              "   b_data  error\n",
              "5     2.5   15.5"
            ],
            "text/html": [
              "\n",
              "  <div id=\"df-f6724634-ca2f-4537-81fa-ee07e8387bf6\">\n",
              "    <div class=\"colab-df-container\">\n",
              "      <div>\n",
              "<style scoped>\n",
              "    .dataframe tbody tr th:only-of-type {\n",
              "        vertical-align: middle;\n",
              "    }\n",
              "\n",
              "    .dataframe tbody tr th {\n",
              "        vertical-align: top;\n",
              "    }\n",
              "\n",
              "    .dataframe thead th {\n",
              "        text-align: right;\n",
              "    }\n",
              "</style>\n",
              "<table border=\"1\" class=\"dataframe\">\n",
              "  <thead>\n",
              "    <tr style=\"text-align: right;\">\n",
              "      <th></th>\n",
              "      <th>b_data</th>\n",
              "      <th>error</th>\n",
              "    </tr>\n",
              "  </thead>\n",
              "  <tbody>\n",
              "    <tr>\n",
              "      <th>5</th>\n",
              "      <td>2.5</td>\n",
              "      <td>15.5</td>\n",
              "    </tr>\n",
              "  </tbody>\n",
              "</table>\n",
              "</div>\n",
              "      <button class=\"colab-df-convert\" onclick=\"convertToInteractive('df-f6724634-ca2f-4537-81fa-ee07e8387bf6')\"\n",
              "              title=\"Convert this dataframe to an interactive table.\"\n",
              "              style=\"display:none;\">\n",
              "        \n",
              "  <svg xmlns=\"http://www.w3.org/2000/svg\" height=\"24px\"viewBox=\"0 0 24 24\"\n",
              "       width=\"24px\">\n",
              "    <path d=\"M0 0h24v24H0V0z\" fill=\"none\"/>\n",
              "    <path d=\"M18.56 5.44l.94 2.06.94-2.06 2.06-.94-2.06-.94-.94-2.06-.94 2.06-2.06.94zm-11 1L8.5 8.5l.94-2.06 2.06-.94-2.06-.94L8.5 2.5l-.94 2.06-2.06.94zm10 10l.94 2.06.94-2.06 2.06-.94-2.06-.94-.94-2.06-.94 2.06-2.06.94z\"/><path d=\"M17.41 7.96l-1.37-1.37c-.4-.4-.92-.59-1.43-.59-.52 0-1.04.2-1.43.59L10.3 9.45l-7.72 7.72c-.78.78-.78 2.05 0 2.83L4 21.41c.39.39.9.59 1.41.59.51 0 1.02-.2 1.41-.59l7.78-7.78 2.81-2.81c.8-.78.8-2.07 0-2.86zM5.41 20L4 18.59l7.72-7.72 1.47 1.35L5.41 20z\"/>\n",
              "  </svg>\n",
              "      </button>\n",
              "      \n",
              "  <style>\n",
              "    .colab-df-container {\n",
              "      display:flex;\n",
              "      flex-wrap:wrap;\n",
              "      gap: 12px;\n",
              "    }\n",
              "\n",
              "    .colab-df-convert {\n",
              "      background-color: #E8F0FE;\n",
              "      border: none;\n",
              "      border-radius: 50%;\n",
              "      cursor: pointer;\n",
              "      display: none;\n",
              "      fill: #1967D2;\n",
              "      height: 32px;\n",
              "      padding: 0 0 0 0;\n",
              "      width: 32px;\n",
              "    }\n",
              "\n",
              "    .colab-df-convert:hover {\n",
              "      background-color: #E2EBFA;\n",
              "      box-shadow: 0px 1px 2px rgba(60, 64, 67, 0.3), 0px 1px 3px 1px rgba(60, 64, 67, 0.15);\n",
              "      fill: #174EA6;\n",
              "    }\n",
              "\n",
              "    [theme=dark] .colab-df-convert {\n",
              "      background-color: #3B4455;\n",
              "      fill: #D2E3FC;\n",
              "    }\n",
              "\n",
              "    [theme=dark] .colab-df-convert:hover {\n",
              "      background-color: #434B5C;\n",
              "      box-shadow: 0px 1px 3px 1px rgba(0, 0, 0, 0.15);\n",
              "      filter: drop-shadow(0px 1px 2px rgba(0, 0, 0, 0.3));\n",
              "      fill: #FFFFFF;\n",
              "    }\n",
              "  </style>\n",
              "\n",
              "      <script>\n",
              "        const buttonEl =\n",
              "          document.querySelector('#df-f6724634-ca2f-4537-81fa-ee07e8387bf6 button.colab-df-convert');\n",
              "        buttonEl.style.display =\n",
              "          google.colab.kernel.accessAllowed ? 'block' : 'none';\n",
              "\n",
              "        async function convertToInteractive(key) {\n",
              "          const element = document.querySelector('#df-f6724634-ca2f-4537-81fa-ee07e8387bf6');\n",
              "          const dataTable =\n",
              "            await google.colab.kernel.invokeFunction('convertToInteractive',\n",
              "                                                     [key], {});\n",
              "          if (!dataTable) return;\n",
              "\n",
              "          const docLinkHtml = 'Like what you see? Visit the ' +\n",
              "            '<a target=\"_blank\" href=https://colab.research.google.com/notebooks/data_table.ipynb>data table notebook</a>'\n",
              "            + ' to learn more about interactive tables.';\n",
              "          element.innerHTML = '';\n",
              "          dataTable['output_type'] = 'display_data';\n",
              "          await google.colab.output.renderOutput(dataTable, element);\n",
              "          const docLink = document.createElement('div');\n",
              "          docLink.innerHTML = docLinkHtml;\n",
              "          element.appendChild(docLink);\n",
              "        }\n",
              "      </script>\n",
              "    </div>\n",
              "  </div>\n",
              "  "
            ]
          },
          "metadata": {},
          "execution_count": 15
        }
      ],
      "source": [
        "error_df[error_df.error == np.min(error_df.error)]"
      ]
    },
    {
      "cell_type": "code",
      "execution_count": 16,
      "metadata": {
        "colab": {
          "base_uri": "https://localhost:8080/",
          "height": 265
        },
        "id": "-jNYmWHMxibW",
        "outputId": "43255e74-601e-4536-cb86-58ec85645983"
      },
      "outputs": [
        {
          "output_type": "display_data",
          "data": {
            "text/plain": [
              "<Figure size 432x288 with 1 Axes>"
            ],
            "image/png": "[encoded data removed]"
          },
          "metadata": {
            "image/png": {
              "width": 369,
              "height": 248
            },
            "needs_background": "light"
          }
        }
      ],
      "source": [
        "# b값에 대한 error 값의 그래프\n",
        "# 그래프에서 기울기가 가장 작아지는 값이 최적의 b값이 된다.\n",
        "plt.scatter(error_df.b_data, error_df.error)\n",
        "plt.show()"
      ]
    },
    {
      "cell_type": "markdown",
      "metadata": {
        "id": "a1eb8aLexibW"
      },
      "source": [
        "- 경사하강법의 이해 2\n",
        "    \n",
        "- $\\hat{y} = bx$ : 이해를 돕기위해 $a$는 제거\n",
        "    - $b$를 편미분 \n",
        "$$ \\sum_{i=1}^n e_i^2 = \\sum_{i=1}^n(y_i - bx_i)^2$$\n",
        "$$ \\frac{\\partial{L}}{\\partial{b}} = -2 \\sum_{i=1}^{n}(y_i - bx_i)x_i  $$\n",
        "- 위와 같이 일정한 비율로 찾으면 찾는데 오래 걸립니다.\n",
        "- b값의 이동 규칙\n",
        "    - 기울기가 음수이면 값을 증가(오른쪽으로 이동)\n",
        "    - 기울기가 양수이면 값을 증가(왼쪽으로 이동)\n",
        "    - $ b:=b-{batch size} \\centerdot \\frac{\\partial{L}}{\\partial{b}}$"
      ]
    },
    {
      "cell_type": "code",
      "execution_count": 17,
      "metadata": {
        "id": "xXNFOKckxibW"
      },
      "outputs": [],
      "source": [
        "# b의 초기값\n",
        "b = 50\n",
        "\n",
        "# 최적값을 찾기위한 실행 횟수\n",
        "# epoch가 낮으면 정확한 값을 찾기 어려움\n",
        "epoch = 50\n",
        "\n",
        "# 한번에 이동하는 크기제어\n",
        "batch_size = 0.01\n",
        "\n",
        "log_datas = []"
      ]
    },
    {
      "cell_type": "markdown",
      "metadata": {
        "id": "2FMSePoCxibW"
      },
      "source": [
        "#### 기울기 구하는 함수\n",
        "$ \\frac{\\partial{L}}{\\partial{b}} = -2 \\sum_{i=1}^{n}(y_i - bx_i)x_i  $"
      ]
    },
    {
      "cell_type": "code",
      "execution_count": 18,
      "metadata": {
        "id": "8rNEJGeCxibW"
      },
      "outputs": [],
      "source": [
        "# 기울기 구하는 함수\n",
        "def slope_func(df, b):\n",
        "    slope = 0\n",
        "    for idx, data in df.iterrows():\n",
        "        slope += -2 * (data.y - b * data.x) * data.x\n",
        "    return round(slope, 2)"
      ]
    },
    {
      "cell_type": "markdown",
      "metadata": {
        "id": "x8G2-bHXxibX"
      },
      "source": [
        "#### b값의 이동 규칙\n",
        "- 기울기가 음수이면 값을 증가(오른쪽으로 이동)\n",
        "- 기울기가 양수이면 값을 증가(왼쪽으로 이동)\n",
        "- $ b:=b-{batch size} \\centerdot \\frac{\\partial{L}}{\\partial{b}}$"
      ]
    },
    {
      "cell_type": "code",
      "execution_count": 19,
      "metadata": {
        "colab": {
          "base_uri": "https://localhost:8080/",
          "height": 112
        },
        "id": "34u_6tF3xibX",
        "outputId": "1fb472cc-a4b3-4476-c623-43c4b6e7c8a0"
      },
      "outputs": [
        {
          "output_type": "execute_result",
          "data": {
            "text/plain": [
              "       b             e    slope\n",
              "0  36.66  16488.818400  1334.00\n",
              "1  27.06   8555.130659   960.48"
            ],
            "text/html": [
              "\n",
              "  <div id=\"df-8809ccc5-db7d-4d76-8c96-04c032f1d505\">\n",
              "    <div class=\"colab-df-container\">\n",
              "      <div>\n",
              "<style scoped>\n",
              "    .dataframe tbody tr th:only-of-type {\n",
              "        vertical-align: middle;\n",
              "    }\n",
              "\n",
              "    .dataframe tbody tr th {\n",
              "        vertical-align: top;\n",
              "    }\n",
              "\n",
              "    .dataframe thead th {\n",
              "        text-align: right;\n",
              "    }\n",
              "</style>\n",
              "<table border=\"1\" class=\"dataframe\">\n",
              "  <thead>\n",
              "    <tr style=\"text-align: right;\">\n",
              "      <th></th>\n",
              "      <th>b</th>\n",
              "      <th>e</th>\n",
              "      <th>slope</th>\n",
              "    </tr>\n",
              "  </thead>\n",
              "  <tbody>\n",
              "    <tr>\n",
              "      <th>0</th>\n",
              "      <td>36.66</td>\n",
              "      <td>16488.818400</td>\n",
              "      <td>1334.00</td>\n",
              "    </tr>\n",
              "    <tr>\n",
              "      <th>1</th>\n",
              "      <td>27.06</td>\n",
              "      <td>8555.130659</td>\n",
              "      <td>960.48</td>\n",
              "    </tr>\n",
              "  </tbody>\n",
              "</table>\n",
              "</div>\n",
              "      <button class=\"colab-df-convert\" onclick=\"convertToInteractive('df-8809ccc5-db7d-4d76-8c96-04c032f1d505')\"\n",
              "              title=\"Convert this dataframe to an interactive table.\"\n",
              "              style=\"display:none;\">\n",
              "        \n",
              "  <svg xmlns=\"http://www.w3.org/2000/svg\" height=\"24px\"viewBox=\"0 0 24 24\"\n",
              "       width=\"24px\">\n",
              "    <path d=\"M0 0h24v24H0V0z\" fill=\"none\"/>\n",
              "    <path d=\"M18.56 5.44l.94 2.06.94-2.06 2.06-.94-2.06-.94-.94-2.06-.94 2.06-2.06.94zm-11 1L8.5 8.5l.94-2.06 2.06-.94-2.06-.94L8.5 2.5l-.94 2.06-2.06.94zm10 10l.94 2.06.94-2.06 2.06-.94-2.06-.94-.94-2.06-.94 2.06-2.06.94z\"/><path d=\"M17.41 7.96l-1.37-1.37c-.4-.4-.92-.59-1.43-.59-.52 0-1.04.2-1.43.59L10.3 9.45l-7.72 7.72c-.78.78-.78 2.05 0 2.83L4 21.41c.39.39.9.59 1.41.59.51 0 1.02-.2 1.41-.59l7.78-7.78 2.81-2.81c.8-.78.8-2.07 0-2.86zM5.41 20L4 18.59l7.72-7.72 1.47 1.35L5.41 20z\"/>\n",
              "  </svg>\n",
              "      </button>\n",
              "      \n",
              "  <style>\n",
              "    .colab-df-container {\n",
              "      display:flex;\n",
              "      flex-wrap:wrap;\n",
              "      gap: 12px;\n",
              "    }\n",
              "\n",
              "    .colab-df-convert {\n",
              "      background-color: #E8F0FE;\n",
              "      border: none;\n",
              "      border-radius: 50%;\n",
              "      cursor: pointer;\n",
              "      display: none;\n",
              "      fill: #1967D2;\n",
              "      height: 32px;\n",
              "      padding: 0 0 0 0;\n",
              "      width: 32px;\n",
              "    }\n",
              "\n",
              "    .colab-df-convert:hover {\n",
              "      background-color: #E2EBFA;\n",
              "      box-shadow: 0px 1px 2px rgba(60, 64, 67, 0.3), 0px 1px 3px 1px rgba(60, 64, 67, 0.15);\n",
              "      fill: #174EA6;\n",
              "    }\n",
              "\n",
              "    [theme=dark] .colab-df-convert {\n",
              "      background-color: #3B4455;\n",
              "      fill: #D2E3FC;\n",
              "    }\n",
              "\n",
              "    [theme=dark] .colab-df-convert:hover {\n",
              "      background-color: #434B5C;\n",
              "      box-shadow: 0px 1px 3px 1px rgba(0, 0, 0, 0.15);\n",
              "      filter: drop-shadow(0px 1px 2px rgba(0, 0, 0, 0.3));\n",
              "      fill: #FFFFFF;\n",
              "    }\n",
              "  </style>\n",
              "\n",
              "      <script>\n",
              "        const buttonEl =\n",
              "          document.querySelector('#df-8809ccc5-db7d-4d76-8c96-04c032f1d505 button.colab-df-convert');\n",
              "        buttonEl.style.display =\n",
              "          google.colab.kernel.accessAllowed ? 'block' : 'none';\n",
              "\n",
              "        async function convertToInteractive(key) {\n",
              "          const element = document.querySelector('#df-8809ccc5-db7d-4d76-8c96-04c032f1d505');\n",
              "          const dataTable =\n",
              "            await google.colab.kernel.invokeFunction('convertToInteractive',\n",
              "                                                     [key], {});\n",
              "          if (!dataTable) return;\n",
              "\n",
              "          const docLinkHtml = 'Like what you see? Visit the ' +\n",
              "            '<a target=\"_blank\" href=https://colab.research.google.com/notebooks/data_table.ipynb>data table notebook</a>'\n",
              "            + ' to learn more about interactive tables.';\n",
              "          element.innerHTML = '';\n",
              "          dataTable['output_type'] = 'display_data';\n",
              "          await google.colab.output.renderOutput(dataTable, element);\n",
              "          const docLink = document.createElement('div');\n",
              "          docLink.innerHTML = docLinkHtml;\n",
              "          element.appendChild(docLink);\n",
              "        }\n",
              "      </script>\n",
              "    </div>\n",
              "  </div>\n",
              "  "
            ]
          },
          "metadata": {},
          "execution_count": 19
        }
      ],
      "source": [
        "# b 값의 이동규칙을 이용하여 최적의 b구하기\n",
        "for _ in range(epoch):\n",
        "    \n",
        "    # b 값에 대한 기울기 구하기\n",
        "    slope = slope_func(df, b)\n",
        "    \n",
        "    # print(np.round(b, 2), slope)\n",
        "    \n",
        "    # 기울기가 0이면 반복문 빠져나가기\n",
        "    if slope == 0:\n",
        "        break\n",
        "    \n",
        "    # 기울기가 0 미만이면 b값이 증가 (slope가 음수이므로 b 값이 증가)\n",
        "    # 기울기가 0 초과이면 b값이 증가 (slope가 양수이므로 b 값이 감소)\n",
        "    b -= batch_size * slope\n",
        "    b = np.round(b, 5)\n",
        "    \n",
        "    # 에러 구하기\n",
        "    e = error_func(df, b)\n",
        "    \n",
        "    # 데이터 저장\n",
        "    log_datas.append({\n",
        "        \"b\": np.round(b, 2),\n",
        "        \"e\": e,\n",
        "        \"slope\": slope,\n",
        "    })\n",
        "\n",
        "log_df = pd.DataFrame(log_datas)\n",
        "log_df.head(2)"
      ]
    },
    {
      "cell_type": "code",
      "execution_count": 20,
      "metadata": {
        "colab": {
          "base_uri": "https://localhost:8080/"
        },
        "id": "mBb8ZG1jxibX",
        "outputId": "15c0383d-0547-40a4-cfac-ae0a61718aa2"
      },
      "outputs": [
        {
          "output_type": "execute_result",
          "data": {
            "text/plain": [
              "(38, 2.3573)"
            ]
          },
          "metadata": {},
          "execution_count": 20
        }
      ],
      "source": [
        "len(log_df), b # 초기값이 찾으려고 하는 값과 차이가 클수록 b의 최적값을 찾는데 오래걸림"
      ]
    },
    {
      "cell_type": "code",
      "execution_count": 21,
      "metadata": {
        "colab": {
          "base_uri": "https://localhost:8080/",
          "height": 265
        },
        "id": "ZpJjNznwxibX",
        "outputId": "4b43c262-9f17-4907-d024-a05d1b8b798e",
        "scrolled": false
      },
      "outputs": [
        {
          "output_type": "display_data",
          "data": {
            "text/plain": [
              "<Figure size 432x288 with 1 Axes>"
            ],
            "image/png": "[encoded data removed]"
          },
          "metadata": {
            "image/png": {
              "width": 388,
              "height": 248
            },
            "needs_background": "light"
          }
        }
      ],
      "source": [
        "# 최적의 b를 찾기위한 b값과 e값의 그래프\n",
        "# 최적의 b에 다가갈수록 미분값(기울기)이 작아져서 이동폭을 줄여가며 최적의 b값에 다가감\n",
        "plt.scatter(log_df.b, log_df.e)\n",
        "plt.show()"
      ]
    },
    {
      "cell_type": "markdown",
      "metadata": {
        "id": "4xNwreMYxibX"
      },
      "source": [
        "- $a$를 제거하지 않은 수식과 규칙은 아래와 같습니다.\n",
        "    - $\\hat{y} = a + bx$\n",
        "        - $a$와 $b$를 편미분\n",
        "\n",
        "    $$ \\sum_{i=1}^n e_i^2 = \\sum_{i=1}^n(y_i - a - bx_i)^2$$\n",
        "\n",
        "    $$ \\frac{\\partial{L}}{\\partial{a}} = -2 \\sum_{i=1}^{n}(y_i - a - bx_i)  $$\n",
        "\n",
        "    $$ \\frac{\\partial{L}}{\\partial{b}} = -2 \\sum_{i=1}^{n}(y_i - a - bx_i)x_i  $$\n",
        "\n",
        "    - $a$, $b$값을 변경하면서 가장 오차가 작은 $a$, $b$값을 찾음\n",
        "        - 기울기가 음수이면 값을 증가(오른쪽으로 이동)\n",
        "        - 기울기가 양수이면 값을 증가(왼쪽으로 이동)\n",
        "        - 이동 거리\n",
        "        - $ b:=b-{batch size} \\centerdot \\frac{\\partial{L}}{\\partial{b}}$\n",
        "        - $ a:=a-{batch size} \\centerdot \\frac{\\partial{L}}{\\partial{a}}$"
      ]
    },
    {
      "cell_type": "markdown",
      "metadata": {
        "id": "deVDr7uexibX"
      },
      "source": [
        "### OLS(Ordinary Least Square)\n",
        "    - 최소 제곱법으로 구해진 추세선은 평균을 지납니다.\n",
        "    - 추세선이 평균으로의 회귀라고 해서 회귀 분석이라고 합니다."
      ]
    },
    {
      "cell_type": "markdown",
      "metadata": {
        "id": "Ecm13NIBxibX"
      },
      "source": [
        "#### 정리\n",
        "- 단순 선형 회귀 분석은 하나의 x 데이터로 y 데이터를 예측하기 위해 최적의 추세선 수식을 구함\n",
        "- x 데이터로 y 데이터를 예측\n",
        "\n",
        "$$y = a + bx + e$$\n",
        "\n",
        "- 가장 작은 오차($e$)를 갖는 회귀계수인 a와 b를 구하는것이 목적\n",
        "- 수학에서의 방정식을 컴퓨터에서는 선형대수로 계산\n",
        "- 최소제곱법 : 가장 오차가 작은 추세선을 구하기 위한 방법\n",
        "- 경사하강법 : 효율적으로 회귀계수를 구하기 위한 방법"
      ]
    }
  ],
  "metadata": {
    "colab": {
      "collapsed_sections": [
        "3xJf-bUBxibU",
        "j7wU8xfexibU",
        "UqRmtES3xibU",
        "Ecm13NIBxibX"
      ],
      "name": "01-simple_linear_regression.ipynb",
      "provenance": [],
      "include_colab_link": true
    },
    "kernelspec": {
      "display_name": "Python 3 (ipykernel)",
      "language": "python",
      "name": "python3"
    },
    "language_info": {
      "codemirror_mode": {
        "name": "ipython",
        "version": 3
      },
      "file_extension": ".py",
      "mimetype": "text/x-python",
      "name": "python",
      "nbconvert_exporter": "python",
      "pygments_lexer": "ipython3",
      "version": "3.7.12"
    },
    "toc": {
      "base_numbering": 1,
      "nav_menu": {},
      "number_sections": false,
      "sideBar": true,
      "skip_h1_title": false,
      "title_cell": "Table of Contents",
      "title_sidebar": "Contents",
      "toc_cell": false,
      "toc_position": {},
      "toc_section_display": true,
      "toc_window_display": false
    },
    "varInspector": {
      "cols": {
        "lenName": 16,
        "lenType": 16,
        "lenVar": 40
      },
      "kernels_config": {
        "python": {
          "delete_cmd_postfix": "",
          "delete_cmd_prefix": "del ",
          "library": "var_list.py",
          "varRefreshCmd": "print(var_dic_list())"
        },
        "r": {
          "delete_cmd_postfix": ") ",
          "delete_cmd_prefix": "rm(",
          "library": "var_list.r",
          "varRefreshCmd": "cat(var_dic_list()) "
        }
      },
      "types_to_exclude": [
        "module",
        "function",
        "builtin_function_or_method",
        "instance",
        "_Feature"
      ],
      "window_display": false
    }
  },
  "nbformat": 4,
  "nbformat_minor": 0
}