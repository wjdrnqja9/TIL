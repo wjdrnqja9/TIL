{
  "cells": [
    {
      "cell_type": "markdown",
      "metadata": {
        "id": "view-in-github",
        "colab_type": "text"
      },
      "source": [
        "<a href=\"https://colab.research.google.com/github/wjdrnqja9/TIL/blob/main/machine_learning/%EC%9D%B4%EB%AF%B8%EC%A7%80_%EB%B6%84%EB%A5%98_%EC%8B%A4%EC%8A%B5.ipynb\" target=\"_parent\"><img src=\"https://colab.research.google.com/assets/colab-badge.svg\" alt=\"Open In Colab\"/></a>"
      ]
    },
    {
      "cell_type": "markdown",
      "id": "8c0a31c5",
      "metadata": {
        "id": "8c0a31c5"
      },
      "source": [
        "## Flowers Dataset 실습\n",
        "\n",
        "1. 데이터셋\n",
        "    - [링크](https://www.kaggle.com/datasets/aksha05/flower-image-dataset)를 참고하여 아래 코드를 구성하였습니다.\n",
        "    - 데이터셋은 총 733개 이미지를 갖고 있습니다.\n",
        "    - 학습셋 586개 이미지, 테스트셋 147개 이미지입니다.\n",
        "\n",
        "2. 실습내용\n",
        "    - 아래 예시코드를 참고하여 이미지 분류 성능을 높이는 실습입니다.\n",
        "    - 아래 예시는 간단하게 폴더에서 이미지 파일을 읽어와서 숫자로 변경하고, 해당 숫자를 이용하여 SVM 기본 모델을 학습했습니다. 정확도는 약 14%로 매우 저조합니다.\n",
        "    - 아래 내용을 참고하여 다양한 시도(모델 변경, 이미지 features 전처리 등)를 하여 모델 성능을 높여보세요!\n",
        "\n",
        "3. 참고\n",
        "    - 해당 실습은 수강생분들의 현재까지 머신러닝에 대한 이해를 돕기위한 실습입니다.\n",
        "    - 데이터셋이나 코드 등에 문제가 있을경우 말씀 부탁드리겠습니다! "
      ]
    },
    {
      "cell_type": "code",
      "execution_count": 1,
      "id": "a3bc4719",
      "metadata": {
        "colab": {
          "base_uri": "https://localhost:8080/"
        },
        "id": "a3bc4719",
        "outputId": "f0e71f11-b03a-4820-ff72-677198212b36"
      },
      "outputs": [
        {
          "output_type": "stream",
          "name": "stdout",
          "text": [
            "Looking in indexes: https://pypi.org/simple, https://us-python.pkg.dev/colab-wheels/public/simple/\n",
            "Requirement already satisfied: pip in /usr/local/lib/python3.7/dist-packages (21.1.3)\n",
            "Collecting pip\n",
            "  Downloading pip-22.1.1-py3-none-any.whl (2.1 MB)\n",
            "\u001b[K     |████████████████████████████████| 2.1 MB 8.3 MB/s \n",
            "\u001b[?25hInstalling collected packages: pip\n",
            "  Attempting uninstall: pip\n",
            "    Found existing installation: pip 21.1.3\n",
            "    Uninstalling pip-21.1.3:\n",
            "      Successfully uninstalled pip-21.1.3\n",
            "Successfully installed pip-22.1.1\n",
            "Looking in indexes: https://pypi.org/simple, https://us-python.pkg.dev/colab-wheels/public/simple/\n",
            "Requirement already satisfied: tqdm in /usr/local/lib/python3.7/dist-packages (4.64.0)\n",
            "\u001b[33mWARNING: Running pip as the 'root' user can result in broken permissions and conflicting behaviour with the system package manager. It is recommended to use a virtual environment instead: https://pip.pypa.io/warnings/venv\u001b[0m\u001b[33m\n",
            "\u001b[0m"
          ]
        }
      ],
      "source": [
        "#!pip install --upgrade pip\n",
        "#!pip install tqdm"
      ]
    },
    {
      "cell_type": "code",
      "execution_count": 1,
      "id": "deaefb3f",
      "metadata": {
        "id": "deaefb3f"
      },
      "outputs": [],
      "source": [
        "import os\n",
        "from tqdm import tqdm\n",
        "import pandas as pd\n",
        "import numpy as np\n",
        "from PIL import Image\n",
        "\n",
        "from sklearn.preprocessing import LabelEncoder\n",
        "from sklearn.model_selection import train_test_split\n",
        "from sklearn.metrics import accuracy_score, classification_report, confusion_matrix\n",
        "from sklearn.svm import SVC"
      ]
    },
    {
      "cell_type": "code",
      "source": [
        "from google.colab import drive\n",
        "drive.mount('/content/drive')"
      ],
      "metadata": {
        "colab": {
          "base_uri": "https://localhost:8080/"
        },
        "id": "ct3aRZ1idjHn",
        "outputId": "ec5ef91b-41d3-4b65-9361-3b93f861493e"
      },
      "id": "ct3aRZ1idjHn",
      "execution_count": 2,
      "outputs": [
        {
          "output_type": "stream",
          "name": "stdout",
          "text": [
            "Mounted at /content/drive\n"
          ]
        }
      ]
    },
    {
      "cell_type": "markdown",
      "id": "a72f2a42",
      "metadata": {
        "id": "a72f2a42"
      },
      "source": [
        "### Load dataset"
      ]
    },
    {
      "cell_type": "code",
      "execution_count": 3,
      "id": "044c0691",
      "metadata": {
        "id": "044c0691"
      },
      "outputs": [],
      "source": [
        "list_of_files = []\n",
        "for filename in os.listdir('/content/drive/MyDrive/Colab Notebooks/머신러닝/Extra Mini Projects/data/flowers'):\n",
        "    flower_name = filename.split('_')[0]\n",
        "    filepath = os.path.join('/content/drive/MyDrive/Colab Notebooks/머신러닝/Extra Mini Projects/data/flowers', filename)\n",
        "    \n",
        "    list_of_files.append((flower_name, filepath))"
      ]
    },
    {
      "cell_type": "code",
      "execution_count": 4,
      "id": "81703435",
      "metadata": {
        "colab": {
          "base_uri": "https://localhost:8080/"
        },
        "id": "81703435",
        "outputId": "398e7327-b729-49b0-c511-f28952af1187"
      },
      "outputs": [
        {
          "output_type": "stream",
          "name": "stdout",
          "text": [
            "733\n"
          ]
        }
      ],
      "source": [
        "print(len(list_of_files))"
      ]
    },
    {
      "cell_type": "code",
      "execution_count": 5,
      "id": "f02f317c",
      "metadata": {
        "colab": {
          "base_uri": "https://localhost:8080/"
        },
        "id": "f02f317c",
        "outputId": "5c296fde-8440-49d8-80bc-6b5b6c02dd80"
      },
      "outputs": [
        {
          "output_type": "stream",
          "name": "stdout",
          "text": [
            "           label                                           filepath\n",
            "0  bougainvillea  /content/drive/MyDrive/Colab Notebooks/머신러...\n",
            "1  bougainvillea  /content/drive/MyDrive/Colab Notebooks/머신러...\n",
            "2  bougainvillea  /content/drive/MyDrive/Colab Notebooks/머신러...\n",
            "3  bougainvillea  /content/drive/MyDrive/Colab Notebooks/머신러...\n",
            "4  bougainvillea  /content/drive/MyDrive/Colab Notebooks/머신러...\n"
          ]
        }
      ],
      "source": [
        "df = pd.DataFrame(data=list_of_files, columns=['label', 'filepath'])\n",
        "print(df.head())"
      ]
    },
    {
      "cell_type": "code",
      "execution_count": 7,
      "id": "25c1ff23",
      "metadata": {
        "id": "25c1ff23"
      },
      "outputs": [],
      "source": [
        "train_x, test_x, original_train_y, original_test_y = train_test_split(df['filepath'].values, df['label'].values, \n",
        "                                                                      test_size=0.2)"
      ]
    },
    {
      "cell_type": "code",
      "execution_count": 8,
      "id": "aefcb1d3",
      "metadata": {
        "id": "aefcb1d3"
      },
      "outputs": [],
      "source": [
        "def convert_img_to_arr(filepath):\n",
        "    img = np.array(Image.open(filepath))\n",
        "    resize_img = np.resize(img, (10, 10, 3) )\n",
        "    resize_img = resize_img.astype('float32')\n",
        "    resize_img /= 255\n",
        "    \n",
        "    return resize_img"
      ]
    },
    {
      "cell_type": "code",
      "execution_count": 9,
      "id": "c651f30c",
      "metadata": {
        "colab": {
          "base_uri": "https://localhost:8080/"
        },
        "id": "c651f30c",
        "outputId": "d604093b-4c5f-4bbf-9fc7-162e3febde2f"
      },
      "outputs": [
        {
          "output_type": "stream",
          "name": "stderr",
          "text": [
            "100%|██████████| 586/586 [00:50<00:00, 11.59it/s]\n",
            "100%|██████████| 147/147 [00:09<00:00, 15.47it/s]\n"
          ]
        }
      ],
      "source": [
        "train_x = [convert_img_to_arr(x).reshape(-1, 10 * 10 * 3) for x in tqdm(train_x)]\n",
        "test_x = [convert_img_to_arr(x).reshape(-1, 10 * 10 * 3) for x in tqdm(test_x)]"
      ]
    },
    {
      "cell_type": "code",
      "execution_count": 10,
      "id": "93214ea4",
      "metadata": {
        "id": "93214ea4"
      },
      "outputs": [],
      "source": [
        "train_x = [item for sublist in train_x for item in sublist]\n",
        "test_x = [item for sublist in test_x for item in sublist]"
      ]
    },
    {
      "cell_type": "code",
      "execution_count": 11,
      "id": "e04495f7",
      "metadata": {
        "id": "e04495f7"
      },
      "outputs": [],
      "source": [
        "labelencoder = LabelEncoder()\n",
        "train_y = labelencoder.fit_transform(original_train_y)\n",
        "test_y = labelencoder.fit_transform(original_test_y)"
      ]
    },
    {
      "cell_type": "code",
      "execution_count": 12,
      "id": "a118ef28",
      "metadata": {
        "colab": {
          "base_uri": "https://localhost:8080/"
        },
        "id": "a118ef28",
        "outputId": "0c5e03b2-1843-471c-ac84-ad34f69a6895"
      },
      "outputs": [
        {
          "output_type": "execute_result",
          "data": {
            "text/plain": [
              "(586, 147)"
            ]
          },
          "metadata": {},
          "execution_count": 12
        }
      ],
      "source": [
        "len(train_x), len(test_x)"
      ]
    },
    {
      "cell_type": "code",
      "execution_count": 13,
      "id": "6a66a12a",
      "metadata": {
        "colab": {
          "base_uri": "https://localhost:8080/"
        },
        "id": "6a66a12a",
        "outputId": "832e9716-62c1-4804-ba4a-d9c0e2286248"
      },
      "outputs": [
        {
          "output_type": "execute_result",
          "data": {
            "text/plain": [
              "(300, 300)"
            ]
          },
          "metadata": {},
          "execution_count": 13
        }
      ],
      "source": [
        "len(train_x[0]), len(test_x[0])"
      ]
    },
    {
      "cell_type": "markdown",
      "id": "70a26a1a",
      "metadata": {
        "id": "70a26a1a"
      },
      "source": [
        "### Train model and Evaluate"
      ]
    },
    {
      "cell_type": "code",
      "execution_count": 14,
      "id": "973f19b8",
      "metadata": {
        "colab": {
          "base_uri": "https://localhost:8080/"
        },
        "id": "973f19b8",
        "outputId": "d1a1c48e-3fdf-48b1-ea12-c4f975c4c94f"
      },
      "outputs": [
        {
          "output_type": "stream",
          "name": "stdout",
          "text": [
            "[LibSVM]"
          ]
        },
        {
          "output_type": "execute_result",
          "data": {
            "text/plain": [
              "SVC(verbose=True)"
            ]
          },
          "metadata": {},
          "execution_count": 14
        }
      ],
      "source": [
        "model = SVC(kernel='rbf', verbose=True)\n",
        "model.fit(train_x, train_y)"
      ]
    },
    {
      "cell_type": "code",
      "execution_count": 15,
      "id": "ffcc74c3",
      "metadata": {
        "id": "ffcc74c3"
      },
      "outputs": [],
      "source": [
        "pred = model.predict(test_x)"
      ]
    },
    {
      "cell_type": "code",
      "execution_count": 16,
      "id": "dec7677c",
      "metadata": {
        "colab": {
          "base_uri": "https://localhost:8080/"
        },
        "id": "dec7677c",
        "outputId": "5ff25675-6d13-4a92-ff44-a1c0df134bf9"
      },
      "outputs": [
        {
          "output_type": "execute_result",
          "data": {
            "text/plain": [
              "0.17006802721088435"
            ]
          },
          "metadata": {},
          "execution_count": 16
        }
      ],
      "source": [
        "accuracy_score(test_y, pred)"
      ]
    },
    {
      "cell_type": "code",
      "execution_count": 17,
      "id": "4b884699",
      "metadata": {
        "colab": {
          "base_uri": "https://localhost:8080/"
        },
        "id": "4b884699",
        "outputId": "012e2c33-9263-4049-eaaf-20b8b088f680"
      },
      "outputs": [
        {
          "output_type": "execute_result",
          "data": {
            "text/plain": [
              "array([[5, 0, 5, 2, 0, 0, 0, 0, 0, 0],\n",
              "       [3, 3, 5, 8, 0, 0, 1, 0, 3, 0],\n",
              "       [2, 1, 3, 1, 0, 0, 1, 0, 1, 0],\n",
              "       [1, 2, 2, 9, 0, 0, 2, 0, 1, 0],\n",
              "       [1, 3, 0, 6, 0, 0, 1, 0, 3, 0],\n",
              "       [1, 3, 1, 5, 0, 1, 2, 0, 3, 2],\n",
              "       [0, 1, 0, 5, 0, 0, 2, 0, 2, 7],\n",
              "       [0, 2, 4, 1, 0, 0, 2, 0, 3, 3],\n",
              "       [0, 1, 0, 4, 0, 0, 1, 0, 1, 2],\n",
              "       [1, 3, 0, 3, 0, 0, 1, 0, 4, 1]])"
            ]
          },
          "metadata": {},
          "execution_count": 17
        }
      ],
      "source": [
        "confusion_matrix(test_y, pred)"
      ]
    },
    {
      "cell_type": "code",
      "execution_count": null,
      "id": "086419e9",
      "metadata": {
        "id": "086419e9"
      },
      "outputs": [],
      "source": [
        ""
      ]
    }
  ],
  "metadata": {
    "kernelspec": {
      "display_name": "Python 3 (ipykernel)",
      "language": "python",
      "name": "python3"
    },
    "language_info": {
      "codemirror_mode": {
        "name": "ipython",
        "version": 3
      },
      "file_extension": ".py",
      "mimetype": "text/x-python",
      "name": "python",
      "nbconvert_exporter": "python",
      "pygments_lexer": "ipython3",
      "version": "3.7.12"
    },
    "colab": {
      "name": "이미지 분류 실습.ipynb",
      "provenance": [],
      "include_colab_link": true
    }
  },
  "nbformat": 4,
  "nbformat_minor": 5
}