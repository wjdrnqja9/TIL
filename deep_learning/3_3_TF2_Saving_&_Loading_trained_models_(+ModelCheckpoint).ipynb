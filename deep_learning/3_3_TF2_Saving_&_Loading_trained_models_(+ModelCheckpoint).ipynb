{
  "cells": [
    {
      "cell_type": "markdown",
      "metadata": {
        "id": "view-in-github",
        "colab_type": "text"
      },
      "source": [
        "<a href=\"https://colab.research.google.com/github/wjdrnqja9/TIL/blob/main/deep_learning/3_3_TF2_Saving_%26_Loading_trained_models_(%2BModelCheckpoint).ipynb\" target=\"_parent\"><img src=\"https://colab.research.google.com/assets/colab-badge.svg\" alt=\"Open In Colab\"/></a>"
      ]
    },
    {
      "cell_type": "markdown",
      "metadata": {
        "id": "eqqFe-P39sFZ"
      },
      "source": [
        "<br> \n",
        "\n",
        "#### 0. Prepare dataset "
      ]
    },
    {
      "cell_type": "code",
      "execution_count": 1,
      "metadata": {
        "id": "BfJtCP559sFc"
      },
      "outputs": [],
      "source": [
        "import pandas as pd\n",
        "import numpy as np\n",
        "import matplotlib.pyplot as plt\n",
        "from sklearn import model_selection, preprocessing"
      ]
    },
    {
      "cell_type": "code",
      "source": [
        "from google.colab import drive\n",
        "drive.mount('/content/drive')"
      ],
      "metadata": {
        "colab": {
          "base_uri": "https://localhost:8080/"
        },
        "id": "YOVdyG9j_JeD",
        "outputId": "9161690c-627d-47fc-c61c-ec9930375c4b"
      },
      "execution_count": 4,
      "outputs": [
        {
          "output_type": "stream",
          "name": "stdout",
          "text": [
            "Mounted at /content/drive\n"
          ]
        }
      ]
    },
    {
      "cell_type": "code",
      "execution_count": 5,
      "metadata": {
        "id": "-80iZpz59sFd"
      },
      "outputs": [],
      "source": [
        "titanic_df = pd.read_csv(\"/content/drive/MyDrive/Colab Notebooks/딥러닝/실습 파일/1. Tensorflow (Problem)/titanic_modified.csv\")\n",
        "\n",
        "titanic_target = titanic_df[['Survived']].copy()\n",
        "titanic_data = titanic_df.copy()\n",
        "\n",
        "del titanic_data['Survived']"
      ]
    },
    {
      "cell_type": "code",
      "source": [
        "titanic_df.head()"
      ],
      "metadata": {
        "colab": {
          "base_uri": "https://localhost:8080/",
          "height": 206
        },
        "id": "FiYZM8pb_WKp",
        "outputId": "78646006-ca72-466a-9d16-a9e9b6a2c7b1"
      },
      "execution_count": 7,
      "outputs": [
        {
          "output_type": "execute_result",
          "data": {
            "text/plain": [
              "   Survived  Pclass  Sex  Age  Fare  Embarked  Title  FamilySize  isAlone\n",
              "0         0       3    0  1.0   0.0         0      3         0.4        0\n",
              "1         1       1    1  2.0   0.0         2      4         0.4        0\n",
              "2         1       3    1  1.0   0.0         0      2         0.0        1\n",
              "3         1       1    1  2.0   0.0         0      4         0.4        0\n",
              "4         0       3    0  2.0   0.0         0      3         0.0        1"
            ],
            "text/html": [
              "\n",
              "  <div id=\"df-cfb88020-578d-4ca3-92c5-2d8149af7ff1\">\n",
              "    <div class=\"colab-df-container\">\n",
              "      <div>\n",
              "<style scoped>\n",
              "    .dataframe tbody tr th:only-of-type {\n",
              "        vertical-align: middle;\n",
              "    }\n",
              "\n",
              "    .dataframe tbody tr th {\n",
              "        vertical-align: top;\n",
              "    }\n",
              "\n",
              "    .dataframe thead th {\n",
              "        text-align: right;\n",
              "    }\n",
              "</style>\n",
              "<table border=\"1\" class=\"dataframe\">\n",
              "  <thead>\n",
              "    <tr style=\"text-align: right;\">\n",
              "      <th></th>\n",
              "      <th>Survived</th>\n",
              "      <th>Pclass</th>\n",
              "      <th>Sex</th>\n",
              "      <th>Age</th>\n",
              "      <th>Fare</th>\n",
              "      <th>Embarked</th>\n",
              "      <th>Title</th>\n",
              "      <th>FamilySize</th>\n",
              "      <th>isAlone</th>\n",
              "    </tr>\n",
              "  </thead>\n",
              "  <tbody>\n",
              "    <tr>\n",
              "      <th>0</th>\n",
              "      <td>0</td>\n",
              "      <td>3</td>\n",
              "      <td>0</td>\n",
              "      <td>1.0</td>\n",
              "      <td>0.0</td>\n",
              "      <td>0</td>\n",
              "      <td>3</td>\n",
              "      <td>0.4</td>\n",
              "      <td>0</td>\n",
              "    </tr>\n",
              "    <tr>\n",
              "      <th>1</th>\n",
              "      <td>1</td>\n",
              "      <td>1</td>\n",
              "      <td>1</td>\n",
              "      <td>2.0</td>\n",
              "      <td>0.0</td>\n",
              "      <td>2</td>\n",
              "      <td>4</td>\n",
              "      <td>0.4</td>\n",
              "      <td>0</td>\n",
              "    </tr>\n",
              "    <tr>\n",
              "      <th>2</th>\n",
              "      <td>1</td>\n",
              "      <td>3</td>\n",
              "      <td>1</td>\n",
              "      <td>1.0</td>\n",
              "      <td>0.0</td>\n",
              "      <td>0</td>\n",
              "      <td>2</td>\n",
              "      <td>0.0</td>\n",
              "      <td>1</td>\n",
              "    </tr>\n",
              "    <tr>\n",
              "      <th>3</th>\n",
              "      <td>1</td>\n",
              "      <td>1</td>\n",
              "      <td>1</td>\n",
              "      <td>2.0</td>\n",
              "      <td>0.0</td>\n",
              "      <td>0</td>\n",
              "      <td>4</td>\n",
              "      <td>0.4</td>\n",
              "      <td>0</td>\n",
              "    </tr>\n",
              "    <tr>\n",
              "      <th>4</th>\n",
              "      <td>0</td>\n",
              "      <td>3</td>\n",
              "      <td>0</td>\n",
              "      <td>2.0</td>\n",
              "      <td>0.0</td>\n",
              "      <td>0</td>\n",
              "      <td>3</td>\n",
              "      <td>0.0</td>\n",
              "      <td>1</td>\n",
              "    </tr>\n",
              "  </tbody>\n",
              "</table>\n",
              "</div>\n",
              "      <button class=\"colab-df-convert\" onclick=\"convertToInteractive('df-cfb88020-578d-4ca3-92c5-2d8149af7ff1')\"\n",
              "              title=\"Convert this dataframe to an interactive table.\"\n",
              "              style=\"display:none;\">\n",
              "        \n",
              "  <svg xmlns=\"http://www.w3.org/2000/svg\" height=\"24px\"viewBox=\"0 0 24 24\"\n",
              "       width=\"24px\">\n",
              "    <path d=\"M0 0h24v24H0V0z\" fill=\"none\"/>\n",
              "    <path d=\"M18.56 5.44l.94 2.06.94-2.06 2.06-.94-2.06-.94-.94-2.06-.94 2.06-2.06.94zm-11 1L8.5 8.5l.94-2.06 2.06-.94-2.06-.94L8.5 2.5l-.94 2.06-2.06.94zm10 10l.94 2.06.94-2.06 2.06-.94-2.06-.94-.94-2.06-.94 2.06-2.06.94z\"/><path d=\"M17.41 7.96l-1.37-1.37c-.4-.4-.92-.59-1.43-.59-.52 0-1.04.2-1.43.59L10.3 9.45l-7.72 7.72c-.78.78-.78 2.05 0 2.83L4 21.41c.39.39.9.59 1.41.59.51 0 1.02-.2 1.41-.59l7.78-7.78 2.81-2.81c.8-.78.8-2.07 0-2.86zM5.41 20L4 18.59l7.72-7.72 1.47 1.35L5.41 20z\"/>\n",
              "  </svg>\n",
              "      </button>\n",
              "      \n",
              "  <style>\n",
              "    .colab-df-container {\n",
              "      display:flex;\n",
              "      flex-wrap:wrap;\n",
              "      gap: 12px;\n",
              "    }\n",
              "\n",
              "    .colab-df-convert {\n",
              "      background-color: #E8F0FE;\n",
              "      border: none;\n",
              "      border-radius: 50%;\n",
              "      cursor: pointer;\n",
              "      display: none;\n",
              "      fill: #1967D2;\n",
              "      height: 32px;\n",
              "      padding: 0 0 0 0;\n",
              "      width: 32px;\n",
              "    }\n",
              "\n",
              "    .colab-df-convert:hover {\n",
              "      background-color: #E2EBFA;\n",
              "      box-shadow: 0px 1px 2px rgba(60, 64, 67, 0.3), 0px 1px 3px 1px rgba(60, 64, 67, 0.15);\n",
              "      fill: #174EA6;\n",
              "    }\n",
              "\n",
              "    [theme=dark] .colab-df-convert {\n",
              "      background-color: #3B4455;\n",
              "      fill: #D2E3FC;\n",
              "    }\n",
              "\n",
              "    [theme=dark] .colab-df-convert:hover {\n",
              "      background-color: #434B5C;\n",
              "      box-shadow: 0px 1px 3px 1px rgba(0, 0, 0, 0.15);\n",
              "      filter: drop-shadow(0px 1px 2px rgba(0, 0, 0, 0.3));\n",
              "      fill: #FFFFFF;\n",
              "    }\n",
              "  </style>\n",
              "\n",
              "      <script>\n",
              "        const buttonEl =\n",
              "          document.querySelector('#df-cfb88020-578d-4ca3-92c5-2d8149af7ff1 button.colab-df-convert');\n",
              "        buttonEl.style.display =\n",
              "          google.colab.kernel.accessAllowed ? 'block' : 'none';\n",
              "\n",
              "        async function convertToInteractive(key) {\n",
              "          const element = document.querySelector('#df-cfb88020-578d-4ca3-92c5-2d8149af7ff1');\n",
              "          const dataTable =\n",
              "            await google.colab.kernel.invokeFunction('convertToInteractive',\n",
              "                                                     [key], {});\n",
              "          if (!dataTable) return;\n",
              "\n",
              "          const docLinkHtml = 'Like what you see? Visit the ' +\n",
              "            '<a target=\"_blank\" href=https://colab.research.google.com/notebooks/data_table.ipynb>data table notebook</a>'\n",
              "            + ' to learn more about interactive tables.';\n",
              "          element.innerHTML = '';\n",
              "          dataTable['output_type'] = 'display_data';\n",
              "          await google.colab.output.renderOutput(dataTable, element);\n",
              "          const docLink = document.createElement('div');\n",
              "          docLink.innerHTML = docLinkHtml;\n",
              "          element.appendChild(docLink);\n",
              "        }\n",
              "      </script>\n",
              "    </div>\n",
              "  </div>\n",
              "  "
            ]
          },
          "metadata": {},
          "execution_count": 7
        }
      ]
    },
    {
      "cell_type": "code",
      "execution_count": 6,
      "metadata": {
        "id": "z7ph7GKn9sFe"
      },
      "outputs": [],
      "source": [
        "train_data, test_data, train_label, test_label = model_selection.train_test_split(titanic_data, titanic_target,\n",
        "                                                                                 test_size=0.3,\n",
        "                                                                                 random_state=0)"
      ]
    },
    {
      "cell_type": "code",
      "execution_count": 8,
      "metadata": {
        "id": "VkYs3JjF9sFe"
      },
      "outputs": [],
      "source": [
        "enc = preprocessing.OneHotEncoder(categories='auto') \n",
        "\n",
        "train_label = enc.fit_transform(train_label).toarray()\n",
        "test_label = enc.fit_transform(test_label).toarray()"
      ]
    },
    {
      "cell_type": "markdown",
      "metadata": {
        "id": "BU_0atHY9sFf"
      },
      "source": [
        "<br> \n",
        "\n",
        "#### 1. Train the model"
      ]
    },
    {
      "cell_type": "code",
      "execution_count": 9,
      "metadata": {
        "id": "ZmNigSCb9sFf"
      },
      "outputs": [],
      "source": [
        "import tensorflow as tf\n",
        "from tensorflow.keras import datasets, utils\n",
        "from tensorflow.keras import models, layers, activations, initializers, losses, optimizers, metrics\n",
        "\n",
        "import os\n",
        "os.environ['TF_CPP_MIN_LOG_LEVEL'] = '2' # https://stackoverflow.com/questions/35911252/disable-tensorflow-debugging-information"
      ]
    },
    {
      "cell_type": "code",
      "execution_count": 11,
      "metadata": {
        "id": "NJKPlpIO9sFg"
      },
      "outputs": [],
      "source": [
        "model = models.Sequential() \n",
        "\n",
        "model.add(layers.Dense(input_dim=8, units=256, activation=None, kernel_initializer=initializers.he_uniform())) \n",
        "# model.add(layers.BatchNormalization)\n",
        "model.add(layers.Activation('elu')) # elu or relu\n",
        "\n",
        "model.add(layers.Dense(units=512, activation=None, kernel_initializer=initializers.he_uniform())) \n",
        "model.add(layers.Activation('elu')) \n",
        "\n",
        "model.add(layers.Dense(units=512, activation=None, kernel_initializer=initializers.he_uniform())) \n",
        "model.add(layers.Activation('elu'))\n",
        "\n",
        "model.add(layers.Dense(units=256, activation=None, kernel_initializer=initializers.he_uniform())) \n",
        "model.add(layers.Activation('elu')) \n",
        "model.add(layers.Dropout(rate=0.5))\n",
        "\n",
        "model.add(layers.Dense(units=2, activation='softmax')) # One-hot vector for 0 & 1"
      ]
    },
    {
      "cell_type": "code",
      "execution_count": 12,
      "metadata": {
        "id": "w3eSPwZb9sFg"
      },
      "outputs": [],
      "source": [
        "model.compile(optimizer=optimizers.Adam(), \n",
        "              loss=losses.categorical_crossentropy, \n",
        "              metrics=[metrics.categorical_accuracy]) "
      ]
    },
    {
      "cell_type": "code",
      "source": [
        "model.summary()"
      ],
      "metadata": {
        "colab": {
          "base_uri": "https://localhost:8080/"
        },
        "id": "C1pPr-9KCKEz",
        "outputId": "821c990e-2ee6-46c2-e5d6-3b9565aad4ea"
      },
      "execution_count": 14,
      "outputs": [
        {
          "output_type": "stream",
          "name": "stdout",
          "text": [
            "Model: \"sequential_1\"\n",
            "_________________________________________________________________\n",
            " Layer (type)                Output Shape              Param #   \n",
            "=================================================================\n",
            " dense_5 (Dense)             (None, 256)               2304      \n",
            "                                                                 \n",
            " activation_4 (Activation)   (None, 256)               0         \n",
            "                                                                 \n",
            " dense_6 (Dense)             (None, 512)               131584    \n",
            "                                                                 \n",
            " activation_5 (Activation)   (None, 512)               0         \n",
            "                                                                 \n",
            " dense_7 (Dense)             (None, 512)               262656    \n",
            "                                                                 \n",
            " activation_6 (Activation)   (None, 512)               0         \n",
            "                                                                 \n",
            " dense_8 (Dense)             (None, 256)               131328    \n",
            "                                                                 \n",
            " activation_7 (Activation)   (None, 256)               0         \n",
            "                                                                 \n",
            " dropout_1 (Dropout)         (None, 256)               0         \n",
            "                                                                 \n",
            " dense_9 (Dense)             (None, 2)                 514       \n",
            "                                                                 \n",
            "=================================================================\n",
            "Total params: 528,386\n",
            "Trainable params: 528,386\n",
            "Non-trainable params: 0\n",
            "_________________________________________________________________\n"
          ]
        }
      ]
    },
    {
      "cell_type": "code",
      "execution_count": 15,
      "metadata": {
        "id": "KW-Ov9c-9sFh"
      },
      "outputs": [],
      "source": [
        "# verbose의 값을 0으로 지정하면 silent mode로 fitting이 진행됩니다.\n",
        "\n",
        "history = model.fit(train_data, train_label, batch_size=100, epochs=20, validation_split=0.3, verbose=0) "
      ]
    },
    {
      "cell_type": "markdown",
      "metadata": {
        "id": "ajG3cf1X9sFh"
      },
      "source": [
        "<br> \n",
        "\n",
        "#### 2. Test the model before saving"
      ]
    },
    {
      "cell_type": "code",
      "execution_count": 16,
      "metadata": {
        "scrolled": true,
        "colab": {
          "base_uri": "https://localhost:8080/"
        },
        "id": "VyFfFnXC9sFh",
        "outputId": "53896890-cf2c-42f9-dea7-42f3e374ee92"
      },
      "outputs": [
        {
          "output_type": "stream",
          "name": "stdout",
          "text": [
            "9/9 [==============================] - 0s 4ms/step - loss: 0.4307 - categorical_accuracy: 0.8284\n",
            "loss (cross-entropy) : 0.4307054579257965\n",
            "test accuracy : 0.8283582329750061\n"
          ]
        }
      ],
      "source": [
        "result = model.evaluate(test_data, test_label)\n",
        "\n",
        "print('loss (cross-entropy) :', result[0])\n",
        "print('test accuracy :', result[1])"
      ]
    },
    {
      "cell_type": "markdown",
      "metadata": {
        "id": "pYBOY8GP9sFi"
      },
      "source": [
        "<br> \n",
        "\n",
        "#### 3. Save the trained model"
      ]
    },
    {
      "cell_type": "code",
      "execution_count": 17,
      "metadata": {
        "id": "ghHHHXW99sFi"
      },
      "outputs": [],
      "source": [
        "# 저장되는 항목 \n",
        "# - Model의 architecture\n",
        "# - Model의 모든 weights (Parameter Theta)\n",
        "# - The state of the optimizer (바로 모델 학습의 재개 가능)\n",
        "\n",
        "model.save('trained_model.h5') # \"Save\" the model\n",
        "\n",
        "\n",
        "# model.save_weights('trained_model.h5') # weights만 따로 저장도 가능함\n",
        "# model.load_weights('trained_model.h5')"
      ]
    },
    {
      "cell_type": "markdown",
      "metadata": {
        "id": "wrDij3cb9sFj"
      },
      "source": [
        "<br> \n",
        "\n",
        "#### 4. Load the saved model "
      ]
    },
    {
      "cell_type": "code",
      "execution_count": 18,
      "metadata": {
        "id": "e1RdvpGI9sFj"
      },
      "outputs": [],
      "source": [
        "model = models.load_model('trained_model.h5') # \"Load\" the \"model\"\n",
        "\n",
        "# model.load_weights('trained_model.h5') # weights만 따로 불러올 수 있음"
      ]
    },
    {
      "cell_type": "code",
      "execution_count": 19,
      "metadata": {
        "colab": {
          "base_uri": "https://localhost:8080/"
        },
        "id": "0SN2lTdc9sFj",
        "outputId": "d5d41af3-4207-409e-9fb2-0501fb048258"
      },
      "outputs": [
        {
          "output_type": "stream",
          "name": "stdout",
          "text": [
            "9/9 [==============================] - 0s 4ms/step - loss: 0.4307 - categorical_accuracy: 0.8284\n",
            "loss (cross-entropy) : 0.4307054579257965\n",
            "test accuracy : 0.8283582329750061\n"
          ]
        }
      ],
      "source": [
        "result = model.evaluate(test_data, test_label)\n",
        "\n",
        "print('loss (cross-entropy) :', result[0])\n",
        "print('test accuracy :', result[1])"
      ]
    },
    {
      "cell_type": "markdown",
      "metadata": {
        "id": "yue7xszm9sFj"
      },
      "source": [
        "<hr>\n",
        "\n",
        "<br>\n",
        "\n",
        "### Appendix) Save the model while training (+ Keras Callbacks API) "
      ]
    },
    {
      "cell_type": "markdown",
      "metadata": {
        "id": "wpw1eGMP9sFj"
      },
      "source": [
        "<br>\n",
        "\n",
        "#### Keras Callbacks API (Keras 콜백 함수)를 사용하는 이유 \n",
        "<br>\n",
        "\n",
        "- 모델의 **학습(fit)이 시작된 이후**에는 **학습 완료 전까지 사람이 컨트롤할 수 있는 것이 없음**\n",
        "- 이를 해결하기 위한 도구가 Keras의 콜백 함수 (프로그래밍 전반에서의 콜백 함수 정의 : https://j.mp/3ibaAT4)\n",
        "- ex) 학습 중 Learning rate 값을 변화시키기 / 학습 중 일정 시간 성능 개선이 없을 경우 학습 조기 종료 / 학습 중 모델 중간 저장 등\n",
        "- Keras Callbacks API 공식 문서 : https://keras.io/api/callbacks/\n",
        "\n",
        "<br>\n",
        "\n",
        "#### Keras Callback examples\n",
        "<br>\n",
        "\n",
        "- **ModelCheckpoint** (학습 중간 저장) : https://deep-deep-deep.tistory.com/53 + 아래 코드 참고\n",
        "- **EarlyStopping** (학습 조기 종료) : https://deep-deep-deep.tistory.com/55\n",
        "- **ReduceLROnPlateau** (학습율 자동 조절) : https://deep-deep-deep.tistory.com/56 (Plateau란? @ https://j.mp/3B56FzJ)"
      ]
    },
    {
      "cell_type": "code",
      "execution_count": null,
      "metadata": {
        "id": "YIJAugec9sFk"
      },
      "outputs": [],
      "source": [
        "# 다양한 ModelCheckpoint 적용 예제 @ https://www.tensorflow.org/tutorials/keras/save_and_load?hl=ko#훈련하는_동안_체크포인트_저장하기\n",
        "# 아래 Parameter들의 상세 설명 @ https://www.tensorflow.org/api_docs/python/tf/keras/callbacks/ModelCheckpoint\n",
        "\n",
        "tf.keras.callbacks.ModelCheckpoint( \n",
        "    filepath, # 모델 저장 경로, if '{epoch:02d}-{val_loss:.5f}.h5' -> ex) 01(2자리 epoch 수)-0.39121(해당 epoch val_loss값).h5 \n",
        "    monitor = 'val_loss', # 'loss', 'val_loss', 'accuracy', etc.\n",
        "    verbose = 0, # 0 or 1\n",
        "    save_best_only = False, # True : monitor 중인 지표 기준 가장 좋은 모델 저장 or False : 하단 save_freq 기준 주기적 저장\n",
        "    save_weights_only = False, # True == model.save_weights(filepath) or False == model.save(filepath) \n",
        "    mode = 'auto', # 'auto', 'min', 'max'\n",
        "    save_freq = 'epoch', # 'epoch' or integer(== # of batches) \n",
        "    save_freq = 5 * batch_size # == saves the model's weights every 5 epochs (variable 'batch_size' should be set already)\n",
        ")"
      ]
    },
    {
      "cell_type": "code",
      "execution_count": null,
      "metadata": {
        "id": "A2em-bJe9sFk"
      },
      "outputs": [],
      "source": [
        "model = models.Sequential() \n",
        "model.add(layers.Dense(input_dim=8, units=256, activation=None, kernel_initializer=initializers.he_uniform())) \n",
        "model.add(layers.Activation('elu')) # elu or relu\n",
        "model.add(layers.Dense(units=512, activation=None, kernel_initializer=initializers.he_uniform())) \n",
        "model.add(layers.Activation('elu')) \n",
        "model.add(layers.Dense(units=512, activation=None, kernel_initializer=initializers.he_uniform())) \n",
        "model.add(layers.Activation('elu'))\n",
        "model.add(layers.Dense(units=256, activation=None, kernel_initializer=initializers.he_uniform())) \n",
        "model.add(layers.Activation('elu')) \n",
        "model.add(layers.Dropout(rate=0.5))\n",
        "model.add(layers.Dense(units=2, activation='softmax')) # One-hot vector for 0 & 1\n",
        "\n",
        "model.compile(optimizer=optimizers.Adam(), \n",
        "              loss=losses.categorical_crossentropy, \n",
        "              metrics=[metrics.categorical_accuracy]) "
      ]
    },
    {
      "cell_type": "code",
      "execution_count": null,
      "metadata": {
        "id": "EDK0w_b79sFk"
      },
      "outputs": [],
      "source": [
        "# 모델 체크포인트 파일(중간 저장 모델)을 저장할 경로 설정 \n",
        "checkpoint_path = 'saved_models/titanic_4-layer_elu.h5' # 필히 saved_models 폴더를 먼저 만들어줘야 합니다\n",
        "\n",
        "# \"ModelCheckpoint\" 콜백함수 객체 생성\n",
        "callback_checkpoint = tf.keras.callbacks.?(filepath=checkpoint_path, \n",
        "                                                         monitor='val_loss', # default\n",
        "                                                         ?=True, # \"Save\" the \"best\" model \"only\"\n",
        "                                                         verbose=0)"
      ]
    },
    {
      "cell_type": "code",
      "execution_count": null,
      "metadata": {
        "id": "nvk-mcyr9sFk"
      },
      "outputs": [],
      "source": [
        "# 콜백함수를 호출하며 모델 학습 진행 \n",
        "history = model.fit(train_data, train_label, \n",
        "                    batch_size=100, epochs=100, validation_split=0.3, verbose=0,\n",
        "                    callbacks=[?]) # 콜백 함수 추가"
      ]
    },
    {
      "cell_type": "code",
      "execution_count": null,
      "metadata": {
        "id": "jti5_NBY9sFl"
      },
      "outputs": [],
      "source": [
        "# 마지막 학습 완료 시점을 기준으로 한 모델 성능\n",
        "\n",
        "result = model.evaluate(test_data, test_label)\n",
        "print('loss (cross-entropy) :', result[0])\n",
        "print('test accuracy :', result[1])"
      ]
    },
    {
      "cell_type": "code",
      "execution_count": null,
      "metadata": {
        "scrolled": true,
        "id": "_KM48MN29sFl"
      },
      "outputs": [],
      "source": [
        "# 가장 낮은 Validation loss를 기준으로 한 (저장된) 모델 성능\n",
        "\n",
        "model = models.?('saved_models/titanic_4-layer_elu.h5') # \"Load\" the \"model\"\n",
        "\n",
        "result = model.evaluate(test_data, test_label)\n",
        "print('loss (cross-entropy) :', result[0])\n",
        "print('test accuracy :', result[1])"
      ]
    },
    {
      "cell_type": "code",
      "execution_count": null,
      "metadata": {
        "id": "-3H-hYIO9sFl"
      },
      "outputs": [],
      "source": [
        ""
      ]
    }
  ],
  "metadata": {
    "kernel_info": {
      "name": "python3"
    },
    "kernelspec": {
      "display_name": "Python 3",
      "language": "python",
      "name": "python3"
    },
    "language_info": {
      "codemirror_mode": {
        "name": "ipython",
        "version": 3
      },
      "file_extension": ".py",
      "mimetype": "text/x-python",
      "name": "python",
      "nbconvert_exporter": "python",
      "pygments_lexer": "ipython3",
      "version": "3.8.8"
    },
    "nteract": {
      "version": "0.14.3"
    },
    "colab": {
      "name": "3-3. TF2 Saving & Loading trained models (+ModelCheckpoint).ipynb",
      "provenance": [],
      "include_colab_link": true
    }
  },
  "nbformat": 4,
  "nbformat_minor": 0
}