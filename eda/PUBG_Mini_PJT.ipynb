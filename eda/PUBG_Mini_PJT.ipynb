{
  "cells": [
    {
      "cell_type": "markdown",
      "metadata": {
        "id": "view-in-github",
        "colab_type": "text"
      },
      "source": [
        "<a href=\"https://colab.research.google.com/github/wjdrnqja9/TIL/blob/main/eda/PUBG_Mini_PJT.ipynb\" target=\"_parent\"><img src=\"https://colab.research.google.com/assets/colab-badge.svg\" alt=\"Open In Colab\"/></a>"
      ]
    },
    {
      "cell_type": "markdown",
      "source": [
        "#Mini Project"
      ],
      "metadata": {
        "id": "ZmaNrbVBxsVR"
      },
      "id": "ZmaNrbVBxsVR"
    },
    {
      "cell_type": "markdown",
      "source": [
        "##프로젝트 설명"
      ],
      "metadata": {
        "id": "m6qAunjZxy15"
      },
      "id": "m6qAunjZxy15"
    },
    {
      "cell_type": "markdown",
      "source": [
        "- 머신러닝 워크플로우를 완벽하게 이해하고 사용하기 위한 프로젝트입니다.\n",
        "- Kaggle의 PUBG 순위 예측 대회 데이터를 사용합니다."
      ],
      "metadata": {
        "id": "ZlE4H_TRx1Q8"
      },
      "id": "ZlE4H_TRx1Q8"
    },
    {
      "cell_type": "markdown",
      "source": [
        "##데이터 설명"
      ],
      "metadata": {
        "id": "LOGf7-aSx8zd"
      },
      "id": "LOGf7-aSx8zd"
    },
    {
      "cell_type": "markdown",
      "source": [
        "- PUBG 게임에서는 각 매치(matchId)에 최대 100명의 플레이어가 시작합니다.\n",
        "- 플레이어는 탈락한 다른 팀이 얼마나 생존해 있는지를 기준으로 게임 종료 시 순위(winPlacePerc)가 매겨지는 팀(groupId)에 속할 수 있습니다.\n",
        "- 게임에서 플레이어는 다양한 무기를 집어들고, 죽지 않은(knocked) 동료들을 되살리고, 차량을 운전하고, 수영하고, 뛰고, 쏘고, 모든 결과를 경험할 수 있습니다.\n",
        "- 예를 들어 너무 멀리 떨어지거나, 멀리서 달려오다가(자기장 밖에서) 스스로 죽는 것입니다.\n",
        "- 각 행에 한 플레이어의 post-game 통계를 포함하도록 포맷된 익명화된 PUBG 게임 통계를 다수 제공합니다.\n",
        "- 데이터는 모든 타입(솔로, 듀오, 스쿼드, 커스텀 등)의 매치에서 가져옵니다.\n",
        "- 경기당 100명 또는 그룹당 최대 4명의 플레이어가 있다는 보장은 없습니다.\n",
        "- 1(1위)부터 0(100위)까지의 scaling 된, 최종 통계를 기준으로 선수의 결승 배치를 예측하는 모델을 만들어야 합니다."
      ],
      "metadata": {
        "id": "RtJM1QTcx-xd"
      },
      "id": "RtJM1QTcx-xd"
    },
    {
      "cell_type": "code",
      "source": [
        "from google.colab import drive\n",
        "drive.mount('/content/drive')"
      ],
      "metadata": {
        "colab": {
          "base_uri": "https://localhost:8080/"
        },
        "id": "WjzebyzrjXmU",
        "outputId": "dd5b0ba6-81ad-4325-a2ba-78c51d035a45"
      },
      "id": "WjzebyzrjXmU",
      "execution_count": 2,
      "outputs": [
        {
          "output_type": "stream",
          "name": "stdout",
          "text": [
            "Drive already mounted at /content/drive; to attempt to forcibly remount, call drive.mount(\"/content/drive\", force_remount=True).\n"
          ]
        }
      ]
    },
    {
      "cell_type": "code",
      "execution_count": 3,
      "id": "591915dd",
      "metadata": {
        "id": "591915dd"
      },
      "outputs": [],
      "source": [
        "import pandas as pd\n",
        "import numpy as np\n",
        "import matplotlib.pyplot as plt\n",
        "import seaborn as sns\n",
        "import warnings\n",
        "warnings.filterwarnings(\"ignore\")"
      ]
    },
    {
      "cell_type": "code",
      "execution_count": 4,
      "id": "f51d6094",
      "metadata": {
        "id": "f51d6094"
      },
      "outputs": [],
      "source": [
        "# titanic data 불러오기\n",
        "base_path = \"/content/drive/MyDrive/Colab Notebooks/머신러닝/Extra Mini Projects/pubg-finish-placement-prediction/\"\n",
        "\n",
        "train = pd.read_csv(base_path + \"train_V2.csv\")\n",
        "test = pd.read_csv(base_path + \"test_V2.csv\")\n",
        "submission = pd.read_csv(base_path + \"sample_submission_V2.csv\")"
      ]
    },
    {
      "cell_type": "markdown",
      "source": [
        "### column 별 설명\n",
        "\n",
        "- Id - 플레이어 아이디\n",
        "\n",
        "- groupId - 일치 내에서 그룹을 식별하기 위한 ID입니다. 같은 그룹의 플레이어가 다른 경기에서 플레이하는 경우 매번 다른 groupId를 갖습니다.\n",
        "\n",
        "- matchId - 일치를 식별하는 ID입니다. 훈련 세트와 테스트 세트 모두에 일치하는 항목이 없습니다.\n",
        "\n",
        "- DBNO - 기절한 적 플레이어의 수입니다.\n",
        "\n",
        "- Assists - 이 플레이어가 피해를 입었고 팀원들에 의해 사망한 적 플레이어의 수입니다.\n",
        "\n",
        "- boosts - 사용된 부스트 항목의 수입니다.\n",
        "\n",
        "- DamageDealt - 가한 총 피해량입니다. 참고: 자신이 입힌 피해는 차감됩니다.\n",
        "\n",
        "- headshotKills - 헤드샷으로 사망한 적 플레이어의 수입니다.\n",
        "\n",
        "- heals - 사용된 치유 아이템의 수입니다.\n",
        "\n",
        "- killPlace - 게임 내 킬 순위\n",
        "\n",
        "- killPoints - 플레이어의 킬 기반 외부 순위입니다. (이것을 킬만 중요한 Elo 순위라고 생각하십시오.) rankPoints에 -1 이외의 값이 있는 경우 killPoints의 0은 \"없음\"으로 처리되어야 합니다.\n",
        "\n",
        "- killStreaks - 짧은 시간에 죽인 적 플레이어의 최대 수입니다.\n",
        "\n",
        "- kills - 죽인 적 플레이어의 수.\n",
        "\n",
        "- longKill - 사망 시 사망한 플레이어와 플레이어 사이의 최장 거리입니다. \n",
        "플레이어를 쓰러뜨리고 차를 몰면 가장 긴 킬 통계가 나올 수 있으므로 이는 오해의 소지가 있습니다.\n",
        "\n",
        "- matchDuration - 일치 시간(초)입니다.\n",
        "\n",
        "- matchType - 데이터의 출처인 게임 모드를 식별하는 문자열입니다. 표준 모드는 \"solo\", \"duo\", \"squad\", \"solo-fpp\", \"duo-fpp\" 및 \"squad-fpp\"입니다. 다른 모드는 이벤트 또는 사용자 지정 일치에서 가져온 것입니다.\n",
        "\n",
        "- rankPoints - 플레이어의 Elo와 같은 순위입니다. 이 순위는 일관성이 없으며 API의 다음 버전에서 더 이상 사용되지 않으므로 주의해서 사용하십시오. -1 값은 \"없음\"을 대신합니다.\n",
        "\n",
        "- revives - 이 플레이어가 팀원을 소생시킨 횟수입니다.\n",
        "\n",
        "- rideDistance - 미터로 측정한 차량의 총 이동 거리입니다.\n",
        "\n",
        "- roadKills - 차량에 있는 동안 킬 수입니다.\n",
        "\n",
        "- swimDistance - 미터로 측정한 수영으로 이동한 총 거리.\n",
        "\n",
        "- teamKills - 이 플레이어가 팀원을 죽인 횟수입니다.\n",
        "\n",
        "- vehicleDestroys - 파괴된 차량의 수입니다.\n",
        "\n",
        "- walkDistance - 미터로 측정한 도보로 이동한 총 거리.\n",
        "\n",
        "- WeaponAcquired - 획득한 무기의 수입니다.\n",
        "\n",
        "- winPoints - 승리 기반 플레이어의 외부 순위입니다. (이것을 승리만이 중요한 Elo \n",
        "순위라고 생각하십시오.) rankPoints에 -1 이외의 값이 있는 경우 winPoints의 0은 \"없음\"으로 처리되어야 합니다.\n",
        "\n",
        "\n",
        "- numGroups - 경기에서 데이터가 있는 그룹의 수입니다.\n",
        "\n",
        "- maxPlace - 경기에서 가장 낮은 순위. 데이터가 게재위치를 건너뛰는 경우가 있으므로 numGroups와 일치하지 않을 수 있습니다. (탈주)\n",
        "\n",
        "- winPlacePerc - 예측 대상입니다. 이것은 백분위수 승리 배치로, 1은 1위, 0은 경기의 마지막 장소에 해당합니다. numGroups가 아닌 maxPlace에서 계산되므로 일치 항목에서 청크가 누락될 수 있습니다."
      ],
      "metadata": {
        "id": "V6eNEgqKe2rA"
      },
      "id": "V6eNEgqKe2rA"
    },
    {
      "cell_type": "markdown",
      "id": "f3a595ee",
      "metadata": {
        "id": "f3a595ee"
      },
      "source": [
        "## 데이터 타입과 결측값 확인하기"
      ]
    },
    {
      "cell_type": "code",
      "source": [
        "train.tail(10)"
      ],
      "metadata": {
        "colab": {
          "base_uri": "https://localhost:8080/",
          "height": 456
        },
        "id": "DEvQG4ayhYKO",
        "outputId": "ee8532f8-12a0-4f36-8814-f8378103813f"
      },
      "id": "DEvQG4ayhYKO",
      "execution_count": 4,
      "outputs": [
        {
          "output_type": "execute_result",
          "data": {
            "text/plain": [
              "                     Id         groupId         matchId  assists  boosts  \\\n",
              "4446956  dae05e0d743059  3902915a7a1943  97b64a07c05761        1       0   \n",
              "4446957  2a4163ccbe0e3b  2689c981578849  eebc058a45ff13        0       1   \n",
              "4446958  837349af7e8a35  58bc4104935623  2001300d4f5787        0       0   \n",
              "4446959  d29bfa313ad766  ac3f1b4a56e5ad  2f3b1af94739b3        0       0   \n",
              "4446960  69fa4c2d5431b1  2a3ad0e37fb6ce  818ccf2160343f        0       0   \n",
              "4446961  afff7f652dbc10  d238e426f50de7  18492834ce5635        0       0   \n",
              "4446962  f4197cf374e6c0  408cdb5c46b2ac  ee854b837376d9        0       1   \n",
              "4446963  e1948b1295c88a  e26ac84bdf7cef  6d0cd12784f1ab        0       0   \n",
              "4446964  cc032cdd73b7ac  c2223f35411394  c9c701d0ad758a        0       4   \n",
              "4446965  0d8e7ed728b6fd  8c74f72fedf5ff  62a16aabcc095c        0       2   \n",
              "\n",
              "         damageDealt  DBNOs  headshotKills  heals  killPlace  ...  revives  \\\n",
              "4446956       151.90      0              0      1         77  ...        1   \n",
              "4446957       100.00      0              0      0         32  ...        1   \n",
              "4446958         0.00      0              0      0         92  ...        0   \n",
              "4446959        22.68      0              0      0         89  ...        0   \n",
              "4446960       327.70      3              2      0          4  ...        0   \n",
              "4446961         0.00      0              0      0         74  ...        0   \n",
              "4446962        44.15      0              0      0         69  ...        0   \n",
              "4446963        59.06      0              0      0         66  ...        0   \n",
              "4446964       180.40      1              1      2         11  ...        2   \n",
              "4446965       268.00      0              0      1         18  ...        0   \n",
              "\n",
              "         rideDistance  roadKills  swimDistance  teamKills vehicleDestroys  \\\n",
              "4446956           0.0          0         0.000          0               0   \n",
              "4446957           0.0          0         0.000          0               0   \n",
              "4446958           0.0          0         0.000          0               0   \n",
              "4446959           0.0          0         0.000          0               0   \n",
              "4446960         180.4          0         0.000          0               0   \n",
              "4446961        1292.0          0         0.000          0               0   \n",
              "4446962           0.0          0         0.000          0               0   \n",
              "4446963           0.0          0         2.184          0               0   \n",
              "4446964           0.0          0         0.000          0               0   \n",
              "4446965        1369.0          0         0.000          0               0   \n",
              "\n",
              "         walkDistance  weaponsAcquired  winPoints  winPlacePerc  \n",
              "4446956        828.30                7          0        0.1071  \n",
              "4446957        363.70                2          0        0.4583  \n",
              "4446958          0.00                0          0        0.0000  \n",
              "4446959         40.25                1          0        0.0842  \n",
              "4446960        845.60                3          0        0.2414  \n",
              "4446961       1019.00                3       1507        0.1786  \n",
              "4446962         81.70                6          0        0.2935  \n",
              "4446963        788.70                4          0        0.4815  \n",
              "4446964       2748.00                8          0        0.8000  \n",
              "4446965       1244.00                5          0        0.5464  \n",
              "\n",
              "[10 rows x 29 columns]"
            ],
            "text/html": [
              "\n",
              "  <div id=\"df-f5b1e5ee-5e0b-4aaa-bfb3-9364d70531bd\">\n",
              "    <div class=\"colab-df-container\">\n",
              "      <div>\n",
              "<style scoped>\n",
              "    .dataframe tbody tr th:only-of-type {\n",
              "        vertical-align: middle;\n",
              "    }\n",
              "\n",
              "    .dataframe tbody tr th {\n",
              "        vertical-align: top;\n",
              "    }\n",
              "\n",
              "    .dataframe thead th {\n",
              "        text-align: right;\n",
              "    }\n",
              "</style>\n",
              "<table border=\"1\" class=\"dataframe\">\n",
              "  <thead>\n",
              "    <tr style=\"text-align: right;\">\n",
              "      <th></th>\n",
              "      <th>Id</th>\n",
              "      <th>groupId</th>\n",
              "      <th>matchId</th>\n",
              "      <th>assists</th>\n",
              "      <th>boosts</th>\n",
              "      <th>damageDealt</th>\n",
              "      <th>DBNOs</th>\n",
              "      <th>headshotKills</th>\n",
              "      <th>heals</th>\n",
              "      <th>killPlace</th>\n",
              "      <th>...</th>\n",
              "      <th>revives</th>\n",
              "      <th>rideDistance</th>\n",
              "      <th>roadKills</th>\n",
              "      <th>swimDistance</th>\n",
              "      <th>teamKills</th>\n",
              "      <th>vehicleDestroys</th>\n",
              "      <th>walkDistance</th>\n",
              "      <th>weaponsAcquired</th>\n",
              "      <th>winPoints</th>\n",
              "      <th>winPlacePerc</th>\n",
              "    </tr>\n",
              "  </thead>\n",
              "  <tbody>\n",
              "    <tr>\n",
              "      <th>4446956</th>\n",
              "      <td>dae05e0d743059</td>\n",
              "      <td>3902915a7a1943</td>\n",
              "      <td>97b64a07c05761</td>\n",
              "      <td>1</td>\n",
              "      <td>0</td>\n",
              "      <td>151.90</td>\n",
              "      <td>0</td>\n",
              "      <td>0</td>\n",
              "      <td>1</td>\n",
              "      <td>77</td>\n",
              "      <td>...</td>\n",
              "      <td>1</td>\n",
              "      <td>0.0</td>\n",
              "      <td>0</td>\n",
              "      <td>0.000</td>\n",
              "      <td>0</td>\n",
              "      <td>0</td>\n",
              "      <td>828.30</td>\n",
              "      <td>7</td>\n",
              "      <td>0</td>\n",
              "      <td>0.1071</td>\n",
              "    </tr>\n",
              "    <tr>\n",
              "      <th>4446957</th>\n",
              "      <td>2a4163ccbe0e3b</td>\n",
              "      <td>2689c981578849</td>\n",
              "      <td>eebc058a45ff13</td>\n",
              "      <td>0</td>\n",
              "      <td>1</td>\n",
              "      <td>100.00</td>\n",
              "      <td>0</td>\n",
              "      <td>0</td>\n",
              "      <td>0</td>\n",
              "      <td>32</td>\n",
              "      <td>...</td>\n",
              "      <td>1</td>\n",
              "      <td>0.0</td>\n",
              "      <td>0</td>\n",
              "      <td>0.000</td>\n",
              "      <td>0</td>\n",
              "      <td>0</td>\n",
              "      <td>363.70</td>\n",
              "      <td>2</td>\n",
              "      <td>0</td>\n",
              "      <td>0.4583</td>\n",
              "    </tr>\n",
              "    <tr>\n",
              "      <th>4446958</th>\n",
              "      <td>837349af7e8a35</td>\n",
              "      <td>58bc4104935623</td>\n",
              "      <td>2001300d4f5787</td>\n",
              "      <td>0</td>\n",
              "      <td>0</td>\n",
              "      <td>0.00</td>\n",
              "      <td>0</td>\n",
              "      <td>0</td>\n",
              "      <td>0</td>\n",
              "      <td>92</td>\n",
              "      <td>...</td>\n",
              "      <td>0</td>\n",
              "      <td>0.0</td>\n",
              "      <td>0</td>\n",
              "      <td>0.000</td>\n",
              "      <td>0</td>\n",
              "      <td>0</td>\n",
              "      <td>0.00</td>\n",
              "      <td>0</td>\n",
              "      <td>0</td>\n",
              "      <td>0.0000</td>\n",
              "    </tr>\n",
              "    <tr>\n",
              "      <th>4446959</th>\n",
              "      <td>d29bfa313ad766</td>\n",
              "      <td>ac3f1b4a56e5ad</td>\n",
              "      <td>2f3b1af94739b3</td>\n",
              "      <td>0</td>\n",
              "      <td>0</td>\n",
              "      <td>22.68</td>\n",
              "      <td>0</td>\n",
              "      <td>0</td>\n",
              "      <td>0</td>\n",
              "      <td>89</td>\n",
              "      <td>...</td>\n",
              "      <td>0</td>\n",
              "      <td>0.0</td>\n",
              "      <td>0</td>\n",
              "      <td>0.000</td>\n",
              "      <td>0</td>\n",
              "      <td>0</td>\n",
              "      <td>40.25</td>\n",
              "      <td>1</td>\n",
              "      <td>0</td>\n",
              "      <td>0.0842</td>\n",
              "    </tr>\n",
              "    <tr>\n",
              "      <th>4446960</th>\n",
              "      <td>69fa4c2d5431b1</td>\n",
              "      <td>2a3ad0e37fb6ce</td>\n",
              "      <td>818ccf2160343f</td>\n",
              "      <td>0</td>\n",
              "      <td>0</td>\n",
              "      <td>327.70</td>\n",
              "      <td>3</td>\n",
              "      <td>2</td>\n",
              "      <td>0</td>\n",
              "      <td>4</td>\n",
              "      <td>...</td>\n",
              "      <td>0</td>\n",
              "      <td>180.4</td>\n",
              "      <td>0</td>\n",
              "      <td>0.000</td>\n",
              "      <td>0</td>\n",
              "      <td>0</td>\n",
              "      <td>845.60</td>\n",
              "      <td>3</td>\n",
              "      <td>0</td>\n",
              "      <td>0.2414</td>\n",
              "    </tr>\n",
              "    <tr>\n",
              "      <th>4446961</th>\n",
              "      <td>afff7f652dbc10</td>\n",
              "      <td>d238e426f50de7</td>\n",
              "      <td>18492834ce5635</td>\n",
              "      <td>0</td>\n",
              "      <td>0</td>\n",
              "      <td>0.00</td>\n",
              "      <td>0</td>\n",
              "      <td>0</td>\n",
              "      <td>0</td>\n",
              "      <td>74</td>\n",
              "      <td>...</td>\n",
              "      <td>0</td>\n",
              "      <td>1292.0</td>\n",
              "      <td>0</td>\n",
              "      <td>0.000</td>\n",
              "      <td>0</td>\n",
              "      <td>0</td>\n",
              "      <td>1019.00</td>\n",
              "      <td>3</td>\n",
              "      <td>1507</td>\n",
              "      <td>0.1786</td>\n",
              "    </tr>\n",
              "    <tr>\n",
              "      <th>4446962</th>\n",
              "      <td>f4197cf374e6c0</td>\n",
              "      <td>408cdb5c46b2ac</td>\n",
              "      <td>ee854b837376d9</td>\n",
              "      <td>0</td>\n",
              "      <td>1</td>\n",
              "      <td>44.15</td>\n",
              "      <td>0</td>\n",
              "      <td>0</td>\n",
              "      <td>0</td>\n",
              "      <td>69</td>\n",
              "      <td>...</td>\n",
              "      <td>0</td>\n",
              "      <td>0.0</td>\n",
              "      <td>0</td>\n",
              "      <td>0.000</td>\n",
              "      <td>0</td>\n",
              "      <td>0</td>\n",
              "      <td>81.70</td>\n",
              "      <td>6</td>\n",
              "      <td>0</td>\n",
              "      <td>0.2935</td>\n",
              "    </tr>\n",
              "    <tr>\n",
              "      <th>4446963</th>\n",
              "      <td>e1948b1295c88a</td>\n",
              "      <td>e26ac84bdf7cef</td>\n",
              "      <td>6d0cd12784f1ab</td>\n",
              "      <td>0</td>\n",
              "      <td>0</td>\n",
              "      <td>59.06</td>\n",
              "      <td>0</td>\n",
              "      <td>0</td>\n",
              "      <td>0</td>\n",
              "      <td>66</td>\n",
              "      <td>...</td>\n",
              "      <td>0</td>\n",
              "      <td>0.0</td>\n",
              "      <td>0</td>\n",
              "      <td>2.184</td>\n",
              "      <td>0</td>\n",
              "      <td>0</td>\n",
              "      <td>788.70</td>\n",
              "      <td>4</td>\n",
              "      <td>0</td>\n",
              "      <td>0.4815</td>\n",
              "    </tr>\n",
              "    <tr>\n",
              "      <th>4446964</th>\n",
              "      <td>cc032cdd73b7ac</td>\n",
              "      <td>c2223f35411394</td>\n",
              "      <td>c9c701d0ad758a</td>\n",
              "      <td>0</td>\n",
              "      <td>4</td>\n",
              "      <td>180.40</td>\n",
              "      <td>1</td>\n",
              "      <td>1</td>\n",
              "      <td>2</td>\n",
              "      <td>11</td>\n",
              "      <td>...</td>\n",
              "      <td>2</td>\n",
              "      <td>0.0</td>\n",
              "      <td>0</td>\n",
              "      <td>0.000</td>\n",
              "      <td>0</td>\n",
              "      <td>0</td>\n",
              "      <td>2748.00</td>\n",
              "      <td>8</td>\n",
              "      <td>0</td>\n",
              "      <td>0.8000</td>\n",
              "    </tr>\n",
              "    <tr>\n",
              "      <th>4446965</th>\n",
              "      <td>0d8e7ed728b6fd</td>\n",
              "      <td>8c74f72fedf5ff</td>\n",
              "      <td>62a16aabcc095c</td>\n",
              "      <td>0</td>\n",
              "      <td>2</td>\n",
              "      <td>268.00</td>\n",
              "      <td>0</td>\n",
              "      <td>0</td>\n",
              "      <td>1</td>\n",
              "      <td>18</td>\n",
              "      <td>...</td>\n",
              "      <td>0</td>\n",
              "      <td>1369.0</td>\n",
              "      <td>0</td>\n",
              "      <td>0.000</td>\n",
              "      <td>0</td>\n",
              "      <td>0</td>\n",
              "      <td>1244.00</td>\n",
              "      <td>5</td>\n",
              "      <td>0</td>\n",
              "      <td>0.5464</td>\n",
              "    </tr>\n",
              "  </tbody>\n",
              "</table>\n",
              "<p>10 rows × 29 columns</p>\n",
              "</div>\n",
              "      <button class=\"colab-df-convert\" onclick=\"convertToInteractive('df-f5b1e5ee-5e0b-4aaa-bfb3-9364d70531bd')\"\n",
              "              title=\"Convert this dataframe to an interactive table.\"\n",
              "              style=\"display:none;\">\n",
              "        \n",
              "  <svg xmlns=\"http://www.w3.org/2000/svg\" height=\"24px\"viewBox=\"0 0 24 24\"\n",
              "       width=\"24px\">\n",
              "    <path d=\"M0 0h24v24H0V0z\" fill=\"none\"/>\n",
              "    <path d=\"M18.56 5.44l.94 2.06.94-2.06 2.06-.94-2.06-.94-.94-2.06-.94 2.06-2.06.94zm-11 1L8.5 8.5l.94-2.06 2.06-.94-2.06-.94L8.5 2.5l-.94 2.06-2.06.94zm10 10l.94 2.06.94-2.06 2.06-.94-2.06-.94-.94-2.06-.94 2.06-2.06.94z\"/><path d=\"M17.41 7.96l-1.37-1.37c-.4-.4-.92-.59-1.43-.59-.52 0-1.04.2-1.43.59L10.3 9.45l-7.72 7.72c-.78.78-.78 2.05 0 2.83L4 21.41c.39.39.9.59 1.41.59.51 0 1.02-.2 1.41-.59l7.78-7.78 2.81-2.81c.8-.78.8-2.07 0-2.86zM5.41 20L4 18.59l7.72-7.72 1.47 1.35L5.41 20z\"/>\n",
              "  </svg>\n",
              "      </button>\n",
              "      \n",
              "  <style>\n",
              "    .colab-df-container {\n",
              "      display:flex;\n",
              "      flex-wrap:wrap;\n",
              "      gap: 12px;\n",
              "    }\n",
              "\n",
              "    .colab-df-convert {\n",
              "      background-color: #E8F0FE;\n",
              "      border: none;\n",
              "      border-radius: 50%;\n",
              "      cursor: pointer;\n",
              "      display: none;\n",
              "      fill: #1967D2;\n",
              "      height: 32px;\n",
              "      padding: 0 0 0 0;\n",
              "      width: 32px;\n",
              "    }\n",
              "\n",
              "    .colab-df-convert:hover {\n",
              "      background-color: #E2EBFA;\n",
              "      box-shadow: 0px 1px 2px rgba(60, 64, 67, 0.3), 0px 1px 3px 1px rgba(60, 64, 67, 0.15);\n",
              "      fill: #174EA6;\n",
              "    }\n",
              "\n",
              "    [theme=dark] .colab-df-convert {\n",
              "      background-color: #3B4455;\n",
              "      fill: #D2E3FC;\n",
              "    }\n",
              "\n",
              "    [theme=dark] .colab-df-convert:hover {\n",
              "      background-color: #434B5C;\n",
              "      box-shadow: 0px 1px 3px 1px rgba(0, 0, 0, 0.15);\n",
              "      filter: drop-shadow(0px 1px 2px rgba(0, 0, 0, 0.3));\n",
              "      fill: #FFFFFF;\n",
              "    }\n",
              "  </style>\n",
              "\n",
              "      <script>\n",
              "        const buttonEl =\n",
              "          document.querySelector('#df-f5b1e5ee-5e0b-4aaa-bfb3-9364d70531bd button.colab-df-convert');\n",
              "        buttonEl.style.display =\n",
              "          google.colab.kernel.accessAllowed ? 'block' : 'none';\n",
              "\n",
              "        async function convertToInteractive(key) {\n",
              "          const element = document.querySelector('#df-f5b1e5ee-5e0b-4aaa-bfb3-9364d70531bd');\n",
              "          const dataTable =\n",
              "            await google.colab.kernel.invokeFunction('convertToInteractive',\n",
              "                                                     [key], {});\n",
              "          if (!dataTable) return;\n",
              "\n",
              "          const docLinkHtml = 'Like what you see? Visit the ' +\n",
              "            '<a target=\"_blank\" href=https://colab.research.google.com/notebooks/data_table.ipynb>data table notebook</a>'\n",
              "            + ' to learn more about interactive tables.';\n",
              "          element.innerHTML = '';\n",
              "          dataTable['output_type'] = 'display_data';\n",
              "          await google.colab.output.renderOutput(dataTable, element);\n",
              "          const docLink = document.createElement('div');\n",
              "          docLink.innerHTML = docLinkHtml;\n",
              "          element.appendChild(docLink);\n",
              "        }\n",
              "      </script>\n",
              "    </div>\n",
              "  </div>\n",
              "  "
            ]
          },
          "metadata": {},
          "execution_count": 4
        }
      ]
    },
    {
      "cell_type": "code",
      "source": [
        "train.describe()"
      ],
      "metadata": {
        "colab": {
          "base_uri": "https://localhost:8080/",
          "height": 394
        },
        "id": "o4dLXQ53mK08",
        "outputId": "a29c302d-98bb-4ebd-ce0e-de9ebd79e439"
      },
      "id": "o4dLXQ53mK08",
      "execution_count": 5,
      "outputs": [
        {
          "output_type": "execute_result",
          "data": {
            "text/plain": [
              "            assists        boosts   damageDealt         DBNOs  headshotKills  \\\n",
              "count  4.446966e+06  4.446966e+06  4.446966e+06  4.446966e+06   4.446966e+06   \n",
              "mean   2.338149e-01  1.106908e+00  1.307171e+02  6.578755e-01   2.268196e-01   \n",
              "std    5.885731e-01  1.715794e+00  1.707806e+02  1.145743e+00   6.021553e-01   \n",
              "min    0.000000e+00  0.000000e+00  0.000000e+00  0.000000e+00   0.000000e+00   \n",
              "25%    0.000000e+00  0.000000e+00  0.000000e+00  0.000000e+00   0.000000e+00   \n",
              "50%    0.000000e+00  0.000000e+00  8.424000e+01  0.000000e+00   0.000000e+00   \n",
              "75%    0.000000e+00  2.000000e+00  1.860000e+02  1.000000e+00   0.000000e+00   \n",
              "max    2.200000e+01  3.300000e+01  6.616000e+03  5.300000e+01   6.400000e+01   \n",
              "\n",
              "              heals     killPlace    killPoints         kills   killStreaks  \\\n",
              "count  4.446966e+06  4.446966e+06  4.446966e+06  4.446966e+06  4.446966e+06   \n",
              "mean   1.370147e+00  4.759935e+01  5.050060e+02  9.247833e-01  5.439551e-01   \n",
              "std    2.679982e+00  2.746294e+01  6.275049e+02  1.558445e+00  7.109721e-01   \n",
              "min    0.000000e+00  1.000000e+00  0.000000e+00  0.000000e+00  0.000000e+00   \n",
              "25%    0.000000e+00  2.400000e+01  0.000000e+00  0.000000e+00  0.000000e+00   \n",
              "50%    0.000000e+00  4.700000e+01  0.000000e+00  0.000000e+00  0.000000e+00   \n",
              "75%    2.000000e+00  7.100000e+01  1.172000e+03  1.000000e+00  1.000000e+00   \n",
              "max    8.000000e+01  1.010000e+02  2.170000e+03  7.200000e+01  2.000000e+01   \n",
              "\n",
              "       ...       revives  rideDistance     roadKills  swimDistance  \\\n",
              "count  ...  4.446966e+06  4.446966e+06  4.446966e+06  4.446966e+06   \n",
              "mean   ...  1.646590e-01  6.061157e+02  3.496091e-03  4.509322e+00   \n",
              "std    ...  4.721671e-01  1.498344e+03  7.337297e-02  3.050220e+01   \n",
              "min    ...  0.000000e+00  0.000000e+00  0.000000e+00  0.000000e+00   \n",
              "25%    ...  0.000000e+00  0.000000e+00  0.000000e+00  0.000000e+00   \n",
              "50%    ...  0.000000e+00  0.000000e+00  0.000000e+00  0.000000e+00   \n",
              "75%    ...  0.000000e+00  1.909750e-01  0.000000e+00  0.000000e+00   \n",
              "max    ...  3.900000e+01  4.071000e+04  1.800000e+01  3.823000e+03   \n",
              "\n",
              "          teamKills  vehicleDestroys  walkDistance  weaponsAcquired  \\\n",
              "count  4.446966e+06     4.446966e+06  4.446966e+06     4.446966e+06   \n",
              "mean   2.386841e-02     7.918208e-03  1.154218e+03     3.660488e+00   \n",
              "std    1.673935e-01     9.261157e-02  1.183497e+03     2.456544e+00   \n",
              "min    0.000000e+00     0.000000e+00  0.000000e+00     0.000000e+00   \n",
              "25%    0.000000e+00     0.000000e+00  1.551000e+02     2.000000e+00   \n",
              "50%    0.000000e+00     0.000000e+00  6.856000e+02     3.000000e+00   \n",
              "75%    0.000000e+00     0.000000e+00  1.976000e+03     5.000000e+00   \n",
              "max    1.200000e+01     5.000000e+00  2.578000e+04     2.360000e+02   \n",
              "\n",
              "          winPoints  winPlacePerc  \n",
              "count  4.446966e+06  4.446965e+06  \n",
              "mean   6.064601e+02  4.728216e-01  \n",
              "std    7.397004e+02  3.074050e-01  \n",
              "min    0.000000e+00  0.000000e+00  \n",
              "25%    0.000000e+00  2.000000e-01  \n",
              "50%    0.000000e+00  4.583000e-01  \n",
              "75%    1.495000e+03  7.407000e-01  \n",
              "max    2.013000e+03  1.000000e+00  \n",
              "\n",
              "[8 rows x 25 columns]"
            ],
            "text/html": [
              "\n",
              "  <div id=\"df-293301ea-fd9b-489b-8654-f40959f46664\">\n",
              "    <div class=\"colab-df-container\">\n",
              "      <div>\n",
              "<style scoped>\n",
              "    .dataframe tbody tr th:only-of-type {\n",
              "        vertical-align: middle;\n",
              "    }\n",
              "\n",
              "    .dataframe tbody tr th {\n",
              "        vertical-align: top;\n",
              "    }\n",
              "\n",
              "    .dataframe thead th {\n",
              "        text-align: right;\n",
              "    }\n",
              "</style>\n",
              "<table border=\"1\" class=\"dataframe\">\n",
              "  <thead>\n",
              "    <tr style=\"text-align: right;\">\n",
              "      <th></th>\n",
              "      <th>assists</th>\n",
              "      <th>boosts</th>\n",
              "      <th>damageDealt</th>\n",
              "      <th>DBNOs</th>\n",
              "      <th>headshotKills</th>\n",
              "      <th>heals</th>\n",
              "      <th>killPlace</th>\n",
              "      <th>killPoints</th>\n",
              "      <th>kills</th>\n",
              "      <th>killStreaks</th>\n",
              "      <th>...</th>\n",
              "      <th>revives</th>\n",
              "      <th>rideDistance</th>\n",
              "      <th>roadKills</th>\n",
              "      <th>swimDistance</th>\n",
              "      <th>teamKills</th>\n",
              "      <th>vehicleDestroys</th>\n",
              "      <th>walkDistance</th>\n",
              "      <th>weaponsAcquired</th>\n",
              "      <th>winPoints</th>\n",
              "      <th>winPlacePerc</th>\n",
              "    </tr>\n",
              "  </thead>\n",
              "  <tbody>\n",
              "    <tr>\n",
              "      <th>count</th>\n",
              "      <td>4.446966e+06</td>\n",
              "      <td>4.446966e+06</td>\n",
              "      <td>4.446966e+06</td>\n",
              "      <td>4.446966e+06</td>\n",
              "      <td>4.446966e+06</td>\n",
              "      <td>4.446966e+06</td>\n",
              "      <td>4.446966e+06</td>\n",
              "      <td>4.446966e+06</td>\n",
              "      <td>4.446966e+06</td>\n",
              "      <td>4.446966e+06</td>\n",
              "      <td>...</td>\n",
              "      <td>4.446966e+06</td>\n",
              "      <td>4.446966e+06</td>\n",
              "      <td>4.446966e+06</td>\n",
              "      <td>4.446966e+06</td>\n",
              "      <td>4.446966e+06</td>\n",
              "      <td>4.446966e+06</td>\n",
              "      <td>4.446966e+06</td>\n",
              "      <td>4.446966e+06</td>\n",
              "      <td>4.446966e+06</td>\n",
              "      <td>4.446965e+06</td>\n",
              "    </tr>\n",
              "    <tr>\n",
              "      <th>mean</th>\n",
              "      <td>2.338149e-01</td>\n",
              "      <td>1.106908e+00</td>\n",
              "      <td>1.307171e+02</td>\n",
              "      <td>6.578755e-01</td>\n",
              "      <td>2.268196e-01</td>\n",
              "      <td>1.370147e+00</td>\n",
              "      <td>4.759935e+01</td>\n",
              "      <td>5.050060e+02</td>\n",
              "      <td>9.247833e-01</td>\n",
              "      <td>5.439551e-01</td>\n",
              "      <td>...</td>\n",
              "      <td>1.646590e-01</td>\n",
              "      <td>6.061157e+02</td>\n",
              "      <td>3.496091e-03</td>\n",
              "      <td>4.509322e+00</td>\n",
              "      <td>2.386841e-02</td>\n",
              "      <td>7.918208e-03</td>\n",
              "      <td>1.154218e+03</td>\n",
              "      <td>3.660488e+00</td>\n",
              "      <td>6.064601e+02</td>\n",
              "      <td>4.728216e-01</td>\n",
              "    </tr>\n",
              "    <tr>\n",
              "      <th>std</th>\n",
              "      <td>5.885731e-01</td>\n",
              "      <td>1.715794e+00</td>\n",
              "      <td>1.707806e+02</td>\n",
              "      <td>1.145743e+00</td>\n",
              "      <td>6.021553e-01</td>\n",
              "      <td>2.679982e+00</td>\n",
              "      <td>2.746294e+01</td>\n",
              "      <td>6.275049e+02</td>\n",
              "      <td>1.558445e+00</td>\n",
              "      <td>7.109721e-01</td>\n",
              "      <td>...</td>\n",
              "      <td>4.721671e-01</td>\n",
              "      <td>1.498344e+03</td>\n",
              "      <td>7.337297e-02</td>\n",
              "      <td>3.050220e+01</td>\n",
              "      <td>1.673935e-01</td>\n",
              "      <td>9.261157e-02</td>\n",
              "      <td>1.183497e+03</td>\n",
              "      <td>2.456544e+00</td>\n",
              "      <td>7.397004e+02</td>\n",
              "      <td>3.074050e-01</td>\n",
              "    </tr>\n",
              "    <tr>\n",
              "      <th>min</th>\n",
              "      <td>0.000000e+00</td>\n",
              "      <td>0.000000e+00</td>\n",
              "      <td>0.000000e+00</td>\n",
              "      <td>0.000000e+00</td>\n",
              "      <td>0.000000e+00</td>\n",
              "      <td>0.000000e+00</td>\n",
              "      <td>1.000000e+00</td>\n",
              "      <td>0.000000e+00</td>\n",
              "      <td>0.000000e+00</td>\n",
              "      <td>0.000000e+00</td>\n",
              "      <td>...</td>\n",
              "      <td>0.000000e+00</td>\n",
              "      <td>0.000000e+00</td>\n",
              "      <td>0.000000e+00</td>\n",
              "      <td>0.000000e+00</td>\n",
              "      <td>0.000000e+00</td>\n",
              "      <td>0.000000e+00</td>\n",
              "      <td>0.000000e+00</td>\n",
              "      <td>0.000000e+00</td>\n",
              "      <td>0.000000e+00</td>\n",
              "      <td>0.000000e+00</td>\n",
              "    </tr>\n",
              "    <tr>\n",
              "      <th>25%</th>\n",
              "      <td>0.000000e+00</td>\n",
              "      <td>0.000000e+00</td>\n",
              "      <td>0.000000e+00</td>\n",
              "      <td>0.000000e+00</td>\n",
              "      <td>0.000000e+00</td>\n",
              "      <td>0.000000e+00</td>\n",
              "      <td>2.400000e+01</td>\n",
              "      <td>0.000000e+00</td>\n",
              "      <td>0.000000e+00</td>\n",
              "      <td>0.000000e+00</td>\n",
              "      <td>...</td>\n",
              "      <td>0.000000e+00</td>\n",
              "      <td>0.000000e+00</td>\n",
              "      <td>0.000000e+00</td>\n",
              "      <td>0.000000e+00</td>\n",
              "      <td>0.000000e+00</td>\n",
              "      <td>0.000000e+00</td>\n",
              "      <td>1.551000e+02</td>\n",
              "      <td>2.000000e+00</td>\n",
              "      <td>0.000000e+00</td>\n",
              "      <td>2.000000e-01</td>\n",
              "    </tr>\n",
              "    <tr>\n",
              "      <th>50%</th>\n",
              "      <td>0.000000e+00</td>\n",
              "      <td>0.000000e+00</td>\n",
              "      <td>8.424000e+01</td>\n",
              "      <td>0.000000e+00</td>\n",
              "      <td>0.000000e+00</td>\n",
              "      <td>0.000000e+00</td>\n",
              "      <td>4.700000e+01</td>\n",
              "      <td>0.000000e+00</td>\n",
              "      <td>0.000000e+00</td>\n",
              "      <td>0.000000e+00</td>\n",
              "      <td>...</td>\n",
              "      <td>0.000000e+00</td>\n",
              "      <td>0.000000e+00</td>\n",
              "      <td>0.000000e+00</td>\n",
              "      <td>0.000000e+00</td>\n",
              "      <td>0.000000e+00</td>\n",
              "      <td>0.000000e+00</td>\n",
              "      <td>6.856000e+02</td>\n",
              "      <td>3.000000e+00</td>\n",
              "      <td>0.000000e+00</td>\n",
              "      <td>4.583000e-01</td>\n",
              "    </tr>\n",
              "    <tr>\n",
              "      <th>75%</th>\n",
              "      <td>0.000000e+00</td>\n",
              "      <td>2.000000e+00</td>\n",
              "      <td>1.860000e+02</td>\n",
              "      <td>1.000000e+00</td>\n",
              "      <td>0.000000e+00</td>\n",
              "      <td>2.000000e+00</td>\n",
              "      <td>7.100000e+01</td>\n",
              "      <td>1.172000e+03</td>\n",
              "      <td>1.000000e+00</td>\n",
              "      <td>1.000000e+00</td>\n",
              "      <td>...</td>\n",
              "      <td>0.000000e+00</td>\n",
              "      <td>1.909750e-01</td>\n",
              "      <td>0.000000e+00</td>\n",
              "      <td>0.000000e+00</td>\n",
              "      <td>0.000000e+00</td>\n",
              "      <td>0.000000e+00</td>\n",
              "      <td>1.976000e+03</td>\n",
              "      <td>5.000000e+00</td>\n",
              "      <td>1.495000e+03</td>\n",
              "      <td>7.407000e-01</td>\n",
              "    </tr>\n",
              "    <tr>\n",
              "      <th>max</th>\n",
              "      <td>2.200000e+01</td>\n",
              "      <td>3.300000e+01</td>\n",
              "      <td>6.616000e+03</td>\n",
              "      <td>5.300000e+01</td>\n",
              "      <td>6.400000e+01</td>\n",
              "      <td>8.000000e+01</td>\n",
              "      <td>1.010000e+02</td>\n",
              "      <td>2.170000e+03</td>\n",
              "      <td>7.200000e+01</td>\n",
              "      <td>2.000000e+01</td>\n",
              "      <td>...</td>\n",
              "      <td>3.900000e+01</td>\n",
              "      <td>4.071000e+04</td>\n",
              "      <td>1.800000e+01</td>\n",
              "      <td>3.823000e+03</td>\n",
              "      <td>1.200000e+01</td>\n",
              "      <td>5.000000e+00</td>\n",
              "      <td>2.578000e+04</td>\n",
              "      <td>2.360000e+02</td>\n",
              "      <td>2.013000e+03</td>\n",
              "      <td>1.000000e+00</td>\n",
              "    </tr>\n",
              "  </tbody>\n",
              "</table>\n",
              "<p>8 rows × 25 columns</p>\n",
              "</div>\n",
              "      <button class=\"colab-df-convert\" onclick=\"convertToInteractive('df-293301ea-fd9b-489b-8654-f40959f46664')\"\n",
              "              title=\"Convert this dataframe to an interactive table.\"\n",
              "              style=\"display:none;\">\n",
              "        \n",
              "  <svg xmlns=\"http://www.w3.org/2000/svg\" height=\"24px\"viewBox=\"0 0 24 24\"\n",
              "       width=\"24px\">\n",
              "    <path d=\"M0 0h24v24H0V0z\" fill=\"none\"/>\n",
              "    <path d=\"M18.56 5.44l.94 2.06.94-2.06 2.06-.94-2.06-.94-.94-2.06-.94 2.06-2.06.94zm-11 1L8.5 8.5l.94-2.06 2.06-.94-2.06-.94L8.5 2.5l-.94 2.06-2.06.94zm10 10l.94 2.06.94-2.06 2.06-.94-2.06-.94-.94-2.06-.94 2.06-2.06.94z\"/><path d=\"M17.41 7.96l-1.37-1.37c-.4-.4-.92-.59-1.43-.59-.52 0-1.04.2-1.43.59L10.3 9.45l-7.72 7.72c-.78.78-.78 2.05 0 2.83L4 21.41c.39.39.9.59 1.41.59.51 0 1.02-.2 1.41-.59l7.78-7.78 2.81-2.81c.8-.78.8-2.07 0-2.86zM5.41 20L4 18.59l7.72-7.72 1.47 1.35L5.41 20z\"/>\n",
              "  </svg>\n",
              "      </button>\n",
              "      \n",
              "  <style>\n",
              "    .colab-df-container {\n",
              "      display:flex;\n",
              "      flex-wrap:wrap;\n",
              "      gap: 12px;\n",
              "    }\n",
              "\n",
              "    .colab-df-convert {\n",
              "      background-color: #E8F0FE;\n",
              "      border: none;\n",
              "      border-radius: 50%;\n",
              "      cursor: pointer;\n",
              "      display: none;\n",
              "      fill: #1967D2;\n",
              "      height: 32px;\n",
              "      padding: 0 0 0 0;\n",
              "      width: 32px;\n",
              "    }\n",
              "\n",
              "    .colab-df-convert:hover {\n",
              "      background-color: #E2EBFA;\n",
              "      box-shadow: 0px 1px 2px rgba(60, 64, 67, 0.3), 0px 1px 3px 1px rgba(60, 64, 67, 0.15);\n",
              "      fill: #174EA6;\n",
              "    }\n",
              "\n",
              "    [theme=dark] .colab-df-convert {\n",
              "      background-color: #3B4455;\n",
              "      fill: #D2E3FC;\n",
              "    }\n",
              "\n",
              "    [theme=dark] .colab-df-convert:hover {\n",
              "      background-color: #434B5C;\n",
              "      box-shadow: 0px 1px 3px 1px rgba(0, 0, 0, 0.15);\n",
              "      filter: drop-shadow(0px 1px 2px rgba(0, 0, 0, 0.3));\n",
              "      fill: #FFFFFF;\n",
              "    }\n",
              "  </style>\n",
              "\n",
              "      <script>\n",
              "        const buttonEl =\n",
              "          document.querySelector('#df-293301ea-fd9b-489b-8654-f40959f46664 button.colab-df-convert');\n",
              "        buttonEl.style.display =\n",
              "          google.colab.kernel.accessAllowed ? 'block' : 'none';\n",
              "\n",
              "        async function convertToInteractive(key) {\n",
              "          const element = document.querySelector('#df-293301ea-fd9b-489b-8654-f40959f46664');\n",
              "          const dataTable =\n",
              "            await google.colab.kernel.invokeFunction('convertToInteractive',\n",
              "                                                     [key], {});\n",
              "          if (!dataTable) return;\n",
              "\n",
              "          const docLinkHtml = 'Like what you see? Visit the ' +\n",
              "            '<a target=\"_blank\" href=https://colab.research.google.com/notebooks/data_table.ipynb>data table notebook</a>'\n",
              "            + ' to learn more about interactive tables.';\n",
              "          element.innerHTML = '';\n",
              "          dataTable['output_type'] = 'display_data';\n",
              "          await google.colab.output.renderOutput(dataTable, element);\n",
              "          const docLink = document.createElement('div');\n",
              "          docLink.innerHTML = docLinkHtml;\n",
              "          element.appendChild(docLink);\n",
              "        }\n",
              "      </script>\n",
              "    </div>\n",
              "  </div>\n",
              "  "
            ]
          },
          "metadata": {},
          "execution_count": 5
        }
      ]
    },
    {
      "cell_type": "code",
      "source": [
        "train.corr()"
      ],
      "metadata": {
        "colab": {
          "base_uri": "https://localhost:8080/",
          "height": 927
        },
        "id": "3n4hOgg_gQGo",
        "outputId": "22df114d-46dd-4ce5-de49-4114037acffc"
      },
      "id": "3n4hOgg_gQGo",
      "execution_count": 6,
      "outputs": [
        {
          "output_type": "execute_result",
          "data": {
            "text/plain": [
              "                  assists    boosts  damageDealt     DBNOs  headshotKills  \\\n",
              "assists          1.000000  0.307683     0.406726  0.301057       0.198289   \n",
              "boosts           0.307683  1.000000     0.521947  0.358907       0.334661   \n",
              "damageDealt      0.406726  0.521947     1.000000  0.735763       0.613409   \n",
              "DBNOs            0.301057  0.358907     0.735763  1.000000       0.469923   \n",
              "headshotKills    0.198289  0.334661     0.613409  0.469923       1.000000   \n",
              "heals            0.228556  0.535854     0.342987  0.265485       0.199918   \n",
              "killPlace       -0.290062 -0.554844    -0.677398 -0.555289      -0.469829   \n",
              "killPoints       0.039066  0.008347     0.049904  0.042616       0.023988   \n",
              "kills            0.319690  0.502024     0.888783  0.707848       0.674275   \n",
              "killStreaks      0.243471  0.405327     0.703599  0.646872       0.512882   \n",
              "longestKill      0.261425  0.423290     0.563837  0.451422       0.447261   \n",
              "matchDuration   -0.019450  0.072108    -0.006755 -0.014485      -0.017657   \n",
              "maxPlace        -0.147916 -0.013686    -0.040707 -0.267709       0.009211   \n",
              "numGroups       -0.146804 -0.012929    -0.040078 -0.265788       0.009389   \n",
              "rankPoints      -0.016407  0.023202    -0.001460 -0.003451       0.005118   \n",
              "revives          0.198320  0.253125     0.256951  0.300999       0.150145   \n",
              "rideDistance     0.110644  0.328855     0.140883  0.102537       0.076495   \n",
              "roadKills        0.011903  0.035124     0.052487  0.036093       0.013369   \n",
              "swimDistance     0.023372  0.107993     0.036729  0.017320       0.028531   \n",
              "teamKills        0.006081  0.013068     0.015468  0.069430       0.008658   \n",
              "vehicleDestroys  0.057921  0.087387     0.081182  0.060210       0.039200   \n",
              "walkDistance     0.290306  0.640150     0.398199  0.284660       0.250982   \n",
              "weaponsAcquired  0.243882  0.406609     0.353249  0.218161       0.217552   \n",
              "winPoints        0.024014 -0.007644     0.017762  0.011108       0.004982   \n",
              "winPlacePerc     0.299441  0.634234     0.440507  0.279970       0.277722   \n",
              "\n",
              "                    heals  killPlace  killPoints     kills  killStreaks  ...  \\\n",
              "assists          0.228556  -0.290062    0.039066  0.319690     0.243471  ...   \n",
              "boosts           0.535854  -0.554844    0.008347  0.502024     0.405327  ...   \n",
              "damageDealt      0.342987  -0.677398    0.049904  0.888783     0.703599  ...   \n",
              "DBNOs            0.265485  -0.555289    0.042616  0.707848     0.646872  ...   \n",
              "headshotKills    0.199918  -0.469829    0.023988  0.674275     0.512882  ...   \n",
              "heals            1.000000  -0.386032   -0.002585  0.311781     0.270412  ...   \n",
              "killPlace       -0.386032   1.000000   -0.023277 -0.730498    -0.810516  ...   \n",
              "killPoints      -0.002585  -0.023277    1.000000  0.036192     0.037091  ...   \n",
              "kills            0.311781  -0.730498    0.036192  1.000000     0.802500  ...   \n",
              "killStreaks      0.270412  -0.810516    0.037091  0.802500     1.000000  ...   \n",
              "longestKill      0.263278  -0.541146    0.014084  0.602936     0.515097  ...   \n",
              "matchDuration    0.108901  -0.005804   -0.099540 -0.030687    -0.034644  ...   \n",
              "maxPlace        -0.064759   0.016792   -0.044802 -0.004847    -0.037338  ...   \n",
              "numGroups       -0.064204   0.018786   -0.042366 -0.004060    -0.036054  ...   \n",
              "rankPoints       0.019142  -0.014805   -0.975555  0.008199     0.003426  ...   \n",
              "revives          0.236680  -0.269804    0.012041  0.253323     0.241695  ...   \n",
              "rideDistance     0.297484  -0.236202   -0.029316  0.114750     0.098420  ...   \n",
              "roadKills        0.024619  -0.057356   -0.004156  0.063651     0.065575  ...   \n",
              "swimDistance     0.079587  -0.089396   -0.004604  0.039127     0.034588  ...   \n",
              "teamKills        0.035386  -0.037797   -0.039739  0.017601     0.027612  ...   \n",
              "vehicleDestroys  0.062870  -0.073569   -0.009658  0.079991     0.064374  ...   \n",
              "walkDistance     0.430266  -0.590236    0.004630  0.374774     0.327639  ...   \n",
              "weaponsAcquired  0.309071  -0.490143   -0.003978  0.336414     0.275373  ...   \n",
              "winPoints       -0.010990  -0.002415    0.983417  0.006929     0.008552  ...   \n",
              "winPlacePerc     0.427857  -0.719069    0.012908  0.419916     0.377566  ...   \n",
              "\n",
              "                  revives  rideDistance  roadKills  swimDistance  teamKills  \\\n",
              "assists          0.198320      0.110644   0.011903      0.023372   0.006081   \n",
              "boosts           0.253125      0.328855   0.035124      0.107993   0.013068   \n",
              "damageDealt      0.256951      0.140883   0.052487      0.036729   0.015468   \n",
              "DBNOs            0.300999      0.102537   0.036093      0.017320   0.069430   \n",
              "headshotKills    0.150145      0.076495   0.013369      0.028531   0.008658   \n",
              "heals            0.236680      0.297484   0.024619      0.079587   0.035386   \n",
              "killPlace       -0.269804     -0.236202  -0.057356     -0.089396  -0.037797   \n",
              "killPoints       0.012041     -0.029316  -0.004156     -0.004604  -0.039739   \n",
              "kills            0.253323      0.114750   0.063651      0.039127   0.017601   \n",
              "killStreaks      0.241695      0.098420   0.065575      0.034588   0.027612   \n",
              "longestKill      0.170134      0.190853   0.025214      0.053455   0.007604   \n",
              "matchDuration    0.016990      0.365211   0.020016      0.008737   0.047969   \n",
              "maxPlace        -0.160369     -0.047784   0.011504      0.007788  -0.038057   \n",
              "numGroups       -0.159173     -0.049880   0.010435      0.007922  -0.038428   \n",
              "rankPoints      -0.000613      0.036813   0.006138      0.004724   0.039626   \n",
              "revives          1.000000      0.109946   0.005920      0.020338   0.032989   \n",
              "rideDistance     0.109946      1.000000   0.103518      0.049448   0.050179   \n",
              "roadKills        0.005920      0.103518   1.000000      0.004411   0.009684   \n",
              "swimDistance     0.020338      0.049448   0.004411      1.000000   0.006199   \n",
              "teamKills        0.032989      0.050179   0.009684      0.006199   1.000000   \n",
              "vehicleDestroys  0.038019      0.119253   0.031071      0.008090   0.112164   \n",
              "walkDistance     0.236796      0.310936   0.016736      0.167509   0.024858   \n",
              "weaponsAcquired  0.167281      0.282246   0.016494      0.075698   0.035918   \n",
              "winPoints        0.002434     -0.027809  -0.004750     -0.002680  -0.040943   \n",
              "winPlacePerc     0.240881      0.342915   0.034544      0.149607   0.015943   \n",
              "\n",
              "                 vehicleDestroys  walkDistance  weaponsAcquired  winPoints  \\\n",
              "assists                 0.057921      0.290306         0.243882   0.024014   \n",
              "boosts                  0.087387      0.640150         0.406609  -0.007644   \n",
              "damageDealt             0.081182      0.398199         0.353249   0.017762   \n",
              "DBNOs                   0.060210      0.284660         0.218161   0.011108   \n",
              "headshotKills           0.039200      0.250982         0.217552   0.004982   \n",
              "heals                   0.062870      0.430266         0.309071  -0.010990   \n",
              "killPlace              -0.073569     -0.590236        -0.490143  -0.002415   \n",
              "killPoints             -0.009658      0.004630        -0.003978   0.983417   \n",
              "kills                   0.079991      0.374774         0.336414   0.006929   \n",
              "killStreaks             0.064374      0.327639         0.275373   0.008552   \n",
              "longestKill             0.083227      0.413810         0.276264  -0.003720   \n",
              "matchDuration           0.060924      0.145063         0.129081  -0.087360   \n",
              "maxPlace               -0.018888     -0.083624        -0.039120  -0.029295   \n",
              "numGroups              -0.019173     -0.082666        -0.039983  -0.027483   \n",
              "rankPoints              0.013399      0.015790         0.014755  -0.993845   \n",
              "revives                 0.038019      0.236796         0.167281   0.002434   \n",
              "rideDistance            0.119253      0.310936         0.282246  -0.027809   \n",
              "roadKills               0.031071      0.016736         0.016494  -0.004750   \n",
              "swimDistance            0.008090      0.167509         0.075698  -0.002680   \n",
              "teamKills               0.112164      0.024858         0.035918  -0.040943   \n",
              "vehicleDestroys         1.000000      0.076237         0.061012  -0.011426   \n",
              "walkDistance            0.076237      1.000000         0.541222  -0.002043   \n",
              "weaponsAcquired         0.061012      0.541222         1.000000  -0.003815   \n",
              "winPoints              -0.011426     -0.002043        -0.003815   1.000000   \n",
              "winPlacePerc            0.073436      0.810888         0.583806   0.007061   \n",
              "\n",
              "                 winPlacePerc  \n",
              "assists              0.299441  \n",
              "boosts               0.634234  \n",
              "damageDealt          0.440507  \n",
              "DBNOs                0.279970  \n",
              "headshotKills        0.277722  \n",
              "heals                0.427857  \n",
              "killPlace           -0.719069  \n",
              "killPoints           0.012908  \n",
              "kills                0.419916  \n",
              "killStreaks          0.377566  \n",
              "longestKill          0.410154  \n",
              "matchDuration       -0.005171  \n",
              "maxPlace             0.037377  \n",
              "numGroups            0.039621  \n",
              "rankPoints           0.013523  \n",
              "revives              0.240881  \n",
              "rideDistance         0.342915  \n",
              "roadKills            0.034544  \n",
              "swimDistance         0.149607  \n",
              "teamKills            0.015943  \n",
              "vehicleDestroys      0.073436  \n",
              "walkDistance         0.810888  \n",
              "weaponsAcquired      0.583806  \n",
              "winPoints            0.007061  \n",
              "winPlacePerc         1.000000  \n",
              "\n",
              "[25 rows x 25 columns]"
            ],
            "text/html": [
              "\n",
              "  <div id=\"df-9e71eafb-b70d-4e19-8984-bee8cfbe057b\">\n",
              "    <div class=\"colab-df-container\">\n",
              "      <div>\n",
              "<style scoped>\n",
              "    .dataframe tbody tr th:only-of-type {\n",
              "        vertical-align: middle;\n",
              "    }\n",
              "\n",
              "    .dataframe tbody tr th {\n",
              "        vertical-align: top;\n",
              "    }\n",
              "\n",
              "    .dataframe thead th {\n",
              "        text-align: right;\n",
              "    }\n",
              "</style>\n",
              "<table border=\"1\" class=\"dataframe\">\n",
              "  <thead>\n",
              "    <tr style=\"text-align: right;\">\n",
              "      <th></th>\n",
              "      <th>assists</th>\n",
              "      <th>boosts</th>\n",
              "      <th>damageDealt</th>\n",
              "      <th>DBNOs</th>\n",
              "      <th>headshotKills</th>\n",
              "      <th>heals</th>\n",
              "      <th>killPlace</th>\n",
              "      <th>killPoints</th>\n",
              "      <th>kills</th>\n",
              "      <th>killStreaks</th>\n",
              "      <th>...</th>\n",
              "      <th>revives</th>\n",
              "      <th>rideDistance</th>\n",
              "      <th>roadKills</th>\n",
              "      <th>swimDistance</th>\n",
              "      <th>teamKills</th>\n",
              "      <th>vehicleDestroys</th>\n",
              "      <th>walkDistance</th>\n",
              "      <th>weaponsAcquired</th>\n",
              "      <th>winPoints</th>\n",
              "      <th>winPlacePerc</th>\n",
              "    </tr>\n",
              "  </thead>\n",
              "  <tbody>\n",
              "    <tr>\n",
              "      <th>assists</th>\n",
              "      <td>1.000000</td>\n",
              "      <td>0.307683</td>\n",
              "      <td>0.406726</td>\n",
              "      <td>0.301057</td>\n",
              "      <td>0.198289</td>\n",
              "      <td>0.228556</td>\n",
              "      <td>-0.290062</td>\n",
              "      <td>0.039066</td>\n",
              "      <td>0.319690</td>\n",
              "      <td>0.243471</td>\n",
              "      <td>...</td>\n",
              "      <td>0.198320</td>\n",
              "      <td>0.110644</td>\n",
              "      <td>0.011903</td>\n",
              "      <td>0.023372</td>\n",
              "      <td>0.006081</td>\n",
              "      <td>0.057921</td>\n",
              "      <td>0.290306</td>\n",
              "      <td>0.243882</td>\n",
              "      <td>0.024014</td>\n",
              "      <td>0.299441</td>\n",
              "    </tr>\n",
              "    <tr>\n",
              "      <th>boosts</th>\n",
              "      <td>0.307683</td>\n",
              "      <td>1.000000</td>\n",
              "      <td>0.521947</td>\n",
              "      <td>0.358907</td>\n",
              "      <td>0.334661</td>\n",
              "      <td>0.535854</td>\n",
              "      <td>-0.554844</td>\n",
              "      <td>0.008347</td>\n",
              "      <td>0.502024</td>\n",
              "      <td>0.405327</td>\n",
              "      <td>...</td>\n",
              "      <td>0.253125</td>\n",
              "      <td>0.328855</td>\n",
              "      <td>0.035124</td>\n",
              "      <td>0.107993</td>\n",
              "      <td>0.013068</td>\n",
              "      <td>0.087387</td>\n",
              "      <td>0.640150</td>\n",
              "      <td>0.406609</td>\n",
              "      <td>-0.007644</td>\n",
              "      <td>0.634234</td>\n",
              "    </tr>\n",
              "    <tr>\n",
              "      <th>damageDealt</th>\n",
              "      <td>0.406726</td>\n",
              "      <td>0.521947</td>\n",
              "      <td>1.000000</td>\n",
              "      <td>0.735763</td>\n",
              "      <td>0.613409</td>\n",
              "      <td>0.342987</td>\n",
              "      <td>-0.677398</td>\n",
              "      <td>0.049904</td>\n",
              "      <td>0.888783</td>\n",
              "      <td>0.703599</td>\n",
              "      <td>...</td>\n",
              "      <td>0.256951</td>\n",
              "      <td>0.140883</td>\n",
              "      <td>0.052487</td>\n",
              "      <td>0.036729</td>\n",
              "      <td>0.015468</td>\n",
              "      <td>0.081182</td>\n",
              "      <td>0.398199</td>\n",
              "      <td>0.353249</td>\n",
              "      <td>0.017762</td>\n",
              "      <td>0.440507</td>\n",
              "    </tr>\n",
              "    <tr>\n",
              "      <th>DBNOs</th>\n",
              "      <td>0.301057</td>\n",
              "      <td>0.358907</td>\n",
              "      <td>0.735763</td>\n",
              "      <td>1.000000</td>\n",
              "      <td>0.469923</td>\n",
              "      <td>0.265485</td>\n",
              "      <td>-0.555289</td>\n",
              "      <td>0.042616</td>\n",
              "      <td>0.707848</td>\n",
              "      <td>0.646872</td>\n",
              "      <td>...</td>\n",
              "      <td>0.300999</td>\n",
              "      <td>0.102537</td>\n",
              "      <td>0.036093</td>\n",
              "      <td>0.017320</td>\n",
              "      <td>0.069430</td>\n",
              "      <td>0.060210</td>\n",
              "      <td>0.284660</td>\n",
              "      <td>0.218161</td>\n",
              "      <td>0.011108</td>\n",
              "      <td>0.279970</td>\n",
              "    </tr>\n",
              "    <tr>\n",
              "      <th>headshotKills</th>\n",
              "      <td>0.198289</td>\n",
              "      <td>0.334661</td>\n",
              "      <td>0.613409</td>\n",
              "      <td>0.469923</td>\n",
              "      <td>1.000000</td>\n",
              "      <td>0.199918</td>\n",
              "      <td>-0.469829</td>\n",
              "      <td>0.023988</td>\n",
              "      <td>0.674275</td>\n",
              "      <td>0.512882</td>\n",
              "      <td>...</td>\n",
              "      <td>0.150145</td>\n",
              "      <td>0.076495</td>\n",
              "      <td>0.013369</td>\n",
              "      <td>0.028531</td>\n",
              "      <td>0.008658</td>\n",
              "      <td>0.039200</td>\n",
              "      <td>0.250982</td>\n",
              "      <td>0.217552</td>\n",
              "      <td>0.004982</td>\n",
              "      <td>0.277722</td>\n",
              "    </tr>\n",
              "    <tr>\n",
              "      <th>heals</th>\n",
              "      <td>0.228556</td>\n",
              "      <td>0.535854</td>\n",
              "      <td>0.342987</td>\n",
              "      <td>0.265485</td>\n",
              "      <td>0.199918</td>\n",
              "      <td>1.000000</td>\n",
              "      <td>-0.386032</td>\n",
              "      <td>-0.002585</td>\n",
              "      <td>0.311781</td>\n",
              "      <td>0.270412</td>\n",
              "      <td>...</td>\n",
              "      <td>0.236680</td>\n",
              "      <td>0.297484</td>\n",
              "      <td>0.024619</td>\n",
              "      <td>0.079587</td>\n",
              "      <td>0.035386</td>\n",
              "      <td>0.062870</td>\n",
              "      <td>0.430266</td>\n",
              "      <td>0.309071</td>\n",
              "      <td>-0.010990</td>\n",
              "      <td>0.427857</td>\n",
              "    </tr>\n",
              "    <tr>\n",
              "      <th>killPlace</th>\n",
              "      <td>-0.290062</td>\n",
              "      <td>-0.554844</td>\n",
              "      <td>-0.677398</td>\n",
              "      <td>-0.555289</td>\n",
              "      <td>-0.469829</td>\n",
              "      <td>-0.386032</td>\n",
              "      <td>1.000000</td>\n",
              "      <td>-0.023277</td>\n",
              "      <td>-0.730498</td>\n",
              "      <td>-0.810516</td>\n",
              "      <td>...</td>\n",
              "      <td>-0.269804</td>\n",
              "      <td>-0.236202</td>\n",
              "      <td>-0.057356</td>\n",
              "      <td>-0.089396</td>\n",
              "      <td>-0.037797</td>\n",
              "      <td>-0.073569</td>\n",
              "      <td>-0.590236</td>\n",
              "      <td>-0.490143</td>\n",
              "      <td>-0.002415</td>\n",
              "      <td>-0.719069</td>\n",
              "    </tr>\n",
              "    <tr>\n",
              "      <th>killPoints</th>\n",
              "      <td>0.039066</td>\n",
              "      <td>0.008347</td>\n",
              "      <td>0.049904</td>\n",
              "      <td>0.042616</td>\n",
              "      <td>0.023988</td>\n",
              "      <td>-0.002585</td>\n",
              "      <td>-0.023277</td>\n",
              "      <td>1.000000</td>\n",
              "      <td>0.036192</td>\n",
              "      <td>0.037091</td>\n",
              "      <td>...</td>\n",
              "      <td>0.012041</td>\n",
              "      <td>-0.029316</td>\n",
              "      <td>-0.004156</td>\n",
              "      <td>-0.004604</td>\n",
              "      <td>-0.039739</td>\n",
              "      <td>-0.009658</td>\n",
              "      <td>0.004630</td>\n",
              "      <td>-0.003978</td>\n",
              "      <td>0.983417</td>\n",
              "      <td>0.012908</td>\n",
              "    </tr>\n",
              "    <tr>\n",
              "      <th>kills</th>\n",
              "      <td>0.319690</td>\n",
              "      <td>0.502024</td>\n",
              "      <td>0.888783</td>\n",
              "      <td>0.707848</td>\n",
              "      <td>0.674275</td>\n",
              "      <td>0.311781</td>\n",
              "      <td>-0.730498</td>\n",
              "      <td>0.036192</td>\n",
              "      <td>1.000000</td>\n",
              "      <td>0.802500</td>\n",
              "      <td>...</td>\n",
              "      <td>0.253323</td>\n",
              "      <td>0.114750</td>\n",
              "      <td>0.063651</td>\n",
              "      <td>0.039127</td>\n",
              "      <td>0.017601</td>\n",
              "      <td>0.079991</td>\n",
              "      <td>0.374774</td>\n",
              "      <td>0.336414</td>\n",
              "      <td>0.006929</td>\n",
              "      <td>0.419916</td>\n",
              "    </tr>\n",
              "    <tr>\n",
              "      <th>killStreaks</th>\n",
              "      <td>0.243471</td>\n",
              "      <td>0.405327</td>\n",
              "      <td>0.703599</td>\n",
              "      <td>0.646872</td>\n",
              "      <td>0.512882</td>\n",
              "      <td>0.270412</td>\n",
              "      <td>-0.810516</td>\n",
              "      <td>0.037091</td>\n",
              "      <td>0.802500</td>\n",
              "      <td>1.000000</td>\n",
              "      <td>...</td>\n",
              "      <td>0.241695</td>\n",
              "      <td>0.098420</td>\n",
              "      <td>0.065575</td>\n",
              "      <td>0.034588</td>\n",
              "      <td>0.027612</td>\n",
              "      <td>0.064374</td>\n",
              "      <td>0.327639</td>\n",
              "      <td>0.275373</td>\n",
              "      <td>0.008552</td>\n",
              "      <td>0.377566</td>\n",
              "    </tr>\n",
              "    <tr>\n",
              "      <th>longestKill</th>\n",
              "      <td>0.261425</td>\n",
              "      <td>0.423290</td>\n",
              "      <td>0.563837</td>\n",
              "      <td>0.451422</td>\n",
              "      <td>0.447261</td>\n",
              "      <td>0.263278</td>\n",
              "      <td>-0.541146</td>\n",
              "      <td>0.014084</td>\n",
              "      <td>0.602936</td>\n",
              "      <td>0.515097</td>\n",
              "      <td>...</td>\n",
              "      <td>0.170134</td>\n",
              "      <td>0.190853</td>\n",
              "      <td>0.025214</td>\n",
              "      <td>0.053455</td>\n",
              "      <td>0.007604</td>\n",
              "      <td>0.083227</td>\n",
              "      <td>0.413810</td>\n",
              "      <td>0.276264</td>\n",
              "      <td>-0.003720</td>\n",
              "      <td>0.410154</td>\n",
              "    </tr>\n",
              "    <tr>\n",
              "      <th>matchDuration</th>\n",
              "      <td>-0.019450</td>\n",
              "      <td>0.072108</td>\n",
              "      <td>-0.006755</td>\n",
              "      <td>-0.014485</td>\n",
              "      <td>-0.017657</td>\n",
              "      <td>0.108901</td>\n",
              "      <td>-0.005804</td>\n",
              "      <td>-0.099540</td>\n",
              "      <td>-0.030687</td>\n",
              "      <td>-0.034644</td>\n",
              "      <td>...</td>\n",
              "      <td>0.016990</td>\n",
              "      <td>0.365211</td>\n",
              "      <td>0.020016</td>\n",
              "      <td>0.008737</td>\n",
              "      <td>0.047969</td>\n",
              "      <td>0.060924</td>\n",
              "      <td>0.145063</td>\n",
              "      <td>0.129081</td>\n",
              "      <td>-0.087360</td>\n",
              "      <td>-0.005171</td>\n",
              "    </tr>\n",
              "    <tr>\n",
              "      <th>maxPlace</th>\n",
              "      <td>-0.147916</td>\n",
              "      <td>-0.013686</td>\n",
              "      <td>-0.040707</td>\n",
              "      <td>-0.267709</td>\n",
              "      <td>0.009211</td>\n",
              "      <td>-0.064759</td>\n",
              "      <td>0.016792</td>\n",
              "      <td>-0.044802</td>\n",
              "      <td>-0.004847</td>\n",
              "      <td>-0.037338</td>\n",
              "      <td>...</td>\n",
              "      <td>-0.160369</td>\n",
              "      <td>-0.047784</td>\n",
              "      <td>0.011504</td>\n",
              "      <td>0.007788</td>\n",
              "      <td>-0.038057</td>\n",
              "      <td>-0.018888</td>\n",
              "      <td>-0.083624</td>\n",
              "      <td>-0.039120</td>\n",
              "      <td>-0.029295</td>\n",
              "      <td>0.037377</td>\n",
              "    </tr>\n",
              "    <tr>\n",
              "      <th>numGroups</th>\n",
              "      <td>-0.146804</td>\n",
              "      <td>-0.012929</td>\n",
              "      <td>-0.040078</td>\n",
              "      <td>-0.265788</td>\n",
              "      <td>0.009389</td>\n",
              "      <td>-0.064204</td>\n",
              "      <td>0.018786</td>\n",
              "      <td>-0.042366</td>\n",
              "      <td>-0.004060</td>\n",
              "      <td>-0.036054</td>\n",
              "      <td>...</td>\n",
              "      <td>-0.159173</td>\n",
              "      <td>-0.049880</td>\n",
              "      <td>0.010435</td>\n",
              "      <td>0.007922</td>\n",
              "      <td>-0.038428</td>\n",
              "      <td>-0.019173</td>\n",
              "      <td>-0.082666</td>\n",
              "      <td>-0.039983</td>\n",
              "      <td>-0.027483</td>\n",
              "      <td>0.039621</td>\n",
              "    </tr>\n",
              "    <tr>\n",
              "      <th>rankPoints</th>\n",
              "      <td>-0.016407</td>\n",
              "      <td>0.023202</td>\n",
              "      <td>-0.001460</td>\n",
              "      <td>-0.003451</td>\n",
              "      <td>0.005118</td>\n",
              "      <td>0.019142</td>\n",
              "      <td>-0.014805</td>\n",
              "      <td>-0.975555</td>\n",
              "      <td>0.008199</td>\n",
              "      <td>0.003426</td>\n",
              "      <td>...</td>\n",
              "      <td>-0.000613</td>\n",
              "      <td>0.036813</td>\n",
              "      <td>0.006138</td>\n",
              "      <td>0.004724</td>\n",
              "      <td>0.039626</td>\n",
              "      <td>0.013399</td>\n",
              "      <td>0.015790</td>\n",
              "      <td>0.014755</td>\n",
              "      <td>-0.993845</td>\n",
              "      <td>0.013523</td>\n",
              "    </tr>\n",
              "    <tr>\n",
              "      <th>revives</th>\n",
              "      <td>0.198320</td>\n",
              "      <td>0.253125</td>\n",
              "      <td>0.256951</td>\n",
              "      <td>0.300999</td>\n",
              "      <td>0.150145</td>\n",
              "      <td>0.236680</td>\n",
              "      <td>-0.269804</td>\n",
              "      <td>0.012041</td>\n",
              "      <td>0.253323</td>\n",
              "      <td>0.241695</td>\n",
              "      <td>...</td>\n",
              "      <td>1.000000</td>\n",
              "      <td>0.109946</td>\n",
              "      <td>0.005920</td>\n",
              "      <td>0.020338</td>\n",
              "      <td>0.032989</td>\n",
              "      <td>0.038019</td>\n",
              "      <td>0.236796</td>\n",
              "      <td>0.167281</td>\n",
              "      <td>0.002434</td>\n",
              "      <td>0.240881</td>\n",
              "    </tr>\n",
              "    <tr>\n",
              "      <th>rideDistance</th>\n",
              "      <td>0.110644</td>\n",
              "      <td>0.328855</td>\n",
              "      <td>0.140883</td>\n",
              "      <td>0.102537</td>\n",
              "      <td>0.076495</td>\n",
              "      <td>0.297484</td>\n",
              "      <td>-0.236202</td>\n",
              "      <td>-0.029316</td>\n",
              "      <td>0.114750</td>\n",
              "      <td>0.098420</td>\n",
              "      <td>...</td>\n",
              "      <td>0.109946</td>\n",
              "      <td>1.000000</td>\n",
              "      <td>0.103518</td>\n",
              "      <td>0.049448</td>\n",
              "      <td>0.050179</td>\n",
              "      <td>0.119253</td>\n",
              "      <td>0.310936</td>\n",
              "      <td>0.282246</td>\n",
              "      <td>-0.027809</td>\n",
              "      <td>0.342915</td>\n",
              "    </tr>\n",
              "    <tr>\n",
              "      <th>roadKills</th>\n",
              "      <td>0.011903</td>\n",
              "      <td>0.035124</td>\n",
              "      <td>0.052487</td>\n",
              "      <td>0.036093</td>\n",
              "      <td>0.013369</td>\n",
              "      <td>0.024619</td>\n",
              "      <td>-0.057356</td>\n",
              "      <td>-0.004156</td>\n",
              "      <td>0.063651</td>\n",
              "      <td>0.065575</td>\n",
              "      <td>...</td>\n",
              "      <td>0.005920</td>\n",
              "      <td>0.103518</td>\n",
              "      <td>1.000000</td>\n",
              "      <td>0.004411</td>\n",
              "      <td>0.009684</td>\n",
              "      <td>0.031071</td>\n",
              "      <td>0.016736</td>\n",
              "      <td>0.016494</td>\n",
              "      <td>-0.004750</td>\n",
              "      <td>0.034544</td>\n",
              "    </tr>\n",
              "    <tr>\n",
              "      <th>swimDistance</th>\n",
              "      <td>0.023372</td>\n",
              "      <td>0.107993</td>\n",
              "      <td>0.036729</td>\n",
              "      <td>0.017320</td>\n",
              "      <td>0.028531</td>\n",
              "      <td>0.079587</td>\n",
              "      <td>-0.089396</td>\n",
              "      <td>-0.004604</td>\n",
              "      <td>0.039127</td>\n",
              "      <td>0.034588</td>\n",
              "      <td>...</td>\n",
              "      <td>0.020338</td>\n",
              "      <td>0.049448</td>\n",
              "      <td>0.004411</td>\n",
              "      <td>1.000000</td>\n",
              "      <td>0.006199</td>\n",
              "      <td>0.008090</td>\n",
              "      <td>0.167509</td>\n",
              "      <td>0.075698</td>\n",
              "      <td>-0.002680</td>\n",
              "      <td>0.149607</td>\n",
              "    </tr>\n",
              "    <tr>\n",
              "      <th>teamKills</th>\n",
              "      <td>0.006081</td>\n",
              "      <td>0.013068</td>\n",
              "      <td>0.015468</td>\n",
              "      <td>0.069430</td>\n",
              "      <td>0.008658</td>\n",
              "      <td>0.035386</td>\n",
              "      <td>-0.037797</td>\n",
              "      <td>-0.039739</td>\n",
              "      <td>0.017601</td>\n",
              "      <td>0.027612</td>\n",
              "      <td>...</td>\n",
              "      <td>0.032989</td>\n",
              "      <td>0.050179</td>\n",
              "      <td>0.009684</td>\n",
              "      <td>0.006199</td>\n",
              "      <td>1.000000</td>\n",
              "      <td>0.112164</td>\n",
              "      <td>0.024858</td>\n",
              "      <td>0.035918</td>\n",
              "      <td>-0.040943</td>\n",
              "      <td>0.015943</td>\n",
              "    </tr>\n",
              "    <tr>\n",
              "      <th>vehicleDestroys</th>\n",
              "      <td>0.057921</td>\n",
              "      <td>0.087387</td>\n",
              "      <td>0.081182</td>\n",
              "      <td>0.060210</td>\n",
              "      <td>0.039200</td>\n",
              "      <td>0.062870</td>\n",
              "      <td>-0.073569</td>\n",
              "      <td>-0.009658</td>\n",
              "      <td>0.079991</td>\n",
              "      <td>0.064374</td>\n",
              "      <td>...</td>\n",
              "      <td>0.038019</td>\n",
              "      <td>0.119253</td>\n",
              "      <td>0.031071</td>\n",
              "      <td>0.008090</td>\n",
              "      <td>0.112164</td>\n",
              "      <td>1.000000</td>\n",
              "      <td>0.076237</td>\n",
              "      <td>0.061012</td>\n",
              "      <td>-0.011426</td>\n",
              "      <td>0.073436</td>\n",
              "    </tr>\n",
              "    <tr>\n",
              "      <th>walkDistance</th>\n",
              "      <td>0.290306</td>\n",
              "      <td>0.640150</td>\n",
              "      <td>0.398199</td>\n",
              "      <td>0.284660</td>\n",
              "      <td>0.250982</td>\n",
              "      <td>0.430266</td>\n",
              "      <td>-0.590236</td>\n",
              "      <td>0.004630</td>\n",
              "      <td>0.374774</td>\n",
              "      <td>0.327639</td>\n",
              "      <td>...</td>\n",
              "      <td>0.236796</td>\n",
              "      <td>0.310936</td>\n",
              "      <td>0.016736</td>\n",
              "      <td>0.167509</td>\n",
              "      <td>0.024858</td>\n",
              "      <td>0.076237</td>\n",
              "      <td>1.000000</td>\n",
              "      <td>0.541222</td>\n",
              "      <td>-0.002043</td>\n",
              "      <td>0.810888</td>\n",
              "    </tr>\n",
              "    <tr>\n",
              "      <th>weaponsAcquired</th>\n",
              "      <td>0.243882</td>\n",
              "      <td>0.406609</td>\n",
              "      <td>0.353249</td>\n",
              "      <td>0.218161</td>\n",
              "      <td>0.217552</td>\n",
              "      <td>0.309071</td>\n",
              "      <td>-0.490143</td>\n",
              "      <td>-0.003978</td>\n",
              "      <td>0.336414</td>\n",
              "      <td>0.275373</td>\n",
              "      <td>...</td>\n",
              "      <td>0.167281</td>\n",
              "      <td>0.282246</td>\n",
              "      <td>0.016494</td>\n",
              "      <td>0.075698</td>\n",
              "      <td>0.035918</td>\n",
              "      <td>0.061012</td>\n",
              "      <td>0.541222</td>\n",
              "      <td>1.000000</td>\n",
              "      <td>-0.003815</td>\n",
              "      <td>0.583806</td>\n",
              "    </tr>\n",
              "    <tr>\n",
              "      <th>winPoints</th>\n",
              "      <td>0.024014</td>\n",
              "      <td>-0.007644</td>\n",
              "      <td>0.017762</td>\n",
              "      <td>0.011108</td>\n",
              "      <td>0.004982</td>\n",
              "      <td>-0.010990</td>\n",
              "      <td>-0.002415</td>\n",
              "      <td>0.983417</td>\n",
              "      <td>0.006929</td>\n",
              "      <td>0.008552</td>\n",
              "      <td>...</td>\n",
              "      <td>0.002434</td>\n",
              "      <td>-0.027809</td>\n",
              "      <td>-0.004750</td>\n",
              "      <td>-0.002680</td>\n",
              "      <td>-0.040943</td>\n",
              "      <td>-0.011426</td>\n",
              "      <td>-0.002043</td>\n",
              "      <td>-0.003815</td>\n",
              "      <td>1.000000</td>\n",
              "      <td>0.007061</td>\n",
              "    </tr>\n",
              "    <tr>\n",
              "      <th>winPlacePerc</th>\n",
              "      <td>0.299441</td>\n",
              "      <td>0.634234</td>\n",
              "      <td>0.440507</td>\n",
              "      <td>0.279970</td>\n",
              "      <td>0.277722</td>\n",
              "      <td>0.427857</td>\n",
              "      <td>-0.719069</td>\n",
              "      <td>0.012908</td>\n",
              "      <td>0.419916</td>\n",
              "      <td>0.377566</td>\n",
              "      <td>...</td>\n",
              "      <td>0.240881</td>\n",
              "      <td>0.342915</td>\n",
              "      <td>0.034544</td>\n",
              "      <td>0.149607</td>\n",
              "      <td>0.015943</td>\n",
              "      <td>0.073436</td>\n",
              "      <td>0.810888</td>\n",
              "      <td>0.583806</td>\n",
              "      <td>0.007061</td>\n",
              "      <td>1.000000</td>\n",
              "    </tr>\n",
              "  </tbody>\n",
              "</table>\n",
              "<p>25 rows × 25 columns</p>\n",
              "</div>\n",
              "      <button class=\"colab-df-convert\" onclick=\"convertToInteractive('df-9e71eafb-b70d-4e19-8984-bee8cfbe057b')\"\n",
              "              title=\"Convert this dataframe to an interactive table.\"\n",
              "              style=\"display:none;\">\n",
              "        \n",
              "  <svg xmlns=\"http://www.w3.org/2000/svg\" height=\"24px\"viewBox=\"0 0 24 24\"\n",
              "       width=\"24px\">\n",
              "    <path d=\"M0 0h24v24H0V0z\" fill=\"none\"/>\n",
              "    <path d=\"M18.56 5.44l.94 2.06.94-2.06 2.06-.94-2.06-.94-.94-2.06-.94 2.06-2.06.94zm-11 1L8.5 8.5l.94-2.06 2.06-.94-2.06-.94L8.5 2.5l-.94 2.06-2.06.94zm10 10l.94 2.06.94-2.06 2.06-.94-2.06-.94-.94-2.06-.94 2.06-2.06.94z\"/><path d=\"M17.41 7.96l-1.37-1.37c-.4-.4-.92-.59-1.43-.59-.52 0-1.04.2-1.43.59L10.3 9.45l-7.72 7.72c-.78.78-.78 2.05 0 2.83L4 21.41c.39.39.9.59 1.41.59.51 0 1.02-.2 1.41-.59l7.78-7.78 2.81-2.81c.8-.78.8-2.07 0-2.86zM5.41 20L4 18.59l7.72-7.72 1.47 1.35L5.41 20z\"/>\n",
              "  </svg>\n",
              "      </button>\n",
              "      \n",
              "  <style>\n",
              "    .colab-df-container {\n",
              "      display:flex;\n",
              "      flex-wrap:wrap;\n",
              "      gap: 12px;\n",
              "    }\n",
              "\n",
              "    .colab-df-convert {\n",
              "      background-color: #E8F0FE;\n",
              "      border: none;\n",
              "      border-radius: 50%;\n",
              "      cursor: pointer;\n",
              "      display: none;\n",
              "      fill: #1967D2;\n",
              "      height: 32px;\n",
              "      padding: 0 0 0 0;\n",
              "      width: 32px;\n",
              "    }\n",
              "\n",
              "    .colab-df-convert:hover {\n",
              "      background-color: #E2EBFA;\n",
              "      box-shadow: 0px 1px 2px rgba(60, 64, 67, 0.3), 0px 1px 3px 1px rgba(60, 64, 67, 0.15);\n",
              "      fill: #174EA6;\n",
              "    }\n",
              "\n",
              "    [theme=dark] .colab-df-convert {\n",
              "      background-color: #3B4455;\n",
              "      fill: #D2E3FC;\n",
              "    }\n",
              "\n",
              "    [theme=dark] .colab-df-convert:hover {\n",
              "      background-color: #434B5C;\n",
              "      box-shadow: 0px 1px 3px 1px rgba(0, 0, 0, 0.15);\n",
              "      filter: drop-shadow(0px 1px 2px rgba(0, 0, 0, 0.3));\n",
              "      fill: #FFFFFF;\n",
              "    }\n",
              "  </style>\n",
              "\n",
              "      <script>\n",
              "        const buttonEl =\n",
              "          document.querySelector('#df-9e71eafb-b70d-4e19-8984-bee8cfbe057b button.colab-df-convert');\n",
              "        buttonEl.style.display =\n",
              "          google.colab.kernel.accessAllowed ? 'block' : 'none';\n",
              "\n",
              "        async function convertToInteractive(key) {\n",
              "          const element = document.querySelector('#df-9e71eafb-b70d-4e19-8984-bee8cfbe057b');\n",
              "          const dataTable =\n",
              "            await google.colab.kernel.invokeFunction('convertToInteractive',\n",
              "                                                     [key], {});\n",
              "          if (!dataTable) return;\n",
              "\n",
              "          const docLinkHtml = 'Like what you see? Visit the ' +\n",
              "            '<a target=\"_blank\" href=https://colab.research.google.com/notebooks/data_table.ipynb>data table notebook</a>'\n",
              "            + ' to learn more about interactive tables.';\n",
              "          element.innerHTML = '';\n",
              "          dataTable['output_type'] = 'display_data';\n",
              "          await google.colab.output.renderOutput(dataTable, element);\n",
              "          const docLink = document.createElement('div');\n",
              "          docLink.innerHTML = docLinkHtml;\n",
              "          element.appendChild(docLink);\n",
              "        }\n",
              "      </script>\n",
              "    </div>\n",
              "  </div>\n",
              "  "
            ]
          },
          "metadata": {},
          "execution_count": 6
        }
      ]
    },
    {
      "cell_type": "code",
      "source": [
        "f,ax = plt.subplots(figsize=(15, 15))\n",
        "sns.heatmap(train.corr(), annot=True, linewidths=.5, fmt= '.1f',ax=ax)\n",
        "plt.show()"
      ],
      "metadata": {
        "colab": {
          "base_uri": "https://localhost:8080/",
          "height": 946
        },
        "id": "_3lXULPvj7_U",
        "outputId": "7a4e2ce1-13b2-499e-ffbc-1e8e8bc39fb4"
      },
      "id": "_3lXULPvj7_U",
      "execution_count": 7,
      "outputs": [
        {
          "output_type": "display_data",
          "data": {
            "text/plain": [
              "<Figure size 1080x1080 with 2 Axes>"
            ],
            "image/png": "[encoded data removed]"
          },
          "metadata": {
            "needs_background": "light"
          }
        }
      ]
    },
    {
      "cell_type": "code",
      "execution_count": 8,
      "id": "9fef4f2e",
      "metadata": {
        "colab": {
          "base_uri": "https://localhost:8080/"
        },
        "id": "9fef4f2e",
        "outputId": "2e957e8c-5407-4ae5-b561-419313ba9fd1"
      },
      "outputs": [
        {
          "output_type": "stream",
          "name": "stdout",
          "text": [
            "<class 'pandas.core.frame.DataFrame'>\n",
            "RangeIndex: 4446966 entries, 0 to 4446965\n",
            "Data columns (total 29 columns):\n",
            " #   Column           Dtype  \n",
            "---  ------           -----  \n",
            " 0   Id               object \n",
            " 1   groupId          object \n",
            " 2   matchId          object \n",
            " 3   assists          int64  \n",
            " 4   boosts           int64  \n",
            " 5   damageDealt      float64\n",
            " 6   DBNOs            int64  \n",
            " 7   headshotKills    int64  \n",
            " 8   heals            int64  \n",
            " 9   killPlace        int64  \n",
            " 10  killPoints       int64  \n",
            " 11  kills            int64  \n",
            " 12  killStreaks      int64  \n",
            " 13  longestKill      float64\n",
            " 14  matchDuration    int64  \n",
            " 15  matchType        object \n",
            " 16  maxPlace         int64  \n",
            " 17  numGroups        int64  \n",
            " 18  rankPoints       int64  \n",
            " 19  revives          int64  \n",
            " 20  rideDistance     float64\n",
            " 21  roadKills        int64  \n",
            " 22  swimDistance     float64\n",
            " 23  teamKills        int64  \n",
            " 24  vehicleDestroys  int64  \n",
            " 25  walkDistance     float64\n",
            " 26  weaponsAcquired  int64  \n",
            " 27  winPoints        int64  \n",
            " 28  winPlacePerc     float64\n",
            "dtypes: float64(6), int64(19), object(4)\n",
            "memory usage: 983.9+ MB\n"
          ]
        }
      ],
      "source": [
        "train.info()"
      ]
    },
    {
      "cell_type": "code",
      "source": [
        "# 결측치 확인\n",
        "train.isna().sum()"
      ],
      "metadata": {
        "colab": {
          "base_uri": "https://localhost:8080/"
        },
        "id": "Q4bDpvYgZxLC",
        "outputId": "d7f7ebe8-2077-4759-88da-bf4c9597c5d1"
      },
      "id": "Q4bDpvYgZxLC",
      "execution_count": 9,
      "outputs": [
        {
          "output_type": "execute_result",
          "data": {
            "text/plain": [
              "Id                 0\n",
              "groupId            0\n",
              "matchId            0\n",
              "assists            0\n",
              "boosts             0\n",
              "damageDealt        0\n",
              "DBNOs              0\n",
              "headshotKills      0\n",
              "heals              0\n",
              "killPlace          0\n",
              "killPoints         0\n",
              "kills              0\n",
              "killStreaks        0\n",
              "longestKill        0\n",
              "matchDuration      0\n",
              "matchType          0\n",
              "maxPlace           0\n",
              "numGroups          0\n",
              "rankPoints         0\n",
              "revives            0\n",
              "rideDistance       0\n",
              "roadKills          0\n",
              "swimDistance       0\n",
              "teamKills          0\n",
              "vehicleDestroys    0\n",
              "walkDistance       0\n",
              "weaponsAcquired    0\n",
              "winPoints          0\n",
              "winPlacePerc       1\n",
              "dtype: int64"
            ]
          },
          "metadata": {},
          "execution_count": 9
        }
      ]
    },
    {
      "cell_type": "code",
      "source": [
        "# win Place Perc 결측 행 제거\n",
        "train = train.dropna(axis=0)"
      ],
      "metadata": {
        "id": "foNjf3uUesDW"
      },
      "id": "foNjf3uUesDW",
      "execution_count": 5,
      "outputs": []
    },
    {
      "cell_type": "code",
      "source": [
        "# Id, groupId, matchId는 필요 없는 컬럼으로 판단하여 제거\n",
        "train = train.drop(columns=[\"Id\", \"groupId\", \"matchId\"])\n",
        "train.info() "
      ],
      "metadata": {
        "colab": {
          "base_uri": "https://localhost:8080/"
        },
        "id": "hjXULOzshqzF",
        "outputId": "6c9e72bd-6bca-45c1-af5a-b8a18ba5733f"
      },
      "id": "hjXULOzshqzF",
      "execution_count": 6,
      "outputs": [
        {
          "output_type": "stream",
          "name": "stdout",
          "text": [
            "<class 'pandas.core.frame.DataFrame'>\n",
            "Int64Index: 4446965 entries, 0 to 4446965\n",
            "Data columns (total 26 columns):\n",
            " #   Column           Dtype  \n",
            "---  ------           -----  \n",
            " 0   assists          int64  \n",
            " 1   boosts           int64  \n",
            " 2   damageDealt      float64\n",
            " 3   DBNOs            int64  \n",
            " 4   headshotKills    int64  \n",
            " 5   heals            int64  \n",
            " 6   killPlace        int64  \n",
            " 7   killPoints       int64  \n",
            " 8   kills            int64  \n",
            " 9   killStreaks      int64  \n",
            " 10  longestKill      float64\n",
            " 11  matchDuration    int64  \n",
            " 12  matchType        object \n",
            " 13  maxPlace         int64  \n",
            " 14  numGroups        int64  \n",
            " 15  rankPoints       int64  \n",
            " 16  revives          int64  \n",
            " 17  rideDistance     float64\n",
            " 18  roadKills        int64  \n",
            " 19  swimDistance     float64\n",
            " 20  teamKills        int64  \n",
            " 21  vehicleDestroys  int64  \n",
            " 22  walkDistance     float64\n",
            " 23  weaponsAcquired  int64  \n",
            " 24  winPoints        int64  \n",
            " 25  winPlacePerc     float64\n",
            "dtypes: float64(6), int64(19), object(1)\n",
            "memory usage: 916.0+ MB\n"
          ]
        }
      ]
    },
    {
      "cell_type": "code",
      "source": [
        "# 'matchType' 종류 확인\n",
        "train.matchType.nunique()"
      ],
      "metadata": {
        "colab": {
          "base_uri": "https://localhost:8080/"
        },
        "id": "J0BJmsfRgUa1",
        "outputId": "9726b245-d90e-4fa4-f1ff-376dff20653c"
      },
      "id": "J0BJmsfRgUa1",
      "execution_count": 7,
      "outputs": [
        {
          "output_type": "execute_result",
          "data": {
            "text/plain": [
              "16"
            ]
          },
          "metadata": {},
          "execution_count": 7
        }
      ]
    },
    {
      "cell_type": "code",
      "source": [
        "train['matchType'].value_counts()"
      ],
      "metadata": {
        "colab": {
          "base_uri": "https://localhost:8080/"
        },
        "id": "35zYxh-F76CM",
        "outputId": "d7d71298-3002-4580-a9ac-43ef307a91de"
      },
      "id": "35zYxh-F76CM",
      "execution_count": 8,
      "outputs": [
        {
          "output_type": "execute_result",
          "data": {
            "text/plain": [
              "squad-fpp           1756186\n",
              "duo-fpp              996691\n",
              "squad                626526\n",
              "solo-fpp             536761\n",
              "duo                  313591\n",
              "solo                 181943\n",
              "normal-squad-fpp      17174\n",
              "crashfpp               6287\n",
              "normal-duo-fpp         5489\n",
              "flaretpp               2505\n",
              "normal-solo-fpp        1682\n",
              "flarefpp                718\n",
              "normal-squad            516\n",
              "crashtpp                371\n",
              "normal-solo             326\n",
              "normal-duo              199\n",
              "Name: matchType, dtype: int64"
            ]
          },
          "metadata": {},
          "execution_count": 8
        }
      ]
    },
    {
      "cell_type": "code",
      "source": [
        "# matchType 원-핫 인코딩\n",
        "train = pd.get_dummies(train, columns=['matchType'])\n",
        "train.head()"
      ],
      "metadata": {
        "colab": {
          "base_uri": "https://localhost:8080/",
          "height": 317
        },
        "id": "53AgCIl2x4LP",
        "outputId": "48f8d74e-4dc5-4040-c20e-d2e3bf6e0f5e"
      },
      "id": "53AgCIl2x4LP",
      "execution_count": 9,
      "outputs": [
        {
          "output_type": "execute_result",
          "data": {
            "text/plain": [
              "   assists  boosts  damageDealt  DBNOs  headshotKills  heals  killPlace  \\\n",
              "0        0       0         0.00      0              0      0         60   \n",
              "1        0       0        91.47      0              0      0         57   \n",
              "2        1       0        68.00      0              0      0         47   \n",
              "3        0       0        32.90      0              0      0         75   \n",
              "4        0       0       100.00      0              0      0         45   \n",
              "\n",
              "   killPoints  kills  killStreaks  ...  matchType_normal-duo  \\\n",
              "0        1241      0            0  ...                     0   \n",
              "1           0      0            0  ...                     0   \n",
              "2           0      0            0  ...                     0   \n",
              "3           0      0            0  ...                     0   \n",
              "4           0      1            1  ...                     0   \n",
              "\n",
              "   matchType_normal-duo-fpp  matchType_normal-solo  matchType_normal-solo-fpp  \\\n",
              "0                         0                      0                          0   \n",
              "1                         0                      0                          0   \n",
              "2                         0                      0                          0   \n",
              "3                         0                      0                          0   \n",
              "4                         0                      0                          0   \n",
              "\n",
              "   matchType_normal-squad  matchType_normal-squad-fpp  matchType_solo  \\\n",
              "0                       0                           0               0   \n",
              "1                       0                           0               0   \n",
              "2                       0                           0               0   \n",
              "3                       0                           0               0   \n",
              "4                       0                           0               0   \n",
              "\n",
              "   matchType_solo-fpp  matchType_squad  matchType_squad-fpp  \n",
              "0                   0                0                    1  \n",
              "1                   0                0                    1  \n",
              "2                   0                0                    0  \n",
              "3                   0                0                    1  \n",
              "4                   1                0                    0  \n",
              "\n",
              "[5 rows x 41 columns]"
            ],
            "text/html": [
              "\n",
              "  <div id=\"df-1e33eae7-6068-4bd3-a456-24618634f3db\">\n",
              "    <div class=\"colab-df-container\">\n",
              "      <div>\n",
              "<style scoped>\n",
              "    .dataframe tbody tr th:only-of-type {\n",
              "        vertical-align: middle;\n",
              "    }\n",
              "\n",
              "    .dataframe tbody tr th {\n",
              "        vertical-align: top;\n",
              "    }\n",
              "\n",
              "    .dataframe thead th {\n",
              "        text-align: right;\n",
              "    }\n",
              "</style>\n",
              "<table border=\"1\" class=\"dataframe\">\n",
              "  <thead>\n",
              "    <tr style=\"text-align: right;\">\n",
              "      <th></th>\n",
              "      <th>assists</th>\n",
              "      <th>boosts</th>\n",
              "      <th>damageDealt</th>\n",
              "      <th>DBNOs</th>\n",
              "      <th>headshotKills</th>\n",
              "      <th>heals</th>\n",
              "      <th>killPlace</th>\n",
              "      <th>killPoints</th>\n",
              "      <th>kills</th>\n",
              "      <th>killStreaks</th>\n",
              "      <th>...</th>\n",
              "      <th>matchType_normal-duo</th>\n",
              "      <th>matchType_normal-duo-fpp</th>\n",
              "      <th>matchType_normal-solo</th>\n",
              "      <th>matchType_normal-solo-fpp</th>\n",
              "      <th>matchType_normal-squad</th>\n",
              "      <th>matchType_normal-squad-fpp</th>\n",
              "      <th>matchType_solo</th>\n",
              "      <th>matchType_solo-fpp</th>\n",
              "      <th>matchType_squad</th>\n",
              "      <th>matchType_squad-fpp</th>\n",
              "    </tr>\n",
              "  </thead>\n",
              "  <tbody>\n",
              "    <tr>\n",
              "      <th>0</th>\n",
              "      <td>0</td>\n",
              "      <td>0</td>\n",
              "      <td>0.00</td>\n",
              "      <td>0</td>\n",
              "      <td>0</td>\n",
              "      <td>0</td>\n",
              "      <td>60</td>\n",
              "      <td>1241</td>\n",
              "      <td>0</td>\n",
              "      <td>0</td>\n",
              "      <td>...</td>\n",
              "      <td>0</td>\n",
              "      <td>0</td>\n",
              "      <td>0</td>\n",
              "      <td>0</td>\n",
              "      <td>0</td>\n",
              "      <td>0</td>\n",
              "      <td>0</td>\n",
              "      <td>0</td>\n",
              "      <td>0</td>\n",
              "      <td>1</td>\n",
              "    </tr>\n",
              "    <tr>\n",
              "      <th>1</th>\n",
              "      <td>0</td>\n",
              "      <td>0</td>\n",
              "      <td>91.47</td>\n",
              "      <td>0</td>\n",
              "      <td>0</td>\n",
              "      <td>0</td>\n",
              "      <td>57</td>\n",
              "      <td>0</td>\n",
              "      <td>0</td>\n",
              "      <td>0</td>\n",
              "      <td>...</td>\n",
              "      <td>0</td>\n",
              "      <td>0</td>\n",
              "      <td>0</td>\n",
              "      <td>0</td>\n",
              "      <td>0</td>\n",
              "      <td>0</td>\n",
              "      <td>0</td>\n",
              "      <td>0</td>\n",
              "      <td>0</td>\n",
              "      <td>1</td>\n",
              "    </tr>\n",
              "    <tr>\n",
              "      <th>2</th>\n",
              "      <td>1</td>\n",
              "      <td>0</td>\n",
              "      <td>68.00</td>\n",
              "      <td>0</td>\n",
              "      <td>0</td>\n",
              "      <td>0</td>\n",
              "      <td>47</td>\n",
              "      <td>0</td>\n",
              "      <td>0</td>\n",
              "      <td>0</td>\n",
              "      <td>...</td>\n",
              "      <td>0</td>\n",
              "      <td>0</td>\n",
              "      <td>0</td>\n",
              "      <td>0</td>\n",
              "      <td>0</td>\n",
              "      <td>0</td>\n",
              "      <td>0</td>\n",
              "      <td>0</td>\n",
              "      <td>0</td>\n",
              "      <td>0</td>\n",
              "    </tr>\n",
              "    <tr>\n",
              "      <th>3</th>\n",
              "      <td>0</td>\n",
              "      <td>0</td>\n",
              "      <td>32.90</td>\n",
              "      <td>0</td>\n",
              "      <td>0</td>\n",
              "      <td>0</td>\n",
              "      <td>75</td>\n",
              "      <td>0</td>\n",
              "      <td>0</td>\n",
              "      <td>0</td>\n",
              "      <td>...</td>\n",
              "      <td>0</td>\n",
              "      <td>0</td>\n",
              "      <td>0</td>\n",
              "      <td>0</td>\n",
              "      <td>0</td>\n",
              "      <td>0</td>\n",
              "      <td>0</td>\n",
              "      <td>0</td>\n",
              "      <td>0</td>\n",
              "      <td>1</td>\n",
              "    </tr>\n",
              "    <tr>\n",
              "      <th>4</th>\n",
              "      <td>0</td>\n",
              "      <td>0</td>\n",
              "      <td>100.00</td>\n",
              "      <td>0</td>\n",
              "      <td>0</td>\n",
              "      <td>0</td>\n",
              "      <td>45</td>\n",
              "      <td>0</td>\n",
              "      <td>1</td>\n",
              "      <td>1</td>\n",
              "      <td>...</td>\n",
              "      <td>0</td>\n",
              "      <td>0</td>\n",
              "      <td>0</td>\n",
              "      <td>0</td>\n",
              "      <td>0</td>\n",
              "      <td>0</td>\n",
              "      <td>0</td>\n",
              "      <td>1</td>\n",
              "      <td>0</td>\n",
              "      <td>0</td>\n",
              "    </tr>\n",
              "  </tbody>\n",
              "</table>\n",
              "<p>5 rows × 41 columns</p>\n",
              "</div>\n",
              "      <button class=\"colab-df-convert\" onclick=\"convertToInteractive('df-1e33eae7-6068-4bd3-a456-24618634f3db')\"\n",
              "              title=\"Convert this dataframe to an interactive table.\"\n",
              "              style=\"display:none;\">\n",
              "        \n",
              "  <svg xmlns=\"http://www.w3.org/2000/svg\" height=\"24px\"viewBox=\"0 0 24 24\"\n",
              "       width=\"24px\">\n",
              "    <path d=\"M0 0h24v24H0V0z\" fill=\"none\"/>\n",
              "    <path d=\"M18.56 5.44l.94 2.06.94-2.06 2.06-.94-2.06-.94-.94-2.06-.94 2.06-2.06.94zm-11 1L8.5 8.5l.94-2.06 2.06-.94-2.06-.94L8.5 2.5l-.94 2.06-2.06.94zm10 10l.94 2.06.94-2.06 2.06-.94-2.06-.94-.94-2.06-.94 2.06-2.06.94z\"/><path d=\"M17.41 7.96l-1.37-1.37c-.4-.4-.92-.59-1.43-.59-.52 0-1.04.2-1.43.59L10.3 9.45l-7.72 7.72c-.78.78-.78 2.05 0 2.83L4 21.41c.39.39.9.59 1.41.59.51 0 1.02-.2 1.41-.59l7.78-7.78 2.81-2.81c.8-.78.8-2.07 0-2.86zM5.41 20L4 18.59l7.72-7.72 1.47 1.35L5.41 20z\"/>\n",
              "  </svg>\n",
              "      </button>\n",
              "      \n",
              "  <style>\n",
              "    .colab-df-container {\n",
              "      display:flex;\n",
              "      flex-wrap:wrap;\n",
              "      gap: 12px;\n",
              "    }\n",
              "\n",
              "    .colab-df-convert {\n",
              "      background-color: #E8F0FE;\n",
              "      border: none;\n",
              "      border-radius: 50%;\n",
              "      cursor: pointer;\n",
              "      display: none;\n",
              "      fill: #1967D2;\n",
              "      height: 32px;\n",
              "      padding: 0 0 0 0;\n",
              "      width: 32px;\n",
              "    }\n",
              "\n",
              "    .colab-df-convert:hover {\n",
              "      background-color: #E2EBFA;\n",
              "      box-shadow: 0px 1px 2px rgba(60, 64, 67, 0.3), 0px 1px 3px 1px rgba(60, 64, 67, 0.15);\n",
              "      fill: #174EA6;\n",
              "    }\n",
              "\n",
              "    [theme=dark] .colab-df-convert {\n",
              "      background-color: #3B4455;\n",
              "      fill: #D2E3FC;\n",
              "    }\n",
              "\n",
              "    [theme=dark] .colab-df-convert:hover {\n",
              "      background-color: #434B5C;\n",
              "      box-shadow: 0px 1px 3px 1px rgba(0, 0, 0, 0.15);\n",
              "      filter: drop-shadow(0px 1px 2px rgba(0, 0, 0, 0.3));\n",
              "      fill: #FFFFFF;\n",
              "    }\n",
              "  </style>\n",
              "\n",
              "      <script>\n",
              "        const buttonEl =\n",
              "          document.querySelector('#df-1e33eae7-6068-4bd3-a456-24618634f3db button.colab-df-convert');\n",
              "        buttonEl.style.display =\n",
              "          google.colab.kernel.accessAllowed ? 'block' : 'none';\n",
              "\n",
              "        async function convertToInteractive(key) {\n",
              "          const element = document.querySelector('#df-1e33eae7-6068-4bd3-a456-24618634f3db');\n",
              "          const dataTable =\n",
              "            await google.colab.kernel.invokeFunction('convertToInteractive',\n",
              "                                                     [key], {});\n",
              "          if (!dataTable) return;\n",
              "\n",
              "          const docLinkHtml = 'Like what you see? Visit the ' +\n",
              "            '<a target=\"_blank\" href=https://colab.research.google.com/notebooks/data_table.ipynb>data table notebook</a>'\n",
              "            + ' to learn more about interactive tables.';\n",
              "          element.innerHTML = '';\n",
              "          dataTable['output_type'] = 'display_data';\n",
              "          await google.colab.output.renderOutput(dataTable, element);\n",
              "          const docLink = document.createElement('div');\n",
              "          docLink.innerHTML = docLinkHtml;\n",
              "          element.appendChild(docLink);\n",
              "        }\n",
              "      </script>\n",
              "    </div>\n",
              "  </div>\n",
              "  "
            ]
          },
          "metadata": {},
          "execution_count": 9
        }
      ]
    },
    {
      "cell_type": "code",
      "source": [
        "# winPoints와 killPoints가 0이 아닌 행의 수가 같다.\n",
        "# 외부 elo 점수를 보유한 유저의 데이터\n",
        "#train_elo = train.loc[(train.killPoints!=0)]"
      ],
      "metadata": {
        "id": "xlQCGI6m2JLb"
      },
      "id": "xlQCGI6m2JLb",
      "execution_count": 29,
      "outputs": []
    },
    {
      "cell_type": "markdown",
      "id": "14bc6b5a",
      "metadata": {
        "id": "14bc6b5a"
      },
      "source": [
        "## 데이터 분석"
      ]
    },
    {
      "cell_type": "markdown",
      "source": [
        "###kills"
      ],
      "metadata": {
        "id": "iDEZyFFlivwT"
      },
      "id": "iDEZyFFlivwT"
    },
    {
      "cell_type": "code",
      "source": [
        "train['kills'].value_counts()"
      ],
      "metadata": {
        "id": "wya8mF-Z9DgY"
      },
      "id": "wya8mF-Z9DgY",
      "execution_count": null,
      "outputs": []
    },
    {
      "cell_type": "code",
      "source": [
        "# kills 29 이상인 행은 핵으로 판단하여 제거\n",
        "train = train.loc[(train.kills < 29)]"
      ],
      "metadata": {
        "id": "DRskY1FIbSyo"
      },
      "id": "DRskY1FIbSyo",
      "execution_count": 10,
      "outputs": []
    },
    {
      "cell_type": "code",
      "source": [
        "fig = plt.figure(figsize=(8,8))\n",
        "plt.scatter(x='winPlacePerc', y='kills', data=train)"
      ],
      "metadata": {
        "colab": {
          "base_uri": "https://localhost:8080/",
          "height": 501
        },
        "id": "t3XeWzzuytmJ",
        "outputId": "57d4b47c-40ac-47fb-ab70-d224e25e3d73"
      },
      "id": "t3XeWzzuytmJ",
      "execution_count": 19,
      "outputs": [
        {
          "output_type": "execute_result",
          "data": {
            "text/plain": [
              "<matplotlib.collections.PathCollection at 0x7fac02c59510>"
            ]
          },
          "metadata": {},
          "execution_count": 19
        },
        {
          "output_type": "display_data",
          "data": {
            "text/plain": [
              "<Figure size 576x576 with 1 Axes>"
            ],
            "image/png": "[encoded data removed]"
          },
          "metadata": {
            "needs_background": "light"
          }
        }
      ]
    },
    {
      "cell_type": "code",
      "source": [
        "kills = train.copy()\n",
        "\n",
        "kills['killsCategories'] = pd.cut(kills['kills'], [-1, 0, 2, 5, 10, 72], labels=['0_kills','1-3_kills', '4-6_kills', '7-9_kills', '10+_kills'])\n",
        "\n",
        "plt.figure(figsize=(10,6))\n",
        "sns.boxplot(x=\"killsCategories\", y=\"winPlacePerc\", data=kills)\n",
        "plt.show()"
      ],
      "metadata": {
        "colab": {
          "base_uri": "https://localhost:8080/",
          "height": 389
        },
        "id": "t2EOfLF0IRX2",
        "outputId": "f5328c82-1990-4367-b040-8ba3bb5f5e90"
      },
      "id": "t2EOfLF0IRX2",
      "execution_count": 37,
      "outputs": [
        {
          "output_type": "display_data",
          "data": {
            "text/plain": [
              "<Figure size 720x432 with 1 Axes>"
            ],
            "image/png": "[encoded data removed]"
          },
          "metadata": {
            "needs_background": "light"
          }
        }
      ]
    },
    {
      "cell_type": "markdown",
      "source": [
        "킬 수와 등수는 상관관계가 있다."
      ],
      "metadata": {
        "id": "4LJa2mDQ5AmT"
      },
      "id": "4LJa2mDQ5AmT"
    },
    {
      "cell_type": "markdown",
      "source": [
        "###boosts"
      ],
      "metadata": {
        "id": "Nea64Mh-3Lwa"
      },
      "id": "Nea64Mh-3Lwa"
    },
    {
      "cell_type": "code",
      "source": [
        "train['boosts'].describe()"
      ],
      "metadata": {
        "colab": {
          "base_uri": "https://localhost:8080/"
        },
        "id": "-IQ4CXej3xGB",
        "outputId": "0592fe9b-c80e-45f4-c378-a44d778b5b02"
      },
      "id": "-IQ4CXej3xGB",
      "execution_count": 36,
      "outputs": [
        {
          "output_type": "execute_result",
          "data": {
            "text/plain": [
              "count    4.347246e+06\n",
              "mean     1.132058e+00\n",
              "std      1.726927e+00\n",
              "min      0.000000e+00\n",
              "25%      0.000000e+00\n",
              "50%      0.000000e+00\n",
              "75%      2.000000e+00\n",
              "max      3.300000e+01\n",
              "Name: boosts, dtype: float64"
            ]
          },
          "metadata": {},
          "execution_count": 36
        }
      ]
    },
    {
      "cell_type": "code",
      "source": [
        "fig = plt.figure(figsize=(8,8))\n",
        "plt.scatter(x='winPlacePerc', y='boosts', data=train)"
      ],
      "metadata": {
        "colab": {
          "base_uri": "https://localhost:8080/",
          "height": 501
        },
        "id": "e4Pl2kjh3w_f",
        "outputId": "c3ef415b-d721-4cbe-efc8-cdbe5df71a95"
      },
      "id": "e4Pl2kjh3w_f",
      "execution_count": 24,
      "outputs": [
        {
          "output_type": "execute_result",
          "data": {
            "text/plain": [
              "<matplotlib.collections.PathCollection at 0x7fabe6987110>"
            ]
          },
          "metadata": {},
          "execution_count": 24
        },
        {
          "output_type": "display_data",
          "data": {
            "text/plain": [
              "<Figure size 576x576 with 1 Axes>"
            ],
            "image/png": "[encoded data removed]"
          },
          "metadata": {
            "needs_background": "light"
          }
        }
      ]
    },
    {
      "cell_type": "markdown",
      "source": [
        "도핑 횟수와 등수는 상관관계가 있다"
      ],
      "metadata": {
        "id": "EElGb_k4HNX2"
      },
      "id": "EElGb_k4HNX2"
    },
    {
      "cell_type": "markdown",
      "source": [
        "###damageDealt"
      ],
      "metadata": {
        "id": "VbaxAtbX3QXm"
      },
      "id": "VbaxAtbX3QXm"
    },
    {
      "cell_type": "code",
      "source": [
        "train.damageDealt.describe()"
      ],
      "metadata": {
        "colab": {
          "base_uri": "https://localhost:8080/"
        },
        "id": "Yo0xn9pN3xos",
        "outputId": "cb8d6a1a-d8e8-4645-815e-48902686edc6"
      },
      "id": "Yo0xn9pN3xos",
      "execution_count": 35,
      "outputs": [
        {
          "output_type": "execute_result",
          "data": {
            "text/plain": [
              "count    4.347246e+06\n",
              "mean     1.332140e+02\n",
              "std      1.700461e+02\n",
              "min      0.000000e+00\n",
              "25%      0.000000e+00\n",
              "50%      8.820000e+01\n",
              "75%      1.896000e+02\n",
              "max      3.407000e+03\n",
              "Name: damageDealt, dtype: float64"
            ]
          },
          "metadata": {},
          "execution_count": 35
        }
      ]
    },
    {
      "cell_type": "code",
      "source": [
        "fig = plt.figure(figsize=(8,8))\n",
        "plt.scatter(x='winPlacePerc', y='damageDealt', data=train)"
      ],
      "metadata": {
        "colab": {
          "base_uri": "https://localhost:8080/",
          "height": 501
        },
        "id": "njhEQp6y3xg-",
        "outputId": "6e6b1d21-9f61-41b1-9e68-a27e056b4b04"
      },
      "id": "njhEQp6y3xg-",
      "execution_count": 29,
      "outputs": [
        {
          "output_type": "execute_result",
          "data": {
            "text/plain": [
              "<matplotlib.collections.PathCollection at 0x7fabf747e1d0>"
            ]
          },
          "metadata": {},
          "execution_count": 29
        },
        {
          "output_type": "display_data",
          "data": {
            "text/plain": [
              "<Figure size 576x576 with 1 Axes>"
            ],
            "image/png": "[encoded data removed]"
          },
          "metadata": {
            "needs_background": "light"
          }
        }
      ]
    },
    {
      "cell_type": "markdown",
      "source": [
        "입힌 데미지와 등수는 상관관계가 있다"
      ],
      "metadata": {
        "id": "4Kk72k9XHdKB"
      },
      "id": "4Kk72k9XHdKB"
    },
    {
      "cell_type": "markdown",
      "source": [
        "###walkDistance"
      ],
      "metadata": {
        "id": "JqdO-K_43V3J"
      },
      "id": "JqdO-K_43V3J"
    },
    {
      "cell_type": "code",
      "source": [
        "train.walkDistance.describe()"
      ],
      "metadata": {
        "colab": {
          "base_uri": "https://localhost:8080/"
        },
        "id": "djnpeIwZ3ySI",
        "outputId": "ca69f7b3-d23c-431c-9294-86f8c6b4fb07"
      },
      "id": "djnpeIwZ3ySI",
      "execution_count": 32,
      "outputs": [
        {
          "output_type": "execute_result",
          "data": {
            "text/plain": [
              "count    4.347246e+06\n",
              "mean     1.180677e+03\n",
              "std      1.183872e+03\n",
              "min      1.000000e-04\n",
              "25%      1.724000e+02\n",
              "50%      7.329000e+02\n",
              "75%      2.008000e+03\n",
              "max      2.578000e+04\n",
              "Name: walkDistance, dtype: float64"
            ]
          },
          "metadata": {},
          "execution_count": 32
        }
      ]
    },
    {
      "cell_type": "code",
      "source": [
        "fig = plt.figure(figsize=(8,8))\n",
        "plt.scatter(x='winPlacePerc', y='walkDistance', data=train)"
      ],
      "metadata": {
        "colab": {
          "base_uri": "https://localhost:8080/",
          "height": 501
        },
        "id": "sQMPJS8U3yLe",
        "outputId": "e6ee4c01-109e-4369-80f4-1ac8d19f226f"
      },
      "id": "sQMPJS8U3yLe",
      "execution_count": 33,
      "outputs": [
        {
          "output_type": "execute_result",
          "data": {
            "text/plain": [
              "<matplotlib.collections.PathCollection at 0x7fabaaf65a50>"
            ]
          },
          "metadata": {},
          "execution_count": 33
        },
        {
          "output_type": "display_data",
          "data": {
            "text/plain": [
              "<Figure size 576x576 with 1 Axes>"
            ],
            "image/png": "[encoded data removed]"
          },
          "metadata": {
            "needs_background": "light"
          }
        }
      ]
    },
    {
      "cell_type": "markdown",
      "source": [
        "도보 이동거리는 등수와 상관관계가 있다"
      ],
      "metadata": {
        "id": "hBKiKa4NHsAo"
      },
      "id": "hBKiKa4NHsAo"
    },
    {
      "cell_type": "markdown",
      "source": [
        "###weaponsAcquired"
      ],
      "metadata": {
        "id": "bKhMa4Lb3ZDv"
      },
      "id": "bKhMa4Lb3ZDv"
    },
    {
      "cell_type": "code",
      "source": [
        ""
      ],
      "metadata": {
        "id": "LJUD1tWk3zjP"
      },
      "id": "LJUD1tWk3zjP",
      "execution_count": null,
      "outputs": []
    },
    {
      "cell_type": "code",
      "source": [
        ""
      ],
      "metadata": {
        "id": "NCYpyIlv3zhI"
      },
      "id": "NCYpyIlv3zhI",
      "execution_count": null,
      "outputs": []
    },
    {
      "cell_type": "code",
      "source": [
        ""
      ],
      "metadata": {
        "id": "Ml6Qdxk53zfW"
      },
      "id": "Ml6Qdxk53zfW",
      "execution_count": null,
      "outputs": []
    },
    {
      "cell_type": "code",
      "source": [
        "fig = plt.figure(figsize=(8,8))\n",
        "plt.scatter(x='winPlacePerc', y='weaponsAcquired', data=train)"
      ],
      "metadata": {
        "colab": {
          "base_uri": "https://localhost:8080/",
          "height": 501
        },
        "id": "jIcOaa8A3zdG",
        "outputId": "eeea3a97-1cae-4c99-92bd-a5cc529f3c86"
      },
      "id": "jIcOaa8A3zdG",
      "execution_count": 22,
      "outputs": [
        {
          "output_type": "execute_result",
          "data": {
            "text/plain": [
              "<matplotlib.collections.PathCollection at 0x7fac0dd31310>"
            ]
          },
          "metadata": {},
          "execution_count": 22
        },
        {
          "output_type": "display_data",
          "data": {
            "text/plain": [
              "<Figure size 576x576 with 1 Axes>"
            ],
            "image/png": "[encoded data removed]"
          },
          "metadata": {
            "needs_background": "light"
          }
        }
      ]
    },
    {
      "cell_type": "markdown",
      "source": [
        "###killPlace"
      ],
      "metadata": {
        "id": "od0YyFgI3Oer"
      },
      "id": "od0YyFgI3Oer"
    },
    {
      "cell_type": "code",
      "source": [
        ""
      ],
      "metadata": {
        "id": "8It9BJZc30y7"
      },
      "id": "8It9BJZc30y7",
      "execution_count": null,
      "outputs": []
    },
    {
      "cell_type": "code",
      "source": [
        ""
      ],
      "metadata": {
        "id": "SwUO-46F30w0"
      },
      "id": "SwUO-46F30w0",
      "execution_count": null,
      "outputs": []
    },
    {
      "cell_type": "code",
      "source": [
        ""
      ],
      "metadata": {
        "id": "qiUGT4LF30uu"
      },
      "id": "qiUGT4LF30uu",
      "execution_count": null,
      "outputs": []
    },
    {
      "cell_type": "code",
      "source": [
        "fig = plt.figure(figsize=(8,8))\n",
        "plt.scatter(x='winPlacePerc', y='killPlace', data=train)"
      ],
      "metadata": {
        "colab": {
          "base_uri": "https://localhost:8080/",
          "height": 501
        },
        "id": "s6MMZD0M30so",
        "outputId": "aa1828e6-f3ae-412f-fe88-d1b3ffb15783"
      },
      "id": "s6MMZD0M30so",
      "execution_count": 21,
      "outputs": [
        {
          "output_type": "execute_result",
          "data": {
            "text/plain": [
              "<matplotlib.collections.PathCollection at 0x7fac07413b50>"
            ]
          },
          "metadata": {},
          "execution_count": 21
        },
        {
          "output_type": "display_data",
          "data": {
            "text/plain": [
              "<Figure size 576x576 with 1 Axes>"
            ],
            "image/png": "[encoded data removed]"
          },
          "metadata": {
            "needs_background": "light"
          }
        }
      ]
    },
    {
      "cell_type": "markdown",
      "source": [
        ""
      ],
      "metadata": {
        "id": "FHXgShKI32rE"
      },
      "id": "FHXgShKI32rE"
    },
    {
      "cell_type": "code",
      "source": [
        "repeat = df.customer_id.value_counts().loc[df.customer_id.value_counts() >= 2]\n",
        "repeat_index=repeat.index\n",
        "repeat_index"
      ],
      "metadata": {
        "colab": {
          "base_uri": "https://localhost:8080/"
        },
        "id": "hxkaM0N6WbsG",
        "outputId": "e2264315-7741-4705-e6e3-dfa36c0db6bd"
      },
      "id": "hxkaM0N6WbsG",
      "execution_count": null,
      "outputs": [
        {
          "output_type": "execute_result",
          "data": {
            "text/plain": [
              "Float64Index([ 98685.0,  50769.0,  40783.0, 496508.0,  23171.0, 427973.0,\n",
              "              158374.0,  20784.0, 106662.0, 276705.0,\n",
              "              ...\n",
              "              403091.0, 639015.0, 605225.0, 519796.0, 113405.0,  48967.0,\n",
              "              173849.0, 526243.0, 463248.0, 172581.0],\n",
              "             dtype='float64', length=24765)"
            ]
          },
          "metadata": {},
          "execution_count": 167
        }
      ]
    },
    {
      "cell_type": "code",
      "source": [
        "df[\"customer_id\"].value_counts() >= 2"
      ],
      "metadata": {
        "colab": {
          "base_uri": "https://localhost:8080/"
        },
        "id": "YViprwu_PHq0",
        "outputId": "6e2d1ad7-edee-460d-8e60-f9208c24effe"
      },
      "id": "YViprwu_PHq0",
      "execution_count": null,
      "outputs": [
        {
          "output_type": "execute_result",
          "data": {
            "text/plain": [
              "98685.0      True\n",
              "50769.0      True\n",
              "40783.0      True\n",
              "496508.0     True\n",
              "23171.0      True\n",
              "            ...  \n",
              "545656.0    False\n",
              "550306.0    False\n",
              "550303.0    False\n",
              "168905.0    False\n",
              "610626.0    False\n",
              "Name: customer_id, Length: 52178, dtype: bool"
            ]
          },
          "metadata": {},
          "execution_count": 126
        }
      ]
    },
    {
      "cell_type": "code",
      "source": [
        "repeat_index.isin([98685]).any() == True"
      ],
      "metadata": {
        "colab": {
          "base_uri": "https://localhost:8080/"
        },
        "id": "C0UNovnBhMng",
        "outputId": "33b3fedc-4278-4c05-ff94-911634a73158"
      },
      "id": "C0UNovnBhMng",
      "execution_count": null,
      "outputs": [
        {
          "output_type": "execute_result",
          "data": {
            "text/plain": [
              "True"
            ]
          },
          "metadata": {},
          "execution_count": 127
        }
      ]
    },
    {
      "cell_type": "code",
      "source": [
        "# 재구매 시 True, 1회 구매시 False 인 column 생성\n",
        "def repeat_order_func(x) :      \n",
        "\n",
        "    if repeat_index.isin([x]).any()==True:\n",
        "        return True\n",
        "    else:\n",
        "        return False\n",
        "\n",
        "df['repeat_order'] = df['customer_id'].map(repeat_order_func)\n"
      ],
      "metadata": {
        "id": "bDvSSFivPfvS",
        "colab": {
          "base_uri": "https://localhost:8080/"
        },
        "outputId": "f03fc775-48cc-4a40-da57-0fdaeaf0ed15"
      },
      "id": "bDvSSFivPfvS",
      "execution_count": null,
      "outputs": [
        {
          "output_type": "stream",
          "name": "stderr",
          "text": [
            "/usr/local/lib/python3.7/dist-packages/ipykernel_launcher.py:9: SettingWithCopyWarning: \n",
            "A value is trying to be set on a copy of a slice from a DataFrame.\n",
            "Try using .loc[row_indexer,col_indexer] = value instead\n",
            "\n",
            "See the caveats in the documentation: https://pandas.pydata.org/pandas-docs/stable/user_guide/indexing.html#returning-a-view-versus-a-copy\n",
            "  if __name__ == '__main__':\n"
          ]
        }
      ]
    },
    {
      "cell_type": "code",
      "source": [
        "df['repeat_order'].value_counts()"
      ],
      "metadata": {
        "colab": {
          "base_uri": "https://localhost:8080/"
        },
        "id": "E5Qz7GmQfYM3",
        "outputId": "e193276a-5f17-47ad-f222-b9a9fd542d0f"
      },
      "id": "E5Qz7GmQfYM3",
      "execution_count": null,
      "outputs": [
        {
          "output_type": "execute_result",
          "data": {
            "text/plain": [
              "True     75517\n",
              "False    27416\n",
              "Name: repeat_order, dtype: int64"
            ]
          },
          "metadata": {},
          "execution_count": 171
        }
      ]
    },
    {
      "cell_type": "code",
      "source": [
        "# 재구매자만 있는 데이터프레임\n",
        "df_repeat_order = df[df.repeat_order.isin([True])]"
      ],
      "metadata": {
        "id": "0K2FLb-YsKHY"
      },
      "id": "0K2FLb-YsKHY",
      "execution_count": null,
      "outputs": []
    },
    {
      "cell_type": "code",
      "source": [
        "# 강의를 1회만 구매한 사람 비율\n",
        "re = df.customer_id.value_counts().loc[df.customer_id.value_counts() > 1]  \n",
        "\n",
        "len(re)/len(df.customer_id.value_counts()) * 100"
      ],
      "metadata": {
        "colab": {
          "base_uri": "https://localhost:8080/"
        },
        "id": "B54eX3ZdgB_n",
        "outputId": "164e8883-6eb3-40f0-dd59-1834f5d6db3d"
      },
      "id": "B54eX3ZdgB_n",
      "execution_count": null,
      "outputs": [
        {
          "output_type": "execute_result",
          "data": {
            "text/plain": [
              "47.46253210165204"
            ]
          },
          "metadata": {},
          "execution_count": 231
        }
      ]
    },
    {
      "cell_type": "markdown",
      "source": [
        "강의를 2회 이상 구매한 사람이 전체의 약47.5%"
      ],
      "metadata": {
        "id": "sIQcvT0-gWLS"
      },
      "id": "sIQcvT0-gWLS"
    },
    {
      "cell_type": "code",
      "source": [
        ""
      ],
      "metadata": {
        "id": "zyZD5pxW4l4l"
      },
      "id": "zyZD5pxW4l4l",
      "execution_count": null,
      "outputs": []
    },
    {
      "cell_type": "code",
      "source": [
        ""
      ],
      "metadata": {
        "id": "3JuMGjRI4l2b"
      },
      "id": "3JuMGjRI4l2b",
      "execution_count": null,
      "outputs": []
    },
    {
      "cell_type": "code",
      "source": [
        ""
      ],
      "metadata": {
        "id": "5Jvg6IFO4l0R"
      },
      "id": "5Jvg6IFO4l0R",
      "execution_count": null,
      "outputs": []
    },
    {
      "cell_type": "code",
      "source": [
        ""
      ],
      "metadata": {
        "id": "AeY2QBkn4lxz"
      },
      "id": "AeY2QBkn4lxz",
      "execution_count": null,
      "outputs": []
    },
    {
      "cell_type": "code",
      "source": [
        ""
      ],
      "metadata": {
        "id": "Ts55cOmb4lvX"
      },
      "id": "Ts55cOmb4lvX",
      "execution_count": null,
      "outputs": []
    }
  ],
  "metadata": {
    "kernelspec": {
      "display_name": "Python 3",
      "language": "python",
      "name": "python3"
    },
    "language_info": {
      "codemirror_mode": {
        "name": "ipython",
        "version": 3
      },
      "file_extension": ".py",
      "mimetype": "text/x-python",
      "name": "python",
      "nbconvert_exporter": "python",
      "pygments_lexer": "ipython3",
      "version": "3.8.8"
    },
    "toc": {
      "base_numbering": 1,
      "nav_menu": {},
      "number_sections": true,
      "sideBar": true,
      "skip_h1_title": false,
      "title_cell": "Table of Contents",
      "title_sidebar": "Contents",
      "toc_cell": false,
      "toc_position": {},
      "toc_section_display": true,
      "toc_window_display": false
    },
    "colab": {
      "name": "PUBG_Mini_PJT.ipynb",
      "provenance": [],
      "collapsed_sections": [
        "f3a595ee",
        "14bc6b5a",
        "iDEZyFFlivwT",
        "5OFRN-FVnHh9"
      ],
      "toc_visible": true,
      "include_colab_link": true
    }
  },
  "nbformat": 4,
  "nbformat_minor": 5
}