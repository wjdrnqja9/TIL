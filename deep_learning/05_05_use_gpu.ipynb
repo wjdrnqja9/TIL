{
  "cells": [
    {
      "cell_type": "markdown",
      "metadata": {
        "id": "view-in-github",
        "colab_type": "text"
      },
      "source": [
        "<a href=\"https://colab.research.google.com/github/wjdrnqja9/TIL/blob/main/deep_learning/05_05_use_gpu.ipynb\" target=\"_parent\"><img src=\"https://colab.research.google.com/assets/colab-badge.svg\" alt=\"Open In Colab\"/></a>"
      ]
    },
    {
      "cell_type": "markdown",
      "metadata": {
        "id": "yHuGafOkSHnG"
      },
      "source": [
        "# How to use GPU"
      ]
    },
    {
      "cell_type": "code",
      "execution_count": 1,
      "metadata": {
        "id": "tVHPkFJ5SHnK"
      },
      "outputs": [],
      "source": [
        "import torch\n",
        "import torch.nn as nn"
      ]
    },
    {
      "cell_type": "markdown",
      "metadata": {
        "id": "mLavVicJSHnM"
      },
      "source": [
        "## Convert to CUDA tensor: cuda()"
      ]
    },
    {
      "cell_type": "code",
      "execution_count": null,
      "metadata": {
        "id": "cQcLufU7SHnM"
      },
      "outputs": [],
      "source": [
        "x = torch.cuda.FloatTensor(2, 2)\n",
        "\n",
        "x"
      ]
    },
    {
      "cell_type": "code",
      "execution_count": null,
      "metadata": {
        "id": "QFeJ3IXhSHnN"
      },
      "outputs": [],
      "source": [
        "x = torch.FloatTensor(2, 2)\n",
        "\n",
        "x"
      ]
    },
    {
      "cell_type": "code",
      "execution_count": null,
      "metadata": {
        "id": "x64IAaKeSHnO",
        "outputId": "62b3f98a-048c-4199-8cc4-8df84297b44d"
      },
      "outputs": [
        {
          "data": {
            "text/plain": [
              "tensor([[-4.4256e-10,  4.5685e-41],\n",
              "        [-4.4256e-10,  4.5685e-41]], device='cuda:0')"
            ]
          },
          "execution_count": 4,
          "metadata": {},
          "output_type": "execute_result"
        }
      ],
      "source": [
        "x.cuda()"
      ]
    },
    {
      "cell_type": "code",
      "execution_count": null,
      "metadata": {
        "id": "AgaI9x34SHnO"
      },
      "outputs": [],
      "source": [
        "d = torch.device('cuda:0')"
      ]
    },
    {
      "cell_type": "code",
      "execution_count": null,
      "metadata": {
        "id": "i_wSxINnSHnP",
        "outputId": "7ce7bf20-3624-4356-f80a-6f97828da822"
      },
      "outputs": [
        {
          "data": {
            "text/plain": [
              "tensor([[-4.4256e-10,  4.5685e-41],\n",
              "        [-4.4256e-10,  4.5685e-41]], device='cuda:0')"
            ]
          },
          "execution_count": 6,
          "metadata": {},
          "output_type": "execute_result"
        }
      ],
      "source": [
        "x.cuda(device=d)"
      ]
    },
    {
      "cell_type": "code",
      "execution_count": null,
      "metadata": {
        "id": "j13ZVjhVSHnQ",
        "outputId": "e241338f-47cf-41e1-bf4a-57a7705eb2f1"
      },
      "outputs": [
        {
          "data": {
            "text/plain": [
              "device(type='cpu')"
            ]
          },
          "execution_count": 7,
          "metadata": {},
          "output_type": "execute_result"
        }
      ],
      "source": [
        "x.device"
      ]
    },
    {
      "cell_type": "markdown",
      "metadata": {
        "id": "DfQjzjhUSHnQ"
      },
      "source": [
        "## Convert to CUDA tensor: to()"
      ]
    },
    {
      "cell_type": "code",
      "execution_count": null,
      "metadata": {
        "id": "BFSQdyDjSHnR",
        "outputId": "d975970f-d12d-45fe-b265-8ea96c486ff7"
      },
      "outputs": [
        {
          "data": {
            "text/plain": [
              "tensor([[-4.4256e-10,  4.5685e-41],\n",
              "        [-4.4256e-10,  4.5685e-41]], device='cuda:0')"
            ]
          },
          "execution_count": 8,
          "metadata": {},
          "output_type": "execute_result"
        }
      ],
      "source": [
        "x.to(device=d)"
      ]
    },
    {
      "cell_type": "markdown",
      "metadata": {
        "id": "M_NuE9e8SHnR"
      },
      "source": [
        "## Convert to CPU tensor from CUDA tensor"
      ]
    },
    {
      "cell_type": "code",
      "execution_count": null,
      "metadata": {
        "id": "1NXF1mfrSHnS"
      },
      "outputs": [],
      "source": [
        "x = torch.cuda.FloatTensor(2, 2)"
      ]
    },
    {
      "cell_type": "code",
      "execution_count": null,
      "metadata": {
        "id": "QKBXL8T3SHnS"
      },
      "outputs": [],
      "source": [
        "x = x.cpu()"
      ]
    },
    {
      "cell_type": "code",
      "execution_count": null,
      "metadata": {
        "id": "AoP2dzq-SHnS"
      },
      "outputs": [],
      "source": [
        "d = torch.device('cpu')\n",
        "x = x.to(d)"
      ]
    },
    {
      "cell_type": "markdown",
      "metadata": {
        "id": "2_iS2woySHnS"
      },
      "source": [
        "## Move model from CPU to GPU."
      ]
    },
    {
      "cell_type": "code",
      "execution_count": null,
      "metadata": {
        "id": "VKXpOkE6SHnT"
      },
      "outputs": [],
      "source": [
        "def print_params(model):\n",
        "    for p in model.parameters():\n",
        "        print(p)"
      ]
    },
    {
      "cell_type": "code",
      "execution_count": null,
      "metadata": {
        "id": "7H5GwlyxSHnT",
        "outputId": "b9f6db85-6881-41b0-ba60-17a6ad36cd1b"
      },
      "outputs": [
        {
          "name": "stdout",
          "output_type": "stream",
          "text": [
            "Parameter containing:\n",
            "tensor([[ 0.5782,  0.4288],\n",
            "        [-0.0220, -0.1614]], requires_grad=True)\n",
            "Parameter containing:\n",
            "tensor([0.6881, 0.0907], requires_grad=True)\n"
          ]
        }
      ],
      "source": [
        "linear = nn.Linear(2, 2)\n",
        "\n",
        "print_params(linear)"
      ]
    },
    {
      "cell_type": "code",
      "execution_count": null,
      "metadata": {
        "id": "q1Q3LuybSHnT",
        "outputId": "38ce1844-8b2e-4eb2-9d55-4743289981d6"
      },
      "outputs": [
        {
          "name": "stdout",
          "output_type": "stream",
          "text": [
            "Parameter containing:\n",
            "tensor([[ 0.5782,  0.4288],\n",
            "        [-0.0220, -0.1614]], device='cuda:0', requires_grad=True)\n",
            "Parameter containing:\n",
            "tensor([0.6881, 0.0907], device='cuda:0', requires_grad=True)\n"
          ]
        }
      ],
      "source": [
        "linear = linear.cuda()\n",
        "\n",
        "print_params(linear)"
      ]
    },
    {
      "cell_type": "code",
      "execution_count": null,
      "metadata": {
        "id": "_7YxS9kGSHnU",
        "outputId": "2e319afe-71b0-4876-9e77-73531391ac8f"
      },
      "outputs": [
        {
          "name": "stdout",
          "output_type": "stream",
          "text": [
            "Parameter containing:\n",
            "tensor([[ 0.5782,  0.4288],\n",
            "        [-0.0220, -0.1614]], requires_grad=True)\n",
            "Parameter containing:\n",
            "tensor([0.6881, 0.0907], requires_grad=True)\n"
          ]
        }
      ],
      "source": [
        "linear = linear.cpu()\n",
        "\n",
        "print_params(linear)"
      ]
    },
    {
      "cell_type": "code",
      "execution_count": null,
      "metadata": {
        "id": "i8pXsfo9SHnU",
        "outputId": "ffbc37bd-c32e-4f77-b9dc-440bd465b672"
      },
      "outputs": [
        {
          "name": "stdout",
          "output_type": "stream",
          "text": [
            "Parameter containing:\n",
            "tensor([[ 0.5782,  0.4288],\n",
            "        [-0.0220, -0.1614]], device='cuda:0', requires_grad=True)\n",
            "Parameter containing:\n",
            "tensor([0.6881, 0.0907], device='cuda:0', requires_grad=True)\n"
          ]
        }
      ],
      "source": [
        "d = torch.device('cuda:0')\n",
        "linear = linear.to(d)\n",
        "\n",
        "print_params(linear)"
      ]
    },
    {
      "cell_type": "markdown",
      "metadata": {
        "id": "eZMG5mMCSHnV"
      },
      "source": [
        "Note that nn.Module class does not have 'device' property."
      ]
    },
    {
      "cell_type": "code",
      "execution_count": null,
      "metadata": {
        "id": "AuAdbcRiSHnV",
        "outputId": "4f4483d7-4605-4d87-ee14-5cdfa301cf42"
      },
      "outputs": [
        {
          "ename": "AttributeError",
          "evalue": "'Linear' object has no attribute 'device'",
          "output_type": "error",
          "traceback": [
            "\u001b[0;31m---------------------------------------------------------------------------\u001b[0m",
            "\u001b[0;31mAttributeError\u001b[0m                            Traceback (most recent call last)",
            "\u001b[0;32m<ipython-input-17-f2307db754f8>\u001b[0m in \u001b[0;36m<module>\u001b[0;34m\u001b[0m\n\u001b[0;32m----> 1\u001b[0;31m \u001b[0mlinear\u001b[0m\u001b[0;34m.\u001b[0m\u001b[0mdevice\u001b[0m\u001b[0;34m\u001b[0m\u001b[0m\n\u001b[0m",
            "\u001b[0;32m~/anaconda3/lib/python3.6/site-packages/torch/nn/modules/module.py\u001b[0m in \u001b[0;36m__getattr__\u001b[0;34m(self, name)\u001b[0m\n\u001b[1;32m    574\u001b[0m                 \u001b[0;32mreturn\u001b[0m \u001b[0mmodules\u001b[0m\u001b[0;34m[\u001b[0m\u001b[0mname\u001b[0m\u001b[0;34m]\u001b[0m\u001b[0;34m\u001b[0m\u001b[0m\n\u001b[1;32m    575\u001b[0m         raise AttributeError(\"'{}' object has no attribute '{}'\".format(\n\u001b[0;32m--> 576\u001b[0;31m             type(self).__name__, name))\n\u001b[0m\u001b[1;32m    577\u001b[0m \u001b[0;34m\u001b[0m\u001b[0m\n\u001b[1;32m    578\u001b[0m     \u001b[0;32mdef\u001b[0m \u001b[0m__setattr__\u001b[0m\u001b[0;34m(\u001b[0m\u001b[0mself\u001b[0m\u001b[0;34m,\u001b[0m \u001b[0mname\u001b[0m\u001b[0;34m,\u001b[0m \u001b[0mvalue\u001b[0m\u001b[0;34m)\u001b[0m\u001b[0;34m:\u001b[0m\u001b[0;34m\u001b[0m\u001b[0m\n",
            "\u001b[0;31mAttributeError\u001b[0m: 'Linear' object has no attribute 'device'"
          ]
        }
      ],
      "source": [
        "linear.device"
      ]
    },
    {
      "cell_type": "markdown",
      "metadata": {
        "id": "qAM7LRoNSHnV"
      },
      "source": [
        "## Tricks"
      ]
    },
    {
      "cell_type": "code",
      "execution_count": null,
      "metadata": {
        "id": "tgUJBjfPSHnW"
      },
      "outputs": [],
      "source": [
        "x = torch.cuda.FloatTensor(2, 2)"
      ]
    },
    {
      "cell_type": "code",
      "execution_count": null,
      "metadata": {
        "id": "urnDnXBVSHnW",
        "outputId": "62bad589-033e-40cc-b600-ee0e31754a95"
      },
      "outputs": [
        {
          "data": {
            "text/plain": [
              "tensor([[2.3694e-38, 1.2422e-01],\n",
              "        [1.4013e-45, 0.0000e+00]], device='cuda:0')"
            ]
          },
          "execution_count": 19,
          "metadata": {},
          "output_type": "execute_result"
        }
      ],
      "source": [
        "x.new(2, 2)"
      ]
    },
    {
      "cell_type": "code",
      "execution_count": null,
      "metadata": {
        "id": "1qSzdn-RSHnW",
        "outputId": "52465713-d0cc-4672-ba6d-24d16e882100"
      },
      "outputs": [
        {
          "data": {
            "text/plain": [
              "tensor([[0., 0.],\n",
              "        [0., 0.]], device='cuda:0')"
            ]
          },
          "execution_count": 20,
          "metadata": {},
          "output_type": "execute_result"
        }
      ],
      "source": [
        "torch.zeros_like(x)"
      ]
    },
    {
      "cell_type": "code",
      "execution_count": null,
      "metadata": {
        "id": "NbRccO2NSHnW",
        "outputId": "8dff6fc0-213b-4a21-a6e6-79456039668c"
      },
      "outputs": [
        {
          "data": {
            "text/plain": [
              "tensor([[1., 1.],\n",
              "        [1., 1.]], device='cuda:0')"
            ]
          },
          "execution_count": 21,
          "metadata": {},
          "output_type": "execute_result"
        }
      ],
      "source": [
        "torch.ones_like(x)"
      ]
    },
    {
      "cell_type": "code",
      "execution_count": null,
      "metadata": {
        "id": "JLwnjp0aSHnW",
        "outputId": "2b7aca08-b65c-41ab-c577-4489af037213"
      },
      "outputs": [
        {
          "data": {
            "text/plain": [
              "tensor([[1., 1.],\n",
              "        [1., 1.]], device='cuda:0')"
            ]
          },
          "execution_count": 22,
          "metadata": {},
          "output_type": "execute_result"
        }
      ],
      "source": [
        "list(linear.parameters())[0].new(2, 2)"
      ]
    },
    {
      "cell_type": "code",
      "execution_count": null,
      "metadata": {
        "id": "HbLJ9OVkSHnX"
      },
      "outputs": [],
      "source": [
        ""
      ]
    }
  ],
  "metadata": {
    "kernelspec": {
      "display_name": "Python 3",
      "language": "python",
      "name": "python3"
    },
    "language_info": {
      "codemirror_mode": {
        "name": "ipython",
        "version": 3
      },
      "file_extension": ".py",
      "mimetype": "text/x-python",
      "name": "python",
      "nbconvert_exporter": "python",
      "pygments_lexer": "ipython3",
      "version": "3.7.6"
    },
    "colab": {
      "name": "05-05-use_gpu.ipynb",
      "provenance": [],
      "include_colab_link": true
    }
  },
  "nbformat": 4,
  "nbformat_minor": 0
}